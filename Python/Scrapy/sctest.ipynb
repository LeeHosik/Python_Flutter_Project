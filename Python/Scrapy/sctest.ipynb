{
 "cells": [
  {
   "cell_type": "code",
   "execution_count": 10,
   "metadata": {},
   "outputs": [],
   "source": [
    "from bs4 import BeautifulSoup\n",
    "import urllib.request as req\n",
    "from urllib import parse\n",
    "from flask import Flask, jsonify, request, render_template\n",
    "import joblib"
   ]
  },
  {
   "cell_type": "code",
   "execution_count": 10,
   "metadata": {},
   "outputs": [],
   "source": [
    "def news():\n",
    "    url = 'http://www.ccnnews.co.kr/news/articleList.html?view_type=sm'\n",
    "    cungAllNewsurl = 'http://www.ccnnews.co.kr'\n",
    "    res = req.urlopen(url)\n",
    "    soup = BeautifulSoup(res, \"html.parser\")\n",
    "    links = soup.select(\".list-titles a\")\n",
    "\n",
    "    newstitles = []\n",
    "    newsLinks = []\n",
    "    errorList = []\n",
    "    setJSONList = []\n",
    "    i = 0\n",
    "    for link in links:\n",
    "        try:  \n",
    "            newstitles.append(link.text)\n",
    "            newsLinks.append(cungAllNewsurl+link.attrs['href'])\n",
    "        except: errorList.append(f'Error number : {str(link)} newsTitle :{link.text}')\n",
    "        else:\n",
    "            setJSONList.append({newstitles[i]:newsLinks[i]})\n",
    "            i += 1\n",
    "\n",
    "    # return jsonify({\n",
    "        # 'result' : setJSONList\n",
    "    return setJSONList\n",
    "    "
   ]
  },
  {
   "cell_type": "code",
   "execution_count": 11,
   "metadata": {},
   "outputs": [
    {
     "data": {
      "text/plain": [
       "[{\"부여군, 남면‧초촌면 기초생활거점 조성사업 추진 ‘시동'\": 'http://www.ccnnews.co.kr/news/articleView.html?idxno=286391'},\n",
       " {'(사)금산군기업인협회, 제2대 신상오 회장 취임': 'http://www.ccnnews.co.kr/news/articleView.html?idxno=286390'},\n",
       " {'계룡시, 관광자원 활용한 공정여행 프로그램 운영': 'http://www.ccnnews.co.kr/news/articleView.html?idxno=286388'},\n",
       " {'홍성군, 서해 KTX 시대 맞이 신바람 관광택시 ‘시동’': 'http://www.ccnnews.co.kr/news/articleView.html?idxno=286389'},\n",
       " {'서천군, 청년 구직 지원에 1억 5000만원 투입': 'http://www.ccnnews.co.kr/news/articleView.html?idxno=286387'},\n",
       " {'예산군, ‘2022년 하반기 적극행정 우수사례’ 군민투표 실시': 'http://www.ccnnews.co.kr/news/articleView.html?idxno=286386'},\n",
       " {'안전한 관광지 예산군, 숙박시설 불공정 행위 집중 점검': 'http://www.ccnnews.co.kr/news/articleView.html?idxno=286384'},\n",
       " {'태안군, ‘응급처치 안전 교육’ 큰 호응': 'http://www.ccnnews.co.kr/news/articleView.html?idxno=286383'},\n",
       " {'태안군, 3월 2일부터 ‘기본형 공익직불금’ 신청 접수': 'http://www.ccnnews.co.kr/news/articleView.html?idxno=286382'},\n",
       " {'태안군, 상반기 ‘혁신대학’ 운영 돌입': 'http://www.ccnnews.co.kr/news/articleView.html?idxno=286381'},\n",
       " {'가세로 태안군수, 27일 ‘후계농업경영인 및 여성농업인 군 연합회장 이·취임식’ 참석': 'http://www.ccnnews.co.kr/news/articleView.html?idxno=286380'},\n",
       " {'한국타이어 ‘아이온(iON)’, 포뮬러 E ‘2023 케이프타운 E-PRIX’ 대회 예열 마쳐': 'http://www.ccnnews.co.kr/news/articleView.html?idxno=286379'},\n",
       " {\"충남대학교병원·㈜드림씨아이에스, 바이오헬스케어사업 활성화 '맞손'\": 'http://www.ccnnews.co.kr/news/articleView.html?idxno=286378'},\n",
       " {'예산군, 서울역 예가정성 브랜드 홍보 판매점 개점': 'http://www.ccnnews.co.kr/news/articleView.html?idxno=286376'},\n",
       " {\"오성환 당진시장,\\xa027일 '3월 통합공유회의 주재'\": 'http://www.ccnnews.co.kr/news/articleView.html?idxno=286375'},\n",
       " {'대전평생학습관, 문화예술공연 참가 단체 공모': 'http://www.ccnnews.co.kr/news/articleView.html?idxno=286373'},\n",
       " {'대전교육청, ‘위(Wee)센터 정신과 자문의’ 운영': 'http://www.ccnnews.co.kr/news/articleView.html?idxno=286371'},\n",
       " {'KAIST, 퓨처모빌리티 기술교류회': 'http://www.ccnnews.co.kr/news/articleView.html?idxno=286370'},\n",
       " {\"'22년 전 국민은행 강도살인' 이승만·이정학 모두 항소\": 'http://www.ccnnews.co.kr/news/articleView.html?idxno=286367'},\n",
       " {'서산문화복지센터 청소년동아리, 기부천사들의 활약': 'http://www.ccnnews.co.kr/news/articleView.html?idxno=286366'},\n",
       " {'': 'http://www.ccnnews.co.kr'}]"
      ]
     },
     "execution_count": 11,
     "metadata": {},
     "output_type": "execute_result"
    }
   ],
   "source": [
    "news()"
   ]
  },
  {
   "cell_type": "code",
   "execution_count": null,
   "metadata": {},
   "outputs": [],
   "source": [
    "# http://www.kwnews.co.kr/search?search=%EC%9D%98%EC%9B%90"
   ]
  },
  {
   "cell_type": "code",
   "execution_count": null,
   "metadata": {},
   "outputs": [],
   "source": [
    "def news():\n",
    "    url = 'http://www.kwnews.co.kr/search?search='\n",
    "    searchValue = ''\n",
    "    cungAllNewsurl = 'http://www.ccnnews.co.kr'\n",
    "    res = req.urlopen(url)\n",
    "    soup = BeautifulSoup(res, \"html.parser\")\n",
    "    links = soup.select(\".list-titles a\")\n",
    "\n",
    "    newstitles = []\n",
    "    newsLinks = []\n",
    "    errorList = []\n",
    "    setJSONList = []\n",
    "    i = 0\n",
    "    for link in links:\n",
    "        try:  \n",
    "            newstitles.append(link.text)\n",
    "            newsLinks.append(cungAllNewsurl+link.attrs['href'])\n",
    "        except: errorList.append(f'Error number : {str(link)} newsTitle :{link.text}')\n",
    "        else:\n",
    "            setJSONList.append({newstitles[i]:newsLinks[i]})\n",
    "            i += 1\n",
    "\n",
    "    # return jsonify({\n",
    "        # 'result' : setJSONList\n",
    "    return setJSONList\n",
    "    "
   ]
  },
  {
   "cell_type": "code",
   "execution_count": 42,
   "metadata": {},
   "outputs": [],
   "source": [
    "# 죤나 신기하게 검색하면 나오는 부분이 나오지 않음 ㅡㅡ \n",
    "\n",
    "\n",
    "# def news(str):\n",
    "#     url = 'http://www.kwnews.co.kr/search?search='\n",
    "#     originURL = 'http://www.kwnews.co.kr/'\n",
    "#     searchValue = str\n",
    "#     search = url+parse.quote(url+searchValue)\n",
    "#     # searchValue = '의원'\n",
    "#     res = req.urlopen(search)\n",
    "#     # soup = BeautifulSoup(req.content.decode('euc-kr', 'replace'), 'html.parser')\n",
    "#     soup = BeautifulSoup(res, \"html.parser\")\n",
    "\n",
    "#     links = soup.select(\".search_list .title a\")\n",
    "\n",
    "#     newstitles = []\n",
    "#     newsLinks = []\n",
    "#     errorList = []\n",
    "#     setJSONList = []\n",
    "#     i = 0\n",
    "#     for link in links:\n",
    "#         try:  \n",
    "#             newstitles.append(link.text)\n",
    "#             print(link.text)\n",
    "#             newsLinks.append(originURL+link.attrs['href'])\n",
    "#         except: errorList.append(f'Error number : {str(link)} newsTitle :{link.text}')\n",
    "#         else:\n",
    "#             setJSONList.append({newstitles[i]:newsLinks[i]})\n",
    "#             i += 1\n",
    "\n",
    "#     # return jsonify({\n",
    "#         # 'result' : setJSONList\n",
    "#     return setJSONList  \n"
   ]
  },
  {
   "cell_type": "code",
   "execution_count": 217,
   "metadata": {},
   "outputs": [
    {
     "name": "stdout",
     "output_type": "stream",
     "text": [
      "<div class=\"arl_008_list\">\n",
      "<ul id=\"search_list\">\n",
      "</ul>\n",
      "</div>\n"
     ]
    }
   ],
   "source": [
    "url = 'http://www.kwnews.co.kr/search?search='\n",
    "originURL = 'http://www.kwnews.co.kr/'\n",
    "searchValue = '의원'\n",
    "search = url+parse.quote(searchValue)\n",
    "# searchValue = '의원'\n",
    "res = req.urlopen(search)\n",
    "# soup = BeautifulSoup(req.content.decode('euc-kr', 'replace'), 'html.parser')\n",
    "soup = BeautifulSoup(res, \"html.parser\")\n",
    "# links = soup.select(\"ul#search_list li\")\n",
    "# links = soup.select(\".section.pr10 .arl_008_list\")\n",
    "# links = soup.select(\".arl_008_list\")\n",
    "# links2 = soup.select(\".box\")\n",
    "\n",
    "# links = soup.select(' .title')\n",
    "links = soup.select('div.arl_008_list')\n",
    "# links = soup.select('#container > div.inner > div.section > div > div > div.list_search_true > div.arl_008_list')\n",
    "\n",
    "# links2 = soup.find('div', id = 'search_list')\n",
    "# links1 = links2.select('.title a')\n",
    "# links1 = links2.select('a')\n",
    "# links = soup.select(\".search_list .title a\")\n",
    "\n",
    "for link in links:\n",
    "    print(link)\n",
    "# links\n",
    "# print(links)\n"
   ]
  },
  {
   "cell_type": "code",
   "execution_count": 272,
   "metadata": {},
   "outputs": [
    {
     "data": {
      "text/plain": [
       "<!DOCTYPE html>\n",
       "\n",
       "<html data-n-head=\"%7B%22lang%22:%7B%22ssr%22:%22ko%22%7D%7D\" data-n-head-ssr=\"\" lang=\"ko\">\n",
       "<head>\n",
       "<title>뉴스 | 카카오</title><meta charset=\"utf-8\" data-n-head=\"ssr\"/><meta content=\"user-scalable=no, width=device-width, height=device-height, initial-scale=1, maximum-scale=1, minimum-scale=1.0, viewport-fit=cover\" data-n-head=\"ssr\" name=\"viewport\"/><meta content=\"website\" data-n-head=\"ssr\" property=\"og:type\"/><meta content=\"kakaocorp.com\" data-n-head=\"ssr\" property=\"og:site_name\"/><meta content=\"//www.kakaocorp.com/page\" data-hid=\"url\" data-n-head=\"ssr\" property=\"og:url\"/><meta content=\"Kakao\" data-hid=\"title\" data-n-head=\"ssr\" property=\"og:title\"/><meta content=\"//t1.kakaocdn.net/kakaocorp/corp_thumbnail/Kakao.png\" data-hid=\"image\" data-n-head=\"ssr\" property=\"og:image\"/><meta content=\"//t1.kakaocdn.net/kakaocorp/corp_thumbnail/Kakao.png\" data-hid=\"twitter\" data-n-head=\"ssr\" name=\"twitter:image\"/><meta content=\"978574773c25b7ebacf3d4fb8308cba807def903\" data-n-head=\"ssr\" name=\"naver-site-verification\"/><meta content=\"1Xzj4wSdrqlorYybls1auuS_QH004opxKRrxvF7vAho\" data-n-head=\"ssr\" name=\"google-site-verification\"/><meta content=\"카카오의 최신 소식을 한눈에 살펴보세요.\" data-hid=\"og:description\" data-n-head=\"ssr\" property=\"og:description\"/><meta content=\"카카오의 최신 소식을 한눈에 살펴보세요.\" data-hid=\"description\" data-n-head=\"ssr\" name=\"description\"/><base href=\"/page/\"/><link data-n-head=\"ssr\" href=\"/page/favicon.ico\" rel=\"icon\" type=\"image/x-icon\"/><script data-n-head=\"ssr\" src=\"//developers.kakao.com/sdk/js/kakao.min.js\" type=\"text/javascript\"></script><script data-n-head=\"ssr\" src=\"//t1.daumcdn.net/tiara/js/v1/tiara.min.js\" type=\"text/javascript\"></script><link as=\"script\" href=\"/page/_nuxt/1db3e60.js\" rel=\"preload\"/><link as=\"script\" href=\"/page/_nuxt/2cd62ab.js\" rel=\"preload\"/><link as=\"style\" href=\"/page/_nuxt/css/1d5d41d.css\" rel=\"preload\"/><link as=\"script\" href=\"/page/_nuxt/3bb0f4a.js\" rel=\"preload\"/><link as=\"script\" href=\"/page/_nuxt/ecb6745.js\" rel=\"preload\"/><link href=\"/page/_nuxt/css/1d5d41d.css\" rel=\"stylesheet\"/>\n",
       "</head>\n",
       "<body class=\"light mo open_search\" data-n-head=\"%7B%22class%22:%7B%22ssr%22:%5B%22light%22,%22mo%22,%22%22,%22open_search%22%5D%7D%7D\">\n",
       "<noscript data-n-head=\"ssr\" data-pbody=\"true\">이 페이지를 실행하려면 자바스크립트를 사용해야 합니다.</noscript><div data-server-rendered=\"true\" id=\"__nuxt\"><div id=\"__layout\"><div data-v-094f6898=\"\"><div aria-hidden=\"true\" class=\"direct-link\" data-v-094f6898=\"\"><a data-v-094f6898=\"\" href=\"#mainContent\">본문 바로가기</a> <a data-v-094f6898=\"\" href=\"#gnbContent\">메뉴 바로가기</a></div> <div class=\"container-doc\" data-v-094f6898=\"\" style=\"visibility:hidden;\"><header aria-hidden=\"true\" class=\"doc-header head_type2\" data-v-094f6898=\"\" data-v-34f599a8=\"\"><div class=\"wrap_header\" data-v-34f599a8=\"\"><h1 class=\"doc-title\" data-v-34f599a8=\"\"><a data-v-34f599a8=\"\" href=\"/page\"><span class=\"screen_out\" data-v-34f599a8=\"\">KaKao</span><!-- --></a></h1> <!-- --> <!-- --></div> <div aria-hidden=\"true\" class=\"area_gnb\" data-v-34f599a8=\"\"><div class=\"inner_gnb\" data-v-34f599a8=\"\"><strong class=\"gnb_logo\" data-v-34f599a8=\"\"><a data-v-34f599a8=\"\" href=\"/page\"><span class=\"screen_out\" data-v-34f599a8=\"\">KaKao</span><!-- --></a></strong> <nav class=\"doc-gnb\" data-v-34f599a8=\"\" id=\"gnbContent\"><h2 class=\"screen_out\" data-v-34f599a8=\"\">메인메뉴</h2> <ul class=\"list_gnb\" data-v-34f599a8=\"\"><li data-v-34f599a8=\"\"><a aria-expanded=\"false\" data-v-34f599a8=\"\" href=\"javascript;\" role=\"button\"><!-- --> <span data-v-34f599a8=\"\">카카오</span></a> <ul class=\"list_sub\" data-v-34f599a8=\"\" role=\"list\" style=\"display:none;\"><li data-v-34f599a8=\"\" role=\"listitem\"><a data-v-34f599a8=\"\" href=\"/page/kakao/kakaoCulture\">\n",
       "                    카카오 문화\n",
       "                  </a></li><li data-v-34f599a8=\"\" role=\"listitem\"><a data-v-34f599a8=\"\" href=\"/page/kakao/subsidiaryCompany\">\n",
       "                    공동체\n",
       "                  </a></li><li data-v-34f599a8=\"\" role=\"listitem\"><a data-v-34f599a8=\"\" href=\"/page/kakao/history\">\n",
       "                    히스토리\n",
       "                  </a></li></ul></li><li data-v-34f599a8=\"\"><a class=\"link_direct\" data-v-34f599a8=\"\" href=\"/page/news\"><!-- --> <span data-v-34f599a8=\"\">뉴스</span></a> <!-- --></li><li data-v-34f599a8=\"\"><a aria-expanded=\"false\" data-v-34f599a8=\"\" href=\"javascript;\" role=\"button\"><!-- --> <span data-v-34f599a8=\"\">기술과 서비스</span></a> <ul class=\"list_sub\" data-v-34f599a8=\"\" role=\"list\" style=\"display:none;\"><li data-v-34f599a8=\"\" role=\"listitem\"><a data-v-34f599a8=\"\" href=\"/page/service/tech\">\n",
       "                    기술\n",
       "                  </a></li><li data-v-34f599a8=\"\" role=\"listitem\"><a data-v-34f599a8=\"\" href=\"/page/service/service\">\n",
       "                    서비스\n",
       "                  </a></li></ul></li><li data-v-34f599a8=\"\"><a aria-expanded=\"false\" data-v-34f599a8=\"\" href=\"javascript;\" role=\"button\"><!-- --> <span data-v-34f599a8=\"\">약속과 책임</span></a> <ul class=\"list_sub\" data-v-34f599a8=\"\" role=\"list\" style=\"display:none;\"><li data-v-34f599a8=\"\" role=\"listitem\"><a data-v-34f599a8=\"\" href=\"/page/responsible/esg\">\n",
       "                    ESG\n",
       "                  </a></li><li data-v-34f599a8=\"\" role=\"listitem\"><a data-v-34f599a8=\"\" href=\"/page/responsible/social\">\n",
       "                    소셜임팩트\n",
       "                  </a></li><li data-v-34f599a8=\"\" role=\"listitem\"><a data-v-34f599a8=\"\" href=\"/page/responsible/digital\">\n",
       "                    디지털 권리\n",
       "                  </a></li><li data-v-34f599a8=\"\" role=\"listitem\"><a data-v-34f599a8=\"\" href=\"/page/responsible/aiEthics\">\n",
       "                    AI 윤리\n",
       "                  </a></li></ul></li></ul></nav> <div class=\"group_relation\" data-v-34f599a8=\"\"><ul class=\"list_relation\" data-v-34f599a8=\"\"><li data-v-34f599a8=\"\"><a data-v-34f599a8=\"\" href=\"/ir/main\" target=\"_blank\">투자정보</a></li><li data-v-34f599a8=\"\"><a data-v-34f599a8=\"\" href=\"https://careers.kakao.com/index\" target=\"_blank\">인재영입</a></li><li data-v-34f599a8=\"\"><a aria-expanded=\"false\" data-v-34f599a8=\"\" href=\"javascript;\" role=\"button\">\n",
       "                고객센터<!-- --></a> <ul class=\"list_subinfo\" data-v-34f599a8=\"\"><li data-v-34f599a8=\"\"><a data-v-34f599a8=\"\" href=\"https://cs.kakao.com/\" target=\"_blank\"><div class=\"wrap_info\" data-v-34f599a8=\"\" role=\"text\"><span data-v-34f599a8=\"\">카카오 고객센터</span><!-- --></div></a></li><li data-v-34f599a8=\"\"><a data-v-34f599a8=\"\" href=\"https://cs.daum.net/\" target=\"_blank\"><div class=\"wrap_info\" data-v-34f599a8=\"\" role=\"text\"><span data-v-34f599a8=\"\">Daum 고객센터</span><!-- --></div></a></li><li data-v-34f599a8=\"\"><a data-v-34f599a8=\"\" href=\"https://faqs2.melon.com/customer/index.htm\" target=\"_blank\"><div class=\"wrap_info\" data-v-34f599a8=\"\" role=\"text\"><span data-v-34f599a8=\"\">멜론 고객센터</span><!-- --></div></a></li></ul></li></ul> <div class=\"wrap_util\" data-v-34f599a8=\"\"><button class=\"btn_mode\" data-tiara-action-name=\"click_darkmode\" data-v-34f599a8=\"\" type=\"button\"><span data-v-34f599a8=\"\"><span class=\"screen_out\" data-v-34f599a8=\"\">다크모드로 변경하기</span> <!-- --></span></button> <button class=\"btn_language\" data-tiara-action-name=\"click_language_en\" data-v-34f599a8=\"\" type=\"button\"><span data-v-34f599a8=\"\"><span class=\"screen_out\" data-v-34f599a8=\"\">영어로 보기</span> <!-- --></span></button></div></div> <button class=\"btn_close\" data-v-34f599a8=\"\" style=\"display:none;\" type=\"button\"><span class=\"screen_out\" data-v-34f599a8=\"\">메인 메뉴 닫기</span> <!-- --></button></div></div></header> <main aria-hidden=\"true\" class=\"doc-main\" data-v-094f6898=\"\"><section class=\"inner-main\" data-v-094f6898=\"\" data-v-0dd782c4=\"\" id=\"mainContent\"><h2 class=\"screen_out\" data-v-0dd782c4=\"\">뉴스 본문</h2> <section class=\"content-feature\" data-v-0dd782c4=\"\" data-v-6eab4886=\"\" style=\"display:none;\"><div class=\"inner_path\" data-v-6eab4886=\"\"><h3 class=\"screen_out\" data-v-6eab4886=\"\">현재 페이지 위치</h3> <div class=\"wrap_tit\" data-v-6eab4886=\"\"><!-- --> <strong class=\"tit_path\" data-v-6eab4886=\"\"></strong></div> <!-- --></div></section> <div class=\"main-content\" data-v-0dd782c4=\"\"><article class=\"content-article\" data-v-0dd782c4=\"\"><h3 class=\"tit_main\" data-v-0dd782c4=\"\"><em class=\"emph_tit\" data-v-0dd782c4=\"\">뉴스</em><span class=\"txt_tit\" data-v-0dd782c4=\"\">가장 빠른 카카오 새소식 업데이트</span></h3> <div class=\"feature_card feature_empty\" data-v-0dd782c4=\"\"><!-- --></div> <div class=\"feature_card feature_mo feature_empty\" data-v-0dd782c4=\"\"><!-- --></div> <section class=\"section_social\" data-v-0dd782c4=\"\"><h4 class=\"tit_sub\" data-v-0dd782c4=\"\" id=\"titNews\">\n",
       "          뉴스 아카이브\n",
       "        </h4> <!-- --> <ul aria-labelledby=\"tabNews1\" class=\"list_card list_card_type2\" data-v-0dd782c4=\"\" id=\"tabNewsContent1\" role=\"tabpanel\"></ul> <!-- --></section> <a class=\"link_top\" data-v-0dd782c4=\"\" data-v-1c5f090a=\"\" href=\"javascript;\"><span data-v-1c5f090a=\"\" role=\"text\"><span class=\"screen_out\" data-v-1c5f090a=\"\">맨 위로 이동</span> <!-- --></span></a></article></div> <span class=\"dimmed_block\" data-v-0dd782c4=\"\" data-v-448164c2=\"\"></span></section></main> <footer aria-hidden=\"true\" class=\"doc-footer\" data-v-094f6898=\"\" data-v-15aff456=\"\"><div class=\"inner_footer\" data-v-15aff456=\"\"><section class=\"section_service\" data-v-15aff456=\"\"><h2 class=\"screen_out\" data-v-15aff456=\"\">하단 메뉴</h2> <div class=\"warp_service\" data-v-15aff456=\"\"><strong class=\"tit_service\" data-v-15aff456=\"\"><a aria-expanded=\"false\" data-v-15aff456=\"\" href=\"javascript;\" role=\"button\">\n",
       "            카카오<!-- --></a></strong> <ul class=\"list_service\" data-v-15aff456=\"\" role=\"list\"><li data-v-15aff456=\"\" role=\"listitem\"><a data-v-15aff456=\"\" href=\"/page/kakao/kakaoCulture\"><span data-v-15aff456=\"\" role=\"text\">카카오 문화</span></a></li><li data-v-15aff456=\"\" role=\"listitem\"><a data-v-15aff456=\"\" href=\"/page/kakao/subsidiaryCompany\"><span data-v-15aff456=\"\" role=\"text\">공동체</span></a></li><li data-v-15aff456=\"\" role=\"listitem\"><a data-v-15aff456=\"\" href=\"/page/kakao/history\"><span data-v-15aff456=\"\" role=\"text\">히스토리</span></a></li></ul></div><div class=\"warp_service wrap_news\" data-v-15aff456=\"\"><strong class=\"tit_service\" data-v-15aff456=\"\"><a data-v-15aff456=\"\" href=\"/page/news\"><span data-v-15aff456=\"\" role=\"text\">\n",
       "              뉴스<!-- --></span></a></strong> <!-- --></div><div class=\"warp_service\" data-v-15aff456=\"\"><strong class=\"tit_service\" data-v-15aff456=\"\"><a aria-expanded=\"false\" data-v-15aff456=\"\" href=\"javascript;\" role=\"button\">\n",
       "            기술과 서비스<!-- --></a></strong> <ul class=\"list_service\" data-v-15aff456=\"\" role=\"list\"><li data-v-15aff456=\"\" role=\"listitem\"><a data-v-15aff456=\"\" href=\"/page/service/tech\"><span data-v-15aff456=\"\" role=\"text\">기술</span></a></li><li data-v-15aff456=\"\" role=\"listitem\"><a data-v-15aff456=\"\" href=\"/page/service/service\"><span data-v-15aff456=\"\" role=\"text\">서비스</span></a></li></ul></div><div class=\"warp_service\" data-v-15aff456=\"\"><strong class=\"tit_service\" data-v-15aff456=\"\"><a aria-expanded=\"false\" data-v-15aff456=\"\" href=\"javascript;\" role=\"button\">\n",
       "            약속과 책임<!-- --></a></strong> <ul class=\"list_service\" data-v-15aff456=\"\" role=\"list\"><li data-v-15aff456=\"\" role=\"listitem\"><a data-v-15aff456=\"\" href=\"/page/responsible/esg\"><span data-v-15aff456=\"\" role=\"text\">ESG</span></a></li><li data-v-15aff456=\"\" role=\"listitem\"><a data-v-15aff456=\"\" href=\"/page/responsible/social\"><span data-v-15aff456=\"\" role=\"text\">소셜임팩트</span></a></li><li data-v-15aff456=\"\" role=\"listitem\"><a data-v-15aff456=\"\" href=\"/page/responsible/digital\"><span data-v-15aff456=\"\" role=\"text\">디지털 권리</span></a></li><li data-v-15aff456=\"\" role=\"listitem\"><a data-v-15aff456=\"\" href=\"/page/responsible/aiEthics\"><span data-v-15aff456=\"\" role=\"text\">AI 윤리</span></a></li></ul></div> <div class=\"warp_service\" data-v-15aff456=\"\"><strong class=\"tit_service\" data-v-15aff456=\"\"><a aria-expanded=\"false\" data-v-15aff456=\"\" href=\"javascript;\" role=\"button\">\n",
       "            투자정보<!-- --></a></strong> <ul class=\"list_service\" data-v-15aff456=\"\" role=\"list\"><li data-v-15aff456=\"\" role=\"listitem\"><a data-tiara-action-name=\"M_IR01\" data-tiara-layer=\"M_IR01\" data-v-15aff456=\"\" href=\"/ir/managementInformation/shareholderComposition\" target=\"_blank\"><span data-v-15aff456=\"\" role=\"text\">기업지배구조</span></a></li><li data-v-15aff456=\"\" role=\"listitem\"><a data-tiara-action-name=\"M_IR02\" data-tiara-layer=\"M_IR02\" data-v-15aff456=\"\" href=\"/ir/stockInformation\" target=\"_blank\"><span data-v-15aff456=\"\" role=\"text\">주가정보</span></a></li><li data-v-15aff456=\"\" role=\"listitem\"><a data-tiara-action-name=\"M_IR03\" data-tiara-layer=\"M_IR03\" data-v-15aff456=\"\" href=\"/ir/financialInformation/consolidatedFinancialStatements\" target=\"_blank\"><span data-v-15aff456=\"\" role=\"text\">재무정보</span></a></li><li data-v-15aff456=\"\" role=\"listitem\"><a data-tiara-action-name=\"M_IR04\" data-tiara-layer=\"M_IR04\" data-v-15aff456=\"\" href=\"/ir/referenceRoom/earningsAnnouncement\" target=\"_blank\"><span data-v-15aff456=\"\" role=\"text\">IR행사</span></a></li><li data-v-15aff456=\"\" role=\"listitem\"><a data-tiara-action-name=\"M_IR05\" data-tiara-layer=\"M_IR05\" data-v-15aff456=\"\" href=\"/ir/disclosureInformation\" target=\"_blank\"><span data-v-15aff456=\"\" role=\"text\">공시정보</span></a></li><li data-v-15aff456=\"\" role=\"listitem\"><a data-tiara-action-name=\"M_IR06\" data-tiara-layer=\"M_IR06\" data-v-15aff456=\"\" href=\"/ir/noticeList\" target=\"_blank\"><span data-v-15aff456=\"\" role=\"text\">공고</span></a></li></ul></div> <div class=\"group_service\" data-v-15aff456=\"\"><div class=\"warp_service\" data-v-15aff456=\"\"><strong class=\"tit_service\" data-v-15aff456=\"\"><a aria-expanded=\"false\" data-tiara-action-name=\"M_Daum_Customer\" data-tiara-layer=\"M_Daum_Customer\" data-v-15aff456=\"\" href=\"javascript;\" role=\"button\">\n",
       "              고객센터<!-- --></a></strong> <ul class=\"list_service\" data-v-15aff456=\"\" role=\"list\"><li data-v-15aff456=\"\" role=\"listitem\"><a data-tiara-action-name=\"M_Customer\" data-tiara-layer=\"M_Customer\" data-v-15aff456=\"\" href=\"https://cs.kakao.com/\" target=\"_blank\"><span data-v-15aff456=\"\" role=\"text\"><!-- -->\n",
       "                  카카오 고객센터<span class=\"screen_out\" data-v-15aff456=\"\">사이트 바로가기</span><!-- --></span></a></li><li data-v-15aff456=\"\" role=\"listitem\"><a data-tiara-action-name=\"M_Daum_Customer\" data-tiara-layer=\"M_Daum_Customer\" data-v-15aff456=\"\" href=\"https://cs.daum.net/\" target=\"_blank\"><span data-v-15aff456=\"\" role=\"text\"><!-- -->\n",
       "                  Daum 고객센터<span class=\"screen_out\" data-v-15aff456=\"\">사이트 바로가기</span><!-- --></span></a></li></ul></div> <strong class=\"tit_service\" data-v-15aff456=\"\"><a data-tiara-action-name=\"M_Career\" data-tiara-layer=\"M_Career\" data-v-15aff456=\"\" href=\"https://careers.kakao.com/index\" target=\"_blank\"><span data-v-15aff456=\"\" role=\"text\"><!-- -->\n",
       "              인재영입<span class=\"screen_out\" data-v-15aff456=\"\">사이트 바로가기</span><!-- --></span></a></strong> <strong class=\"tit_service\" data-v-15aff456=\"\"><a data-v-15aff456=\"\" href=\"https://accounts.kakao.com\" target=\"_blank\"><span data-v-15aff456=\"\" role=\"text\"><!-- -->\n",
       "              카카오계정<span class=\"screen_out\" data-v-15aff456=\"\">사이트 바로가기</span><!-- --></span></a></strong></div></section> <section class=\"section_relation\" data-v-15aff456=\"\"><h2 class=\"screen_out\" data-v-15aff456=\"\">서비스 이용정보</h2> <div class=\"group_info\" data-v-15aff456=\"\"><div class=\"wrap_info\" data-v-15aff456=\"\"><a aria-expanded=\"false\" class=\"link_info\" data-v-15aff456=\"\" href=\"javascript;\" role=\"button\">\n",
       "              이용약관<!-- --></a> <ul class=\"list_subinfo\" data-v-15aff456=\"\"><li data-v-15aff456=\"\"><a data-tiara-action-name=\"click_footer_01_1\" data-v-15aff456=\"\" href=\"https://www.kakao.com/policy/terms?type=a&amp;amp;lang=ko\" target=\"_blank\"><span data-v-15aff456=\"\" role=\"text\">\n",
       "                    카카오계정 서비스<span class=\"screen_out\" data-v-15aff456=\"\">사이트 바로가기</span><!-- --></span></a></li><li data-v-15aff456=\"\"><a data-tiara-action-name=\"click_footer_01_2\" data-v-15aff456=\"\" href=\"https://www.kakao.com/policy/terms?type=ts&amp;amp;lang=ko\" target=\"_blank\"><span data-v-15aff456=\"\" role=\"text\">\n",
       "                    카카오 서비스<span class=\"screen_out\" data-v-15aff456=\"\">사이트 바로가기</span><!-- --></span></a></li><li data-v-15aff456=\"\"><a data-tiara-action-name=\"click_footer_01_3\" data-v-15aff456=\"\" href=\"http://policy.daum.net/info/info\" target=\"_blank\"><span data-v-15aff456=\"\" role=\"text\">\n",
       "                    Daum 서비스<span class=\"screen_out\" data-v-15aff456=\"\">사이트 바로가기</span><!-- --></span></a></li></ul></div><div class=\"wrap_info\" data-v-15aff456=\"\"><a aria-expanded=\"false\" class=\"link_info link_emph\" data-v-15aff456=\"\" href=\"javascript;\" role=\"button\">\n",
       "              위치기반서비스이용약관<!-- --></a> <ul class=\"list_subinfo\" data-v-15aff456=\"\"><li data-v-15aff456=\"\"><a data-tiara-action-name=\"click_footer_02_1\" data-v-15aff456=\"\" href=\"https://www.kakao.com/policy/location?lang=ko\" target=\"_blank\"><span data-v-15aff456=\"\" role=\"text\">\n",
       "                    카카오 서비스<span class=\"screen_out\" data-v-15aff456=\"\">사이트 바로가기</span><!-- --></span></a></li><li data-v-15aff456=\"\"><a data-tiara-action-name=\"click_footer_02_2\" data-v-15aff456=\"\" href=\"http://policy.daum.net/mobile_info/mobile_info\" target=\"_blank\"><span data-v-15aff456=\"\" role=\"text\">\n",
       "                    Daum 서비스<span class=\"screen_out\" data-v-15aff456=\"\">사이트 바로가기</span><!-- --></span></a></li></ul></div><div class=\"wrap_info\" data-v-15aff456=\"\"><a aria-expanded=\"false\" class=\"link_info link_emph\" data-v-15aff456=\"\" href=\"javascript;\" role=\"button\">\n",
       "              개인정보처리방침<!-- --></a> <ul class=\"list_subinfo\" data-v-15aff456=\"\"><li data-v-15aff456=\"\"><a data-tiara-action-name=\"click_footer_03_1\" data-v-15aff456=\"\" href=\"https://www.kakaocorp.com/policy/privacyPolicy/corporateSitePrivacyPolicy\" target=\"_blank\"><span data-v-15aff456=\"\" role=\"text\">\n",
       "                    기업사이트<span class=\"screen_out\" data-v-15aff456=\"\">사이트 바로가기</span><!-- --></span></a></li><li data-v-15aff456=\"\"><a data-tiara-action-name=\"click_footer_03_2\" data-v-15aff456=\"\" href=\"https://www.kakao.com/policy/privacy?lang=ko\" target=\"_blank\"><span data-v-15aff456=\"\" role=\"text\">\n",
       "                    카카오 서비스<span class=\"screen_out\" data-v-15aff456=\"\">사이트 바로가기</span><!-- --></span></a></li></ul></div><div class=\"wrap_info\" data-v-15aff456=\"\"><a class=\"link_info\" data-tiara-action-name=\"click_footer_04\" data-v-15aff456=\"\" href=\"https://www.kakao.com/policy/oppolicy?lang=ko\" target=\"_blank\"><span data-v-15aff456=\"\" role=\"text\">운영정책</span></a> <!-- --></div><div class=\"wrap_info\" data-v-15aff456=\"\"><a aria-expanded=\"false\" class=\"link_info\" data-v-15aff456=\"\" href=\"javascript;\" role=\"button\">\n",
       "              청소년보호정책<!-- --></a> <ul class=\"list_subinfo\" data-v-15aff456=\"\"><li data-v-15aff456=\"\"><a data-tiara-action-name=\"click_footer_05_1\" data-v-15aff456=\"\" href=\"https://www.kakao.com/policy/safeguard?lang=ko\" target=\"_blank\"><span data-v-15aff456=\"\" role=\"text\">\n",
       "                    카카오 서비스<span class=\"screen_out\" data-v-15aff456=\"\">사이트 바로가기</span><!-- --></span></a></li><li data-v-15aff456=\"\"><a data-tiara-action-name=\"click_footer_05_2\" data-v-15aff456=\"\" href=\"http://policy.daum.net/youthpolicy/youthpolicy\" target=\"_blank\"><span data-v-15aff456=\"\" role=\"text\">\n",
       "                    Daum 서비스<span class=\"screen_out\" data-v-15aff456=\"\">사이트 바로가기</span><!-- --></span></a></li></ul></div><div class=\"wrap_info\" data-v-15aff456=\"\"><a class=\"link_info\" data-tiara-action-name=\"click_footer_06\" data-v-15aff456=\"\" href=\"https://kakao.com/policy/brand/trademark?lang=ko\" target=\"_blank\"><span data-v-15aff456=\"\" role=\"text\">브랜드보호정책</span></a> <!-- --></div><div class=\"wrap_info\" data-v-15aff456=\"\"><a class=\"link_info\" data-tiara-action-name=\"click_footer_07\" data-v-15aff456=\"\" href=\"https://www.kakao.com/policy/right?lang=ko\" target=\"_blank\"><span data-v-15aff456=\"\" role=\"text\">권리침해신고안내</span></a> <!-- --></div><div class=\"wrap_info\" data-v-15aff456=\"\"><a aria-expanded=\"false\" class=\"link_info\" data-v-15aff456=\"\" href=\"javascript;\" role=\"button\">\n",
       "              공지사항<!-- --></a> <ul class=\"list_subinfo\" data-v-15aff456=\"\"><li data-v-15aff456=\"\"><a data-tiara-action-name=\"click_footer_08_1\" data-v-15aff456=\"\" href=\"https://www.kakaocorp.com/policy/notice/kakaocorp/list\" target=\"_blank\"><span data-v-15aff456=\"\" role=\"text\">\n",
       "                    투자정보 공지<span class=\"screen_out\" data-v-15aff456=\"\">사이트 바로가기</span><!-- --></span></a></li><li data-v-15aff456=\"\"><a data-tiara-action-name=\"click_footer_08_2\" data-v-15aff456=\"\" href=\"https://www.kakao.com/notices?lang=ko\" target=\"_blank\"><span data-v-15aff456=\"\" role=\"text\">\n",
       "                    카카오 서비스<span class=\"screen_out\" data-v-15aff456=\"\">사이트 바로가기</span><!-- --></span></a></li><li data-v-15aff456=\"\"><a data-tiara-action-name=\"click_footer_08_3\" data-v-15aff456=\"\" href=\"https://m.daum.net/channel/new/notice\" target=\"_blank\"><span data-v-15aff456=\"\" role=\"text\">\n",
       "                    Daum 서비스<span class=\"screen_out\" data-v-15aff456=\"\">사이트 바로가기</span><!-- --></span></a></li></ul></div><div class=\"wrap_info\" data-v-15aff456=\"\"><a class=\"link_info\" data-tiara-action-name=\"click_footer_09\" data-v-15aff456=\"\" href=\"https://www.kakaocorp.com/policy/cyberEthics/info\" target=\"_blank\"><span data-v-15aff456=\"\" role=\"text\">사이버윤리실</span></a> <!-- --></div><div class=\"wrap_info\" data-v-15aff456=\"\"><a class=\"link_info\" data-tiara-action-name=\"click_footer_010\" data-v-15aff456=\"\" href=\"https://www.kakaocorp.com/ir/wayToCome\" target=\"_blank\"><span data-v-15aff456=\"\" role=\"text\">Contact Us</span></a> <!-- --></div></div> <div class=\"wrap_relation\" data-v-15aff456=\"\"><strong class=\"tit_relation\" data-v-15aff456=\"\"><a aria-expanded=\"false\" data-v-15aff456=\"\" href=\"javascript;\" role=\"button\">\n",
       "            관련사이트<!-- --></a></strong> <ul class=\"list_subinfo\" data-v-15aff456=\"\"><li data-v-15aff456=\"\"><a data-v-15aff456=\"\" href=\"https://kakao.ai/\" target=\"_blank\"><span data-v-15aff456=\"\" role=\"text\"><!-- -->\n",
       "                  카카오 AI<span class=\"screen_out\" data-v-15aff456=\"\">사이트 바로가기</span><!-- --></span></a></li><li data-v-15aff456=\"\"><a data-v-15aff456=\"\" href=\"https://privacy.kakao.com/main?lang=ko\" target=\"_blank\"><span data-v-15aff456=\"\" role=\"text\"><!-- -->\n",
       "                  카카오 프라이버시<span class=\"screen_out\" data-v-15aff456=\"\">사이트 바로가기</span><!-- --></span></a></li><li data-v-15aff456=\"\"><a data-v-15aff456=\"\" href=\"https://developers.kakao.com/\" target=\"_blank\"><span data-v-15aff456=\"\" role=\"text\"><!-- -->\n",
       "                  카카오 디벨로퍼스<span class=\"screen_out\" data-v-15aff456=\"\">사이트 바로가기</span><!-- --></span></a></li><li data-v-15aff456=\"\"><a data-v-15aff456=\"\" href=\"https://www.daum.net/\" target=\"_blank\"><span data-v-15aff456=\"\" role=\"text\"><!-- -->\n",
       "                  다음 포털 사이트<span class=\"screen_out\" data-v-15aff456=\"\">사이트 바로가기</span><!-- --></span></a></li><li data-v-15aff456=\"\"><a data-v-15aff456=\"\" href=\"https://winwin.kakao.com/index\" target=\"_blank\"><span data-v-15aff456=\"\" role=\"text\"><!-- -->\n",
       "                  동반 성장 사이트<span class=\"screen_out\" data-v-15aff456=\"\">사이트 바로가기</span><!-- --></span></a></li><li data-v-15aff456=\"\"><a data-v-15aff456=\"\" href=\"https://jeju.kakao.com/\" target=\"_blank\"><span data-v-15aff456=\"\" role=\"text\"><!-- -->\n",
       "                  제주 with kakao<span class=\"screen_out\" data-v-15aff456=\"\">사이트 바로가기</span><!-- --></span></a></li></ul></div> <small class=\"txt_copyright\" data-v-15aff456=\"\">\n",
       "        © <a data-v-15aff456=\"\" href=\"https://www.kakaocorp.com/page\">Kakao Corp.</a> All\n",
       "        rights reserved.\n",
       "      </small></section></div></footer> <section class=\"search_layer\" data-v-094f6898=\"\" data-v-803d5bee=\"\"><div class=\"inner_layer\" data-v-803d5bee=\"\"><div class=\"layer_head\" data-v-803d5bee=\"\"><strong data-v-803d5bee=\"\"><a data-v-803d5bee=\"\" href=\"/page\"><span class=\"screen_out\" data-v-803d5bee=\"\">KaKao</span><!-- --></a></strong></div> <div class=\"layer_body\" data-v-803d5bee=\"\"><h2 class=\"screen_out\" data-v-803d5bee=\"\">검색</h2> <div class=\"area_search\" data-v-803d5bee=\"\"><div class=\"group_search\" data-v-803d5bee=\"\"><form autocomplete=\"off\" class=\"wrap_search\" data-v-803d5bee=\"\"><!-- --> <input data-v-803d5bee=\"\" id=\"inpSearch\" placeholder=\"무엇이 궁금하신가요?\" type=\"text\" value=\"\"/> <label class=\"screen_out\" data-v-803d5bee=\"\" for=\"inpSearch\">검색어</label></form> <!-- --></div> <!-- --></div> <button class=\"btn_close\" data-v-803d5bee=\"\" type=\"button\"><span class=\"screen_out\" data-v-803d5bee=\"\">검색창 닫기</span> <!-- --></button></div></div></section></div></div></div></div><script>window.__NUXT__=(function(a,b,c,d,e){return {layout:\"default\",data:[{}],fetch:{},error:b,state:{isDesktop:a,windowWidth:c,isDarkMode:a,isEnglish:a,isSearchLayerShow:d,isSearchLoading:a,searchKeyword:e,searchData:{},recommendKeywordList:[],categoryData:{},isNavigationShow:a,serviceDetailPcActiveIdx:c,newsCurrentNum:b,newsCurrentTab:e,fromNewsDetail:a},serverRendered:d,routePath:\"\\u002Fnews\",config:{_app:{basePath:\"\\u002Fpage\\u002F\",assetsPath:\"\\u002Fpage\\u002F_nuxt\\u002F\",cdnURL:b}}}}(false,null,0,true,\"\"));</script><script defer=\"\" src=\"/page/_nuxt/1db3e60.js\"></script><script defer=\"\" src=\"/page/_nuxt/2cd62ab.js\"></script><script defer=\"\" src=\"/page/_nuxt/3bb0f4a.js\"></script><script defer=\"\" src=\"/page/_nuxt/ecb6745.js\"></script><script data-body=\"true\" data-n-head=\"ssr\" type=\"application/ld+json\">\n",
       "        {\n",
       "          \"@context\": \"http://schema.org\",\n",
       "          \"@type\": \"Organization\",\n",
       "          \"name\": \"Kakao Corp\",\n",
       "          \"url\": \"https://www.kakaocorp.com\",\n",
       "          \"sameAs\": [\n",
       "            \"https://www.facebook.com/kakao.brandmedia\",\n",
       "            \"https://www.instagram.com/kakao.today\",\n",
       "            \"https://www.youtube.com/c/Kakaobrandmedia\"\n",
       "          ]\n",
       "        }\n",
       "      </script>\n",
       "</body>\n",
       "</html>"
      ]
     },
     "execution_count": 272,
     "metadata": {},
     "output_type": "execute_result"
    }
   ],
   "source": [
    "url = 'https://www.kakaocorp.com/page/news?searchKeyword='\n",
    "searchValue = '의원'\n",
    "url2 = '&searchPage=1'\n",
    "search = url+parse.quote(searchValue)+url2\n",
    "res = req.urlopen(search)\n",
    "soup = BeautifulSoup(res, \"html.parser\")\n",
    "# links = soup.select('.link_item')\n",
    "soup\n",
    "# for link in links:\n",
    "#     print(link)\n"
   ]
  },
  {
   "cell_type": "code",
   "execution_count": 232,
   "metadata": {},
   "outputs": [
    {
     "data": {
      "text/plain": [
       "[]"
      ]
     },
     "execution_count": 232,
     "metadata": {},
     "output_type": "execute_result"
    }
   ],
   "source": [
    "links"
   ]
  },
  {
   "cell_type": "code",
   "execution_count": null,
   "metadata": {},
   "outputs": [],
   "source": []
  }
 ],
 "metadata": {
  "kernelspec": {
   "display_name": "Python 3",
   "language": "python",
   "name": "python3"
  },
  "language_info": {
   "codemirror_mode": {
    "name": "ipython",
    "version": 3
   },
   "file_extension": ".py",
   "mimetype": "text/x-python",
   "name": "python",
   "nbconvert_exporter": "python",
   "pygments_lexer": "ipython3",
   "version": "3.9.13"
  },
  "orig_nbformat": 4,
  "vscode": {
   "interpreter": {
    "hash": "d864e386a55a2cee39c31bc0e2325312cb68f97ec75faaaf5382620c119f58c5"
   }
  }
 },
 "nbformat": 4,
 "nbformat_minor": 2
}
