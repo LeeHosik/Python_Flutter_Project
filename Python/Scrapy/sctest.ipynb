{
 "cells": [
  {
   "cell_type": "code",
   "execution_count": 21,
   "metadata": {},
   "outputs": [],
   "source": [
    "from bs4 import BeautifulSoup\n",
    "import urllib.request as req\n",
    "from urllib import parse\n",
    "from flask import Flask, jsonify, request, render_template\n",
    "import joblib"
   ]
  },
  {
   "cell_type": "code",
   "execution_count": 22,
   "metadata": {},
   "outputs": [],
   "source": [
    "def news():\n",
    "    url = 'http://www.ccnnews.co.kr/news/articleList.html?view_type=sm'\n",
    "    cungAllNewsurl = 'http://www.ccnnews.co.kr'\n",
    "    res = req.urlopen(url)\n",
    "    soup = BeautifulSoup(res, \"html.parser\")\n",
    "    links = soup.select(\".list-titles a\")\n",
    "\n",
    "    newstitles = []\n",
    "    newsLinks = []\n",
    "    errorList = []\n",
    "    setJSONList = []\n",
    "    i = 0\n",
    "    for link in links:\n",
    "        try:  \n",
    "            newstitles.append(link.text)\n",
    "            newsLinks.append(cungAllNewsurl+link.attrs['href'])\n",
    "        except: errorList.append(f'Error number : {str(link)} newsTitle :{link.text}')\n",
    "        else:\n",
    "            setJSONList.append({newstitles[i]:newsLinks[i]})\n",
    "            i += 1\n",
    "\n",
    "    # return jsonify({\n",
    "        # 'result' : setJSONList\n",
    "    return setJSONList\n",
    "    "
   ]
  },
  {
   "cell_type": "code",
   "execution_count": 23,
   "metadata": {},
   "outputs": [
    {
     "data": {
      "text/plain": [
       "[{'지역 현안위해 발로 뛰는 가세로 태안군수': 'http://www.ccnnews.co.kr/news/articleView.html?idxno=286554'},\n",
       " {'홍성군보건소, 코로나19 안정세에 따른 선별진료소 운영시간 단축': 'http://www.ccnnews.co.kr/news/articleView.html?idxno=286576'},\n",
       " {'대전 중구, 기관장 협의회 개최..협력 관계 다져': 'http://www.ccnnews.co.kr/news/articleView.html?idxno=286575'},\n",
       " {'환경개선 앞장서는 홍성군, 전기자동차 민간보급사업 시행': 'http://www.ccnnews.co.kr/news/articleView.html?idxno=286574'},\n",
       " {'aT, 중동 최대 식품박람회서 K-푸드 인기폭발': 'http://www.ccnnews.co.kr/news/articleView.html?idxno=286573'},\n",
       " {'호서대, 2023학년도 입학식...3,147명 입학': 'http://www.ccnnews.co.kr/news/articleView.html?idxno=286572'},\n",
       " {'국가철도공단, 철도시스템 분야 2조 3093억원 신규 발주': 'http://www.ccnnews.co.kr/news/articleView.html?idxno=286570'},\n",
       " {'대전성모병원 이상권 교수, 보건복지부장관상': 'http://www.ccnnews.co.kr/news/articleView.html?idxno=286571'},\n",
       " {'충남대 도서관, 복합문화공간으로 발돋움...지역민 개방': 'http://www.ccnnews.co.kr/news/articleView.html?idxno=286569'},\n",
       " {'홍성군, 친환경농산물 인증비 지원사업 추진': 'http://www.ccnnews.co.kr/news/articleView.html?idxno=286568'},\n",
       " {'청양군, 충남도립대 전입지원 이동민원실 운영': 'http://www.ccnnews.co.kr/news/articleView.html?idxno=286564'},\n",
       " {'대전 동구 상소문화공원, 강소형 잠재관광지 최종 선정': 'http://www.ccnnews.co.kr/news/articleView.html?idxno=286563'},\n",
       " {'조폐공사, 지난해 영업이익 127억원 부채비율 82% 기록': 'http://www.ccnnews.co.kr/news/articleView.html?idxno=286560'},\n",
       " {'천안시, 전문가 모여 인구감소 대응 방안 논의': 'http://www.ccnnews.co.kr/news/articleView.html?idxno=286562'},\n",
       " {'한밭대, 1차년도 LINC3.0 자체평가위원회 개최': 'http://www.ccnnews.co.kr/news/articleView.html?idxno=286561'},\n",
       " {'‘유관순의 노래’, 천안박물관 3월의 유물로 선정': 'http://www.ccnnews.co.kr/news/articleView.html?idxno=286559'},\n",
       " {'계룡시의회, 제165회 임시회... 주요업무보고 청취': 'http://www.ccnnews.co.kr/news/articleView.html?idxno=286558'},\n",
       " {'대전도시공사 조직개편...산업단지·도시재생 역할 강화': 'http://www.ccnnews.co.kr/news/articleView.html?idxno=286556'},\n",
       " {'보령시, 문화관광해설사 신규 관광지 현장답사 실시': 'http://www.ccnnews.co.kr/news/articleView.html?idxno=286557'},\n",
       " {'대전참여연대 \"지방의회 청탁금지법 위반 의심...수사의뢰\"': 'http://www.ccnnews.co.kr/news/articleView.html?idxno=286555'},\n",
       " {'': 'http://www.ccnnews.co.kr'}]"
      ]
     },
     "execution_count": 23,
     "metadata": {},
     "output_type": "execute_result"
    }
   ],
   "source": [
    "news()"
   ]
  },
  {
   "cell_type": "code",
   "execution_count": 24,
   "metadata": {},
   "outputs": [],
   "source": [
    "# http://www.kwnews.co.kr/search?search=%EC%9D%98%EC%9B%90"
   ]
  },
  {
   "cell_type": "code",
   "execution_count": 25,
   "metadata": {},
   "outputs": [],
   "source": [
    "def news():\n",
    "    url = 'http://www.kwnews.co.kr/search?search='\n",
    "    searchValue = ''\n",
    "    cungAllNewsurl = 'http://www.ccnnews.co.kr'\n",
    "    res = req.urlopen(url)\n",
    "    soup = BeautifulSoup(res, \"html.parser\")\n",
    "    links = soup.select(\".list-titles a\")\n",
    "\n",
    "    newstitles = []\n",
    "    newsLinks = []\n",
    "    errorList = []\n",
    "    setJSONList = []\n",
    "    i = 0\n",
    "    for link in links:\n",
    "        try:  \n",
    "            newstitles.append(link.text)\n",
    "            newsLinks.append(cungAllNewsurl+link.attrs['href'])\n",
    "        except: errorList.append(f'Error number : {str(link)} newsTitle :{link.text}')\n",
    "        else:\n",
    "            setJSONList.append({newstitles[i]:newsLinks[i]})\n",
    "            i += 1\n",
    "\n",
    "    # return jsonify({\n",
    "        # 'result' : setJSONList\n",
    "    return setJSONList\n",
    "    "
   ]
  },
  {
   "cell_type": "code",
   "execution_count": 26,
   "metadata": {},
   "outputs": [],
   "source": [
    "# 죤나 신기하게 검색하면 나오는 부분이 나오지 않음 ㅡㅡ \n",
    "\n",
    "\n",
    "# def news(str):\n",
    "#     url = 'http://www.kwnews.co.kr/search?search='\n",
    "#     originURL = 'http://www.kwnews.co.kr/'\n",
    "#     searchValue = str\n",
    "#     search = url+parse.quote(url+searchValue)\n",
    "#     # searchValue = '의원'\n",
    "#     res = req.urlopen(search)\n",
    "#     # soup = BeautifulSoup(req.content.decode('euc-kr', 'replace'), 'html.parser')\n",
    "#     soup = BeautifulSoup(res, \"html.parser\")\n",
    "\n",
    "#     links = soup.select(\".search_list .title a\")\n",
    "\n",
    "#     newstitles = []\n",
    "#     newsLinks = []\n",
    "#     errorList = []\n",
    "#     setJSONList = []\n",
    "#     i = 0\n",
    "#     for link in links:\n",
    "#         try:  \n",
    "#             newstitles.append(link.text)\n",
    "#             print(link.text)\n",
    "#             newsLinks.append(originURL+link.attrs['href'])\n",
    "#         except: errorList.append(f'Error number : {str(link)} newsTitle :{link.text}')\n",
    "#         else:\n",
    "#             setJSONList.append({newstitles[i]:newsLinks[i]})\n",
    "#             i += 1\n",
    "\n",
    "#     # return jsonify({\n",
    "#         # 'result' : setJSONList\n",
    "#     return setJSONList  \n"
   ]
  },
  {
   "cell_type": "code",
   "execution_count": 27,
   "metadata": {},
   "outputs": [
    {
     "name": "stdout",
     "output_type": "stream",
     "text": [
      "<div class=\"arl_008_list\">\n",
      "<ul id=\"search_list\">\n",
      "</ul>\n",
      "</div>\n"
     ]
    }
   ],
   "source": [
    "url = 'http://www.kwnews.co.kr/search?search='\n",
    "originURL = 'http://www.kwnews.co.kr/'\n",
    "searchValue = '의원'\n",
    "search = url+parse.quote(searchValue)\n",
    "# searchValue = '의원'\n",
    "res = req.urlopen(search)\n",
    "# soup = BeautifulSoup(req.content.decode('euc-kr', 'replace'), 'html.parser')\n",
    "soup = BeautifulSoup(res, \"html.parser\")\n",
    "# links = soup.select(\"ul#search_list li\")\n",
    "# links = soup.select(\".section.pr10 .arl_008_list\")\n",
    "# links = soup.select(\".arl_008_list\")\n",
    "# links2 = soup.select(\".box\")\n",
    "\n",
    "# links = soup.select(' .title')\n",
    "links = soup.select('div.arl_008_list')\n",
    "# links = soup.select('#container > div.inner > div.section > div > div > div.list_search_true > div.arl_008_list')\n",
    "\n",
    "# links2 = soup.find('div', id = 'search_list')\n",
    "# links1 = links2.select('.title a')\n",
    "# links1 = links2.select('a')\n",
    "# links = soup.select(\".search_list .title a\")\n",
    "\n",
    "for link in links:\n",
    "    print(link)\n",
    "# links\n",
    "# print(links)\n"
   ]
  },
  {
   "cell_type": "code",
   "execution_count": 28,
   "metadata": {},
   "outputs": [],
   "source": [
    "# url = 'https://www.kakaocorp.com/page/news?searchKeyword='\n",
    "# searchValue = '의원'\n",
    "# url2 = '&searchPage=1'\n",
    "# search = url+parse.quote(searchValue)+url2\n",
    "# res = req.urlopen(search)\n",
    "# soup = BeautifulSoup(res, \"html.parser\")\n",
    "# # links = soup.select('.link_item')\n",
    "# soup\n",
    "# # for link in links:\n",
    "# #     print(link)\n"
   ]
  },
  {
   "cell_type": "code",
   "execution_count": 91,
   "metadata": {},
   "outputs": [],
   "source": [
    "lines = '''page: 1\n",
    "total: 35528\n",
    "box_idxno: \n",
    "sc_area: A\n",
    "view_type: sm\n",
    "sc_word: \n",
    "'''.splitlines()\n",
    "import requests\n",
    "def chungchungSearch(inputData):\n",
    "    lines_change = []\n",
    "    for line in lines:\n",
    "        line = line.replace(' ','')\n",
    "        lines_change.append(line)\n",
    "\n",
    "    data = {}\n",
    "\n",
    "    for line in lines_change:\n",
    "        key, value = line.split(':',1)\n",
    "        data[key] = value\n",
    "        \n",
    "    data['sc_word'] = inputData\n",
    "\n",
    "    url = 'http://www.ccnnews.co.kr/news/articleList.html?'\n",
    "    cungAllNewsurl = 'http://www.ccnnews.co.kr'\n",
    "    response = requests.post(url,data=data)\n",
    "    html = response.text\n",
    "    soup = BeautifulSoup(html,'html.parser')\n",
    "\n",
    "\n",
    "    links = soup.select(\".list-titles a\")\n",
    "\n",
    "    newstitles = []\n",
    "    newsLinks = []\n",
    "    errorList = []\n",
    "    setJSONList = []\n",
    "    i = 0\n",
    "    for link in links:\n",
    "        try:  \n",
    "            newstitles.append(link.text)\n",
    "            newsLinks.append(cungAllNewsurl+link.attrs['href'])\n",
    "        except: errorList.append(f'Error number : {str(link)} newsTitle :{link.text}')\n",
    "        else:\n",
    "            setJSONList.append({newstitles[i]:newsLinks[i]})\n",
    "            i += 1\n",
    "\n",
    "    # return jsonify({\n",
    "    #     'result' : setJSONList\n",
    "    # })\n",
    "    return setJSONList"
   ]
  },
  {
   "cell_type": "code",
   "execution_count": 93,
   "metadata": {},
   "outputs": [
    {
     "data": {
      "text/plain": [
       "[{\"대전시, ‘반도체 특화단지' 유치 도전장\": 'http://www.ccnnews.co.kr/news/articleView.html?idxno=286587'},\n",
       " {'대덕구, 관광진흥위원회 출범..관광 활성화 모색': 'http://www.ccnnews.co.kr/news/articleView.html?idxno=286582'},\n",
       " {'[건강칼럼] 일상을 무너뜨리는 질환 ‘대상포진’': 'http://www.ccnnews.co.kr/news/articleView.html?idxno=286584'},\n",
       " {'대전교육청, 상반기 신규 원어민 영어 보조교사 만남의 날 개최': 'http://www.ccnnews.co.kr/news/articleView.html?idxno=286583'},\n",
       " {'대전 중구, 기관장 협의회 개최..협력 관계 다져': 'http://www.ccnnews.co.kr/news/articleView.html?idxno=286575'},\n",
       " {'대전성모병원 이상권 교수, 보건복지부장관상': 'http://www.ccnnews.co.kr/news/articleView.html?idxno=286571'},\n",
       " {'충남대 도서관, 복합문화공간으로 발돋움...지역민 개방': 'http://www.ccnnews.co.kr/news/articleView.html?idxno=286569'},\n",
       " {'대전 동구 상소문화공원, 강소형 잠재관광지 최종 선정': 'http://www.ccnnews.co.kr/news/articleView.html?idxno=286563'},\n",
       " {'한밭대, 1차년도 LINC3.0 자체평가위원회 개최': 'http://www.ccnnews.co.kr/news/articleView.html?idxno=286561'},\n",
       " {'대전도시공사 조직개편...산업단지·도시재생 역할 강화': 'http://www.ccnnews.co.kr/news/articleView.html?idxno=286556'},\n",
       " {'대전참여연대 \"지방의회 청탁금지법 위반 의심...수사의뢰\"': 'http://www.ccnnews.co.kr/news/articleView.html?idxno=286555'},\n",
       " {'대전 서부교육, 중학교 학생평가 업무담당 연수 실시': 'http://www.ccnnews.co.kr/news/articleView.html?idxno=286547'},\n",
       " {'대전학생교육문화원, 문화예술·창의독서 프로그램 강좌 72개 운영': 'http://www.ccnnews.co.kr/news/articleView.html?idxno=286545'},\n",
       " {'대전교육청, 대전교육나라사랑카드 적립금 5억2600만원 조성': 'http://www.ccnnews.co.kr/news/articleView.html?idxno=286542'},\n",
       " {'유성구, 충남대 도서관 복합문화공간 개방': 'http://www.ccnnews.co.kr/news/articleView.html?idxno=286524'},\n",
       " {'[충청 레이더] 공짜표 줘도 투덜대는 시의원': 'http://www.ccnnews.co.kr/news/articleView.html?idxno=286500'},\n",
       " {'국제청소년연합, ‘굿뉴스코 페스티벌’ 대전공연 성공적': 'http://www.ccnnews.co.kr/news/articleView.html?idxno=286504'},\n",
       " {\"대전하나시티즌 강원에 2-0 완승...'축구특별시' 부활 기대감\": 'http://www.ccnnews.co.kr/news/articleView.html?idxno=286499'},\n",
       " {'충청권, 지역거점 정보보호 클러스터 구축사업 도전장': 'http://www.ccnnews.co.kr/news/articleView.html?idxno=286497'},\n",
       " {'대덕구 ‘2023 대덕물빛축제’ 성공 개최 TF팀 가동': 'http://www.ccnnews.co.kr/news/articleView.html?idxno=286494'},\n",
       " {'': 'http://www.ccnnews.co.kr'}]"
      ]
     },
     "execution_count": 93,
     "metadata": {},
     "output_type": "execute_result"
    }
   ],
   "source": [
    "chungchungSearch('대전')"
   ]
  },
  {
   "cell_type": "code",
   "execution_count": null,
   "metadata": {},
   "outputs": [],
   "source": []
  }
 ],
 "metadata": {
  "kernelspec": {
   "display_name": "Python 3",
   "language": "python",
   "name": "python3"
  },
  "language_info": {
   "codemirror_mode": {
    "name": "ipython",
    "version": 3
   },
   "file_extension": ".py",
   "mimetype": "text/x-python",
   "name": "python",
   "nbconvert_exporter": "python",
   "pygments_lexer": "ipython3",
   "version": "3.9.13"
  },
  "orig_nbformat": 4,
  "vscode": {
   "interpreter": {
    "hash": "d864e386a55a2cee39c31bc0e2325312cb68f97ec75faaaf5382620c119f58c5"
   }
  }
 },
 "nbformat": 4,
 "nbformat_minor": 2
}
