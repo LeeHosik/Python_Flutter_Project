{
 "cells": [
  {
   "cell_type": "code",
   "execution_count": 5,
   "metadata": {},
   "outputs": [],
   "source": [
    "from bs4 import BeautifulSoup\n",
    "import urllib.request as req\n",
    "from flask import Flask, jsonify, request, render_template\n",
    "import joblib"
   ]
  },
  {
   "cell_type": "code",
   "execution_count": 10,
   "metadata": {},
   "outputs": [],
   "source": [
    "def news():\n",
    "    url = 'http://www.ccnnews.co.kr/news/articleList.html?view_type=sm'\n",
    "    cungAllNewsurl = 'http://www.ccnnews.co.kr'\n",
    "    res = req.urlopen(url)\n",
    "    soup = BeautifulSoup(res, \"html.parser\")\n",
    "    links = soup.select(\".list-titles a\")\n",
    "\n",
    "    newstitles = []\n",
    "    newsLinks = []\n",
    "    errorList = []\n",
    "    setJSONList = []\n",
    "    i = 0\n",
    "    for link in links:\n",
    "        try:  \n",
    "            newstitles.append(link.text)\n",
    "            newsLinks.append(cungAllNewsurl+link.attrs['href'])\n",
    "        except: errorList.append(f'Error number : {str(link)} newsTitle :{link.text}')\n",
    "        else:\n",
    "            setJSONList.append({newstitles[i]:newsLinks[i]})\n",
    "            i += 1\n",
    "\n",
    "    # return jsonify({\n",
    "        # 'result' : setJSONList\n",
    "    return setJSONList\n",
    "    "
   ]
  },
  {
   "cell_type": "code",
   "execution_count": 11,
   "metadata": {},
   "outputs": [
    {
     "data": {
      "text/plain": [
       "[{\"부여군, 남면‧초촌면 기초생활거점 조성사업 추진 ‘시동'\": 'http://www.ccnnews.co.kr/news/articleView.html?idxno=286391'},\n",
       " {'(사)금산군기업인협회, 제2대 신상오 회장 취임': 'http://www.ccnnews.co.kr/news/articleView.html?idxno=286390'},\n",
       " {'계룡시, 관광자원 활용한 공정여행 프로그램 운영': 'http://www.ccnnews.co.kr/news/articleView.html?idxno=286388'},\n",
       " {'홍성군, 서해 KTX 시대 맞이 신바람 관광택시 ‘시동’': 'http://www.ccnnews.co.kr/news/articleView.html?idxno=286389'},\n",
       " {'서천군, 청년 구직 지원에 1억 5000만원 투입': 'http://www.ccnnews.co.kr/news/articleView.html?idxno=286387'},\n",
       " {'예산군, ‘2022년 하반기 적극행정 우수사례’ 군민투표 실시': 'http://www.ccnnews.co.kr/news/articleView.html?idxno=286386'},\n",
       " {'안전한 관광지 예산군, 숙박시설 불공정 행위 집중 점검': 'http://www.ccnnews.co.kr/news/articleView.html?idxno=286384'},\n",
       " {'태안군, ‘응급처치 안전 교육’ 큰 호응': 'http://www.ccnnews.co.kr/news/articleView.html?idxno=286383'},\n",
       " {'태안군, 3월 2일부터 ‘기본형 공익직불금’ 신청 접수': 'http://www.ccnnews.co.kr/news/articleView.html?idxno=286382'},\n",
       " {'태안군, 상반기 ‘혁신대학’ 운영 돌입': 'http://www.ccnnews.co.kr/news/articleView.html?idxno=286381'},\n",
       " {'가세로 태안군수, 27일 ‘후계농업경영인 및 여성농업인 군 연합회장 이·취임식’ 참석': 'http://www.ccnnews.co.kr/news/articleView.html?idxno=286380'},\n",
       " {'한국타이어 ‘아이온(iON)’, 포뮬러 E ‘2023 케이프타운 E-PRIX’ 대회 예열 마쳐': 'http://www.ccnnews.co.kr/news/articleView.html?idxno=286379'},\n",
       " {\"충남대학교병원·㈜드림씨아이에스, 바이오헬스케어사업 활성화 '맞손'\": 'http://www.ccnnews.co.kr/news/articleView.html?idxno=286378'},\n",
       " {'예산군, 서울역 예가정성 브랜드 홍보 판매점 개점': 'http://www.ccnnews.co.kr/news/articleView.html?idxno=286376'},\n",
       " {\"오성환 당진시장,\\xa027일 '3월 통합공유회의 주재'\": 'http://www.ccnnews.co.kr/news/articleView.html?idxno=286375'},\n",
       " {'대전평생학습관, 문화예술공연 참가 단체 공모': 'http://www.ccnnews.co.kr/news/articleView.html?idxno=286373'},\n",
       " {'대전교육청, ‘위(Wee)센터 정신과 자문의’ 운영': 'http://www.ccnnews.co.kr/news/articleView.html?idxno=286371'},\n",
       " {'KAIST, 퓨처모빌리티 기술교류회': 'http://www.ccnnews.co.kr/news/articleView.html?idxno=286370'},\n",
       " {\"'22년 전 국민은행 강도살인' 이승만·이정학 모두 항소\": 'http://www.ccnnews.co.kr/news/articleView.html?idxno=286367'},\n",
       " {'서산문화복지센터 청소년동아리, 기부천사들의 활약': 'http://www.ccnnews.co.kr/news/articleView.html?idxno=286366'},\n",
       " {'': 'http://www.ccnnews.co.kr'}]"
      ]
     },
     "execution_count": 11,
     "metadata": {},
     "output_type": "execute_result"
    }
   ],
   "source": [
    "news()"
   ]
  },
  {
   "cell_type": "code",
   "execution_count": null,
   "metadata": {},
   "outputs": [],
   "source": []
  }
 ],
 "metadata": {
  "kernelspec": {
   "display_name": "Python 3",
   "language": "python",
   "name": "python3"
  },
  "language_info": {
   "codemirror_mode": {
    "name": "ipython",
    "version": 3
   },
   "file_extension": ".py",
   "mimetype": "text/x-python",
   "name": "python",
   "nbconvert_exporter": "python",
   "pygments_lexer": "ipython3",
   "version": "3.9.13"
  },
  "orig_nbformat": 4,
  "vscode": {
   "interpreter": {
    "hash": "d864e386a55a2cee39c31bc0e2325312cb68f97ec75faaaf5382620c119f58c5"
   }
  }
 },
 "nbformat": 4,
 "nbformat_minor": 2
}
