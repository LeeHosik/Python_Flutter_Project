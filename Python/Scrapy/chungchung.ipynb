{
 "cells": [
  {
   "cell_type": "code",
   "execution_count": 1,
   "metadata": {},
   "outputs": [],
   "source": [
    "from selenium import webdriver\n",
    "from selenium.webdriver.chrome.service import Service\n",
    "from webdriver_manager.chrome import ChromeDriverManager\n",
    "from selenium.webdriver.common.by import By\n",
    "\n",
    "from bs4 import BeautifulSoup\n",
    "from urllib import parse\n",
    "import urllib.request as req\n",
    "import time\n",
    "import pandas as pd\n",
    "\n",
    "\n",
    "import math"
   ]
  },
  {
   "cell_type": "code",
   "execution_count": 2,
   "metadata": {},
   "outputs": [],
   "source": [
    "# default\n",
    "import pandas as pd\n",
    "import seaborn as sns\n",
    "import numpy as np\n",
    "import matplotlib.pyplot as plt\n",
    "from sklearn import preprocessing\n",
    "import warnings\n",
    "warnings.filterwarnings(\"ignore\")\n",
    "# 한글 폰트 문제 해결 \n",
    "# matplotlib은 한글 폰트를 지원하지 않음\n",
    "# os정보\n",
    "import platform\n",
    "\n",
    "# font_manager : 폰트 관리 모듈\n",
    "# rc : 폰트 변경 모듈\n",
    "from matplotlib import font_manager, rc\n",
    "# unicode 설정\n",
    "plt.rcParams['axes.unicode_minus'] = False\n",
    "\n",
    "if platform.system() == 'Darwin':\n",
    "    rc('font', family='AppleGothic') # os가 macos\n",
    "elif platform.system() == 'Windows':\n",
    "    path = 'c:/Windows/Fonts/malgun.ttf' # os가 windows\n",
    "    font_name = font_manager.FontProperties(fname=path).get_name()\n",
    "    rc('font', family=font_name)\n",
    "else:\n",
    "    print(\"Unknown System\")"
   ]
  },
  {
   "cell_type": "code",
   "execution_count": 3,
   "metadata": {},
   "outputs": [
    {
     "name": "stderr",
     "output_type": "stream",
     "text": [
      "[WDM] - Downloading: 100%|██████████| 8.00M/8.00M [00:00<00:00, 9.99MB/s]\n"
     ]
    }
   ],
   "source": [
    "# # Chrome Browser 와 Chrome Driver Version 확인하기\n",
    "# chrome_options = webdriver.ChromeOptions()\n",
    "# driver = webdriver.Chrome(service=Service(ChromeDriverManager().install()), options=chrome_options)\n",
    "# url = 'http://www.ccnnews.co.kr/news/articleList.html?view_type=sm'\n",
    "# driver.get(url)"
   ]
  },
  {
   "cell_type": "code",
   "execution_count": 4,
   "metadata": {},
   "outputs": [
    {
     "ename": "NoSuchWindowException",
     "evalue": "Message: no such window: target window already closed\nfrom unknown error: web view not found\n  (Session info: chrome=110.0.5481.100)\nStacktrace:\n0   chromedriver                        0x00000001009b91c0 chromedriver + 4248000\n1   chromedriver                        0x0000000100939dc0 chromedriver + 3726784\n2   chromedriver                        0x00000001005eeec4 chromedriver + 274116\n3   chromedriver                        0x00000001005c95f4 chromedriver + 120308\n4   chromedriver                        0x0000000100652f8c chromedriver + 683916\n5   chromedriver                        0x0000000100665864 chromedriver + 759908\n6   chromedriver                        0x000000010061d200 chromedriver + 463360\n7   chromedriver                        0x000000010061e318 chromedriver + 467736\n8   chromedriver                        0x0000000100987060 chromedriver + 4042848\n9   chromedriver                        0x000000010098b8a4 chromedriver + 4061348\n10  chromedriver                        0x00000001009933d0 chromedriver + 4092880\n11  chromedriver                        0x000000010098c6e4 chromedriver + 4064996\n12  chromedriver                        0x00000001009620fc chromedriver + 3891452\n13  chromedriver                        0x00000001009aca64 chromedriver + 4196964\n14  chromedriver                        0x00000001009acbb8 chromedriver + 4197304\n15  chromedriver                        0x00000001009c0650 chromedriver + 4277840\n16  libsystem_pthread.dylib             0x00000001a9f0106c _pthread_start + 148\n17  libsystem_pthread.dylib             0x00000001a9efbe2c thread_start + 8\n",
     "output_type": "error",
     "traceback": [
      "\u001b[0;31m---------------------------------------------------------------------------\u001b[0m",
      "\u001b[0;31mNoSuchWindowException\u001b[0m                     Traceback (most recent call last)",
      "Cell \u001b[0;32mIn[4], line 1\u001b[0m\n\u001b[0;32m----> 1\u001b[0m html \u001b[39m=\u001b[39m driver\u001b[39m.\u001b[39;49mpage_source\n\u001b[1;32m      2\u001b[0m soup \u001b[39m=\u001b[39m BeautifulSoup(html,\u001b[39m'\u001b[39m\u001b[39mhtml.parser\u001b[39m\u001b[39m'\u001b[39m)\n\u001b[1;32m      4\u001b[0m newstitles \u001b[39m=\u001b[39m []\n",
      "File \u001b[0;32m~/miniforge3/envs/tensorflow/lib/python3.9/site-packages/selenium/webdriver/remote/webdriver.py:541\u001b[0m, in \u001b[0;36mWebDriver.page_source\u001b[0;34m(self)\u001b[0m\n\u001b[1;32m    532\u001b[0m \u001b[39m@property\u001b[39m\n\u001b[1;32m    533\u001b[0m \u001b[39mdef\u001b[39;00m \u001b[39mpage_source\u001b[39m(\u001b[39mself\u001b[39m) \u001b[39m-\u001b[39m\u001b[39m>\u001b[39m \u001b[39mstr\u001b[39m:\n\u001b[1;32m    534\u001b[0m \u001b[39m    \u001b[39m\u001b[39m\"\"\"Gets the source of the current page.\u001b[39;00m\n\u001b[1;32m    535\u001b[0m \n\u001b[1;32m    536\u001b[0m \u001b[39m    :Usage:\u001b[39;00m\n\u001b[0;32m   (...)\u001b[0m\n\u001b[1;32m    539\u001b[0m \u001b[39m            driver.page_source\u001b[39;00m\n\u001b[1;32m    540\u001b[0m \u001b[39m    \"\"\"\u001b[39;00m\n\u001b[0;32m--> 541\u001b[0m     \u001b[39mreturn\u001b[39;00m \u001b[39mself\u001b[39;49m\u001b[39m.\u001b[39;49mexecute(Command\u001b[39m.\u001b[39;49mGET_PAGE_SOURCE)[\u001b[39m\"\u001b[39m\u001b[39mvalue\u001b[39m\u001b[39m\"\u001b[39m]\n",
      "File \u001b[0;32m~/miniforge3/envs/tensorflow/lib/python3.9/site-packages/selenium/webdriver/remote/webdriver.py:440\u001b[0m, in \u001b[0;36mWebDriver.execute\u001b[0;34m(self, driver_command, params)\u001b[0m\n\u001b[1;32m    438\u001b[0m response \u001b[39m=\u001b[39m \u001b[39mself\u001b[39m\u001b[39m.\u001b[39mcommand_executor\u001b[39m.\u001b[39mexecute(driver_command, params)\n\u001b[1;32m    439\u001b[0m \u001b[39mif\u001b[39;00m response:\n\u001b[0;32m--> 440\u001b[0m     \u001b[39mself\u001b[39;49m\u001b[39m.\u001b[39;49merror_handler\u001b[39m.\u001b[39;49mcheck_response(response)\n\u001b[1;32m    441\u001b[0m     response[\u001b[39m\"\u001b[39m\u001b[39mvalue\u001b[39m\u001b[39m\"\u001b[39m] \u001b[39m=\u001b[39m \u001b[39mself\u001b[39m\u001b[39m.\u001b[39m_unwrap_value(response\u001b[39m.\u001b[39mget(\u001b[39m\"\u001b[39m\u001b[39mvalue\u001b[39m\u001b[39m\"\u001b[39m, \u001b[39mNone\u001b[39;00m))\n\u001b[1;32m    442\u001b[0m     \u001b[39mreturn\u001b[39;00m response\n",
      "File \u001b[0;32m~/miniforge3/envs/tensorflow/lib/python3.9/site-packages/selenium/webdriver/remote/errorhandler.py:245\u001b[0m, in \u001b[0;36mErrorHandler.check_response\u001b[0;34m(self, response)\u001b[0m\n\u001b[1;32m    243\u001b[0m         alert_text \u001b[39m=\u001b[39m value[\u001b[39m\"\u001b[39m\u001b[39malert\u001b[39m\u001b[39m\"\u001b[39m]\u001b[39m.\u001b[39mget(\u001b[39m\"\u001b[39m\u001b[39mtext\u001b[39m\u001b[39m\"\u001b[39m)\n\u001b[1;32m    244\u001b[0m     \u001b[39mraise\u001b[39;00m exception_class(message, screen, stacktrace, alert_text)  \u001b[39m# type: ignore[call-arg]  # mypy is not smart enough here\u001b[39;00m\n\u001b[0;32m--> 245\u001b[0m \u001b[39mraise\u001b[39;00m exception_class(message, screen, stacktrace)\n",
      "\u001b[0;31mNoSuchWindowException\u001b[0m: Message: no such window: target window already closed\nfrom unknown error: web view not found\n  (Session info: chrome=110.0.5481.100)\nStacktrace:\n0   chromedriver                        0x00000001009b91c0 chromedriver + 4248000\n1   chromedriver                        0x0000000100939dc0 chromedriver + 3726784\n2   chromedriver                        0x00000001005eeec4 chromedriver + 274116\n3   chromedriver                        0x00000001005c95f4 chromedriver + 120308\n4   chromedriver                        0x0000000100652f8c chromedriver + 683916\n5   chromedriver                        0x0000000100665864 chromedriver + 759908\n6   chromedriver                        0x000000010061d200 chromedriver + 463360\n7   chromedriver                        0x000000010061e318 chromedriver + 467736\n8   chromedriver                        0x0000000100987060 chromedriver + 4042848\n9   chromedriver                        0x000000010098b8a4 chromedriver + 4061348\n10  chromedriver                        0x00000001009933d0 chromedriver + 4092880\n11  chromedriver                        0x000000010098c6e4 chromedriver + 4064996\n12  chromedriver                        0x00000001009620fc chromedriver + 3891452\n13  chromedriver                        0x00000001009aca64 chromedriver + 4196964\n14  chromedriver                        0x00000001009acbb8 chromedriver + 4197304\n15  chromedriver                        0x00000001009c0650 chromedriver + 4277840\n16  libsystem_pthread.dylib             0x00000001a9f0106c _pthread_start + 148\n17  libsystem_pthread.dylib             0x00000001a9efbe2c thread_start + 8\n"
     ]
    }
   ],
   "source": [
    "soup = BeautifulSoup(html,'html.parser')\n",
    "\n",
    "newstitles = []\n",
    "newsLinks = []\n",
    "errorList = []\n",
    "setJSONList = []\n",
    "i = 0\n",
    "links = soup.select(\".list-titles a\")\n",
    "\n",
    "soup = BeautifulSoup(html,'html.parser')\n",
    "for link in links:\n",
    "    try:  \n",
    "        newstitles.append(link.text)\n",
    "        newsLinks.append(url+link.attrs['href'])\n",
    "        # driver.find_element(By.XPATH, '//*[@id=\"pagination\"]/li['+ str(count) +']').click()\n",
    "    except: errorList.append(f'Error number : {str(link)} newsTitle :{link.text}')\n",
    "    else:\n",
    "        setJSONList.append({newstitles[i]:newsLinks[i]})\n",
    "        i += 1\n",
    "        time.sleep(1)"
   ]
  },
  {
   "cell_type": "code",
   "execution_count": null,
   "metadata": {},
   "outputs": [
    {
     "data": {
      "text/plain": [
       "['충남도의회, 교통연수원장 후보자 인사청문 ‘적합’ 판정',\n",
       " '중진공 충남청년창업사관학교, 12기 졸업간담회 개최',\n",
       " 'NH농협은행 충남본부, 역대 최다 지역인재 채용',\n",
       " '충남선관위·농협중앙회 충남세종본부,  공명선거 기원 공동 캠페인 실시',\n",
       " '대전과기대,\\xa0인권센터 운영·심의위원회 외부위원 위촉식',\n",
       " '이장우 시장, 내년도 국비 확보 총력전 선포',\n",
       " '세종시 선수단, 제104회 전국동계체육대회에서 ‘역대 최고 성적’',\n",
       " '백석문화대, ‘조기취업형 계약학과’ 예비대학 ‘하이! 스쿨’ 개최',\n",
       " '대전 서구, 대전지방조달청장과 간담회 개최',\n",
       " '충남‧충북도의회 교육위, 교육발전 위한 업무협약 체결',\n",
       " '충남도의회, 국방관련 기관 이전과 국방산단 조성 사활',\n",
       " '충남문화관광재단 출범 위한 조례안 진통 끝 상임위 통과',\n",
       " '남서울대, 김수연 목사 독서진흥장학금 수여',\n",
       " '충남아산FC, 선수와 함께하는 사진전&사인회 개최',\n",
       " '가세로 태안군수, 김진권 군의원에 \"날선 비방 멈추길\" 일침',\n",
       " '충남경제진흥원, ‘소상공인 순회 설명회’ 진행',\n",
       " '가세로 태안군수, 부남호 수상태양광 사업 즉각 중단 촉구',\n",
       " '세종시설공단, 상반기 산단 환경협의체 회의 개최',\n",
       " '세종시사회서비스원, 2월 정책세미나 개최',\n",
       " '천안교육지원청, 새내기 공무원 직무연수 실시',\n",
       " '']"
      ]
     },
     "execution_count": 6,
     "metadata": {},
     "output_type": "execute_result"
    }
   ],
   "source": [
    "newstitles"
   ]
  },
  {
   "cell_type": "code",
   "execution_count": null,
   "metadata": {},
   "outputs": [],
   "source": [
    "setJSONList = []\n",
    "for i in range(0,len(list(newsLinks))):\n",
    "    setJSONList.append({newstitles[i]:newsLinks[i]})\n"
   ]
  },
  {
   "cell_type": "code",
   "execution_count": null,
   "metadata": {},
   "outputs": [
    {
     "data": {
      "text/plain": [
       "'http://www.ccnnews.co.kr/news/articleList.html?view_type=sm/news/articleView.html?idxno=285830'"
      ]
     },
     "execution_count": 10,
     "metadata": {},
     "output_type": "execute_result"
    }
   ],
   "source": [
    "list(newsLinks)[0]"
   ]
  },
  {
   "cell_type": "code",
   "execution_count": null,
   "metadata": {},
   "outputs": [
    {
     "data": {
      "text/plain": [
       "'http://www.ccnnews.co.kr/news/articleList.html?view_type=sm/news/articleView.html?idxno=285830'"
      ]
     },
     "execution_count": 15,
     "metadata": {},
     "output_type": "execute_result"
    }
   ],
   "source": [
    "setJSONList[0]['충남도의회, 교통연수원장 후보자 인사청문 ‘적합’ 판정']"
   ]
  },
  {
   "cell_type": "code",
   "execution_count": null,
   "metadata": {},
   "outputs": [
    {
     "data": {
      "text/plain": [
       "'http://www.ccnnews.co.kr/news/articleList.html?view_type=sm/news/articleView.html?idxno=285828'"
      ]
     },
     "execution_count": 18,
     "metadata": {},
     "output_type": "execute_result"
    }
   ],
   "source": [
    "setJSONList[1]['중진공 충남청년창업사관학교, 12기 졸업간담회 개최']"
   ]
  },
  {
   "cell_type": "code",
   "execution_count": null,
   "metadata": {},
   "outputs": [
    {
     "data": {
      "text/plain": [
       "dict_values(['http://www.ccnnews.co.kr/news/articleList.html?view_type=sm/news/articleView.html?idxno=285830'])"
      ]
     },
     "execution_count": 20,
     "metadata": {},
     "output_type": "execute_result"
    }
   ],
   "source": [
    "setJSONList[0].values()"
   ]
  },
  {
   "cell_type": "code",
   "execution_count": null,
   "metadata": {},
   "outputs": [
    {
     "data": {
      "text/plain": [
       "dict_keys(['충남도의회, 교통연수원장 후보자 인사청문 ‘적합’ 판정'])"
      ]
     },
     "execution_count": 21,
     "metadata": {},
     "output_type": "execute_result"
    }
   ],
   "source": [
    "setJSONList[0].keys()"
   ]
  },
  {
   "cell_type": "code",
   "execution_count": null,
   "metadata": {},
   "outputs": [],
   "source": [
    "def news():\n",
    "    url = 'http://m.kwnews.co.kr'\n",
    "    res = req.urlopen(url)\n",
    "    soup = BeautifulSoup(res, \"html.parser\")\n",
    "    links = soup.select(\"list-titles a\")\n",
    "\n",
    "    newstitles = []\n",
    "    newsLinks = []\n",
    "    errorList = []\n",
    "    setJSONList = []\n",
    "    i = 0\n",
    "    for link in links:\n",
    "        try:  \n",
    "            newstitles.append(link.text)\n",
    "            newsLinks.append(url+link.attrs['href'])\n",
    "        except: errorList.append(f'Error number : {str(link)} newsTitle :{link.text}')\n",
    "        else:\n",
    "            setJSONList.append({newstitles[i]:newsLinks[i]})\n",
    "            i += 1\n",
    "\n",
    "    # return jsonify({\n",
    "        # 'result' : setJSONList\n",
    "    return setJSONList\n",
    "    "
   ]
  },
  {
   "cell_type": "code",
   "execution_count": 7,
   "metadata": {},
   "outputs": [],
   "source": [
    "def news():\n",
    "    url = 'http://www.ccnnews.co.kr/news/articleList.html?view_type=sm'\n",
    "    res = req.urlopen(url)\n",
    "    soup = BeautifulSoup(res, \"html.parser\")\n",
    "    links = soup.select(\".list-titles a\")\n",
    "\n",
    "    newstitles = []\n",
    "    newsLinks = []\n",
    "    errorList = []\n",
    "    setJSONList = []\n",
    "    i = 0\n",
    "    for link in links:\n",
    "        try:  \n",
    "            newstitles.append(link.text)\n",
    "            newsLinks.append(url+link.attrs['href'])\n",
    "        except: errorList.append(f'Error number : {str(link)} newsTitle :{link.text}')\n",
    "        else:\n",
    "            setJSONList.append({newstitles[i]:newsLinks[i]})\n",
    "            i += 1\n",
    "\n",
    "    # return jsonify({\n",
    "        # 'result' : setJSONList\n",
    "    return setJSONList\n",
    "    "
   ]
  },
  {
   "cell_type": "code",
   "execution_count": 8,
   "metadata": {},
   "outputs": [
    {
     "data": {
      "text/plain": [
       "[{'김기현·안철수·천하람·황교안, 충청 찾아 “내가 총선 승리 적임자”': 'http://www.ccnnews.co.kr/news/articleList.html?view_type=sm/news/articleView.html?idxno=285996'},\n",
       " {'박상돈 천안시장, 대한민국예술문화대상 ‘문화공로상’ 수상': 'http://www.ccnnews.co.kr/news/articleList.html?view_type=sm/news/articleView.html?idxno=285997'},\n",
       " {'‘천안시티FC’ 창단 16년 만에 K2 진출...3월 1일 개막전': 'http://www.ccnnews.co.kr/news/articleList.html?view_type=sm/news/articleView.html?idxno=285995'},\n",
       " {'[사진] 설동호 대전교육감, 제36회 대한민국 예술문화대상 수상': 'http://www.ccnnews.co.kr/news/articleList.html?view_type=sm/news/articleView.html?idxno=285994'},\n",
       " {'충남도의회, 튀르키예·시리아 지진 피해 복구 위한 성금 전달': 'http://www.ccnnews.co.kr/news/articleList.html?view_type=sm/news/articleView.html?idxno=285993'},\n",
       " {'충남도의회 “고향사랑기부제 참여로 충남을 응원해주세요”': 'http://www.ccnnews.co.kr/news/articleList.html?view_type=sm/news/articleView.html?idxno=285992'},\n",
       " {'대전지방보훈청, 전문교육기관 위탁교육 업무협약식': 'http://www.ccnnews.co.kr/news/articleList.html?view_type=sm/news/articleView.html?idxno=285991'},\n",
       " {'충남도의회, 꿀벌 실종으로 고통겪는 양봉농가 지원 촉구': 'http://www.ccnnews.co.kr/news/articleList.html?view_type=sm/news/articleView.html?idxno=285989'},\n",
       " {'수자원공사 영·섬유역본부, 가뭄극복 결의대회 개최': 'http://www.ccnnews.co.kr/news/articleList.html?view_type=sm/news/articleView.html?idxno=285990'},\n",
       " {'박경귀 시장 “아산시민의 정성, 튀르키예·시리아에 희망되길”': 'http://www.ccnnews.co.kr/news/articleList.html?view_type=sm/news/articleView.html?idxno=285988'},\n",
       " {'충남도의회 ‘방산혁신클러스터’ 충남 유치 촉구': 'http://www.ccnnews.co.kr/news/articleList.html?view_type=sm/news/articleView.html?idxno=285986'},\n",
       " {\"초록우산 세종본부-세종시정신건강복지센터, 자살 고위험가정 아동 지원 '맞손'\": 'http://www.ccnnews.co.kr/news/articleList.html?view_type=sm/news/articleView.html?idxno=285985'},\n",
       " {'박경귀 아산시장 “염치읍 인구 유입 동력 확보할 것”': 'http://www.ccnnews.co.kr/news/articleList.html?view_type=sm/news/articleView.html?idxno=285987'},\n",
       " {'대전교육청, 2023년 상반기 행정실장 연수': 'http://www.ccnnews.co.kr/news/articleList.html?view_type=sm/news/articleView.html?idxno=285984'},\n",
       " {'충남도의회, 공주대 의과대학 설치 특별법 제정 촉구': 'http://www.ccnnews.co.kr/news/articleList.html?view_type=sm/news/articleView.html?idxno=285983'},\n",
       " {'충남도의회, 도 민간위탁사무 조사 특별위원회 구성': 'http://www.ccnnews.co.kr/news/articleList.html?view_type=sm/news/articleView.html?idxno=285982'},\n",
       " {'[사진] 국내 최고층 7층 목조건축 산림복지종합교육센터 안전점검': 'http://www.ccnnews.co.kr/news/articleList.html?view_type=sm/news/articleView.html?idxno=285981'},\n",
       " {'충남도의회 김선태 의원 “충남도 공공기관 통폐합 추진 ‘억지춘향’”': 'http://www.ccnnews.co.kr/news/articleList.html?view_type=sm/news/articleView.html?idxno=285980'},\n",
       " {'충남도의회 안장헌 의원, 전도민 특별에너지 지원금 지급 등 제안': 'http://www.ccnnews.co.kr/news/articleList.html?view_type=sm/news/articleView.html?idxno=285978'},\n",
       " {'충남도의회 조철기 대표 “자화자찬 아닌 도민 중심 도정 펼쳐야”': 'http://www.ccnnews.co.kr/news/articleList.html?view_type=sm/news/articleView.html?idxno=285977'},\n",
       " {'': 'http://www.ccnnews.co.kr/news/articleList.html?view_type=sm'}]"
      ]
     },
     "execution_count": 8,
     "metadata": {},
     "output_type": "execute_result"
    }
   ],
   "source": [
    "news()"
   ]
  },
  {
   "cell_type": "code",
   "execution_count": null,
   "metadata": {},
   "outputs": [],
   "source": []
  }
 ],
 "metadata": {
  "kernelspec": {
   "display_name": "Python 3",
   "language": "python",
   "name": "python3"
  },
  "language_info": {
   "codemirror_mode": {
    "name": "ipython",
    "version": 3
   },
   "file_extension": ".py",
   "mimetype": "text/x-python",
   "name": "python",
   "nbconvert_exporter": "python",
   "pygments_lexer": "ipython3",
   "version": "3.9.13"
  },
  "orig_nbformat": 4,
  "vscode": {
   "interpreter": {
    "hash": "d864e386a55a2cee39c31bc0e2325312cb68f97ec75faaaf5382620c119f58c5"
   }
  }
 },
 "nbformat": 4,
 "nbformat_minor": 2
}
