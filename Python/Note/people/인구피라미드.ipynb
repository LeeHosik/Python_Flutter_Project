{
 "cells": [
  {
   "cell_type": "code",
   "execution_count": null,
   "metadata": {},
   "outputs": [],
   "source": [
    "import pandas as pd\n",
    "# import seaborn as sns\n",
    "import matplotlib.pyplot as plt\n",
    "import warnings\n",
    "import json\n",
    "import folium\n",
    "warnings.filterwarnings(\"ignore\")\n",
    "# 한글 폰트 문제 해결 \n",
    "# matplotlib은 한글 폰트를 지원하지 않음\n",
    "# os정보\n",
    "import platform\n",
    "\n",
    "# font_manager : 폰트 관리 모듈\n",
    "# rc : 폰트 변경 모듈\n",
    "from matplotlib import font_manager, rc\n",
    "# unicode 설정\n",
    "plt.rcParams['axes.unicode_minus'] = False\n",
    "\n",
    "if platform.system() == 'Darwin':\n",
    "    rc('font', family='AppleGothic') # os가 macos\n",
    "elif platform.system() == 'Windows':\n",
    "    path = 'c:/Windows/Fonts/malgun.ttf' # os가 windows\n",
    "    font_name = font_manager.FontProperties(fname=path).get_name()\n",
    "    rc('font', family=font_name)\n",
    "else:\n",
    "    print(\"Unknown System\")"
   ]
  },
  {
   "cell_type": "code",
   "execution_count": null,
   "metadata": {},
   "outputs": [],
   "source": [
    "# df = pd. read_csv(\"../../Data/sangwonKim/주민등록인구_시도_시_군_구__20230207.csv\", encoding='euc-kr')\n",
    "# df.head()"
   ]
  },
  {
   "cell_type": "code",
   "execution_count": null,
   "metadata": {},
   "outputs": [],
   "source": [
    "# import csv\n",
    "# f = open ('age_gender _2020.csv')\n",
    "# data = csv. reader (f)\n",
    "# 6 male = []\n",
    "# 7 female\n",
    "\n",
    "# g name = input ('인구 피라미드를 구하고 싶은 동네의 이름을 입력하세요 : ')\n",
    "# for row in data:\n",
    "# if name in row[O]:\n",
    "\n",
    "# for I in row [3:104]:\n",
    "# male.append(-int (i. replace', ', for i in row [106:]:\n",
    "\n",
    "# female. append(int(i. replace', break\n",
    "\n",
    "# import matplotlib.pyplot as plt\n",
    "\n",
    "# plt.rc('font', family='Malgun Gothic')\n",
    "#  plt. rcParams ['axes.unicode minus'] = False\n",
    "#  plt.style.use( 'gaplot ')\n",
    "#  plt.figure(figsize (10, 18), dpi =150)\n",
    "\n",
    "# plt.title('09 97 aZOle'. format (name))\n",
    "# plt.xlabel('인구 수 ')\n",
    "\n",
    "# plt.ylabel ('연령')\n",
    "# plt.yticks(range(101))\n",
    "\n",
    "# blt.barh(range(101), male, labelS')\n",
    "# plt.barh(range(101), female, label='')\n",
    "\n",
    "# pit. legend()\n",
    "# pit. show()"
   ]
  }
 ],
 "metadata": {
  "kernelspec": {
   "display_name": "Python 3",
   "language": "python",
   "name": "python3"
  },
  "language_info": {
   "name": "python",
   "version": "3.9.13"
  },
  "orig_nbformat": 4,
  "vscode": {
   "interpreter": {
    "hash": "d864e386a55a2cee39c31bc0e2325312cb68f97ec75faaaf5382620c119f58c5"
   }
  }
 },
 "nbformat": 4,
 "nbformat_minor": 2
}
