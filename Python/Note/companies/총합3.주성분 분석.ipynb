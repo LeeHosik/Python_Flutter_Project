{
 "cells": [
  {
   "attachments": {},
   "cell_type": "markdown",
   "metadata": {},
   "source": [
    "## 주성분 분석(PCA: Principal Component Analysis)\n",
    "- 고차원 데이터를 저차원 데이터로 환원시키는 기법"
   ]
  },
  {
   "cell_type": "code",
   "execution_count": 119,
   "metadata": {},
   "outputs": [],
   "source": [
    "import pandas as pd\n",
    "import seaborn as sns\n",
    "import numpy as np\n",
    "import matplotlib.pyplot as plt\n",
    "import warnings\n",
    "warnings.filterwarnings(\"ignore\")\n",
    "# 한글 폰트 문제 해결 \n",
    "# matplotlib은 한글 폰트를 지원하지 않음\n",
    "# os정보\n",
    "import platform\n",
    "\n",
    "# font_manager : 폰트 관리 모듈\n",
    "# rc : 폰트 변경 모듈\n",
    "from matplotlib import font_manager, rc\n",
    "# unicode 설정\n",
    "plt.rcParams['axes.unicode_minus'] = False\n",
    "\n",
    "if platform.system() == 'Darwin':\n",
    "    rc('font', family='AppleGothic') # os가 macos\n",
    "elif platform.system() == 'Windows':\n",
    "    path = 'c:/Windows/Fonts/malgun.ttf' # os가 windows\n",
    "    font_name = font_manager.FontProperties(fname=path).get_name()\n",
    "    rc('font', family=font_name)\n",
    "else:\n",
    "    print(\"Unknown System\")"
   ]
  },
  {
   "cell_type": "code",
   "execution_count": 165,
   "metadata": {},
   "outputs": [
    {
     "data": {
      "text/html": [
       "<div>\n",
       "<style scoped>\n",
       "    .dataframe tbody tr th:only-of-type {\n",
       "        vertical-align: middle;\n",
       "    }\n",
       "\n",
       "    .dataframe tbody tr th {\n",
       "        vertical-align: top;\n",
       "    }\n",
       "\n",
       "    .dataframe thead th {\n",
       "        text-align: right;\n",
       "    }\n",
       "</style>\n",
       "<table border=\"1\" class=\"dataframe\">\n",
       "  <thead>\n",
       "    <tr style=\"text-align: right;\">\n",
       "      <th></th>\n",
       "      <th>년도</th>\n",
       "      <th>시도</th>\n",
       "      <th>총인구</th>\n",
       "      <th>전출인구</th>\n",
       "      <th>출생아수</th>\n",
       "      <th>산부인과의원수</th>\n",
       "      <th>초등학생인원수</th>\n",
       "      <th>도매 및 소매업 신생</th>\n",
       "      <th>예금은행대출금액</th>\n",
       "      <th>예금액</th>\n",
       "    </tr>\n",
       "  </thead>\n",
       "  <tbody>\n",
       "    <tr>\n",
       "      <th>0</th>\n",
       "      <td>2013</td>\n",
       "      <td>경기도</td>\n",
       "      <td>12234630</td>\n",
       "      <td>1821303</td>\n",
       "      <td>112129</td>\n",
       "      <td>286</td>\n",
       "      <td>739619</td>\n",
       "      <td>49143</td>\n",
       "      <td>248468.3</td>\n",
       "      <td>13718.5</td>\n",
       "    </tr>\n",
       "    <tr>\n",
       "      <th>1</th>\n",
       "      <td>2013</td>\n",
       "      <td>서울특별시</td>\n",
       "      <td>10143645</td>\n",
       "      <td>1620640</td>\n",
       "      <td>84066</td>\n",
       "      <td>395</td>\n",
       "      <td>469392</td>\n",
       "      <td>48097</td>\n",
       "      <td>462443.1</td>\n",
       "      <td>532689.2</td>\n",
       "    </tr>\n",
       "    <tr>\n",
       "      <th>2</th>\n",
       "      <td>2013</td>\n",
       "      <td>경상남도</td>\n",
       "      <td>3333820</td>\n",
       "      <td>423864</td>\n",
       "      <td>29504</td>\n",
       "      <td>65</td>\n",
       "      <td>190166</td>\n",
       "      <td>12612</td>\n",
       "      <td>57288.6</td>\n",
       "      <td>6703.3</td>\n",
       "    </tr>\n",
       "    <tr>\n",
       "      <th>3</th>\n",
       "      <td>2013</td>\n",
       "      <td>부산광역시</td>\n",
       "      <td>3527635</td>\n",
       "      <td>496161</td>\n",
       "      <td>25831</td>\n",
       "      <td>82</td>\n",
       "      <td>160821</td>\n",
       "      <td>13902</td>\n",
       "      <td>77411.6</td>\n",
       "      <td>59554.5</td>\n",
       "    </tr>\n",
       "    <tr>\n",
       "      <th>4</th>\n",
       "      <td>2013</td>\n",
       "      <td>대구광역시</td>\n",
       "      <td>2501588</td>\n",
       "      <td>363224</td>\n",
       "      <td>19340</td>\n",
       "      <td>86</td>\n",
       "      <td>136309</td>\n",
       "      <td>9981</td>\n",
       "      <td>46578.5</td>\n",
       "      <td>37541.7</td>\n",
       "    </tr>\n",
       "  </tbody>\n",
       "</table>\n",
       "</div>"
      ],
      "text/plain": [
       "     년도     시도       총인구     전출인구    출생아수  산부인과의원수  초등학생인원수  도매 및 소매업 신생  \\\n",
       "0  2013    경기도  12234630  1821303  112129      286   739619        49143   \n",
       "1  2013  서울특별시  10143645  1620640   84066      395   469392        48097   \n",
       "2  2013   경상남도   3333820   423864   29504       65   190166        12612   \n",
       "3  2013  부산광역시   3527635   496161   25831       82   160821        13902   \n",
       "4  2013  대구광역시   2501588   363224   19340       86   136309         9981   \n",
       "\n",
       "   예금은행대출금액       예금액  \n",
       "0  248468.3   13718.5  \n",
       "1  462443.1  532689.2  \n",
       "2   57288.6    6703.3  \n",
       "3   77411.6   59554.5  \n",
       "4   46578.5   37541.7  "
      ]
     },
     "execution_count": 165,
     "metadata": {},
     "output_type": "execute_result"
    }
   ],
   "source": [
    "df_all = pd.read_csv(\"../../Data/03.통합.csv\")\n",
    "df_all.head()"
   ]
  },
  {
   "cell_type": "code",
   "execution_count": 120,
   "metadata": {},
   "outputs": [
    {
     "data": {
      "text/html": [
       "<div>\n",
       "<style scoped>\n",
       "    .dataframe tbody tr th:only-of-type {\n",
       "        vertical-align: middle;\n",
       "    }\n",
       "\n",
       "    .dataframe tbody tr th {\n",
       "        vertical-align: top;\n",
       "    }\n",
       "\n",
       "    .dataframe thead th {\n",
       "        text-align: right;\n",
       "    }\n",
       "</style>\n",
       "<table border=\"1\" class=\"dataframe\">\n",
       "  <thead>\n",
       "    <tr style=\"text-align: right;\">\n",
       "      <th></th>\n",
       "      <th>전출인구</th>\n",
       "      <th>출생아수</th>\n",
       "      <th>산부인과의원수</th>\n",
       "      <th>초등학생인원수</th>\n",
       "      <th>도매 및 소매업 신생</th>\n",
       "      <th>예금은행대출금액</th>\n",
       "      <th>예금액</th>\n",
       "    </tr>\n",
       "  </thead>\n",
       "  <tbody>\n",
       "    <tr>\n",
       "      <th>0</th>\n",
       "      <td>1821303</td>\n",
       "      <td>112129</td>\n",
       "      <td>286</td>\n",
       "      <td>739619</td>\n",
       "      <td>49143</td>\n",
       "      <td>248468.3</td>\n",
       "      <td>13718.5</td>\n",
       "    </tr>\n",
       "    <tr>\n",
       "      <th>1</th>\n",
       "      <td>1620640</td>\n",
       "      <td>84066</td>\n",
       "      <td>395</td>\n",
       "      <td>469392</td>\n",
       "      <td>48097</td>\n",
       "      <td>462443.1</td>\n",
       "      <td>532689.2</td>\n",
       "    </tr>\n",
       "    <tr>\n",
       "      <th>2</th>\n",
       "      <td>423864</td>\n",
       "      <td>29504</td>\n",
       "      <td>65</td>\n",
       "      <td>190166</td>\n",
       "      <td>12612</td>\n",
       "      <td>57288.6</td>\n",
       "      <td>6703.3</td>\n",
       "    </tr>\n",
       "    <tr>\n",
       "      <th>3</th>\n",
       "      <td>496161</td>\n",
       "      <td>25831</td>\n",
       "      <td>82</td>\n",
       "      <td>160821</td>\n",
       "      <td>13902</td>\n",
       "      <td>77411.6</td>\n",
       "      <td>59554.5</td>\n",
       "    </tr>\n",
       "    <tr>\n",
       "      <th>4</th>\n",
       "      <td>363224</td>\n",
       "      <td>19340</td>\n",
       "      <td>86</td>\n",
       "      <td>136309</td>\n",
       "      <td>9981</td>\n",
       "      <td>46578.5</td>\n",
       "      <td>37541.7</td>\n",
       "    </tr>\n",
       "    <tr>\n",
       "      <th>...</th>\n",
       "      <td>...</td>\n",
       "      <td>...</td>\n",
       "      <td>...</td>\n",
       "      <td>...</td>\n",
       "      <td>...</td>\n",
       "      <td>...</td>\n",
       "      <td>...</td>\n",
       "    </tr>\n",
       "    <tr>\n",
       "      <th>131</th>\n",
       "      <td>226441</td>\n",
       "      <td>8607</td>\n",
       "      <td>40</td>\n",
       "      <td>85135</td>\n",
       "      <td>6103</td>\n",
       "      <td>28669.1</td>\n",
       "      <td>27669.5</td>\n",
       "    </tr>\n",
       "    <tr>\n",
       "      <th>132</th>\n",
       "      <td>243418</td>\n",
       "      <td>7481</td>\n",
       "      <td>44</td>\n",
       "      <td>79807</td>\n",
       "      <td>6405</td>\n",
       "      <td>39341.3</td>\n",
       "      <td>38725.4</td>\n",
       "    </tr>\n",
       "    <tr>\n",
       "      <th>133</th>\n",
       "      <td>217897</td>\n",
       "      <td>7835</td>\n",
       "      <td>32</td>\n",
       "      <td>73478</td>\n",
       "      <td>5554</td>\n",
       "      <td>22831.4</td>\n",
       "      <td>23634.2</td>\n",
       "    </tr>\n",
       "    <tr>\n",
       "      <th>134</th>\n",
       "      <td>94736</td>\n",
       "      <td>3989</td>\n",
       "      <td>23</td>\n",
       "      <td>40575</td>\n",
       "      <td>2856</td>\n",
       "      <td>20182.3</td>\n",
       "      <td>14025.4</td>\n",
       "    </tr>\n",
       "    <tr>\n",
       "      <th>135</th>\n",
       "      <td>65909</td>\n",
       "      <td>3468</td>\n",
       "      <td>7</td>\n",
       "      <td>29487</td>\n",
       "      <td>1361</td>\n",
       "      <td>9864.7</td>\n",
       "      <td>251734.3</td>\n",
       "    </tr>\n",
       "  </tbody>\n",
       "</table>\n",
       "<p>136 rows × 7 columns</p>\n",
       "</div>"
      ],
      "text/plain": [
       "        전출인구    출생아수  산부인과의원수  초등학생인원수  도매 및 소매업 신생  예금은행대출금액       예금액\n",
       "0    1821303  112129      286   739619        49143  248468.3   13718.5\n",
       "1    1620640   84066      395   469392        48097  462443.1  532689.2\n",
       "2     423864   29504       65   190166        12612   57288.6    6703.3\n",
       "3     496161   25831       82   160821        13902   77411.6   59554.5\n",
       "4     363224   19340       86   136309         9981   46578.5   37541.7\n",
       "..       ...     ...      ...      ...          ...       ...       ...\n",
       "131   226441    8607       40    85135         6103   28669.1   27669.5\n",
       "132   243418    7481       44    79807         6405   39341.3   38725.4\n",
       "133   217897    7835       32    73478         5554   22831.4   23634.2\n",
       "134    94736    3989       23    40575         2856   20182.3   14025.4\n",
       "135    65909    3468        7    29487         1361    9864.7  251734.3\n",
       "\n",
       "[136 rows x 7 columns]"
      ]
     },
     "execution_count": 120,
     "metadata": {},
     "output_type": "execute_result"
    }
   ],
   "source": [
    "df = pd.read_csv(\"../../Data/companies/통합_k.csv\")\n",
    "\n",
    "df_feature = df.iloc[:, :7]\n",
    "# df.head()\n",
    "df_feature"
   ]
  },
  {
   "cell_type": "code",
   "execution_count": 121,
   "metadata": {},
   "outputs": [
    {
     "data": {
      "text/html": [
       "<style>#sk-container-id-8 {color: black;background-color: white;}#sk-container-id-8 pre{padding: 0;}#sk-container-id-8 div.sk-toggleable {background-color: white;}#sk-container-id-8 label.sk-toggleable__label {cursor: pointer;display: block;width: 100%;margin-bottom: 0;padding: 0.3em;box-sizing: border-box;text-align: center;}#sk-container-id-8 label.sk-toggleable__label-arrow:before {content: \"▸\";float: left;margin-right: 0.25em;color: #696969;}#sk-container-id-8 label.sk-toggleable__label-arrow:hover:before {color: black;}#sk-container-id-8 div.sk-estimator:hover label.sk-toggleable__label-arrow:before {color: black;}#sk-container-id-8 div.sk-toggleable__content {max-height: 0;max-width: 0;overflow: hidden;text-align: left;background-color: #f0f8ff;}#sk-container-id-8 div.sk-toggleable__content pre {margin: 0.2em;color: black;border-radius: 0.25em;background-color: #f0f8ff;}#sk-container-id-8 input.sk-toggleable__control:checked~div.sk-toggleable__content {max-height: 200px;max-width: 100%;overflow: auto;}#sk-container-id-8 input.sk-toggleable__control:checked~label.sk-toggleable__label-arrow:before {content: \"▾\";}#sk-container-id-8 div.sk-estimator input.sk-toggleable__control:checked~label.sk-toggleable__label {background-color: #d4ebff;}#sk-container-id-8 div.sk-label input.sk-toggleable__control:checked~label.sk-toggleable__label {background-color: #d4ebff;}#sk-container-id-8 input.sk-hidden--visually {border: 0;clip: rect(1px 1px 1px 1px);clip: rect(1px, 1px, 1px, 1px);height: 1px;margin: -1px;overflow: hidden;padding: 0;position: absolute;width: 1px;}#sk-container-id-8 div.sk-estimator {font-family: monospace;background-color: #f0f8ff;border: 1px dotted black;border-radius: 0.25em;box-sizing: border-box;margin-bottom: 0.5em;}#sk-container-id-8 div.sk-estimator:hover {background-color: #d4ebff;}#sk-container-id-8 div.sk-parallel-item::after {content: \"\";width: 100%;border-bottom: 1px solid gray;flex-grow: 1;}#sk-container-id-8 div.sk-label:hover label.sk-toggleable__label {background-color: #d4ebff;}#sk-container-id-8 div.sk-serial::before {content: \"\";position: absolute;border-left: 1px solid gray;box-sizing: border-box;top: 0;bottom: 0;left: 50%;z-index: 0;}#sk-container-id-8 div.sk-serial {display: flex;flex-direction: column;align-items: center;background-color: white;padding-right: 0.2em;padding-left: 0.2em;position: relative;}#sk-container-id-8 div.sk-item {position: relative;z-index: 1;}#sk-container-id-8 div.sk-parallel {display: flex;align-items: stretch;justify-content: center;background-color: white;position: relative;}#sk-container-id-8 div.sk-item::before, #sk-container-id-8 div.sk-parallel-item::before {content: \"\";position: absolute;border-left: 1px solid gray;box-sizing: border-box;top: 0;bottom: 0;left: 50%;z-index: -1;}#sk-container-id-8 div.sk-parallel-item {display: flex;flex-direction: column;z-index: 1;position: relative;background-color: white;}#sk-container-id-8 div.sk-parallel-item:first-child::after {align-self: flex-end;width: 50%;}#sk-container-id-8 div.sk-parallel-item:last-child::after {align-self: flex-start;width: 50%;}#sk-container-id-8 div.sk-parallel-item:only-child::after {width: 0;}#sk-container-id-8 div.sk-dashed-wrapped {border: 1px dashed gray;margin: 0 0.4em 0.5em 0.4em;box-sizing: border-box;padding-bottom: 0.4em;background-color: white;}#sk-container-id-8 div.sk-label label {font-family: monospace;font-weight: bold;display: inline-block;line-height: 1.2em;}#sk-container-id-8 div.sk-label-container {text-align: center;}#sk-container-id-8 div.sk-container {/* jupyter's `normalize.less` sets `[hidden] { display: none; }` but bootstrap.min.css set `[hidden] { display: none !important; }` so we also need the `!important` here to be able to override the default hidden behavior on the sphinx rendered scikit-learn.org. See: https://github.com/scikit-learn/scikit-learn/issues/21755 */display: inline-block !important;position: relative;}#sk-container-id-8 div.sk-text-repr-fallback {display: none;}</style><div id=\"sk-container-id-8\" class=\"sk-top-container\"><div class=\"sk-text-repr-fallback\"><pre>PCA(n_components=7)</pre><b>In a Jupyter environment, please rerun this cell to show the HTML representation or trust the notebook. <br />On GitHub, the HTML representation is unable to render, please try loading this page with nbviewer.org.</b></div><div class=\"sk-container\" hidden><div class=\"sk-item\"><div class=\"sk-estimator sk-toggleable\"><input class=\"sk-toggleable__control sk-hidden--visually\" id=\"sk-estimator-id-8\" type=\"checkbox\" checked><label for=\"sk-estimator-id-8\" class=\"sk-toggleable__label sk-toggleable__label-arrow\">PCA</label><div class=\"sk-toggleable__content\"><pre>PCA(n_components=7)</pre></div></div></div></div></div>"
      ],
      "text/plain": [
       "PCA(n_components=7)"
      ]
     },
     "execution_count": 121,
     "metadata": {},
     "output_type": "execute_result"
    }
   ],
   "source": [
    "from sklearn.decomposition import PCA\n",
    "pca = PCA(n_components=7) # 구별이 확실한 주성분 7개 선택\n",
    "pca.fit(df_feature) #7개만 학습"
   ]
  },
  {
   "cell_type": "code",
   "execution_count": 122,
   "metadata": {},
   "outputs": [
    {
     "data": {
      "text/plain": [
       "(7, 7)"
      ]
     },
     "execution_count": 122,
     "metadata": {},
     "output_type": "execute_result"
    }
   ],
   "source": [
    "pca.components_.shape"
   ]
  },
  {
   "cell_type": "code",
   "execution_count": 123,
   "metadata": {},
   "outputs": [
    {
     "data": {
      "text/plain": [
       "[<matplotlib.lines.Line2D at 0x1654e6f40>]"
      ]
     },
     "execution_count": 123,
     "metadata": {},
     "output_type": "execute_result"
    },
    {
     "data": {
      "image/png": "[encoded data removed]",
      "text/plain": [
       "<Figure size 640x480 with 1 Axes>"
      ]
     },
     "metadata": {},
     "output_type": "display_data"
    }
   ],
   "source": [
    "plt.plot(pca.explained_variance_ratio_)"
   ]
  },
  {
   "attachments": {},
   "cell_type": "markdown",
   "metadata": {},
   "source": [
    "> 2개가 베스트?"
   ]
  },
  {
   "cell_type": "code",
   "execution_count": 124,
   "metadata": {},
   "outputs": [
    {
     "name": "stdout",
     "output_type": "stream",
     "text": [
      "[9.27341355e-01 7.01893533e-02 1.50304387e-03 9.25729814e-04\n",
      " 3.69872025e-05 3.53040870e-06 4.89325218e-10]\n",
      "sum: 1.0000000000000004\n"
     ]
    }
   ],
   "source": [
    "# '전출인구',\t'출생아수',\t'산부인과의원수',\t'초등학생인원수',\t'도매 및 소매업 신생',\t'예금은행대출금액',\t'예금액'\n",
    "print(pca.explained_variance_ratio_)\n",
    "print('sum:', sum(pca.explained_variance_ratio_))"
   ]
  },
  {
   "cell_type": "code",
   "execution_count": 125,
   "metadata": {},
   "outputs": [
    {
     "data": {
      "text/html": [
       "<div>\n",
       "<style scoped>\n",
       "    .dataframe tbody tr th:only-of-type {\n",
       "        vertical-align: middle;\n",
       "    }\n",
       "\n",
       "    .dataframe tbody tr th {\n",
       "        vertical-align: top;\n",
       "    }\n",
       "\n",
       "    .dataframe thead th {\n",
       "        text-align: right;\n",
       "    }\n",
       "</style>\n",
       "<table border=\"1\" class=\"dataframe\">\n",
       "  <thead>\n",
       "    <tr style=\"text-align: right;\">\n",
       "      <th></th>\n",
       "      <th>전출인구</th>\n",
       "      <th>출생아수</th>\n",
       "      <th>산부인과의원수</th>\n",
       "      <th>초등학생인원수</th>\n",
       "      <th>도매 및 소매업 신생</th>\n",
       "      <th>예금은행대출금액</th>\n",
       "      <th>예금액</th>\n",
       "    </tr>\n",
       "  </thead>\n",
       "  <tbody>\n",
       "    <tr>\n",
       "      <th>0</th>\n",
       "      <td>2.833561</td>\n",
       "      <td>3.704427</td>\n",
       "      <td>2.152969</td>\n",
       "      <td>3.391416</td>\n",
       "      <td>2.638342</td>\n",
       "      <td>1.130935</td>\n",
       "      <td>-0.396749</td>\n",
       "    </tr>\n",
       "    <tr>\n",
       "      <th>1</th>\n",
       "      <td>2.422746</td>\n",
       "      <td>2.552487</td>\n",
       "      <td>3.284688</td>\n",
       "      <td>1.810959</td>\n",
       "      <td>2.563537</td>\n",
       "      <td>2.632416</td>\n",
       "      <td>2.881050</td>\n",
       "    </tr>\n",
       "    <tr>\n",
       "      <th>2</th>\n",
       "      <td>-0.027402</td>\n",
       "      <td>0.312808</td>\n",
       "      <td>-0.141618</td>\n",
       "      <td>0.177870</td>\n",
       "      <td>0.025838</td>\n",
       "      <td>-0.210591</td>\n",
       "      <td>-0.441057</td>\n",
       "    </tr>\n",
       "    <tr>\n",
       "      <th>3</th>\n",
       "      <td>0.120611</td>\n",
       "      <td>0.162037</td>\n",
       "      <td>0.034889</td>\n",
       "      <td>0.006242</td>\n",
       "      <td>0.118092</td>\n",
       "      <td>-0.069386</td>\n",
       "      <td>-0.107251</td>\n",
       "    </tr>\n",
       "    <tr>\n",
       "      <th>4</th>\n",
       "      <td>-0.151550</td>\n",
       "      <td>-0.104407</td>\n",
       "      <td>0.076420</td>\n",
       "      <td>-0.137120</td>\n",
       "      <td>-0.162317</td>\n",
       "      <td>-0.285745</td>\n",
       "      <td>-0.246283</td>\n",
       "    </tr>\n",
       "  </tbody>\n",
       "</table>\n",
       "</div>"
      ],
      "text/plain": [
       "       전출인구      출생아수   산부인과의원수   초등학생인원수  도매 및 소매업 신생  예금은행대출금액       예금액\n",
       "0  2.833561  3.704427  2.152969  3.391416     2.638342  1.130935 -0.396749\n",
       "1  2.422746  2.552487  3.284688  1.810959     2.563537  2.632416  2.881050\n",
       "2 -0.027402  0.312808 -0.141618  0.177870     0.025838 -0.210591 -0.441057\n",
       "3  0.120611  0.162037  0.034889  0.006242     0.118092 -0.069386 -0.107251\n",
       "4 -0.151550 -0.104407  0.076420 -0.137120    -0.162317 -0.285745 -0.246283"
      ]
     },
     "execution_count": 125,
     "metadata": {},
     "output_type": "execute_result"
    }
   ],
   "source": [
    "from sklearn.preprocessing import StandardScaler  # 표준화 패키지 라이브러리 \n",
    "x = df[['전출인구',\t'출생아수',\t'산부인과의원수',\t'초등학생인원수',\t'도매 및 소매업 신생',\t'예금은행대출금액',\t'예금액']].values # 독립변인들의 value값만 추출\n",
    "y = df['cluster_id'].values # 종속변인 추출\n",
    "\n",
    "x = StandardScaler().fit_transform(x) # x객체에 x를 표준화한 데이터를 저장\n",
    "\n",
    "features = ['전출인구',\t'출생아수',\t'산부인과의원수',\t'초등학생인원수',\t'도매 및 소매업 신생',\t'예금은행대출금액',\t'예금액']\n",
    "pd.DataFrame(x, columns=features).head()"
   ]
  },
  {
   "cell_type": "code",
   "execution_count": 134,
   "metadata": {},
   "outputs": [],
   "source": [
    "from sklearn.decomposition import PCA\n",
    "pca = PCA(n_components=2) # 주성분을 몇개로 할지 결정\n",
    "printcipalComponents = pca.fit_transform(x)\n",
    "principalDf = pd.DataFrame(data=printcipalComponents, columns=['principal component1', 'principal component2'])\n",
    "# 주성분으로 이루어진 데이터 프레임 구성"
   ]
  },
  {
   "cell_type": "code",
   "execution_count": 135,
   "metadata": {},
   "outputs": [
    {
     "name": "stdout",
     "output_type": "stream",
     "text": [
      "[0.85489805 0.13196426]\n"
     ]
    }
   ],
   "source": [
    "print(pca.explained_variance_ratio_)"
   ]
  },
  {
   "attachments": {},
   "cell_type": "markdown",
   "metadata": {},
   "source": [
    "- PC값이 클수록 설명력이 높습니다.\n",
    "- 전출인구, 초등학생 인원수"
   ]
  },
  {
   "cell_type": "code",
   "execution_count": 128,
   "metadata": {},
   "outputs": [
    {
     "data": {
      "text/plain": [
       "array([0.85489805, 0.13196426])"
      ]
     },
     "execution_count": 128,
     "metadata": {},
     "output_type": "execute_result"
    }
   ],
   "source": [
    "pca.explained_variance_ratio_"
   ]
  },
  {
   "cell_type": "code",
   "execution_count": 129,
   "metadata": {},
   "outputs": [
    {
     "data": {
      "text/html": [
       "<div>\n",
       "<style scoped>\n",
       "    .dataframe tbody tr th:only-of-type {\n",
       "        vertical-align: middle;\n",
       "    }\n",
       "\n",
       "    .dataframe tbody tr th {\n",
       "        vertical-align: top;\n",
       "    }\n",
       "\n",
       "    .dataframe thead th {\n",
       "        text-align: right;\n",
       "    }\n",
       "</style>\n",
       "<table border=\"1\" class=\"dataframe\">\n",
       "  <thead>\n",
       "    <tr style=\"text-align: right;\">\n",
       "      <th></th>\n",
       "      <th>principal component1</th>\n",
       "      <th>principal component2</th>\n",
       "      <th>전출인구</th>\n",
       "      <th>출생아수</th>\n",
       "      <th>산부인과의원수</th>\n",
       "      <th>초등학생인원수</th>\n",
       "      <th>도매 및 소매업 신생</th>\n",
       "      <th>예금은행대출금액</th>\n",
       "      <th>예금액</th>\n",
       "      <th>cluster_id</th>\n",
       "    </tr>\n",
       "  </thead>\n",
       "  <tbody>\n",
       "    <tr>\n",
       "      <th>0</th>\n",
       "      <td>6.117947</td>\n",
       "      <td>-2.886808</td>\n",
       "      <td>1821303</td>\n",
       "      <td>112129</td>\n",
       "      <td>286</td>\n",
       "      <td>739619</td>\n",
       "      <td>49143</td>\n",
       "      <td>248468.3</td>\n",
       "      <td>13718.5</td>\n",
       "      <td>2</td>\n",
       "    </tr>\n",
       "    <tr>\n",
       "      <th>1</th>\n",
       "      <td>6.784952</td>\n",
       "      <td>1.305067</td>\n",
       "      <td>1620640</td>\n",
       "      <td>84066</td>\n",
       "      <td>395</td>\n",
       "      <td>469392</td>\n",
       "      <td>48097</td>\n",
       "      <td>462443.1</td>\n",
       "      <td>532689.2</td>\n",
       "      <td>1</td>\n",
       "    </tr>\n",
       "    <tr>\n",
       "      <th>2</th>\n",
       "      <td>-0.068545</td>\n",
       "      <td>-0.591570</td>\n",
       "      <td>423864</td>\n",
       "      <td>29504</td>\n",
       "      <td>65</td>\n",
       "      <td>190166</td>\n",
       "      <td>12612</td>\n",
       "      <td>57288.6</td>\n",
       "      <td>6703.3</td>\n",
       "      <td>3</td>\n",
       "    </tr>\n",
       "    <tr>\n",
       "      <th>3</th>\n",
       "      <td>0.119512</td>\n",
       "      <td>-0.187153</td>\n",
       "      <td>496161</td>\n",
       "      <td>25831</td>\n",
       "      <td>82</td>\n",
       "      <td>160821</td>\n",
       "      <td>13902</td>\n",
       "      <td>77411.6</td>\n",
       "      <td>59554.5</td>\n",
       "      <td>3</td>\n",
       "    </tr>\n",
       "    <tr>\n",
       "      <th>4</th>\n",
       "      <td>-0.364625</td>\n",
       "      <td>-0.135584</td>\n",
       "      <td>363224</td>\n",
       "      <td>19340</td>\n",
       "      <td>86</td>\n",
       "      <td>136309</td>\n",
       "      <td>9981</td>\n",
       "      <td>46578.5</td>\n",
       "      <td>37541.7</td>\n",
       "      <td>3</td>\n",
       "    </tr>\n",
       "    <tr>\n",
       "      <th>...</th>\n",
       "      <td>...</td>\n",
       "      <td>...</td>\n",
       "      <td>...</td>\n",
       "      <td>...</td>\n",
       "      <td>...</td>\n",
       "      <td>...</td>\n",
       "      <td>...</td>\n",
       "      <td>...</td>\n",
       "      <td>...</td>\n",
       "      <td>...</td>\n",
       "    </tr>\n",
       "    <tr>\n",
       "      <th>131</th>\n",
       "      <td>-1.129383</td>\n",
       "      <td>0.039717</td>\n",
       "      <td>226441</td>\n",
       "      <td>8607</td>\n",
       "      <td>40</td>\n",
       "      <td>85135</td>\n",
       "      <td>6103</td>\n",
       "      <td>28669.1</td>\n",
       "      <td>27669.5</td>\n",
       "      <td>0</td>\n",
       "    </tr>\n",
       "    <tr>\n",
       "      <th>132</th>\n",
       "      <td>-1.071911</td>\n",
       "      <td>0.140004</td>\n",
       "      <td>243418</td>\n",
       "      <td>7481</td>\n",
       "      <td>44</td>\n",
       "      <td>79807</td>\n",
       "      <td>6405</td>\n",
       "      <td>39341.3</td>\n",
       "      <td>38725.4</td>\n",
       "      <td>0</td>\n",
       "    </tr>\n",
       "    <tr>\n",
       "      <th>133</th>\n",
       "      <td>-1.246358</td>\n",
       "      <td>0.039149</td>\n",
       "      <td>217897</td>\n",
       "      <td>7835</td>\n",
       "      <td>32</td>\n",
       "      <td>73478</td>\n",
       "      <td>5554</td>\n",
       "      <td>22831.4</td>\n",
       "      <td>23634.2</td>\n",
       "      <td>0</td>\n",
       "    </tr>\n",
       "    <tr>\n",
       "      <th>134</th>\n",
       "      <td>-1.620549</td>\n",
       "      <td>0.158190</td>\n",
       "      <td>94736</td>\n",
       "      <td>3989</td>\n",
       "      <td>23</td>\n",
       "      <td>40575</td>\n",
       "      <td>2856</td>\n",
       "      <td>20182.3</td>\n",
       "      <td>14025.4</td>\n",
       "      <td>0</td>\n",
       "    </tr>\n",
       "    <tr>\n",
       "      <th>135</th>\n",
       "      <td>-1.417936</td>\n",
       "      <td>1.348341</td>\n",
       "      <td>65909</td>\n",
       "      <td>3468</td>\n",
       "      <td>7</td>\n",
       "      <td>29487</td>\n",
       "      <td>1361</td>\n",
       "      <td>9864.7</td>\n",
       "      <td>251734.3</td>\n",
       "      <td>0</td>\n",
       "    </tr>\n",
       "  </tbody>\n",
       "</table>\n",
       "<p>136 rows × 10 columns</p>\n",
       "</div>"
      ],
      "text/plain": [
       "     principal component1  principal component2     전출인구    출생아수  산부인과의원수  \\\n",
       "0                6.117947             -2.886808  1821303  112129      286   \n",
       "1                6.784952              1.305067  1620640   84066      395   \n",
       "2               -0.068545             -0.591570   423864   29504       65   \n",
       "3                0.119512             -0.187153   496161   25831       82   \n",
       "4               -0.364625             -0.135584   363224   19340       86   \n",
       "..                    ...                   ...      ...     ...      ...   \n",
       "131             -1.129383              0.039717   226441    8607       40   \n",
       "132             -1.071911              0.140004   243418    7481       44   \n",
       "133             -1.246358              0.039149   217897    7835       32   \n",
       "134             -1.620549              0.158190    94736    3989       23   \n",
       "135             -1.417936              1.348341    65909    3468        7   \n",
       "\n",
       "     초등학생인원수  도매 및 소매업 신생  예금은행대출금액       예금액  cluster_id  \n",
       "0     739619        49143  248468.3   13718.5           2  \n",
       "1     469392        48097  462443.1  532689.2           1  \n",
       "2     190166        12612   57288.6    6703.3           3  \n",
       "3     160821        13902   77411.6   59554.5           3  \n",
       "4     136309         9981   46578.5   37541.7           3  \n",
       "..       ...          ...       ...       ...         ...  \n",
       "131    85135         6103   28669.1   27669.5           0  \n",
       "132    79807         6405   39341.3   38725.4           0  \n",
       "133    73478         5554   22831.4   23634.2           0  \n",
       "134    40575         2856   20182.3   14025.4           0  \n",
       "135    29487         1361    9864.7  251734.3           0  \n",
       "\n",
       "[136 rows x 10 columns]"
      ]
     },
     "execution_count": 129,
     "metadata": {},
     "output_type": "execute_result"
    }
   ],
   "source": [
    "finalDf = pd.concat([principalDf, df], axis=1)\n",
    "finalDf"
   ]
  },
  {
   "cell_type": "code",
   "execution_count": 130,
   "metadata": {},
   "outputs": [
    {
     "data": {
      "image/png": "[encoded data removed]",
      "text/plain": [
       "<Figure size 500x500 with 1 Axes>"
      ]
     },
     "metadata": {},
     "output_type": "display_data"
    }
   ],
   "source": [
    "fig = plt.figure(figsize = (5, 5))\n",
    "ax = fig.add_subplot(1, 1, 1)\n",
    "ax.set_xlabel('Principal Component 1', fontsize = 15)\n",
    "ax.set_ylabel('Principal Component 2', fontsize = 15)\n",
    "ax.set_title('2 component PCA', fontsize=20)\n",
    "\n",
    "targets = [0,1,2,3]\n",
    "colors = ['r', 'g', 'b', 'y']\n",
    "for target, color in zip(targets,colors):\n",
    "    indicesToKeep = finalDf['cluster_id'] == target\n",
    "    ax.scatter(finalDf.loc[indicesToKeep, 'principal component1']\n",
    "               , finalDf.loc[indicesToKeep, 'principal component2']\n",
    "               , c = color\n",
    "               , s = 50)\n",
    "ax.legend(targets)\n",
    "ax.grid()"
   ]
  },
  {
   "cell_type": "code",
   "execution_count": 131,
   "metadata": {},
   "outputs": [
    {
     "data": {
      "text/plain": [
       "array([[ 0.40413975,  0.38359876,  0.40108328,  0.38001504,  0.40336107,\n",
       "         0.3892737 ,  0.26459337],\n",
       "       [-0.14835722, -0.31357051,  0.14576214, -0.36984634, -0.14328788,\n",
       "         0.2879377 ,  0.78625137]])"
      ]
     },
     "execution_count": 131,
     "metadata": {},
     "output_type": "execute_result"
    }
   ],
   "source": [
    "# pca의 eigen_vector\n",
    "pca.components_"
   ]
  },
  {
   "attachments": {},
   "cell_type": "markdown",
   "metadata": {},
   "source": [
    "---\n",
    "## 주성분 두개로 예측"
   ]
  },
  {
   "attachments": {},
   "cell_type": "markdown",
   "metadata": {},
   "source": [
    "#### 검증세트"
   ]
  },
  {
   "cell_type": "code",
   "execution_count": 144,
   "metadata": {},
   "outputs": [
    {
     "data": {
      "text/html": [
       "<div>\n",
       "<style scoped>\n",
       "    .dataframe tbody tr th:only-of-type {\n",
       "        vertical-align: middle;\n",
       "    }\n",
       "\n",
       "    .dataframe tbody tr th {\n",
       "        vertical-align: top;\n",
       "    }\n",
       "\n",
       "    .dataframe thead th {\n",
       "        text-align: right;\n",
       "    }\n",
       "</style>\n",
       "<table border=\"1\" class=\"dataframe\">\n",
       "  <thead>\n",
       "    <tr style=\"text-align: right;\">\n",
       "      <th></th>\n",
       "      <th>principal component1</th>\n",
       "      <th>principal component2</th>\n",
       "      <th>cluster_id</th>\n",
       "    </tr>\n",
       "  </thead>\n",
       "  <tbody>\n",
       "    <tr>\n",
       "      <th>0</th>\n",
       "      <td>6.117947</td>\n",
       "      <td>-2.886808</td>\n",
       "      <td>0.00</td>\n",
       "    </tr>\n",
       "    <tr>\n",
       "      <th>1</th>\n",
       "      <td>6.784952</td>\n",
       "      <td>1.305067</td>\n",
       "      <td>0.33</td>\n",
       "    </tr>\n",
       "    <tr>\n",
       "      <th>2</th>\n",
       "      <td>-0.068545</td>\n",
       "      <td>-0.591570</td>\n",
       "      <td>0.67</td>\n",
       "    </tr>\n",
       "    <tr>\n",
       "      <th>3</th>\n",
       "      <td>0.119512</td>\n",
       "      <td>-0.187153</td>\n",
       "      <td>0.67</td>\n",
       "    </tr>\n",
       "    <tr>\n",
       "      <th>4</th>\n",
       "      <td>-0.364625</td>\n",
       "      <td>-0.135584</td>\n",
       "      <td>0.67</td>\n",
       "    </tr>\n",
       "  </tbody>\n",
       "</table>\n",
       "</div>"
      ],
      "text/plain": [
       "   principal component1  principal component2  cluster_id\n",
       "0              6.117947             -2.886808        0.00\n",
       "1              6.784952              1.305067        0.33\n",
       "2             -0.068545             -0.591570        0.67\n",
       "3              0.119512             -0.187153        0.67\n",
       "4             -0.364625             -0.135584        0.67"
      ]
     },
     "execution_count": 144,
     "metadata": {},
     "output_type": "execute_result"
    }
   ],
   "source": [
    "df2 = finalDf[['principal component1', 'principal component2', 'cluster_id']]\n",
    "df2.head()"
   ]
  },
  {
   "cell_type": "code",
   "execution_count": 141,
   "metadata": {},
   "outputs": [],
   "source": [
    "from sklearn.model_selection import train_test_split\n",
    "\n",
    "# Feature, Target\n",
    "data = df2[['principal component1',\t'principal component2']].to_numpy()\n",
    "target = df2['cluster_id'].to_numpy()\n",
    "\n",
    "train_input, test_input, train_target, test_target = \\\n",
    "    train_test_split(data, target, test_size=0.2, stratify=target) # random_state=42\n",
    "    \n",
    "sub_input, val_input, sub_target, val_target = \\\n",
    "    train_test_split(train_input, train_target, test_size=0.2, stratify=train_target) # random_state=42"
   ]
  },
  {
   "attachments": {},
   "cell_type": "markdown",
   "metadata": {},
   "source": [
    "### randomforest"
   ]
  },
  {
   "cell_type": "code",
   "execution_count": 142,
   "metadata": {},
   "outputs": [
    {
     "name": "stdout",
     "output_type": "stream",
     "text": [
      "Train score : 1.0\n",
      "Valid score : 1.0\n"
     ]
    }
   ],
   "source": [
    "# RandomForest\n",
    "from sklearn.model_selection import cross_validate\n",
    "from sklearn.ensemble import RandomForestClassifier\n",
    "\n",
    "rf = RandomForestClassifier(n_jobs=-1) # default:100 # random_state=42\n",
    "rf.fit(sub_input, sub_target)\n",
    "\n",
    "print(\"Train score :\", rf.score(sub_input, sub_target))\n",
    "print(\"Valid score :\", rf.score(val_input, val_target))"
   ]
  },
  {
   "cell_type": "code",
   "execution_count": 145,
   "metadata": {},
   "outputs": [
    {
     "data": {
      "text/plain": [
       "array([0.  , 0.33, 0.67, 1.  ])"
      ]
     },
     "execution_count": 145,
     "metadata": {},
     "output_type": "execute_result"
    }
   ],
   "source": [
    "finalDf['cluster_id'] = finalDf['cluster_id'] + 10\n",
    "df_km_temp = finalDf.sort_values(by='전출인구', ascending=True)\n",
    "temp_list = df_km_temp['cluster_id'].unique()\n",
    "\n",
    "i = 3\n",
    "for temp in temp_list:\n",
    "    finalDf['cluster_id'][finalDf['cluster_id'] == temp] = i\n",
    "    i-=1\n",
    "finalDf['cluster_id'] = np.round(finalDf['cluster_id'] / 3, 2)\n",
    "finalDf['cluster_id'].unique()"
   ]
  },
  {
   "cell_type": "code",
   "execution_count": 146,
   "metadata": {},
   "outputs": [],
   "source": [
    "from sklearn.model_selection import train_test_split\n",
    "\n",
    "# Feature, Target\n",
    "data = df2[['principal component1',\t'principal component2']].to_numpy()\n",
    "target = df2['cluster_id'].to_numpy()\n",
    "\n",
    "train_input, test_input, train_target, test_target = \\\n",
    "    train_test_split(data, target, test_size=0.2, stratify=target) # random_state=42\n",
    "    \n",
    "sub_input, val_input, sub_target, val_target = \\\n",
    "    train_test_split(train_input, train_target, test_size=0.2, stratify=train_target) # random_state=42"
   ]
  },
  {
   "attachments": {},
   "cell_type": "markdown",
   "metadata": {},
   "source": [
    "### randomforest regression"
   ]
  },
  {
   "cell_type": "code",
   "execution_count": 147,
   "metadata": {},
   "outputs": [
    {
     "name": "stdout",
     "output_type": "stream",
     "text": [
      "Train score : 1.0\n",
      "Valid score : 1.0\n"
     ]
    }
   ],
   "source": [
    "# RandomForest\n",
    "from sklearn.model_selection import cross_validate\n",
    "from sklearn.ensemble import RandomForestRegressor\n",
    "\n",
    "rf = RandomForestRegressor(n_jobs=-1) # default:100 # random_state=42\n",
    "rf.fit(sub_input, sub_target)\n",
    "\n",
    "print(\"Train score :\", rf.score(sub_input, sub_target))\n",
    "print(\"Valid score :\", rf.score(val_input, val_target))"
   ]
  },
  {
   "cell_type": "code",
   "execution_count": 148,
   "metadata": {},
   "outputs": [
    {
     "data": {
      "text/plain": [
       "{'fit_time': array([2.11420202, 0.06593084, 0.05567288, 0.05303597, 0.05200529]),\n",
       " 'score_time': array([0.01244187, 0.00831699, 0.0072732 , 0.0072    , 0.00718284]),\n",
       " 'test_score': array([0.99999998, 1.        , 1.        , 0.99962969, 0.99846861])}"
      ]
     },
     "execution_count": 148,
     "metadata": {},
     "output_type": "execute_result"
    }
   ],
   "source": [
    "# 교차 검증\n",
    "from sklearn.model_selection import cross_validate\n",
    "scores = cross_validate(rf, train_input, train_target)\n",
    "scores"
   ]
  },
  {
   "cell_type": "code",
   "execution_count": 149,
   "metadata": {},
   "outputs": [
    {
     "data": {
      "text/plain": [
       "0.9996196553224242"
      ]
     },
     "execution_count": 149,
     "metadata": {},
     "output_type": "execute_result"
    }
   ],
   "source": [
    "# 교차검증 후의 정확도 판단\n",
    "import numpy as np\n",
    "np.mean(scores['test_score'])"
   ]
  },
  {
   "attachments": {},
   "cell_type": "markdown",
   "metadata": {},
   "source": [
    "---\n",
    "## 주성분 하나로 예측"
   ]
  },
  {
   "cell_type": "code",
   "execution_count": 154,
   "metadata": {},
   "outputs": [
    {
     "data": {
      "text/html": [
       "<div>\n",
       "<style scoped>\n",
       "    .dataframe tbody tr th:only-of-type {\n",
       "        vertical-align: middle;\n",
       "    }\n",
       "\n",
       "    .dataframe tbody tr th {\n",
       "        vertical-align: top;\n",
       "    }\n",
       "\n",
       "    .dataframe thead th {\n",
       "        text-align: right;\n",
       "    }\n",
       "</style>\n",
       "<table border=\"1\" class=\"dataframe\">\n",
       "  <thead>\n",
       "    <tr style=\"text-align: right;\">\n",
       "      <th></th>\n",
       "      <th>principal component1</th>\n",
       "      <th>cluster_id</th>\n",
       "    </tr>\n",
       "  </thead>\n",
       "  <tbody>\n",
       "    <tr>\n",
       "      <th>0</th>\n",
       "      <td>6.117947</td>\n",
       "      <td>0.00</td>\n",
       "    </tr>\n",
       "    <tr>\n",
       "      <th>1</th>\n",
       "      <td>6.784952</td>\n",
       "      <td>0.33</td>\n",
       "    </tr>\n",
       "    <tr>\n",
       "      <th>2</th>\n",
       "      <td>-0.068545</td>\n",
       "      <td>0.67</td>\n",
       "    </tr>\n",
       "    <tr>\n",
       "      <th>3</th>\n",
       "      <td>0.119512</td>\n",
       "      <td>0.67</td>\n",
       "    </tr>\n",
       "    <tr>\n",
       "      <th>4</th>\n",
       "      <td>-0.364625</td>\n",
       "      <td>0.67</td>\n",
       "    </tr>\n",
       "  </tbody>\n",
       "</table>\n",
       "</div>"
      ],
      "text/plain": [
       "   principal component1  cluster_id\n",
       "0              6.117947        0.00\n",
       "1              6.784952        0.33\n",
       "2             -0.068545        0.67\n",
       "3              0.119512        0.67\n",
       "4             -0.364625        0.67"
      ]
     },
     "execution_count": 154,
     "metadata": {},
     "output_type": "execute_result"
    }
   ],
   "source": [
    "df3 = finalDf[['principal component1', 'cluster_id']]\n",
    "df3.head()"
   ]
  },
  {
   "attachments": {},
   "cell_type": "markdown",
   "metadata": {},
   "source": [
    "## 선형 회귀"
   ]
  },
  {
   "attachments": {},
   "cell_type": "markdown",
   "metadata": {},
   "source": [
    "### 데이터셋 나누기"
   ]
  },
  {
   "cell_type": "code",
   "execution_count": 155,
   "metadata": {},
   "outputs": [],
   "source": [
    "train_input, test_input, train_targer, test_target = \\\n",
    "    train_test_split(df3['principal component1'], df3['cluster_id'])"
   ]
  },
  {
   "cell_type": "code",
   "execution_count": 160,
   "metadata": {},
   "outputs": [],
   "source": [
    "# 1열로 구성된 배열로 만들기\n",
    "train_input = train_input.reshape(-1, 1) #(-1,1): 행은 있는 거 다 쓰고 열은 하나 만든다. \n",
    "test_input = test_input.values.reshape(-1, 1)"
   ]
  },
  {
   "cell_type": "code",
   "execution_count": 161,
   "metadata": {},
   "outputs": [
    {
     "name": "stdout",
     "output_type": "stream",
     "text": [
      "0.8037177814720384\n",
      "0.758340973471126\n"
     ]
    }
   ],
   "source": [
    "from sklearn.linear_model import LinearRegression\n",
    "lr = LinearRegression()\n",
    "lr.fit(train_input, train_targer)\n",
    "print(lr.score(train_input, train_targer))\n",
    "print(lr.score(test_input, test_target))"
   ]
  },
  {
   "cell_type": "code",
   "execution_count": 171,
   "metadata": {},
   "outputs": [
    {
     "data": {
      "text/html": [
       "<div>\n",
       "<style scoped>\n",
       "    .dataframe tbody tr th:only-of-type {\n",
       "        vertical-align: middle;\n",
       "    }\n",
       "\n",
       "    .dataframe tbody tr th {\n",
       "        vertical-align: top;\n",
       "    }\n",
       "\n",
       "    .dataframe thead th {\n",
       "        text-align: right;\n",
       "    }\n",
       "</style>\n",
       "<table border=\"1\" class=\"dataframe\">\n",
       "  <thead>\n",
       "    <tr style=\"text-align: right;\">\n",
       "      <th></th>\n",
       "      <th>년도</th>\n",
       "      <th>시도</th>\n",
       "      <th>principal component1</th>\n",
       "      <th>cluster_id</th>\n",
       "    </tr>\n",
       "  </thead>\n",
       "  <tbody>\n",
       "    <tr>\n",
       "      <th>0</th>\n",
       "      <td>2013</td>\n",
       "      <td>경기도</td>\n",
       "      <td>6.117947</td>\n",
       "      <td>0.00</td>\n",
       "    </tr>\n",
       "    <tr>\n",
       "      <th>1</th>\n",
       "      <td>2013</td>\n",
       "      <td>서울특별시</td>\n",
       "      <td>6.784952</td>\n",
       "      <td>0.33</td>\n",
       "    </tr>\n",
       "    <tr>\n",
       "      <th>2</th>\n",
       "      <td>2013</td>\n",
       "      <td>경상남도</td>\n",
       "      <td>-0.068545</td>\n",
       "      <td>0.67</td>\n",
       "    </tr>\n",
       "    <tr>\n",
       "      <th>3</th>\n",
       "      <td>2013</td>\n",
       "      <td>부산광역시</td>\n",
       "      <td>0.119512</td>\n",
       "      <td>0.67</td>\n",
       "    </tr>\n",
       "    <tr>\n",
       "      <th>4</th>\n",
       "      <td>2013</td>\n",
       "      <td>대구광역시</td>\n",
       "      <td>-0.364625</td>\n",
       "      <td>0.67</td>\n",
       "    </tr>\n",
       "  </tbody>\n",
       "</table>\n",
       "</div>"
      ],
      "text/plain": [
       "     년도     시도  principal component1  cluster_id\n",
       "0  2013    경기도              6.117947        0.00\n",
       "1  2013  서울특별시              6.784952        0.33\n",
       "2  2013   경상남도             -0.068545        0.67\n",
       "3  2013  부산광역시              0.119512        0.67\n",
       "4  2013  대구광역시             -0.364625        0.67"
      ]
     },
     "execution_count": 171,
     "metadata": {},
     "output_type": "execute_result"
    }
   ],
   "source": [
    "# 시도와 년도 붙이기\n",
    "df_all[['년도', '시도']]\n",
    "df4 = pd.concat([df_all[['년도', '시도']], df3], axis=1)\n",
    "df4.head()"
   ]
  },
  {
   "cell_type": "code",
   "execution_count": 176,
   "metadata": {},
   "outputs": [
    {
     "data": {
      "text/html": [
       "<div>\n",
       "<style scoped>\n",
       "    .dataframe tbody tr th:only-of-type {\n",
       "        vertical-align: middle;\n",
       "    }\n",
       "\n",
       "    .dataframe tbody tr th {\n",
       "        vertical-align: top;\n",
       "    }\n",
       "\n",
       "    .dataframe thead th {\n",
       "        text-align: right;\n",
       "    }\n",
       "</style>\n",
       "<table border=\"1\" class=\"dataframe\">\n",
       "  <thead>\n",
       "    <tr style=\"text-align: right;\">\n",
       "      <th></th>\n",
       "      <th>년도</th>\n",
       "      <th>시도</th>\n",
       "      <th>principal component1</th>\n",
       "      <th>cluster_id</th>\n",
       "    </tr>\n",
       "  </thead>\n",
       "  <tbody>\n",
       "    <tr>\n",
       "      <th>0</th>\n",
       "      <td>2013</td>\n",
       "      <td>경기도</td>\n",
       "      <td>6.117947</td>\n",
       "      <td>0.0</td>\n",
       "    </tr>\n",
       "    <tr>\n",
       "      <th>17</th>\n",
       "      <td>2014</td>\n",
       "      <td>경기도</td>\n",
       "      <td>6.204826</td>\n",
       "      <td>0.0</td>\n",
       "    </tr>\n",
       "    <tr>\n",
       "      <th>34</th>\n",
       "      <td>2015</td>\n",
       "      <td>경기도</td>\n",
       "      <td>6.240885</td>\n",
       "      <td>0.0</td>\n",
       "    </tr>\n",
       "    <tr>\n",
       "      <th>51</th>\n",
       "      <td>2016</td>\n",
       "      <td>경기도</td>\n",
       "      <td>6.188671</td>\n",
       "      <td>0.0</td>\n",
       "    </tr>\n",
       "    <tr>\n",
       "      <th>68</th>\n",
       "      <td>2017</td>\n",
       "      <td>경기도</td>\n",
       "      <td>6.038700</td>\n",
       "      <td>0.0</td>\n",
       "    </tr>\n",
       "  </tbody>\n",
       "</table>\n",
       "</div>"
      ],
      "text/plain": [
       "      년도   시도  principal component1  cluster_id\n",
       "0   2013  경기도              6.117947         0.0\n",
       "17  2014  경기도              6.204826         0.0\n",
       "34  2015  경기도              6.240885         0.0\n",
       "51  2016  경기도              6.188671         0.0\n",
       "68  2017  경기도              6.038700         0.0"
      ]
     },
     "execution_count": 176,
     "metadata": {},
     "output_type": "execute_result"
    }
   ],
   "source": [
    "gyeong = df4[df4['시도'] == '경기도']\n",
    "gyeong.head()"
   ]
  },
  {
   "cell_type": "code",
   "execution_count": 182,
   "metadata": {},
   "outputs": [
    {
     "data": {
      "text/plain": [
       "[<matplotlib.lines.Line2D at 0x1683c1700>]"
      ]
     },
     "execution_count": 182,
     "metadata": {},
     "output_type": "execute_result"
    },
    {
     "data": {
      "image/png": "[encoded data removed]",
      "text/plain": [
       "<Figure size 640x480 with 1 Axes>"
      ]
     },
     "metadata": {},
     "output_type": "display_data"
    }
   ],
   "source": [
    "plt.plot(gyeong['principal component1'])"
   ]
  },
  {
   "cell_type": "code",
   "execution_count": 183,
   "metadata": {},
   "outputs": [
    {
     "data": {
      "text/plain": [
       "[<matplotlib.lines.Line2D at 0x168315d30>]"
      ]
     },
     "execution_count": 183,
     "metadata": {},
     "output_type": "execute_result"
    },
    {
     "data": {
      "image/png": "[encoded data removed]",
      "text/plain": [
       "<Figure size 640x480 with 1 Axes>"
      ]
     },
     "metadata": {},
     "output_type": "display_data"
    }
   ],
   "source": [
    "plt.plot(gyeong['cluster_id'])"
   ]
  },
  {
   "cell_type": "code",
   "execution_count": 187,
   "metadata": {},
   "outputs": [
    {
     "data": {
      "text/plain": [
       "array([0.12645298])"
      ]
     },
     "execution_count": 187,
     "metadata": {},
     "output_type": "execute_result"
    }
   ],
   "source": [
    "lr.predict([[6.117947]])"
   ]
  },
  {
   "cell_type": "code",
   "execution_count": 190,
   "metadata": {},
   "outputs": [
    {
     "name": "stdout",
     "output_type": "stream",
     "text": [
      "[0.12645295]\n",
      "[0.1169056]\n",
      "[0.11294292]\n",
      "[0.11868094]\n",
      "[0.13516169]\n",
      "[0.13524492]\n",
      "[0.12872779]\n",
      "[0.07747547]\n"
     ]
    }
   ],
   "source": [
    "# 경기도로 테스트\n",
    "pred_cluster = []\n",
    "\n",
    "for i in gyeong['principal component1']:\n",
    "    print(lr.predict([[i]]))\n",
    "    pred_cluster.append(lr.predict([[i]]))\n",
    "\n",
    "gyeong['pred_cluster'] = pred_cluster"
   ]
  },
  {
   "cell_type": "code",
   "execution_count": 191,
   "metadata": {},
   "outputs": [
    {
     "data": {
      "text/plain": [
       "[<matplotlib.lines.Line2D at 0x1685a5520>]"
      ]
     },
     "execution_count": 191,
     "metadata": {},
     "output_type": "execute_result"
    },
    {
     "data": {
      "image/png": "[encoded data removed]",
      "text/plain": [
       "<Figure size 640x480 with 1 Axes>"
      ]
     },
     "metadata": {},
     "output_type": "display_data"
    }
   ],
   "source": [
    "plt.plot(gyeong['pred_cluster'])"
   ]
  },
  {
   "cell_type": "code",
   "execution_count": 195,
   "metadata": {},
   "outputs": [
    {
     "data": {
      "text/html": [
       "<div>\n",
       "<style scoped>\n",
       "    .dataframe tbody tr th:only-of-type {\n",
       "        vertical-align: middle;\n",
       "    }\n",
       "\n",
       "    .dataframe tbody tr th {\n",
       "        vertical-align: top;\n",
       "    }\n",
       "\n",
       "    .dataframe thead th {\n",
       "        text-align: right;\n",
       "    }\n",
       "</style>\n",
       "<table border=\"1\" class=\"dataframe\">\n",
       "  <thead>\n",
       "    <tr style=\"text-align: right;\">\n",
       "      <th></th>\n",
       "      <th>년도</th>\n",
       "      <th>시도</th>\n",
       "      <th>principal component1</th>\n",
       "      <th>cluster_id</th>\n",
       "      <th>pred_cluster</th>\n",
       "    </tr>\n",
       "  </thead>\n",
       "  <tbody>\n",
       "    <tr>\n",
       "      <th>0</th>\n",
       "      <td>2013</td>\n",
       "      <td>경기도</td>\n",
       "      <td>6.117947</td>\n",
       "      <td>0.00</td>\n",
       "      <td>[0.1264529480632124]</td>\n",
       "    </tr>\n",
       "    <tr>\n",
       "      <th>1</th>\n",
       "      <td>2013</td>\n",
       "      <td>서울특별시</td>\n",
       "      <td>6.784952</td>\n",
       "      <td>0.33</td>\n",
       "      <td>[0.05315359432660827]</td>\n",
       "    </tr>\n",
       "    <tr>\n",
       "      <th>2</th>\n",
       "      <td>2013</td>\n",
       "      <td>경상남도</td>\n",
       "      <td>-0.068545</td>\n",
       "      <td>0.67</td>\n",
       "      <td>[0.8063071104362324]</td>\n",
       "    </tr>\n",
       "    <tr>\n",
       "      <th>3</th>\n",
       "      <td>2013</td>\n",
       "      <td>부산광역시</td>\n",
       "      <td>0.119512</td>\n",
       "      <td>0.67</td>\n",
       "      <td>[0.7856408903843983]</td>\n",
       "    </tr>\n",
       "    <tr>\n",
       "      <th>4</th>\n",
       "      <td>2013</td>\n",
       "      <td>대구광역시</td>\n",
       "      <td>-0.364625</td>\n",
       "      <td>0.67</td>\n",
       "      <td>[0.8388442919829652]</td>\n",
       "    </tr>\n",
       "  </tbody>\n",
       "</table>\n",
       "</div>"
      ],
      "text/plain": [
       "     년도     시도  principal component1  cluster_id           pred_cluster\n",
       "0  2013    경기도              6.117947        0.00   [0.1264529480632124]\n",
       "1  2013  서울특별시              6.784952        0.33  [0.05315359432660827]\n",
       "2  2013   경상남도             -0.068545        0.67   [0.8063071104362324]\n",
       "3  2013  부산광역시              0.119512        0.67   [0.7856408903843983]\n",
       "4  2013  대구광역시             -0.364625        0.67   [0.8388442919829652]"
      ]
     },
     "execution_count": 195,
     "metadata": {},
     "output_type": "execute_result"
    }
   ],
   "source": [
    "# 전체 데이터 예측 값 붙이기\n",
    "pred_cluster = []\n",
    "\n",
    "for i in df4['principal component1']:\n",
    "    # print(lr.predict([[i]]))\n",
    "    pred_cluster.append(lr.predict([[i]]))\n",
    "\n",
    "df4['pred_cluster'] = pred_cluster\n",
    "df4.head()"
   ]
  },
  {
   "cell_type": "code",
   "execution_count": 206,
   "metadata": {},
   "outputs": [
    {
     "data": {
      "text/html": [
       "<div>\n",
       "<style scoped>\n",
       "    .dataframe tbody tr th:only-of-type {\n",
       "        vertical-align: middle;\n",
       "    }\n",
       "\n",
       "    .dataframe tbody tr th {\n",
       "        vertical-align: top;\n",
       "    }\n",
       "\n",
       "    .dataframe thead th {\n",
       "        text-align: right;\n",
       "    }\n",
       "</style>\n",
       "<table border=\"1\" class=\"dataframe\">\n",
       "  <thead>\n",
       "    <tr style=\"text-align: right;\">\n",
       "      <th></th>\n",
       "      <th>년도</th>\n",
       "      <th>시도</th>\n",
       "      <th>principal component1</th>\n",
       "      <th>cluster_id</th>\n",
       "      <th>pred_cluster</th>\n",
       "    </tr>\n",
       "  </thead>\n",
       "  <tbody>\n",
       "    <tr>\n",
       "      <th>7</th>\n",
       "      <td>2013</td>\n",
       "      <td>경상북도</td>\n",
       "      <td>-0.547311</td>\n",
       "      <td>0.67</td>\n",
       "      <td>[0.8589202718608285]</td>\n",
       "    </tr>\n",
       "    <tr>\n",
       "      <th>24</th>\n",
       "      <td>2014</td>\n",
       "      <td>경상북도</td>\n",
       "      <td>-0.530249</td>\n",
       "      <td>0.67</td>\n",
       "      <td>[0.8570452885392741]</td>\n",
       "    </tr>\n",
       "    <tr>\n",
       "      <th>41</th>\n",
       "      <td>2015</td>\n",
       "      <td>경상북도</td>\n",
       "      <td>-0.511700</td>\n",
       "      <td>0.67</td>\n",
       "      <td>[0.8550068513063834]</td>\n",
       "    </tr>\n",
       "    <tr>\n",
       "      <th>58</th>\n",
       "      <td>2016</td>\n",
       "      <td>경상북도</td>\n",
       "      <td>-0.549159</td>\n",
       "      <td>0.67</td>\n",
       "      <td>[0.8591233879141262]</td>\n",
       "    </tr>\n",
       "    <tr>\n",
       "      <th>75</th>\n",
       "      <td>2017</td>\n",
       "      <td>경상북도</td>\n",
       "      <td>-0.584655</td>\n",
       "      <td>0.67</td>\n",
       "      <td>[0.8630241674675534]</td>\n",
       "    </tr>\n",
       "    <tr>\n",
       "      <th>92</th>\n",
       "      <td>2018</td>\n",
       "      <td>경상북도</td>\n",
       "      <td>-0.647358</td>\n",
       "      <td>0.67</td>\n",
       "      <td>[0.8699147976821439]</td>\n",
       "    </tr>\n",
       "    <tr>\n",
       "      <th>109</th>\n",
       "      <td>2019</td>\n",
       "      <td>경상북도</td>\n",
       "      <td>-0.645352</td>\n",
       "      <td>0.67</td>\n",
       "      <td>[0.8696942999187128]</td>\n",
       "    </tr>\n",
       "    <tr>\n",
       "      <th>126</th>\n",
       "      <td>2020</td>\n",
       "      <td>경상북도</td>\n",
       "      <td>-0.633527</td>\n",
       "      <td>0.67</td>\n",
       "      <td>[0.8683948519509403]</td>\n",
       "    </tr>\n",
       "  </tbody>\n",
       "</table>\n",
       "</div>"
      ],
      "text/plain": [
       "       년도    시도  principal component1  cluster_id          pred_cluster\n",
       "7    2013  경상북도             -0.547311        0.67  [0.8589202718608285]\n",
       "24   2014  경상북도             -0.530249        0.67  [0.8570452885392741]\n",
       "41   2015  경상북도             -0.511700        0.67  [0.8550068513063834]\n",
       "58   2016  경상북도             -0.549159        0.67  [0.8591233879141262]\n",
       "75   2017  경상북도             -0.584655        0.67  [0.8630241674675534]\n",
       "92   2018  경상북도             -0.647358        0.67  [0.8699147976821439]\n",
       "109  2019  경상북도             -0.645352        0.67  [0.8696942999187128]\n",
       "126  2020  경상북도             -0.633527        0.67  [0.8683948519509403]"
      ]
     },
     "execution_count": 206,
     "metadata": {},
     "output_type": "execute_result"
    }
   ],
   "source": [
    "df4[df4['시도'] == '경상북도']"
   ]
  },
  {
   "cell_type": "code",
   "execution_count": 204,
   "metadata": {},
   "outputs": [
    {
     "data": {
      "text/html": [
       "<div>\n",
       "<style scoped>\n",
       "    .dataframe tbody tr th:only-of-type {\n",
       "        vertical-align: middle;\n",
       "    }\n",
       "\n",
       "    .dataframe tbody tr th {\n",
       "        vertical-align: top;\n",
       "    }\n",
       "\n",
       "    .dataframe thead th {\n",
       "        text-align: right;\n",
       "    }\n",
       "</style>\n",
       "<table border=\"1\" class=\"dataframe\">\n",
       "  <thead>\n",
       "    <tr style=\"text-align: right;\">\n",
       "      <th></th>\n",
       "      <th>년도</th>\n",
       "      <th>시도</th>\n",
       "      <th>principal component1</th>\n",
       "      <th>cluster_id</th>\n",
       "      <th>pred_cluster</th>\n",
       "    </tr>\n",
       "  </thead>\n",
       "  <tbody>\n",
       "    <tr>\n",
       "      <th>3</th>\n",
       "      <td>2013</td>\n",
       "      <td>부산광역시</td>\n",
       "      <td>0.119512</td>\n",
       "      <td>0.67</td>\n",
       "      <td>[0.7856408903843983]</td>\n",
       "    </tr>\n",
       "    <tr>\n",
       "      <th>20</th>\n",
       "      <td>2014</td>\n",
       "      <td>부산광역시</td>\n",
       "      <td>0.148961</td>\n",
       "      <td>0.67</td>\n",
       "      <td>[0.7824046669348259]</td>\n",
       "    </tr>\n",
       "    <tr>\n",
       "      <th>37</th>\n",
       "      <td>2015</td>\n",
       "      <td>부산광역시</td>\n",
       "      <td>0.145393</td>\n",
       "      <td>0.67</td>\n",
       "      <td>[0.7827967257097922]</td>\n",
       "    </tr>\n",
       "    <tr>\n",
       "      <th>54</th>\n",
       "      <td>2016</td>\n",
       "      <td>부산광역시</td>\n",
       "      <td>0.107696</td>\n",
       "      <td>0.67</td>\n",
       "      <td>[0.7869393601930004]</td>\n",
       "    </tr>\n",
       "    <tr>\n",
       "      <th>71</th>\n",
       "      <td>2017</td>\n",
       "      <td>부산광역시</td>\n",
       "      <td>0.051726</td>\n",
       "      <td>0.67</td>\n",
       "      <td>[0.7930900800142202]</td>\n",
       "    </tr>\n",
       "    <tr>\n",
       "      <th>88</th>\n",
       "      <td>2018</td>\n",
       "      <td>부산광역시</td>\n",
       "      <td>-0.024980</td>\n",
       "      <td>0.67</td>\n",
       "      <td>[0.8015196384987978]</td>\n",
       "    </tr>\n",
       "    <tr>\n",
       "      <th>105</th>\n",
       "      <td>2019</td>\n",
       "      <td>부산광역시</td>\n",
       "      <td>0.014773</td>\n",
       "      <td>0.67</td>\n",
       "      <td>[0.7971509931308546]</td>\n",
       "    </tr>\n",
       "    <tr>\n",
       "      <th>122</th>\n",
       "      <td>2020</td>\n",
       "      <td>부산광역시</td>\n",
       "      <td>0.114405</td>\n",
       "      <td>0.67</td>\n",
       "      <td>[0.7862021093705556]</td>\n",
       "    </tr>\n",
       "  </tbody>\n",
       "</table>\n",
       "</div>"
      ],
      "text/plain": [
       "       년도     시도  principal component1  cluster_id          pred_cluster\n",
       "3    2013  부산광역시              0.119512        0.67  [0.7856408903843983]\n",
       "20   2014  부산광역시              0.148961        0.67  [0.7824046669348259]\n",
       "37   2015  부산광역시              0.145393        0.67  [0.7827967257097922]\n",
       "54   2016  부산광역시              0.107696        0.67  [0.7869393601930004]\n",
       "71   2017  부산광역시              0.051726        0.67  [0.7930900800142202]\n",
       "88   2018  부산광역시             -0.024980        0.67  [0.8015196384987978]\n",
       "105  2019  부산광역시              0.014773        0.67  [0.7971509931308546]\n",
       "122  2020  부산광역시              0.114405        0.67  [0.7862021093705556]"
      ]
     },
     "execution_count": 204,
     "metadata": {},
     "output_type": "execute_result"
    }
   ],
   "source": [
    "df4[df4['시도'] == '부산광역시']"
   ]
  },
  {
   "cell_type": "code",
   "execution_count": 200,
   "metadata": {},
   "outputs": [
    {
     "data": {
      "text/html": [
       "<div>\n",
       "<style scoped>\n",
       "    .dataframe tbody tr th:only-of-type {\n",
       "        vertical-align: middle;\n",
       "    }\n",
       "\n",
       "    .dataframe tbody tr th {\n",
       "        vertical-align: top;\n",
       "    }\n",
       "\n",
       "    .dataframe thead th {\n",
       "        text-align: right;\n",
       "    }\n",
       "</style>\n",
       "<table border=\"1\" class=\"dataframe\">\n",
       "  <thead>\n",
       "    <tr style=\"text-align: right;\">\n",
       "      <th></th>\n",
       "      <th>principal component1</th>\n",
       "      <th>pred_cluster</th>\n",
       "    </tr>\n",
       "  </thead>\n",
       "  <tbody>\n",
       "    <tr>\n",
       "      <th>2</th>\n",
       "      <td>-0.068545</td>\n",
       "      <td>[0.8063071104362324]</td>\n",
       "    </tr>\n",
       "    <tr>\n",
       "      <th>19</th>\n",
       "      <td>-0.028700</td>\n",
       "      <td>[0.8019284277198945]</td>\n",
       "    </tr>\n",
       "    <tr>\n",
       "      <th>36</th>\n",
       "      <td>-0.037065</td>\n",
       "      <td>[0.8028476155193311]</td>\n",
       "    </tr>\n",
       "    <tr>\n",
       "      <th>53</th>\n",
       "      <td>-0.101881</td>\n",
       "      <td>[0.8099705297903795]</td>\n",
       "    </tr>\n",
       "    <tr>\n",
       "      <th>70</th>\n",
       "      <td>-0.133444</td>\n",
       "      <td>[0.8134390354957223]</td>\n",
       "    </tr>\n",
       "    <tr>\n",
       "      <th>87</th>\n",
       "      <td>-0.234983</td>\n",
       "      <td>[0.8245974700071457]</td>\n",
       "    </tr>\n",
       "    <tr>\n",
       "      <th>104</th>\n",
       "      <td>-0.236748</td>\n",
       "      <td>[0.8247915246963199]</td>\n",
       "    </tr>\n",
       "    <tr>\n",
       "      <th>121</th>\n",
       "      <td>-0.231840</td>\n",
       "      <td>[0.8242521024569605]</td>\n",
       "    </tr>\n",
       "  </tbody>\n",
       "</table>\n",
       "</div>"
      ],
      "text/plain": [
       "     principal component1          pred_cluster\n",
       "2               -0.068545  [0.8063071104362324]\n",
       "19              -0.028700  [0.8019284277198945]\n",
       "36              -0.037065  [0.8028476155193311]\n",
       "53              -0.101881  [0.8099705297903795]\n",
       "70              -0.133444  [0.8134390354957223]\n",
       "87              -0.234983  [0.8245974700071457]\n",
       "104             -0.236748  [0.8247915246963199]\n",
       "121             -0.231840  [0.8242521024569605]"
      ]
     },
     "execution_count": 200,
     "metadata": {},
     "output_type": "execute_result"
    }
   ],
   "source": [
    "df4[df4['시도'] == '경상남도'][['principal component1', 'pred_cluster']]"
   ]
  },
  {
   "cell_type": "code",
   "execution_count": 211,
   "metadata": {},
   "outputs": [
    {
     "data": {
      "text/plain": [
       "<matplotlib.collections.PathCollection at 0x158298400>"
      ]
     },
     "execution_count": 211,
     "metadata": {},
     "output_type": "execute_result"
    },
    {
     "data": {
      "image/png": "[encoded data removed]",
      "text/plain": [
       "<Figure size 640x480 with 1 Axes>"
      ]
     },
     "metadata": {},
     "output_type": "display_data"
    }
   ],
   "source": [
    "plt.scatter(x=df4['principal component1'], y=df4.sort_values(by='principal component1')['pred_cluster'])"
   ]
  },
  {
   "cell_type": "code",
   "execution_count": 201,
   "metadata": {},
   "outputs": [
    {
     "data": {
      "text/plain": [
       "[<matplotlib.lines.Line2D at 0x15803faf0>]"
      ]
     },
     "execution_count": 201,
     "metadata": {},
     "output_type": "execute_result"
    },
    {
     "data": {
      "image/png": "[encoded data removed]",
      "text/plain": [
       "<Figure size 640x480 with 1 Axes>"
      ]
     },
     "metadata": {},
     "output_type": "display_data"
    }
   ],
   "source": [
    "plt.plot(df4[df4['시도'] == '경상남도'][['pred_cluster']])"
   ]
  },
  {
   "cell_type": "code",
   "execution_count": 202,
   "metadata": {},
   "outputs": [
    {
     "name": "stdout",
     "output_type": "stream",
     "text": [
      "[-0.10989331] 0.7987744545736503\n"
     ]
    }
   ],
   "source": [
    "# Y = aX + b에서 기울기와 절편값을 출력(Deep Learning에서는 Weight, Bias로 불림)\n",
    "print(lr.coef_, lr.intercept_) "
   ]
  },
  {
   "cell_type": "code",
   "execution_count": 203,
   "metadata": {},
   "outputs": [
    {
     "data": {
      "text/plain": [
       "[<matplotlib.lines.Line2D at 0x1580b4fd0>]"
      ]
     },
     "execution_count": 203,
     "metadata": {},
     "output_type": "execute_result"
    },
    {
     "data": {
      "image/png": "[encoded data removed]",
      "text/plain": [
       "<Figure size 640x480 with 1 Axes>"
      ]
     },
     "metadata": {},
     "output_type": "display_data"
    }
   ],
   "source": [
    "plt.plot([lr.coef_ + lr.intercept_, lr.coef_ + lr.intercept_], c='red')"
   ]
  },
  {
   "attachments": {},
   "cell_type": "markdown",
   "metadata": {},
   "source": [
    "---\n",
    "## 년도별 클러스터 예측값 변화 그래프 (과거 데이터 한정)"
   ]
  },
  {
   "cell_type": "code",
   "execution_count": 260,
   "metadata": {},
   "outputs": [
    {
     "data": {
      "image/png": "[encoded data removed]",
      "text/plain": [
       "<Figure size 2000x1500 with 1 Axes>"
      ]
     },
     "metadata": {},
     "output_type": "display_data"
    }
   ],
   "source": [
    "plt.style.use('ggplot')\n",
    "\n",
    "fig = plt.figure(figsize=(20,15))\n",
    "ax = fig.add_subplot(1,1,1) #하나짜리 그래프\n",
    "\n",
    "sido = pd.unique(df4.시도)\n",
    "colors = ['red', 'salmon', 'orange', 'brown', 'yellow', 'yellowgreen', 'green', 'teal', 'blue', 'steelblue', 'cyan', 'mediumpurple', 'purple', 'rosybrown', 'pink', 'gray','black']\n",
    "\n",
    "for i in range(len(sido)):\n",
    "    \n",
    "    ax.plot(\n",
    "        df4[df4['시도'] == sido[i]]['pred_cluster'],\n",
    "        label=sido[i],\n",
    "        color=colors[i]\n",
    "    )\n",
    "\n",
    "ax.legend(loc='best', fontsize=10)\n",
    "ax.set_xlim(0,160)\n",
    "ax.set_ylim(0.75,1.0)\n",
    "ax.set_title('년도별 클러스터 예측값 변화', size=20)\n",
    "ax.set_ylabel('클러스터 예측값')\n",
    "ax.set_xlabel('년도')\n",
    "ax.set_xticklabels(pd.unique(df4.년도), rotation=35)\n",
    "\n",
    "plt.show()"
   ]
  },
  {
   "cell_type": "code",
   "execution_count": null,
   "metadata": {},
   "outputs": [],
   "source": []
  }
 ],
 "metadata": {
  "kernelspec": {
   "display_name": "tensorflow",
   "language": "python",
   "name": "python3"
  },
  "language_info": {
   "codemirror_mode": {
    "name": "ipython",
    "version": 3
   },
   "file_extension": ".py",
   "mimetype": "text/x-python",
   "name": "python",
   "nbconvert_exporter": "python",
   "pygments_lexer": "ipython3",
   "version": "3.9.13"
  },
  "orig_nbformat": 4,
  "vscode": {
   "interpreter": {
    "hash": "d5a7c1c598bcb4d7f5ba8f47a448935a10229aeac84c783bf7ec06f167058a26"
   }
  }
 },
 "nbformat": 4,
 "nbformat_minor": 2
}
