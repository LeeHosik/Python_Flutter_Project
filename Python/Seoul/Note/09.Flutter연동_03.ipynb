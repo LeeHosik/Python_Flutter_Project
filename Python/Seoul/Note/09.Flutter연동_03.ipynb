{
 "cells": [
  {
   "attachments": {},
   "cell_type": "markdown",
   "metadata": {},
   "source": [
    "# 2017 - 2021 에 해당하는 Ml으로 각 군구별 모델구하기"
   ]
  },
  {
   "cell_type": "code",
   "execution_count": 20,
   "metadata": {},
   "outputs": [],
   "source": [
    "import pandas as pd\n",
    "import numpy as np\n",
    "from sklearn.linear_model import LinearRegression"
   ]
  },
  {
   "cell_type": "code",
   "execution_count": 21,
   "metadata": {},
   "outputs": [
    {
     "data": {
      "text/html": [
       "<div>\n",
       "<style scoped>\n",
       "    .dataframe tbody tr th:only-of-type {\n",
       "        vertical-align: middle;\n",
       "    }\n",
       "\n",
       "    .dataframe tbody tr th {\n",
       "        vertical-align: top;\n",
       "    }\n",
       "\n",
       "    .dataframe thead th {\n",
       "        text-align: right;\n",
       "    }\n",
       "</style>\n",
       "<table border=\"1\" class=\"dataframe\">\n",
       "  <thead>\n",
       "    <tr style=\"text-align: right;\">\n",
       "      <th></th>\n",
       "      <th>군구</th>\n",
       "      <th>년도</th>\n",
       "      <th>전출인구</th>\n",
       "      <th>출생아수</th>\n",
       "      <th>산부인과의원수</th>\n",
       "      <th>초등학교수</th>\n",
       "      <th>cluster_id</th>\n",
       "      <th>pred_cluster</th>\n",
       "    </tr>\n",
       "  </thead>\n",
       "  <tbody>\n",
       "    <tr>\n",
       "      <th>0</th>\n",
       "      <td>종로구</td>\n",
       "      <td>2017</td>\n",
       "      <td>25814</td>\n",
       "      <td>689</td>\n",
       "      <td>9</td>\n",
       "      <td>13</td>\n",
       "      <td>1.0</td>\n",
       "      <td>1.012090</td>\n",
       "    </tr>\n",
       "    <tr>\n",
       "      <th>1</th>\n",
       "      <td>종로구</td>\n",
       "      <td>2018</td>\n",
       "      <td>24798</td>\n",
       "      <td>644</td>\n",
       "      <td>9</td>\n",
       "      <td>13</td>\n",
       "      <td>1.0</td>\n",
       "      <td>1.018365</td>\n",
       "    </tr>\n",
       "    <tr>\n",
       "      <th>2</th>\n",
       "      <td>종로구</td>\n",
       "      <td>2019</td>\n",
       "      <td>23945</td>\n",
       "      <td>673</td>\n",
       "      <td>8</td>\n",
       "      <td>13</td>\n",
       "      <td>1.0</td>\n",
       "      <td>1.025038</td>\n",
       "    </tr>\n",
       "    <tr>\n",
       "      <th>3</th>\n",
       "      <td>종로구</td>\n",
       "      <td>2020</td>\n",
       "      <td>25254</td>\n",
       "      <td>529</td>\n",
       "      <td>9</td>\n",
       "      <td>13</td>\n",
       "      <td>1.0</td>\n",
       "      <td>1.015673</td>\n",
       "    </tr>\n",
       "    <tr>\n",
       "      <th>4</th>\n",
       "      <td>종로구</td>\n",
       "      <td>2021</td>\n",
       "      <td>24428</td>\n",
       "      <td>528</td>\n",
       "      <td>11</td>\n",
       "      <td>13</td>\n",
       "      <td>1.0</td>\n",
       "      <td>1.017811</td>\n",
       "    </tr>\n",
       "  </tbody>\n",
       "</table>\n",
       "</div>"
      ],
      "text/plain": [
       "    군구    년도   전출인구  출생아수  산부인과의원수  초등학교수  cluster_id  pred_cluster\n",
       "0  종로구  2017  25814   689        9     13         1.0      1.012090\n",
       "1  종로구  2018  24798   644        9     13         1.0      1.018365\n",
       "2  종로구  2019  23945   673        8     13         1.0      1.025038\n",
       "3  종로구  2020  25254   529        9     13         1.0      1.015673\n",
       "4  종로구  2021  24428   528       11     13         1.0      1.017811"
      ]
     },
     "execution_count": 21,
     "metadata": {},
     "output_type": "execute_result"
    }
   ],
   "source": [
    "# 데이터프레임\n",
    "df = pd.read_csv(\"../Data/seoul_2017_2021_pred\")\n",
    "df.head()"
   ]
  },
  {
   "cell_type": "code",
   "execution_count": 22,
   "metadata": {},
   "outputs": [],
   "source": [
    "# # ML 모델\n",
    "# lr = joblib.load(\"../Data/lr_seoul_2017_2021.h5\")"
   ]
  },
  {
   "cell_type": "code",
   "execution_count": 24,
   "metadata": {},
   "outputs": [
    {
     "data": {
      "text/plain": [
       "{'군구': ['종로구',\n",
       "  '중구',\n",
       "  '용산구',\n",
       "  '성동구',\n",
       "  '광진구',\n",
       "  '동대문구',\n",
       "  '중랑구',\n",
       "  '성북구',\n",
       "  '강북구',\n",
       "  '도봉구',\n",
       "  '노원구',\n",
       "  '은평구',\n",
       "  '서대문구',\n",
       "  '마포구',\n",
       "  '양천구',\n",
       "  '강서구',\n",
       "  '구로구',\n",
       "  '금천구',\n",
       "  '영등포구',\n",
       "  '동작구',\n",
       "  '관악구',\n",
       "  '서초구',\n",
       "  '강남구',\n",
       "  '송파구',\n",
       "  '강동구'],\n",
       " '종로구': [0.0008750254950595339, -0.7488810653761164],\n",
       " '중구': [-0.0010211067398879117, 3.12593595602803],\n",
       " '용산구': [-0.00487203574821773, 10.733083421734314],\n",
       " '성동구': [-0.0031397346421174438, 7.036631512717726],\n",
       " '광진구': [-0.00035631474224917525, 1.3313898833740643],\n",
       " '동대문구': [0.0029048361791367164, -5.215178799986263],\n",
       " '중랑구': [0.001951348717651103, -3.3520957349234237],\n",
       " '성북구': [0.0063422709662166645, -12.388308353057957],\n",
       " '강북구': [0.003086234163167734, -5.354592003413971],\n",
       " '도봉구': [0.0015333596873910121, -2.4112195579913958],\n",
       " '노원구': [0.0092437882701949, -18.584102434230584],\n",
       " '은평구': [0.003392582487279062, -6.506780858988361],\n",
       " '서대문구': [0.001371268284434735, -2.031788102277702],\n",
       " '마포구': [-0.0028286457616289343, 6.2732833314468195],\n",
       " '양천구': [4.6883163369693104e-05, 0.3151244257451274],\n",
       " '강서구': [-0.006966918348270022, 14.17610145656505],\n",
       " '구로구': [-0.011530899603994612, 23.82478759707927],\n",
       " '금천구': [-0.0009543584689314043, 2.7703730258539587],\n",
       " '영등포구': [0.002517905985749269, -4.531841674291683],\n",
       " '동작구': [-0.003155298072496461, 6.9565543034886606],\n",
       " '관악구': [-0.0052349063775070665, 10.92961777341735],\n",
       " '서초구': [-0.007133827078266388, 14.830782404300905],\n",
       " '강남구': [0.012289724510120136, -24.760722869559512],\n",
       " '송파구': [-0.023761551931930757, 47.86089486044536],\n",
       " '강동구': [0.0032584478338645076, -6.2057499622659265]}"
      ]
     },
     "execution_count": 24,
     "metadata": {},
     "output_type": "execute_result"
    }
   ],
   "source": [
    "gungu_dict = {}\n",
    "gungu_dict['군구'] = df['군구'].unique().tolist()\n",
    "gungu_list = df['군구'].unique()\n",
    "\n",
    "for gungu in gungu_list:\n",
    "    df_temp = df[df['군구'] == gungu]\n",
    "    data = df_temp[['년도']].to_numpy()\n",
    "    target = df_temp['pred_cluster'].to_numpy()\n",
    "\n",
    "    lr = LinearRegression()\n",
    "    lr.fit(data, target)\n",
    "\n",
    "    gungu_dict[gungu] = [float(lr.coef_), float(lr.intercept_)]\n",
    "\n",
    "gungu_dict"
   ]
  },
  {
   "attachments": {},
   "cell_type": "markdown",
   "metadata": {},
   "source": [
    "----\n",
    "### 안씀"
   ]
  },
  {
   "cell_type": "code",
   "execution_count": 14,
   "metadata": {},
   "outputs": [
    {
     "data": {
      "text/plain": [
       "array([2017, 2018, 2019, 2020, 2021])"
      ]
     },
     "execution_count": 14,
     "metadata": {},
     "output_type": "execute_result"
    }
   ],
   "source": [
    "df_temp = df[df['군구'] == '강서구']\n",
    "data = df_temp['년도'].to_numpy()\n",
    "data"
   ]
  },
  {
   "cell_type": "code",
   "execution_count": 6,
   "metadata": {},
   "outputs": [
    {
     "name": "stdout",
     "output_type": "stream",
     "text": [
      "[0.03298556] -66.60587178950071\n"
     ]
    }
   ],
   "source": [
    "df_ex = df[df['시군구']=='강남구']\n",
    "\n",
    "# Feature, Target\n",
    "data = df_ex[['년도']].to_numpy()\n",
    "target = df_ex['pred_cluster'].to_numpy()\n",
    "\n",
    "# 회귀 예측\n",
    "from sklearn.linear_model import LinearRegression\n",
    "lr2 = LinearRegression()\n",
    "lr2.fit(data, target)\n",
    "\n",
    "print(lr2.coef_, lr2.intercept_)"
   ]
  },
  {
   "cell_type": "code",
   "execution_count": 8,
   "metadata": {},
   "outputs": [
    {
     "data": {
      "text/html": [
       "<style>#sk-container-id-1 {color: black;background-color: white;}#sk-container-id-1 pre{padding: 0;}#sk-container-id-1 div.sk-toggleable {background-color: white;}#sk-container-id-1 label.sk-toggleable__label {cursor: pointer;display: block;width: 100%;margin-bottom: 0;padding: 0.3em;box-sizing: border-box;text-align: center;}#sk-container-id-1 label.sk-toggleable__label-arrow:before {content: \"▸\";float: left;margin-right: 0.25em;color: #696969;}#sk-container-id-1 label.sk-toggleable__label-arrow:hover:before {color: black;}#sk-container-id-1 div.sk-estimator:hover label.sk-toggleable__label-arrow:before {color: black;}#sk-container-id-1 div.sk-toggleable__content {max-height: 0;max-width: 0;overflow: hidden;text-align: left;background-color: #f0f8ff;}#sk-container-id-1 div.sk-toggleable__content pre {margin: 0.2em;color: black;border-radius: 0.25em;background-color: #f0f8ff;}#sk-container-id-1 input.sk-toggleable__control:checked~div.sk-toggleable__content {max-height: 200px;max-width: 100%;overflow: auto;}#sk-container-id-1 input.sk-toggleable__control:checked~label.sk-toggleable__label-arrow:before {content: \"▾\";}#sk-container-id-1 div.sk-estimator input.sk-toggleable__control:checked~label.sk-toggleable__label {background-color: #d4ebff;}#sk-container-id-1 div.sk-label input.sk-toggleable__control:checked~label.sk-toggleable__label {background-color: #d4ebff;}#sk-container-id-1 input.sk-hidden--visually {border: 0;clip: rect(1px 1px 1px 1px);clip: rect(1px, 1px, 1px, 1px);height: 1px;margin: -1px;overflow: hidden;padding: 0;position: absolute;width: 1px;}#sk-container-id-1 div.sk-estimator {font-family: monospace;background-color: #f0f8ff;border: 1px dotted black;border-radius: 0.25em;box-sizing: border-box;margin-bottom: 0.5em;}#sk-container-id-1 div.sk-estimator:hover {background-color: #d4ebff;}#sk-container-id-1 div.sk-parallel-item::after {content: \"\";width: 100%;border-bottom: 1px solid gray;flex-grow: 1;}#sk-container-id-1 div.sk-label:hover label.sk-toggleable__label {background-color: #d4ebff;}#sk-container-id-1 div.sk-serial::before {content: \"\";position: absolute;border-left: 1px solid gray;box-sizing: border-box;top: 0;bottom: 0;left: 50%;z-index: 0;}#sk-container-id-1 div.sk-serial {display: flex;flex-direction: column;align-items: center;background-color: white;padding-right: 0.2em;padding-left: 0.2em;position: relative;}#sk-container-id-1 div.sk-item {position: relative;z-index: 1;}#sk-container-id-1 div.sk-parallel {display: flex;align-items: stretch;justify-content: center;background-color: white;position: relative;}#sk-container-id-1 div.sk-item::before, #sk-container-id-1 div.sk-parallel-item::before {content: \"\";position: absolute;border-left: 1px solid gray;box-sizing: border-box;top: 0;bottom: 0;left: 50%;z-index: -1;}#sk-container-id-1 div.sk-parallel-item {display: flex;flex-direction: column;z-index: 1;position: relative;background-color: white;}#sk-container-id-1 div.sk-parallel-item:first-child::after {align-self: flex-end;width: 50%;}#sk-container-id-1 div.sk-parallel-item:last-child::after {align-self: flex-start;width: 50%;}#sk-container-id-1 div.sk-parallel-item:only-child::after {width: 0;}#sk-container-id-1 div.sk-dashed-wrapped {border: 1px dashed gray;margin: 0 0.4em 0.5em 0.4em;box-sizing: border-box;padding-bottom: 0.4em;background-color: white;}#sk-container-id-1 div.sk-label label {font-family: monospace;font-weight: bold;display: inline-block;line-height: 1.2em;}#sk-container-id-1 div.sk-label-container {text-align: center;}#sk-container-id-1 div.sk-container {/* jupyter's `normalize.less` sets `[hidden] { display: none; }` but bootstrap.min.css set `[hidden] { display: none !important; }` so we also need the `!important` here to be able to override the default hidden behavior on the sphinx rendered scikit-learn.org. See: https://github.com/scikit-learn/scikit-learn/issues/21755 */display: inline-block !important;position: relative;}#sk-container-id-1 div.sk-text-repr-fallback {display: none;}</style><div id=\"sk-container-id-1\" class=\"sk-top-container\"><div class=\"sk-text-repr-fallback\"><pre>LinearRegression()</pre><b>In a Jupyter environment, please rerun this cell to show the HTML representation or trust the notebook. <br />On GitHub, the HTML representation is unable to render, please try loading this page with nbviewer.org.</b></div><div class=\"sk-container\" hidden><div class=\"sk-item\"><div class=\"sk-estimator sk-toggleable\"><input class=\"sk-toggleable__control sk-hidden--visually\" id=\"sk-estimator-id-1\" type=\"checkbox\" checked><label for=\"sk-estimator-id-1\" class=\"sk-toggleable__label sk-toggleable__label-arrow\">LinearRegression</label><div class=\"sk-toggleable__content\"><pre>LinearRegression()</pre></div></div></div></div></div>"
      ],
      "text/plain": [
       "LinearRegression()"
      ]
     },
     "execution_count": 8,
     "metadata": {},
     "output_type": "execute_result"
    }
   ],
   "source": [
    "aaa = [lr, lr2]\n",
    "aaa[0]"
   ]
  },
  {
   "cell_type": "code",
   "execution_count": 9,
   "metadata": {},
   "outputs": [
    {
     "data": {
      "text/plain": [
       "array([0.03298556])"
      ]
     },
     "execution_count": 9,
     "metadata": {},
     "output_type": "execute_result"
    }
   ],
   "source": [
    "aaa[1].coef_"
   ]
  },
  {
   "cell_type": "code",
   "execution_count": null,
   "metadata": {},
   "outputs": [],
   "source": []
  }
 ],
 "metadata": {
  "kernelspec": {
   "display_name": "tensorflow",
   "language": "python",
   "name": "python3"
  },
  "language_info": {
   "codemirror_mode": {
    "name": "ipython",
    "version": 3
   },
   "file_extension": ".py",
   "mimetype": "text/x-python",
   "name": "python",
   "nbconvert_exporter": "python",
   "pygments_lexer": "ipython3",
   "version": "3.9.13"
  },
  "orig_nbformat": 4,
  "vscode": {
   "interpreter": {
    "hash": "a2b29f868d451986a4c0647d0e54b13b8f75acf913aadb998b05a67dca428959"
   }
  }
 },
 "nbformat": 4,
 "nbformat_minor": 2
}
