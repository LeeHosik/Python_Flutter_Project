{
 "cells": [
  {
   "attachments": {},
   "cell_type": "markdown",
   "metadata": {},
   "source": [
    "# 입력값 받아서 예측하기\n",
    "### - 전출인구, 출생아수, 산부인과의원수, 초등학교수"
   ]
  },
  {
   "cell_type": "code",
   "execution_count": null,
   "metadata": {},
   "outputs": [],
   "source": [
    "from flask import Flask, jsonify, render_template, request # 플라스크에 대한 얘기임\n",
    "import joblib"
   ]
  },
  {
   "cell_type": "code",
   "execution_count": null,
   "metadata": {},
   "outputs": [],
   "source": [
    "# outPop = float(request.args.get(\"outPop\"))\n",
    "# birthPop = float(request.args.get(\"birthPop\"))\n",
    "# obgynPop = float(request.args.get(\"obgynPop\"))\n",
    "# elementNum = float(request.args.get(\"elementNum\"))\n",
    "\n",
    "# lr = joblib.load(\"./PythonSpace/lr_seoul_2.h5\")\n",
    "# pre = lr.predict([[outPop, birthPop, obgynPop, elementNum]])\n",
    "\n",
    "# return jsonify({'result' : pre[0]}) # pre의 결과를 json으로 넘겨주면 끝임\n"
   ]
  },
  {
   "cell_type": "code",
   "execution_count": null,
   "metadata": {},
   "outputs": [],
   "source": [
    "\n",
    "from flask import Flask, jsonify, render_template, request # 플라스크에 대한 얘기임\n",
    "import joblib\n",
    "\n",
    "app = Flask(__name__)\n",
    "\n",
    "@app.route(\"/seoul\") # spring이랑 거의 비슷함    # @app.route(\"/__\")형식으로 여러개 하면됨\n",
    "def seoul():\n",
    "    outPop = float(request.args.get(\"outPop\"))\n",
    "    birthPop = float(request.args.get(\"birthPop\"))\n",
    "    obgynPop = float(request.args.get(\"obgynPop\"))\n",
    "    elementNum = float(request.args.get(\"elementNum\"))\n",
    "\n",
    "    lr = joblib.load(\"./PythonSpace/lr_seoul_pred.h5\")\n",
    "    pre = lr.predict([[outPop, birthPop, obgynPop, elementNum]])\n",
    "\n",
    "    return jsonify({'result' : pre[0]}) # pre의 결과를 json으로 넘겨주면 끝임\n",
    "\n",
    "\n",
    "# 내가실행하는게 아니라 플러터에서 실행하는것   # 파이썬에서는 런메소드가 제일 뒤에 있다.\n",
    "if __name__ == \"__main__\": # 자바의 메인 메소드\n",
    "    app.run(host=\"127.0.0.1\", port=5000, debug=True)\n",
    "\n",
    "\n",
    "# 크롬으로 잘돌아가는지 확인하고, 소스보기로 이상한 소스 없는지도 확인하기 <"
   ]
  }
 ],
 "metadata": {
  "kernelspec": {
   "display_name": "tensorflow",
   "language": "python",
   "name": "python3"
  },
  "language_info": {
   "name": "python",
   "version": "3.9.13"
  },
  "orig_nbformat": 4,
  "vscode": {
   "interpreter": {
    "hash": "a2b29f868d451986a4c0647d0e54b13b8f75acf913aadb998b05a67dca428959"
   }
  }
 },
 "nbformat": 4,
 "nbformat_minor": 2
}
