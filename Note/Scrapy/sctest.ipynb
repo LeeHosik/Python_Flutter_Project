{
 "cells": [
  {
   "cell_type": "code",
   "execution_count": 21,
   "metadata": {},
   "outputs": [],
   "source": [
    "from bs4 import BeautifulSoup\n",
    "import urllib.request as req\n",
    "from flask import Flask, jsonify, request, render_template\n",
    "import joblib"
   ]
  },
  {
   "cell_type": "code",
   "execution_count": 22,
   "metadata": {},
   "outputs": [],
   "source": [
    "# url = 'http://m.kwnews.co.kr'\n",
    "# res = req.urlopen(url)\n",
    "# soup = BeautifulSoup(res, \"html.parser\")\n",
    "# links = soup.select(\"#main_news_list_1 .title a\")\n",
    "# newstitles = []\n",
    "# newsLinks = []\n",
    "# errorList = []\n",
    "# setJSONList = []\n",
    "# i = 0\n",
    "# for link in links:\n",
    "#     try:  \n",
    "#         newstitles.append(link.text)\n",
    "#         newsLinks.append(url+link.attrs['href'])\n",
    "#     except: errorList.append(f'Error number : {str(link)} newsTitle :{link.text}')\n",
    "#     else:\n",
    "#         setJSONList.append({newstitles[i]:newsLinks[i]})\n",
    "#         i += 1\n"
   ]
  },
  {
   "cell_type": "code",
   "execution_count": 23,
   "metadata": {},
   "outputs": [],
   "source": [
    "# url = 'http://m.kwnews.co.kr'\n",
    "# res = req.urlopen(url)\n",
    "# soup = BeautifulSoup(res, \"html.parser\")\n",
    "# links = soup.select(\"#main_news_list_1 .title a\")\n",
    "\n",
    "# newstitles = []\n",
    "# newsLinks = []\n",
    "# errorList = []\n",
    "# setJSONList = []\n",
    "# i = 0\n",
    "# for link in links:\n",
    "#     try:  \n",
    "#         newstitles.append(link.text)\n",
    "#         newsLinks.append(url+link.attrs['href'])\n",
    "#     except: errorList.append(f'Error number : {str(link)} newsTitle :{link.text}')\n",
    "#     else:\n",
    "#         setJSONList.append({newstitles[i]:newsLinks[i]})\n",
    "#         i += 1"
   ]
  },
  {
   "cell_type": "code",
   "execution_count": 24,
   "metadata": {},
   "outputs": [],
   "source": [
    "# print(setJSONList[3].keys())\n",
    "# print(setJSONList[1].values())"
   ]
  },
  {
   "cell_type": "code",
   "execution_count": 25,
   "metadata": {},
   "outputs": [],
   "source": [
    "# def news():\n",
    "#     url = 'http://m.kwnews.co.kr'\n",
    "#     res = req.urlopen(url)\n",
    "#     soup = BeautifulSoup(res, \"html.parser\")\n",
    "#     links = soup.select(\"#main_news_list_1 .title a\")\n",
    "\n",
    "#     newstitles = []\n",
    "#     newsLinks = []\n",
    "#     errorList = []\n",
    "#     setJSONList = []\n",
    "#     i = 0\n",
    "#     for link in links:\n",
    "#         try:  \n",
    "#             newstitles.append(link.text)\n",
    "#             newsLinks.append(url+link.attrs['href'])\n",
    "#         except: errorList.append(f'Error number : {str(link)} newsTitle :{link.text}')\n",
    "#         else:\n",
    "#             setJSONList.append({newstitles[i]:newsLinks[i]})\n",
    "#             i += 1\n",
    "\n",
    "#     # return jsonify({\n",
    "#         # 'result' : setJSONList\n",
    "#     return setJSONList\n",
    "    "
   ]
  },
  {
   "cell_type": "code",
   "execution_count": 26,
   "metadata": {},
   "outputs": [],
   "source": [
    "def news():\n",
    "    url = 'http://www.ccnnews.co.kr/news/articleList.html?view_type=sm'\n",
    "    cungAllNewsurl = 'http://www.ccnnews.co.kr'\n",
    "    res = req.urlopen(url)\n",
    "    soup = BeautifulSoup(res, \"html.parser\")\n",
    "    links = soup.select(\".list-titles a\")\n",
    "\n",
    "    newstitles = []\n",
    "    newsLinks = []\n",
    "    errorList = []\n",
    "    setJSONList = []\n",
    "    i = 0\n",
    "    for link in links:\n",
    "        try:  \n",
    "            newstitles.append(link.text)\n",
    "            newsLinks.append(cungAllNewsurl+link.attrs['href'])\n",
    "        except: errorList.append(f'Error number : {str(link)} newsTitle :{link.text}')\n",
    "        else:\n",
    "            setJSONList.append({newstitles[i]:newsLinks[i]})\n",
    "            i += 1\n",
    "\n",
    "    # return jsonify({\n",
    "        # 'result' : setJSONList\n",
    "    return setJSONList\n",
    "    "
   ]
  },
  {
   "cell_type": "code",
   "execution_count": 27,
   "metadata": {},
   "outputs": [
    {
     "data": {
      "text/plain": [
       "[{'청양군, 고향사랑기부제 활성화 용역 중간보고': 'http://www.ccnnews.co.kr/news/articleView.html?idxno=286071'},\n",
       " {'청양군, 3년 연속 사회적경제 협업체계 공모 선정': 'http://www.ccnnews.co.kr/news/articleView.html?idxno=286068'},\n",
       " {'예산군 예산상설시장, 오는 27일부터 재정비...4월 1일 재오픈': 'http://www.ccnnews.co.kr/news/articleView.html?idxno=286067'},\n",
       " {\"김돈곤 충남 청양군수, 23일 '충남 시장․군수협의회에 참석'\": 'http://www.ccnnews.co.kr/news/articleView.html?idxno=286066'},\n",
       " {'[칼럼] \"고령층 낙상사고 주의보, 심하면 사망에 이르기도\"': 'http://www.ccnnews.co.kr/news/articleView.html?idxno=286065'},\n",
       " {\"한남대,국어 교사 양성 메카 '주목'\": 'http://www.ccnnews.co.kr/news/articleView.html?idxno=286064'},\n",
       " {'한국타이어, 아우토 빌트 테스트에서 \"전 세계 50개 타이어 브랜드 중 1위\"': 'http://www.ccnnews.co.kr/news/articleView.html?idxno=286063'},\n",
       " {'세종충남대병원, 더 편리한 온라인 제증명 발급 서비스 시행': 'http://www.ccnnews.co.kr/news/articleView.html?idxno=286061'},\n",
       " {'서산 메추리 농장 조류인플루엔자(AI)발생...11만 마리 폐사': 'http://www.ccnnews.co.kr/news/articleView.html?idxno=286060'},\n",
       " {'[부고] 김대곤 전 유성구청 국장 모친상': 'http://www.ccnnews.co.kr/news/articleView.html?idxno=286059'},\n",
       " {'박범인 금산군수, 부서별 주요 업무계획 검토': 'http://www.ccnnews.co.kr/news/articleView.html?idxno=286056'},\n",
       " {'정황근 농림축산식품부 장관, 공주시에 고향사랑기부금 전달': 'http://www.ccnnews.co.kr/news/articleView.html?idxno=286057'},\n",
       " {'공주시, 인구감소대응 5개년 계획 수립한다': 'http://www.ccnnews.co.kr/news/articleView.html?idxno=286055'},\n",
       " {\"남서울대, '충남학 대학지원사업' 선정...7년 연속\": 'http://www.ccnnews.co.kr/news/articleView.html?idxno=286054'},\n",
       " {'튀르키예 지진 피해에 당진시의회 성금 전달': 'http://www.ccnnews.co.kr/news/articleView.html?idxno=286051'},\n",
       " {'[칼럼] 고혈압 방치하면 심근경색, 뇌졸중 등 중증 질환 유발': 'http://www.ccnnews.co.kr/news/articleView.html?idxno=286052'},\n",
       " {'KAIST, 머리카락보다 100배 이상 얇은 디스플레이 픽셀 구현 기술 개발': 'http://www.ccnnews.co.kr/news/articleView.html?idxno=286053'},\n",
       " {'골프존카운티, ‘2023 골프존 이웃사랑 행복나눔’ 후원사업 진행': 'http://www.ccnnews.co.kr/news/articleView.html?idxno=286049'},\n",
       " {'천안시, 3·1운동 기념 ‘아우내봉화제’ 4년 만에 개최': 'http://www.ccnnews.co.kr/news/articleView.html?idxno=286050'},\n",
       " {'태안군, ‘농어민 정책 파트너’ 농어업회의소 설립 박차': 'http://www.ccnnews.co.kr/news/articleView.html?idxno=286047'},\n",
       " {'': 'http://www.ccnnews.co.kr'}]"
      ]
     },
     "execution_count": 27,
     "metadata": {},
     "output_type": "execute_result"
    }
   ],
   "source": [
    "news()"
   ]
  },
  {
   "cell_type": "code",
   "execution_count": null,
   "metadata": {},
   "outputs": [],
   "source": []
  }
 ],
 "metadata": {
  "kernelspec": {
   "display_name": "Python 3",
   "language": "python",
   "name": "python3"
  },
  "language_info": {
   "codemirror_mode": {
    "name": "ipython",
    "version": 3
   },
   "file_extension": ".py",
   "mimetype": "text/x-python",
   "name": "python",
   "nbconvert_exporter": "python",
   "pygments_lexer": "ipython3",
   "version": "3.9.13"
  },
  "orig_nbformat": 4,
  "vscode": {
   "interpreter": {
    "hash": "d864e386a55a2cee39c31bc0e2325312cb68f97ec75faaaf5382620c119f58c5"
   }
  }
 },
 "nbformat": 4,
 "nbformat_minor": 2
}
