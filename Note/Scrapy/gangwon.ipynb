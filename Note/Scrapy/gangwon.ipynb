{
 "cells": [
  {
   "cell_type": "code",
   "execution_count": 100,
   "metadata": {},
   "outputs": [],
   "source": [
    "from selenium import webdriver\n",
    "from selenium.webdriver.chrome.service import Service\n",
    "from webdriver_manager.chrome import ChromeDriverManager\n",
    "from selenium.webdriver.common.by import By\n",
    "\n",
    "from bs4 import BeautifulSoup\n",
    "from urllib import parse\n",
    "import urllib.request as req\n",
    "import time\n",
    "import pandas as pd\n",
    "\n",
    "\n",
    "import math"
   ]
  },
  {
   "cell_type": "code",
   "execution_count": 101,
   "metadata": {},
   "outputs": [],
   "source": [
    "# default\n",
    "import pandas as pd\n",
    "import seaborn as sns\n",
    "import numpy as np\n",
    "import matplotlib.pyplot as plt\n",
    "from sklearn import preprocessing\n",
    "import warnings\n",
    "warnings.filterwarnings(\"ignore\")\n",
    "# 한글 폰트 문제 해결 \n",
    "# matplotlib은 한글 폰트를 지원하지 않음\n",
    "# os정보\n",
    "import platform\n",
    "\n",
    "# font_manager : 폰트 관리 모듈\n",
    "# rc : 폰트 변경 모듈\n",
    "from matplotlib import font_manager, rc\n",
    "# unicode 설정\n",
    "plt.rcParams['axes.unicode_minus'] = False\n",
    "\n",
    "if platform.system() == 'Darwin':\n",
    "    rc('font', family='AppleGothic') # os가 macos\n",
    "elif platform.system() == 'Windows':\n",
    "    path = 'c:/Windows/Fonts/malgun.ttf' # os가 windows\n",
    "    font_name = font_manager.FontProperties(fname=path).get_name()\n",
    "    rc('font', family=font_name)\n",
    "else:\n",
    "    print(\"Unknown System\")"
   ]
  },
  {
   "cell_type": "code",
   "execution_count": 102,
   "metadata": {},
   "outputs": [],
   "source": [
    "# Chrome Browser 와 Chrome Driver Version 확인하기\n",
    "chrome_options = webdriver.ChromeOptions()\n",
    "driver = webdriver.Chrome(service=Service(ChromeDriverManager().install()), options=chrome_options)\n",
    "url = 'http://m.kwnews.co.kr'\n",
    "driver.get(url)\n"
   ]
  },
  {
   "cell_type": "code",
   "execution_count": 103,
   "metadata": {},
   "outputs": [
    {
     "name": "stdout",
     "output_type": "stream",
     "text": [
      "<a href=\"/page/view/2023022011124609142\">명예의장 조례안 논란에 발의 의원 반박</a>\n",
      "<a href=\"/page/view/2023022007314072210\">[3보]北, 한미 연합비행훈련 반발 전술핵수단 SRBM 2발 동해상으로 발사</a>\n",
      "<a href=\"/page/view/2023022003535298516\">‘손흥민 리그 5호골’ 토트넘, 웨스트햄 꺾고 리그 4위 도약</a>\n",
      "<a href=\"/page/view/2023021915271897433\">연이은 실적 하락…강원경제 버팀목, 건설업이 무너진다</a>\n",
      "<a href=\"/page/view/2023021914260433769\">차 1대에 반도체 2천개…강원도, 차량 시스템 반도체 생산 도전</a>\n",
      "<a href=\"/page/view/2023021915564585954\">‘소맥’이 1만4천원?…세금· 원가 인상에 소주·맥주값 ‘들썩’</a>\n",
      "<a href=\"/page/view/2023021911213249816\">대화하러 온 카페에서 “조용히 해 주세요” 말 듣는다면?</a>\n",
      "<a href=\"/page/view/2023021919183307528\">동서고속도 영월~삼척 적기 추진 한목소리</a>\n",
      "<a href=\"/page/view/2023021915390220957\">접경지역 평화경제특구 조성되나…관련 법안 국회 통과 ‘유력’</a>\n",
      "<a href=\"/page/view/2023021916495088791\">선거 1년 앞으로, 현역의원들 SNS 속에 피어난 표심 관리 '열기'</a>\n"
     ]
    }
   ],
   "source": [
    "html = driver.page_source\n",
    "soup = BeautifulSoup(html,'html.parser')\n",
    "\n",
    "newstitles = []\n",
    "newsLinks = []\n",
    "errorList = []\n",
    "links = soup.select(\"#main_news_list_1 .title a\")\n",
    "\n",
    "for link in links:\n",
    "    # newstitles.append(link.text)\n",
    "    # newsLinks.append(url+link.attrs['href'])\n",
    "    try:  \n",
    "        print(link)\n",
    "        newstitles.append(link.text)\n",
    "        newsLinks.append(url+link.attrs['href'])\n",
    "        # driver.find_element(By.XPATH, '//*[@id=\"pagination\"]/li['+ str(count) +']').click()\n",
    "    except: errorList.append(f'Error number : {str(link)} newsTitle :{link.text}')\n",
    "    else:\n",
    "        time.sleep(1)"
   ]
  }
 ],
 "metadata": {
  "kernelspec": {
   "display_name": "Python 3",
   "language": "python",
   "name": "python3"
  },
  "language_info": {
   "codemirror_mode": {
    "name": "ipython",
    "version": 3
   },
   "file_extension": ".py",
   "mimetype": "text/x-python",
   "name": "python",
   "nbconvert_exporter": "python",
   "pygments_lexer": "ipython3",
   "version": "3.9.13"
  },
  "orig_nbformat": 4,
  "vscode": {
   "interpreter": {
    "hash": "d864e386a55a2cee39c31bc0e2325312cb68f97ec75faaaf5382620c119f58c5"
   }
  }
 },
 "nbformat": 4,
 "nbformat_minor": 2
}
