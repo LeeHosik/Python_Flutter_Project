{
 "cells": [
  {
   "cell_type": "code",
   "execution_count": 564,
   "metadata": {},
   "outputs": [],
   "source": [
    "import numpy as np\n",
    "import pandas as pd\n",
    "import seaborn as sns\n",
    "import matplotlib.pyplot as plt\n",
    "from sklearn import preprocessing\n",
    "from sklearn.cluster import KMeans"
   ]
  },
  {
   "cell_type": "code",
   "execution_count": 565,
   "metadata": {},
   "outputs": [],
   "source": [
    "sns.set_style('whitegrid')"
   ]
  },
  {
   "cell_type": "code",
   "execution_count": 566,
   "metadata": {},
   "outputs": [],
   "source": [
    "# warning 숨기기\n",
    "import warnings\n",
    "warnings.filterwarnings('ignore')\n",
    "\n",
    "# 한글 폰트 문제 해결\n",
    "import platform\n",
    "from matplotlib import font_manager, rc\n",
    "plt.rcParams['axes.unicode_minus'] = False\n",
    "if platform.system() == 'Darwin':\n",
    "    rc('font', family='AppleGothic')\n",
    "elif platform.system() == 'Windows':\n",
    "    path = 'c:/Windows/Fonts/malgun.ttf'\n",
    "    font_name = font_manager.FontProperties(fname=path).get_name()\n",
    "    rc('font', family=font_name)\n",
    "else:\n",
    "    print(\"Unknown System\")"
   ]
  },
  {
   "attachments": {},
   "cell_type": "markdown",
   "metadata": {},
   "source": [
    "----\n",
    "# Data Analysis - 04\n",
    "### - ML 2nd Try"
   ]
  },
  {
   "cell_type": "code",
   "execution_count": 567,
   "metadata": {},
   "outputs": [
    {
     "data": {
      "text/html": [
       "<div>\n",
       "<style scoped>\n",
       "    .dataframe tbody tr th:only-of-type {\n",
       "        vertical-align: middle;\n",
       "    }\n",
       "\n",
       "    .dataframe tbody tr th {\n",
       "        vertical-align: top;\n",
       "    }\n",
       "\n",
       "    .dataframe thead th {\n",
       "        text-align: right;\n",
       "    }\n",
       "</style>\n",
       "<table border=\"1\" class=\"dataframe\">\n",
       "  <thead>\n",
       "    <tr style=\"text-align: right;\">\n",
       "      <th></th>\n",
       "      <th>시도</th>\n",
       "      <th>총인구</th>\n",
       "      <th>전출인구</th>\n",
       "      <th>출생아수</th>\n",
       "      <th>산부인과의원수</th>\n",
       "      <th>초등학생인원수</th>\n",
       "      <th>도매 및 소매업 신생</th>\n",
       "      <th>예금은행대출금액</th>\n",
       "      <th>예금액</th>\n",
       "    </tr>\n",
       "    <tr>\n",
       "      <th>년도</th>\n",
       "      <th></th>\n",
       "      <th></th>\n",
       "      <th></th>\n",
       "      <th></th>\n",
       "      <th></th>\n",
       "      <th></th>\n",
       "      <th></th>\n",
       "      <th></th>\n",
       "      <th></th>\n",
       "    </tr>\n",
       "  </thead>\n",
       "  <tbody>\n",
       "    <tr>\n",
       "      <th>2013</th>\n",
       "      <td>경기도</td>\n",
       "      <td>12234630</td>\n",
       "      <td>1821303</td>\n",
       "      <td>112129</td>\n",
       "      <td>286</td>\n",
       "      <td>739619</td>\n",
       "      <td>49143</td>\n",
       "      <td>248468.3</td>\n",
       "      <td>13718.5</td>\n",
       "    </tr>\n",
       "    <tr>\n",
       "      <th>2013</th>\n",
       "      <td>서울특별시</td>\n",
       "      <td>10143645</td>\n",
       "      <td>1620640</td>\n",
       "      <td>84066</td>\n",
       "      <td>395</td>\n",
       "      <td>469392</td>\n",
       "      <td>48097</td>\n",
       "      <td>462443.1</td>\n",
       "      <td>532689.2</td>\n",
       "    </tr>\n",
       "    <tr>\n",
       "      <th>2013</th>\n",
       "      <td>경상남도</td>\n",
       "      <td>3333820</td>\n",
       "      <td>423864</td>\n",
       "      <td>29504</td>\n",
       "      <td>65</td>\n",
       "      <td>190166</td>\n",
       "      <td>12612</td>\n",
       "      <td>57288.6</td>\n",
       "      <td>6703.3</td>\n",
       "    </tr>\n",
       "    <tr>\n",
       "      <th>2013</th>\n",
       "      <td>부산광역시</td>\n",
       "      <td>3527635</td>\n",
       "      <td>496161</td>\n",
       "      <td>25831</td>\n",
       "      <td>82</td>\n",
       "      <td>160821</td>\n",
       "      <td>13902</td>\n",
       "      <td>77411.6</td>\n",
       "      <td>59554.5</td>\n",
       "    </tr>\n",
       "    <tr>\n",
       "      <th>2013</th>\n",
       "      <td>대구광역시</td>\n",
       "      <td>2501588</td>\n",
       "      <td>363224</td>\n",
       "      <td>19340</td>\n",
       "      <td>86</td>\n",
       "      <td>136309</td>\n",
       "      <td>9981</td>\n",
       "      <td>46578.5</td>\n",
       "      <td>37541.7</td>\n",
       "    </tr>\n",
       "    <tr>\n",
       "      <th>...</th>\n",
       "      <td>...</td>\n",
       "      <td>...</td>\n",
       "      <td>...</td>\n",
       "      <td>...</td>\n",
       "      <td>...</td>\n",
       "      <td>...</td>\n",
       "      <td>...</td>\n",
       "      <td>...</td>\n",
       "      <td>...</td>\n",
       "    </tr>\n",
       "    <tr>\n",
       "      <th>2020</th>\n",
       "      <td>충청북도</td>\n",
       "      <td>1600837</td>\n",
       "      <td>226441</td>\n",
       "      <td>8607</td>\n",
       "      <td>40</td>\n",
       "      <td>85135</td>\n",
       "      <td>6103</td>\n",
       "      <td>28669.1</td>\n",
       "      <td>27669.5</td>\n",
       "    </tr>\n",
       "    <tr>\n",
       "      <th>2020</th>\n",
       "      <td>대전광역시</td>\n",
       "      <td>1463882</td>\n",
       "      <td>243418</td>\n",
       "      <td>7481</td>\n",
       "      <td>44</td>\n",
       "      <td>79807</td>\n",
       "      <td>6405</td>\n",
       "      <td>39341.3</td>\n",
       "      <td>38725.4</td>\n",
       "    </tr>\n",
       "    <tr>\n",
       "      <th>2020</th>\n",
       "      <td>강원도</td>\n",
       "      <td>1542840</td>\n",
       "      <td>217897</td>\n",
       "      <td>7835</td>\n",
       "      <td>32</td>\n",
       "      <td>73478</td>\n",
       "      <td>5554</td>\n",
       "      <td>22831.4</td>\n",
       "      <td>23634.2</td>\n",
       "    </tr>\n",
       "    <tr>\n",
       "      <th>2020</th>\n",
       "      <td>제주특별자치도</td>\n",
       "      <td>674635</td>\n",
       "      <td>94736</td>\n",
       "      <td>3989</td>\n",
       "      <td>23</td>\n",
       "      <td>40575</td>\n",
       "      <td>2856</td>\n",
       "      <td>20182.3</td>\n",
       "      <td>14025.4</td>\n",
       "    </tr>\n",
       "    <tr>\n",
       "      <th>2020</th>\n",
       "      <td>세종특별자치시</td>\n",
       "      <td>355831</td>\n",
       "      <td>65909</td>\n",
       "      <td>3468</td>\n",
       "      <td>7</td>\n",
       "      <td>29487</td>\n",
       "      <td>1361</td>\n",
       "      <td>9864.7</td>\n",
       "      <td>251734.3</td>\n",
       "    </tr>\n",
       "  </tbody>\n",
       "</table>\n",
       "<p>136 rows × 9 columns</p>\n",
       "</div>"
      ],
      "text/plain": [
       "           시도       총인구     전출인구    출생아수  산부인과의원수  초등학생인원수  도매 및 소매업 신생  \\\n",
       "년도                                                                        \n",
       "2013      경기도  12234630  1821303  112129      286   739619        49143   \n",
       "2013    서울특별시  10143645  1620640   84066      395   469392        48097   \n",
       "2013     경상남도   3333820   423864   29504       65   190166        12612   \n",
       "2013    부산광역시   3527635   496161   25831       82   160821        13902   \n",
       "2013    대구광역시   2501588   363224   19340       86   136309         9981   \n",
       "...       ...       ...      ...     ...      ...      ...          ...   \n",
       "2020     충청북도   1600837   226441    8607       40    85135         6103   \n",
       "2020    대전광역시   1463882   243418    7481       44    79807         6405   \n",
       "2020      강원도   1542840   217897    7835       32    73478         5554   \n",
       "2020  제주특별자치도    674635    94736    3989       23    40575         2856   \n",
       "2020  세종특별자치시    355831    65909    3468        7    29487         1361   \n",
       "\n",
       "      예금은행대출금액       예금액  \n",
       "년도                        \n",
       "2013  248468.3   13718.5  \n",
       "2013  462443.1  532689.2  \n",
       "2013   57288.6    6703.3  \n",
       "2013   77411.6   59554.5  \n",
       "2013   46578.5   37541.7  \n",
       "...        ...       ...  \n",
       "2020   28669.1   27669.5  \n",
       "2020   39341.3   38725.4  \n",
       "2020   22831.4   23634.2  \n",
       "2020   20182.3   14025.4  \n",
       "2020    9864.7  251734.3  \n",
       "\n",
       "[136 rows x 9 columns]"
      ]
     },
     "execution_count": 567,
     "metadata": {},
     "output_type": "execute_result"
    }
   ],
   "source": [
    "df = pd.read_csv(\"../Data/03.통합.csv\", index_col='년도')\n",
    "df"
   ]
  },
  {
   "cell_type": "code",
   "execution_count": 568,
   "metadata": {},
   "outputs": [
    {
     "data": {
      "text/html": [
       "<div>\n",
       "<style scoped>\n",
       "    .dataframe tbody tr th:only-of-type {\n",
       "        vertical-align: middle;\n",
       "    }\n",
       "\n",
       "    .dataframe tbody tr th {\n",
       "        vertical-align: top;\n",
       "    }\n",
       "\n",
       "    .dataframe thead th {\n",
       "        text-align: right;\n",
       "    }\n",
       "</style>\n",
       "<table border=\"1\" class=\"dataframe\">\n",
       "  <thead>\n",
       "    <tr style=\"text-align: right;\">\n",
       "      <th></th>\n",
       "      <th>시도</th>\n",
       "      <th>전출인구</th>\n",
       "      <th>출생아수</th>\n",
       "      <th>산부인과의원수</th>\n",
       "      <th>초등학생인원수</th>\n",
       "      <th>도매 및 소매업 신생</th>\n",
       "      <th>예금은행대출금액</th>\n",
       "      <th>예금액</th>\n",
       "    </tr>\n",
       "    <tr>\n",
       "      <th>년도</th>\n",
       "      <th></th>\n",
       "      <th></th>\n",
       "      <th></th>\n",
       "      <th></th>\n",
       "      <th></th>\n",
       "      <th></th>\n",
       "      <th></th>\n",
       "      <th></th>\n",
       "    </tr>\n",
       "  </thead>\n",
       "  <tbody>\n",
       "    <tr>\n",
       "      <th>2013</th>\n",
       "      <td>경기도</td>\n",
       "      <td>1821303</td>\n",
       "      <td>112129</td>\n",
       "      <td>286</td>\n",
       "      <td>739619</td>\n",
       "      <td>49143</td>\n",
       "      <td>248468.3</td>\n",
       "      <td>13718.5</td>\n",
       "    </tr>\n",
       "    <tr>\n",
       "      <th>2013</th>\n",
       "      <td>서울특별시</td>\n",
       "      <td>1620640</td>\n",
       "      <td>84066</td>\n",
       "      <td>395</td>\n",
       "      <td>469392</td>\n",
       "      <td>48097</td>\n",
       "      <td>462443.1</td>\n",
       "      <td>532689.2</td>\n",
       "    </tr>\n",
       "    <tr>\n",
       "      <th>2013</th>\n",
       "      <td>경상남도</td>\n",
       "      <td>423864</td>\n",
       "      <td>29504</td>\n",
       "      <td>65</td>\n",
       "      <td>190166</td>\n",
       "      <td>12612</td>\n",
       "      <td>57288.6</td>\n",
       "      <td>6703.3</td>\n",
       "    </tr>\n",
       "    <tr>\n",
       "      <th>2013</th>\n",
       "      <td>부산광역시</td>\n",
       "      <td>496161</td>\n",
       "      <td>25831</td>\n",
       "      <td>82</td>\n",
       "      <td>160821</td>\n",
       "      <td>13902</td>\n",
       "      <td>77411.6</td>\n",
       "      <td>59554.5</td>\n",
       "    </tr>\n",
       "    <tr>\n",
       "      <th>2013</th>\n",
       "      <td>대구광역시</td>\n",
       "      <td>363224</td>\n",
       "      <td>19340</td>\n",
       "      <td>86</td>\n",
       "      <td>136309</td>\n",
       "      <td>9981</td>\n",
       "      <td>46578.5</td>\n",
       "      <td>37541.7</td>\n",
       "    </tr>\n",
       "  </tbody>\n",
       "</table>\n",
       "</div>"
      ],
      "text/plain": [
       "         시도     전출인구    출생아수  산부인과의원수  초등학생인원수  도매 및 소매업 신생  예금은행대출금액  \\\n",
       "년도                                                                      \n",
       "2013    경기도  1821303  112129      286   739619        49143  248468.3   \n",
       "2013  서울특별시  1620640   84066      395   469392        48097  462443.1   \n",
       "2013   경상남도   423864   29504       65   190166        12612   57288.6   \n",
       "2013  부산광역시   496161   25831       82   160821        13902   77411.6   \n",
       "2013  대구광역시   363224   19340       86   136309         9981   46578.5   \n",
       "\n",
       "           예금액  \n",
       "년도              \n",
       "2013   13718.5  \n",
       "2013  532689.2  \n",
       "2013    6703.3  \n",
       "2013   59554.5  \n",
       "2013   37541.7  "
      ]
     },
     "execution_count": 568,
     "metadata": {},
     "output_type": "execute_result"
    }
   ],
   "source": [
    "# 총인구 컬럼 제거\n",
    "df.drop(columns='총인구', inplace=True)\n",
    "df.head()"
   ]
  },
  {
   "cell_type": "code",
   "execution_count": 569,
   "metadata": {},
   "outputs": [
    {
     "data": {
      "text/plain": [
       "Int64Index([2013, 2013, 2013, 2013, 2013, 2013, 2013, 2013, 2013, 2013,\n",
       "            ...\n",
       "            2020, 2020, 2020, 2020, 2020, 2020, 2020, 2020, 2020, 2020],\n",
       "           dtype='int64', name='년도', length=136)"
      ]
     },
     "execution_count": 569,
     "metadata": {},
     "output_type": "execute_result"
    }
   ],
   "source": [
    "years = df.index\n",
    "years"
   ]
  },
  {
   "cell_type": "markdown",
   "metadata": {},
   "source": [
    "### k값 찾기"
   ]
  },
  {
   "cell_type": "code",
   "execution_count": 570,
   "metadata": {},
   "outputs": [
    {
     "data": {
      "image/png": "[encoded data removed]",
      "text/plain": [
       "<Figure size 800x500 with 1 Axes>"
      ]
     },
     "metadata": {},
     "output_type": "display_data"
    }
   ],
   "source": [
    "df_temp = df.copy()\n",
    "df_temp.set_index('시도', inplace=True)\n",
    "# df_km = df_temp[df_temp.columns.difference(['총인구'])] # 총인구 컬럼이 존재할 때 사용한 것임\n",
    "df_km = df_temp\n",
    "# k값 찾기 --------------------------------------------\n",
    "scores = []\n",
    "for k in range(2, 10):\n",
    "    km = KMeans(n_clusters=k, random_state=42)\n",
    "    km.fit(df_km)\n",
    "    scores.append(km.inertia_)\n",
    "# 그래프 그리기 ------------------\n",
    "plt.figure(figsize=(8,5))\n",
    "plt.plot(range(2,10), scores)\n",
    "plt.title('전체 년도의 k값 찾기')\n",
    "plt.show()\n",
    "# -----------------------------"
   ]
  },
  {
   "cell_type": "markdown",
   "metadata": {},
   "source": [
    "> #### 후보: 3, 4, 5"
   ]
  },
  {
   "cell_type": "markdown",
   "metadata": {},
   "source": [
    "----\n",
    "### k값 적용(k=4) -> 데이터프레임 컬럼 추가"
   ]
  },
  {
   "cell_type": "code",
   "execution_count": 571,
   "metadata": {},
   "outputs": [
    {
     "name": "stdout",
     "output_type": "stream",
     "text": [
      "[3 1 0 0 0 0 2 0 2 2 2 2 2 2 2 2 2 3 1 0 0 0 0 2 0 2 2 2 2 2 2 2 2 2 3 1 0\n",
      " 0 0 0 2 0 2 2 2 2 2 2 2 2 2 3 1 0 0 0 0 2 0 2 2 2 2 2 2 2 2 2 3 1 0 0 0 0\n",
      " 2 0 2 2 2 2 2 2 2 2 2 3 1 0 0 0 0 2 0 2 2 2 2 2 2 2 2 2 3 1 0 0 0 0 2 0 2\n",
      " 2 2 2 2 2 2 2 2 3 1 0 0 0 0 2 0 2 2 2 2 2 2 2 2 2]\n"
     ]
    },
    {
     "data": {
      "text/plain": [
       "array([[4.03589850e+05, 2.07180750e+04, 6.76250000e+01, 1.51779725e+05,\n",
       "        1.13792750e+04, 7.19181200e+04, 4.38354200e+04],\n",
       "       [1.61312862e+06, 6.88623750e+04, 3.90250000e+02, 4.37333375e+05,\n",
       "        4.58475000e+04, 5.71485213e+05, 6.76193713e+05],\n",
       "       [1.95049262e+05, 1.01237875e+04, 3.37125000e+01, 7.75759125e+04,\n",
       "        5.29692500e+03, 2.30497900e+04, 3.85136163e+04],\n",
       "       [1.85165600e+06, 9.83292500e+04, 2.71375000e+02, 7.43822500e+05,\n",
       "        5.25488750e+04, 3.22522750e+05, 2.05947125e+04]])"
      ]
     },
     "execution_count": 571,
     "metadata": {},
     "output_type": "execute_result"
    }
   ],
   "source": [
    "data_points = df_km.values\n",
    "km = KMeans(n_clusters=4).fit(data_points) # n_clusters 에 값을 정해주기!\n",
    "\n",
    "# labels\n",
    "print(km.labels_)\n",
    "# 각 군집의 중심위치\n",
    "km.cluster_centers_"
   ]
  },
  {
   "cell_type": "code",
   "execution_count": 572,
   "metadata": {},
   "outputs": [
    {
     "data": {
      "text/html": [
       "<div>\n",
       "<style scoped>\n",
       "    .dataframe tbody tr th:only-of-type {\n",
       "        vertical-align: middle;\n",
       "    }\n",
       "\n",
       "    .dataframe tbody tr th {\n",
       "        vertical-align: top;\n",
       "    }\n",
       "\n",
       "    .dataframe thead th {\n",
       "        text-align: right;\n",
       "    }\n",
       "</style>\n",
       "<table border=\"1\" class=\"dataframe\">\n",
       "  <thead>\n",
       "    <tr style=\"text-align: right;\">\n",
       "      <th></th>\n",
       "      <th>전출인구</th>\n",
       "      <th>출생아수</th>\n",
       "      <th>산부인과의원수</th>\n",
       "      <th>초등학생인원수</th>\n",
       "      <th>도매 및 소매업 신생</th>\n",
       "      <th>예금은행대출금액</th>\n",
       "      <th>예금액</th>\n",
       "      <th>cluster_id</th>\n",
       "    </tr>\n",
       "    <tr>\n",
       "      <th>시도</th>\n",
       "      <th></th>\n",
       "      <th></th>\n",
       "      <th></th>\n",
       "      <th></th>\n",
       "      <th></th>\n",
       "      <th></th>\n",
       "      <th></th>\n",
       "      <th></th>\n",
       "    </tr>\n",
       "  </thead>\n",
       "  <tbody>\n",
       "    <tr>\n",
       "      <th>경기도</th>\n",
       "      <td>1821303</td>\n",
       "      <td>112129</td>\n",
       "      <td>286</td>\n",
       "      <td>739619</td>\n",
       "      <td>49143</td>\n",
       "      <td>248468.3</td>\n",
       "      <td>13718.5</td>\n",
       "      <td>3</td>\n",
       "    </tr>\n",
       "    <tr>\n",
       "      <th>서울특별시</th>\n",
       "      <td>1620640</td>\n",
       "      <td>84066</td>\n",
       "      <td>395</td>\n",
       "      <td>469392</td>\n",
       "      <td>48097</td>\n",
       "      <td>462443.1</td>\n",
       "      <td>532689.2</td>\n",
       "      <td>1</td>\n",
       "    </tr>\n",
       "    <tr>\n",
       "      <th>경상남도</th>\n",
       "      <td>423864</td>\n",
       "      <td>29504</td>\n",
       "      <td>65</td>\n",
       "      <td>190166</td>\n",
       "      <td>12612</td>\n",
       "      <td>57288.6</td>\n",
       "      <td>6703.3</td>\n",
       "      <td>0</td>\n",
       "    </tr>\n",
       "    <tr>\n",
       "      <th>부산광역시</th>\n",
       "      <td>496161</td>\n",
       "      <td>25831</td>\n",
       "      <td>82</td>\n",
       "      <td>160821</td>\n",
       "      <td>13902</td>\n",
       "      <td>77411.6</td>\n",
       "      <td>59554.5</td>\n",
       "      <td>0</td>\n",
       "    </tr>\n",
       "    <tr>\n",
       "      <th>대구광역시</th>\n",
       "      <td>363224</td>\n",
       "      <td>19340</td>\n",
       "      <td>86</td>\n",
       "      <td>136309</td>\n",
       "      <td>9981</td>\n",
       "      <td>46578.5</td>\n",
       "      <td>37541.7</td>\n",
       "      <td>0</td>\n",
       "    </tr>\n",
       "    <tr>\n",
       "      <th>...</th>\n",
       "      <td>...</td>\n",
       "      <td>...</td>\n",
       "      <td>...</td>\n",
       "      <td>...</td>\n",
       "      <td>...</td>\n",
       "      <td>...</td>\n",
       "      <td>...</td>\n",
       "      <td>...</td>\n",
       "    </tr>\n",
       "    <tr>\n",
       "      <th>충청북도</th>\n",
       "      <td>226441</td>\n",
       "      <td>8607</td>\n",
       "      <td>40</td>\n",
       "      <td>85135</td>\n",
       "      <td>6103</td>\n",
       "      <td>28669.1</td>\n",
       "      <td>27669.5</td>\n",
       "      <td>2</td>\n",
       "    </tr>\n",
       "    <tr>\n",
       "      <th>대전광역시</th>\n",
       "      <td>243418</td>\n",
       "      <td>7481</td>\n",
       "      <td>44</td>\n",
       "      <td>79807</td>\n",
       "      <td>6405</td>\n",
       "      <td>39341.3</td>\n",
       "      <td>38725.4</td>\n",
       "      <td>2</td>\n",
       "    </tr>\n",
       "    <tr>\n",
       "      <th>강원도</th>\n",
       "      <td>217897</td>\n",
       "      <td>7835</td>\n",
       "      <td>32</td>\n",
       "      <td>73478</td>\n",
       "      <td>5554</td>\n",
       "      <td>22831.4</td>\n",
       "      <td>23634.2</td>\n",
       "      <td>2</td>\n",
       "    </tr>\n",
       "    <tr>\n",
       "      <th>제주특별자치도</th>\n",
       "      <td>94736</td>\n",
       "      <td>3989</td>\n",
       "      <td>23</td>\n",
       "      <td>40575</td>\n",
       "      <td>2856</td>\n",
       "      <td>20182.3</td>\n",
       "      <td>14025.4</td>\n",
       "      <td>2</td>\n",
       "    </tr>\n",
       "    <tr>\n",
       "      <th>세종특별자치시</th>\n",
       "      <td>65909</td>\n",
       "      <td>3468</td>\n",
       "      <td>7</td>\n",
       "      <td>29487</td>\n",
       "      <td>1361</td>\n",
       "      <td>9864.7</td>\n",
       "      <td>251734.3</td>\n",
       "      <td>2</td>\n",
       "    </tr>\n",
       "  </tbody>\n",
       "</table>\n",
       "<p>136 rows × 8 columns</p>\n",
       "</div>"
      ],
      "text/plain": [
       "            전출인구    출생아수  산부인과의원수  초등학생인원수  도매 및 소매업 신생  예금은행대출금액       예금액  \\\n",
       "시도                                                                            \n",
       "경기도      1821303  112129      286   739619        49143  248468.3   13718.5   \n",
       "서울특별시    1620640   84066      395   469392        48097  462443.1  532689.2   \n",
       "경상남도      423864   29504       65   190166        12612   57288.6    6703.3   \n",
       "부산광역시     496161   25831       82   160821        13902   77411.6   59554.5   \n",
       "대구광역시     363224   19340       86   136309         9981   46578.5   37541.7   \n",
       "...          ...     ...      ...      ...          ...       ...       ...   \n",
       "충청북도      226441    8607       40    85135         6103   28669.1   27669.5   \n",
       "대전광역시     243418    7481       44    79807         6405   39341.3   38725.4   \n",
       "강원도       217897    7835       32    73478         5554   22831.4   23634.2   \n",
       "제주특별자치도    94736    3989       23    40575         2856   20182.3   14025.4   \n",
       "세종특별자치시    65909    3468        7    29487         1361    9864.7  251734.3   \n",
       "\n",
       "         cluster_id  \n",
       "시도                   \n",
       "경기도               3  \n",
       "서울특별시             1  \n",
       "경상남도              0  \n",
       "부산광역시             0  \n",
       "대구광역시             0  \n",
       "...             ...  \n",
       "충청북도              2  \n",
       "대전광역시             2  \n",
       "강원도               2  \n",
       "제주특별자치도           2  \n",
       "세종특별자치시           2  \n",
       "\n",
       "[136 rows x 8 columns]"
      ]
     },
     "execution_count": 572,
     "metadata": {},
     "output_type": "execute_result"
    }
   ],
   "source": [
    "# 데이터가 어느 군집에 소속되어 있는지 정하기\n",
    "df_km['cluster_id'] = km.labels_\n",
    "df_km"
   ]
  },
  {
   "cell_type": "code",
   "execution_count": 573,
   "metadata": {},
   "outputs": [],
   "source": [
    "# sns.set_style('whitegrid')\n",
    "# plt.style.use('default')"
   ]
  },
  {
   "cell_type": "code",
   "execution_count": 574,
   "metadata": {},
   "outputs": [
    {
     "data": {
      "image/png": "[encoded data removed]",
      "text/plain": [
       "<Figure size 600x600 with 3 Axes>"
      ]
     },
     "metadata": {},
     "output_type": "display_data"
    }
   ],
   "source": [
    "# 조인트 그래프 - 산점도 (기본값)\n",
    "j1 = sns.jointplot(\n",
    "    x=df_km['출생아수']/1000,\n",
    "    y=df_km['전출인구']/1000,\n",
    "    data=df_km,\n",
    "    hue=\"cluster_id\",\n",
    "    legend=True,\n",
    "    palette='rainbow',\n",
    "    s=200,\n",
    "    alpha=0.6,\n",
    "    # height=10, \n",
    ")\n",
    "plt.xlabel(\"출생아수(단위: 1000명)\")\n",
    "plt.ylabel(\"전출인구(단위: 1000명)\")\n",
    "\n",
    "j1.fig.suptitle('출생아수-전출인구 산포도', size=15)\n",
    "plt.legend(loc='right')\n",
    "plt.show()"
   ]
  },
  {
   "cell_type": "code",
   "execution_count": 575,
   "metadata": {},
   "outputs": [
    {
     "data": {
      "image/png": "[encoded data removed]",
      "text/plain": [
       "<Figure size 1000x500 with 1 Axes>"
      ]
     },
     "metadata": {},
     "output_type": "display_data"
    }
   ],
   "source": [
    "# plt.style.use('default') # *** 산점도는 디폴트가 좋다 ***\n",
    "df_km.plot(\n",
    "    kind='scatter',\n",
    "    x='출생아수',\n",
    "    y='전출인구',\n",
    "    # x = df_km['출생아수']/1000, # 무게\n",
    "    # y = df_km['전출인구']/1000, # 연비\n",
    "    c = 'blue',\n",
    "    # s = cylinder_size, # 산점도 점의 크기\n",
    "    alpha = 0.3,\n",
    "    figsize=(10, 5)\n",
    ")\n",
    "\n",
    "plt.show()"
   ]
  },
  {
   "cell_type": "code",
   "execution_count": 576,
   "metadata": {},
   "outputs": [
    {
     "data": {
      "text/plain": [
       "<AxesSubplot: xlabel='출생아수', ylabel='전출인구'>"
      ]
     },
     "execution_count": 576,
     "metadata": {},
     "output_type": "execute_result"
    },
    {
     "data": {
      "image/png": "[encoded data removed]",
      "text/plain": [
       "<Figure size 640x480 with 1 Axes>"
      ]
     },
     "metadata": {},
     "output_type": "display_data"
    }
   ],
   "source": [
    "sns.scatterplot(data=df_km, x=\"출생아수\", y=\"전출인구\", hue=\"cluster_id\", size=1000)"
   ]
  },
  {
   "cell_type": "code",
   "execution_count": 577,
   "metadata": {},
   "outputs": [
    {
     "data": {
      "image/png": "[encoded data removed]",
      "text/plain": [
       "<Figure size 500x500 with 1 Axes>"
      ]
     },
     "metadata": {},
     "output_type": "display_data"
    }
   ],
   "source": [
    "sns.lmplot(x='출생아수', y='전출인구',\n",
    "            data=df_km/1000, fit_reg=False,\n",
    "            scatter_kws={'s':200},\n",
    "            hue=\"cluster_id\", legend=False,\n",
    "            \n",
    "            \n",
    ")\n",
    "plt.xlabel(\"출생아수(단위: 1000명)\")\n",
    "plt.ylabel(\"전출인구(단위: 1000명)\")\n",
    "plt.legend(['0','1','2','3'], loc='right', )\n",
    "plt.show()"
   ]
  },
  {
   "cell_type": "markdown",
   "metadata": {},
   "source": [
    "----\n",
    "# Classification"
   ]
  },
  {
   "cell_type": "markdown",
   "metadata": {},
   "source": [
    "### Feature, Target"
   ]
  },
  {
   "cell_type": "code",
   "execution_count": 578,
   "metadata": {},
   "outputs": [],
   "source": [
    "# Feature, Target\n",
    "data = df_km[['전출인구', '출생아수', '산부인과의원수', '초등학생인원수', '도매 및 소매업 신생', '예금은행대출금액', '예금액']].to_numpy()\n",
    "target = df_km['cluster_id'].to_numpy()"
   ]
  },
  {
   "cell_type": "markdown",
   "metadata": {},
   "source": [
    "----\n",
    "### 검증 세트 추가\n",
    "- 훈련(60%), 검증(20%), 테스트(20%)"
   ]
  },
  {
   "cell_type": "code",
   "execution_count": 579,
   "metadata": {},
   "outputs": [],
   "source": [
    "from sklearn.model_selection import train_test_split\n",
    "train_input, test_input, train_target, test_target = \\\n",
    "    train_test_split(data, target, test_size=0.2, stratify=target) # random_state=42"
   ]
  },
  {
   "cell_type": "code",
   "execution_count": 580,
   "metadata": {},
   "outputs": [],
   "source": [
    "sub_input, val_input, sub_target, val_target = \\\n",
    "    train_test_split(train_input, train_target, test_size=0.2, stratify=train_target) # random_state=42"
   ]
  },
  {
   "cell_type": "code",
   "execution_count": 581,
   "metadata": {},
   "outputs": [
    {
     "name": "stdout",
     "output_type": "stream",
     "text": [
      "Train : (86, 7)\n",
      "Valid : (22, 7)\n",
      "Test  : (28, 7)\n"
     ]
    }
   ],
   "source": [
    "# 세트 별 크기\n",
    "print(\"Train :\", sub_input.shape)\n",
    "print(\"Valid :\", val_input.shape)\n",
    "print(\"Test  :\", test_input.shape)"
   ]
  },
  {
   "attachments": {},
   "cell_type": "markdown",
   "metadata": {},
   "source": [
    "----\n",
    "\n",
    "### 각 ML 별 Score 확인"
   ]
  },
  {
   "cell_type": "code",
   "execution_count": 582,
   "metadata": {},
   "outputs": [
    {
     "name": "stdout",
     "output_type": "stream",
     "text": [
      "- ML : KNeighborsClassifier(n_neighbors=3)\n",
      "+ Train score : 1.0\n",
      "+ Valid score : 1.0\n",
      "+ Test score : 1.0\n",
      "------------------------------\n",
      "- ML : SVC()\n",
      "+ Train score : 0.9651162790697675\n",
      "+ Valid score : 1.0\n",
      "+ Test score : 0.9818181818181818\n",
      "------------------------------\n",
      "- ML : GaussianProcessClassifier()\n",
      "+ Train score : 1.0\n",
      "+ Valid score : 0.045454545454545456\n",
      "+ Test score : 0.05541125541125541\n",
      "------------------------------\n",
      "- ML : DecisionTreeClassifier()\n",
      "+ Train score : 1.0\n",
      "+ Valid score : 1.0\n",
      "+ Test score : 0.9718614718614719\n",
      "------------------------------\n",
      "- ML : RandomForestClassifier()\n",
      "+ Train score : 1.0\n",
      "+ Valid score : 1.0\n",
      "+ Test score : 1.0\n",
      "------------------------------\n",
      "- ML : AdaBoostClassifier()\n",
      "+ Train score : 1.0\n",
      "+ Valid score : 1.0\n",
      "+ Test score : 0.9813852813852814\n",
      "------------------------------\n",
      "- ML : MLPClassifier()\n",
      "+ Train score : 0.37209302325581395\n",
      "+ Valid score : 0.3181818181818182\n",
      "+ Test score : 0.35367965367965365\n",
      "------------------------------\n",
      "- ML : GaussianNB()\n",
      "+ Train score : 1.0\n",
      "+ Valid score : 1.0\n",
      "+ Test score : 1.0\n",
      "------------------------------\n",
      "- ML : QuadraticDiscriminantAnalysis()\n",
      "+ Train score : 0.9767441860465116\n",
      "+ Valid score : 0.9090909090909091\n",
      "+ Test score : 0.8606060606060606\n",
      "------------------------------\n"
     ]
    }
   ],
   "source": [
    "# 각 ML별 import\n",
    "from sklearn.neighbors import KNeighborsClassifier\n",
    "from sklearn.svm import SVC\n",
    "from sklearn.gaussian_process import GaussianProcessClassifier\n",
    "from sklearn.tree import DecisionTreeClassifier\n",
    "from sklearn.ensemble import RandomForestClassifier\n",
    "from sklearn.ensemble import AdaBoostClassifier\n",
    "from sklearn.neural_network import MLPClassifier\n",
    "from sklearn.naive_bayes import GaussianNB\n",
    "from sklearn.discriminant_analysis import QuadraticDiscriminantAnalysis\n",
    "# 교차검증 import\n",
    "from sklearn.model_selection import cross_validate\n",
    "\n",
    "ml_list = [KNeighborsClassifier(n_neighbors=3), SVC(), GaussianProcessClassifier(), DecisionTreeClassifier(), RandomForestClassifier(), AdaBoostClassifier(), MLPClassifier(), GaussianNB(), QuadraticDiscriminantAnalysis()]\n",
    "for ml in ml_list:\n",
    "    print(\"- ML :\", ml)\n",
    "    clf = ml\n",
    "    # 학습\n",
    "    clf.fit(sub_input, sub_target)\n",
    "    # 정확도 판단\n",
    "    print(\"+ Train score :\", clf.score(sub_input, sub_target))\n",
    "    print(\"+ Valid score :\", clf.score(val_input, val_target))\n",
    "    # 교차검증\n",
    "    scores = cross_validate(clf, train_input, train_target)\n",
    "    # 교차검증 후의 정확도 판단\n",
    "    print(\"+ Test score :\", np.mean(scores['test_score']))\n",
    "    print(\"-\"*30)"
   ]
  },
  {
   "attachments": {},
   "cell_type": "markdown",
   "metadata": {},
   "source": [
    "----\n",
    "### 10번의 교차검증 실시"
   ]
  },
  {
   "cell_type": "code",
   "execution_count": 583,
   "metadata": {},
   "outputs": [],
   "source": [
    "# 함수: 10번의 교차 검증 실시 => 정확도를 보기 위해서\n",
    "from sklearn.model_selection import cross_val_score\n",
    "def cross_validation(classifier, features, labels):\n",
    "    cv_scores = []\n",
    "    for i in range(10):\n",
    "        score = cross_val_score(classifier, features, labels, cv=10, scoring='accuracy')\n",
    "        cv_scores.append(score.mean())\n",
    "    return cv_scores"
   ]
  },
  {
   "cell_type": "code",
   "execution_count": 584,
   "metadata": {},
   "outputs": [
    {
     "name": "stdout",
     "output_type": "stream",
     "text": [
      "[1.0, 1.0, 1.0, 1.0, 1.0, 1.0, 1.0, 1.0, 1.0, 1.0]\n",
      "[0.9727272727272727, 0.9727272727272727, 0.9727272727272727, 0.9727272727272727, 0.9727272727272727, 0.9727272727272727, 0.9727272727272727, 0.9727272727272727, 0.9727272727272727, 0.9727272727272727]\n",
      "[0.05454545454545454, 0.05454545454545454, 0.05454545454545454, 0.05454545454545454, 0.05454545454545454, 0.05454545454545454, 0.05454545454545454, 0.05454545454545454, 0.05454545454545454, 0.05454545454545454]\n",
      "[0.9809090909090911, 0.9618181818181819, 0.9436363636363637, 0.9618181818181819, 0.9527272727272728, 1.0, 0.9818181818181818, 0.99, 0.970909090909091, 0.9627272727272727]\n",
      "[1.0, 1.0, 1.0, 1.0, 1.0, 1.0, 1.0, 1.0, 1.0, 1.0]\n",
      "[0.970909090909091, 0.970909090909091, 0.9809090909090911, 0.9618181818181819, 0.9718181818181819, 0.9800000000000001, 0.9527272727272728, 0.9800000000000001, 0.9618181818181819, 0.970909090909091]\n",
      "[0.3936363636363637, 0.3154545454545455, 0.2963636363636363, 0.3845454545454546, 0.26636363636363636, 0.29727272727272724, 0.34454545454545454, 0.37363636363636366, 0.32272727272727275, 0.3854545454545454]\n",
      "[1.0, 1.0, 1.0, 1.0, 1.0, 1.0, 1.0, 1.0, 1.0, 1.0]\n",
      "[0.86, 0.86, 0.86, 0.86, 0.86, 0.86, 0.86, 0.86, 0.86, 0.86]\n"
     ]
    },
    {
     "data": {
      "text/plain": [
       "[0.86, 0.86, 0.86, 0.86, 0.86, 0.86, 0.86, 0.86, 0.86, 0.86]"
      ]
     },
     "execution_count": 584,
     "metadata": {},
     "output_type": "execute_result"
    }
   ],
   "source": [
    "# 각 Classifier 별 10번의 정확도 확인\n",
    "ml_list = [KNeighborsClassifier(n_neighbors=3), SVC(), GaussianProcessClassifier(), DecisionTreeClassifier(), RandomForestClassifier(), AdaBoostClassifier(), MLPClassifier(), GaussianNB(), QuadraticDiscriminantAnalysis()]\n",
    "scores_list = []\n",
    "for ml in ml_list:\n",
    "    ml_cv_scores = cross_validation(ml, train_input, train_target)\n",
    "    scores_list.append(ml_cv_scores)\n",
    "    print(ml_cv_scores)\n",
    "ml_cv_scores"
   ]
  },
  {
   "attachments": {},
   "cell_type": "markdown",
   "metadata": {},
   "source": [
    "### 정확도 시각화"
   ]
  },
  {
   "cell_type": "code",
   "execution_count": 585,
   "metadata": {},
   "outputs": [
    {
     "data": {
      "image/png": "[encoded data removed]",
      "text/plain": [
       "<Figure size 640x480 with 1 Axes>"
      ]
     },
     "metadata": {},
     "output_type": "display_data"
    }
   ],
   "source": [
    "# 정확도 시각화\n",
    "cv_list = {}\n",
    "for ml, scores in zip(ml_list, scores_list):\n",
    "    cv_list[ml] = scores\n",
    "cv_list\n",
    "df = pd.DataFrame(cv_list)\n",
    "df.plot()\n",
    "# plt.ylim(0.8,1.1)\n",
    "plt.legend(fontsize=8)\n",
    "plt.show()"
   ]
  },
  {
   "attachments": {},
   "cell_type": "markdown",
   "metadata": {},
   "source": [
    "> ### Classfication 정확도가 높으므로 Regression으로 시도해보자"
   ]
  },
  {
   "cell_type": "markdown",
   "metadata": {},
   "source": [
    "----\n",
    "----\n",
    "# Regression\n",
    "1. cluster_id : [0, 1, 2, 3] -> [0 ~ 1] 변환\n",
    "2. Regression 진행"
   ]
  },
  {
   "cell_type": "markdown",
   "metadata": {},
   "source": [
    "### cluster_id : [0, 1, 2, 3] -> [0 ~ 1] 변환"
   ]
  },
  {
   "cell_type": "code",
   "execution_count": 586,
   "metadata": {},
   "outputs": [
    {
     "data": {
      "text/plain": [
       "array([0.  , 0.33, 0.67, 1.  ])"
      ]
     },
     "execution_count": 586,
     "metadata": {},
     "output_type": "execute_result"
    }
   ],
   "source": [
    "df_km['cluster_id'] = df_km['cluster_id'] + 10\n",
    "df_km_temp = df_km.sort_values(by='전출인구', ascending=True)\n",
    "temp_list = df_km_temp['cluster_id'].unique()\n",
    "\n",
    "i = 3\n",
    "for temp in temp_list:\n",
    "    df_km['cluster_id'][df_km['cluster_id'] == temp] = i\n",
    "    i-=1\n",
    "df_km['cluster_id'] = np.round(df_km['cluster_id'] / 3, 2)\n",
    "df_km['cluster_id'].unique()"
   ]
  },
  {
   "cell_type": "code",
   "execution_count": 587,
   "metadata": {},
   "outputs": [
    {
     "data": {
      "image/png": "[encoded data removed]",
      "text/plain": [
       "<Figure size 600x600 with 3 Axes>"
      ]
     },
     "metadata": {},
     "output_type": "display_data"
    }
   ],
   "source": [
    "# 조인트 그래프 - 산점도 (기본값)\n",
    "j1 = sns.jointplot(\n",
    "    x=df_km['출생아수']/1000,\n",
    "    y=df_km['전출인구']/1000,\n",
    "    data=df_km,\n",
    "    hue=\"cluster_id\",\n",
    "    legend=True,\n",
    "    palette='rainbow',\n",
    "    s=200,\n",
    "    alpha=0.6,\n",
    "    # height=10, \n",
    ")\n",
    "plt.xlabel(\"출생아수(단위: 1000명)\")\n",
    "plt.ylabel(\"전출인구(단위: 1000명)\")\n",
    "\n",
    "j1.fig.suptitle('출생아수-전출인구 산포도', size=15)\n",
    "plt.legend(loc='right')\n",
    "plt.show()"
   ]
  },
  {
   "cell_type": "code",
   "execution_count": 588,
   "metadata": {},
   "outputs": [
    {
     "data": {
      "image/png": "[encoded data removed]",
      "text/plain": [
       "<Figure size 500x500 with 1 Axes>"
      ]
     },
     "metadata": {},
     "output_type": "display_data"
    }
   ],
   "source": [
    "sns.lmplot(x='출생아수', y='전출인구',\n",
    "            data=df_km/1000, fit_reg=False,\n",
    "            scatter_kws={'s':200},\n",
    "            hue=\"cluster_id\", legend=False\n",
    ")\n",
    "plt.xlabel(\"출생아수(단위: 1000명)\")\n",
    "plt.ylabel(\"전출인구(단위: 1000명)\")\n",
    "plt.legend(['0','0.33','0.67','1'], loc='right')\n",
    "plt.show()"
   ]
  },
  {
   "cell_type": "code",
   "execution_count": 589,
   "metadata": {},
   "outputs": [
    {
     "data": {
      "text/html": [
       "<div>\n",
       "<style scoped>\n",
       "    .dataframe tbody tr th:only-of-type {\n",
       "        vertical-align: middle;\n",
       "    }\n",
       "\n",
       "    .dataframe tbody tr th {\n",
       "        vertical-align: top;\n",
       "    }\n",
       "\n",
       "    .dataframe thead th {\n",
       "        text-align: right;\n",
       "    }\n",
       "</style>\n",
       "<table border=\"1\" class=\"dataframe\">\n",
       "  <thead>\n",
       "    <tr style=\"text-align: right;\">\n",
       "      <th></th>\n",
       "      <th>전출인구</th>\n",
       "      <th>출생아수</th>\n",
       "      <th>산부인과의원수</th>\n",
       "      <th>초등학생인원수</th>\n",
       "      <th>도매 및 소매업 신생</th>\n",
       "      <th>예금은행대출금액</th>\n",
       "      <th>예금액</th>\n",
       "      <th>cluster_id</th>\n",
       "    </tr>\n",
       "    <tr>\n",
       "      <th>시도</th>\n",
       "      <th></th>\n",
       "      <th></th>\n",
       "      <th></th>\n",
       "      <th></th>\n",
       "      <th></th>\n",
       "      <th></th>\n",
       "      <th></th>\n",
       "      <th></th>\n",
       "    </tr>\n",
       "  </thead>\n",
       "  <tbody>\n",
       "    <tr>\n",
       "      <th>경기도</th>\n",
       "      <td>1821303</td>\n",
       "      <td>112129</td>\n",
       "      <td>286</td>\n",
       "      <td>739619</td>\n",
       "      <td>49143</td>\n",
       "      <td>248468.3</td>\n",
       "      <td>13718.5</td>\n",
       "      <td>0.00</td>\n",
       "    </tr>\n",
       "    <tr>\n",
       "      <th>서울특별시</th>\n",
       "      <td>1620640</td>\n",
       "      <td>84066</td>\n",
       "      <td>395</td>\n",
       "      <td>469392</td>\n",
       "      <td>48097</td>\n",
       "      <td>462443.1</td>\n",
       "      <td>532689.2</td>\n",
       "      <td>0.33</td>\n",
       "    </tr>\n",
       "    <tr>\n",
       "      <th>경상남도</th>\n",
       "      <td>423864</td>\n",
       "      <td>29504</td>\n",
       "      <td>65</td>\n",
       "      <td>190166</td>\n",
       "      <td>12612</td>\n",
       "      <td>57288.6</td>\n",
       "      <td>6703.3</td>\n",
       "      <td>0.67</td>\n",
       "    </tr>\n",
       "    <tr>\n",
       "      <th>부산광역시</th>\n",
       "      <td>496161</td>\n",
       "      <td>25831</td>\n",
       "      <td>82</td>\n",
       "      <td>160821</td>\n",
       "      <td>13902</td>\n",
       "      <td>77411.6</td>\n",
       "      <td>59554.5</td>\n",
       "      <td>0.67</td>\n",
       "    </tr>\n",
       "    <tr>\n",
       "      <th>대구광역시</th>\n",
       "      <td>363224</td>\n",
       "      <td>19340</td>\n",
       "      <td>86</td>\n",
       "      <td>136309</td>\n",
       "      <td>9981</td>\n",
       "      <td>46578.5</td>\n",
       "      <td>37541.7</td>\n",
       "      <td>0.67</td>\n",
       "    </tr>\n",
       "    <tr>\n",
       "      <th>...</th>\n",
       "      <td>...</td>\n",
       "      <td>...</td>\n",
       "      <td>...</td>\n",
       "      <td>...</td>\n",
       "      <td>...</td>\n",
       "      <td>...</td>\n",
       "      <td>...</td>\n",
       "      <td>...</td>\n",
       "    </tr>\n",
       "    <tr>\n",
       "      <th>충청북도</th>\n",
       "      <td>226441</td>\n",
       "      <td>8607</td>\n",
       "      <td>40</td>\n",
       "      <td>85135</td>\n",
       "      <td>6103</td>\n",
       "      <td>28669.1</td>\n",
       "      <td>27669.5</td>\n",
       "      <td>1.00</td>\n",
       "    </tr>\n",
       "    <tr>\n",
       "      <th>대전광역시</th>\n",
       "      <td>243418</td>\n",
       "      <td>7481</td>\n",
       "      <td>44</td>\n",
       "      <td>79807</td>\n",
       "      <td>6405</td>\n",
       "      <td>39341.3</td>\n",
       "      <td>38725.4</td>\n",
       "      <td>1.00</td>\n",
       "    </tr>\n",
       "    <tr>\n",
       "      <th>강원도</th>\n",
       "      <td>217897</td>\n",
       "      <td>7835</td>\n",
       "      <td>32</td>\n",
       "      <td>73478</td>\n",
       "      <td>5554</td>\n",
       "      <td>22831.4</td>\n",
       "      <td>23634.2</td>\n",
       "      <td>1.00</td>\n",
       "    </tr>\n",
       "    <tr>\n",
       "      <th>제주특별자치도</th>\n",
       "      <td>94736</td>\n",
       "      <td>3989</td>\n",
       "      <td>23</td>\n",
       "      <td>40575</td>\n",
       "      <td>2856</td>\n",
       "      <td>20182.3</td>\n",
       "      <td>14025.4</td>\n",
       "      <td>1.00</td>\n",
       "    </tr>\n",
       "    <tr>\n",
       "      <th>세종특별자치시</th>\n",
       "      <td>65909</td>\n",
       "      <td>3468</td>\n",
       "      <td>7</td>\n",
       "      <td>29487</td>\n",
       "      <td>1361</td>\n",
       "      <td>9864.7</td>\n",
       "      <td>251734.3</td>\n",
       "      <td>1.00</td>\n",
       "    </tr>\n",
       "  </tbody>\n",
       "</table>\n",
       "<p>136 rows × 8 columns</p>\n",
       "</div>"
      ],
      "text/plain": [
       "            전출인구    출생아수  산부인과의원수  초등학생인원수  도매 및 소매업 신생  예금은행대출금액       예금액  \\\n",
       "시도                                                                            \n",
       "경기도      1821303  112129      286   739619        49143  248468.3   13718.5   \n",
       "서울특별시    1620640   84066      395   469392        48097  462443.1  532689.2   \n",
       "경상남도      423864   29504       65   190166        12612   57288.6    6703.3   \n",
       "부산광역시     496161   25831       82   160821        13902   77411.6   59554.5   \n",
       "대구광역시     363224   19340       86   136309         9981   46578.5   37541.7   \n",
       "...          ...     ...      ...      ...          ...       ...       ...   \n",
       "충청북도      226441    8607       40    85135         6103   28669.1   27669.5   \n",
       "대전광역시     243418    7481       44    79807         6405   39341.3   38725.4   \n",
       "강원도       217897    7835       32    73478         5554   22831.4   23634.2   \n",
       "제주특별자치도    94736    3989       23    40575         2856   20182.3   14025.4   \n",
       "세종특별자치시    65909    3468        7    29487         1361    9864.7  251734.3   \n",
       "\n",
       "         cluster_id  \n",
       "시도                   \n",
       "경기도            0.00  \n",
       "서울특별시          0.33  \n",
       "경상남도           0.67  \n",
       "부산광역시          0.67  \n",
       "대구광역시          0.67  \n",
       "...             ...  \n",
       "충청북도           1.00  \n",
       "대전광역시          1.00  \n",
       "강원도            1.00  \n",
       "제주특별자치도        1.00  \n",
       "세종특별자치시        1.00  \n",
       "\n",
       "[136 rows x 8 columns]"
      ]
     },
     "execution_count": 589,
     "metadata": {},
     "output_type": "execute_result"
    }
   ],
   "source": [
    "df_km"
   ]
  },
  {
   "cell_type": "code",
   "execution_count": 590,
   "metadata": {},
   "outputs": [],
   "source": [
    "# Feature, Target\n",
    "data = df_km[['전출인구', '출생아수', '산부인과의원수', '초등학생인원수', '도매 및 소매업 신생', '예금은행대출금액', '예금액']].to_numpy()\n",
    "target = df_km['cluster_id'].to_numpy()"
   ]
  },
  {
   "cell_type": "markdown",
   "metadata": {},
   "source": [
    "----\n",
    "### 검증 세트 추가\n",
    "- 훈련(60%), 검증(20%), 테스트(20%)"
   ]
  },
  {
   "cell_type": "code",
   "execution_count": 591,
   "metadata": {},
   "outputs": [],
   "source": [
    "from sklearn.model_selection import train_test_split\n",
    "train_input, test_input, train_target, test_target = \\\n",
    "    train_test_split(data, target, test_size=0.2) # random_state=42,  stratify=target"
   ]
  },
  {
   "cell_type": "code",
   "execution_count": 592,
   "metadata": {},
   "outputs": [],
   "source": [
    "sub_input, val_input, sub_target, val_target = \\\n",
    "    train_test_split(train_input, train_target, test_size=0.2) # random_state=42, stratify=train_target"
   ]
  },
  {
   "cell_type": "code",
   "execution_count": 593,
   "metadata": {},
   "outputs": [
    {
     "name": "stdout",
     "output_type": "stream",
     "text": [
      "Train : (86, 7)\n",
      "Valid : (22, 7)\n",
      "Test  : (28, 7)\n"
     ]
    }
   ],
   "source": [
    "# 세트 별 크기\n",
    "print(\"Train :\", sub_input.shape)\n",
    "print(\"Valid :\", val_input.shape)\n",
    "print(\"Test  :\", test_input.shape)"
   ]
  },
  {
   "cell_type": "markdown",
   "metadata": {},
   "source": [
    "----\n",
    "\n",
    "### 각 ML 별 Score 확인"
   ]
  },
  {
   "cell_type": "code",
   "execution_count": 594,
   "metadata": {},
   "outputs": [],
   "source": [
    "# # RandomForest\n",
    "# from sklearn.ensemble import RandomForestRegressor\n",
    "# rf = RandomForestRegressor()\n",
    "# rf.fit(sub_input, sub_target)\n",
    "# rf.score(test_input, test_target)"
   ]
  },
  {
   "cell_type": "code",
   "execution_count": 595,
   "metadata": {},
   "outputs": [
    {
     "name": "stdout",
     "output_type": "stream",
     "text": [
      "- ML Name : LinearRegression()\n",
      "+ Train score : 0.8669035386856737\n",
      "+ Valid score : 0.7884026334654834\n",
      "+ Test score : 0.8234250374368249\n",
      "+ Mean Absolute Error : 0.09973139776841491\n",
      "----------------------------------------\n",
      "- ML Name : DecisionTreeRegressor()\n",
      "+ Train score : 1.0\n",
      "+ Valid score : 0.8296120078089162\n",
      "+ Test score : 0.9730293819655522\n",
      "+ Mean Absolute Error : 7.137148015447435e-17\n",
      "----------------------------------------\n",
      "- ML Name : RandomForestRegressor()\n",
      "+ Train score : 0.9996161272665364\n",
      "+ Valid score : 0.9689000451608543\n",
      "+ Test score : 0.9957162362643072\n",
      "+ Mean Absolute Error : 0.010721428571428807\n",
      "----------------------------------------\n",
      "- ML Name : AdaBoostRegressor()\n",
      "+ Train score : 1.0\n",
      "+ Valid score : 0.7444180117133743\n",
      "+ Test score : 0.9786442402630551\n",
      "+ Mean Absolute Error : 0.02357142857142857\n",
      "----------------------------------------\n"
     ]
    }
   ],
   "source": [
    "# 각 ML별 import\n",
    "from sklearn.linear_model import LinearRegression\n",
    "from sklearn.neighbors import KNeighborsRegressor\n",
    "from sklearn.svm import SVC\n",
    "from sklearn.gaussian_process import GaussianProcessRegressor\n",
    "from sklearn.tree import DecisionTreeRegressor\n",
    "from sklearn.ensemble import RandomForestRegressor\n",
    "from sklearn.ensemble import AdaBoostRegressor\n",
    "from sklearn.neural_network import MLPRegressor\n",
    "from sklearn.naive_bayes import GaussianNB\n",
    "from sklearn.discriminant_analysis import QuadraticDiscriminantAnalysis\n",
    "# 교차검증 import\n",
    "from sklearn.model_selection import cross_validate\n",
    "# 평균 절대값 오차\n",
    "from sklearn.metrics import mean_absolute_error\n",
    "\n",
    "# ml_list = [KNeighborsRegressor(n_neighbors=3), SVC(), GaussianProcessRegressor(), DecisionTreeRegressor(), RandomForestRegressor(), AdaBoostRegressor(), MLPRegressor(), GaussianNB(), QuadraticDiscriminantAnalysis()]\n",
    "# ml_list = [GaussianProcessRegressor(), LinearRegression(), DecisionTreeRegressor(), RandomForestRegressor(), AdaBoostRegressor(), MLPRegressor()]\n",
    "ml_list = [LinearRegression(), DecisionTreeRegressor(), RandomForestRegressor(), AdaBoostRegressor()]\n",
    "for ml in ml_list:\n",
    "    print(\"- ML Name :\", ml)\n",
    "    reg = ml\n",
    "    # 학습\n",
    "    reg.fit(sub_input, sub_target)\n",
    "    # 정확도 판단\n",
    "    print(\"+ Train score :\", reg.score(sub_input, sub_target))\n",
    "    print(\"+ Valid score :\", reg.score(val_input, val_target))\n",
    "    # 교차검증\n",
    "    scores = cross_validate(reg, train_input, train_target)\n",
    "    # 교차검증 후의 정확도 판단\n",
    "    print(\"+ Test score :\", np.mean(scores['test_score']))\n",
    "    # 평균 절대값 오차\n",
    "    test_prediction = ml.predict(test_input)\n",
    "    mae = mean_absolute_error(test_target, test_prediction)\n",
    "    print(\"+ Mean Absolute Error :\", mae)\n",
    "    print(\"-\"*40)"
   ]
  },
  {
   "attachments": {},
   "cell_type": "markdown",
   "metadata": {},
   "source": [
    "----\n",
    "### 10번의 교차검증 실시"
   ]
  },
  {
   "cell_type": "code",
   "execution_count": 596,
   "metadata": {},
   "outputs": [],
   "source": [
    "# 함수: 10번의 교차 검증 실시 => 정확도를 보기 위해서\n",
    "from sklearn.model_selection import cross_validate\n",
    "def cross_validation(regressor, features, labels):\n",
    "    cv_scores = []\n",
    "    for i in range(10):\n",
    "        # score = cross_val_score(regressor, features, labels, cv=10, scoring='accuracy')\n",
    "        score = cross_val_score(regressor, features, labels, cv=10)\n",
    "        cv_scores.append(score.mean())\n",
    "    return cv_scores"
   ]
  },
  {
   "cell_type": "code",
   "execution_count": 597,
   "metadata": {},
   "outputs": [
    {
     "name": "stdout",
     "output_type": "stream",
     "text": [
      "- LinearRegression() : [0.7854076119133502, 0.7854076119133502, 0.7854076119133502, 0.7854076119133502, 0.7854076119133502, 0.7854076119133502, 0.7854076119133502, 0.7854076119133502, 0.7854076119133502, 0.7854076119133502]\n",
      "-------------\n",
      "- DecisionTreeRegressor() : [0.9485786879608759, 1.0, 0.9802633161777266, 0.9485786879608759, 0.9923989139311364, 0.9485786879608759, 1.0, 1.0, 0.9485786879608759, 0.9878644022465901]\n",
      "-------------\n",
      "- RandomForestRegressor() : [0.9960266221461691, 0.994175217239721, 0.9947405186570073, 0.9966114474730097, 0.9955389961756328, 0.9954238330848085, 0.9958677557895899, 0.9957427639965271, 0.9950464442975244, 0.9962278121883594]\n",
      "-------------\n",
      "- AdaBoostRegressor() : [0.9792607340720222, 0.9429523772117105, 0.9878644022465901, 0.9923989139311364, 1.0, 0.946782385051848, 1.0, 0.9493446957370649, 1.0, 0.9716596480031588]\n",
      "-------------\n"
     ]
    }
   ],
   "source": [
    "# 각 Regressor 별 10번의 정확도 확인\n",
    "ml_list = [LinearRegression(), DecisionTreeRegressor(), RandomForestRegressor(), AdaBoostRegressor()]\n",
    "scores_list = []\n",
    "for ml in ml_list:\n",
    "    ml_cv_scores = cross_validation(ml, train_input, train_target)\n",
    "    scores_list.append(ml_cv_scores)\n",
    "    print(\"-\",ml,':', ml_cv_scores)\n",
    "    print(\"-------------\")"
   ]
  },
  {
   "cell_type": "markdown",
   "metadata": {},
   "source": [
    "### 정확도 시각화"
   ]
  },
  {
   "cell_type": "code",
   "execution_count": 598,
   "metadata": {},
   "outputs": [
    {
     "data": {
      "image/png": "[encoded data removed]",
      "text/plain": [
       "<Figure size 640x480 with 1 Axes>"
      ]
     },
     "metadata": {},
     "output_type": "display_data"
    }
   ],
   "source": [
    "# 정확도 시각화\n",
    "cv_list = {}\n",
    "for ml, scores in zip(ml_list, scores_list):\n",
    "    cv_list[ml] = scores\n",
    "cv_list\n",
    "df_temp = pd.DataFrame(cv_list)\n",
    "df_temp.plot()\n",
    "plt.title('정확도 시각화')\n",
    "plt.ylim(0.2,1.05)\n",
    "plt.show()"
   ]
  },
  {
   "cell_type": "code",
   "execution_count": 599,
   "metadata": {},
   "outputs": [
    {
     "data": {
      "text/html": [
       "<div>\n",
       "<style scoped>\n",
       "    .dataframe tbody tr th:only-of-type {\n",
       "        vertical-align: middle;\n",
       "    }\n",
       "\n",
       "    .dataframe tbody tr th {\n",
       "        vertical-align: top;\n",
       "    }\n",
       "\n",
       "    .dataframe thead th {\n",
       "        text-align: right;\n",
       "    }\n",
       "</style>\n",
       "<table border=\"1\" class=\"dataframe\">\n",
       "  <thead>\n",
       "    <tr style=\"text-align: right;\">\n",
       "      <th></th>\n",
       "      <th>KNeighborsClassifier(n_neighbors=3)</th>\n",
       "      <th>SVC()</th>\n",
       "      <th>GaussianProcessClassifier()</th>\n",
       "      <th>DecisionTreeClassifier()</th>\n",
       "      <th>RandomForestClassifier()</th>\n",
       "      <th>AdaBoostClassifier()</th>\n",
       "      <th>MLPClassifier()</th>\n",
       "      <th>GaussianNB()</th>\n",
       "      <th>QuadraticDiscriminantAnalysis()</th>\n",
       "    </tr>\n",
       "  </thead>\n",
       "  <tbody>\n",
       "    <tr>\n",
       "      <th>0</th>\n",
       "      <td>1.0</td>\n",
       "      <td>0.972727</td>\n",
       "      <td>0.054545</td>\n",
       "      <td>0.980909</td>\n",
       "      <td>1.0</td>\n",
       "      <td>0.970909</td>\n",
       "      <td>0.393636</td>\n",
       "      <td>1.0</td>\n",
       "      <td>0.86</td>\n",
       "    </tr>\n",
       "    <tr>\n",
       "      <th>1</th>\n",
       "      <td>1.0</td>\n",
       "      <td>0.972727</td>\n",
       "      <td>0.054545</td>\n",
       "      <td>0.961818</td>\n",
       "      <td>1.0</td>\n",
       "      <td>0.970909</td>\n",
       "      <td>0.315455</td>\n",
       "      <td>1.0</td>\n",
       "      <td>0.86</td>\n",
       "    </tr>\n",
       "    <tr>\n",
       "      <th>2</th>\n",
       "      <td>1.0</td>\n",
       "      <td>0.972727</td>\n",
       "      <td>0.054545</td>\n",
       "      <td>0.943636</td>\n",
       "      <td>1.0</td>\n",
       "      <td>0.980909</td>\n",
       "      <td>0.296364</td>\n",
       "      <td>1.0</td>\n",
       "      <td>0.86</td>\n",
       "    </tr>\n",
       "    <tr>\n",
       "      <th>3</th>\n",
       "      <td>1.0</td>\n",
       "      <td>0.972727</td>\n",
       "      <td>0.054545</td>\n",
       "      <td>0.961818</td>\n",
       "      <td>1.0</td>\n",
       "      <td>0.961818</td>\n",
       "      <td>0.384545</td>\n",
       "      <td>1.0</td>\n",
       "      <td>0.86</td>\n",
       "    </tr>\n",
       "    <tr>\n",
       "      <th>4</th>\n",
       "      <td>1.0</td>\n",
       "      <td>0.972727</td>\n",
       "      <td>0.054545</td>\n",
       "      <td>0.952727</td>\n",
       "      <td>1.0</td>\n",
       "      <td>0.971818</td>\n",
       "      <td>0.266364</td>\n",
       "      <td>1.0</td>\n",
       "      <td>0.86</td>\n",
       "    </tr>\n",
       "    <tr>\n",
       "      <th>5</th>\n",
       "      <td>1.0</td>\n",
       "      <td>0.972727</td>\n",
       "      <td>0.054545</td>\n",
       "      <td>1.000000</td>\n",
       "      <td>1.0</td>\n",
       "      <td>0.980000</td>\n",
       "      <td>0.297273</td>\n",
       "      <td>1.0</td>\n",
       "      <td>0.86</td>\n",
       "    </tr>\n",
       "    <tr>\n",
       "      <th>6</th>\n",
       "      <td>1.0</td>\n",
       "      <td>0.972727</td>\n",
       "      <td>0.054545</td>\n",
       "      <td>0.981818</td>\n",
       "      <td>1.0</td>\n",
       "      <td>0.952727</td>\n",
       "      <td>0.344545</td>\n",
       "      <td>1.0</td>\n",
       "      <td>0.86</td>\n",
       "    </tr>\n",
       "    <tr>\n",
       "      <th>7</th>\n",
       "      <td>1.0</td>\n",
       "      <td>0.972727</td>\n",
       "      <td>0.054545</td>\n",
       "      <td>0.990000</td>\n",
       "      <td>1.0</td>\n",
       "      <td>0.980000</td>\n",
       "      <td>0.373636</td>\n",
       "      <td>1.0</td>\n",
       "      <td>0.86</td>\n",
       "    </tr>\n",
       "    <tr>\n",
       "      <th>8</th>\n",
       "      <td>1.0</td>\n",
       "      <td>0.972727</td>\n",
       "      <td>0.054545</td>\n",
       "      <td>0.970909</td>\n",
       "      <td>1.0</td>\n",
       "      <td>0.961818</td>\n",
       "      <td>0.322727</td>\n",
       "      <td>1.0</td>\n",
       "      <td>0.86</td>\n",
       "    </tr>\n",
       "    <tr>\n",
       "      <th>9</th>\n",
       "      <td>1.0</td>\n",
       "      <td>0.972727</td>\n",
       "      <td>0.054545</td>\n",
       "      <td>0.962727</td>\n",
       "      <td>1.0</td>\n",
       "      <td>0.970909</td>\n",
       "      <td>0.385455</td>\n",
       "      <td>1.0</td>\n",
       "      <td>0.86</td>\n",
       "    </tr>\n",
       "  </tbody>\n",
       "</table>\n",
       "</div>"
      ],
      "text/plain": [
       "   KNeighborsClassifier(n_neighbors=3)     SVC()  GaussianProcessClassifier()  \\\n",
       "0                                  1.0  0.972727                     0.054545   \n",
       "1                                  1.0  0.972727                     0.054545   \n",
       "2                                  1.0  0.972727                     0.054545   \n",
       "3                                  1.0  0.972727                     0.054545   \n",
       "4                                  1.0  0.972727                     0.054545   \n",
       "5                                  1.0  0.972727                     0.054545   \n",
       "6                                  1.0  0.972727                     0.054545   \n",
       "7                                  1.0  0.972727                     0.054545   \n",
       "8                                  1.0  0.972727                     0.054545   \n",
       "9                                  1.0  0.972727                     0.054545   \n",
       "\n",
       "   DecisionTreeClassifier()  RandomForestClassifier()  AdaBoostClassifier()  \\\n",
       "0                  0.980909                       1.0              0.970909   \n",
       "1                  0.961818                       1.0              0.970909   \n",
       "2                  0.943636                       1.0              0.980909   \n",
       "3                  0.961818                       1.0              0.961818   \n",
       "4                  0.952727                       1.0              0.971818   \n",
       "5                  1.000000                       1.0              0.980000   \n",
       "6                  0.981818                       1.0              0.952727   \n",
       "7                  0.990000                       1.0              0.980000   \n",
       "8                  0.970909                       1.0              0.961818   \n",
       "9                  0.962727                       1.0              0.970909   \n",
       "\n",
       "   MLPClassifier()  GaussianNB()  QuadraticDiscriminantAnalysis()  \n",
       "0         0.393636           1.0                             0.86  \n",
       "1         0.315455           1.0                             0.86  \n",
       "2         0.296364           1.0                             0.86  \n",
       "3         0.384545           1.0                             0.86  \n",
       "4         0.266364           1.0                             0.86  \n",
       "5         0.297273           1.0                             0.86  \n",
       "6         0.344545           1.0                             0.86  \n",
       "7         0.373636           1.0                             0.86  \n",
       "8         0.322727           1.0                             0.86  \n",
       "9         0.385455           1.0                             0.86  "
      ]
     },
     "execution_count": 599,
     "metadata": {},
     "output_type": "execute_result"
    }
   ],
   "source": [
    "df"
   ]
  },
  {
   "attachments": {},
   "cell_type": "markdown",
   "metadata": {},
   "source": [
    "----\n",
    "## 검증세트 대신 K-Fold로 확인하기"
   ]
  },
  {
   "cell_type": "code",
   "execution_count": null,
   "metadata": {},
   "outputs": [],
   "source": []
  },
  {
   "attachments": {},
   "cell_type": "markdown",
   "metadata": {},
   "source": [
    "----\n",
    "### 컬럼선택하여 돌려보기"
   ]
  },
  {
   "cell_type": "code",
   "execution_count": 600,
   "metadata": {},
   "outputs": [],
   "source": [
    "# df_km.head()"
   ]
  },
  {
   "cell_type": "code",
   "execution_count": 601,
   "metadata": {},
   "outputs": [],
   "source": [
    "# # Feature, Target -- '전출인구', '출생아수', '산부인과의원수', '초등학생인원수', '도매 및 소매업 신생', '예금은행대출금액', '예금액'\n",
    "# data = df_km[['전출인구']].to_numpy()\n",
    "# target = df_km['cluster_id'].to_numpy()\n",
    "\n",
    "# train_input, test_input, train_target, test_target = \\\n",
    "#     train_test_split(data, target, test_size=0.2) # random_state=42,  stratify=target\n",
    "# sub_input, val_input, sub_target, val_target = \\\n",
    "#     train_test_split(train_input, train_target, test_size=0.2, stratify=train_target) # random_state=42\n",
    "\n",
    "# # 세트 별 크기\n",
    "# print(\"Train :\", sub_input.shape)\n",
    "# print(\"Valid :\", val_input.shape)\n",
    "# print(\"Test  :\", test_input.shape)"
   ]
  },
  {
   "cell_type": "code",
   "execution_count": 602,
   "metadata": {},
   "outputs": [],
   "source": [
    "# np.min(sub_input), np.max(sub_input)"
   ]
  },
  {
   "cell_type": "code",
   "execution_count": 603,
   "metadata": {},
   "outputs": [],
   "source": [
    "# # RandomForest\n",
    "# from sklearn.ensemble import RandomForestRegressor\n",
    "# rf = RandomForestRegressor()\n",
    "# rf.fit(sub_input, sub_target)\n",
    "# rf.score(test_input, test_target)"
   ]
  },
  {
   "cell_type": "code",
   "execution_count": 604,
   "metadata": {},
   "outputs": [],
   "source": [
    "# rf.predict([[484199]])"
   ]
  },
  {
   "attachments": {},
   "cell_type": "markdown",
   "metadata": {},
   "source": [
    "----\n",
    "## 표준화 작업"
   ]
  },
  {
   "cell_type": "code",
   "execution_count": 605,
   "metadata": {},
   "outputs": [
    {
     "data": {
      "text/html": [
       "<div>\n",
       "<style scoped>\n",
       "    .dataframe tbody tr th:only-of-type {\n",
       "        vertical-align: middle;\n",
       "    }\n",
       "\n",
       "    .dataframe tbody tr th {\n",
       "        vertical-align: top;\n",
       "    }\n",
       "\n",
       "    .dataframe thead th {\n",
       "        text-align: right;\n",
       "    }\n",
       "</style>\n",
       "<table border=\"1\" class=\"dataframe\">\n",
       "  <thead>\n",
       "    <tr style=\"text-align: right;\">\n",
       "      <th></th>\n",
       "      <th>전출인구</th>\n",
       "      <th>출생아수</th>\n",
       "      <th>산부인과의원수</th>\n",
       "      <th>초등학생인원수</th>\n",
       "      <th>도매 및 소매업 신생</th>\n",
       "      <th>예금은행대출금액</th>\n",
       "      <th>예금액</th>\n",
       "      <th>cluster_id</th>\n",
       "    </tr>\n",
       "    <tr>\n",
       "      <th>시도</th>\n",
       "      <th></th>\n",
       "      <th></th>\n",
       "      <th></th>\n",
       "      <th></th>\n",
       "      <th></th>\n",
       "      <th></th>\n",
       "      <th></th>\n",
       "      <th></th>\n",
       "    </tr>\n",
       "  </thead>\n",
       "  <tbody>\n",
       "    <tr>\n",
       "      <th>경기도</th>\n",
       "      <td>1821303</td>\n",
       "      <td>112129</td>\n",
       "      <td>286</td>\n",
       "      <td>739619</td>\n",
       "      <td>49143</td>\n",
       "      <td>248468.3</td>\n",
       "      <td>13718.5</td>\n",
       "      <td>0.00</td>\n",
       "    </tr>\n",
       "    <tr>\n",
       "      <th>서울특별시</th>\n",
       "      <td>1620640</td>\n",
       "      <td>84066</td>\n",
       "      <td>395</td>\n",
       "      <td>469392</td>\n",
       "      <td>48097</td>\n",
       "      <td>462443.1</td>\n",
       "      <td>532689.2</td>\n",
       "      <td>0.33</td>\n",
       "    </tr>\n",
       "    <tr>\n",
       "      <th>경상남도</th>\n",
       "      <td>423864</td>\n",
       "      <td>29504</td>\n",
       "      <td>65</td>\n",
       "      <td>190166</td>\n",
       "      <td>12612</td>\n",
       "      <td>57288.6</td>\n",
       "      <td>6703.3</td>\n",
       "      <td>0.67</td>\n",
       "    </tr>\n",
       "    <tr>\n",
       "      <th>부산광역시</th>\n",
       "      <td>496161</td>\n",
       "      <td>25831</td>\n",
       "      <td>82</td>\n",
       "      <td>160821</td>\n",
       "      <td>13902</td>\n",
       "      <td>77411.6</td>\n",
       "      <td>59554.5</td>\n",
       "      <td>0.67</td>\n",
       "    </tr>\n",
       "    <tr>\n",
       "      <th>대구광역시</th>\n",
       "      <td>363224</td>\n",
       "      <td>19340</td>\n",
       "      <td>86</td>\n",
       "      <td>136309</td>\n",
       "      <td>9981</td>\n",
       "      <td>46578.5</td>\n",
       "      <td>37541.7</td>\n",
       "      <td>0.67</td>\n",
       "    </tr>\n",
       "  </tbody>\n",
       "</table>\n",
       "</div>"
      ],
      "text/plain": [
       "          전출인구    출생아수  산부인과의원수  초등학생인원수  도매 및 소매업 신생  예금은행대출금액       예금액  \\\n",
       "시도                                                                          \n",
       "경기도    1821303  112129      286   739619        49143  248468.3   13718.5   \n",
       "서울특별시  1620640   84066      395   469392        48097  462443.1  532689.2   \n",
       "경상남도    423864   29504       65   190166        12612   57288.6    6703.3   \n",
       "부산광역시   496161   25831       82   160821        13902   77411.6   59554.5   \n",
       "대구광역시   363224   19340       86   136309         9981   46578.5   37541.7   \n",
       "\n",
       "       cluster_id  \n",
       "시도                 \n",
       "경기도          0.00  \n",
       "서울특별시        0.33  \n",
       "경상남도         0.67  \n",
       "부산광역시        0.67  \n",
       "대구광역시        0.67  "
      ]
     },
     "execution_count": 605,
     "metadata": {},
     "output_type": "execute_result"
    }
   ],
   "source": [
    "df_km.head()"
   ]
  },
  {
   "cell_type": "code",
   "execution_count": 606,
   "metadata": {},
   "outputs": [
    {
     "data": {
      "text/plain": [
       "array([[0.91727346, 0.98784524, 0.72264631, 0.96049978, 0.77675027,\n",
       "        0.33995758],\n",
       "       [0.815367  , 0.73813888, 1.        , 0.60617528, 0.76007271,\n",
       "        0.6356111 ],\n",
       "       [0.20758574, 0.25264272, 0.16030534, 0.24005119, 0.19429519,\n",
       "        0.07580053],\n",
       "       [0.24430168, 0.21996014, 0.20356234, 0.20157371, 0.21486312,\n",
       "        0.10360491],\n",
       "       [0.17678979, 0.1622028 , 0.21374046, 0.16943332, 0.15234618,\n",
       "        0.06100216],\n",
       "       [0.21556607, 0.21754876, 0.17048346, 0.19776727, 0.17691609,\n",
       "        0.08283308],\n",
       "       [0.1245682 , 0.11962557, 0.12722646, 0.12855764, 0.10378035,\n",
       "        0.02786724],\n",
       "       [0.16041623, 0.18770466, 0.13994911, 0.1680277 , 0.13872989,\n",
       "        0.03595681],\n",
       "       [0.10877055, 0.10337771, 0.10941476, 0.11665185, 0.09432548,\n",
       "        0.02853766],\n",
       "       [0.12845731, 0.15586738, 0.11450382, 0.14308717, 0.11537174,\n",
       "        0.03318383],\n",
       "       [0.1175802 , 0.12715333, 0.05597964, 0.12078347, 0.0945487 ,\n",
       "        0.01870726],\n",
       "       [0.07215313, 0.09092931, 0.07379135, 0.07875918, 0.05220109,\n",
       "        0.02367027],\n",
       "       [0.10042761, 0.11164401, 0.11959288, 0.10721769, 0.09182225,\n",
       "        0.02042543],\n",
       "       [0.10940993, 0.11556805, 0.12722646, 0.11316796, 0.10067125,\n",
       "        0.02961125],\n",
       "       [0.10147936, 0.08781499, 0.08142494, 0.09977919, 0.07858863,\n",
       "        0.01496515],\n",
       "       [0.03347689, 0.03752313, 0.04834606, 0.04083765, 0.0351887 ,\n",
       "        0.00676477],\n",
       "       [0.        , 0.        , 0.        , 0.        , 0.        ,\n",
       "        0.        ],\n",
       "       [0.92391409, 0.98820117, 0.69974555, 0.95091221, 0.81689759,\n",
       "        0.36762834],\n",
       "       [0.83607961, 0.73498007, 0.99236641, 0.59060465, 0.79396993,\n",
       "        0.67982452],\n",
       "       [0.22398925, 0.25494732, 0.15776081, 0.23586449, 0.19651142,\n",
       "        0.08325174],\n",
       "       [0.24665861, 0.22315454, 0.19083969, 0.19492981, 0.22549786,\n",
       "        0.11318604],\n",
       "       [0.17806703, 0.16238966, 0.21119593, 0.16347518, 0.16451155,\n",
       "        0.07017057],\n",
       "       [0.21729022, 0.21955972, 0.1653944 , 0.19622266, 0.18354884,\n",
       "        0.08834159],\n",
       "       [0.13295025, 0.1167426 , 0.13231552, 0.12426343, 0.11350627,\n",
       "        0.03066979],\n",
       "       [0.16399454, 0.18642333, 0.13486005, 0.16287465, 0.14831231,\n",
       "        0.04036505],\n",
       "       [0.11727956, 0.10337771, 0.1043257 , 0.11285983, 0.10132496,\n",
       "        0.03088575],\n",
       "       [0.13443164, 0.15205901, 0.11195929, 0.14156616, 0.1207768 ,\n",
       "        0.03733687],\n",
       "       [0.12481146, 0.12195686, 0.05343511, 0.11621259, 0.10161195,\n",
       "        0.02035952],\n",
       "       [0.08030105, 0.09294028, 0.07379135, 0.07699429, 0.05730321,\n",
       "        0.02701555],\n",
       "       [0.10079174, 0.10904577, 0.11450382, 0.10413372, 0.09746648,\n",
       "        0.02300248],\n",
       "       [0.11847503, 0.11434902, 0.1221374 , 0.1108091 , 0.10617197,\n",
       "        0.03229856],\n",
       "       [0.10724497, 0.08498541, 0.07633588, 0.0962009 , 0.07981632,\n",
       "        0.01624296],\n",
       "       [0.03366377, 0.03928495, 0.04580153, 0.04041807, 0.0343596 ,\n",
       "        0.00812894],\n",
       "       [0.00404298, 0.00207325, 0.00254453, 0.00126794, 0.00361932,\n",
       "        0.00152805],\n",
       "       [0.95638239, 1.        , 0.68956743, 0.9522916 , 0.77901433,\n",
       "        0.38973879],\n",
       "       [0.86922284, 0.72869804, 0.98473282, 0.58163335, 0.70430013,\n",
       "        0.72277837],\n",
       "       [0.22100056, 0.25293636, 0.16284987, 0.23599824, 0.18169933,\n",
       "        0.09145668],\n",
       "       [0.25670843, 0.22720316, 0.18320611, 0.19300102, 0.20260208,\n",
       "        0.12391331],\n",
       "       [0.17736873, 0.16307481, 0.21119593, 0.16061412, 0.14729189,\n",
       "        0.08181683],\n",
       "       [0.22780878, 0.21693479, 0.16030534, 0.19669339, 0.17487524,\n",
       "        0.09206395],\n",
       "       [0.12673519, 0.11546128, 0.12977099, 0.12216549, 0.1077345 ,\n",
       "        0.03290334],\n",
       "       [0.16769066, 0.18863005, 0.13486005, 0.16082391, 0.14746727,\n",
       "        0.04580834],\n",
       "       [0.11110005, 0.10081506, 0.09923664, 0.11115394, 0.09432548,\n",
       "        0.03569055],\n",
       "       [0.13436207, 0.15565383, 0.11195929, 0.14212736, 0.11712559,\n",
       "        0.04121108],\n",
       "       [0.11734304, 0.12412799, 0.05089059, 0.11443984, 0.10193083,\n",
       "        0.02319578],\n",
       "       [0.07890142, 0.09450634, 0.07633588, 0.07741912, 0.05242431,\n",
       "        0.02988497],\n",
       "       [0.10059418, 0.11079869, 0.11450382, 0.10253667, 0.08797972,\n",
       "        0.02572143],\n",
       "       [0.11491654, 0.11267618, 0.11450382, 0.10800966, 0.09091344,\n",
       "        0.03509696],\n",
       "       [0.10524811, 0.08736119, 0.07888041, 0.09352078, 0.08201661,\n",
       "        0.01801184],\n",
       "       [0.0346424 , 0.03994341, 0.04580153, 0.04074456, 0.03348268,\n",
       "        0.01072478],\n",
       "       [0.00804483, 0.01421021, 0.00508906, 0.00821211, 0.00456002,\n",
       "        0.00384934],\n",
       "       [0.91913879, 0.9301324 , 0.67938931, 0.94445187, 0.83006744,\n",
       "        0.41906402],\n",
       "       [0.83325292, 0.6622384 , 0.9821883 , 0.56254999, 0.7106459 ,\n",
       "        0.74911812],\n",
       "       [0.20063633, 0.23158991, 0.15776081, 0.23370362, 0.18558969,\n",
       "        0.0965877 ],\n",
       "       [0.23630103, 0.21172943, 0.17302799, 0.18896774, 0.21141919,\n",
       "        0.1336036 ],\n",
       "       [0.16371979, 0.15293102, 0.21628499, 0.15531421, 0.15343038,\n",
       "        0.08917311],\n",
       "       [0.21368246, 0.20018864, 0.16030534, 0.19471477, 0.1862434 ,\n",
       "        0.09862132],\n",
       "       [0.12061308, 0.10310187, 0.12722646, 0.11906448, 0.1085317 ,\n",
       "        0.03440624],\n",
       "       [0.15423063, 0.17355673, 0.13740458, 0.15830901, 0.14850364,\n",
       "        0.04818186],\n",
       "       [0.10459908, 0.09315383, 0.09414758, 0.10752582, 0.09250785,\n",
       "        0.0385847 ],\n",
       "       [0.13018044, 0.14406855, 0.11195929, 0.1418979 , 0.12005931,\n",
       "        0.04338563],\n",
       "       [0.11285822, 0.11450918, 0.05089059, 0.11262119, 0.10808527,\n",
       "        0.02436099],\n",
       "       [0.07145585, 0.08719213, 0.07633588, 0.07675696, 0.05400277,\n",
       "        0.03168991],\n",
       "       [0.09271237, 0.10349338, 0.11450382, 0.10091339, 0.09054672,\n",
       "        0.02713825],\n",
       "       [0.10907272, 0.10077057, 0.11450382, 0.10338764, 0.09534591,\n",
       "        0.0375299 ],\n",
       "       [0.10486214, 0.07961098, 0.06870229, 0.09136778, 0.08298921,\n",
       "        0.01932517],\n",
       "       [0.03914702, 0.03900021, 0.04834606, 0.04088617, 0.03922256,\n",
       "        0.01398178],\n",
       "       [0.01022147, 0.01945117, 0.00508906, 0.0141873 , 0.00656898,\n",
       "        0.00596696],\n",
       "       [0.89231726, 0.82731528, 0.67938931, 0.95305473, 0.8319648 ,\n",
       "        0.44729521],\n",
       "       [0.7903722 , 0.57194974, 0.9821883 , 0.55233828, 0.70390153,\n",
       "        0.78379365],\n",
       "       [0.20013864, 0.20232417, 0.15776081, 0.23540033, 0.19207896,\n",
       "        0.09957471],\n",
       "       [0.2297315 , 0.18124466, 0.16030534, 0.18851668, 0.21483123,\n",
       "        0.14423788],\n",
       "       [0.16150049, 0.13200278, 0.21374046, 0.15422197, 0.15625249,\n",
       "        0.09487824],\n",
       "       [0.20112133, 0.17203517, 0.15267176, 0.19586864, 0.1775698 ,\n",
       "        0.10738489],\n",
       "       [0.11383126, 0.09108948, 0.1221374 , 0.11839314, 0.10655463,\n",
       "        0.03577815],\n",
       "       [0.15313317, 0.14989678, 0.13486005, 0.15806906, 0.15186786,\n",
       "        0.0508425 ],\n",
       "       [0.10215226, 0.08016266, 0.09160305, 0.10633787, 0.09008434,\n",
       "        0.03953021],\n",
       "       [0.12910939, 0.12954691, 0.1043257 , 0.14406664, 0.12379024,\n",
       "        0.04538927],\n",
       "       [0.10941196, 0.10004093, 0.04834606, 0.11295161, 0.10972751,\n",
       "        0.02567404],\n",
       "       [0.0670396 , 0.07358699, 0.07633588, 0.0772644 , 0.05700027,\n",
       "        0.03387994],\n",
       "       [0.09131426, 0.09149879, 0.10941476, 0.1011599 , 0.09057861,\n",
       "        0.0286703 ],\n",
       "       [0.10792549, 0.08666714, 0.11195929, 0.1011599 , 0.09295429,\n",
       "        0.03954707],\n",
       "       [0.09878116, 0.06982311, 0.07124682, 0.08999101, 0.08392991,\n",
       "        0.02094482],\n",
       "       [0.03855233, 0.0349338 , 0.04834606, 0.04171092, 0.03834564,\n",
       "        0.01696588],\n",
       "       [0.01639031, 0.02129307, 0.00508906, 0.01792949, 0.0089606 ,\n",
       "        0.00712512],\n",
       "       [0.9428274 , 0.77470103, 0.67684478, 0.97738817, 0.78027392,\n",
       "        0.48101101],\n",
       "       [0.77946056, 0.50686041, 0.99745547, 0.54770577, 0.65986384,\n",
       "        0.83588634],\n",
       "       [0.1931933 , 0.17896676, 0.14503817, 0.24116572, 0.16864108,\n",
       "        0.10238209],\n",
       "       [0.21722979, 0.16052997, 0.16030534, 0.19102371, 0.19206301,\n",
       "        0.15363027],\n",
       "       [0.1626594 , 0.11824637, 0.21628499, 0.15481463, 0.13681659,\n",
       "        0.09952939],\n",
       "       [0.21258399, 0.16884966, 0.14503817, 0.19901685, 0.17214879,\n",
       "        0.11500287],\n",
       "       [0.12289332, 0.07910379, 0.1221374 , 0.11868554, 0.09668522,\n",
       "        0.03686225],\n",
       "       [0.1541636 , 0.13318622, 0.13231552, 0.16022993, 0.12980118,\n",
       "        0.05321119],\n",
       "       [0.10664774, 0.07113112, 0.08905852, 0.10690562, 0.08332403,\n",
       "        0.04289747],\n",
       "       [0.13565251, 0.11806841, 0.10178117, 0.14824809, 0.11023773,\n",
       "        0.04670701],\n",
       "       [0.11035808, 0.09011069, 0.043257  , 0.11413301, 0.09137582,\n",
       "        0.02735767],\n",
       "       [0.06371827, 0.06262457, 0.07633588, 0.07893488, 0.04886876,\n",
       "        0.03480777],\n",
       "       [0.10087299, 0.08430915, 0.09923664, 0.10260747, 0.0805657 ,\n",
       "        0.03122635],\n",
       "       [0.10792955, 0.07319547, 0.10941476, 0.10012797, 0.08372264,\n",
       "        0.04258865],\n",
       "       [0.10418163, 0.06442198, 0.07379135, 0.08958453, 0.07079195,\n",
       "        0.0231734 ],\n",
       "       [0.04074979, 0.03265589, 0.05089059, 0.04327782, 0.0369585 ,\n",
       "        0.01962694],\n",
       "       [0.0202586 , 0.02306378, 0.01017812, 0.02330677, 0.00854605,\n",
       "        0.00818324],\n",
       "       [0.90965217, 0.73041536, 0.66666667, 1.        , 0.83346354,\n",
       "        0.51681237],\n",
       "       [0.74195288, 0.46770003, 0.98982188, 0.54441857, 0.67716322,\n",
       "        0.88320311],\n",
       "       [0.19829058, 0.16140198, 0.14249364, 0.24587296, 0.17506657,\n",
       "        0.10474303],\n",
       "       [0.2132706 , 0.14181734, 0.1653944 , 0.19471346, 0.20955372,\n",
       "        0.16262596],\n",
       "       [0.16301083, 0.10786233, 0.2264631 , 0.15607602, 0.14805721,\n",
       "        0.1072673 ],\n",
       "       [0.20681736, 0.15492419, 0.14503817, 0.20161567, 0.1817631 ,\n",
       "        0.12398019],\n",
       "       [0.11498408, 0.06993878, 0.1221374 , 0.11884944, 0.10395574,\n",
       "        0.03876999],\n",
       "       [0.15030953, 0.11888703, 0.13231552, 0.1629625 , 0.1392401 ,\n",
       "        0.05622196],\n",
       "       [0.10456404, 0.06453766, 0.08396947, 0.10738815, 0.08209633,\n",
       "        0.04761342],\n",
       "       [0.12415634, 0.10781784, 0.10178117, 0.15122716, 0.11718937,\n",
       "        0.04826601],\n",
       "       [0.11079331, 0.08649808, 0.043257  , 0.11520558, 0.10156412,\n",
       "        0.02950873],\n",
       "       [0.06963572, 0.05719675, 0.07888041, 0.08053718, 0.04878904,\n",
       "        0.03601595],\n",
       "       [0.09838149, 0.07315988, 0.09669211, 0.10439728, 0.08756517,\n",
       "        0.03312096],\n",
       "       [0.10850545, 0.06494697, 0.11195929, 0.09919701, 0.08620992,\n",
       "        0.04544343],\n",
       "       [0.10200448, 0.06381691, 0.07633588, 0.08985333, 0.07672316,\n",
       "        0.02564792],\n",
       "       [0.03906424, 0.03015554, 0.05343511, 0.04455231, 0.03718172,\n",
       "        0.02190304],\n",
       "       [0.02212443, 0.02409596, 0.01272265, 0.0272758 , 0.01042746,\n",
       "        0.0088082 ],\n",
       "       [1.        , 0.68182304, 0.6692112 , 0.98949327, 1.        ,\n",
       "        0.57673416],\n",
       "       [0.82671082, 0.41228289, 0.97455471, 0.52769146, 0.7837338 ,\n",
       "        1.        ],\n",
       "       [0.20562189, 0.13980638, 0.14503817, 0.24094675, 0.18708844,\n",
       "        0.1112403 ],\n",
       "       [0.24938779, 0.1241013 , 0.1653944 , 0.19200974, 0.22366428,\n",
       "        0.17929408],\n",
       "       [0.17722603, 0.08971028, 0.21628499, 0.15144089, 0.14635119,\n",
       "        0.11925802],\n",
       "       [0.22609175, 0.13283919, 0.1475827 , 0.19646917, 0.20389356,\n",
       "        0.13768769],\n",
       "       [0.12313708, 0.06276694, 0.11704835, 0.11482402, 0.10406735,\n",
       "        0.04242285],\n",
       "       [0.16229324, 0.10465903, 0.12977099, 0.15995327, 0.14421467,\n",
       "        0.06184639],\n",
       "       [0.11027277, 0.05523028, 0.08651399, 0.10401702, 0.08584321,\n",
       "        0.05489882],\n",
       "       [0.1377677 , 0.09644611, 0.1043257 , 0.14819958, 0.127282  ,\n",
       "        0.05342826],\n",
       "       [0.11866446, 0.0767636 , 0.04071247, 0.11186593, 0.10398763,\n",
       "        0.03368291],\n",
       "       [0.06834985, 0.04899274, 0.08142494, 0.07907518, 0.05306207,\n",
       "        0.03878367],\n",
       "       [0.1073247 , 0.06669989, 0.09669211, 0.10233343, 0.09051484,\n",
       "        0.03625636],\n",
       "       [0.11594645, 0.05668067, 0.10687023, 0.0953473 , 0.09532996,\n",
       "        0.05100237],\n",
       "       [0.10298564, 0.05983058, 0.07633588, 0.08704865, 0.08176151,\n",
       "        0.02819029],\n",
       "       [0.04043848, 0.02560863, 0.05343511, 0.04390589, 0.03874424,\n",
       "        0.02452997],\n",
       "       [0.02579872, 0.02097274, 0.01272265, 0.02936718, 0.01490776,\n",
       "        0.01027393]])"
      ]
     },
     "execution_count": 606,
     "metadata": {},
     "output_type": "execute_result"
    }
   ],
   "source": [
    "# 최대값과 최소값 가져오기\n",
    "min_max_scaler = preprocessing.MinMaxScaler()\n",
    "\n",
    "col = df_km.columns[:6]\n",
    "x = df_km[col].values\n",
    "x_scaled = min_max_scaler.fit_transform(x.astype(float))\n",
    "x_scaled"
   ]
  },
  {
   "cell_type": "code",
   "execution_count": 607,
   "metadata": {},
   "outputs": [
    {
     "data": {
      "text/html": [
       "<div>\n",
       "<style scoped>\n",
       "    .dataframe tbody tr th:only-of-type {\n",
       "        vertical-align: middle;\n",
       "    }\n",
       "\n",
       "    .dataframe tbody tr th {\n",
       "        vertical-align: top;\n",
       "    }\n",
       "\n",
       "    .dataframe thead th {\n",
       "        text-align: right;\n",
       "    }\n",
       "</style>\n",
       "<table border=\"1\" class=\"dataframe\">\n",
       "  <thead>\n",
       "    <tr style=\"text-align: right;\">\n",
       "      <th></th>\n",
       "      <th>전출인구</th>\n",
       "      <th>출생아수</th>\n",
       "      <th>산부인과의원수</th>\n",
       "      <th>초등학생인원수</th>\n",
       "      <th>도매 및 소매업 신생</th>\n",
       "      <th>예금은행대출금액</th>\n",
       "    </tr>\n",
       "    <tr>\n",
       "      <th>시도</th>\n",
       "      <th></th>\n",
       "      <th></th>\n",
       "      <th></th>\n",
       "      <th></th>\n",
       "      <th></th>\n",
       "      <th></th>\n",
       "    </tr>\n",
       "  </thead>\n",
       "  <tbody>\n",
       "    <tr>\n",
       "      <th>경기도</th>\n",
       "      <td>0.917273</td>\n",
       "      <td>0.987845</td>\n",
       "      <td>0.722646</td>\n",
       "      <td>0.960500</td>\n",
       "      <td>0.776750</td>\n",
       "      <td>0.339958</td>\n",
       "    </tr>\n",
       "    <tr>\n",
       "      <th>서울특별시</th>\n",
       "      <td>0.815367</td>\n",
       "      <td>0.738139</td>\n",
       "      <td>1.000000</td>\n",
       "      <td>0.606175</td>\n",
       "      <td>0.760073</td>\n",
       "      <td>0.635611</td>\n",
       "    </tr>\n",
       "    <tr>\n",
       "      <th>경상남도</th>\n",
       "      <td>0.207586</td>\n",
       "      <td>0.252643</td>\n",
       "      <td>0.160305</td>\n",
       "      <td>0.240051</td>\n",
       "      <td>0.194295</td>\n",
       "      <td>0.075801</td>\n",
       "    </tr>\n",
       "    <tr>\n",
       "      <th>부산광역시</th>\n",
       "      <td>0.244302</td>\n",
       "      <td>0.219960</td>\n",
       "      <td>0.203562</td>\n",
       "      <td>0.201574</td>\n",
       "      <td>0.214863</td>\n",
       "      <td>0.103605</td>\n",
       "    </tr>\n",
       "    <tr>\n",
       "      <th>대구광역시</th>\n",
       "      <td>0.176790</td>\n",
       "      <td>0.162203</td>\n",
       "      <td>0.213740</td>\n",
       "      <td>0.169433</td>\n",
       "      <td>0.152346</td>\n",
       "      <td>0.061002</td>\n",
       "    </tr>\n",
       "  </tbody>\n",
       "</table>\n",
       "</div>"
      ],
      "text/plain": [
       "           전출인구      출생아수   산부인과의원수   초등학생인원수  도매 및 소매업 신생  예금은행대출금액\n",
       "시도                                                                  \n",
       "경기도    0.917273  0.987845  0.722646  0.960500     0.776750  0.339958\n",
       "서울특별시  0.815367  0.738139  1.000000  0.606175     0.760073  0.635611\n",
       "경상남도   0.207586  0.252643  0.160305  0.240051     0.194295  0.075801\n",
       "부산광역시  0.244302  0.219960  0.203562  0.201574     0.214863  0.103605\n",
       "대구광역시  0.176790  0.162203  0.213740  0.169433     0.152346  0.061002"
      ]
     },
     "execution_count": 607,
     "metadata": {},
     "output_type": "execute_result"
    }
   ],
   "source": [
    "# 정규화된 데이터프레임 생성\n",
    "df_km_norm = pd.DataFrame(x_scaled, columns=col, index=df_km.index)\n",
    "# df_2020_norm['시도'] = df['시도']\n",
    "df_km_norm.head()"
   ]
  },
  {
   "cell_type": "code",
   "execution_count": 608,
   "metadata": {},
   "outputs": [
    {
     "data": {
      "text/html": [
       "<div>\n",
       "<style scoped>\n",
       "    .dataframe tbody tr th:only-of-type {\n",
       "        vertical-align: middle;\n",
       "    }\n",
       "\n",
       "    .dataframe tbody tr th {\n",
       "        vertical-align: top;\n",
       "    }\n",
       "\n",
       "    .dataframe thead th {\n",
       "        text-align: right;\n",
       "    }\n",
       "</style>\n",
       "<table border=\"1\" class=\"dataframe\">\n",
       "  <thead>\n",
       "    <tr style=\"text-align: right;\">\n",
       "      <th></th>\n",
       "      <th>전출인구</th>\n",
       "      <th>출생아수</th>\n",
       "      <th>산부인과의원수</th>\n",
       "      <th>초등학생인원수</th>\n",
       "      <th>도매 및 소매업 신생</th>\n",
       "      <th>예금은행대출금액</th>\n",
       "      <th>cluster_id</th>\n",
       "    </tr>\n",
       "    <tr>\n",
       "      <th>시도</th>\n",
       "      <th></th>\n",
       "      <th></th>\n",
       "      <th></th>\n",
       "      <th></th>\n",
       "      <th></th>\n",
       "      <th></th>\n",
       "      <th></th>\n",
       "    </tr>\n",
       "  </thead>\n",
       "  <tbody>\n",
       "    <tr>\n",
       "      <th>경기도</th>\n",
       "      <td>0.917273</td>\n",
       "      <td>0.987845</td>\n",
       "      <td>0.722646</td>\n",
       "      <td>0.960500</td>\n",
       "      <td>0.776750</td>\n",
       "      <td>0.339958</td>\n",
       "      <td>0.00</td>\n",
       "    </tr>\n",
       "    <tr>\n",
       "      <th>서울특별시</th>\n",
       "      <td>0.815367</td>\n",
       "      <td>0.738139</td>\n",
       "      <td>1.000000</td>\n",
       "      <td>0.606175</td>\n",
       "      <td>0.760073</td>\n",
       "      <td>0.635611</td>\n",
       "      <td>0.33</td>\n",
       "    </tr>\n",
       "    <tr>\n",
       "      <th>경상남도</th>\n",
       "      <td>0.207586</td>\n",
       "      <td>0.252643</td>\n",
       "      <td>0.160305</td>\n",
       "      <td>0.240051</td>\n",
       "      <td>0.194295</td>\n",
       "      <td>0.075801</td>\n",
       "      <td>0.67</td>\n",
       "    </tr>\n",
       "    <tr>\n",
       "      <th>부산광역시</th>\n",
       "      <td>0.244302</td>\n",
       "      <td>0.219960</td>\n",
       "      <td>0.203562</td>\n",
       "      <td>0.201574</td>\n",
       "      <td>0.214863</td>\n",
       "      <td>0.103605</td>\n",
       "      <td>0.67</td>\n",
       "    </tr>\n",
       "    <tr>\n",
       "      <th>대구광역시</th>\n",
       "      <td>0.176790</td>\n",
       "      <td>0.162203</td>\n",
       "      <td>0.213740</td>\n",
       "      <td>0.169433</td>\n",
       "      <td>0.152346</td>\n",
       "      <td>0.061002</td>\n",
       "      <td>0.67</td>\n",
       "    </tr>\n",
       "  </tbody>\n",
       "</table>\n",
       "</div>"
      ],
      "text/plain": [
       "           전출인구      출생아수   산부인과의원수   초등학생인원수  도매 및 소매업 신생  예금은행대출금액  \\\n",
       "시도                                                                     \n",
       "경기도    0.917273  0.987845  0.722646  0.960500     0.776750  0.339958   \n",
       "서울특별시  0.815367  0.738139  1.000000  0.606175     0.760073  0.635611   \n",
       "경상남도   0.207586  0.252643  0.160305  0.240051     0.194295  0.075801   \n",
       "부산광역시  0.244302  0.219960  0.203562  0.201574     0.214863  0.103605   \n",
       "대구광역시  0.176790  0.162203  0.213740  0.169433     0.152346  0.061002   \n",
       "\n",
       "       cluster_id  \n",
       "시도                 \n",
       "경기도          0.00  \n",
       "서울특별시        0.33  \n",
       "경상남도         0.67  \n",
       "부산광역시        0.67  \n",
       "대구광역시        0.67  "
      ]
     },
     "execution_count": 608,
     "metadata": {},
     "output_type": "execute_result"
    }
   ],
   "source": [
    "df_km_norm['cluster_id'] = df_km['cluster_id']\n",
    "df_km_norm.head()"
   ]
  },
  {
   "cell_type": "code",
   "execution_count": 609,
   "metadata": {},
   "outputs": [
    {
     "data": {
      "text/html": [
       "<div>\n",
       "<style scoped>\n",
       "    .dataframe tbody tr th:only-of-type {\n",
       "        vertical-align: middle;\n",
       "    }\n",
       "\n",
       "    .dataframe tbody tr th {\n",
       "        vertical-align: top;\n",
       "    }\n",
       "\n",
       "    .dataframe thead th {\n",
       "        text-align: right;\n",
       "    }\n",
       "</style>\n",
       "<table border=\"1\" class=\"dataframe\">\n",
       "  <thead>\n",
       "    <tr style=\"text-align: right;\">\n",
       "      <th></th>\n",
       "      <th>전출인구</th>\n",
       "      <th>출생아수</th>\n",
       "      <th>산부인과의원수</th>\n",
       "      <th>초등학생인원수</th>\n",
       "      <th>도매 및 소매업 신생</th>\n",
       "      <th>예금은행대출금액</th>\n",
       "    </tr>\n",
       "    <tr>\n",
       "      <th>시도</th>\n",
       "      <th></th>\n",
       "      <th></th>\n",
       "      <th></th>\n",
       "      <th></th>\n",
       "      <th></th>\n",
       "      <th></th>\n",
       "    </tr>\n",
       "  </thead>\n",
       "  <tbody>\n",
       "    <tr>\n",
       "      <th>경기도</th>\n",
       "      <td>0.917273</td>\n",
       "      <td>0.987845</td>\n",
       "      <td>0.722646</td>\n",
       "      <td>0.960500</td>\n",
       "      <td>0.776750</td>\n",
       "      <td>0.339958</td>\n",
       "    </tr>\n",
       "    <tr>\n",
       "      <th>서울특별시</th>\n",
       "      <td>0.815367</td>\n",
       "      <td>0.738139</td>\n",
       "      <td>1.000000</td>\n",
       "      <td>0.606175</td>\n",
       "      <td>0.760073</td>\n",
       "      <td>0.635611</td>\n",
       "    </tr>\n",
       "    <tr>\n",
       "      <th>경상남도</th>\n",
       "      <td>0.207586</td>\n",
       "      <td>0.252643</td>\n",
       "      <td>0.160305</td>\n",
       "      <td>0.240051</td>\n",
       "      <td>0.194295</td>\n",
       "      <td>0.075801</td>\n",
       "    </tr>\n",
       "    <tr>\n",
       "      <th>부산광역시</th>\n",
       "      <td>0.244302</td>\n",
       "      <td>0.219960</td>\n",
       "      <td>0.203562</td>\n",
       "      <td>0.201574</td>\n",
       "      <td>0.214863</td>\n",
       "      <td>0.103605</td>\n",
       "    </tr>\n",
       "    <tr>\n",
       "      <th>대구광역시</th>\n",
       "      <td>0.176790</td>\n",
       "      <td>0.162203</td>\n",
       "      <td>0.213740</td>\n",
       "      <td>0.169433</td>\n",
       "      <td>0.152346</td>\n",
       "      <td>0.061002</td>\n",
       "    </tr>\n",
       "  </tbody>\n",
       "</table>\n",
       "</div>"
      ],
      "text/plain": [
       "           전출인구      출생아수   산부인과의원수   초등학생인원수  도매 및 소매업 신생  예금은행대출금액\n",
       "시도                                                                  \n",
       "경기도    0.917273  0.987845  0.722646  0.960500     0.776750  0.339958\n",
       "서울특별시  0.815367  0.738139  1.000000  0.606175     0.760073  0.635611\n",
       "경상남도   0.207586  0.252643  0.160305  0.240051     0.194295  0.075801\n",
       "부산광역시  0.244302  0.219960  0.203562  0.201574     0.214863  0.103605\n",
       "대구광역시  0.176790  0.162203  0.213740  0.169433     0.152346  0.061002"
      ]
     },
     "execution_count": 609,
     "metadata": {},
     "output_type": "execute_result"
    }
   ],
   "source": [
    "df_feature = df_km_norm.iloc[:,:6]\n",
    "df_feature.head()"
   ]
  },
  {
   "attachments": {},
   "cell_type": "markdown",
   "metadata": {},
   "source": [
    "---\n",
    "## 주성분 분석"
   ]
  },
  {
   "cell_type": "code",
   "execution_count": 610,
   "metadata": {},
   "outputs": [
    {
     "data": {
      "text/plain": [
       "(136, 6)"
      ]
     },
     "execution_count": 610,
     "metadata": {},
     "output_type": "execute_result"
    }
   ],
   "source": [
    "df_feature.shape"
   ]
  },
  {
   "cell_type": "code",
   "execution_count": 611,
   "metadata": {},
   "outputs": [
    {
     "data": {
      "text/html": [
       "<style>#sk-container-id-21 {color: black;background-color: white;}#sk-container-id-21 pre{padding: 0;}#sk-container-id-21 div.sk-toggleable {background-color: white;}#sk-container-id-21 label.sk-toggleable__label {cursor: pointer;display: block;width: 100%;margin-bottom: 0;padding: 0.3em;box-sizing: border-box;text-align: center;}#sk-container-id-21 label.sk-toggleable__label-arrow:before {content: \"▸\";float: left;margin-right: 0.25em;color: #696969;}#sk-container-id-21 label.sk-toggleable__label-arrow:hover:before {color: black;}#sk-container-id-21 div.sk-estimator:hover label.sk-toggleable__label-arrow:before {color: black;}#sk-container-id-21 div.sk-toggleable__content {max-height: 0;max-width: 0;overflow: hidden;text-align: left;background-color: #f0f8ff;}#sk-container-id-21 div.sk-toggleable__content pre {margin: 0.2em;color: black;border-radius: 0.25em;background-color: #f0f8ff;}#sk-container-id-21 input.sk-toggleable__control:checked~div.sk-toggleable__content {max-height: 200px;max-width: 100%;overflow: auto;}#sk-container-id-21 input.sk-toggleable__control:checked~label.sk-toggleable__label-arrow:before {content: \"▾\";}#sk-container-id-21 div.sk-estimator input.sk-toggleable__control:checked~label.sk-toggleable__label {background-color: #d4ebff;}#sk-container-id-21 div.sk-label input.sk-toggleable__control:checked~label.sk-toggleable__label {background-color: #d4ebff;}#sk-container-id-21 input.sk-hidden--visually {border: 0;clip: rect(1px 1px 1px 1px);clip: rect(1px, 1px, 1px, 1px);height: 1px;margin: -1px;overflow: hidden;padding: 0;position: absolute;width: 1px;}#sk-container-id-21 div.sk-estimator {font-family: monospace;background-color: #f0f8ff;border: 1px dotted black;border-radius: 0.25em;box-sizing: border-box;margin-bottom: 0.5em;}#sk-container-id-21 div.sk-estimator:hover {background-color: #d4ebff;}#sk-container-id-21 div.sk-parallel-item::after {content: \"\";width: 100%;border-bottom: 1px solid gray;flex-grow: 1;}#sk-container-id-21 div.sk-label:hover label.sk-toggleable__label {background-color: #d4ebff;}#sk-container-id-21 div.sk-serial::before {content: \"\";position: absolute;border-left: 1px solid gray;box-sizing: border-box;top: 0;bottom: 0;left: 50%;z-index: 0;}#sk-container-id-21 div.sk-serial {display: flex;flex-direction: column;align-items: center;background-color: white;padding-right: 0.2em;padding-left: 0.2em;position: relative;}#sk-container-id-21 div.sk-item {position: relative;z-index: 1;}#sk-container-id-21 div.sk-parallel {display: flex;align-items: stretch;justify-content: center;background-color: white;position: relative;}#sk-container-id-21 div.sk-item::before, #sk-container-id-21 div.sk-parallel-item::before {content: \"\";position: absolute;border-left: 1px solid gray;box-sizing: border-box;top: 0;bottom: 0;left: 50%;z-index: -1;}#sk-container-id-21 div.sk-parallel-item {display: flex;flex-direction: column;z-index: 1;position: relative;background-color: white;}#sk-container-id-21 div.sk-parallel-item:first-child::after {align-self: flex-end;width: 50%;}#sk-container-id-21 div.sk-parallel-item:last-child::after {align-self: flex-start;width: 50%;}#sk-container-id-21 div.sk-parallel-item:only-child::after {width: 0;}#sk-container-id-21 div.sk-dashed-wrapped {border: 1px dashed gray;margin: 0 0.4em 0.5em 0.4em;box-sizing: border-box;padding-bottom: 0.4em;background-color: white;}#sk-container-id-21 div.sk-label label {font-family: monospace;font-weight: bold;display: inline-block;line-height: 1.2em;}#sk-container-id-21 div.sk-label-container {text-align: center;}#sk-container-id-21 div.sk-container {/* jupyter's `normalize.less` sets `[hidden] { display: none; }` but bootstrap.min.css set `[hidden] { display: none !important; }` so we also need the `!important` here to be able to override the default hidden behavior on the sphinx rendered scikit-learn.org. See: https://github.com/scikit-learn/scikit-learn/issues/21755 */display: inline-block !important;position: relative;}#sk-container-id-21 div.sk-text-repr-fallback {display: none;}</style><div id=\"sk-container-id-21\" class=\"sk-top-container\"><div class=\"sk-text-repr-fallback\"><pre>PCA(n_components=6)</pre><b>In a Jupyter environment, please rerun this cell to show the HTML representation or trust the notebook. <br />On GitHub, the HTML representation is unable to render, please try loading this page with nbviewer.org.</b></div><div class=\"sk-container\" hidden><div class=\"sk-item\"><div class=\"sk-estimator sk-toggleable\"><input class=\"sk-toggleable__control sk-hidden--visually\" id=\"sk-estimator-id-21\" type=\"checkbox\" checked><label for=\"sk-estimator-id-21\" class=\"sk-toggleable__label sk-toggleable__label-arrow\">PCA</label><div class=\"sk-toggleable__content\"><pre>PCA(n_components=6)</pre></div></div></div></div></div>"
      ],
      "text/plain": [
       "PCA(n_components=6)"
      ]
     },
     "execution_count": 611,
     "metadata": {},
     "output_type": "execute_result"
    }
   ],
   "source": [
    "from sklearn.decomposition import PCA\n",
    "pca = PCA(n_components=6) # 136개의 데이터중 구별이 확실한 주성분 6개를 선택\n",
    "pca.fit(df_feature)"
   ]
  },
  {
   "cell_type": "code",
   "execution_count": 612,
   "metadata": {},
   "outputs": [
    {
     "data": {
      "text/plain": [
       "(6, 6)"
      ]
     },
     "execution_count": 612,
     "metadata": {},
     "output_type": "execute_result"
    }
   ],
   "source": [
    "pca.components_.shape # sample 6개만 들어가있다"
   ]
  },
  {
   "cell_type": "code",
   "execution_count": 613,
   "metadata": {},
   "outputs": [
    {
     "data": {
      "image/png": "[encoded data removed]",
      "text/plain": [
       "<Figure size 640x480 with 1 Axes>"
      ]
     },
     "metadata": {},
     "output_type": "display_data"
    }
   ],
   "source": [
    "plt.plot(pca.explained_variance_ratio_)\n",
    "plt.show()"
   ]
  },
  {
   "attachments": {},
   "cell_type": "markdown",
   "metadata": {},
   "source": [
    "> ### 2개 or 1개 선정"
   ]
  },
  {
   "cell_type": "code",
   "execution_count": 614,
   "metadata": {},
   "outputs": [
    {
     "name": "stdout",
     "output_type": "stream",
     "text": [
      "[9.40433673e-01 4.98711707e-02 7.11612195e-03 1.29605087e-03\n",
      " 9.21006172e-04 3.61977134e-04]\n",
      "sum: 1.0\n"
     ]
    }
   ],
   "source": [
    "print(pca.explained_variance_ratio_)\n",
    "print('sum:', sum(pca.explained_variance_ratio_))"
   ]
  },
  {
   "cell_type": "code",
   "execution_count": 615,
   "metadata": {},
   "outputs": [
    {
     "data": {
      "text/html": [
       "<style>#sk-container-id-22 {color: black;background-color: white;}#sk-container-id-22 pre{padding: 0;}#sk-container-id-22 div.sk-toggleable {background-color: white;}#sk-container-id-22 label.sk-toggleable__label {cursor: pointer;display: block;width: 100%;margin-bottom: 0;padding: 0.3em;box-sizing: border-box;text-align: center;}#sk-container-id-22 label.sk-toggleable__label-arrow:before {content: \"▸\";float: left;margin-right: 0.25em;color: #696969;}#sk-container-id-22 label.sk-toggleable__label-arrow:hover:before {color: black;}#sk-container-id-22 div.sk-estimator:hover label.sk-toggleable__label-arrow:before {color: black;}#sk-container-id-22 div.sk-toggleable__content {max-height: 0;max-width: 0;overflow: hidden;text-align: left;background-color: #f0f8ff;}#sk-container-id-22 div.sk-toggleable__content pre {margin: 0.2em;color: black;border-radius: 0.25em;background-color: #f0f8ff;}#sk-container-id-22 input.sk-toggleable__control:checked~div.sk-toggleable__content {max-height: 200px;max-width: 100%;overflow: auto;}#sk-container-id-22 input.sk-toggleable__control:checked~label.sk-toggleable__label-arrow:before {content: \"▾\";}#sk-container-id-22 div.sk-estimator input.sk-toggleable__control:checked~label.sk-toggleable__label {background-color: #d4ebff;}#sk-container-id-22 div.sk-label input.sk-toggleable__control:checked~label.sk-toggleable__label {background-color: #d4ebff;}#sk-container-id-22 input.sk-hidden--visually {border: 0;clip: rect(1px 1px 1px 1px);clip: rect(1px, 1px, 1px, 1px);height: 1px;margin: -1px;overflow: hidden;padding: 0;position: absolute;width: 1px;}#sk-container-id-22 div.sk-estimator {font-family: monospace;background-color: #f0f8ff;border: 1px dotted black;border-radius: 0.25em;box-sizing: border-box;margin-bottom: 0.5em;}#sk-container-id-22 div.sk-estimator:hover {background-color: #d4ebff;}#sk-container-id-22 div.sk-parallel-item::after {content: \"\";width: 100%;border-bottom: 1px solid gray;flex-grow: 1;}#sk-container-id-22 div.sk-label:hover label.sk-toggleable__label {background-color: #d4ebff;}#sk-container-id-22 div.sk-serial::before {content: \"\";position: absolute;border-left: 1px solid gray;box-sizing: border-box;top: 0;bottom: 0;left: 50%;z-index: 0;}#sk-container-id-22 div.sk-serial {display: flex;flex-direction: column;align-items: center;background-color: white;padding-right: 0.2em;padding-left: 0.2em;position: relative;}#sk-container-id-22 div.sk-item {position: relative;z-index: 1;}#sk-container-id-22 div.sk-parallel {display: flex;align-items: stretch;justify-content: center;background-color: white;position: relative;}#sk-container-id-22 div.sk-item::before, #sk-container-id-22 div.sk-parallel-item::before {content: \"\";position: absolute;border-left: 1px solid gray;box-sizing: border-box;top: 0;bottom: 0;left: 50%;z-index: -1;}#sk-container-id-22 div.sk-parallel-item {display: flex;flex-direction: column;z-index: 1;position: relative;background-color: white;}#sk-container-id-22 div.sk-parallel-item:first-child::after {align-self: flex-end;width: 50%;}#sk-container-id-22 div.sk-parallel-item:last-child::after {align-self: flex-start;width: 50%;}#sk-container-id-22 div.sk-parallel-item:only-child::after {width: 0;}#sk-container-id-22 div.sk-dashed-wrapped {border: 1px dashed gray;margin: 0 0.4em 0.5em 0.4em;box-sizing: border-box;padding-bottom: 0.4em;background-color: white;}#sk-container-id-22 div.sk-label label {font-family: monospace;font-weight: bold;display: inline-block;line-height: 1.2em;}#sk-container-id-22 div.sk-label-container {text-align: center;}#sk-container-id-22 div.sk-container {/* jupyter's `normalize.less` sets `[hidden] { display: none; }` but bootstrap.min.css set `[hidden] { display: none !important; }` so we also need the `!important` here to be able to override the default hidden behavior on the sphinx rendered scikit-learn.org. See: https://github.com/scikit-learn/scikit-learn/issues/21755 */display: inline-block !important;position: relative;}#sk-container-id-22 div.sk-text-repr-fallback {display: none;}</style><div id=\"sk-container-id-22\" class=\"sk-top-container\"><div class=\"sk-text-repr-fallback\"><pre>PCA(n_components=1)</pre><b>In a Jupyter environment, please rerun this cell to show the HTML representation or trust the notebook. <br />On GitHub, the HTML representation is unable to render, please try loading this page with nbviewer.org.</b></div><div class=\"sk-container\" hidden><div class=\"sk-item\"><div class=\"sk-estimator sk-toggleable\"><input class=\"sk-toggleable__control sk-hidden--visually\" id=\"sk-estimator-id-22\" type=\"checkbox\" checked><label for=\"sk-estimator-id-22\" class=\"sk-toggleable__label sk-toggleable__label-arrow\">PCA</label><div class=\"sk-toggleable__content\"><pre>PCA(n_components=1)</pre></div></div></div></div></div>"
      ],
      "text/plain": [
       "PCA(n_components=1)"
      ]
     },
     "execution_count": 615,
     "metadata": {},
     "output_type": "execute_result"
    }
   ],
   "source": [
    "pca = PCA(n_components=1)\n",
    "pca.fit(df_feature)"
   ]
  },
  {
   "cell_type": "code",
   "execution_count": 616,
   "metadata": {},
   "outputs": [
    {
     "data": {
      "text/plain": [
       "(1, 6)"
      ]
     },
     "execution_count": 616,
     "metadata": {},
     "output_type": "execute_result"
    }
   ],
   "source": [
    "pca.components_.shape # sample 50개만 들어가있다 # 50개가 뭔지 그래프로 그려보자"
   ]
  },
  {
   "cell_type": "code",
   "execution_count": 617,
   "metadata": {},
   "outputs": [
    {
     "data": {
      "text/html": [
       "<style>#sk-container-id-23 {color: black;background-color: white;}#sk-container-id-23 pre{padding: 0;}#sk-container-id-23 div.sk-toggleable {background-color: white;}#sk-container-id-23 label.sk-toggleable__label {cursor: pointer;display: block;width: 100%;margin-bottom: 0;padding: 0.3em;box-sizing: border-box;text-align: center;}#sk-container-id-23 label.sk-toggleable__label-arrow:before {content: \"▸\";float: left;margin-right: 0.25em;color: #696969;}#sk-container-id-23 label.sk-toggleable__label-arrow:hover:before {color: black;}#sk-container-id-23 div.sk-estimator:hover label.sk-toggleable__label-arrow:before {color: black;}#sk-container-id-23 div.sk-toggleable__content {max-height: 0;max-width: 0;overflow: hidden;text-align: left;background-color: #f0f8ff;}#sk-container-id-23 div.sk-toggleable__content pre {margin: 0.2em;color: black;border-radius: 0.25em;background-color: #f0f8ff;}#sk-container-id-23 input.sk-toggleable__control:checked~div.sk-toggleable__content {max-height: 200px;max-width: 100%;overflow: auto;}#sk-container-id-23 input.sk-toggleable__control:checked~label.sk-toggleable__label-arrow:before {content: \"▾\";}#sk-container-id-23 div.sk-estimator input.sk-toggleable__control:checked~label.sk-toggleable__label {background-color: #d4ebff;}#sk-container-id-23 div.sk-label input.sk-toggleable__control:checked~label.sk-toggleable__label {background-color: #d4ebff;}#sk-container-id-23 input.sk-hidden--visually {border: 0;clip: rect(1px 1px 1px 1px);clip: rect(1px, 1px, 1px, 1px);height: 1px;margin: -1px;overflow: hidden;padding: 0;position: absolute;width: 1px;}#sk-container-id-23 div.sk-estimator {font-family: monospace;background-color: #f0f8ff;border: 1px dotted black;border-radius: 0.25em;box-sizing: border-box;margin-bottom: 0.5em;}#sk-container-id-23 div.sk-estimator:hover {background-color: #d4ebff;}#sk-container-id-23 div.sk-parallel-item::after {content: \"\";width: 100%;border-bottom: 1px solid gray;flex-grow: 1;}#sk-container-id-23 div.sk-label:hover label.sk-toggleable__label {background-color: #d4ebff;}#sk-container-id-23 div.sk-serial::before {content: \"\";position: absolute;border-left: 1px solid gray;box-sizing: border-box;top: 0;bottom: 0;left: 50%;z-index: 0;}#sk-container-id-23 div.sk-serial {display: flex;flex-direction: column;align-items: center;background-color: white;padding-right: 0.2em;padding-left: 0.2em;position: relative;}#sk-container-id-23 div.sk-item {position: relative;z-index: 1;}#sk-container-id-23 div.sk-parallel {display: flex;align-items: stretch;justify-content: center;background-color: white;position: relative;}#sk-container-id-23 div.sk-item::before, #sk-container-id-23 div.sk-parallel-item::before {content: \"\";position: absolute;border-left: 1px solid gray;box-sizing: border-box;top: 0;bottom: 0;left: 50%;z-index: -1;}#sk-container-id-23 div.sk-parallel-item {display: flex;flex-direction: column;z-index: 1;position: relative;background-color: white;}#sk-container-id-23 div.sk-parallel-item:first-child::after {align-self: flex-end;width: 50%;}#sk-container-id-23 div.sk-parallel-item:last-child::after {align-self: flex-start;width: 50%;}#sk-container-id-23 div.sk-parallel-item:only-child::after {width: 0;}#sk-container-id-23 div.sk-dashed-wrapped {border: 1px dashed gray;margin: 0 0.4em 0.5em 0.4em;box-sizing: border-box;padding-bottom: 0.4em;background-color: white;}#sk-container-id-23 div.sk-label label {font-family: monospace;font-weight: bold;display: inline-block;line-height: 1.2em;}#sk-container-id-23 div.sk-label-container {text-align: center;}#sk-container-id-23 div.sk-container {/* jupyter's `normalize.less` sets `[hidden] { display: none; }` but bootstrap.min.css set `[hidden] { display: none !important; }` so we also need the `!important` here to be able to override the default hidden behavior on the sphinx rendered scikit-learn.org. See: https://github.com/scikit-learn/scikit-learn/issues/21755 */display: inline-block !important;position: relative;}#sk-container-id-23 div.sk-text-repr-fallback {display: none;}</style><div id=\"sk-container-id-23\" class=\"sk-top-container\"><div class=\"sk-text-repr-fallback\"><pre>PCA(n_components=1)</pre><b>In a Jupyter environment, please rerun this cell to show the HTML representation or trust the notebook. <br />On GitHub, the HTML representation is unable to render, please try loading this page with nbviewer.org.</b></div><div class=\"sk-container\" hidden><div class=\"sk-item\"><div class=\"sk-estimator sk-toggleable\"><input class=\"sk-toggleable__control sk-hidden--visually\" id=\"sk-estimator-id-23\" type=\"checkbox\" checked><label for=\"sk-estimator-id-23\" class=\"sk-toggleable__label sk-toggleable__label-arrow\">PCA</label><div class=\"sk-toggleable__content\"><pre>PCA(n_components=1)</pre></div></div></div></div></div>"
      ],
      "text/plain": [
       "PCA(n_components=1)"
      ]
     },
     "execution_count": 617,
     "metadata": {},
     "output_type": "execute_result"
    }
   ],
   "source": [
    "pca"
   ]
  },
  {
   "cell_type": "code",
   "execution_count": 618,
   "metadata": {},
   "outputs": [
    {
     "name": "stdout",
     "output_type": "stream",
     "text": [
      "(136, 6)\n",
      "(136, 1)\n"
     ]
    },
    {
     "data": {
      "text/plain": [
       "array([[ 1.48929268e+00],\n",
       "       [ 1.41840047e+00],\n",
       "       [ 1.22838632e-02],\n",
       "       [ 3.79842198e-02],\n",
       "       [-6.40864438e-02],\n",
       "       [-1.49118648e-02],\n",
       "       [-1.90249060e-01],\n",
       "       [-1.08780762e-01],\n",
       "       [-2.20095209e-01],\n",
       "       [-1.67589160e-01],\n",
       "       [-2.31859303e-01],\n",
       "       [-2.91631145e-01],\n",
       "       [-2.23801199e-01],\n",
       "       [-2.05655751e-01],\n",
       "       [-2.59616715e-01],\n",
       "       [-3.69245899e-01],\n",
       "       [-4.53613100e-01],\n",
       "       [ 1.50450005e+00],\n",
       "       [ 1.44603705e+00],\n",
       "       [ 2.13662903e-02],\n",
       "       [ 3.96839028e-02],\n",
       "       [-5.88123286e-02],\n",
       "       [-1.15948164e-02],\n",
       "       [-1.82030472e-01],\n",
       "       [-1.06485167e-01],\n",
       "       [-2.16248952e-01],\n",
       "       [-1.64410694e-01],\n",
       "       [-2.30020350e-01],\n",
       "       [-2.84570491e-01],\n",
       "       [-2.24912305e-01],\n",
       "       [-2.01957471e-01],\n",
       "       [-2.60790142e-01],\n",
       "       [-3.69643919e-01],\n",
       "       [-4.47312013e-01],\n",
       "       [ 1.51192823e+00],\n",
       "       [ 1.42938739e+00],\n",
       "       [ 1.81523454e-02],\n",
       "       [ 3.59236253e-02],\n",
       "       [-6.31924140e-02],\n",
       "       [-1.21433067e-02],\n",
       "       [-1.88975873e-01],\n",
       "       [-1.03259932e-01],\n",
       "       [-2.24275757e-01],\n",
       "       [-1.63023217e-01],\n",
       "       [-2.33354930e-01],\n",
       "       [-2.84365241e-01],\n",
       "       [-2.27961074e-01],\n",
       "       [-2.14074214e-01],\n",
       "       [-2.59236686e-01],\n",
       "       [-3.68293413e-01],\n",
       "       [-4.35690871e-01],\n",
       "       [ 1.49102465e+00],\n",
       "       [ 1.38978406e+00],\n",
       "       [ 6.74418334e-04],\n",
       "       [ 2.13457290e-02],\n",
       "       [-6.82823100e-02],\n",
       "       [-1.90330961e-02],\n",
       "       [-1.98114177e-01],\n",
       "       [-1.13967141e-01],\n",
       "       [-2.33703964e-01],\n",
       "       [-1.67592105e-01],\n",
       "       [-2.36946927e-01],\n",
       "       [-2.89636462e-01],\n",
       "       [-2.33537093e-01],\n",
       "       [-2.20584354e-01],\n",
       "       [-2.66911142e-01],\n",
       "       [-3.61942481e-01],\n",
       "       [-4.28719973e-01],\n",
       "       [ 1.45251925e+00],\n",
       "       [ 1.33982605e+00],\n",
       "       [-6.54803425e-03],\n",
       "       [ 5.71509597e-03],\n",
       "       [-7.58921390e-02],\n",
       "       [-3.92599015e-02],\n",
       "       [-2.08756821e-01],\n",
       "       [-1.22583036e-01],\n",
       "       [-2.42147558e-01],\n",
       "       [-1.73991386e-01],\n",
       "       [-2.44013958e-01],\n",
       "       [-2.94770945e-01],\n",
       "       [-2.40443489e-01],\n",
       "       [-2.28902635e-01],\n",
       "       [-2.72007981e-01],\n",
       "       [-3.62819854e-01],\n",
       "       [-4.22289500e-01],\n",
       "       [ 1.45400661e+00],\n",
       "       [ 1.31378760e+00],\n",
       "       [-3.08231852e-02],\n",
       "       [-1.33084524e-02],\n",
       "       [-8.57974008e-02],\n",
       "       [-3.69808757e-02],\n",
       "       [-2.12828294e-01],\n",
       "       [-1.37158601e-01],\n",
       "       [-2.46128873e-01],\n",
       "       [-1.80029287e-01],\n",
       "       [-2.56203989e-01],\n",
       "       [-3.02930510e-01],\n",
       "       [-2.45997032e-01],\n",
       "       [-2.38445371e-01],\n",
       "       [-2.75334541e-01],\n",
       "       [-3.60622248e-01],\n",
       "       [-4.15247954e-01],\n",
       "       [ 1.46015639e+00],\n",
       "       [ 1.29975547e+00],\n",
       "       [-3.10790970e-02],\n",
       "       [-8.42632528e-03],\n",
       "       [-7.74383843e-02],\n",
       "       [-3.70031146e-02],\n",
       "       [-2.16316259e-01],\n",
       "       [-1.38477175e-01],\n",
       "       [-2.50605988e-01],\n",
       "       [-1.84712945e-01],\n",
       "       [-2.52044826e-01],\n",
       "       [-3.00179017e-01],\n",
       "       [-2.48344513e-01],\n",
       "       [-2.38646303e-01],\n",
       "       [-2.72062813e-01],\n",
       "       [-3.59880803e-01],\n",
       "       [-4.10294703e-01],\n",
       "       [ 1.56877501e+00],\n",
       "       [ 1.38726909e+00],\n",
       "       [-2.97836979e-02],\n",
       "       [ 1.16930377e-02],\n",
       "       [-8.09243406e-02],\n",
       "       [-2.38814170e-02],\n",
       "       [-2.17914262e-01],\n",
       "       [-1.36852906e-01],\n",
       "       [-2.47816291e-01],\n",
       "       [-1.77045140e-01],\n",
       "       [-2.52244588e-01],\n",
       "       [-3.00724486e-01],\n",
       "       [-2.45284573e-01],\n",
       "       [-2.36564557e-01],\n",
       "       [-2.71342772e-01],\n",
       "       [-3.59740218e-01],\n",
       "       [-4.06634331e-01]])"
      ]
     },
     "execution_count": 618,
     "metadata": {},
     "output_type": "execute_result"
    }
   ],
   "source": [
    "# 행의 갯수는 원본과 동일하게 하고 Feature의 특성을 50개의 주성분으로 변경하기\n",
    "print(df_feature.shape)\n",
    "km_pca = pca.transform(df_feature)\n",
    "print(km_pca.shape)\n",
    "km_pca"
   ]
  },
  {
   "cell_type": "code",
   "execution_count": 619,
   "metadata": {},
   "outputs": [
    {
     "data": {
      "text/plain": [
       "[[1.4892926835210945],\n",
       " [1.4184004677104518],\n",
       " [0.01228386317131125],\n",
       " [0.03798421982061717],\n",
       " [-0.06408644378606558],\n",
       " [-0.014911864806538142],\n",
       " [-0.19024905952236515],\n",
       " [-0.10878076220310948],\n",
       " [-0.2200952085706743],\n",
       " [-0.16758915994858084],\n",
       " [-0.23185930341105107],\n",
       " [-0.29163114536931606],\n",
       " [-0.22380119877290278],\n",
       " [-0.20565575132803965],\n",
       " [-0.25961671519840324],\n",
       " [-0.36924589872825114],\n",
       " [-0.4536131002892565],\n",
       " [1.504500052030814],\n",
       " [1.4460370507396234],\n",
       " [0.021366290270933962],\n",
       " [0.03968390279926456],\n",
       " [-0.058812328568865854],\n",
       " [-0.011594816366430054],\n",
       " [-0.18203047220228902],\n",
       " [-0.10648516674812762],\n",
       " [-0.2162489515704781],\n",
       " [-0.16441069432505928],\n",
       " [-0.23002035042697477],\n",
       " [-0.2845704913227914],\n",
       " [-0.2249123050088558],\n",
       " [-0.20195747145045156],\n",
       " [-0.2607901424200175],\n",
       " [-0.36964391938743196],\n",
       " [-0.44731201268373055],\n",
       " [1.5119282311985507],\n",
       " [1.4293873929510525],\n",
       " [0.018152345362887668],\n",
       " [0.03592362530396801],\n",
       " [-0.06319241400098984],\n",
       " [-0.012143306745886321],\n",
       " [-0.18897587279543007],\n",
       " [-0.10325993243076009],\n",
       " [-0.22427575721938237],\n",
       " [-0.1630232172245579],\n",
       " [-0.23335493033319923],\n",
       " [-0.28436524051383677],\n",
       " [-0.2279610738074889],\n",
       " [-0.2140742135051851],\n",
       " [-0.2592366857649341],\n",
       " [-0.368293412630529],\n",
       " [-0.4356908710486054],\n",
       " [1.4910246508493368],\n",
       " [1.389784063988165],\n",
       " [0.0006744183340673657],\n",
       " [0.021345729031008134],\n",
       " [-0.06828230996926873],\n",
       " [-0.01903309611438494],\n",
       " [-0.19811417707667617],\n",
       " [-0.11396714092033236],\n",
       " [-0.23370396390400297],\n",
       " [-0.1675921050884205],\n",
       " [-0.2369469267433661],\n",
       " [-0.28963646209015503],\n",
       " [-0.23353709287650412],\n",
       " [-0.22058435356718809],\n",
       " [-0.2669111415062058],\n",
       " [-0.36194248095071097],\n",
       " [-0.428719973021382],\n",
       " [1.4525192462470224],\n",
       " [1.3398260526630317],\n",
       " [-0.006548034246960666],\n",
       " [0.00571509597253415],\n",
       " [-0.07589213900782865],\n",
       " [-0.03925990152295917],\n",
       " [-0.20875682136218368],\n",
       " [-0.12258303612113042],\n",
       " [-0.24214755759332116],\n",
       " [-0.17399138614480467],\n",
       " [-0.24401395814357893],\n",
       " [-0.29477094499924306],\n",
       " [-0.24044348875423135],\n",
       " [-0.2289026354928475],\n",
       " [-0.2720079805100252],\n",
       " [-0.3628198540311499],\n",
       " [-0.4222895002859621],\n",
       " [1.45400660613863],\n",
       " [1.313787597255174],\n",
       " [-0.03082318516362773],\n",
       " [-0.013308452429645647],\n",
       " [-0.08579740078099471],\n",
       " [-0.03698087572109444],\n",
       " [-0.2128282935434275],\n",
       " [-0.13715860116971348],\n",
       " [-0.24612887318884058],\n",
       " [-0.18002928654402295],\n",
       " [-0.2562039894038429],\n",
       " [-0.30293050973097835],\n",
       " [-0.24599703236929246],\n",
       " [-0.23844537060075388],\n",
       " [-0.27533454127750423],\n",
       " [-0.36062224752496125],\n",
       " [-0.4152479543902566],\n",
       " [1.4601563949511576],\n",
       " [1.2997554744339734],\n",
       " [-0.031079097002230226],\n",
       " [-0.008426325283982143],\n",
       " [-0.07743838429962342],\n",
       " [-0.03700311461401821],\n",
       " [-0.21631625879948932],\n",
       " [-0.13847717527644451],\n",
       " [-0.25060598790748995],\n",
       " [-0.18471294481595815],\n",
       " [-0.2520448259939666],\n",
       " [-0.3001790172397301],\n",
       " [-0.24834451328023652],\n",
       " [-0.23864630272029794],\n",
       " [-0.2720628126920959],\n",
       " [-0.3598808026966092],\n",
       " [-0.4102947033739054],\n",
       " [1.568775005561929],\n",
       " [1.3872690857807446],\n",
       " [-0.029783697899497925],\n",
       " [0.011693037672116094],\n",
       " [-0.08092434058245808],\n",
       " [-0.023881417048368797],\n",
       " [-0.2179142616659636],\n",
       " [-0.13685290578691597],\n",
       " [-0.24781629149850148],\n",
       " [-0.1770451404537019],\n",
       " [-0.25224458781036646],\n",
       " [-0.30072448623982007],\n",
       " [-0.24528457279196847],\n",
       " [-0.23656455651539646],\n",
       " [-0.271342772217291],\n",
       " [-0.3597402177499225],\n",
       " [-0.4066343311825832]]"
      ]
     },
     "execution_count": 619,
     "metadata": {},
     "output_type": "execute_result"
    }
   ],
   "source": [
    "km_pca.tolist()"
   ]
  },
  {
   "cell_type": "code",
   "execution_count": 620,
   "metadata": {},
   "outputs": [
    {
     "data": {
      "text/html": [
       "<div>\n",
       "<style scoped>\n",
       "    .dataframe tbody tr th:only-of-type {\n",
       "        vertical-align: middle;\n",
       "    }\n",
       "\n",
       "    .dataframe tbody tr th {\n",
       "        vertical-align: top;\n",
       "    }\n",
       "\n",
       "    .dataframe thead th {\n",
       "        text-align: right;\n",
       "    }\n",
       "</style>\n",
       "<table border=\"1\" class=\"dataframe\">\n",
       "  <thead>\n",
       "    <tr style=\"text-align: right;\">\n",
       "      <th></th>\n",
       "      <th>principal_col</th>\n",
       "    </tr>\n",
       "    <tr>\n",
       "      <th>시도</th>\n",
       "      <th></th>\n",
       "    </tr>\n",
       "  </thead>\n",
       "  <tbody>\n",
       "    <tr>\n",
       "      <th>경기도</th>\n",
       "      <td>1.489293</td>\n",
       "    </tr>\n",
       "    <tr>\n",
       "      <th>서울특별시</th>\n",
       "      <td>1.418400</td>\n",
       "    </tr>\n",
       "    <tr>\n",
       "      <th>경상남도</th>\n",
       "      <td>0.012284</td>\n",
       "    </tr>\n",
       "    <tr>\n",
       "      <th>부산광역시</th>\n",
       "      <td>0.037984</td>\n",
       "    </tr>\n",
       "    <tr>\n",
       "      <th>대구광역시</th>\n",
       "      <td>-0.064086</td>\n",
       "    </tr>\n",
       "    <tr>\n",
       "      <th>...</th>\n",
       "      <td>...</td>\n",
       "    </tr>\n",
       "    <tr>\n",
       "      <th>충청북도</th>\n",
       "      <td>-0.245285</td>\n",
       "    </tr>\n",
       "    <tr>\n",
       "      <th>대전광역시</th>\n",
       "      <td>-0.236565</td>\n",
       "    </tr>\n",
       "    <tr>\n",
       "      <th>강원도</th>\n",
       "      <td>-0.271343</td>\n",
       "    </tr>\n",
       "    <tr>\n",
       "      <th>제주특별자치도</th>\n",
       "      <td>-0.359740</td>\n",
       "    </tr>\n",
       "    <tr>\n",
       "      <th>세종특별자치시</th>\n",
       "      <td>-0.406634</td>\n",
       "    </tr>\n",
       "  </tbody>\n",
       "</table>\n",
       "<p>136 rows × 1 columns</p>\n",
       "</div>"
      ],
      "text/plain": [
       "         principal_col\n",
       "시도                    \n",
       "경기도           1.489293\n",
       "서울특별시         1.418400\n",
       "경상남도          0.012284\n",
       "부산광역시         0.037984\n",
       "대구광역시        -0.064086\n",
       "...                ...\n",
       "충청북도         -0.245285\n",
       "대전광역시        -0.236565\n",
       "강원도          -0.271343\n",
       "제주특별자치도      -0.359740\n",
       "세종특별자치시      -0.406634\n",
       "\n",
       "[136 rows x 1 columns]"
      ]
     },
     "execution_count": 620,
     "metadata": {},
     "output_type": "execute_result"
    }
   ],
   "source": [
    "df_km_pca = pd.DataFrame(km_pca.tolist(), columns=['principal_col'], index=df_km.index)\n",
    "# df_km_pca['cluster_id'] = df_km['cluster_id'].to_list()\n",
    "df_km_pca"
   ]
  },
  {
   "cell_type": "code",
   "execution_count": 621,
   "metadata": {},
   "outputs": [
    {
     "data": {
      "text/html": [
       "<div>\n",
       "<style scoped>\n",
       "    .dataframe tbody tr th:only-of-type {\n",
       "        vertical-align: middle;\n",
       "    }\n",
       "\n",
       "    .dataframe tbody tr th {\n",
       "        vertical-align: top;\n",
       "    }\n",
       "\n",
       "    .dataframe thead th {\n",
       "        text-align: right;\n",
       "    }\n",
       "</style>\n",
       "<table border=\"1\" class=\"dataframe\">\n",
       "  <thead>\n",
       "    <tr style=\"text-align: right;\">\n",
       "      <th></th>\n",
       "      <th>principal_col</th>\n",
       "      <th>cluster_id</th>\n",
       "    </tr>\n",
       "    <tr>\n",
       "      <th>시도</th>\n",
       "      <th></th>\n",
       "      <th></th>\n",
       "    </tr>\n",
       "  </thead>\n",
       "  <tbody>\n",
       "    <tr>\n",
       "      <th>경기도</th>\n",
       "      <td>1.489293</td>\n",
       "      <td>0.00</td>\n",
       "    </tr>\n",
       "    <tr>\n",
       "      <th>서울특별시</th>\n",
       "      <td>1.418400</td>\n",
       "      <td>0.33</td>\n",
       "    </tr>\n",
       "    <tr>\n",
       "      <th>경상남도</th>\n",
       "      <td>0.012284</td>\n",
       "      <td>0.67</td>\n",
       "    </tr>\n",
       "    <tr>\n",
       "      <th>부산광역시</th>\n",
       "      <td>0.037984</td>\n",
       "      <td>0.67</td>\n",
       "    </tr>\n",
       "    <tr>\n",
       "      <th>대구광역시</th>\n",
       "      <td>-0.064086</td>\n",
       "      <td>0.67</td>\n",
       "    </tr>\n",
       "    <tr>\n",
       "      <th>...</th>\n",
       "      <td>...</td>\n",
       "      <td>...</td>\n",
       "    </tr>\n",
       "    <tr>\n",
       "      <th>충청북도</th>\n",
       "      <td>-0.245285</td>\n",
       "      <td>1.00</td>\n",
       "    </tr>\n",
       "    <tr>\n",
       "      <th>대전광역시</th>\n",
       "      <td>-0.236565</td>\n",
       "      <td>1.00</td>\n",
       "    </tr>\n",
       "    <tr>\n",
       "      <th>강원도</th>\n",
       "      <td>-0.271343</td>\n",
       "      <td>1.00</td>\n",
       "    </tr>\n",
       "    <tr>\n",
       "      <th>제주특별자치도</th>\n",
       "      <td>-0.359740</td>\n",
       "      <td>1.00</td>\n",
       "    </tr>\n",
       "    <tr>\n",
       "      <th>세종특별자치시</th>\n",
       "      <td>-0.406634</td>\n",
       "      <td>1.00</td>\n",
       "    </tr>\n",
       "  </tbody>\n",
       "</table>\n",
       "<p>136 rows × 2 columns</p>\n",
       "</div>"
      ],
      "text/plain": [
       "         principal_col  cluster_id\n",
       "시도                                \n",
       "경기도           1.489293        0.00\n",
       "서울특별시         1.418400        0.33\n",
       "경상남도          0.012284        0.67\n",
       "부산광역시         0.037984        0.67\n",
       "대구광역시        -0.064086        0.67\n",
       "...                ...         ...\n",
       "충청북도         -0.245285        1.00\n",
       "대전광역시        -0.236565        1.00\n",
       "강원도          -0.271343        1.00\n",
       "제주특별자치도      -0.359740        1.00\n",
       "세종특별자치시      -0.406634        1.00\n",
       "\n",
       "[136 rows x 2 columns]"
      ]
     },
     "execution_count": 621,
     "metadata": {},
     "output_type": "execute_result"
    }
   ],
   "source": [
    "df_km_pca['cluster_id'] = df_km['cluster_id']\n",
    "df_km_pca"
   ]
  },
  {
   "cell_type": "code",
   "execution_count": 622,
   "metadata": {},
   "outputs": [
    {
     "data": {
      "text/html": [
       "<div>\n",
       "<style scoped>\n",
       "    .dataframe tbody tr th:only-of-type {\n",
       "        vertical-align: middle;\n",
       "    }\n",
       "\n",
       "    .dataframe tbody tr th {\n",
       "        vertical-align: top;\n",
       "    }\n",
       "\n",
       "    .dataframe thead th {\n",
       "        text-align: right;\n",
       "    }\n",
       "</style>\n",
       "<table border=\"1\" class=\"dataframe\">\n",
       "  <thead>\n",
       "    <tr style=\"text-align: right;\">\n",
       "      <th></th>\n",
       "      <th>principal_col</th>\n",
       "      <th>cluster_id</th>\n",
       "      <th>년도</th>\n",
       "    </tr>\n",
       "    <tr>\n",
       "      <th>시도</th>\n",
       "      <th></th>\n",
       "      <th></th>\n",
       "      <th></th>\n",
       "    </tr>\n",
       "  </thead>\n",
       "  <tbody>\n",
       "    <tr>\n",
       "      <th>경기도</th>\n",
       "      <td>1.489293</td>\n",
       "      <td>0.00</td>\n",
       "      <td>2013</td>\n",
       "    </tr>\n",
       "    <tr>\n",
       "      <th>서울특별시</th>\n",
       "      <td>1.418400</td>\n",
       "      <td>0.33</td>\n",
       "      <td>2013</td>\n",
       "    </tr>\n",
       "    <tr>\n",
       "      <th>경상남도</th>\n",
       "      <td>0.012284</td>\n",
       "      <td>0.67</td>\n",
       "      <td>2013</td>\n",
       "    </tr>\n",
       "    <tr>\n",
       "      <th>부산광역시</th>\n",
       "      <td>0.037984</td>\n",
       "      <td>0.67</td>\n",
       "      <td>2013</td>\n",
       "    </tr>\n",
       "    <tr>\n",
       "      <th>대구광역시</th>\n",
       "      <td>-0.064086</td>\n",
       "      <td>0.67</td>\n",
       "      <td>2013</td>\n",
       "    </tr>\n",
       "    <tr>\n",
       "      <th>...</th>\n",
       "      <td>...</td>\n",
       "      <td>...</td>\n",
       "      <td>...</td>\n",
       "    </tr>\n",
       "    <tr>\n",
       "      <th>충청북도</th>\n",
       "      <td>-0.245285</td>\n",
       "      <td>1.00</td>\n",
       "      <td>2020</td>\n",
       "    </tr>\n",
       "    <tr>\n",
       "      <th>대전광역시</th>\n",
       "      <td>-0.236565</td>\n",
       "      <td>1.00</td>\n",
       "      <td>2020</td>\n",
       "    </tr>\n",
       "    <tr>\n",
       "      <th>강원도</th>\n",
       "      <td>-0.271343</td>\n",
       "      <td>1.00</td>\n",
       "      <td>2020</td>\n",
       "    </tr>\n",
       "    <tr>\n",
       "      <th>제주특별자치도</th>\n",
       "      <td>-0.359740</td>\n",
       "      <td>1.00</td>\n",
       "      <td>2020</td>\n",
       "    </tr>\n",
       "    <tr>\n",
       "      <th>세종특별자치시</th>\n",
       "      <td>-0.406634</td>\n",
       "      <td>1.00</td>\n",
       "      <td>2020</td>\n",
       "    </tr>\n",
       "  </tbody>\n",
       "</table>\n",
       "<p>136 rows × 3 columns</p>\n",
       "</div>"
      ],
      "text/plain": [
       "         principal_col  cluster_id    년도\n",
       "시도                                      \n",
       "경기도           1.489293        0.00  2013\n",
       "서울특별시         1.418400        0.33  2013\n",
       "경상남도          0.012284        0.67  2013\n",
       "부산광역시         0.037984        0.67  2013\n",
       "대구광역시        -0.064086        0.67  2013\n",
       "...                ...         ...   ...\n",
       "충청북도         -0.245285        1.00  2020\n",
       "대전광역시        -0.236565        1.00  2020\n",
       "강원도          -0.271343        1.00  2020\n",
       "제주특별자치도      -0.359740        1.00  2020\n",
       "세종특별자치시      -0.406634        1.00  2020\n",
       "\n",
       "[136 rows x 3 columns]"
      ]
     },
     "execution_count": 622,
     "metadata": {},
     "output_type": "execute_result"
    }
   ],
   "source": [
    "# df_km_pca = pd.DataFrame({'년도':years, 'principal_col':km_pca.tolist()})\n",
    "df_km_pca['년도'] = years\n",
    "df_km_pca"
   ]
  },
  {
   "cell_type": "code",
   "execution_count": 623,
   "metadata": {},
   "outputs": [
    {
     "data": {
      "text/html": [
       "<div>\n",
       "<style scoped>\n",
       "    .dataframe tbody tr th:only-of-type {\n",
       "        vertical-align: middle;\n",
       "    }\n",
       "\n",
       "    .dataframe tbody tr th {\n",
       "        vertical-align: top;\n",
       "    }\n",
       "\n",
       "    .dataframe thead th {\n",
       "        text-align: right;\n",
       "    }\n",
       "</style>\n",
       "<table border=\"1\" class=\"dataframe\">\n",
       "  <thead>\n",
       "    <tr style=\"text-align: right;\">\n",
       "      <th></th>\n",
       "      <th>시도</th>\n",
       "      <th>principal_col</th>\n",
       "      <th>cluster_id</th>\n",
       "    </tr>\n",
       "    <tr>\n",
       "      <th>년도</th>\n",
       "      <th></th>\n",
       "      <th></th>\n",
       "      <th></th>\n",
       "    </tr>\n",
       "  </thead>\n",
       "  <tbody>\n",
       "    <tr>\n",
       "      <th>2013</th>\n",
       "      <td>경기도</td>\n",
       "      <td>1.489293</td>\n",
       "      <td>0.00</td>\n",
       "    </tr>\n",
       "    <tr>\n",
       "      <th>2013</th>\n",
       "      <td>서울특별시</td>\n",
       "      <td>1.418400</td>\n",
       "      <td>0.33</td>\n",
       "    </tr>\n",
       "    <tr>\n",
       "      <th>2013</th>\n",
       "      <td>경상남도</td>\n",
       "      <td>0.012284</td>\n",
       "      <td>0.67</td>\n",
       "    </tr>\n",
       "    <tr>\n",
       "      <th>2013</th>\n",
       "      <td>부산광역시</td>\n",
       "      <td>0.037984</td>\n",
       "      <td>0.67</td>\n",
       "    </tr>\n",
       "    <tr>\n",
       "      <th>2013</th>\n",
       "      <td>대구광역시</td>\n",
       "      <td>-0.064086</td>\n",
       "      <td>0.67</td>\n",
       "    </tr>\n",
       "    <tr>\n",
       "      <th>...</th>\n",
       "      <td>...</td>\n",
       "      <td>...</td>\n",
       "      <td>...</td>\n",
       "    </tr>\n",
       "    <tr>\n",
       "      <th>2020</th>\n",
       "      <td>충청북도</td>\n",
       "      <td>-0.245285</td>\n",
       "      <td>1.00</td>\n",
       "    </tr>\n",
       "    <tr>\n",
       "      <th>2020</th>\n",
       "      <td>대전광역시</td>\n",
       "      <td>-0.236565</td>\n",
       "      <td>1.00</td>\n",
       "    </tr>\n",
       "    <tr>\n",
       "      <th>2020</th>\n",
       "      <td>강원도</td>\n",
       "      <td>-0.271343</td>\n",
       "      <td>1.00</td>\n",
       "    </tr>\n",
       "    <tr>\n",
       "      <th>2020</th>\n",
       "      <td>제주특별자치도</td>\n",
       "      <td>-0.359740</td>\n",
       "      <td>1.00</td>\n",
       "    </tr>\n",
       "    <tr>\n",
       "      <th>2020</th>\n",
       "      <td>세종특별자치시</td>\n",
       "      <td>-0.406634</td>\n",
       "      <td>1.00</td>\n",
       "    </tr>\n",
       "  </tbody>\n",
       "</table>\n",
       "<p>136 rows × 3 columns</p>\n",
       "</div>"
      ],
      "text/plain": [
       "           시도  principal_col  cluster_id\n",
       "년도                                      \n",
       "2013      경기도       1.489293        0.00\n",
       "2013    서울특별시       1.418400        0.33\n",
       "2013     경상남도       0.012284        0.67\n",
       "2013    부산광역시       0.037984        0.67\n",
       "2013    대구광역시      -0.064086        0.67\n",
       "...       ...            ...         ...\n",
       "2020     충청북도      -0.245285        1.00\n",
       "2020    대전광역시      -0.236565        1.00\n",
       "2020      강원도      -0.271343        1.00\n",
       "2020  제주특별자치도      -0.359740        1.00\n",
       "2020  세종특별자치시      -0.406634        1.00\n",
       "\n",
       "[136 rows x 3 columns]"
      ]
     },
     "execution_count": 623,
     "metadata": {},
     "output_type": "execute_result"
    }
   ],
   "source": [
    "df_km_pca['시도'] = df_km_pca.index\n",
    "df_km_pca.set_index('년도', inplace=True)\n",
    "df_km_pca = df_km_pca.iloc[:,[2, 0, 1]]\n",
    "df_km_pca"
   ]
  },
  {
   "cell_type": "code",
   "execution_count": 624,
   "metadata": {},
   "outputs": [
    {
     "name": "stdout",
     "output_type": "stream",
     "text": [
      "최소값: -0.45 최대값: 1.57\n"
     ]
    }
   ],
   "source": [
    "print('최소값:', round(np.min(df_km_pca['principal_col']), 2), '최대값:', round(np.max(df_km_pca['principal_col']), 2))"
   ]
  },
  {
   "cell_type": "code",
   "execution_count": 625,
   "metadata": {},
   "outputs": [
    {
     "name": "stdout",
     "output_type": "stream",
     "text": [
      "<class 'pandas.core.frame.DataFrame'>\n",
      "Int64Index: 136 entries, 2013 to 2020\n",
      "Data columns (total 3 columns):\n",
      " #   Column         Non-Null Count  Dtype  \n",
      "---  ------         --------------  -----  \n",
      " 0   시도             136 non-null    object \n",
      " 1   principal_col  136 non-null    float64\n",
      " 2   cluster_id     136 non-null    float64\n",
      "dtypes: float64(2), object(1)\n",
      "memory usage: 4.2+ KB\n"
     ]
    }
   ],
   "source": [
    "df_km_pca.info()"
   ]
  },
  {
   "cell_type": "code",
   "execution_count": 626,
   "metadata": {},
   "outputs": [],
   "source": [
    "# Feature, Target\n",
    "data = df_km_pca[['principal_col']].to_numpy()\n",
    "target = df_km_pca['cluster_id'].to_numpy()"
   ]
  },
  {
   "attachments": {},
   "cell_type": "markdown",
   "metadata": {},
   "source": [
    "----\n",
    "### 검증 세트 추가\n",
    "- 훈련(60%), 검증(20%), 테스트(20%)"
   ]
  },
  {
   "cell_type": "code",
   "execution_count": 627,
   "metadata": {},
   "outputs": [
    {
     "name": "stdout",
     "output_type": "stream",
     "text": [
      "Train : (86, 1)\n",
      "Valid : (22, 1)\n",
      "Test  : (28, 1)\n"
     ]
    }
   ],
   "source": [
    "from sklearn.model_selection import train_test_split\n",
    "train_input, test_input, train_target, test_target = \\\n",
    "    train_test_split(data, target, test_size=0.2) # random_state=42,  stratify=target\n",
    "sub_input, val_input, sub_target, val_target = \\\n",
    "    train_test_split(train_input, train_target, test_size=0.2, stratify=train_target) # random_state=42\n",
    "# 세트 별 크기\n",
    "print(\"Train :\", sub_input.shape)\n",
    "print(\"Valid :\", val_input.shape)\n",
    "print(\"Test  :\", test_input.shape)"
   ]
  },
  {
   "cell_type": "code",
   "execution_count": 628,
   "metadata": {},
   "outputs": [
    {
     "name": "stdout",
     "output_type": "stream",
     "text": [
      "- ML Name : LinearRegression()\n",
      "+ Train score : 0.8424079547750647\n",
      "+ Valid score : 0.8911259459172254\n",
      "+ Test score : 0.8289913860104227\n",
      "+ Mean Absolute Error : 0.10964036428772739\n",
      "----------------------------------------\n",
      "- ML Name : DecisionTreeRegressor()\n",
      "+ Train score : 1.0\n",
      "+ Valid score : 1.0\n",
      "+ Test score : 1.0\n",
      "+ Mean Absolute Error : 0.011785714285714321\n",
      "----------------------------------------\n",
      "- ML Name : RandomForestRegressor()\n",
      "+ Train score : 0.9993604149455352\n",
      "+ Valid score : 0.9999897237931633\n",
      "+ Test score : 0.9949616724590605\n",
      "+ Mean Absolute Error : 0.010960714285714743\n",
      "----------------------------------------\n"
     ]
    }
   ],
   "source": [
    "ml_list = [LinearRegression(), DecisionTreeRegressor(), RandomForestRegressor()]\n",
    "for ml in ml_list:\n",
    "    print(\"- ML Name :\", ml)\n",
    "    reg = ml\n",
    "    # 학습\n",
    "    reg.fit(sub_input, sub_target)\n",
    "    # 정확도 판단\n",
    "    print(\"+ Train score :\", reg.score(sub_input, sub_target))\n",
    "    print(\"+ Valid score :\", reg.score(val_input, val_target))\n",
    "    # 교차검증\n",
    "    scores = cross_validate(reg, train_input, train_target)\n",
    "    # 교차검증 후의 정확도 판단\n",
    "    print(\"+ Test score :\", np.mean(scores['test_score']))\n",
    "    # 평균 절대값 오차\n",
    "    test_prediction = ml.predict(test_input)\n",
    "    mae = mean_absolute_error(test_target, test_prediction)\n",
    "    print(\"+ Mean Absolute Error :\", mae)\n",
    "    print(\"-\"*40)"
   ]
  },
  {
   "cell_type": "code",
   "execution_count": 629,
   "metadata": {},
   "outputs": [
    {
     "name": "stdout",
     "output_type": "stream",
     "text": [
      "- LinearRegression() : [0.7647351515598414, 0.7647351515598414, 0.7647351515598414, 0.7647351515598414, 0.7647351515598414, 0.7647351515598414, 0.7647351515598414, 0.7647351515598414, 0.7647351515598414, 0.7647351515598414]\n",
      "-------------\n",
      "- DecisionTreeRegressor() : [1.0, 1.0, 1.0, 1.0, 1.0, 1.0, 1.0, 1.0, 1.0, 1.0]\n",
      "-------------\n",
      "- RandomForestRegressor() : [0.9980379586649409, 0.9981789003201138, 0.9976035024185806, 0.9974314169141346, 0.9982790603718916, 0.9977172106372869, 0.9977251791587414, 0.9981039575385813, 0.9973471477738196, 0.9982293308176639]\n",
      "-------------\n",
      "- AdaBoostRegressor() : [1.0, 0.9903829479768786, 0.9898391775662884, 0.9937400056438717, 1.0, 0.9706050735200457, 1.0, 0.9903829479768786, 1.0, 1.0]\n",
      "-------------\n"
     ]
    }
   ],
   "source": [
    "# 각 Regressor 별 10번의 정확도 확인\n",
    "ml_list = [LinearRegression(), DecisionTreeRegressor(), RandomForestRegressor(), AdaBoostRegressor()]\n",
    "scores_list = []\n",
    "for ml in ml_list:\n",
    "    ml_cv_scores = cross_validation(ml, train_input, train_target)\n",
    "    scores_list.append(ml_cv_scores)\n",
    "    print(\"-\",ml,':', ml_cv_scores)\n",
    "    print(\"-------------\")"
   ]
  },
  {
   "cell_type": "code",
   "execution_count": 630,
   "metadata": {},
   "outputs": [
    {
     "data": {
      "image/png": "[encoded data removed]",
      "text/plain": [
       "<Figure size 640x480 with 1 Axes>"
      ]
     },
     "metadata": {},
     "output_type": "display_data"
    }
   ],
   "source": [
    "# 정확도 시각화\n",
    "cv_list = {}\n",
    "for ml, scores in zip(ml_list, scores_list):\n",
    "    cv_list[ml] = scores\n",
    "cv_list\n",
    "df = pd.DataFrame(cv_list)\n",
    "df.plot()\n",
    "plt.title('정확도 시각화')\n",
    "plt.show()"
   ]
  },
  {
   "attachments": {},
   "cell_type": "markdown",
   "metadata": {},
   "source": [
    "### 산점도 그려보기"
   ]
  },
  {
   "cell_type": "code",
   "execution_count": 631,
   "metadata": {},
   "outputs": [
    {
     "data": {
      "text/html": [
       "<style>#sk-container-id-24 {color: black;background-color: white;}#sk-container-id-24 pre{padding: 0;}#sk-container-id-24 div.sk-toggleable {background-color: white;}#sk-container-id-24 label.sk-toggleable__label {cursor: pointer;display: block;width: 100%;margin-bottom: 0;padding: 0.3em;box-sizing: border-box;text-align: center;}#sk-container-id-24 label.sk-toggleable__label-arrow:before {content: \"▸\";float: left;margin-right: 0.25em;color: #696969;}#sk-container-id-24 label.sk-toggleable__label-arrow:hover:before {color: black;}#sk-container-id-24 div.sk-estimator:hover label.sk-toggleable__label-arrow:before {color: black;}#sk-container-id-24 div.sk-toggleable__content {max-height: 0;max-width: 0;overflow: hidden;text-align: left;background-color: #f0f8ff;}#sk-container-id-24 div.sk-toggleable__content pre {margin: 0.2em;color: black;border-radius: 0.25em;background-color: #f0f8ff;}#sk-container-id-24 input.sk-toggleable__control:checked~div.sk-toggleable__content {max-height: 200px;max-width: 100%;overflow: auto;}#sk-container-id-24 input.sk-toggleable__control:checked~label.sk-toggleable__label-arrow:before {content: \"▾\";}#sk-container-id-24 div.sk-estimator input.sk-toggleable__control:checked~label.sk-toggleable__label {background-color: #d4ebff;}#sk-container-id-24 div.sk-label input.sk-toggleable__control:checked~label.sk-toggleable__label {background-color: #d4ebff;}#sk-container-id-24 input.sk-hidden--visually {border: 0;clip: rect(1px 1px 1px 1px);clip: rect(1px, 1px, 1px, 1px);height: 1px;margin: -1px;overflow: hidden;padding: 0;position: absolute;width: 1px;}#sk-container-id-24 div.sk-estimator {font-family: monospace;background-color: #f0f8ff;border: 1px dotted black;border-radius: 0.25em;box-sizing: border-box;margin-bottom: 0.5em;}#sk-container-id-24 div.sk-estimator:hover {background-color: #d4ebff;}#sk-container-id-24 div.sk-parallel-item::after {content: \"\";width: 100%;border-bottom: 1px solid gray;flex-grow: 1;}#sk-container-id-24 div.sk-label:hover label.sk-toggleable__label {background-color: #d4ebff;}#sk-container-id-24 div.sk-serial::before {content: \"\";position: absolute;border-left: 1px solid gray;box-sizing: border-box;top: 0;bottom: 0;left: 50%;z-index: 0;}#sk-container-id-24 div.sk-serial {display: flex;flex-direction: column;align-items: center;background-color: white;padding-right: 0.2em;padding-left: 0.2em;position: relative;}#sk-container-id-24 div.sk-item {position: relative;z-index: 1;}#sk-container-id-24 div.sk-parallel {display: flex;align-items: stretch;justify-content: center;background-color: white;position: relative;}#sk-container-id-24 div.sk-item::before, #sk-container-id-24 div.sk-parallel-item::before {content: \"\";position: absolute;border-left: 1px solid gray;box-sizing: border-box;top: 0;bottom: 0;left: 50%;z-index: -1;}#sk-container-id-24 div.sk-parallel-item {display: flex;flex-direction: column;z-index: 1;position: relative;background-color: white;}#sk-container-id-24 div.sk-parallel-item:first-child::after {align-self: flex-end;width: 50%;}#sk-container-id-24 div.sk-parallel-item:last-child::after {align-self: flex-start;width: 50%;}#sk-container-id-24 div.sk-parallel-item:only-child::after {width: 0;}#sk-container-id-24 div.sk-dashed-wrapped {border: 1px dashed gray;margin: 0 0.4em 0.5em 0.4em;box-sizing: border-box;padding-bottom: 0.4em;background-color: white;}#sk-container-id-24 div.sk-label label {font-family: monospace;font-weight: bold;display: inline-block;line-height: 1.2em;}#sk-container-id-24 div.sk-label-container {text-align: center;}#sk-container-id-24 div.sk-container {/* jupyter's `normalize.less` sets `[hidden] { display: none; }` but bootstrap.min.css set `[hidden] { display: none !important; }` so we also need the `!important` here to be able to override the default hidden behavior on the sphinx rendered scikit-learn.org. See: https://github.com/scikit-learn/scikit-learn/issues/21755 */display: inline-block !important;position: relative;}#sk-container-id-24 div.sk-text-repr-fallback {display: none;}</style><div id=\"sk-container-id-24\" class=\"sk-top-container\"><div class=\"sk-text-repr-fallback\"><pre>LinearRegression()</pre><b>In a Jupyter environment, please rerun this cell to show the HTML representation or trust the notebook. <br />On GitHub, the HTML representation is unable to render, please try loading this page with nbviewer.org.</b></div><div class=\"sk-container\" hidden><div class=\"sk-item\"><div class=\"sk-estimator sk-toggleable\"><input class=\"sk-toggleable__control sk-hidden--visually\" id=\"sk-estimator-id-24\" type=\"checkbox\" checked><label for=\"sk-estimator-id-24\" class=\"sk-toggleable__label sk-toggleable__label-arrow\">LinearRegression</label><div class=\"sk-toggleable__content\"><pre>LinearRegression()</pre></div></div></div></div></div>"
      ],
      "text/plain": [
       "LinearRegression()"
      ]
     },
     "execution_count": 631,
     "metadata": {},
     "output_type": "execute_result"
    }
   ],
   "source": [
    "lr = LinearRegression()\n",
    "lr.fit(train_input, train_target)"
   ]
  },
  {
   "cell_type": "code",
   "execution_count": 632,
   "metadata": {},
   "outputs": [
    {
     "name": "stdout",
     "output_type": "stream",
     "text": [
      "[-0.49599656] 0.8026354752522384\n"
     ]
    }
   ],
   "source": [
    "print(lr.coef_, lr.intercept_)"
   ]
  },
  {
   "cell_type": "code",
   "execution_count": 633,
   "metadata": {},
   "outputs": [
    {
     "data": {
      "image/png": "[encoded data removed]",
      "text/plain": [
       "<Figure size 500x500 with 1 Axes>"
      ]
     },
     "metadata": {},
     "output_type": "display_data"
    }
   ],
   "source": [
    "# 구간별 직선을 그리기 위해 15에서 49까지의 정수 배열을 만든다.\n",
    "# point = np.arange(-0.5, 2)\n",
    "\n",
    "# 훈련세트의 산점도\n",
    "plt.figure(figsize=(5,5))\n",
    "plt.scatter(train_input, train_target)\n",
    "plt.scatter(test_input, test_target)\n",
    "\n",
    "# 15에서 50까지 1차 방정식 그래프\n",
    "# plt.plot(point, -4.66*point + 0.80, c='red')\n",
    "plt.plot([-0.45, 1.57], [(-0.45)*lr.coef_+lr.intercept_, (1.57)*lr.coef_+lr.intercept_], c='red')\n",
    "\n",
    "# 50cm 생선최소값: -0.45 최대값: -0.45\n",
    "# plt.scatter(50, 1241.8, marker='^')\n",
    "\n",
    "plt.show()"
   ]
  },
  {
   "cell_type": "code",
   "execution_count": 634,
   "metadata": {},
   "outputs": [
    {
     "name": "stdout",
     "output_type": "stream",
     "text": [
      "LinearRegression() : [0.7647351515598414, 0.7647351515598414, 0.7647351515598414, 0.7647351515598414, 0.7647351515598414, 0.7647351515598414, 0.7647351515598414, 0.7647351515598414, 0.7647351515598414, 0.7647351515598414]\n",
      "DecisionTreeRegressor() : [1.0, 1.0, 1.0, 1.0, 1.0, 1.0, 1.0, 1.0, 1.0, 1.0]\n",
      "RandomForestRegressor() : [0.9973228860477708, 0.9979425553240014, 0.9979313584402965, 0.9975295754602993, 0.9973308201709272, 0.9981573154250812, 0.9980346309034853, 0.9978891714875309, 0.9975432988619654, 0.9976659192328083]\n",
      "AdaBoostRegressor() : [0.9768127636733054, 0.9822537653523767, 0.9903829479768786, 1.0, 1.0, 0.9903829479768786, 0.9903829479768786, 0.9937400056438717, 0.9874800112877434, 0.9841229536207503]\n",
      "GaussianProcessRegressor() : [0.9592950351960919, 0.9592950351960919, 0.9592950351960919, 0.9592950351960919, 0.9592950351960919, 0.9592950351960919, 0.9592950351960919, 0.9592950351960919, 0.9592950351960919, 0.9592950351960919]\n",
      "MLPRegressor() : [0.7777419657060392, 0.7982461586599373, 0.7856823311428526, 0.8169749762723522, 0.7826394534002608, 0.8039709449675024, 0.7755385765637188, 0.7995056292525826, 0.7904391207702343, 0.7485219525750723]\n"
     ]
    },
    {
     "data": {
      "text/plain": [
       "[0.7777419657060392,\n",
       " 0.7982461586599373,\n",
       " 0.7856823311428526,\n",
       " 0.8169749762723522,\n",
       " 0.7826394534002608,\n",
       " 0.8039709449675024,\n",
       " 0.7755385765637188,\n",
       " 0.7995056292525826,\n",
       " 0.7904391207702343,\n",
       " 0.7485219525750723]"
      ]
     },
     "execution_count": 634,
     "metadata": {},
     "output_type": "execute_result"
    }
   ],
   "source": [
    "ml_list = [LinearRegression(), DecisionTreeRegressor(), RandomForestRegressor(), AdaBoostRegressor(), GaussianProcessRegressor(), MLPRegressor()]\n",
    "for ml in ml_list:\n",
    "    ml_cv_scores = cross_validation(ml, train_input, train_target)\n",
    "    print(ml, ':', ml_cv_scores)\n",
    "ml_cv_scores"
   ]
  },
  {
   "cell_type": "code",
   "execution_count": 635,
   "metadata": {},
   "outputs": [
    {
     "data": {
      "text/html": [
       "<div>\n",
       "<style scoped>\n",
       "    .dataframe tbody tr th:only-of-type {\n",
       "        vertical-align: middle;\n",
       "    }\n",
       "\n",
       "    .dataframe tbody tr th {\n",
       "        vertical-align: top;\n",
       "    }\n",
       "\n",
       "    .dataframe thead th {\n",
       "        text-align: right;\n",
       "    }\n",
       "</style>\n",
       "<table border=\"1\" class=\"dataframe\">\n",
       "  <thead>\n",
       "    <tr style=\"text-align: right;\">\n",
       "      <th></th>\n",
       "      <th>시도</th>\n",
       "      <th>principal_col</th>\n",
       "      <th>cluster_id</th>\n",
       "    </tr>\n",
       "    <tr>\n",
       "      <th>년도</th>\n",
       "      <th></th>\n",
       "      <th></th>\n",
       "      <th></th>\n",
       "    </tr>\n",
       "  </thead>\n",
       "  <tbody>\n",
       "    <tr>\n",
       "      <th>2013</th>\n",
       "      <td>경기도</td>\n",
       "      <td>1.489293</td>\n",
       "      <td>0.00</td>\n",
       "    </tr>\n",
       "    <tr>\n",
       "      <th>2013</th>\n",
       "      <td>서울특별시</td>\n",
       "      <td>1.418400</td>\n",
       "      <td>0.33</td>\n",
       "    </tr>\n",
       "    <tr>\n",
       "      <th>2013</th>\n",
       "      <td>경상남도</td>\n",
       "      <td>0.012284</td>\n",
       "      <td>0.67</td>\n",
       "    </tr>\n",
       "    <tr>\n",
       "      <th>2013</th>\n",
       "      <td>부산광역시</td>\n",
       "      <td>0.037984</td>\n",
       "      <td>0.67</td>\n",
       "    </tr>\n",
       "    <tr>\n",
       "      <th>2013</th>\n",
       "      <td>대구광역시</td>\n",
       "      <td>-0.064086</td>\n",
       "      <td>0.67</td>\n",
       "    </tr>\n",
       "    <tr>\n",
       "      <th>...</th>\n",
       "      <td>...</td>\n",
       "      <td>...</td>\n",
       "      <td>...</td>\n",
       "    </tr>\n",
       "    <tr>\n",
       "      <th>2020</th>\n",
       "      <td>충청북도</td>\n",
       "      <td>-0.245285</td>\n",
       "      <td>1.00</td>\n",
       "    </tr>\n",
       "    <tr>\n",
       "      <th>2020</th>\n",
       "      <td>대전광역시</td>\n",
       "      <td>-0.236565</td>\n",
       "      <td>1.00</td>\n",
       "    </tr>\n",
       "    <tr>\n",
       "      <th>2020</th>\n",
       "      <td>강원도</td>\n",
       "      <td>-0.271343</td>\n",
       "      <td>1.00</td>\n",
       "    </tr>\n",
       "    <tr>\n",
       "      <th>2020</th>\n",
       "      <td>제주특별자치도</td>\n",
       "      <td>-0.359740</td>\n",
       "      <td>1.00</td>\n",
       "    </tr>\n",
       "    <tr>\n",
       "      <th>2020</th>\n",
       "      <td>세종특별자치시</td>\n",
       "      <td>-0.406634</td>\n",
       "      <td>1.00</td>\n",
       "    </tr>\n",
       "  </tbody>\n",
       "</table>\n",
       "<p>136 rows × 3 columns</p>\n",
       "</div>"
      ],
      "text/plain": [
       "           시도  principal_col  cluster_id\n",
       "년도                                      \n",
       "2013      경기도       1.489293        0.00\n",
       "2013    서울특별시       1.418400        0.33\n",
       "2013     경상남도       0.012284        0.67\n",
       "2013    부산광역시       0.037984        0.67\n",
       "2013    대구광역시      -0.064086        0.67\n",
       "...       ...            ...         ...\n",
       "2020     충청북도      -0.245285        1.00\n",
       "2020    대전광역시      -0.236565        1.00\n",
       "2020      강원도      -0.271343        1.00\n",
       "2020  제주특별자치도      -0.359740        1.00\n",
       "2020  세종특별자치시      -0.406634        1.00\n",
       "\n",
       "[136 rows x 3 columns]"
      ]
     },
     "execution_count": 635,
     "metadata": {},
     "output_type": "execute_result"
    }
   ],
   "source": [
    "df_km_pca"
   ]
  },
  {
   "cell_type": "code",
   "execution_count": 636,
   "metadata": {},
   "outputs": [
    {
     "data": {
      "text/plain": [
       "<AxesSubplot: xlabel='년도', ylabel='principal_col'>"
      ]
     },
     "execution_count": 636,
     "metadata": {},
     "output_type": "execute_result"
    },
    {
     "data": {
      "image/png": "[encoded data removed]",
      "text/plain": [
       "<Figure size 1500x500 with 2 Axes>"
      ]
     },
     "metadata": {},
     "output_type": "display_data"
    }
   ],
   "source": [
    "fig = plt.figure(figsize=(15,5))\n",
    "ax1 = fig.add_subplot(1,2,1)\n",
    "ax2 = fig.add_subplot(1,2,2)\n",
    "\n",
    "# 선형회귀선 표시 cf.regression\n",
    "sns.regplot(\n",
    "    x = 'principal_col',\n",
    "    y = 'cluster_id',\n",
    "    data=df_km_pca,\n",
    "    # scatter_kws={'color' : 'black'}, # scatter color\n",
    "    line_kws={'color' : 'red'}, # regression line color # 희미한 범위색은 표준오차(stdl)이다.\n",
    "    ax=ax1,\n",
    "    fit_reg=True\n",
    ")\n",
    "\n",
    "sns.regplot(\n",
    "    x = df_km_pca.index,\n",
    "    y = 'principal_col',\n",
    "    data=df_km_pca,\n",
    "    # scatter_kws={'color' : 'black'}, # scatter color\n",
    "    line_kws={'color' : 'red'}, # regression line color # 희미한 범위색은 표준오차(stdl)이다.\n",
    "    ax=ax2,\n",
    "    fit_reg=True\n",
    ")"
   ]
  },
  {
   "cell_type": "code",
   "execution_count": 637,
   "metadata": {},
   "outputs": [
    {
     "data": {
      "text/plain": [
       "array(['경기도', '서울특별시', '경상남도', '부산광역시', '대구광역시', '인천광역시', '전라북도', '경상북도',\n",
       "       '광주광역시', '충청남도', '전라남도', '울산광역시', '충청북도', '대전광역시', '강원도',\n",
       "       '제주특별자치도', '세종특별자치시'], dtype=object)"
      ]
     },
     "execution_count": 637,
     "metadata": {},
     "output_type": "execute_result"
    }
   ],
   "source": [
    "sido_list = df_km_pca['시도'].unique()\n",
    "sido_list"
   ]
  },
  {
   "cell_type": "code",
   "execution_count": 638,
   "metadata": {},
   "outputs": [],
   "source": [
    "for sido in sido_list:\n",
    "    df_km_pca_temp = df_km_pca[df_km_pca['시도'] == sido]"
   ]
  },
  {
   "cell_type": "code",
   "execution_count": 639,
   "metadata": {},
   "outputs": [
    {
     "data": {
      "text/html": [
       "<div>\n",
       "<style scoped>\n",
       "    .dataframe tbody tr th:only-of-type {\n",
       "        vertical-align: middle;\n",
       "    }\n",
       "\n",
       "    .dataframe tbody tr th {\n",
       "        vertical-align: top;\n",
       "    }\n",
       "\n",
       "    .dataframe thead th {\n",
       "        text-align: right;\n",
       "    }\n",
       "</style>\n",
       "<table border=\"1\" class=\"dataframe\">\n",
       "  <thead>\n",
       "    <tr style=\"text-align: right;\">\n",
       "      <th></th>\n",
       "      <th>시도</th>\n",
       "      <th>principal_col</th>\n",
       "      <th>cluster_id</th>\n",
       "    </tr>\n",
       "    <tr>\n",
       "      <th>년도</th>\n",
       "      <th></th>\n",
       "      <th></th>\n",
       "      <th></th>\n",
       "    </tr>\n",
       "  </thead>\n",
       "  <tbody>\n",
       "    <tr>\n",
       "      <th>2013</th>\n",
       "      <td>세종특별자치시</td>\n",
       "      <td>-0.453613</td>\n",
       "      <td>1.0</td>\n",
       "    </tr>\n",
       "    <tr>\n",
       "      <th>2014</th>\n",
       "      <td>세종특별자치시</td>\n",
       "      <td>-0.447312</td>\n",
       "      <td>1.0</td>\n",
       "    </tr>\n",
       "    <tr>\n",
       "      <th>2015</th>\n",
       "      <td>세종특별자치시</td>\n",
       "      <td>-0.435691</td>\n",
       "      <td>1.0</td>\n",
       "    </tr>\n",
       "    <tr>\n",
       "      <th>2016</th>\n",
       "      <td>세종특별자치시</td>\n",
       "      <td>-0.428720</td>\n",
       "      <td>1.0</td>\n",
       "    </tr>\n",
       "    <tr>\n",
       "      <th>2017</th>\n",
       "      <td>세종특별자치시</td>\n",
       "      <td>-0.422290</td>\n",
       "      <td>1.0</td>\n",
       "    </tr>\n",
       "    <tr>\n",
       "      <th>2018</th>\n",
       "      <td>세종특별자치시</td>\n",
       "      <td>-0.415248</td>\n",
       "      <td>1.0</td>\n",
       "    </tr>\n",
       "    <tr>\n",
       "      <th>2019</th>\n",
       "      <td>세종특별자치시</td>\n",
       "      <td>-0.410295</td>\n",
       "      <td>1.0</td>\n",
       "    </tr>\n",
       "    <tr>\n",
       "      <th>2020</th>\n",
       "      <td>세종특별자치시</td>\n",
       "      <td>-0.406634</td>\n",
       "      <td>1.0</td>\n",
       "    </tr>\n",
       "  </tbody>\n",
       "</table>\n",
       "</div>"
      ],
      "text/plain": [
       "           시도  principal_col  cluster_id\n",
       "년도                                      \n",
       "2013  세종특별자치시      -0.453613         1.0\n",
       "2014  세종특별자치시      -0.447312         1.0\n",
       "2015  세종특별자치시      -0.435691         1.0\n",
       "2016  세종특별자치시      -0.428720         1.0\n",
       "2017  세종특별자치시      -0.422290         1.0\n",
       "2018  세종특별자치시      -0.415248         1.0\n",
       "2019  세종특별자치시      -0.410295         1.0\n",
       "2020  세종특별자치시      -0.406634         1.0"
      ]
     },
     "execution_count": 639,
     "metadata": {},
     "output_type": "execute_result"
    }
   ],
   "source": [
    "df_km_pca_temp"
   ]
  },
  {
   "cell_type": "code",
   "execution_count": 640,
   "metadata": {},
   "outputs": [
    {
     "data": {
      "image/png": "[encoded data removed]",
      "text/plain": [
       "<Figure size 1500x500 with 2 Axes>"
      ]
     },
     "metadata": {},
     "output_type": "display_data"
    }
   ],
   "source": [
    "fig = plt.figure(figsize=(15,5))\n",
    "ax1 = fig.add_subplot(1,2,1)\n",
    "ax2 = fig.add_subplot(1,2,2)\n",
    "\n",
    "for sido in sido_list:\n",
    "    df_km_pca_temp = df_km_pca[df_km_pca['시도'] == sido]\n",
    "    sns.regplot(\n",
    "        x = df_km_pca_temp.index,\n",
    "        y = 'principal_col',\n",
    "        data=df_km_pca_temp,\n",
    "        # scatter_kws={'color' : 'black'}, # scatter color\n",
    "        line_kws={'color' : 'red'}, # regression line color # 희미한 범위색은 표준오차(stdl)이다.\n",
    "        ax=ax2,\n",
    "        fit_reg=True\n",
    "    )"
   ]
  },
  {
   "attachments": {},
   "cell_type": "markdown",
   "metadata": {},
   "source": [
    "----\n",
    "----\n",
    "----\n",
    "----\n",
    "----\n",
    "----"
   ]
  },
  {
   "cell_type": "markdown",
   "metadata": {},
   "source": [
    "----\n",
    "### Decision Model"
   ]
  },
  {
   "cell_type": "code",
   "execution_count": 641,
   "metadata": {},
   "outputs": [
    {
     "ename": "ValueError",
     "evalue": "Unknown label type: 'continuous'",
     "output_type": "error",
     "traceback": [
      "\u001b[0;31m---------------------------------------------------------------------------\u001b[0m",
      "\u001b[0;31mValueError\u001b[0m                                Traceback (most recent call last)",
      "Cell \u001b[0;32mIn[641], line 4\u001b[0m\n\u001b[1;32m      2\u001b[0m \u001b[39mfrom\u001b[39;00m \u001b[39msklearn\u001b[39;00m\u001b[39m.\u001b[39;00m\u001b[39mtree\u001b[39;00m \u001b[39mimport\u001b[39;00m DecisionTreeClassifier\n\u001b[1;32m      3\u001b[0m dt \u001b[39m=\u001b[39m DecisionTreeClassifier()  \u001b[39m# random_state=42\u001b[39;00m\n\u001b[0;32m----> 4\u001b[0m dt\u001b[39m.\u001b[39;49mfit(sub_input, sub_target)\n\u001b[1;32m      6\u001b[0m \u001b[39mprint\u001b[39m(\u001b[39m\"\u001b[39m\u001b[39mTrain score :\u001b[39m\u001b[39m\"\u001b[39m, dt\u001b[39m.\u001b[39mscore(sub_input, sub_target))\n\u001b[1;32m      7\u001b[0m \u001b[39mprint\u001b[39m(\u001b[39m\"\u001b[39m\u001b[39mValid score :\u001b[39m\u001b[39m\"\u001b[39m, dt\u001b[39m.\u001b[39mscore(val_input, val_target))\n",
      "File \u001b[0;32m~/miniforge3/envs/tensorflow/lib/python3.9/site-packages/sklearn/tree/_classes.py:889\u001b[0m, in \u001b[0;36mDecisionTreeClassifier.fit\u001b[0;34m(self, X, y, sample_weight, check_input)\u001b[0m\n\u001b[1;32m    859\u001b[0m \u001b[39mdef\u001b[39;00m \u001b[39mfit\u001b[39m(\u001b[39mself\u001b[39m, X, y, sample_weight\u001b[39m=\u001b[39m\u001b[39mNone\u001b[39;00m, check_input\u001b[39m=\u001b[39m\u001b[39mTrue\u001b[39;00m):\n\u001b[1;32m    860\u001b[0m \u001b[39m    \u001b[39m\u001b[39m\"\"\"Build a decision tree classifier from the training set (X, y).\u001b[39;00m\n\u001b[1;32m    861\u001b[0m \n\u001b[1;32m    862\u001b[0m \u001b[39m    Parameters\u001b[39;00m\n\u001b[0;32m   (...)\u001b[0m\n\u001b[1;32m    886\u001b[0m \u001b[39m        Fitted estimator.\u001b[39;00m\n\u001b[1;32m    887\u001b[0m \u001b[39m    \"\"\"\u001b[39;00m\n\u001b[0;32m--> 889\u001b[0m     \u001b[39msuper\u001b[39;49m()\u001b[39m.\u001b[39;49mfit(\n\u001b[1;32m    890\u001b[0m         X,\n\u001b[1;32m    891\u001b[0m         y,\n\u001b[1;32m    892\u001b[0m         sample_weight\u001b[39m=\u001b[39;49msample_weight,\n\u001b[1;32m    893\u001b[0m         check_input\u001b[39m=\u001b[39;49mcheck_input,\n\u001b[1;32m    894\u001b[0m     )\n\u001b[1;32m    895\u001b[0m     \u001b[39mreturn\u001b[39;00m \u001b[39mself\u001b[39m\n",
      "File \u001b[0;32m~/miniforge3/envs/tensorflow/lib/python3.9/site-packages/sklearn/tree/_classes.py:224\u001b[0m, in \u001b[0;36mBaseDecisionTree.fit\u001b[0;34m(self, X, y, sample_weight, check_input)\u001b[0m\n\u001b[1;32m    221\u001b[0m \u001b[39mself\u001b[39m\u001b[39m.\u001b[39mn_outputs_ \u001b[39m=\u001b[39m y\u001b[39m.\u001b[39mshape[\u001b[39m1\u001b[39m]\n\u001b[1;32m    223\u001b[0m \u001b[39mif\u001b[39;00m is_classification:\n\u001b[0;32m--> 224\u001b[0m     check_classification_targets(y)\n\u001b[1;32m    225\u001b[0m     y \u001b[39m=\u001b[39m np\u001b[39m.\u001b[39mcopy(y)\n\u001b[1;32m    227\u001b[0m     \u001b[39mself\u001b[39m\u001b[39m.\u001b[39mclasses_ \u001b[39m=\u001b[39m []\n",
      "File \u001b[0;32m~/miniforge3/envs/tensorflow/lib/python3.9/site-packages/sklearn/utils/multiclass.py:207\u001b[0m, in \u001b[0;36mcheck_classification_targets\u001b[0;34m(y)\u001b[0m\n\u001b[1;32m    199\u001b[0m y_type \u001b[39m=\u001b[39m type_of_target(y, input_name\u001b[39m=\u001b[39m\u001b[39m\"\u001b[39m\u001b[39my\u001b[39m\u001b[39m\"\u001b[39m)\n\u001b[1;32m    200\u001b[0m \u001b[39mif\u001b[39;00m y_type \u001b[39mnot\u001b[39;00m \u001b[39min\u001b[39;00m [\n\u001b[1;32m    201\u001b[0m     \u001b[39m\"\u001b[39m\u001b[39mbinary\u001b[39m\u001b[39m\"\u001b[39m,\n\u001b[1;32m    202\u001b[0m     \u001b[39m\"\u001b[39m\u001b[39mmulticlass\u001b[39m\u001b[39m\"\u001b[39m,\n\u001b[0;32m   (...)\u001b[0m\n\u001b[1;32m    205\u001b[0m     \u001b[39m\"\u001b[39m\u001b[39mmultilabel-sequences\u001b[39m\u001b[39m\"\u001b[39m,\n\u001b[1;32m    206\u001b[0m ]:\n\u001b[0;32m--> 207\u001b[0m     \u001b[39mraise\u001b[39;00m \u001b[39mValueError\u001b[39;00m(\u001b[39m\"\u001b[39m\u001b[39mUnknown label type: \u001b[39m\u001b[39m%r\u001b[39;00m\u001b[39m\"\u001b[39m \u001b[39m%\u001b[39m y_type)\n",
      "\u001b[0;31mValueError\u001b[0m: Unknown label type: 'continuous'"
     ]
    }
   ],
   "source": [
    "# 모델 tree\n",
    "from sklearn.tree import DecisionTreeClassifier\n",
    "dt = DecisionTreeClassifier()  # random_state=42\n",
    "dt.fit(sub_input, sub_target)\n",
    "\n",
    "print(\"Train score :\", dt.score(sub_input, sub_target))\n",
    "print(\"Valid score :\", dt.score(val_input, val_target))"
   ]
  },
  {
   "cell_type": "code",
   "execution_count": null,
   "metadata": {},
   "outputs": [
    {
     "data": {
      "text/plain": [
       "{'fit_time': array([0.00073981, 0.00046682, 0.00039816, 0.00031996, 0.00032496]),\n",
       " 'score_time': array([0.00040483, 0.0002811 , 0.00019503, 0.00017881, 0.00017095]),\n",
       " 'test_score': array([1., 1., 1., 1., 1.])}"
      ]
     },
     "metadata": {},
     "output_type": "display_data"
    }
   ],
   "source": [
    "# 교차 검증\n",
    "from sklearn.model_selection import cross_validate\n",
    "scores = cross_validate(dt, train_input, train_target)\n",
    "scores"
   ]
  },
  {
   "cell_type": "code",
   "execution_count": null,
   "metadata": {},
   "outputs": [
    {
     "data": {
      "text/plain": [
       "1.0"
      ]
     },
     "metadata": {},
     "output_type": "display_data"
    }
   ],
   "source": [
    "# 교차검증 후의 정확도 판단\n",
    "import numpy as np\n",
    "np.mean(scores['test_score'])"
   ]
  },
  {
   "cell_type": "code",
   "execution_count": null,
   "metadata": {},
   "outputs": [
    {
     "data": {
      "text/plain": [
       "array([0, 1, 1, 1, 3, 3, 3, 1, 2, 1, 1, 1, 1, 3, 1, 1, 1, 1, 1, 1, 1, 1,\n",
       "       1, 1, 3, 1, 0, 1, 1, 2, 3, 3, 3, 3, 3, 1, 3, 1, 3, 3, 3, 3, 1, 3,\n",
       "       0, 2, 1, 1, 1, 3, 1, 1, 3, 1, 1, 1, 1, 1, 1, 1, 1, 1, 3, 3, 0, 1,\n",
       "       3, 1, 2, 1, 1, 0, 1, 1, 1, 2, 1, 3, 3, 1, 3, 3, 1, 3, 1, 1, 1, 1,\n",
       "       3, 3, 1, 1, 1, 1, 1, 1, 3, 1, 3, 3, 3, 1, 3, 1, 1, 0, 1, 2],\n",
       "      dtype=int32)"
      ]
     },
     "metadata": {},
     "output_type": "display_data"
    }
   ],
   "source": [
    "dt.predict(train_input)"
   ]
  },
  {
   "cell_type": "markdown",
   "metadata": {},
   "source": [
    "----\n",
    "### Random Forest"
   ]
  },
  {
   "cell_type": "code",
   "execution_count": null,
   "metadata": {},
   "outputs": [
    {
     "name": "stdout",
     "output_type": "stream",
     "text": [
      "Train score : 1.0\n",
      "Valid score : 1.0\n"
     ]
    }
   ],
   "source": [
    "# RandomForest\n",
    "from sklearn.model_selection import cross_validate\n",
    "from sklearn.ensemble import RandomForestClassifier\n",
    "\n",
    "rf = RandomForestClassifier(n_jobs=-1) # default:100 # random_state=42\n",
    "rf.fit(sub_input, sub_target)\n",
    "\n",
    "print(\"Train score :\", rf.score(sub_input, sub_target))\n",
    "print(\"Valid score :\", rf.score(val_input, val_target))"
   ]
  },
  {
   "cell_type": "code",
   "execution_count": null,
   "metadata": {},
   "outputs": [
    {
     "data": {
      "text/plain": [
       "{'fit_time': array([0.04317784, 0.03798604, 0.03801394, 0.0378592 , 0.04014325]),\n",
       " 'score_time': array([0.00655007, 0.00646925, 0.00697088, 0.00694203, 0.00744295]),\n",
       " 'test_score': array([1., 1., 1., 1., 1.])}"
      ]
     },
     "metadata": {},
     "output_type": "display_data"
    }
   ],
   "source": [
    "# 교차 검증\n",
    "from sklearn.model_selection import cross_validate\n",
    "scores = cross_validate(rf, train_input, train_target)\n",
    "scores"
   ]
  },
  {
   "cell_type": "code",
   "execution_count": null,
   "metadata": {},
   "outputs": [
    {
     "data": {
      "text/plain": [
       "1.0"
      ]
     },
     "metadata": {},
     "output_type": "display_data"
    }
   ],
   "source": [
    "# 교차검증 후의 정확도 판단\n",
    "import numpy as np\n",
    "np.mean(scores['test_score'])"
   ]
  },
  {
   "cell_type": "code",
   "execution_count": null,
   "metadata": {},
   "outputs": [
    {
     "data": {
      "text/plain": [
       "array([1, 1, 2, 1, 1, 1, 3, 1, 1, 1, 3, 3, 3, 0, 1, 1, 0, 1, 3, 1, 1, 1,\n",
       "       1, 2, 3, 1, 3, 3], dtype=int32)"
      ]
     },
     "metadata": {},
     "output_type": "display_data"
    }
   ],
   "source": [
    "rf.predict(test_input)"
   ]
  },
  {
   "cell_type": "markdown",
   "metadata": {},
   "source": [
    "> ## Classfication 정확도가 높으므로 Regression으로 시도해보자"
   ]
  },
  {
   "cell_type": "code",
   "execution_count": null,
   "metadata": {},
   "outputs": [],
   "source": [
    "# # KNN\n",
    "# from sklearn.neighbors import KNeighborsClassifier\n",
    "# clf = KNeighborsClassifier(n_neighbors=3)\n",
    "# clf.fit(train_input, train_target)\n",
    "# clf.score(test_input, test_target)"
   ]
  },
  {
   "cell_type": "markdown",
   "metadata": {},
   "source": [
    "----\n",
    "----\n",
    "# Regression\n",
    "1. cluster_id : [0, 1, 2, 3] -> [0 ~ 1] 변환\n",
    "2. Regression 진행"
   ]
  },
  {
   "cell_type": "markdown",
   "metadata": {},
   "source": [
    "### cluster_id : [0, 1, 2, 3] -> [0 ~ 1] 변환"
   ]
  },
  {
   "cell_type": "code",
   "execution_count": null,
   "metadata": {},
   "outputs": [
    {
     "data": {
      "text/plain": [
       "array([0.  , 0.33, 0.67, 1.  ])"
      ]
     },
     "metadata": {},
     "output_type": "display_data"
    }
   ],
   "source": [
    "df_km['cluster_id'] = df_km['cluster_id'] + 10\n",
    "df_km_temp = df_km.sort_values(by='전출인구', ascending=True)\n",
    "temp_list = df_km_temp['cluster_id'].unique()\n",
    "\n",
    "i = 3\n",
    "for temp in temp_list:\n",
    "    df_km['cluster_id'][df_km['cluster_id'] == temp] = i\n",
    "    i-=1\n",
    "df_km['cluster_id'] = np.round(df_km['cluster_id'] / 3, 2)\n",
    "df_km['cluster_id'].unique()"
   ]
  },
  {
   "cell_type": "code",
   "execution_count": null,
   "metadata": {},
   "outputs": [
    {
     "data": {
      "image/png": "[encoded data removed]",
      "text/plain": [
       "<Figure size 583x500 with 1 Axes>"
      ]
     },
     "metadata": {},
     "output_type": "display_data"
    }
   ],
   "source": [
    "sns.lmplot(x='출생아수', y='전출인구',\n",
    "            data=df_km, fit_reg=False,\n",
    "            scatter_kws={'s':200},\n",
    "            hue=\"cluster_id\"\n",
    ")\n",
    "plt.show()"
   ]
  },
  {
   "cell_type": "code",
   "execution_count": null,
   "metadata": {},
   "outputs": [],
   "source": [
    "# Feature, Target\n",
    "data = df_km[['전출인구', '출생아수', '산부인과의원수', '초등학생인원수', '도매 및 소매업 신생', '예금은행대출금액', '예금액']].to_numpy()\n",
    "target = df_km['cluster_id'].to_numpy()"
   ]
  },
  {
   "cell_type": "markdown",
   "metadata": {},
   "source": [
    "----\n",
    "### 검증 세트 추가\n",
    "- 훈련(60%), 검증(20%), 테스트(20%)"
   ]
  },
  {
   "cell_type": "code",
   "execution_count": null,
   "metadata": {},
   "outputs": [],
   "source": [
    "from sklearn.model_selection import train_test_split\n",
    "train_input, test_input, train_target, test_target = \\\n",
    "    train_test_split(data, target, test_size=0.2) # random_state=42,  stratify=target"
   ]
  },
  {
   "cell_type": "code",
   "execution_count": null,
   "metadata": {},
   "outputs": [],
   "source": [
    "sub_input, val_input, sub_target, val_target = \\\n",
    "    train_test_split(train_input, train_target, test_size=0.2, stratify=train_target) # random_state=42"
   ]
  },
  {
   "cell_type": "code",
   "execution_count": null,
   "metadata": {},
   "outputs": [
    {
     "name": "stdout",
     "output_type": "stream",
     "text": [
      "Train : (86, 7)\n",
      "Valid : (22, 7)\n",
      "Test  : (28, 7)\n"
     ]
    }
   ],
   "source": [
    "# 세트 별 크기\n",
    "print(\"Train :\", sub_input.shape)\n",
    "print(\"Valid :\", val_input.shape)\n",
    "print(\"Test  :\", test_input.shape)"
   ]
  },
  {
   "cell_type": "markdown",
   "metadata": {},
   "source": [
    "----\n",
    "### Decision Model"
   ]
  },
  {
   "cell_type": "code",
   "execution_count": null,
   "metadata": {},
   "outputs": [
    {
     "name": "stdout",
     "output_type": "stream",
     "text": [
      "Train score : 1.0\n",
      "Valid score : 1.0\n"
     ]
    }
   ],
   "source": [
    "# 모델 tree\n",
    "from sklearn.tree import DecisionTreeRegressor\n",
    "dt = DecisionTreeRegressor()  # random_state=42\n",
    "dt.fit(sub_input, sub_target)\n",
    "\n",
    "print(\"Train score :\", dt.score(sub_input, sub_target))\n",
    "print(\"Valid score :\", dt.score(val_input, val_target))"
   ]
  },
  {
   "cell_type": "code",
   "execution_count": null,
   "metadata": {},
   "outputs": [
    {
     "data": {
      "text/plain": [
       "{'fit_time': array([0.00137115, 0.00087714, 0.00036788, 0.00030088, 0.00050712]),\n",
       " 'score_time': array([0.00027394, 0.00030494, 0.00016189, 0.00016284, 0.00018001]),\n",
       " 'test_score': array([0.94774244, 0.95286688, 1.        , 1.        , 1.        ])}"
      ]
     },
     "metadata": {},
     "output_type": "display_data"
    }
   ],
   "source": [
    "# 교차 검증\n",
    "from sklearn.model_selection import cross_validate\n",
    "scores = cross_validate(dt, train_input, train_target)\n",
    "scores"
   ]
  },
  {
   "cell_type": "code",
   "execution_count": null,
   "metadata": {},
   "outputs": [
    {
     "data": {
      "text/plain": [
       "0.9801218646387161"
      ]
     },
     "metadata": {},
     "output_type": "display_data"
    }
   ],
   "source": [
    "# 교차검증 후의 정확도 판단\n",
    "import numpy as np\n",
    "np.mean(scores['test_score'])"
   ]
  },
  {
   "cell_type": "code",
   "execution_count": null,
   "metadata": {},
   "outputs": [
    {
     "data": {
      "text/plain": [
       "array([1.  , 1.  , 1.  , 1.  , 1.  , 0.67, 0.67, 1.  , 0.67, 1.  , 0.67,\n",
       "       1.  , 0.67, 0.67, 1.  , 0.67, 1.  , 0.33, 0.  , 0.  , 1.  , 1.  ,\n",
       "       1.  , 1.  , 0.  , 1.  , 0.67, 1.  , 0.  , 1.  , 1.  , 1.  , 0.33,\n",
       "       1.  , 0.67, 1.  , 1.  , 0.67, 0.67, 1.  , 0.33, 1.  , 1.  , 0.67,\n",
       "       1.  , 1.  , 0.67, 0.67, 0.67, 0.67, 1.  , 0.33, 1.  , 1.  , 0.67,\n",
       "       1.  , 0.33, 0.67, 1.  , 1.  , 0.67, 1.  , 1.  , 1.  , 1.  , 0.67,\n",
       "       1.  , 1.  , 1.  , 0.67, 0.67, 1.  , 1.  , 1.  , 0.67, 0.  , 1.  ,\n",
       "       0.67, 1.  , 1.  , 1.  , 0.67, 1.  , 0.67, 0.67, 0.67, 1.  , 0.67,\n",
       "       1.  , 0.33, 0.67, 1.  , 1.  , 1.  , 0.67, 0.67, 0.67, 1.  , 0.67,\n",
       "       0.67, 1.  , 1.  , 0.67, 1.  , 1.  , 1.  , 0.  , 0.67])"
      ]
     },
     "metadata": {},
     "output_type": "display_data"
    }
   ],
   "source": [
    "dt.predict(train_input)"
   ]
  },
  {
   "cell_type": "markdown",
   "metadata": {},
   "source": [
    "----\n",
    "### Random Forest"
   ]
  },
  {
   "cell_type": "code",
   "execution_count": null,
   "metadata": {},
   "outputs": [
    {
     "name": "stdout",
     "output_type": "stream",
     "text": [
      "Train score : 0.9990279478260747\n",
      "Valid score : 0.9982068083323835\n"
     ]
    }
   ],
   "source": [
    "# RandomForest\n",
    "from sklearn.model_selection import cross_validate\n",
    "from sklearn.ensemble import RandomForestRegressor\n",
    "\n",
    "rf = RandomForestRegressor(n_jobs=-1) # default:100 # random_state=42\n",
    "rf.fit(sub_input, sub_target)\n",
    "\n",
    "print(\"Train score :\", rf.score(sub_input, sub_target))\n",
    "print(\"Valid score :\", rf.score(val_input, val_target))"
   ]
  },
  {
   "cell_type": "code",
   "execution_count": null,
   "metadata": {},
   "outputs": [
    {
     "data": {
      "text/plain": [
       "{'fit_time': array([0.04407716, 0.03859782, 0.03933501, 0.03601933, 0.03644705]),\n",
       " 'score_time': array([0.00625896, 0.00579906, 0.00585699, 0.00518894, 0.00509214]),\n",
       " 'test_score': array([0.99352798, 0.99119082, 0.99060723, 0.99356399, 0.99740895])}"
      ]
     },
     "metadata": {},
     "output_type": "display_data"
    }
   ],
   "source": [
    "# 교차 검증\n",
    "from sklearn.model_selection import cross_validate\n",
    "scores = cross_validate(rf, train_input, train_target)\n",
    "scores"
   ]
  },
  {
   "cell_type": "code",
   "execution_count": null,
   "metadata": {},
   "outputs": [
    {
     "data": {
      "text/plain": [
       "0.9932597929507022"
      ]
     },
     "metadata": {},
     "output_type": "display_data"
    }
   ],
   "source": [
    "# 교차검증 후의 정확도 판단\n",
    "import numpy as np\n",
    "np.mean(scores['test_score'])"
   ]
  },
  {
   "cell_type": "code",
   "execution_count": null,
   "metadata": {},
   "outputs": [
    {
     "data": {
      "text/plain": [
       "array([0.0066, 1.    , 1.    , 1.    , 1.    , 1.    , 1.    , 0.9538,\n",
       "       1.    , 1.    , 0.9934, 1.    , 1.    , 1.    , 0.2871, 0.67  ,\n",
       "       1.    , 0.67  , 1.    , 1.    , 0.9967, 0.9967, 0.3236, 1.    ,\n",
       "       1.    , 0.    , 1.    , 0.67  ])"
      ]
     },
     "metadata": {},
     "output_type": "display_data"
    }
   ],
   "source": [
    "rf.predict(test_input)"
   ]
  },
  {
   "cell_type": "code",
   "execution_count": null,
   "metadata": {},
   "outputs": [
    {
     "data": {
      "text/plain": [
       "array([[1.871621e+06, 8.817500e+04, 2.680000e+02, 7.524990e+05,\n",
       "        4.936400e+04, 3.505536e+05, 2.368040e+04],\n",
       "       [1.522280e+05, 7.539000e+03, 3.300000e+01, 6.851200e+04,\n",
       "        3.486000e+03, 2.849510e+04, 1.664630e+04],\n",
       "       [2.088310e+05, 9.333000e+03, 4.000000e+01, 8.670900e+04,\n",
       "        5.918000e+03, 2.639990e+04, 2.555550e+04],\n",
       "       [9.219300e+04, 5.494000e+03, 2.100000e+01, 3.827200e+04,\n",
       "        2.886000e+03, 1.254820e+04, 5.708100e+03],\n",
       "       [1.510900e+04, 1.111000e+03, 2.000000e+00, 7.090000e+03,\n",
       "        4.260000e+02, 2.429100e+03, 1.441735e+05],\n",
       "       [2.262840e+05, 1.066200e+04, 3.200000e+01, 8.045800e+04,\n",
       "        5.432000e+03, 1.418470e+04, 1.512430e+04],\n",
       "       [2.483970e+05, 1.396200e+04, 5.000000e+01, 9.159900e+04,\n",
       "        7.085000e+03, 2.580470e+04, 2.569250e+04],\n",
       "       [2.769000e+05, 1.423100e+04, 5.400000e+01, 1.018600e+05,\n",
       "        7.545000e+03, 2.462590e+04, 1.730330e+04],\n",
       "       [2.526070e+05, 1.269800e+04, 5.200000e+01, 9.789500e+04,\n",
       "        7.233000e+03, 2.733010e+04, 2.011250e+04],\n",
       "       [9.203000e+04, 4.500000e+03, 2.300000e+01, 4.106800e+04,\n",
       "        2.758000e+03, 1.828110e+04, 1.164680e+04],\n",
       "       [2.322460e+05, 7.318000e+03, 3.600000e+01, 8.641900e+04,\n",
       "        5.810000e+03, 4.216130e+04, 2.857370e+04],\n",
       "       [2.251080e+05, 9.105000e+03, 3.700000e+01, 8.862200e+04,\n",
       "        5.652000e+03, 3.347550e+04, 2.410440e+04],\n",
       "       [2.210740e+05, 1.158000e+04, 3.900000e+01, 8.909500e+04,\n",
       "        6.228000e+03, 3.035420e+04, 2.406740e+04],\n",
       "       [1.471160e+05, 9.381000e+03, 3.200000e+01, 6.601600e+04,\n",
       "        4.001000e+03, 2.694920e+04, 1.589940e+04],\n",
       "       [1.726687e+06, 8.300500e+04, 3.890000e+02, 4.506750e+05,\n",
       "        4.459900e+04, 5.255291e+05, 6.003911e+05],\n",
       "       [3.657390e+05, 1.936100e+04, 8.500000e+01, 1.317650e+05,\n",
       "        1.074400e+04, 5.321400e+04, 4.220320e+04],\n",
       "       [2.292880e+05, 1.272900e+04, 4.500000e+01, 9.605500e+04,\n",
       "        6.342000e+03, 2.308280e+04, 1.804160e+04],\n",
       "       [4.101800e+05, 2.713800e+04, 6.400000e+01, 1.853250e+05,\n",
       "        1.206600e+04, 7.233300e+04, 9.587600e+03],\n",
       "       [2.223520e+05, 1.092900e+04, 3.300000e+01, 7.841400e+04,\n",
       "        5.570000e+03, 1.546490e+04, 1.628540e+04],\n",
       "       [2.131880e+05, 1.356300e+04, 4.700000e+01, 8.529000e+04,\n",
       "        5.944000e+03, 2.104460e+04, 2.246210e+04],\n",
       "       [2.714460e+05, 1.730200e+04, 4.600000e+01, 1.153090e+05,\n",
       "        7.956000e+03, 3.382880e+04, 2.102070e+04],\n",
       "       [2.796800e+05, 1.860400e+04, 4.600000e+01, 1.154840e+05,\n",
       "        7.772000e+03, 3.225500e+04, 2.005520e+04],\n",
       "       [1.642977e+06, 4.744500e+04, 3.850000e+02, 4.095360e+05,\n",
       "        4.958100e+04, 7.261641e+05, 8.983718e+05],\n",
       "       [8.139600e+04, 5.526000e+03, 2.000000e+01, 3.791500e+04,\n",
       "        2.581000e+03, 8.312300e+03, 1.667400e+03],\n",
       "       [3.095000e+04, 2.708000e+03, 4.000000e+00, 1.335300e+04,\n",
       "        7.120000e+02, 5.215000e+03, 1.692154e+05],\n",
       "       [1.834379e+06, 1.121690e+05, 2.770000e+02, 7.323070e+05,\n",
       "        5.166100e+04, 2.684946e+05, 1.480870e+04],\n",
       "       [5.867400e+04, 3.819000e+03, 7.000000e+00, 2.789200e+04,\n",
       "        1.080000e+03, 8.803900e+03, 2.230434e+05],\n",
       "       [5.205910e+05, 2.664500e+04, 7.400000e+01, 1.542830e+05,\n",
       "        1.313300e+04, 9.210950e+04, 7.315640e+04]])"
      ]
     },
     "metadata": {},
     "output_type": "display_data"
    }
   ],
   "source": [
    "test_input"
   ]
  },
  {
   "cell_type": "code",
   "execution_count": null,
   "metadata": {},
   "outputs": [
    {
     "data": {
      "text/plain": [
       "array([0.1563])"
      ]
     },
     "metadata": {},
     "output_type": "display_data"
    }
   ],
   "source": [
    "rf.predict([[3.131880e+05, 6.773700e+04, 2.650000e+02, 7.617310e+05,\n",
    "       6.314500e+04, 4.198318e+05, 2.493950e+04]])"
   ]
  },
  {
   "cell_type": "code",
   "execution_count": null,
   "metadata": {},
   "outputs": [],
   "source": [
    "# # RandomForest\n",
    "# from sklearn.model_selection import cross_validate\n",
    "# from sklearn.ensemble import RandomForestClassifier\n",
    "\n",
    "# rf = RandomForestClassifier(n_jobs=-1, random_state=42) # default:100\n",
    "# scores = cross_validate(rf, train_input, train_target, return_train_score=True, n_jobs=-1) # 크로스밸리데이션 쓰려면 모델부터 만들어놔야한다 # return_train_score=True > 그래야 점수를 알 수 있다.\n",
    "# print(np.mean(scores['train_score']), np.mean(scores['test_score']))"
   ]
  },
  {
   "cell_type": "markdown",
   "metadata": {},
   "source": [
    "----\n",
    "----\n",
    "### KFold를 이용한 방법"
   ]
  },
  {
   "cell_type": "code",
   "execution_count": null,
   "metadata": {},
   "outputs": [],
   "source": [
    "# from sklearn.model_selection import StratifiedKFold\n",
    "# splitter = StratifiedKFold() # default : 5\n",
    "# scores = cross_validate(dt, train_input, train_target, cv=splitter)\n",
    "# scores"
   ]
  },
  {
   "cell_type": "code",
   "execution_count": null,
   "metadata": {},
   "outputs": [],
   "source": [
    "# np.mean(scores['test_score'])"
   ]
  },
  {
   "cell_type": "code",
   "execution_count": null,
   "metadata": {},
   "outputs": [],
   "source": [
    "# # KFold의 Fold 중 10개로 나누어서 교차검증\n",
    "# splitter = StratifiedKFold(n_splits=10, shuffle=True, random_state=42) # default : 5\n",
    "# scores = cross_validate(dt, train_input, train_target, cv=splitter)\n",
    "# scores"
   ]
  },
  {
   "cell_type": "code",
   "execution_count": null,
   "metadata": {},
   "outputs": [],
   "source": [
    "# np.mean(scores['test_score'])"
   ]
  },
  {
   "cell_type": "markdown",
   "metadata": {},
   "source": [
    "> 0.963 (n_splits=10)"
   ]
  },
  {
   "cell_type": "code",
   "execution_count": null,
   "metadata": {},
   "outputs": [],
   "source": []
  }
 ],
 "metadata": {
  "kernelspec": {
   "display_name": "tensorflow",
   "language": "python",
   "name": "python3"
  },
  "language_info": {
   "codemirror_mode": {
    "name": "ipython",
    "version": 3
   },
   "file_extension": ".py",
   "mimetype": "text/x-python",
   "name": "python",
   "nbconvert_exporter": "python",
   "pygments_lexer": "ipython3",
   "version": "3.9.13"
  },
  "orig_nbformat": 4,
  "vscode": {
   "interpreter": {
    "hash": "a2b29f868d451986a4c0647d0e54b13b8f75acf913aadb998b05a67dca428959"
   }
  }
 },
 "nbformat": 4,
 "nbformat_minor": 2
}
