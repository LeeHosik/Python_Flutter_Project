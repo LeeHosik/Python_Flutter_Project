{
 "cells": [
  {
   "cell_type": "code",
   "execution_count": 556,
   "metadata": {},
   "outputs": [],
   "source": [
    "import numpy as np\n",
    "import pandas as pd\n",
    "import seaborn as sns\n",
    "import matplotlib.pyplot as plt\n",
    "from sklearn import preprocessing\n",
    "from sklearn.cluster import KMeans"
   ]
  },
  {
   "cell_type": "code",
   "execution_count": 557,
   "metadata": {},
   "outputs": [],
   "source": [
    "# warning 숨기기\n",
    "import warnings\n",
    "warnings.filterwarnings('ignore')\n",
    "\n",
    "# 한글 폰트 문제 해결\n",
    "import platform\n",
    "from matplotlib import font_manager, rc\n",
    "plt.rcParams['axes.unicode_minus'] = False\n",
    "if platform.system() == 'Darwin':\n",
    "    rc('font', family='AppleGothic')\n",
    "elif platform.system() == 'Windows':\n",
    "    path = 'c:/Windows/Fonts/malgun.ttf'\n",
    "    font_name = font_manager.FontProperties(fname=path).get_name()\n",
    "    rc('font', family=font_name)\n",
    "else:\n",
    "    print(\"Unknown System\")"
   ]
  },
  {
   "attachments": {},
   "cell_type": "markdown",
   "metadata": {},
   "source": [
    "----\n",
    "# Data Analysis - 04\n",
    "### - ML 2nd Try"
   ]
  },
  {
   "cell_type": "code",
   "execution_count": 558,
   "metadata": {},
   "outputs": [
    {
     "data": {
      "text/html": [
       "<div>\n",
       "<style scoped>\n",
       "    .dataframe tbody tr th:only-of-type {\n",
       "        vertical-align: middle;\n",
       "    }\n",
       "\n",
       "    .dataframe tbody tr th {\n",
       "        vertical-align: top;\n",
       "    }\n",
       "\n",
       "    .dataframe thead th {\n",
       "        text-align: right;\n",
       "    }\n",
       "</style>\n",
       "<table border=\"1\" class=\"dataframe\">\n",
       "  <thead>\n",
       "    <tr style=\"text-align: right;\">\n",
       "      <th></th>\n",
       "      <th>시도</th>\n",
       "      <th>총인구</th>\n",
       "      <th>전출인구</th>\n",
       "      <th>출생아수</th>\n",
       "      <th>산부인과의원수</th>\n",
       "      <th>초등학생인원수</th>\n",
       "      <th>도매 및 소매업 신생</th>\n",
       "      <th>예금은행대출금액</th>\n",
       "      <th>예금액</th>\n",
       "    </tr>\n",
       "    <tr>\n",
       "      <th>년도</th>\n",
       "      <th></th>\n",
       "      <th></th>\n",
       "      <th></th>\n",
       "      <th></th>\n",
       "      <th></th>\n",
       "      <th></th>\n",
       "      <th></th>\n",
       "      <th></th>\n",
       "      <th></th>\n",
       "    </tr>\n",
       "  </thead>\n",
       "  <tbody>\n",
       "    <tr>\n",
       "      <th>2013</th>\n",
       "      <td>경기도</td>\n",
       "      <td>12234630</td>\n",
       "      <td>1821303</td>\n",
       "      <td>112129</td>\n",
       "      <td>286</td>\n",
       "      <td>739619</td>\n",
       "      <td>49143</td>\n",
       "      <td>248468.3</td>\n",
       "      <td>13718.5</td>\n",
       "    </tr>\n",
       "    <tr>\n",
       "      <th>2013</th>\n",
       "      <td>서울특별시</td>\n",
       "      <td>10143645</td>\n",
       "      <td>1620640</td>\n",
       "      <td>84066</td>\n",
       "      <td>395</td>\n",
       "      <td>469392</td>\n",
       "      <td>48097</td>\n",
       "      <td>462443.1</td>\n",
       "      <td>532689.2</td>\n",
       "    </tr>\n",
       "    <tr>\n",
       "      <th>2013</th>\n",
       "      <td>경상남도</td>\n",
       "      <td>3333820</td>\n",
       "      <td>423864</td>\n",
       "      <td>29504</td>\n",
       "      <td>65</td>\n",
       "      <td>190166</td>\n",
       "      <td>12612</td>\n",
       "      <td>57288.6</td>\n",
       "      <td>6703.3</td>\n",
       "    </tr>\n",
       "    <tr>\n",
       "      <th>2013</th>\n",
       "      <td>부산광역시</td>\n",
       "      <td>3527635</td>\n",
       "      <td>496161</td>\n",
       "      <td>25831</td>\n",
       "      <td>82</td>\n",
       "      <td>160821</td>\n",
       "      <td>13902</td>\n",
       "      <td>77411.6</td>\n",
       "      <td>59554.5</td>\n",
       "    </tr>\n",
       "    <tr>\n",
       "      <th>2013</th>\n",
       "      <td>대구광역시</td>\n",
       "      <td>2501588</td>\n",
       "      <td>363224</td>\n",
       "      <td>19340</td>\n",
       "      <td>86</td>\n",
       "      <td>136309</td>\n",
       "      <td>9981</td>\n",
       "      <td>46578.5</td>\n",
       "      <td>37541.7</td>\n",
       "    </tr>\n",
       "    <tr>\n",
       "      <th>...</th>\n",
       "      <td>...</td>\n",
       "      <td>...</td>\n",
       "      <td>...</td>\n",
       "      <td>...</td>\n",
       "      <td>...</td>\n",
       "      <td>...</td>\n",
       "      <td>...</td>\n",
       "      <td>...</td>\n",
       "      <td>...</td>\n",
       "    </tr>\n",
       "    <tr>\n",
       "      <th>2020</th>\n",
       "      <td>충청북도</td>\n",
       "      <td>1600837</td>\n",
       "      <td>226441</td>\n",
       "      <td>8607</td>\n",
       "      <td>40</td>\n",
       "      <td>85135</td>\n",
       "      <td>6103</td>\n",
       "      <td>28669.1</td>\n",
       "      <td>27669.5</td>\n",
       "    </tr>\n",
       "    <tr>\n",
       "      <th>2020</th>\n",
       "      <td>대전광역시</td>\n",
       "      <td>1463882</td>\n",
       "      <td>243418</td>\n",
       "      <td>7481</td>\n",
       "      <td>44</td>\n",
       "      <td>79807</td>\n",
       "      <td>6405</td>\n",
       "      <td>39341.3</td>\n",
       "      <td>38725.4</td>\n",
       "    </tr>\n",
       "    <tr>\n",
       "      <th>2020</th>\n",
       "      <td>강원도</td>\n",
       "      <td>1542840</td>\n",
       "      <td>217897</td>\n",
       "      <td>7835</td>\n",
       "      <td>32</td>\n",
       "      <td>73478</td>\n",
       "      <td>5554</td>\n",
       "      <td>22831.4</td>\n",
       "      <td>23634.2</td>\n",
       "    </tr>\n",
       "    <tr>\n",
       "      <th>2020</th>\n",
       "      <td>제주특별자치도</td>\n",
       "      <td>674635</td>\n",
       "      <td>94736</td>\n",
       "      <td>3989</td>\n",
       "      <td>23</td>\n",
       "      <td>40575</td>\n",
       "      <td>2856</td>\n",
       "      <td>20182.3</td>\n",
       "      <td>14025.4</td>\n",
       "    </tr>\n",
       "    <tr>\n",
       "      <th>2020</th>\n",
       "      <td>세종특별자치시</td>\n",
       "      <td>355831</td>\n",
       "      <td>65909</td>\n",
       "      <td>3468</td>\n",
       "      <td>7</td>\n",
       "      <td>29487</td>\n",
       "      <td>1361</td>\n",
       "      <td>9864.7</td>\n",
       "      <td>251734.3</td>\n",
       "    </tr>\n",
       "  </tbody>\n",
       "</table>\n",
       "<p>136 rows × 9 columns</p>\n",
       "</div>"
      ],
      "text/plain": [
       "           시도       총인구     전출인구    출생아수  산부인과의원수  초등학생인원수  도매 및 소매업 신생  \\\n",
       "년도                                                                        \n",
       "2013      경기도  12234630  1821303  112129      286   739619        49143   \n",
       "2013    서울특별시  10143645  1620640   84066      395   469392        48097   \n",
       "2013     경상남도   3333820   423864   29504       65   190166        12612   \n",
       "2013    부산광역시   3527635   496161   25831       82   160821        13902   \n",
       "2013    대구광역시   2501588   363224   19340       86   136309         9981   \n",
       "...       ...       ...      ...     ...      ...      ...          ...   \n",
       "2020     충청북도   1600837   226441    8607       40    85135         6103   \n",
       "2020    대전광역시   1463882   243418    7481       44    79807         6405   \n",
       "2020      강원도   1542840   217897    7835       32    73478         5554   \n",
       "2020  제주특별자치도    674635    94736    3989       23    40575         2856   \n",
       "2020  세종특별자치시    355831    65909    3468        7    29487         1361   \n",
       "\n",
       "      예금은행대출금액       예금액  \n",
       "년도                        \n",
       "2013  248468.3   13718.5  \n",
       "2013  462443.1  532689.2  \n",
       "2013   57288.6    6703.3  \n",
       "2013   77411.6   59554.5  \n",
       "2013   46578.5   37541.7  \n",
       "...        ...       ...  \n",
       "2020   28669.1   27669.5  \n",
       "2020   39341.3   38725.4  \n",
       "2020   22831.4   23634.2  \n",
       "2020   20182.3   14025.4  \n",
       "2020    9864.7  251734.3  \n",
       "\n",
       "[136 rows x 9 columns]"
      ]
     },
     "execution_count": 558,
     "metadata": {},
     "output_type": "execute_result"
    }
   ],
   "source": [
    "df = pd.read_csv(\"../Data/03.통합.csv\", index_col='년도')\n",
    "df"
   ]
  },
  {
   "cell_type": "code",
   "execution_count": 559,
   "metadata": {},
   "outputs": [
    {
     "data": {
      "text/html": [
       "<div>\n",
       "<style scoped>\n",
       "    .dataframe tbody tr th:only-of-type {\n",
       "        vertical-align: middle;\n",
       "    }\n",
       "\n",
       "    .dataframe tbody tr th {\n",
       "        vertical-align: top;\n",
       "    }\n",
       "\n",
       "    .dataframe thead th {\n",
       "        text-align: right;\n",
       "    }\n",
       "</style>\n",
       "<table border=\"1\" class=\"dataframe\">\n",
       "  <thead>\n",
       "    <tr style=\"text-align: right;\">\n",
       "      <th></th>\n",
       "      <th>시도</th>\n",
       "      <th>전출인구</th>\n",
       "      <th>출생아수</th>\n",
       "      <th>산부인과의원수</th>\n",
       "      <th>초등학생인원수</th>\n",
       "      <th>도매 및 소매업 신생</th>\n",
       "      <th>예금은행대출금액</th>\n",
       "      <th>예금액</th>\n",
       "    </tr>\n",
       "    <tr>\n",
       "      <th>년도</th>\n",
       "      <th></th>\n",
       "      <th></th>\n",
       "      <th></th>\n",
       "      <th></th>\n",
       "      <th></th>\n",
       "      <th></th>\n",
       "      <th></th>\n",
       "      <th></th>\n",
       "    </tr>\n",
       "  </thead>\n",
       "  <tbody>\n",
       "    <tr>\n",
       "      <th>2013</th>\n",
       "      <td>경기도</td>\n",
       "      <td>1821303</td>\n",
       "      <td>112129</td>\n",
       "      <td>286</td>\n",
       "      <td>739619</td>\n",
       "      <td>49143</td>\n",
       "      <td>248468.3</td>\n",
       "      <td>13718.5</td>\n",
       "    </tr>\n",
       "    <tr>\n",
       "      <th>2013</th>\n",
       "      <td>서울특별시</td>\n",
       "      <td>1620640</td>\n",
       "      <td>84066</td>\n",
       "      <td>395</td>\n",
       "      <td>469392</td>\n",
       "      <td>48097</td>\n",
       "      <td>462443.1</td>\n",
       "      <td>532689.2</td>\n",
       "    </tr>\n",
       "    <tr>\n",
       "      <th>2013</th>\n",
       "      <td>경상남도</td>\n",
       "      <td>423864</td>\n",
       "      <td>29504</td>\n",
       "      <td>65</td>\n",
       "      <td>190166</td>\n",
       "      <td>12612</td>\n",
       "      <td>57288.6</td>\n",
       "      <td>6703.3</td>\n",
       "    </tr>\n",
       "    <tr>\n",
       "      <th>2013</th>\n",
       "      <td>부산광역시</td>\n",
       "      <td>496161</td>\n",
       "      <td>25831</td>\n",
       "      <td>82</td>\n",
       "      <td>160821</td>\n",
       "      <td>13902</td>\n",
       "      <td>77411.6</td>\n",
       "      <td>59554.5</td>\n",
       "    </tr>\n",
       "    <tr>\n",
       "      <th>2013</th>\n",
       "      <td>대구광역시</td>\n",
       "      <td>363224</td>\n",
       "      <td>19340</td>\n",
       "      <td>86</td>\n",
       "      <td>136309</td>\n",
       "      <td>9981</td>\n",
       "      <td>46578.5</td>\n",
       "      <td>37541.7</td>\n",
       "    </tr>\n",
       "  </tbody>\n",
       "</table>\n",
       "</div>"
      ],
      "text/plain": [
       "         시도     전출인구    출생아수  산부인과의원수  초등학생인원수  도매 및 소매업 신생  예금은행대출금액  \\\n",
       "년도                                                                      \n",
       "2013    경기도  1821303  112129      286   739619        49143  248468.3   \n",
       "2013  서울특별시  1620640   84066      395   469392        48097  462443.1   \n",
       "2013   경상남도   423864   29504       65   190166        12612   57288.6   \n",
       "2013  부산광역시   496161   25831       82   160821        13902   77411.6   \n",
       "2013  대구광역시   363224   19340       86   136309         9981   46578.5   \n",
       "\n",
       "           예금액  \n",
       "년도              \n",
       "2013   13718.5  \n",
       "2013  532689.2  \n",
       "2013    6703.3  \n",
       "2013   59554.5  \n",
       "2013   37541.7  "
      ]
     },
     "execution_count": 559,
     "metadata": {},
     "output_type": "execute_result"
    }
   ],
   "source": [
    "# 총인구 컬럼 제거\n",
    "df.drop(columns='총인구', inplace=True)\n",
    "df.head()"
   ]
  },
  {
   "cell_type": "code",
   "execution_count": 560,
   "metadata": {},
   "outputs": [
    {
     "data": {
      "text/plain": [
       "Int64Index([2013, 2013, 2013, 2013, 2013, 2013, 2013, 2013, 2013, 2013,\n",
       "            ...\n",
       "            2020, 2020, 2020, 2020, 2020, 2020, 2020, 2020, 2020, 2020],\n",
       "           dtype='int64', name='년도', length=136)"
      ]
     },
     "execution_count": 560,
     "metadata": {},
     "output_type": "execute_result"
    }
   ],
   "source": [
    "years = df.index\n",
    "years"
   ]
  },
  {
   "cell_type": "markdown",
   "metadata": {},
   "source": [
    "### k값 찾기"
   ]
  },
  {
   "cell_type": "code",
   "execution_count": 561,
   "metadata": {},
   "outputs": [
    {
     "data": {
      "image/png": "[encoded data removed]",
      "text/plain": [
       "<Figure size 800x500 with 1 Axes>"
      ]
     },
     "metadata": {},
     "output_type": "display_data"
    }
   ],
   "source": [
    "df_temp = df.copy()\n",
    "df_temp.set_index('시도', inplace=True)\n",
    "# df_km = df_temp[df_temp.columns.difference(['총인구'])] # 총인구 컬럼이 존재할 때 사용한 것임\n",
    "df_km = df_temp\n",
    "# k값 찾기 --------------------------------------------\n",
    "scores = []\n",
    "for k in range(2, 10):\n",
    "    km = KMeans(n_clusters=k, random_state=42)\n",
    "    km.fit(df_km)\n",
    "    scores.append(km.inertia_)\n",
    "# 그래프 그리기 ------------------\n",
    "plt.figure(figsize=(8,5))\n",
    "plt.plot(range(2,10), scores)\n",
    "plt.title('전체 년도의 k값 찾기')\n",
    "plt.show()\n",
    "# -----------------------------"
   ]
  },
  {
   "cell_type": "markdown",
   "metadata": {},
   "source": [
    "> #### 후보: 3, 4, 5"
   ]
  },
  {
   "cell_type": "markdown",
   "metadata": {},
   "source": [
    "----\n",
    "### k값 적용(k=4) -> 데이터프레임 컬럼 추가"
   ]
  },
  {
   "cell_type": "code",
   "execution_count": 562,
   "metadata": {},
   "outputs": [
    {
     "name": "stdout",
     "output_type": "stream",
     "text": [
      "[2 1 3 3 3 3 0 3 0 0 0 0 0 0 0 0 0 2 1 3 3 3 3 0 3 0 0 0 0 0 0 0 0 0 2 1 3\n",
      " 3 3 3 0 3 0 0 0 0 0 0 0 0 0 2 1 3 3 3 3 0 3 0 0 0 0 0 0 0 0 0 2 1 3 3 3 3\n",
      " 0 3 0 0 0 0 0 0 0 0 0 2 1 3 3 3 3 0 3 0 0 0 0 0 0 0 0 0 2 1 3 3 3 3 0 3 0\n",
      " 0 0 0 0 0 0 0 0 2 1 3 3 3 3 0 3 0 0 0 0 0 0 0 0 0]\n"
     ]
    },
    {
     "data": {
      "text/plain": [
       "array([[1.95049262e+05, 1.01237875e+04, 3.37125000e+01, 7.75759125e+04,\n",
       "        5.29692500e+03, 2.30497900e+04, 3.85136163e+04],\n",
       "       [1.61312862e+06, 6.88623750e+04, 3.90250000e+02, 4.37333375e+05,\n",
       "        4.58475000e+04, 5.71485213e+05, 6.76193713e+05],\n",
       "       [1.85165600e+06, 9.83292500e+04, 2.71375000e+02, 7.43822500e+05,\n",
       "        5.25488750e+04, 3.22522750e+05, 2.05947125e+04],\n",
       "       [4.03589850e+05, 2.07180750e+04, 6.76250000e+01, 1.51779725e+05,\n",
       "        1.13792750e+04, 7.19181200e+04, 4.38354200e+04]])"
      ]
     },
     "execution_count": 562,
     "metadata": {},
     "output_type": "execute_result"
    }
   ],
   "source": [
    "data_points = df_km.values\n",
    "km = KMeans(n_clusters=4).fit(data_points) # n_clusters 에 값을 정해주기!\n",
    "\n",
    "# labels\n",
    "print(km.labels_)\n",
    "# 각 군집의 중심위치\n",
    "km.cluster_centers_"
   ]
  },
  {
   "cell_type": "code",
   "execution_count": 563,
   "metadata": {},
   "outputs": [
    {
     "data": {
      "text/html": [
       "<div>\n",
       "<style scoped>\n",
       "    .dataframe tbody tr th:only-of-type {\n",
       "        vertical-align: middle;\n",
       "    }\n",
       "\n",
       "    .dataframe tbody tr th {\n",
       "        vertical-align: top;\n",
       "    }\n",
       "\n",
       "    .dataframe thead th {\n",
       "        text-align: right;\n",
       "    }\n",
       "</style>\n",
       "<table border=\"1\" class=\"dataframe\">\n",
       "  <thead>\n",
       "    <tr style=\"text-align: right;\">\n",
       "      <th></th>\n",
       "      <th>전출인구</th>\n",
       "      <th>출생아수</th>\n",
       "      <th>산부인과의원수</th>\n",
       "      <th>초등학생인원수</th>\n",
       "      <th>도매 및 소매업 신생</th>\n",
       "      <th>예금은행대출금액</th>\n",
       "      <th>예금액</th>\n",
       "      <th>cluster_id</th>\n",
       "    </tr>\n",
       "    <tr>\n",
       "      <th>시도</th>\n",
       "      <th></th>\n",
       "      <th></th>\n",
       "      <th></th>\n",
       "      <th></th>\n",
       "      <th></th>\n",
       "      <th></th>\n",
       "      <th></th>\n",
       "      <th></th>\n",
       "    </tr>\n",
       "  </thead>\n",
       "  <tbody>\n",
       "    <tr>\n",
       "      <th>경기도</th>\n",
       "      <td>1821303</td>\n",
       "      <td>112129</td>\n",
       "      <td>286</td>\n",
       "      <td>739619</td>\n",
       "      <td>49143</td>\n",
       "      <td>248468.3</td>\n",
       "      <td>13718.5</td>\n",
       "      <td>2</td>\n",
       "    </tr>\n",
       "    <tr>\n",
       "      <th>서울특별시</th>\n",
       "      <td>1620640</td>\n",
       "      <td>84066</td>\n",
       "      <td>395</td>\n",
       "      <td>469392</td>\n",
       "      <td>48097</td>\n",
       "      <td>462443.1</td>\n",
       "      <td>532689.2</td>\n",
       "      <td>1</td>\n",
       "    </tr>\n",
       "    <tr>\n",
       "      <th>경상남도</th>\n",
       "      <td>423864</td>\n",
       "      <td>29504</td>\n",
       "      <td>65</td>\n",
       "      <td>190166</td>\n",
       "      <td>12612</td>\n",
       "      <td>57288.6</td>\n",
       "      <td>6703.3</td>\n",
       "      <td>3</td>\n",
       "    </tr>\n",
       "    <tr>\n",
       "      <th>부산광역시</th>\n",
       "      <td>496161</td>\n",
       "      <td>25831</td>\n",
       "      <td>82</td>\n",
       "      <td>160821</td>\n",
       "      <td>13902</td>\n",
       "      <td>77411.6</td>\n",
       "      <td>59554.5</td>\n",
       "      <td>3</td>\n",
       "    </tr>\n",
       "    <tr>\n",
       "      <th>대구광역시</th>\n",
       "      <td>363224</td>\n",
       "      <td>19340</td>\n",
       "      <td>86</td>\n",
       "      <td>136309</td>\n",
       "      <td>9981</td>\n",
       "      <td>46578.5</td>\n",
       "      <td>37541.7</td>\n",
       "      <td>3</td>\n",
       "    </tr>\n",
       "    <tr>\n",
       "      <th>...</th>\n",
       "      <td>...</td>\n",
       "      <td>...</td>\n",
       "      <td>...</td>\n",
       "      <td>...</td>\n",
       "      <td>...</td>\n",
       "      <td>...</td>\n",
       "      <td>...</td>\n",
       "      <td>...</td>\n",
       "    </tr>\n",
       "    <tr>\n",
       "      <th>충청북도</th>\n",
       "      <td>226441</td>\n",
       "      <td>8607</td>\n",
       "      <td>40</td>\n",
       "      <td>85135</td>\n",
       "      <td>6103</td>\n",
       "      <td>28669.1</td>\n",
       "      <td>27669.5</td>\n",
       "      <td>0</td>\n",
       "    </tr>\n",
       "    <tr>\n",
       "      <th>대전광역시</th>\n",
       "      <td>243418</td>\n",
       "      <td>7481</td>\n",
       "      <td>44</td>\n",
       "      <td>79807</td>\n",
       "      <td>6405</td>\n",
       "      <td>39341.3</td>\n",
       "      <td>38725.4</td>\n",
       "      <td>0</td>\n",
       "    </tr>\n",
       "    <tr>\n",
       "      <th>강원도</th>\n",
       "      <td>217897</td>\n",
       "      <td>7835</td>\n",
       "      <td>32</td>\n",
       "      <td>73478</td>\n",
       "      <td>5554</td>\n",
       "      <td>22831.4</td>\n",
       "      <td>23634.2</td>\n",
       "      <td>0</td>\n",
       "    </tr>\n",
       "    <tr>\n",
       "      <th>제주특별자치도</th>\n",
       "      <td>94736</td>\n",
       "      <td>3989</td>\n",
       "      <td>23</td>\n",
       "      <td>40575</td>\n",
       "      <td>2856</td>\n",
       "      <td>20182.3</td>\n",
       "      <td>14025.4</td>\n",
       "      <td>0</td>\n",
       "    </tr>\n",
       "    <tr>\n",
       "      <th>세종특별자치시</th>\n",
       "      <td>65909</td>\n",
       "      <td>3468</td>\n",
       "      <td>7</td>\n",
       "      <td>29487</td>\n",
       "      <td>1361</td>\n",
       "      <td>9864.7</td>\n",
       "      <td>251734.3</td>\n",
       "      <td>0</td>\n",
       "    </tr>\n",
       "  </tbody>\n",
       "</table>\n",
       "<p>136 rows × 8 columns</p>\n",
       "</div>"
      ],
      "text/plain": [
       "            전출인구    출생아수  산부인과의원수  초등학생인원수  도매 및 소매업 신생  예금은행대출금액       예금액  \\\n",
       "시도                                                                            \n",
       "경기도      1821303  112129      286   739619        49143  248468.3   13718.5   \n",
       "서울특별시    1620640   84066      395   469392        48097  462443.1  532689.2   \n",
       "경상남도      423864   29504       65   190166        12612   57288.6    6703.3   \n",
       "부산광역시     496161   25831       82   160821        13902   77411.6   59554.5   \n",
       "대구광역시     363224   19340       86   136309         9981   46578.5   37541.7   \n",
       "...          ...     ...      ...      ...          ...       ...       ...   \n",
       "충청북도      226441    8607       40    85135         6103   28669.1   27669.5   \n",
       "대전광역시     243418    7481       44    79807         6405   39341.3   38725.4   \n",
       "강원도       217897    7835       32    73478         5554   22831.4   23634.2   \n",
       "제주특별자치도    94736    3989       23    40575         2856   20182.3   14025.4   \n",
       "세종특별자치시    65909    3468        7    29487         1361    9864.7  251734.3   \n",
       "\n",
       "         cluster_id  \n",
       "시도                   \n",
       "경기도               2  \n",
       "서울특별시             1  \n",
       "경상남도              3  \n",
       "부산광역시             3  \n",
       "대구광역시             3  \n",
       "...             ...  \n",
       "충청북도              0  \n",
       "대전광역시             0  \n",
       "강원도               0  \n",
       "제주특별자치도           0  \n",
       "세종특별자치시           0  \n",
       "\n",
       "[136 rows x 8 columns]"
      ]
     },
     "execution_count": 563,
     "metadata": {},
     "output_type": "execute_result"
    }
   ],
   "source": [
    "# 데이터가 어느 군집에 소속되어 있는지 정하기\n",
    "df_km['cluster_id'] = km.labels_\n",
    "df_km"
   ]
  },
  {
   "cell_type": "code",
   "execution_count": 564,
   "metadata": {},
   "outputs": [
    {
     "data": {
      "image/png": "[encoded data removed]",
      "text/plain": [
       "<Figure size 592.75x500 with 1 Axes>"
      ]
     },
     "metadata": {},
     "output_type": "display_data"
    }
   ],
   "source": [
    "sns.lmplot(x='출생아수', y='전출인구',\n",
    "            data=df_km/1000, fit_reg=False,\n",
    "            scatter_kws={'s':200},\n",
    "            hue=\"cluster_id\"\n",
    ")\n",
    "plt.xlabel(\"출생아수(단위: 1000명)\")\n",
    "plt.ylabel(\"전출인구(단위: 1000명)\")\n",
    "plt.show()"
   ]
  },
  {
   "cell_type": "markdown",
   "metadata": {},
   "source": [
    "----\n",
    "# Classification"
   ]
  },
  {
   "cell_type": "markdown",
   "metadata": {},
   "source": [
    "### Feature, Target"
   ]
  },
  {
   "cell_type": "code",
   "execution_count": 565,
   "metadata": {},
   "outputs": [],
   "source": [
    "# Feature, Target\n",
    "data = df_km[['전출인구', '출생아수', '산부인과의원수', '초등학생인원수', '도매 및 소매업 신생', '예금은행대출금액', '예금액']].to_numpy()\n",
    "target = df_km['cluster_id'].to_numpy()"
   ]
  },
  {
   "cell_type": "markdown",
   "metadata": {},
   "source": [
    "----\n",
    "### 검증 세트 추가\n",
    "- 훈련(60%), 검증(20%), 테스트(20%)"
   ]
  },
  {
   "cell_type": "code",
   "execution_count": 566,
   "metadata": {},
   "outputs": [],
   "source": [
    "from sklearn.model_selection import train_test_split\n",
    "train_input, test_input, train_target, test_target = \\\n",
    "    train_test_split(data, target, test_size=0.2, stratify=target) # random_state=42"
   ]
  },
  {
   "cell_type": "code",
   "execution_count": 567,
   "metadata": {},
   "outputs": [],
   "source": [
    "sub_input, val_input, sub_target, val_target = \\\n",
    "    train_test_split(train_input, train_target, test_size=0.2, stratify=train_target) # random_state=42"
   ]
  },
  {
   "cell_type": "code",
   "execution_count": 568,
   "metadata": {},
   "outputs": [
    {
     "name": "stdout",
     "output_type": "stream",
     "text": [
      "Train : (86, 7)\n",
      "Valid : (22, 7)\n",
      "Test  : (28, 7)\n"
     ]
    }
   ],
   "source": [
    "# 세트 별 크기\n",
    "print(\"Train :\", sub_input.shape)\n",
    "print(\"Valid :\", val_input.shape)\n",
    "print(\"Test  :\", test_input.shape)"
   ]
  },
  {
   "attachments": {},
   "cell_type": "markdown",
   "metadata": {},
   "source": [
    "----\n",
    "\n",
    "### 각 ML 별 Score 확인"
   ]
  },
  {
   "cell_type": "code",
   "execution_count": 569,
   "metadata": {},
   "outputs": [
    {
     "name": "stdout",
     "output_type": "stream",
     "text": [
      "- ML : KNeighborsClassifier(n_neighbors=3)\n",
      "+ Train score : 1.0\n",
      "+ Valid score : 1.0\n",
      "+ Test score : 1.0\n",
      "------------------------------\n",
      "- ML : SVC()\n",
      "+ Train score : 0.9069767441860465\n",
      "+ Valid score : 0.9545454545454546\n",
      "+ Test score : 0.9341991341991343\n",
      "------------------------------\n",
      "- ML : GaussianProcessClassifier()\n",
      "+ Train score : 1.0\n",
      "+ Valid score : 0.3181818181818182\n",
      "+ Test score : 0.29653679653679654\n",
      "------------------------------\n",
      "- ML : DecisionTreeClassifier()\n",
      "+ Train score : 1.0\n",
      "+ Valid score : 1.0\n",
      "+ Test score : 0.980952380952381\n",
      "------------------------------\n",
      "- ML : RandomForestClassifier()\n",
      "+ Train score : 1.0\n",
      "+ Valid score : 1.0\n",
      "+ Test score : 1.0\n",
      "------------------------------\n",
      "- ML : AdaBoostClassifier()\n",
      "+ Train score : 1.0\n",
      "+ Valid score : 1.0\n",
      "+ Test score : 1.0\n",
      "------------------------------\n",
      "- ML : MLPClassifier()\n",
      "+ Train score : 0.26744186046511625\n",
      "+ Valid score : 0.36363636363636365\n",
      "+ Test score : 0.33246753246753247\n",
      "------------------------------\n",
      "- ML : GaussianNB()\n",
      "+ Train score : 1.0\n",
      "+ Valid score : 1.0\n",
      "+ Test score : 1.0\n",
      "------------------------------\n",
      "- ML : QuadraticDiscriminantAnalysis()\n",
      "+ Train score : 0.9883720930232558\n",
      "+ Valid score : 0.9090909090909091\n",
      "+ Test score : 0.861038961038961\n",
      "------------------------------\n"
     ]
    }
   ],
   "source": [
    "# 각 ML별 import\n",
    "from sklearn.neighbors import KNeighborsClassifier\n",
    "from sklearn.svm import SVC\n",
    "from sklearn.gaussian_process import GaussianProcessClassifier\n",
    "from sklearn.tree import DecisionTreeClassifier\n",
    "from sklearn.ensemble import RandomForestClassifier\n",
    "from sklearn.ensemble import AdaBoostClassifier\n",
    "from sklearn.neural_network import MLPClassifier\n",
    "from sklearn.naive_bayes import GaussianNB\n",
    "from sklearn.discriminant_analysis import QuadraticDiscriminantAnalysis\n",
    "# 교차검증 import\n",
    "from sklearn.model_selection import cross_validate\n",
    "\n",
    "ml_list = [KNeighborsClassifier(n_neighbors=3), SVC(), GaussianProcessClassifier(), DecisionTreeClassifier(), RandomForestClassifier(), AdaBoostClassifier(), MLPClassifier(), GaussianNB(), QuadraticDiscriminantAnalysis()]\n",
    "for ml in ml_list:\n",
    "    print(\"- ML :\", ml)\n",
    "    clf = ml\n",
    "    # 학습\n",
    "    clf.fit(sub_input, sub_target)\n",
    "    # 정확도 판단\n",
    "    print(\"+ Train score :\", clf.score(sub_input, sub_target))\n",
    "    print(\"+ Valid score :\", clf.score(val_input, val_target))\n",
    "    # 교차검증\n",
    "    scores = cross_validate(clf, train_input, train_target)\n",
    "    # 교차검증 후의 정확도 판단\n",
    "    print(\"+ Test score :\", np.mean(scores['test_score']))\n",
    "    print(\"-\"*30)"
   ]
  },
  {
   "attachments": {},
   "cell_type": "markdown",
   "metadata": {},
   "source": [
    "----\n",
    "### 10번의 교차검증 실시"
   ]
  },
  {
   "cell_type": "code",
   "execution_count": 570,
   "metadata": {},
   "outputs": [],
   "source": [
    "# 함수: 10번의 교차 검증 실시 => 정확도를 보기 위해서\n",
    "from sklearn.model_selection import cross_val_score\n",
    "def cross_validation(classifier, features, labels):\n",
    "    cv_scores = []\n",
    "    for i in range(10):\n",
    "        score = cross_val_score(classifier, features, labels, cv=10, scoring='accuracy')\n",
    "        cv_scores.append(score.mean())\n",
    "    return cv_scores"
   ]
  },
  {
   "cell_type": "code",
   "execution_count": 571,
   "metadata": {},
   "outputs": [
    {
     "name": "stdout",
     "output_type": "stream",
     "text": [
      "[1.0, 1.0, 1.0, 1.0, 1.0, 1.0, 1.0, 1.0, 1.0, 1.0]\n",
      "[0.9527272727272728, 0.9527272727272728, 0.9527272727272728, 0.9527272727272728, 0.9527272727272728, 0.9527272727272728, 0.9527272727272728, 0.9527272727272728, 0.9527272727272728, 0.9527272727272728]\n",
      "[0.2963636363636363, 0.2963636363636363, 0.2963636363636363, 0.2963636363636363, 0.2963636363636363, 0.2963636363636363, 0.2963636363636363, 0.2963636363636363, 0.2963636363636363, 0.2963636363636363]\n",
      "[0.990909090909091, 1.0, 1.0, 0.9727272727272727, 0.9727272727272727, 0.990909090909091, 0.9727272727272727, 0.9818181818181818, 1.0, 0.990909090909091]\n",
      "[1.0, 1.0, 1.0, 1.0, 1.0, 1.0, 1.0, 1.0, 1.0, 1.0]\n",
      "[0.99, 0.9718181818181819, 0.9718181818181819, 0.9718181818181819, 1.0, 0.99, 0.99, 0.9718181818181819, 0.9818181818181818, 1.0]\n",
      "[0.4009090909090909, 0.35090909090909095, 0.3781818181818181, 0.36727272727272725, 0.43181818181818177, 0.4727272727272728, 0.41090909090909084, 0.3390909090909091, 0.19545454545454546, 0.2772727272727272]\n",
      "[1.0, 1.0, 1.0, 1.0, 1.0, 1.0, 1.0, 1.0, 1.0, 1.0]\n",
      "[0.8527272727272728, 0.8527272727272728, 0.8527272727272728, 0.8527272727272728, 0.8527272727272728, 0.8527272727272728, 0.8527272727272728, 0.8527272727272728, 0.8527272727272728, 0.8527272727272728]\n"
     ]
    },
    {
     "data": {
      "text/plain": [
       "[0.8527272727272728,\n",
       " 0.8527272727272728,\n",
       " 0.8527272727272728,\n",
       " 0.8527272727272728,\n",
       " 0.8527272727272728,\n",
       " 0.8527272727272728,\n",
       " 0.8527272727272728,\n",
       " 0.8527272727272728,\n",
       " 0.8527272727272728,\n",
       " 0.8527272727272728]"
      ]
     },
     "execution_count": 571,
     "metadata": {},
     "output_type": "execute_result"
    }
   ],
   "source": [
    "# 각 Classifier 별 10번의 정확도 확인\n",
    "ml_list = [KNeighborsClassifier(n_neighbors=3), SVC(), GaussianProcessClassifier(), DecisionTreeClassifier(), RandomForestClassifier(), AdaBoostClassifier(), MLPClassifier(), GaussianNB(), QuadraticDiscriminantAnalysis()]\n",
    "scores_list = []\n",
    "for ml in ml_list:\n",
    "    ml_cv_scores = cross_validation(ml, train_input, train_target)\n",
    "    scores_list.append(ml_cv_scores)\n",
    "    print(ml_cv_scores)\n",
    "ml_cv_scores"
   ]
  },
  {
   "attachments": {},
   "cell_type": "markdown",
   "metadata": {},
   "source": [
    "### 정확도 시각화"
   ]
  },
  {
   "cell_type": "code",
   "execution_count": 572,
   "metadata": {},
   "outputs": [
    {
     "data": {
      "image/png": "[encoded data removed]",
      "text/plain": [
       "<Figure size 640x480 with 1 Axes>"
      ]
     },
     "metadata": {},
     "output_type": "display_data"
    }
   ],
   "source": [
    "# 정확도 시각화\n",
    "cv_list = {}\n",
    "for ml, scores in zip(ml_list, scores_list):\n",
    "    cv_list[ml] = scores\n",
    "cv_list\n",
    "df = pd.DataFrame(cv_list)\n",
    "df.plot()\n",
    "plt.show()"
   ]
  },
  {
   "attachments": {},
   "cell_type": "markdown",
   "metadata": {},
   "source": [
    "> ### Classfication 정확도가 높으므로 Regression으로 시도해보자"
   ]
  },
  {
   "cell_type": "markdown",
   "metadata": {},
   "source": [
    "----\n",
    "----\n",
    "# Regression\n",
    "1. cluster_id : [0, 1, 2, 3] -> [0 ~ 1] 변환\n",
    "2. Regression 진행"
   ]
  },
  {
   "cell_type": "markdown",
   "metadata": {},
   "source": [
    "### cluster_id : [0, 1, 2, 3] -> [0 ~ 1] 변환"
   ]
  },
  {
   "cell_type": "code",
   "execution_count": 573,
   "metadata": {},
   "outputs": [
    {
     "data": {
      "text/plain": [
       "array([0.  , 0.33, 0.67, 1.  ])"
      ]
     },
     "execution_count": 573,
     "metadata": {},
     "output_type": "execute_result"
    }
   ],
   "source": [
    "df_km['cluster_id'] = df_km['cluster_id'] + 10\n",
    "df_km_temp = df_km.sort_values(by='전출인구', ascending=True)\n",
    "temp_list = df_km_temp['cluster_id'].unique()\n",
    "\n",
    "i = 3\n",
    "for temp in temp_list:\n",
    "    df_km['cluster_id'][df_km['cluster_id'] == temp] = i\n",
    "    i-=1\n",
    "df_km['cluster_id'] = np.round(df_km['cluster_id'] / 3, 2)\n",
    "df_km['cluster_id'].unique()"
   ]
  },
  {
   "cell_type": "code",
   "execution_count": 574,
   "metadata": {},
   "outputs": [
    {
     "data": {
      "image/png": "[encoded data removed]",
      "text/plain": [
       "<Figure size 611.5x500 with 1 Axes>"
      ]
     },
     "metadata": {},
     "output_type": "display_data"
    }
   ],
   "source": [
    "sns.lmplot(x='출생아수', y='전출인구',\n",
    "            data=df_km/1000, fit_reg=False,\n",
    "            scatter_kws={'s':200},\n",
    "            hue=\"cluster_id\"\n",
    ")\n",
    "plt.xlabel(\"출생아수(단위: 1000명)\")\n",
    "plt.ylabel(\"전출인구(단위: 1000명)\")\n",
    "plt.show()"
   ]
  },
  {
   "cell_type": "code",
   "execution_count": 575,
   "metadata": {},
   "outputs": [
    {
     "data": {
      "text/html": [
       "<div>\n",
       "<style scoped>\n",
       "    .dataframe tbody tr th:only-of-type {\n",
       "        vertical-align: middle;\n",
       "    }\n",
       "\n",
       "    .dataframe tbody tr th {\n",
       "        vertical-align: top;\n",
       "    }\n",
       "\n",
       "    .dataframe thead th {\n",
       "        text-align: right;\n",
       "    }\n",
       "</style>\n",
       "<table border=\"1\" class=\"dataframe\">\n",
       "  <thead>\n",
       "    <tr style=\"text-align: right;\">\n",
       "      <th></th>\n",
       "      <th>전출인구</th>\n",
       "      <th>출생아수</th>\n",
       "      <th>산부인과의원수</th>\n",
       "      <th>초등학생인원수</th>\n",
       "      <th>도매 및 소매업 신생</th>\n",
       "      <th>예금은행대출금액</th>\n",
       "      <th>예금액</th>\n",
       "      <th>cluster_id</th>\n",
       "    </tr>\n",
       "    <tr>\n",
       "      <th>시도</th>\n",
       "      <th></th>\n",
       "      <th></th>\n",
       "      <th></th>\n",
       "      <th></th>\n",
       "      <th></th>\n",
       "      <th></th>\n",
       "      <th></th>\n",
       "      <th></th>\n",
       "    </tr>\n",
       "  </thead>\n",
       "  <tbody>\n",
       "    <tr>\n",
       "      <th>경기도</th>\n",
       "      <td>1821303</td>\n",
       "      <td>112129</td>\n",
       "      <td>286</td>\n",
       "      <td>739619</td>\n",
       "      <td>49143</td>\n",
       "      <td>248468.3</td>\n",
       "      <td>13718.5</td>\n",
       "      <td>0.00</td>\n",
       "    </tr>\n",
       "    <tr>\n",
       "      <th>서울특별시</th>\n",
       "      <td>1620640</td>\n",
       "      <td>84066</td>\n",
       "      <td>395</td>\n",
       "      <td>469392</td>\n",
       "      <td>48097</td>\n",
       "      <td>462443.1</td>\n",
       "      <td>532689.2</td>\n",
       "      <td>0.33</td>\n",
       "    </tr>\n",
       "    <tr>\n",
       "      <th>경상남도</th>\n",
       "      <td>423864</td>\n",
       "      <td>29504</td>\n",
       "      <td>65</td>\n",
       "      <td>190166</td>\n",
       "      <td>12612</td>\n",
       "      <td>57288.6</td>\n",
       "      <td>6703.3</td>\n",
       "      <td>0.67</td>\n",
       "    </tr>\n",
       "    <tr>\n",
       "      <th>부산광역시</th>\n",
       "      <td>496161</td>\n",
       "      <td>25831</td>\n",
       "      <td>82</td>\n",
       "      <td>160821</td>\n",
       "      <td>13902</td>\n",
       "      <td>77411.6</td>\n",
       "      <td>59554.5</td>\n",
       "      <td>0.67</td>\n",
       "    </tr>\n",
       "    <tr>\n",
       "      <th>대구광역시</th>\n",
       "      <td>363224</td>\n",
       "      <td>19340</td>\n",
       "      <td>86</td>\n",
       "      <td>136309</td>\n",
       "      <td>9981</td>\n",
       "      <td>46578.5</td>\n",
       "      <td>37541.7</td>\n",
       "      <td>0.67</td>\n",
       "    </tr>\n",
       "  </tbody>\n",
       "</table>\n",
       "</div>"
      ],
      "text/plain": [
       "          전출인구    출생아수  산부인과의원수  초등학생인원수  도매 및 소매업 신생  예금은행대출금액       예금액  \\\n",
       "시도                                                                          \n",
       "경기도    1821303  112129      286   739619        49143  248468.3   13718.5   \n",
       "서울특별시  1620640   84066      395   469392        48097  462443.1  532689.2   \n",
       "경상남도    423864   29504       65   190166        12612   57288.6    6703.3   \n",
       "부산광역시   496161   25831       82   160821        13902   77411.6   59554.5   \n",
       "대구광역시   363224   19340       86   136309         9981   46578.5   37541.7   \n",
       "\n",
       "       cluster_id  \n",
       "시도                 \n",
       "경기도          0.00  \n",
       "서울특별시        0.33  \n",
       "경상남도         0.67  \n",
       "부산광역시        0.67  \n",
       "대구광역시        0.67  "
      ]
     },
     "execution_count": 575,
     "metadata": {},
     "output_type": "execute_result"
    }
   ],
   "source": [
    "df_km.head()"
   ]
  },
  {
   "cell_type": "code",
   "execution_count": 576,
   "metadata": {},
   "outputs": [],
   "source": [
    "# Feature, Target\n",
    "data = df_km[['전출인구', '출생아수', '산부인과의원수', '초등학생인원수', '도매 및 소매업 신생', '예금은행대출금액', '예금액']].to_numpy()\n",
    "target = df_km['cluster_id'].to_numpy()"
   ]
  },
  {
   "cell_type": "markdown",
   "metadata": {},
   "source": [
    "----\n",
    "### 검증 세트 추가\n",
    "- 훈련(60%), 검증(20%), 테스트(20%)"
   ]
  },
  {
   "cell_type": "code",
   "execution_count": 577,
   "metadata": {},
   "outputs": [],
   "source": [
    "from sklearn.model_selection import train_test_split\n",
    "train_input, test_input, train_target, test_target = \\\n",
    "    train_test_split(data, target, test_size=0.2) # random_state=42,  stratify=target"
   ]
  },
  {
   "cell_type": "code",
   "execution_count": 578,
   "metadata": {},
   "outputs": [],
   "source": [
    "sub_input, val_input, sub_target, val_target = \\\n",
    "    train_test_split(train_input, train_target, test_size=0.2, stratify=train_target) # random_state=42"
   ]
  },
  {
   "cell_type": "code",
   "execution_count": 579,
   "metadata": {},
   "outputs": [
    {
     "name": "stdout",
     "output_type": "stream",
     "text": [
      "Train : (86, 7)\n",
      "Valid : (22, 7)\n",
      "Test  : (28, 7)\n"
     ]
    }
   ],
   "source": [
    "# 세트 별 크기\n",
    "print(\"Train :\", sub_input.shape)\n",
    "print(\"Valid :\", val_input.shape)\n",
    "print(\"Test  :\", test_input.shape)"
   ]
  },
  {
   "cell_type": "markdown",
   "metadata": {},
   "source": [
    "----\n",
    "\n",
    "### 각 ML 별 Score 확인"
   ]
  },
  {
   "cell_type": "code",
   "execution_count": 580,
   "metadata": {},
   "outputs": [
    {
     "name": "stdout",
     "output_type": "stream",
     "text": [
      "- ML Name : LinearRegression()\n",
      "+ Train score : 0.8596237833375796\n",
      "+ Valid score : 0.8724354310339105\n",
      "+ Test score : 0.8163418049292304\n",
      "+ Mean Absolute Error : 0.07540468859188869\n",
      "----------------------------------------\n",
      "- ML Name : DecisionTreeRegressor()\n",
      "+ Train score : 1.0\n",
      "+ Valid score : 1.0\n",
      "+ Test score : 0.9534333184311325\n",
      "+ Mean Absolute Error : 4.7580986769649563e-17\n",
      "----------------------------------------\n",
      "- ML Name : RandomForestRegressor()\n",
      "+ Train score : 0.9990479356132863\n",
      "+ Valid score : 0.9984636277974087\n",
      "+ Test score : 0.9940064174099914\n",
      "+ Mean Absolute Error : 0.0031821428571430824\n",
      "----------------------------------------\n"
     ]
    }
   ],
   "source": [
    "# 각 ML별 import\n",
    "from sklearn.linear_model import LinearRegression\n",
    "from sklearn.neighbors import KNeighborsRegressor\n",
    "from sklearn.svm import SVC\n",
    "from sklearn.gaussian_process import GaussianProcessRegressor\n",
    "from sklearn.tree import DecisionTreeRegressor\n",
    "from sklearn.ensemble import RandomForestRegressor\n",
    "from sklearn.ensemble import AdaBoostRegressor\n",
    "from sklearn.neural_network import MLPRegressor\n",
    "from sklearn.naive_bayes import GaussianNB\n",
    "from sklearn.discriminant_analysis import QuadraticDiscriminantAnalysis\n",
    "# 교차검증 import\n",
    "from sklearn.model_selection import cross_validate\n",
    "# 평균 절대값 오차\n",
    "from sklearn.metrics import mean_absolute_error\n",
    "\n",
    "# ml_list = [KNeighborsRegressor(n_neighbors=3), SVC(), GaussianProcessRegressor(), DecisionTreeRegressor(), RandomForestRegressor(), AdaBoostRegressor(), MLPRegressor(), GaussianNB(), QuadraticDiscriminantAnalysis()]\n",
    "# ml_list = [GaussianProcessRegressor(), LinearRegression(), DecisionTreeRegressor(), RandomForestRegressor(), AdaBoostRegressor(), MLPRegressor()]\n",
    "ml_list = [LinearRegression(), DecisionTreeRegressor(), RandomForestRegressor()]\n",
    "for ml in ml_list:\n",
    "    print(\"- ML Name :\", ml)\n",
    "    reg = ml\n",
    "    # 학습\n",
    "    reg.fit(sub_input, sub_target)\n",
    "    # 정확도 판단\n",
    "    print(\"+ Train score :\", reg.score(sub_input, sub_target))\n",
    "    print(\"+ Valid score :\", reg.score(val_input, val_target))\n",
    "    # 교차검증\n",
    "    scores = cross_validate(reg, train_input, train_target)\n",
    "    # 교차검증 후의 정확도 판단\n",
    "    print(\"+ Test score :\", np.mean(scores['test_score']))\n",
    "    # 평균 절대값 오차\n",
    "    test_prediction = ml.predict(test_input)\n",
    "    mae = mean_absolute_error(test_target, test_prediction)\n",
    "    print(\"+ Mean Absolute Error :\", mae)\n",
    "    print(\"-\"*40)"
   ]
  },
  {
   "attachments": {},
   "cell_type": "markdown",
   "metadata": {},
   "source": [
    "----\n",
    "### 10번의 교차검증 실시"
   ]
  },
  {
   "cell_type": "code",
   "execution_count": 581,
   "metadata": {},
   "outputs": [],
   "source": [
    "# 함수: 10번의 교차 검증 실시 => 정확도를 보기 위해서\n",
    "from sklearn.model_selection import cross_val_score\n",
    "def cross_validation(regressor, features, labels):\n",
    "    cv_scores = []\n",
    "    for i in range(10):\n",
    "        # score = cross_val_score(regressor, features, labels, cv=10, scoring='accuracy')\n",
    "        score = cross_val_score(regressor, features, labels, cv=10)\n",
    "        cv_scores.append(score.mean())\n",
    "    return cv_scores"
   ]
  },
  {
   "cell_type": "markdown",
   "metadata": {},
   "source": [
    "### 정확도 시각화"
   ]
  },
  {
   "cell_type": "code",
   "execution_count": 582,
   "metadata": {},
   "outputs": [
    {
     "name": "stdout",
     "output_type": "stream",
     "text": [
      "- LinearRegression() : [0.7798780933816594, 0.7798780933816594, 0.7798780933816594, 0.7798780933816594, 0.7798780933816594, 0.7798780933816594, 0.7798780933816594, 0.7798780933816594, 0.7798780933816594, 0.7798780933816594]\n",
      "-------------\n",
      "- DecisionTreeRegressor() : [0.9775070416758089, 0.9699420006758809, 0.98175039487822, 0.9782956636702455, 0.9733967318838553, 0.9851018580702933, 0.9780302613480055, 0.9780302613480055, 0.9801382480074414, 0.9584985899541486]\n",
      "-------------\n",
      "- RandomForestRegressor() : [0.9917629586250785, 0.9909637606756265, 0.9887998062238548, 0.9916645597992024, 0.9923177637959519, 0.9907969593360175, 0.9908766814236692, 0.9921859116172562, 0.9892920602383052, 0.9906650119188681]\n",
      "-------------\n",
      "- AdaBoostRegressor() : [0.9691533786814441, 1.0, 0.9521472500923014, 0.9581685093554467, 0.9691533786814441, 1.0, 0.9890151306740027, 0.978818883342442, 0.9541666666666668, 0.9715541475466594]\n",
      "-------------\n"
     ]
    }
   ],
   "source": [
    "# 각 Regressor 별 10번의 정확도 확인\n",
    "ml_list = [LinearRegression(), DecisionTreeRegressor(), RandomForestRegressor(), AdaBoostRegressor()]\n",
    "scores_list = []\n",
    "for ml in ml_list:\n",
    "    ml_cv_scores = cross_validation(ml, train_input, train_target)\n",
    "    scores_list.append(ml_cv_scores)\n",
    "    print(\"-\",ml,':', ml_cv_scores)\n",
    "    print(\"-------------\")"
   ]
  },
  {
   "cell_type": "markdown",
   "metadata": {},
   "source": [
    "### 정확도 시각화"
   ]
  },
  {
   "cell_type": "code",
   "execution_count": 583,
   "metadata": {},
   "outputs": [
    {
     "data": {
      "image/png": "[encoded data removed]",
      "text/plain": [
       "<Figure size 640x480 with 1 Axes>"
      ]
     },
     "metadata": {},
     "output_type": "display_data"
    }
   ],
   "source": [
    "# 정확도 시각화\n",
    "cv_list = {}\n",
    "for ml, scores in zip(ml_list, scores_list):\n",
    "    cv_list[ml] = scores\n",
    "cv_list\n",
    "df = pd.DataFrame(cv_list)\n",
    "df.plot()\n",
    "plt.title('정확도 시각화')\n",
    "plt.show()"
   ]
  },
  {
   "attachments": {},
   "cell_type": "markdown",
   "metadata": {},
   "source": [
    "----\n",
    "## 주성분 분석"
   ]
  },
  {
   "cell_type": "code",
   "execution_count": 584,
   "metadata": {},
   "outputs": [
    {
     "data": {
      "text/html": [
       "<div>\n",
       "<style scoped>\n",
       "    .dataframe tbody tr th:only-of-type {\n",
       "        vertical-align: middle;\n",
       "    }\n",
       "\n",
       "    .dataframe tbody tr th {\n",
       "        vertical-align: top;\n",
       "    }\n",
       "\n",
       "    .dataframe thead th {\n",
       "        text-align: right;\n",
       "    }\n",
       "</style>\n",
       "<table border=\"1\" class=\"dataframe\">\n",
       "  <thead>\n",
       "    <tr style=\"text-align: right;\">\n",
       "      <th></th>\n",
       "      <th>전출인구</th>\n",
       "      <th>출생아수</th>\n",
       "      <th>산부인과의원수</th>\n",
       "      <th>초등학생인원수</th>\n",
       "      <th>도매 및 소매업 신생</th>\n",
       "      <th>예금은행대출금액</th>\n",
       "      <th>예금액</th>\n",
       "      <th>cluster_id</th>\n",
       "    </tr>\n",
       "    <tr>\n",
       "      <th>시도</th>\n",
       "      <th></th>\n",
       "      <th></th>\n",
       "      <th></th>\n",
       "      <th></th>\n",
       "      <th></th>\n",
       "      <th></th>\n",
       "      <th></th>\n",
       "      <th></th>\n",
       "    </tr>\n",
       "  </thead>\n",
       "  <tbody>\n",
       "    <tr>\n",
       "      <th>경기도</th>\n",
       "      <td>1821303</td>\n",
       "      <td>112129</td>\n",
       "      <td>286</td>\n",
       "      <td>739619</td>\n",
       "      <td>49143</td>\n",
       "      <td>248468.3</td>\n",
       "      <td>13718.5</td>\n",
       "      <td>0.00</td>\n",
       "    </tr>\n",
       "    <tr>\n",
       "      <th>서울특별시</th>\n",
       "      <td>1620640</td>\n",
       "      <td>84066</td>\n",
       "      <td>395</td>\n",
       "      <td>469392</td>\n",
       "      <td>48097</td>\n",
       "      <td>462443.1</td>\n",
       "      <td>532689.2</td>\n",
       "      <td>0.33</td>\n",
       "    </tr>\n",
       "    <tr>\n",
       "      <th>경상남도</th>\n",
       "      <td>423864</td>\n",
       "      <td>29504</td>\n",
       "      <td>65</td>\n",
       "      <td>190166</td>\n",
       "      <td>12612</td>\n",
       "      <td>57288.6</td>\n",
       "      <td>6703.3</td>\n",
       "      <td>0.67</td>\n",
       "    </tr>\n",
       "    <tr>\n",
       "      <th>부산광역시</th>\n",
       "      <td>496161</td>\n",
       "      <td>25831</td>\n",
       "      <td>82</td>\n",
       "      <td>160821</td>\n",
       "      <td>13902</td>\n",
       "      <td>77411.6</td>\n",
       "      <td>59554.5</td>\n",
       "      <td>0.67</td>\n",
       "    </tr>\n",
       "    <tr>\n",
       "      <th>대구광역시</th>\n",
       "      <td>363224</td>\n",
       "      <td>19340</td>\n",
       "      <td>86</td>\n",
       "      <td>136309</td>\n",
       "      <td>9981</td>\n",
       "      <td>46578.5</td>\n",
       "      <td>37541.7</td>\n",
       "      <td>0.67</td>\n",
       "    </tr>\n",
       "  </tbody>\n",
       "</table>\n",
       "</div>"
      ],
      "text/plain": [
       "          전출인구    출생아수  산부인과의원수  초등학생인원수  도매 및 소매업 신생  예금은행대출금액       예금액  \\\n",
       "시도                                                                          \n",
       "경기도    1821303  112129      286   739619        49143  248468.3   13718.5   \n",
       "서울특별시  1620640   84066      395   469392        48097  462443.1  532689.2   \n",
       "경상남도    423864   29504       65   190166        12612   57288.6    6703.3   \n",
       "부산광역시   496161   25831       82   160821        13902   77411.6   59554.5   \n",
       "대구광역시   363224   19340       86   136309         9981   46578.5   37541.7   \n",
       "\n",
       "       cluster_id  \n",
       "시도                 \n",
       "경기도          0.00  \n",
       "서울특별시        0.33  \n",
       "경상남도         0.67  \n",
       "부산광역시        0.67  \n",
       "대구광역시        0.67  "
      ]
     },
     "execution_count": 584,
     "metadata": {},
     "output_type": "execute_result"
    }
   ],
   "source": [
    "df_km.head()"
   ]
  },
  {
   "cell_type": "code",
   "execution_count": 585,
   "metadata": {},
   "outputs": [
    {
     "data": {
      "text/plain": [
       "array([[0.91727346, 0.98784524, 0.72264631, 0.96049978, 0.77675027,\n",
       "        0.33995758],\n",
       "       [0.815367  , 0.73813888, 1.        , 0.60617528, 0.76007271,\n",
       "        0.6356111 ],\n",
       "       [0.20758574, 0.25264272, 0.16030534, 0.24005119, 0.19429519,\n",
       "        0.07580053],\n",
       "       [0.24430168, 0.21996014, 0.20356234, 0.20157371, 0.21486312,\n",
       "        0.10360491],\n",
       "       [0.17678979, 0.1622028 , 0.21374046, 0.16943332, 0.15234618,\n",
       "        0.06100216],\n",
       "       [0.21556607, 0.21754876, 0.17048346, 0.19776727, 0.17691609,\n",
       "        0.08283308],\n",
       "       [0.1245682 , 0.11962557, 0.12722646, 0.12855764, 0.10378035,\n",
       "        0.02786724],\n",
       "       [0.16041623, 0.18770466, 0.13994911, 0.1680277 , 0.13872989,\n",
       "        0.03595681],\n",
       "       [0.10877055, 0.10337771, 0.10941476, 0.11665185, 0.09432548,\n",
       "        0.02853766],\n",
       "       [0.12845731, 0.15586738, 0.11450382, 0.14308717, 0.11537174,\n",
       "        0.03318383],\n",
       "       [0.1175802 , 0.12715333, 0.05597964, 0.12078347, 0.0945487 ,\n",
       "        0.01870726],\n",
       "       [0.07215313, 0.09092931, 0.07379135, 0.07875918, 0.05220109,\n",
       "        0.02367027],\n",
       "       [0.10042761, 0.11164401, 0.11959288, 0.10721769, 0.09182225,\n",
       "        0.02042543],\n",
       "       [0.10940993, 0.11556805, 0.12722646, 0.11316796, 0.10067125,\n",
       "        0.02961125],\n",
       "       [0.10147936, 0.08781499, 0.08142494, 0.09977919, 0.07858863,\n",
       "        0.01496515],\n",
       "       [0.03347689, 0.03752313, 0.04834606, 0.04083765, 0.0351887 ,\n",
       "        0.00676477],\n",
       "       [0.        , 0.        , 0.        , 0.        , 0.        ,\n",
       "        0.        ],\n",
       "       [0.92391409, 0.98820117, 0.69974555, 0.95091221, 0.81689759,\n",
       "        0.36762834],\n",
       "       [0.83607961, 0.73498007, 0.99236641, 0.59060465, 0.79396993,\n",
       "        0.67982452],\n",
       "       [0.22398925, 0.25494732, 0.15776081, 0.23586449, 0.19651142,\n",
       "        0.08325174],\n",
       "       [0.24665861, 0.22315454, 0.19083969, 0.19492981, 0.22549786,\n",
       "        0.11318604],\n",
       "       [0.17806703, 0.16238966, 0.21119593, 0.16347518, 0.16451155,\n",
       "        0.07017057],\n",
       "       [0.21729022, 0.21955972, 0.1653944 , 0.19622266, 0.18354884,\n",
       "        0.08834159],\n",
       "       [0.13295025, 0.1167426 , 0.13231552, 0.12426343, 0.11350627,\n",
       "        0.03066979],\n",
       "       [0.16399454, 0.18642333, 0.13486005, 0.16287465, 0.14831231,\n",
       "        0.04036505],\n",
       "       [0.11727956, 0.10337771, 0.1043257 , 0.11285983, 0.10132496,\n",
       "        0.03088575],\n",
       "       [0.13443164, 0.15205901, 0.11195929, 0.14156616, 0.1207768 ,\n",
       "        0.03733687],\n",
       "       [0.12481146, 0.12195686, 0.05343511, 0.11621259, 0.10161195,\n",
       "        0.02035952],\n",
       "       [0.08030105, 0.09294028, 0.07379135, 0.07699429, 0.05730321,\n",
       "        0.02701555],\n",
       "       [0.10079174, 0.10904577, 0.11450382, 0.10413372, 0.09746648,\n",
       "        0.02300248],\n",
       "       [0.11847503, 0.11434902, 0.1221374 , 0.1108091 , 0.10617197,\n",
       "        0.03229856],\n",
       "       [0.10724497, 0.08498541, 0.07633588, 0.0962009 , 0.07981632,\n",
       "        0.01624296],\n",
       "       [0.03366377, 0.03928495, 0.04580153, 0.04041807, 0.0343596 ,\n",
       "        0.00812894],\n",
       "       [0.00404298, 0.00207325, 0.00254453, 0.00126794, 0.00361932,\n",
       "        0.00152805],\n",
       "       [0.95638239, 1.        , 0.68956743, 0.9522916 , 0.77901433,\n",
       "        0.38973879],\n",
       "       [0.86922284, 0.72869804, 0.98473282, 0.58163335, 0.70430013,\n",
       "        0.72277837],\n",
       "       [0.22100056, 0.25293636, 0.16284987, 0.23599824, 0.18169933,\n",
       "        0.09145668],\n",
       "       [0.25670843, 0.22720316, 0.18320611, 0.19300102, 0.20260208,\n",
       "        0.12391331],\n",
       "       [0.17736873, 0.16307481, 0.21119593, 0.16061412, 0.14729189,\n",
       "        0.08181683],\n",
       "       [0.22780878, 0.21693479, 0.16030534, 0.19669339, 0.17487524,\n",
       "        0.09206395],\n",
       "       [0.12673519, 0.11546128, 0.12977099, 0.12216549, 0.1077345 ,\n",
       "        0.03290334],\n",
       "       [0.16769066, 0.18863005, 0.13486005, 0.16082391, 0.14746727,\n",
       "        0.04580834],\n",
       "       [0.11110005, 0.10081506, 0.09923664, 0.11115394, 0.09432548,\n",
       "        0.03569055],\n",
       "       [0.13436207, 0.15565383, 0.11195929, 0.14212736, 0.11712559,\n",
       "        0.04121108],\n",
       "       [0.11734304, 0.12412799, 0.05089059, 0.11443984, 0.10193083,\n",
       "        0.02319578],\n",
       "       [0.07890142, 0.09450634, 0.07633588, 0.07741912, 0.05242431,\n",
       "        0.02988497],\n",
       "       [0.10059418, 0.11079869, 0.11450382, 0.10253667, 0.08797972,\n",
       "        0.02572143],\n",
       "       [0.11491654, 0.11267618, 0.11450382, 0.10800966, 0.09091344,\n",
       "        0.03509696],\n",
       "       [0.10524811, 0.08736119, 0.07888041, 0.09352078, 0.08201661,\n",
       "        0.01801184],\n",
       "       [0.0346424 , 0.03994341, 0.04580153, 0.04074456, 0.03348268,\n",
       "        0.01072478],\n",
       "       [0.00804483, 0.01421021, 0.00508906, 0.00821211, 0.00456002,\n",
       "        0.00384934],\n",
       "       [0.91913879, 0.9301324 , 0.67938931, 0.94445187, 0.83006744,\n",
       "        0.41906402],\n",
       "       [0.83325292, 0.6622384 , 0.9821883 , 0.56254999, 0.7106459 ,\n",
       "        0.74911812],\n",
       "       [0.20063633, 0.23158991, 0.15776081, 0.23370362, 0.18558969,\n",
       "        0.0965877 ],\n",
       "       [0.23630103, 0.21172943, 0.17302799, 0.18896774, 0.21141919,\n",
       "        0.1336036 ],\n",
       "       [0.16371979, 0.15293102, 0.21628499, 0.15531421, 0.15343038,\n",
       "        0.08917311],\n",
       "       [0.21368246, 0.20018864, 0.16030534, 0.19471477, 0.1862434 ,\n",
       "        0.09862132],\n",
       "       [0.12061308, 0.10310187, 0.12722646, 0.11906448, 0.1085317 ,\n",
       "        0.03440624],\n",
       "       [0.15423063, 0.17355673, 0.13740458, 0.15830901, 0.14850364,\n",
       "        0.04818186],\n",
       "       [0.10459908, 0.09315383, 0.09414758, 0.10752582, 0.09250785,\n",
       "        0.0385847 ],\n",
       "       [0.13018044, 0.14406855, 0.11195929, 0.1418979 , 0.12005931,\n",
       "        0.04338563],\n",
       "       [0.11285822, 0.11450918, 0.05089059, 0.11262119, 0.10808527,\n",
       "        0.02436099],\n",
       "       [0.07145585, 0.08719213, 0.07633588, 0.07675696, 0.05400277,\n",
       "        0.03168991],\n",
       "       [0.09271237, 0.10349338, 0.11450382, 0.10091339, 0.09054672,\n",
       "        0.02713825],\n",
       "       [0.10907272, 0.10077057, 0.11450382, 0.10338764, 0.09534591,\n",
       "        0.0375299 ],\n",
       "       [0.10486214, 0.07961098, 0.06870229, 0.09136778, 0.08298921,\n",
       "        0.01932517],\n",
       "       [0.03914702, 0.03900021, 0.04834606, 0.04088617, 0.03922256,\n",
       "        0.01398178],\n",
       "       [0.01022147, 0.01945117, 0.00508906, 0.0141873 , 0.00656898,\n",
       "        0.00596696],\n",
       "       [0.89231726, 0.82731528, 0.67938931, 0.95305473, 0.8319648 ,\n",
       "        0.44729521],\n",
       "       [0.7903722 , 0.57194974, 0.9821883 , 0.55233828, 0.70390153,\n",
       "        0.78379365],\n",
       "       [0.20013864, 0.20232417, 0.15776081, 0.23540033, 0.19207896,\n",
       "        0.09957471],\n",
       "       [0.2297315 , 0.18124466, 0.16030534, 0.18851668, 0.21483123,\n",
       "        0.14423788],\n",
       "       [0.16150049, 0.13200278, 0.21374046, 0.15422197, 0.15625249,\n",
       "        0.09487824],\n",
       "       [0.20112133, 0.17203517, 0.15267176, 0.19586864, 0.1775698 ,\n",
       "        0.10738489],\n",
       "       [0.11383126, 0.09108948, 0.1221374 , 0.11839314, 0.10655463,\n",
       "        0.03577815],\n",
       "       [0.15313317, 0.14989678, 0.13486005, 0.15806906, 0.15186786,\n",
       "        0.0508425 ],\n",
       "       [0.10215226, 0.08016266, 0.09160305, 0.10633787, 0.09008434,\n",
       "        0.03953021],\n",
       "       [0.12910939, 0.12954691, 0.1043257 , 0.14406664, 0.12379024,\n",
       "        0.04538927],\n",
       "       [0.10941196, 0.10004093, 0.04834606, 0.11295161, 0.10972751,\n",
       "        0.02567404],\n",
       "       [0.0670396 , 0.07358699, 0.07633588, 0.0772644 , 0.05700027,\n",
       "        0.03387994],\n",
       "       [0.09131426, 0.09149879, 0.10941476, 0.1011599 , 0.09057861,\n",
       "        0.0286703 ],\n",
       "       [0.10792549, 0.08666714, 0.11195929, 0.1011599 , 0.09295429,\n",
       "        0.03954707],\n",
       "       [0.09878116, 0.06982311, 0.07124682, 0.08999101, 0.08392991,\n",
       "        0.02094482],\n",
       "       [0.03855233, 0.0349338 , 0.04834606, 0.04171092, 0.03834564,\n",
       "        0.01696588],\n",
       "       [0.01639031, 0.02129307, 0.00508906, 0.01792949, 0.0089606 ,\n",
       "        0.00712512],\n",
       "       [0.9428274 , 0.77470103, 0.67684478, 0.97738817, 0.78027392,\n",
       "        0.48101101],\n",
       "       [0.77946056, 0.50686041, 0.99745547, 0.54770577, 0.65986384,\n",
       "        0.83588634],\n",
       "       [0.1931933 , 0.17896676, 0.14503817, 0.24116572, 0.16864108,\n",
       "        0.10238209],\n",
       "       [0.21722979, 0.16052997, 0.16030534, 0.19102371, 0.19206301,\n",
       "        0.15363027],\n",
       "       [0.1626594 , 0.11824637, 0.21628499, 0.15481463, 0.13681659,\n",
       "        0.09952939],\n",
       "       [0.21258399, 0.16884966, 0.14503817, 0.19901685, 0.17214879,\n",
       "        0.11500287],\n",
       "       [0.12289332, 0.07910379, 0.1221374 , 0.11868554, 0.09668522,\n",
       "        0.03686225],\n",
       "       [0.1541636 , 0.13318622, 0.13231552, 0.16022993, 0.12980118,\n",
       "        0.05321119],\n",
       "       [0.10664774, 0.07113112, 0.08905852, 0.10690562, 0.08332403,\n",
       "        0.04289747],\n",
       "       [0.13565251, 0.11806841, 0.10178117, 0.14824809, 0.11023773,\n",
       "        0.04670701],\n",
       "       [0.11035808, 0.09011069, 0.043257  , 0.11413301, 0.09137582,\n",
       "        0.02735767],\n",
       "       [0.06371827, 0.06262457, 0.07633588, 0.07893488, 0.04886876,\n",
       "        0.03480777],\n",
       "       [0.10087299, 0.08430915, 0.09923664, 0.10260747, 0.0805657 ,\n",
       "        0.03122635],\n",
       "       [0.10792955, 0.07319547, 0.10941476, 0.10012797, 0.08372264,\n",
       "        0.04258865],\n",
       "       [0.10418163, 0.06442198, 0.07379135, 0.08958453, 0.07079195,\n",
       "        0.0231734 ],\n",
       "       [0.04074979, 0.03265589, 0.05089059, 0.04327782, 0.0369585 ,\n",
       "        0.01962694],\n",
       "       [0.0202586 , 0.02306378, 0.01017812, 0.02330677, 0.00854605,\n",
       "        0.00818324],\n",
       "       [0.90965217, 0.73041536, 0.66666667, 1.        , 0.83346354,\n",
       "        0.51681237],\n",
       "       [0.74195288, 0.46770003, 0.98982188, 0.54441857, 0.67716322,\n",
       "        0.88320311],\n",
       "       [0.19829058, 0.16140198, 0.14249364, 0.24587296, 0.17506657,\n",
       "        0.10474303],\n",
       "       [0.2132706 , 0.14181734, 0.1653944 , 0.19471346, 0.20955372,\n",
       "        0.16262596],\n",
       "       [0.16301083, 0.10786233, 0.2264631 , 0.15607602, 0.14805721,\n",
       "        0.1072673 ],\n",
       "       [0.20681736, 0.15492419, 0.14503817, 0.20161567, 0.1817631 ,\n",
       "        0.12398019],\n",
       "       [0.11498408, 0.06993878, 0.1221374 , 0.11884944, 0.10395574,\n",
       "        0.03876999],\n",
       "       [0.15030953, 0.11888703, 0.13231552, 0.1629625 , 0.1392401 ,\n",
       "        0.05622196],\n",
       "       [0.10456404, 0.06453766, 0.08396947, 0.10738815, 0.08209633,\n",
       "        0.04761342],\n",
       "       [0.12415634, 0.10781784, 0.10178117, 0.15122716, 0.11718937,\n",
       "        0.04826601],\n",
       "       [0.11079331, 0.08649808, 0.043257  , 0.11520558, 0.10156412,\n",
       "        0.02950873],\n",
       "       [0.06963572, 0.05719675, 0.07888041, 0.08053718, 0.04878904,\n",
       "        0.03601595],\n",
       "       [0.09838149, 0.07315988, 0.09669211, 0.10439728, 0.08756517,\n",
       "        0.03312096],\n",
       "       [0.10850545, 0.06494697, 0.11195929, 0.09919701, 0.08620992,\n",
       "        0.04544343],\n",
       "       [0.10200448, 0.06381691, 0.07633588, 0.08985333, 0.07672316,\n",
       "        0.02564792],\n",
       "       [0.03906424, 0.03015554, 0.05343511, 0.04455231, 0.03718172,\n",
       "        0.02190304],\n",
       "       [0.02212443, 0.02409596, 0.01272265, 0.0272758 , 0.01042746,\n",
       "        0.0088082 ],\n",
       "       [1.        , 0.68182304, 0.6692112 , 0.98949327, 1.        ,\n",
       "        0.57673416],\n",
       "       [0.82671082, 0.41228289, 0.97455471, 0.52769146, 0.7837338 ,\n",
       "        1.        ],\n",
       "       [0.20562189, 0.13980638, 0.14503817, 0.24094675, 0.18708844,\n",
       "        0.1112403 ],\n",
       "       [0.24938779, 0.1241013 , 0.1653944 , 0.19200974, 0.22366428,\n",
       "        0.17929408],\n",
       "       [0.17722603, 0.08971028, 0.21628499, 0.15144089, 0.14635119,\n",
       "        0.11925802],\n",
       "       [0.22609175, 0.13283919, 0.1475827 , 0.19646917, 0.20389356,\n",
       "        0.13768769],\n",
       "       [0.12313708, 0.06276694, 0.11704835, 0.11482402, 0.10406735,\n",
       "        0.04242285],\n",
       "       [0.16229324, 0.10465903, 0.12977099, 0.15995327, 0.14421467,\n",
       "        0.06184639],\n",
       "       [0.11027277, 0.05523028, 0.08651399, 0.10401702, 0.08584321,\n",
       "        0.05489882],\n",
       "       [0.1377677 , 0.09644611, 0.1043257 , 0.14819958, 0.127282  ,\n",
       "        0.05342826],\n",
       "       [0.11866446, 0.0767636 , 0.04071247, 0.11186593, 0.10398763,\n",
       "        0.03368291],\n",
       "       [0.06834985, 0.04899274, 0.08142494, 0.07907518, 0.05306207,\n",
       "        0.03878367],\n",
       "       [0.1073247 , 0.06669989, 0.09669211, 0.10233343, 0.09051484,\n",
       "        0.03625636],\n",
       "       [0.11594645, 0.05668067, 0.10687023, 0.0953473 , 0.09532996,\n",
       "        0.05100237],\n",
       "       [0.10298564, 0.05983058, 0.07633588, 0.08704865, 0.08176151,\n",
       "        0.02819029],\n",
       "       [0.04043848, 0.02560863, 0.05343511, 0.04390589, 0.03874424,\n",
       "        0.02452997],\n",
       "       [0.02579872, 0.02097274, 0.01272265, 0.02936718, 0.01490776,\n",
       "        0.01027393]])"
      ]
     },
     "execution_count": 585,
     "metadata": {},
     "output_type": "execute_result"
    }
   ],
   "source": [
    "# 최대값과 최소값 가져오기\n",
    "min_max_scaler = preprocessing.MinMaxScaler()\n",
    "\n",
    "col = df_km.columns[:6]\n",
    "x = df_km[col].values\n",
    "x_scaled = min_max_scaler.fit_transform(x.astype(float))\n",
    "x_scaled"
   ]
  },
  {
   "cell_type": "code",
   "execution_count": 586,
   "metadata": {},
   "outputs": [
    {
     "data": {
      "text/html": [
       "<div>\n",
       "<style scoped>\n",
       "    .dataframe tbody tr th:only-of-type {\n",
       "        vertical-align: middle;\n",
       "    }\n",
       "\n",
       "    .dataframe tbody tr th {\n",
       "        vertical-align: top;\n",
       "    }\n",
       "\n",
       "    .dataframe thead th {\n",
       "        text-align: right;\n",
       "    }\n",
       "</style>\n",
       "<table border=\"1\" class=\"dataframe\">\n",
       "  <thead>\n",
       "    <tr style=\"text-align: right;\">\n",
       "      <th></th>\n",
       "      <th>전출인구</th>\n",
       "      <th>출생아수</th>\n",
       "      <th>산부인과의원수</th>\n",
       "      <th>초등학생인원수</th>\n",
       "      <th>도매 및 소매업 신생</th>\n",
       "      <th>예금은행대출금액</th>\n",
       "    </tr>\n",
       "    <tr>\n",
       "      <th>시도</th>\n",
       "      <th></th>\n",
       "      <th></th>\n",
       "      <th></th>\n",
       "      <th></th>\n",
       "      <th></th>\n",
       "      <th></th>\n",
       "    </tr>\n",
       "  </thead>\n",
       "  <tbody>\n",
       "    <tr>\n",
       "      <th>경기도</th>\n",
       "      <td>0.917273</td>\n",
       "      <td>0.987845</td>\n",
       "      <td>0.722646</td>\n",
       "      <td>0.960500</td>\n",
       "      <td>0.776750</td>\n",
       "      <td>0.339958</td>\n",
       "    </tr>\n",
       "    <tr>\n",
       "      <th>서울특별시</th>\n",
       "      <td>0.815367</td>\n",
       "      <td>0.738139</td>\n",
       "      <td>1.000000</td>\n",
       "      <td>0.606175</td>\n",
       "      <td>0.760073</td>\n",
       "      <td>0.635611</td>\n",
       "    </tr>\n",
       "    <tr>\n",
       "      <th>경상남도</th>\n",
       "      <td>0.207586</td>\n",
       "      <td>0.252643</td>\n",
       "      <td>0.160305</td>\n",
       "      <td>0.240051</td>\n",
       "      <td>0.194295</td>\n",
       "      <td>0.075801</td>\n",
       "    </tr>\n",
       "    <tr>\n",
       "      <th>부산광역시</th>\n",
       "      <td>0.244302</td>\n",
       "      <td>0.219960</td>\n",
       "      <td>0.203562</td>\n",
       "      <td>0.201574</td>\n",
       "      <td>0.214863</td>\n",
       "      <td>0.103605</td>\n",
       "    </tr>\n",
       "    <tr>\n",
       "      <th>대구광역시</th>\n",
       "      <td>0.176790</td>\n",
       "      <td>0.162203</td>\n",
       "      <td>0.213740</td>\n",
       "      <td>0.169433</td>\n",
       "      <td>0.152346</td>\n",
       "      <td>0.061002</td>\n",
       "    </tr>\n",
       "  </tbody>\n",
       "</table>\n",
       "</div>"
      ],
      "text/plain": [
       "           전출인구      출생아수   산부인과의원수   초등학생인원수  도매 및 소매업 신생  예금은행대출금액\n",
       "시도                                                                  \n",
       "경기도    0.917273  0.987845  0.722646  0.960500     0.776750  0.339958\n",
       "서울특별시  0.815367  0.738139  1.000000  0.606175     0.760073  0.635611\n",
       "경상남도   0.207586  0.252643  0.160305  0.240051     0.194295  0.075801\n",
       "부산광역시  0.244302  0.219960  0.203562  0.201574     0.214863  0.103605\n",
       "대구광역시  0.176790  0.162203  0.213740  0.169433     0.152346  0.061002"
      ]
     },
     "execution_count": 586,
     "metadata": {},
     "output_type": "execute_result"
    }
   ],
   "source": [
    "# 정규화된 데이터프레임 생성\n",
    "df_km_norm = pd.DataFrame(x_scaled, columns=col, index=df_km.index)\n",
    "# df_2020_norm['시도'] = df['시도']\n",
    "df_km_norm.head()"
   ]
  },
  {
   "attachments": {},
   "cell_type": "markdown",
   "metadata": {},
   "source": [
    "### 표준화 작업"
   ]
  },
  {
   "cell_type": "code",
   "execution_count": 587,
   "metadata": {},
   "outputs": [
    {
     "data": {
      "text/html": [
       "<div>\n",
       "<style scoped>\n",
       "    .dataframe tbody tr th:only-of-type {\n",
       "        vertical-align: middle;\n",
       "    }\n",
       "\n",
       "    .dataframe tbody tr th {\n",
       "        vertical-align: top;\n",
       "    }\n",
       "\n",
       "    .dataframe thead th {\n",
       "        text-align: right;\n",
       "    }\n",
       "</style>\n",
       "<table border=\"1\" class=\"dataframe\">\n",
       "  <thead>\n",
       "    <tr style=\"text-align: right;\">\n",
       "      <th></th>\n",
       "      <th>전출인구</th>\n",
       "      <th>출생아수</th>\n",
       "      <th>산부인과의원수</th>\n",
       "      <th>초등학생인원수</th>\n",
       "      <th>도매 및 소매업 신생</th>\n",
       "      <th>예금은행대출금액</th>\n",
       "      <th>cluster_id</th>\n",
       "    </tr>\n",
       "    <tr>\n",
       "      <th>시도</th>\n",
       "      <th></th>\n",
       "      <th></th>\n",
       "      <th></th>\n",
       "      <th></th>\n",
       "      <th></th>\n",
       "      <th></th>\n",
       "      <th></th>\n",
       "    </tr>\n",
       "  </thead>\n",
       "  <tbody>\n",
       "    <tr>\n",
       "      <th>경기도</th>\n",
       "      <td>0.917273</td>\n",
       "      <td>0.987845</td>\n",
       "      <td>0.722646</td>\n",
       "      <td>0.960500</td>\n",
       "      <td>0.776750</td>\n",
       "      <td>0.339958</td>\n",
       "      <td>0.00</td>\n",
       "    </tr>\n",
       "    <tr>\n",
       "      <th>서울특별시</th>\n",
       "      <td>0.815367</td>\n",
       "      <td>0.738139</td>\n",
       "      <td>1.000000</td>\n",
       "      <td>0.606175</td>\n",
       "      <td>0.760073</td>\n",
       "      <td>0.635611</td>\n",
       "      <td>0.33</td>\n",
       "    </tr>\n",
       "    <tr>\n",
       "      <th>경상남도</th>\n",
       "      <td>0.207586</td>\n",
       "      <td>0.252643</td>\n",
       "      <td>0.160305</td>\n",
       "      <td>0.240051</td>\n",
       "      <td>0.194295</td>\n",
       "      <td>0.075801</td>\n",
       "      <td>0.67</td>\n",
       "    </tr>\n",
       "    <tr>\n",
       "      <th>부산광역시</th>\n",
       "      <td>0.244302</td>\n",
       "      <td>0.219960</td>\n",
       "      <td>0.203562</td>\n",
       "      <td>0.201574</td>\n",
       "      <td>0.214863</td>\n",
       "      <td>0.103605</td>\n",
       "      <td>0.67</td>\n",
       "    </tr>\n",
       "    <tr>\n",
       "      <th>대구광역시</th>\n",
       "      <td>0.176790</td>\n",
       "      <td>0.162203</td>\n",
       "      <td>0.213740</td>\n",
       "      <td>0.169433</td>\n",
       "      <td>0.152346</td>\n",
       "      <td>0.061002</td>\n",
       "      <td>0.67</td>\n",
       "    </tr>\n",
       "  </tbody>\n",
       "</table>\n",
       "</div>"
      ],
      "text/plain": [
       "           전출인구      출생아수   산부인과의원수   초등학생인원수  도매 및 소매업 신생  예금은행대출금액  \\\n",
       "시도                                                                     \n",
       "경기도    0.917273  0.987845  0.722646  0.960500     0.776750  0.339958   \n",
       "서울특별시  0.815367  0.738139  1.000000  0.606175     0.760073  0.635611   \n",
       "경상남도   0.207586  0.252643  0.160305  0.240051     0.194295  0.075801   \n",
       "부산광역시  0.244302  0.219960  0.203562  0.201574     0.214863  0.103605   \n",
       "대구광역시  0.176790  0.162203  0.213740  0.169433     0.152346  0.061002   \n",
       "\n",
       "       cluster_id  \n",
       "시도                 \n",
       "경기도          0.00  \n",
       "서울특별시        0.33  \n",
       "경상남도         0.67  \n",
       "부산광역시        0.67  \n",
       "대구광역시        0.67  "
      ]
     },
     "execution_count": 587,
     "metadata": {},
     "output_type": "execute_result"
    }
   ],
   "source": [
    "df_km_norm['cluster_id'] = df_km['cluster_id']\n",
    "df_km_norm.head()"
   ]
  },
  {
   "cell_type": "code",
   "execution_count": 588,
   "metadata": {},
   "outputs": [
    {
     "data": {
      "text/html": [
       "<div>\n",
       "<style scoped>\n",
       "    .dataframe tbody tr th:only-of-type {\n",
       "        vertical-align: middle;\n",
       "    }\n",
       "\n",
       "    .dataframe tbody tr th {\n",
       "        vertical-align: top;\n",
       "    }\n",
       "\n",
       "    .dataframe thead th {\n",
       "        text-align: right;\n",
       "    }\n",
       "</style>\n",
       "<table border=\"1\" class=\"dataframe\">\n",
       "  <thead>\n",
       "    <tr style=\"text-align: right;\">\n",
       "      <th></th>\n",
       "      <th>전출인구</th>\n",
       "      <th>출생아수</th>\n",
       "      <th>산부인과의원수</th>\n",
       "      <th>초등학생인원수</th>\n",
       "      <th>도매 및 소매업 신생</th>\n",
       "      <th>예금은행대출금액</th>\n",
       "      <th>cluster_id</th>\n",
       "    </tr>\n",
       "    <tr>\n",
       "      <th>시도</th>\n",
       "      <th></th>\n",
       "      <th></th>\n",
       "      <th></th>\n",
       "      <th></th>\n",
       "      <th></th>\n",
       "      <th></th>\n",
       "      <th></th>\n",
       "    </tr>\n",
       "  </thead>\n",
       "  <tbody>\n",
       "    <tr>\n",
       "      <th>경기도</th>\n",
       "      <td>0.917273</td>\n",
       "      <td>0.987845</td>\n",
       "      <td>0.722646</td>\n",
       "      <td>0.960500</td>\n",
       "      <td>0.776750</td>\n",
       "      <td>0.339958</td>\n",
       "      <td>0.00</td>\n",
       "    </tr>\n",
       "    <tr>\n",
       "      <th>서울특별시</th>\n",
       "      <td>0.815367</td>\n",
       "      <td>0.738139</td>\n",
       "      <td>1.000000</td>\n",
       "      <td>0.606175</td>\n",
       "      <td>0.760073</td>\n",
       "      <td>0.635611</td>\n",
       "      <td>0.33</td>\n",
       "    </tr>\n",
       "    <tr>\n",
       "      <th>경상남도</th>\n",
       "      <td>0.207586</td>\n",
       "      <td>0.252643</td>\n",
       "      <td>0.160305</td>\n",
       "      <td>0.240051</td>\n",
       "      <td>0.194295</td>\n",
       "      <td>0.075801</td>\n",
       "      <td>0.67</td>\n",
       "    </tr>\n",
       "    <tr>\n",
       "      <th>부산광역시</th>\n",
       "      <td>0.244302</td>\n",
       "      <td>0.219960</td>\n",
       "      <td>0.203562</td>\n",
       "      <td>0.201574</td>\n",
       "      <td>0.214863</td>\n",
       "      <td>0.103605</td>\n",
       "      <td>0.67</td>\n",
       "    </tr>\n",
       "    <tr>\n",
       "      <th>대구광역시</th>\n",
       "      <td>0.176790</td>\n",
       "      <td>0.162203</td>\n",
       "      <td>0.213740</td>\n",
       "      <td>0.169433</td>\n",
       "      <td>0.152346</td>\n",
       "      <td>0.061002</td>\n",
       "      <td>0.67</td>\n",
       "    </tr>\n",
       "  </tbody>\n",
       "</table>\n",
       "</div>"
      ],
      "text/plain": [
       "           전출인구      출생아수   산부인과의원수   초등학생인원수  도매 및 소매업 신생  예금은행대출금액  \\\n",
       "시도                                                                     \n",
       "경기도    0.917273  0.987845  0.722646  0.960500     0.776750  0.339958   \n",
       "서울특별시  0.815367  0.738139  1.000000  0.606175     0.760073  0.635611   \n",
       "경상남도   0.207586  0.252643  0.160305  0.240051     0.194295  0.075801   \n",
       "부산광역시  0.244302  0.219960  0.203562  0.201574     0.214863  0.103605   \n",
       "대구광역시  0.176790  0.162203  0.213740  0.169433     0.152346  0.061002   \n",
       "\n",
       "       cluster_id  \n",
       "시도                 \n",
       "경기도          0.00  \n",
       "서울특별시        0.33  \n",
       "경상남도         0.67  \n",
       "부산광역시        0.67  \n",
       "대구광역시        0.67  "
      ]
     },
     "execution_count": 588,
     "metadata": {},
     "output_type": "execute_result"
    }
   ],
   "source": [
    "df_feature = df_km_norm.iloc[:,:7]\n",
    "df_feature.head()"
   ]
  },
  {
   "cell_type": "code",
   "execution_count": 589,
   "metadata": {},
   "outputs": [
    {
     "data": {
      "text/html": [
       "<style>#sk-container-id-24 {color: black;background-color: white;}#sk-container-id-24 pre{padding: 0;}#sk-container-id-24 div.sk-toggleable {background-color: white;}#sk-container-id-24 label.sk-toggleable__label {cursor: pointer;display: block;width: 100%;margin-bottom: 0;padding: 0.3em;box-sizing: border-box;text-align: center;}#sk-container-id-24 label.sk-toggleable__label-arrow:before {content: \"▸\";float: left;margin-right: 0.25em;color: #696969;}#sk-container-id-24 label.sk-toggleable__label-arrow:hover:before {color: black;}#sk-container-id-24 div.sk-estimator:hover label.sk-toggleable__label-arrow:before {color: black;}#sk-container-id-24 div.sk-toggleable__content {max-height: 0;max-width: 0;overflow: hidden;text-align: left;background-color: #f0f8ff;}#sk-container-id-24 div.sk-toggleable__content pre {margin: 0.2em;color: black;border-radius: 0.25em;background-color: #f0f8ff;}#sk-container-id-24 input.sk-toggleable__control:checked~div.sk-toggleable__content {max-height: 200px;max-width: 100%;overflow: auto;}#sk-container-id-24 input.sk-toggleable__control:checked~label.sk-toggleable__label-arrow:before {content: \"▾\";}#sk-container-id-24 div.sk-estimator input.sk-toggleable__control:checked~label.sk-toggleable__label {background-color: #d4ebff;}#sk-container-id-24 div.sk-label input.sk-toggleable__control:checked~label.sk-toggleable__label {background-color: #d4ebff;}#sk-container-id-24 input.sk-hidden--visually {border: 0;clip: rect(1px 1px 1px 1px);clip: rect(1px, 1px, 1px, 1px);height: 1px;margin: -1px;overflow: hidden;padding: 0;position: absolute;width: 1px;}#sk-container-id-24 div.sk-estimator {font-family: monospace;background-color: #f0f8ff;border: 1px dotted black;border-radius: 0.25em;box-sizing: border-box;margin-bottom: 0.5em;}#sk-container-id-24 div.sk-estimator:hover {background-color: #d4ebff;}#sk-container-id-24 div.sk-parallel-item::after {content: \"\";width: 100%;border-bottom: 1px solid gray;flex-grow: 1;}#sk-container-id-24 div.sk-label:hover label.sk-toggleable__label {background-color: #d4ebff;}#sk-container-id-24 div.sk-serial::before {content: \"\";position: absolute;border-left: 1px solid gray;box-sizing: border-box;top: 0;bottom: 0;left: 50%;z-index: 0;}#sk-container-id-24 div.sk-serial {display: flex;flex-direction: column;align-items: center;background-color: white;padding-right: 0.2em;padding-left: 0.2em;position: relative;}#sk-container-id-24 div.sk-item {position: relative;z-index: 1;}#sk-container-id-24 div.sk-parallel {display: flex;align-items: stretch;justify-content: center;background-color: white;position: relative;}#sk-container-id-24 div.sk-item::before, #sk-container-id-24 div.sk-parallel-item::before {content: \"\";position: absolute;border-left: 1px solid gray;box-sizing: border-box;top: 0;bottom: 0;left: 50%;z-index: -1;}#sk-container-id-24 div.sk-parallel-item {display: flex;flex-direction: column;z-index: 1;position: relative;background-color: white;}#sk-container-id-24 div.sk-parallel-item:first-child::after {align-self: flex-end;width: 50%;}#sk-container-id-24 div.sk-parallel-item:last-child::after {align-self: flex-start;width: 50%;}#sk-container-id-24 div.sk-parallel-item:only-child::after {width: 0;}#sk-container-id-24 div.sk-dashed-wrapped {border: 1px dashed gray;margin: 0 0.4em 0.5em 0.4em;box-sizing: border-box;padding-bottom: 0.4em;background-color: white;}#sk-container-id-24 div.sk-label label {font-family: monospace;font-weight: bold;display: inline-block;line-height: 1.2em;}#sk-container-id-24 div.sk-label-container {text-align: center;}#sk-container-id-24 div.sk-container {/* jupyter's `normalize.less` sets `[hidden] { display: none; }` but bootstrap.min.css set `[hidden] { display: none !important; }` so we also need the `!important` here to be able to override the default hidden behavior on the sphinx rendered scikit-learn.org. See: https://github.com/scikit-learn/scikit-learn/issues/21755 */display: inline-block !important;position: relative;}#sk-container-id-24 div.sk-text-repr-fallback {display: none;}</style><div id=\"sk-container-id-24\" class=\"sk-top-container\"><div class=\"sk-text-repr-fallback\"><pre>PCA(n_components=7)</pre><b>In a Jupyter environment, please rerun this cell to show the HTML representation or trust the notebook. <br />On GitHub, the HTML representation is unable to render, please try loading this page with nbviewer.org.</b></div><div class=\"sk-container\" hidden><div class=\"sk-item\"><div class=\"sk-estimator sk-toggleable\"><input class=\"sk-toggleable__control sk-hidden--visually\" id=\"sk-estimator-id-24\" type=\"checkbox\" checked><label for=\"sk-estimator-id-24\" class=\"sk-toggleable__label sk-toggleable__label-arrow\">PCA</label><div class=\"sk-toggleable__content\"><pre>PCA(n_components=7)</pre></div></div></div></div></div>"
      ],
      "text/plain": [
       "PCA(n_components=7)"
      ]
     },
     "execution_count": 589,
     "metadata": {},
     "output_type": "execute_result"
    }
   ],
   "source": [
    "from sklearn.decomposition import PCA\n",
    "pca = PCA(n_components=7) # 300개의 데이터중 구별이 확실한 주성분 50개를 선택\n",
    "pca.fit(df_feature)"
   ]
  },
  {
   "cell_type": "code",
   "execution_count": 590,
   "metadata": {},
   "outputs": [
    {
     "data": {
      "text/plain": [
       "(7, 7)"
      ]
     },
     "execution_count": 590,
     "metadata": {},
     "output_type": "execute_result"
    }
   ],
   "source": [
    "pca.components_.shape # sample 50개만 들어가있다 # 50개가 뭔지 그래프로 그려보자"
   ]
  },
  {
   "cell_type": "code",
   "execution_count": 591,
   "metadata": {},
   "outputs": [
    {
     "data": {
      "image/png": "[encoded data removed]",
      "text/plain": [
       "<Figure size 640x480 with 1 Axes>"
      ]
     },
     "metadata": {},
     "output_type": "display_data"
    }
   ],
   "source": [
    "plt.plot(pca.explained_variance_ratio_)\n",
    "plt.show()"
   ]
  },
  {
   "attachments": {},
   "cell_type": "markdown",
   "metadata": {},
   "source": [
    "> ### 2개 or 1개 선정"
   ]
  },
  {
   "cell_type": "code",
   "execution_count": 592,
   "metadata": {},
   "outputs": [
    {
     "name": "stdout",
     "output_type": "stream",
     "text": [
      "[9.25086080e-01 4.84438444e-02 1.89687932e-02 5.45716174e-03\n",
      " 1.02982314e-03 7.28051265e-04 2.86246644e-04]\n",
      "sum: 0.9999999999999998\n"
     ]
    }
   ],
   "source": [
    "print(pca.explained_variance_ratio_)\n",
    "print('sum:', sum(pca.explained_variance_ratio_))"
   ]
  },
  {
   "cell_type": "code",
   "execution_count": 593,
   "metadata": {},
   "outputs": [
    {
     "data": {
      "text/html": [
       "<style>#sk-container-id-25 {color: black;background-color: white;}#sk-container-id-25 pre{padding: 0;}#sk-container-id-25 div.sk-toggleable {background-color: white;}#sk-container-id-25 label.sk-toggleable__label {cursor: pointer;display: block;width: 100%;margin-bottom: 0;padding: 0.3em;box-sizing: border-box;text-align: center;}#sk-container-id-25 label.sk-toggleable__label-arrow:before {content: \"▸\";float: left;margin-right: 0.25em;color: #696969;}#sk-container-id-25 label.sk-toggleable__label-arrow:hover:before {color: black;}#sk-container-id-25 div.sk-estimator:hover label.sk-toggleable__label-arrow:before {color: black;}#sk-container-id-25 div.sk-toggleable__content {max-height: 0;max-width: 0;overflow: hidden;text-align: left;background-color: #f0f8ff;}#sk-container-id-25 div.sk-toggleable__content pre {margin: 0.2em;color: black;border-radius: 0.25em;background-color: #f0f8ff;}#sk-container-id-25 input.sk-toggleable__control:checked~div.sk-toggleable__content {max-height: 200px;max-width: 100%;overflow: auto;}#sk-container-id-25 input.sk-toggleable__control:checked~label.sk-toggleable__label-arrow:before {content: \"▾\";}#sk-container-id-25 div.sk-estimator input.sk-toggleable__control:checked~label.sk-toggleable__label {background-color: #d4ebff;}#sk-container-id-25 div.sk-label input.sk-toggleable__control:checked~label.sk-toggleable__label {background-color: #d4ebff;}#sk-container-id-25 input.sk-hidden--visually {border: 0;clip: rect(1px 1px 1px 1px);clip: rect(1px, 1px, 1px, 1px);height: 1px;margin: -1px;overflow: hidden;padding: 0;position: absolute;width: 1px;}#sk-container-id-25 div.sk-estimator {font-family: monospace;background-color: #f0f8ff;border: 1px dotted black;border-radius: 0.25em;box-sizing: border-box;margin-bottom: 0.5em;}#sk-container-id-25 div.sk-estimator:hover {background-color: #d4ebff;}#sk-container-id-25 div.sk-parallel-item::after {content: \"\";width: 100%;border-bottom: 1px solid gray;flex-grow: 1;}#sk-container-id-25 div.sk-label:hover label.sk-toggleable__label {background-color: #d4ebff;}#sk-container-id-25 div.sk-serial::before {content: \"\";position: absolute;border-left: 1px solid gray;box-sizing: border-box;top: 0;bottom: 0;left: 50%;z-index: 0;}#sk-container-id-25 div.sk-serial {display: flex;flex-direction: column;align-items: center;background-color: white;padding-right: 0.2em;padding-left: 0.2em;position: relative;}#sk-container-id-25 div.sk-item {position: relative;z-index: 1;}#sk-container-id-25 div.sk-parallel {display: flex;align-items: stretch;justify-content: center;background-color: white;position: relative;}#sk-container-id-25 div.sk-item::before, #sk-container-id-25 div.sk-parallel-item::before {content: \"\";position: absolute;border-left: 1px solid gray;box-sizing: border-box;top: 0;bottom: 0;left: 50%;z-index: -1;}#sk-container-id-25 div.sk-parallel-item {display: flex;flex-direction: column;z-index: 1;position: relative;background-color: white;}#sk-container-id-25 div.sk-parallel-item:first-child::after {align-self: flex-end;width: 50%;}#sk-container-id-25 div.sk-parallel-item:last-child::after {align-self: flex-start;width: 50%;}#sk-container-id-25 div.sk-parallel-item:only-child::after {width: 0;}#sk-container-id-25 div.sk-dashed-wrapped {border: 1px dashed gray;margin: 0 0.4em 0.5em 0.4em;box-sizing: border-box;padding-bottom: 0.4em;background-color: white;}#sk-container-id-25 div.sk-label label {font-family: monospace;font-weight: bold;display: inline-block;line-height: 1.2em;}#sk-container-id-25 div.sk-label-container {text-align: center;}#sk-container-id-25 div.sk-container {/* jupyter's `normalize.less` sets `[hidden] { display: none; }` but bootstrap.min.css set `[hidden] { display: none !important; }` so we also need the `!important` here to be able to override the default hidden behavior on the sphinx rendered scikit-learn.org. See: https://github.com/scikit-learn/scikit-learn/issues/21755 */display: inline-block !important;position: relative;}#sk-container-id-25 div.sk-text-repr-fallback {display: none;}</style><div id=\"sk-container-id-25\" class=\"sk-top-container\"><div class=\"sk-text-repr-fallback\"><pre>PCA(n_components=1)</pre><b>In a Jupyter environment, please rerun this cell to show the HTML representation or trust the notebook. <br />On GitHub, the HTML representation is unable to render, please try loading this page with nbviewer.org.</b></div><div class=\"sk-container\" hidden><div class=\"sk-item\"><div class=\"sk-estimator sk-toggleable\"><input class=\"sk-toggleable__control sk-hidden--visually\" id=\"sk-estimator-id-25\" type=\"checkbox\" checked><label for=\"sk-estimator-id-25\" class=\"sk-toggleable__label sk-toggleable__label-arrow\">PCA</label><div class=\"sk-toggleable__content\"><pre>PCA(n_components=1)</pre></div></div></div></div></div>"
      ],
      "text/plain": [
       "PCA(n_components=1)"
      ]
     },
     "execution_count": 593,
     "metadata": {},
     "output_type": "execute_result"
    }
   ],
   "source": [
    "from sklearn.decomposition import PCA\n",
    "pca = PCA(n_components=1) # 300개의 데이터중 구별이 확실한 주성분 50개를 선택\n",
    "pca.fit(df_feature)"
   ]
  },
  {
   "cell_type": "code",
   "execution_count": 594,
   "metadata": {},
   "outputs": [
    {
     "data": {
      "text/plain": [
       "(1, 7)"
      ]
     },
     "execution_count": 594,
     "metadata": {},
     "output_type": "execute_result"
    }
   ],
   "source": [
    "pca.components_.shape # sample 50개만 들어가있다 # 50개가 뭔지 그래프로 그려보자"
   ]
  },
  {
   "cell_type": "code",
   "execution_count": 595,
   "metadata": {},
   "outputs": [
    {
     "data": {
      "text/html": [
       "<style>#sk-container-id-26 {color: black;background-color: white;}#sk-container-id-26 pre{padding: 0;}#sk-container-id-26 div.sk-toggleable {background-color: white;}#sk-container-id-26 label.sk-toggleable__label {cursor: pointer;display: block;width: 100%;margin-bottom: 0;padding: 0.3em;box-sizing: border-box;text-align: center;}#sk-container-id-26 label.sk-toggleable__label-arrow:before {content: \"▸\";float: left;margin-right: 0.25em;color: #696969;}#sk-container-id-26 label.sk-toggleable__label-arrow:hover:before {color: black;}#sk-container-id-26 div.sk-estimator:hover label.sk-toggleable__label-arrow:before {color: black;}#sk-container-id-26 div.sk-toggleable__content {max-height: 0;max-width: 0;overflow: hidden;text-align: left;background-color: #f0f8ff;}#sk-container-id-26 div.sk-toggleable__content pre {margin: 0.2em;color: black;border-radius: 0.25em;background-color: #f0f8ff;}#sk-container-id-26 input.sk-toggleable__control:checked~div.sk-toggleable__content {max-height: 200px;max-width: 100%;overflow: auto;}#sk-container-id-26 input.sk-toggleable__control:checked~label.sk-toggleable__label-arrow:before {content: \"▾\";}#sk-container-id-26 div.sk-estimator input.sk-toggleable__control:checked~label.sk-toggleable__label {background-color: #d4ebff;}#sk-container-id-26 div.sk-label input.sk-toggleable__control:checked~label.sk-toggleable__label {background-color: #d4ebff;}#sk-container-id-26 input.sk-hidden--visually {border: 0;clip: rect(1px 1px 1px 1px);clip: rect(1px, 1px, 1px, 1px);height: 1px;margin: -1px;overflow: hidden;padding: 0;position: absolute;width: 1px;}#sk-container-id-26 div.sk-estimator {font-family: monospace;background-color: #f0f8ff;border: 1px dotted black;border-radius: 0.25em;box-sizing: border-box;margin-bottom: 0.5em;}#sk-container-id-26 div.sk-estimator:hover {background-color: #d4ebff;}#sk-container-id-26 div.sk-parallel-item::after {content: \"\";width: 100%;border-bottom: 1px solid gray;flex-grow: 1;}#sk-container-id-26 div.sk-label:hover label.sk-toggleable__label {background-color: #d4ebff;}#sk-container-id-26 div.sk-serial::before {content: \"\";position: absolute;border-left: 1px solid gray;box-sizing: border-box;top: 0;bottom: 0;left: 50%;z-index: 0;}#sk-container-id-26 div.sk-serial {display: flex;flex-direction: column;align-items: center;background-color: white;padding-right: 0.2em;padding-left: 0.2em;position: relative;}#sk-container-id-26 div.sk-item {position: relative;z-index: 1;}#sk-container-id-26 div.sk-parallel {display: flex;align-items: stretch;justify-content: center;background-color: white;position: relative;}#sk-container-id-26 div.sk-item::before, #sk-container-id-26 div.sk-parallel-item::before {content: \"\";position: absolute;border-left: 1px solid gray;box-sizing: border-box;top: 0;bottom: 0;left: 50%;z-index: -1;}#sk-container-id-26 div.sk-parallel-item {display: flex;flex-direction: column;z-index: 1;position: relative;background-color: white;}#sk-container-id-26 div.sk-parallel-item:first-child::after {align-self: flex-end;width: 50%;}#sk-container-id-26 div.sk-parallel-item:last-child::after {align-self: flex-start;width: 50%;}#sk-container-id-26 div.sk-parallel-item:only-child::after {width: 0;}#sk-container-id-26 div.sk-dashed-wrapped {border: 1px dashed gray;margin: 0 0.4em 0.5em 0.4em;box-sizing: border-box;padding-bottom: 0.4em;background-color: white;}#sk-container-id-26 div.sk-label label {font-family: monospace;font-weight: bold;display: inline-block;line-height: 1.2em;}#sk-container-id-26 div.sk-label-container {text-align: center;}#sk-container-id-26 div.sk-container {/* jupyter's `normalize.less` sets `[hidden] { display: none; }` but bootstrap.min.css set `[hidden] { display: none !important; }` so we also need the `!important` here to be able to override the default hidden behavior on the sphinx rendered scikit-learn.org. See: https://github.com/scikit-learn/scikit-learn/issues/21755 */display: inline-block !important;position: relative;}#sk-container-id-26 div.sk-text-repr-fallback {display: none;}</style><div id=\"sk-container-id-26\" class=\"sk-top-container\"><div class=\"sk-text-repr-fallback\"><pre>PCA(n_components=1)</pre><b>In a Jupyter environment, please rerun this cell to show the HTML representation or trust the notebook. <br />On GitHub, the HTML representation is unable to render, please try loading this page with nbviewer.org.</b></div><div class=\"sk-container\" hidden><div class=\"sk-item\"><div class=\"sk-estimator sk-toggleable\"><input class=\"sk-toggleable__control sk-hidden--visually\" id=\"sk-estimator-id-26\" type=\"checkbox\" checked><label for=\"sk-estimator-id-26\" class=\"sk-toggleable__label sk-toggleable__label-arrow\">PCA</label><div class=\"sk-toggleable__content\"><pre>PCA(n_components=1)</pre></div></div></div></div></div>"
      ],
      "text/plain": [
       "PCA(n_components=1)"
      ]
     },
     "execution_count": 595,
     "metadata": {},
     "output_type": "execute_result"
    }
   ],
   "source": [
    "pca"
   ]
  },
  {
   "cell_type": "code",
   "execution_count": 596,
   "metadata": {},
   "outputs": [
    {
     "name": "stdout",
     "output_type": "stream",
     "text": [
      "(136, 7)\n",
      "(136, 1)\n"
     ]
    },
    {
     "data": {
      "text/plain": [
       "array([[ 1.69461928e+00],\n",
       "       [ 1.47993118e+00],\n",
       "       [ 7.15110925e-02],\n",
       "       [ 9.40410899e-02],\n",
       "       [ 2.36611201e-03],\n",
       "       [ 4.68106214e-02],\n",
       "       [-2.57139840e-01],\n",
       "       [-3.72210620e-02],\n",
       "       [-2.83911452e-01],\n",
       "       [-2.36648041e-01],\n",
       "       [-2.94100776e-01],\n",
       "       [-3.48066919e-01],\n",
       "       [-2.87266865e-01],\n",
       "       [-2.71034797e-01],\n",
       "       [-3.19265601e-01],\n",
       "       [-4.17746796e-01],\n",
       "       [-4.93402141e-01],\n",
       "       [ 1.70822163e+00],\n",
       "       [ 1.50450807e+00],\n",
       "       [ 7.96299443e-02],\n",
       "       [ 9.55686017e-02],\n",
       "       [ 7.04991596e-03],\n",
       "       [ 4.97858356e-02],\n",
       "       [-2.49821849e-01],\n",
       "       [-3.51757048e-02],\n",
       "       [-2.80458021e-01],\n",
       "       [-2.33814305e-01],\n",
       "       [-2.92470438e-01],\n",
       "       [-3.41748003e-01],\n",
       "       [-2.88265893e-01],\n",
       "       [-2.67713210e-01],\n",
       "       [-3.20316921e-01],\n",
       "       [-4.18095977e-01],\n",
       "       [-4.87758597e-01],\n",
       "       [ 1.71485956e+00],\n",
       "       [ 1.48935581e+00],\n",
       "       [ 7.66780952e-02],\n",
       "       [ 9.21812742e-02],\n",
       "       [ 3.05528429e-03],\n",
       "       [ 4.92975727e-02],\n",
       "       [-2.56062623e-01],\n",
       "       [-3.23095674e-02],\n",
       "       [-2.87669804e-01],\n",
       "       [-2.32578781e-01],\n",
       "       [-2.95465615e-01],\n",
       "       [-3.41585664e-01],\n",
       "       [-2.91017408e-01],\n",
       "       [-2.78576137e-01],\n",
       "       [-3.18948198e-01],\n",
       "       [-4.16893782e-01],\n",
       "       [-4.77306357e-01],\n",
       "       [ 1.69586009e+00],\n",
       "       [ 1.45351582e+00],\n",
       "       [ 6.09467428e-02],\n",
       "       [ 7.90617354e-02],\n",
       "       [-1.60855098e-03],\n",
       "       [ 4.30467009e-02],\n",
       "       [-2.64291638e-01],\n",
       "       [-4.19787874e-02],\n",
       "       [-2.96146105e-01],\n",
       "       [-2.36711352e-01],\n",
       "       [-2.98718360e-01],\n",
       "       [-3.46340414e-01],\n",
       "       [-2.96047095e-01],\n",
       "       [-2.84467576e-01],\n",
       "       [-3.25813081e-01],\n",
       "       [-4.11222892e-01],\n",
       "       [-4.71029974e-01],\n",
       "       [ 1.66101068e+00],\n",
       "       [ 1.40831695e+00],\n",
       "       [ 5.44028562e-02],\n",
       "       [ 6.49895299e-02],\n",
       "       [-8.49439383e-03],\n",
       "       [ 2.48423820e-02],\n",
       "       [-2.73848736e-01],\n",
       "       [-4.97554807e-02],\n",
       "       [-3.03743914e-01],\n",
       "       [-2.42445295e-01],\n",
       "       [-3.05079808e-01],\n",
       "       [-3.50981880e-01],\n",
       "       [-3.02248614e-01],\n",
       "       [-2.91963542e-01],\n",
       "       [-3.30430138e-01],\n",
       "       [-4.12028975e-01],\n",
       "       [-4.65248074e-01],\n",
       "       [ 1.66218297e+00],\n",
       "       [ 1.38449142e+00],\n",
       "       [ 3.26420452e-02],\n",
       "       [ 4.78420127e-02],\n",
       "       [-1.74427567e-02],\n",
       "       [ 2.68943823e-02],\n",
       "       [-2.77529627e-01],\n",
       "       [-6.28596717e-02],\n",
       "       [-3.07335300e-01],\n",
       "       [-2.47865424e-01],\n",
       "       [-3.16017864e-01],\n",
       "       [-3.58324084e-01],\n",
       "       [-3.07203256e-01],\n",
       "       [-3.00558308e-01],\n",
       "       [-3.33450740e-01],\n",
       "       [-4.10080702e-01],\n",
       "       [-4.58937166e-01],\n",
       "       [ 1.66758389e+00],\n",
       "       [ 1.37163297e+00],\n",
       "       [ 3.23977322e-02],\n",
       "       [ 5.21352511e-02],\n",
       "       [-1.00417186e-02],\n",
       "       [ 2.68162010e-02],\n",
       "       [-2.80684765e-01],\n",
       "       [-6.40737114e-02],\n",
       "       [-3.11360728e-01],\n",
       "       [-2.52084403e-01],\n",
       "       [-3.12297724e-01],\n",
       "       [-3.55877645e-01],\n",
       "       [-3.09320417e-01],\n",
       "       [-3.00782885e-01],\n",
       "       [-3.30538499e-01],\n",
       "       [-4.09438752e-01],\n",
       "       [-4.54491821e-01],\n",
       "       [ 1.76465428e+00],\n",
       "       [ 1.44954855e+00],\n",
       "       [ 3.34611183e-02],\n",
       "       [ 7.00720348e-02],\n",
       "       [-1.32254601e-02],\n",
       "       [ 3.84582960e-02],\n",
       "       [-2.82137861e-01],\n",
       "       [-6.26661517e-02],\n",
       "       [-3.08932283e-01],\n",
       "       [-2.45270585e-01],\n",
       "       [-3.12513273e-01],\n",
       "       [-3.56412633e-01],\n",
       "       [-3.06607841e-01],\n",
       "       [-2.98943392e-01],\n",
       "       [-3.29920846e-01],\n",
       "       [-4.09335399e-01],\n",
       "       [-4.51212093e-01]])"
      ]
     },
     "execution_count": 596,
     "metadata": {},
     "output_type": "execute_result"
    }
   ],
   "source": [
    "# 행의 갯수는 원본과 동일하게 하고 Feature의 특성을 50개의 주성분으로 변경하기\n",
    "print(df_feature.shape)\n",
    "km_pca = pca.transform(df_feature)\n",
    "print(km_pca.shape)\n",
    "km_pca"
   ]
  },
  {
   "cell_type": "code",
   "execution_count": 597,
   "metadata": {},
   "outputs": [
    {
     "data": {
      "text/plain": [
       "[[1.6946192821068191],\n",
       " [1.4799311771126993],\n",
       " [0.07151109248804369],\n",
       " [0.09404108990291869],\n",
       " [0.0023661120065875596],\n",
       " [0.046810621422332],\n",
       " [-0.25713984030626713],\n",
       " [-0.03722106202815844],\n",
       " [-0.28391145233909487],\n",
       " [-0.23664804103875808],\n",
       " [-0.2941007756239736],\n",
       " [-0.34806691854866817],\n",
       " [-0.28726686487078495],\n",
       " [-0.27103479687657106],\n",
       " [-0.31926560134100385],\n",
       " [-0.41774679635734996],\n",
       " [-0.4934021407916769],\n",
       " [1.708221632109853],\n",
       " [1.5045080722698843],\n",
       " [0.07962994434136578],\n",
       " [0.09556860174494451],\n",
       " [0.007049915957087593],\n",
       " [0.04978583557122054],\n",
       " [-0.24982184934597185],\n",
       " [-0.035175704792136574],\n",
       " [-0.2804580211201224],\n",
       " [-0.2338143047642259],\n",
       " [-0.29247043771200343],\n",
       " [-0.34174800278867484],\n",
       " [-0.2882658931925347],\n",
       " [-0.26771320964228734],\n",
       " [-0.32031692147132435],\n",
       " [-0.4180959765564924],\n",
       " [-0.48775859686537165],\n",
       " [1.7148595593466895],\n",
       " [1.4893558105985614],\n",
       " [0.07667809518348463],\n",
       " [0.09218127423700836],\n",
       " [0.003055284289209758],\n",
       " [0.04929757268369056],\n",
       " [-0.2560626233453469],\n",
       " [-0.03230956741832953],\n",
       " [-0.28766980431089484],\n",
       " [-0.23257878095078754],\n",
       " [-0.29546561470017774],\n",
       " [-0.3415856641916607],\n",
       " [-0.29101740846498303],\n",
       " [-0.278576136875092],\n",
       " [-0.31894819799907015],\n",
       " [-0.4168937818657953],\n",
       " [-0.4773063571823063],\n",
       " [1.6958600870668388],\n",
       " [1.4535158168508238],\n",
       " [0.060946742821915395],\n",
       " [0.07906173535130841],\n",
       " [-0.001608550979858855],\n",
       " [0.043046700890105954],\n",
       " [-0.2642916383309724],\n",
       " [-0.04197878735769379],\n",
       " [-0.29614610500386035],\n",
       " [-0.23671135195203058],\n",
       " [-0.2987183602081899],\n",
       " [-0.3463404144373046],\n",
       " [-0.29604709493514364],\n",
       " [-0.2844675762845159],\n",
       " [-0.3258130805855072],\n",
       " [-0.41122289213752866],\n",
       " [-0.47102997423362875],\n",
       " [1.6610106792136923],\n",
       " [1.4083169467639425],\n",
       " [0.054402856156888245],\n",
       " [0.06498952985036639],\n",
       " [-0.008494393825762413],\n",
       " [0.02484238196718804],\n",
       " [-0.2738487358339307],\n",
       " [-0.04975548072473784],\n",
       " [-0.3037439136886705],\n",
       " [-0.2424452952724078],\n",
       " [-0.3050798076475228],\n",
       " [-0.35098188016410925],\n",
       " [-0.3022486143643667],\n",
       " [-0.2919635422786291],\n",
       " [-0.3304301380339764],\n",
       " [-0.41202897477456724],\n",
       " [-0.4652480739504085],\n",
       " [1.662182974549825],\n",
       " [1.3844914186161736],\n",
       " [0.032642045166539825],\n",
       " [0.047842012650770545],\n",
       " [-0.017442756712362485],\n",
       " [0.02689438226074438],\n",
       " [-0.27752962664936004],\n",
       " [-0.06285967166983025],\n",
       " [-0.30733530026228617],\n",
       " [-0.2478654238411554],\n",
       " [-0.3160178638073098],\n",
       " [-0.3583240835300114],\n",
       " [-0.30720325604137877],\n",
       " [-0.3005583081298892],\n",
       " [-0.3334507395960506],\n",
       " [-0.41008070222234005],\n",
       " [-0.4589371663234644],\n",
       " [1.6675838896920707],\n",
       " [1.371632968135655],\n",
       " [0.032397732221554405],\n",
       " [0.05213525107100891],\n",
       " [-0.0100417185626974],\n",
       " [0.02681620100011211],\n",
       " [-0.2806847649990614],\n",
       " [-0.06407371141849905],\n",
       " [-0.3113607279448161],\n",
       " [-0.25208440278402455],\n",
       " [-0.31229772401790984],\n",
       " [-0.35587764509817177],\n",
       " [-0.30932041697238466],\n",
       " [-0.30078288517077456],\n",
       " [-0.3305384989857283],\n",
       " [-0.40943875216246645],\n",
       " [-0.4544918209253671],\n",
       " [1.7646542794829199],\n",
       " [1.449548554514414],\n",
       " [0.033461118295311607],\n",
       " [0.0700720348203552],\n",
       " [-0.013225460089095094],\n",
       " [0.038458295992326856],\n",
       " [-0.2821378614716943],\n",
       " [-0.0626661517093768],\n",
       " [-0.3089322834961279],\n",
       " [-0.24527058483887657],\n",
       " [-0.3125132726312872],\n",
       " [-0.3564126331530867],\n",
       " [-0.3066078408068468],\n",
       " [-0.2989433919288603],\n",
       " [-0.3299208460032204],\n",
       " [-0.40933539897645566],\n",
       " [-0.4512120931597633]]"
      ]
     },
     "execution_count": 597,
     "metadata": {},
     "output_type": "execute_result"
    }
   ],
   "source": [
    "km_pca.tolist()"
   ]
  },
  {
   "cell_type": "code",
   "execution_count": 598,
   "metadata": {},
   "outputs": [
    {
     "data": {
      "text/html": [
       "<div>\n",
       "<style scoped>\n",
       "    .dataframe tbody tr th:only-of-type {\n",
       "        vertical-align: middle;\n",
       "    }\n",
       "\n",
       "    .dataframe tbody tr th {\n",
       "        vertical-align: top;\n",
       "    }\n",
       "\n",
       "    .dataframe thead th {\n",
       "        text-align: right;\n",
       "    }\n",
       "</style>\n",
       "<table border=\"1\" class=\"dataframe\">\n",
       "  <thead>\n",
       "    <tr style=\"text-align: right;\">\n",
       "      <th></th>\n",
       "      <th>principal_col</th>\n",
       "    </tr>\n",
       "    <tr>\n",
       "      <th>시도</th>\n",
       "      <th></th>\n",
       "    </tr>\n",
       "  </thead>\n",
       "  <tbody>\n",
       "    <tr>\n",
       "      <th>경기도</th>\n",
       "      <td>1.694619</td>\n",
       "    </tr>\n",
       "    <tr>\n",
       "      <th>서울특별시</th>\n",
       "      <td>1.479931</td>\n",
       "    </tr>\n",
       "    <tr>\n",
       "      <th>경상남도</th>\n",
       "      <td>0.071511</td>\n",
       "    </tr>\n",
       "    <tr>\n",
       "      <th>부산광역시</th>\n",
       "      <td>0.094041</td>\n",
       "    </tr>\n",
       "    <tr>\n",
       "      <th>대구광역시</th>\n",
       "      <td>0.002366</td>\n",
       "    </tr>\n",
       "    <tr>\n",
       "      <th>...</th>\n",
       "      <td>...</td>\n",
       "    </tr>\n",
       "    <tr>\n",
       "      <th>충청북도</th>\n",
       "      <td>-0.306608</td>\n",
       "    </tr>\n",
       "    <tr>\n",
       "      <th>대전광역시</th>\n",
       "      <td>-0.298943</td>\n",
       "    </tr>\n",
       "    <tr>\n",
       "      <th>강원도</th>\n",
       "      <td>-0.329921</td>\n",
       "    </tr>\n",
       "    <tr>\n",
       "      <th>제주특별자치도</th>\n",
       "      <td>-0.409335</td>\n",
       "    </tr>\n",
       "    <tr>\n",
       "      <th>세종특별자치시</th>\n",
       "      <td>-0.451212</td>\n",
       "    </tr>\n",
       "  </tbody>\n",
       "</table>\n",
       "<p>136 rows × 1 columns</p>\n",
       "</div>"
      ],
      "text/plain": [
       "         principal_col\n",
       "시도                    \n",
       "경기도           1.694619\n",
       "서울특별시         1.479931\n",
       "경상남도          0.071511\n",
       "부산광역시         0.094041\n",
       "대구광역시         0.002366\n",
       "...                ...\n",
       "충청북도         -0.306608\n",
       "대전광역시        -0.298943\n",
       "강원도          -0.329921\n",
       "제주특별자치도      -0.409335\n",
       "세종특별자치시      -0.451212\n",
       "\n",
       "[136 rows x 1 columns]"
      ]
     },
     "execution_count": 598,
     "metadata": {},
     "output_type": "execute_result"
    }
   ],
   "source": [
    "df_km_pca = pd.DataFrame(km_pca.tolist(), columns=['principal_col'], index=df_km.index)\n",
    "# df_km_pca['cluster_id'] = df_km['cluster_id'].to_list()\n",
    "df_km_pca"
   ]
  },
  {
   "cell_type": "code",
   "execution_count": 599,
   "metadata": {},
   "outputs": [
    {
     "data": {
      "text/html": [
       "<div>\n",
       "<style scoped>\n",
       "    .dataframe tbody tr th:only-of-type {\n",
       "        vertical-align: middle;\n",
       "    }\n",
       "\n",
       "    .dataframe tbody tr th {\n",
       "        vertical-align: top;\n",
       "    }\n",
       "\n",
       "    .dataframe thead th {\n",
       "        text-align: right;\n",
       "    }\n",
       "</style>\n",
       "<table border=\"1\" class=\"dataframe\">\n",
       "  <thead>\n",
       "    <tr style=\"text-align: right;\">\n",
       "      <th></th>\n",
       "      <th>principal_col</th>\n",
       "      <th>cluster_id</th>\n",
       "    </tr>\n",
       "    <tr>\n",
       "      <th>시도</th>\n",
       "      <th></th>\n",
       "      <th></th>\n",
       "    </tr>\n",
       "  </thead>\n",
       "  <tbody>\n",
       "    <tr>\n",
       "      <th>경기도</th>\n",
       "      <td>1.694619</td>\n",
       "      <td>0.00</td>\n",
       "    </tr>\n",
       "    <tr>\n",
       "      <th>서울특별시</th>\n",
       "      <td>1.479931</td>\n",
       "      <td>0.33</td>\n",
       "    </tr>\n",
       "    <tr>\n",
       "      <th>경상남도</th>\n",
       "      <td>0.071511</td>\n",
       "      <td>0.67</td>\n",
       "    </tr>\n",
       "    <tr>\n",
       "      <th>부산광역시</th>\n",
       "      <td>0.094041</td>\n",
       "      <td>0.67</td>\n",
       "    </tr>\n",
       "    <tr>\n",
       "      <th>대구광역시</th>\n",
       "      <td>0.002366</td>\n",
       "      <td>0.67</td>\n",
       "    </tr>\n",
       "    <tr>\n",
       "      <th>...</th>\n",
       "      <td>...</td>\n",
       "      <td>...</td>\n",
       "    </tr>\n",
       "    <tr>\n",
       "      <th>충청북도</th>\n",
       "      <td>-0.306608</td>\n",
       "      <td>1.00</td>\n",
       "    </tr>\n",
       "    <tr>\n",
       "      <th>대전광역시</th>\n",
       "      <td>-0.298943</td>\n",
       "      <td>1.00</td>\n",
       "    </tr>\n",
       "    <tr>\n",
       "      <th>강원도</th>\n",
       "      <td>-0.329921</td>\n",
       "      <td>1.00</td>\n",
       "    </tr>\n",
       "    <tr>\n",
       "      <th>제주특별자치도</th>\n",
       "      <td>-0.409335</td>\n",
       "      <td>1.00</td>\n",
       "    </tr>\n",
       "    <tr>\n",
       "      <th>세종특별자치시</th>\n",
       "      <td>-0.451212</td>\n",
       "      <td>1.00</td>\n",
       "    </tr>\n",
       "  </tbody>\n",
       "</table>\n",
       "<p>136 rows × 2 columns</p>\n",
       "</div>"
      ],
      "text/plain": [
       "         principal_col  cluster_id\n",
       "시도                                \n",
       "경기도           1.694619        0.00\n",
       "서울특별시         1.479931        0.33\n",
       "경상남도          0.071511        0.67\n",
       "부산광역시         0.094041        0.67\n",
       "대구광역시         0.002366        0.67\n",
       "...                ...         ...\n",
       "충청북도         -0.306608        1.00\n",
       "대전광역시        -0.298943        1.00\n",
       "강원도          -0.329921        1.00\n",
       "제주특별자치도      -0.409335        1.00\n",
       "세종특별자치시      -0.451212        1.00\n",
       "\n",
       "[136 rows x 2 columns]"
      ]
     },
     "execution_count": 599,
     "metadata": {},
     "output_type": "execute_result"
    }
   ],
   "source": [
    "df_km_pca['cluster_id'] = df_km['cluster_id']\n",
    "df_km_pca"
   ]
  },
  {
   "cell_type": "code",
   "execution_count": 600,
   "metadata": {},
   "outputs": [
    {
     "data": {
      "text/html": [
       "<div>\n",
       "<style scoped>\n",
       "    .dataframe tbody tr th:only-of-type {\n",
       "        vertical-align: middle;\n",
       "    }\n",
       "\n",
       "    .dataframe tbody tr th {\n",
       "        vertical-align: top;\n",
       "    }\n",
       "\n",
       "    .dataframe thead th {\n",
       "        text-align: right;\n",
       "    }\n",
       "</style>\n",
       "<table border=\"1\" class=\"dataframe\">\n",
       "  <thead>\n",
       "    <tr style=\"text-align: right;\">\n",
       "      <th></th>\n",
       "      <th>principal_col</th>\n",
       "      <th>cluster_id</th>\n",
       "      <th>년도</th>\n",
       "    </tr>\n",
       "    <tr>\n",
       "      <th>시도</th>\n",
       "      <th></th>\n",
       "      <th></th>\n",
       "      <th></th>\n",
       "    </tr>\n",
       "  </thead>\n",
       "  <tbody>\n",
       "    <tr>\n",
       "      <th>경기도</th>\n",
       "      <td>1.694619</td>\n",
       "      <td>0.00</td>\n",
       "      <td>2013</td>\n",
       "    </tr>\n",
       "    <tr>\n",
       "      <th>서울특별시</th>\n",
       "      <td>1.479931</td>\n",
       "      <td>0.33</td>\n",
       "      <td>2013</td>\n",
       "    </tr>\n",
       "    <tr>\n",
       "      <th>경상남도</th>\n",
       "      <td>0.071511</td>\n",
       "      <td>0.67</td>\n",
       "      <td>2013</td>\n",
       "    </tr>\n",
       "    <tr>\n",
       "      <th>부산광역시</th>\n",
       "      <td>0.094041</td>\n",
       "      <td>0.67</td>\n",
       "      <td>2013</td>\n",
       "    </tr>\n",
       "    <tr>\n",
       "      <th>대구광역시</th>\n",
       "      <td>0.002366</td>\n",
       "      <td>0.67</td>\n",
       "      <td>2013</td>\n",
       "    </tr>\n",
       "    <tr>\n",
       "      <th>...</th>\n",
       "      <td>...</td>\n",
       "      <td>...</td>\n",
       "      <td>...</td>\n",
       "    </tr>\n",
       "    <tr>\n",
       "      <th>충청북도</th>\n",
       "      <td>-0.306608</td>\n",
       "      <td>1.00</td>\n",
       "      <td>2020</td>\n",
       "    </tr>\n",
       "    <tr>\n",
       "      <th>대전광역시</th>\n",
       "      <td>-0.298943</td>\n",
       "      <td>1.00</td>\n",
       "      <td>2020</td>\n",
       "    </tr>\n",
       "    <tr>\n",
       "      <th>강원도</th>\n",
       "      <td>-0.329921</td>\n",
       "      <td>1.00</td>\n",
       "      <td>2020</td>\n",
       "    </tr>\n",
       "    <tr>\n",
       "      <th>제주특별자치도</th>\n",
       "      <td>-0.409335</td>\n",
       "      <td>1.00</td>\n",
       "      <td>2020</td>\n",
       "    </tr>\n",
       "    <tr>\n",
       "      <th>세종특별자치시</th>\n",
       "      <td>-0.451212</td>\n",
       "      <td>1.00</td>\n",
       "      <td>2020</td>\n",
       "    </tr>\n",
       "  </tbody>\n",
       "</table>\n",
       "<p>136 rows × 3 columns</p>\n",
       "</div>"
      ],
      "text/plain": [
       "         principal_col  cluster_id    년도\n",
       "시도                                      \n",
       "경기도           1.694619        0.00  2013\n",
       "서울특별시         1.479931        0.33  2013\n",
       "경상남도          0.071511        0.67  2013\n",
       "부산광역시         0.094041        0.67  2013\n",
       "대구광역시         0.002366        0.67  2013\n",
       "...                ...         ...   ...\n",
       "충청북도         -0.306608        1.00  2020\n",
       "대전광역시        -0.298943        1.00  2020\n",
       "강원도          -0.329921        1.00  2020\n",
       "제주특별자치도      -0.409335        1.00  2020\n",
       "세종특별자치시      -0.451212        1.00  2020\n",
       "\n",
       "[136 rows x 3 columns]"
      ]
     },
     "execution_count": 600,
     "metadata": {},
     "output_type": "execute_result"
    }
   ],
   "source": [
    "# df_km_pca = pd.DataFrame({'년도':years, 'principal_col':km_pca.tolist()})\n",
    "df_km_pca['년도'] = years\n",
    "df_km_pca"
   ]
  },
  {
   "cell_type": "code",
   "execution_count": 601,
   "metadata": {},
   "outputs": [
    {
     "data": {
      "text/html": [
       "<div>\n",
       "<style scoped>\n",
       "    .dataframe tbody tr th:only-of-type {\n",
       "        vertical-align: middle;\n",
       "    }\n",
       "\n",
       "    .dataframe tbody tr th {\n",
       "        vertical-align: top;\n",
       "    }\n",
       "\n",
       "    .dataframe thead th {\n",
       "        text-align: right;\n",
       "    }\n",
       "</style>\n",
       "<table border=\"1\" class=\"dataframe\">\n",
       "  <thead>\n",
       "    <tr style=\"text-align: right;\">\n",
       "      <th></th>\n",
       "      <th>시도</th>\n",
       "      <th>principal_col</th>\n",
       "      <th>cluster_id</th>\n",
       "    </tr>\n",
       "    <tr>\n",
       "      <th>년도</th>\n",
       "      <th></th>\n",
       "      <th></th>\n",
       "      <th></th>\n",
       "    </tr>\n",
       "  </thead>\n",
       "  <tbody>\n",
       "    <tr>\n",
       "      <th>2013</th>\n",
       "      <td>경기도</td>\n",
       "      <td>1.694619</td>\n",
       "      <td>0.00</td>\n",
       "    </tr>\n",
       "    <tr>\n",
       "      <th>2013</th>\n",
       "      <td>서울특별시</td>\n",
       "      <td>1.479931</td>\n",
       "      <td>0.33</td>\n",
       "    </tr>\n",
       "    <tr>\n",
       "      <th>2013</th>\n",
       "      <td>경상남도</td>\n",
       "      <td>0.071511</td>\n",
       "      <td>0.67</td>\n",
       "    </tr>\n",
       "    <tr>\n",
       "      <th>2013</th>\n",
       "      <td>부산광역시</td>\n",
       "      <td>0.094041</td>\n",
       "      <td>0.67</td>\n",
       "    </tr>\n",
       "    <tr>\n",
       "      <th>2013</th>\n",
       "      <td>대구광역시</td>\n",
       "      <td>0.002366</td>\n",
       "      <td>0.67</td>\n",
       "    </tr>\n",
       "    <tr>\n",
       "      <th>...</th>\n",
       "      <td>...</td>\n",
       "      <td>...</td>\n",
       "      <td>...</td>\n",
       "    </tr>\n",
       "    <tr>\n",
       "      <th>2020</th>\n",
       "      <td>충청북도</td>\n",
       "      <td>-0.306608</td>\n",
       "      <td>1.00</td>\n",
       "    </tr>\n",
       "    <tr>\n",
       "      <th>2020</th>\n",
       "      <td>대전광역시</td>\n",
       "      <td>-0.298943</td>\n",
       "      <td>1.00</td>\n",
       "    </tr>\n",
       "    <tr>\n",
       "      <th>2020</th>\n",
       "      <td>강원도</td>\n",
       "      <td>-0.329921</td>\n",
       "      <td>1.00</td>\n",
       "    </tr>\n",
       "    <tr>\n",
       "      <th>2020</th>\n",
       "      <td>제주특별자치도</td>\n",
       "      <td>-0.409335</td>\n",
       "      <td>1.00</td>\n",
       "    </tr>\n",
       "    <tr>\n",
       "      <th>2020</th>\n",
       "      <td>세종특별자치시</td>\n",
       "      <td>-0.451212</td>\n",
       "      <td>1.00</td>\n",
       "    </tr>\n",
       "  </tbody>\n",
       "</table>\n",
       "<p>136 rows × 3 columns</p>\n",
       "</div>"
      ],
      "text/plain": [
       "           시도  principal_col  cluster_id\n",
       "년도                                      \n",
       "2013      경기도       1.694619        0.00\n",
       "2013    서울특별시       1.479931        0.33\n",
       "2013     경상남도       0.071511        0.67\n",
       "2013    부산광역시       0.094041        0.67\n",
       "2013    대구광역시       0.002366        0.67\n",
       "...       ...            ...         ...\n",
       "2020     충청북도      -0.306608        1.00\n",
       "2020    대전광역시      -0.298943        1.00\n",
       "2020      강원도      -0.329921        1.00\n",
       "2020  제주특별자치도      -0.409335        1.00\n",
       "2020  세종특별자치시      -0.451212        1.00\n",
       "\n",
       "[136 rows x 3 columns]"
      ]
     },
     "execution_count": 601,
     "metadata": {},
     "output_type": "execute_result"
    }
   ],
   "source": [
    "df_km_pca['시도'] = df_km_pca.index\n",
    "df_km_pca.set_index('년도', inplace=True)\n",
    "df_km_pca = df_km_pca.iloc[:,[2, 0, 1]]\n",
    "df_km_pca"
   ]
  },
  {
   "cell_type": "code",
   "execution_count": 603,
   "metadata": {},
   "outputs": [
    {
     "name": "stdout",
     "output_type": "stream",
     "text": [
      "<class 'pandas.core.frame.DataFrame'>\n",
      "Int64Index: 136 entries, 2013 to 2020\n",
      "Data columns (total 3 columns):\n",
      " #   Column         Non-Null Count  Dtype  \n",
      "---  ------         --------------  -----  \n",
      " 0   시도             136 non-null    object \n",
      " 1   principal_col  136 non-null    float64\n",
      " 2   cluster_id     136 non-null    float64\n",
      "dtypes: float64(2), object(1)\n",
      "memory usage: 4.2+ KB\n"
     ]
    }
   ],
   "source": [
    "df_km_pca.info()"
   ]
  },
  {
   "cell_type": "code",
   "execution_count": 604,
   "metadata": {},
   "outputs": [],
   "source": [
    "# Feature, Target\n",
    "data = df_km_pca[['principal_col']].to_numpy()\n",
    "target = df_km_pca['cluster_id'].to_numpy()"
   ]
  },
  {
   "attachments": {},
   "cell_type": "markdown",
   "metadata": {},
   "source": [
    "----\n",
    "### 검증 세트 추가\n",
    "- 훈련(60%), 검증(20%), 테스트(20%)"
   ]
  },
  {
   "cell_type": "code",
   "execution_count": 605,
   "metadata": {},
   "outputs": [
    {
     "name": "stdout",
     "output_type": "stream",
     "text": [
      "Train : (86, 1)\n",
      "Valid : (22, 1)\n",
      "Test  : (28, 1)\n"
     ]
    }
   ],
   "source": [
    "from sklearn.model_selection import train_test_split\n",
    "train_input, test_input, train_target, test_target = \\\n",
    "    train_test_split(data, target, test_size=0.2) # random_state=42,  stratify=target\n",
    "sub_input, val_input, sub_target, val_target = \\\n",
    "    train_test_split(train_input, train_target, test_size=0.2, stratify=train_target) # random_state=42\n",
    "# 세트 별 크기\n",
    "print(\"Train :\", sub_input.shape)\n",
    "print(\"Valid :\", val_input.shape)\n",
    "print(\"Test  :\", test_input.shape)"
   ]
  },
  {
   "cell_type": "code",
   "execution_count": 606,
   "metadata": {},
   "outputs": [
    {
     "name": "stdout",
     "output_type": "stream",
     "text": [
      "- ML Name : LinearRegression()\n",
      "+ Train score : 0.8774749548191662\n",
      "+ Valid score : 0.8598421390299089\n",
      "+ Test score : 0.7981083536579807\n",
      "+ Mean Absolute Error : 0.07349131859960274\n",
      "----------------------------------------\n",
      "- ML Name : DecisionTreeRegressor()\n",
      "+ Train score : 1.0\n",
      "+ Valid score : 1.0\n",
      "+ Test score : 1.0\n",
      "+ Mean Absolute Error : 2.7755575615628914e-17\n",
      "----------------------------------------\n",
      "- ML Name : RandomForestRegressor()\n",
      "+ Train score : 0.9999933042744823\n",
      "+ Valid score : 0.9999926970676096\n",
      "+ Test score : 0.9998795568797885\n",
      "+ Mean Absolute Error : 0.0003535714285717338\n",
      "----------------------------------------\n"
     ]
    }
   ],
   "source": [
    "ml_list = [LinearRegression(), DecisionTreeRegressor(), RandomForestRegressor()]\n",
    "for ml in ml_list:\n",
    "    print(\"- ML Name :\", ml)\n",
    "    reg = ml\n",
    "    # 학습\n",
    "    reg.fit(sub_input, sub_target)\n",
    "    # 정확도 판단\n",
    "    print(\"+ Train score :\", reg.score(sub_input, sub_target))\n",
    "    print(\"+ Valid score :\", reg.score(val_input, val_target))\n",
    "    # 교차검증\n",
    "    scores = cross_validate(reg, train_input, train_target)\n",
    "    # 교차검증 후의 정확도 판단\n",
    "    print(\"+ Test score :\", np.mean(scores['test_score']))\n",
    "    # 평균 절대값 오차\n",
    "    test_prediction = ml.predict(test_input)\n",
    "    mae = mean_absolute_error(test_target, test_prediction)\n",
    "    print(\"+ Mean Absolute Error :\", mae)\n",
    "    print(\"-\"*40)"
   ]
  },
  {
   "cell_type": "code",
   "execution_count": 607,
   "metadata": {},
   "outputs": [
    {
     "name": "stdout",
     "output_type": "stream",
     "text": [
      "- LinearRegression() : [0.7761186754610928, 0.7761186754610928, 0.7761186754610928, 0.7761186754610928, 0.7761186754610928, 0.7761186754610928, 0.7761186754610928, 0.7761186754610928, 0.7761186754610928, 0.7761186754610928]\n",
      "-------------\n",
      "- DecisionTreeRegressor() : [1.0, 1.0, 1.0, 1.0, 1.0, 1.0, 1.0, 1.0, 1.0, 1.0]\n",
      "-------------\n",
      "- RandomForestRegressor() : [0.9999558201516017, 0.9999944206239813, 0.9999498321995945, 0.9999622472578444, 0.9998641760297448, 0.9999438933766204, 0.9999340965485782, 0.9999404338375457, 0.9999736512809785, 0.9999232166109844]\n",
      "-------------\n",
      "- AdaBoostRegressor() : [1.0, 0.9768995543451016, 1.0, 0.9768995543451016, 0.9860189075630252, 0.9908806467820763, 0.9654046092531623, 0.9908806467820763, 1.0, 0.9902385958050164]\n",
      "-------------\n"
     ]
    }
   ],
   "source": [
    "# 각 Regressor 별 10번의 정확도 확인\n",
    "ml_list = [LinearRegression(), DecisionTreeRegressor(), RandomForestRegressor(), AdaBoostRegressor()]\n",
    "scores_list = []\n",
    "for ml in ml_list:\n",
    "    ml_cv_scores = cross_validation(ml, train_input, train_target)\n",
    "    scores_list.append(ml_cv_scores)\n",
    "    print(\"-\",ml,':', ml_cv_scores)\n",
    "    print(\"-------------\")"
   ]
  },
  {
   "cell_type": "code",
   "execution_count": 608,
   "metadata": {},
   "outputs": [
    {
     "data": {
      "image/png": "[encoded data removed]",
      "text/plain": [
       "<Figure size 640x480 with 1 Axes>"
      ]
     },
     "metadata": {},
     "output_type": "display_data"
    }
   ],
   "source": [
    "# 정확도 시각화\n",
    "cv_list = {}\n",
    "for ml, scores in zip(ml_list, scores_list):\n",
    "    cv_list[ml] = scores\n",
    "cv_list\n",
    "df = pd.DataFrame(cv_list)\n",
    "df.plot()\n",
    "plt.title('정확도 시각화')\n",
    "plt.show()"
   ]
  },
  {
   "attachments": {},
   "cell_type": "markdown",
   "metadata": {},
   "source": [
    "### 산점도 그려보기"
   ]
  },
  {
   "cell_type": "code",
   "execution_count": 609,
   "metadata": {},
   "outputs": [
    {
     "data": {
      "text/html": [
       "<style>#sk-container-id-27 {color: black;background-color: white;}#sk-container-id-27 pre{padding: 0;}#sk-container-id-27 div.sk-toggleable {background-color: white;}#sk-container-id-27 label.sk-toggleable__label {cursor: pointer;display: block;width: 100%;margin-bottom: 0;padding: 0.3em;box-sizing: border-box;text-align: center;}#sk-container-id-27 label.sk-toggleable__label-arrow:before {content: \"▸\";float: left;margin-right: 0.25em;color: #696969;}#sk-container-id-27 label.sk-toggleable__label-arrow:hover:before {color: black;}#sk-container-id-27 div.sk-estimator:hover label.sk-toggleable__label-arrow:before {color: black;}#sk-container-id-27 div.sk-toggleable__content {max-height: 0;max-width: 0;overflow: hidden;text-align: left;background-color: #f0f8ff;}#sk-container-id-27 div.sk-toggleable__content pre {margin: 0.2em;color: black;border-radius: 0.25em;background-color: #f0f8ff;}#sk-container-id-27 input.sk-toggleable__control:checked~div.sk-toggleable__content {max-height: 200px;max-width: 100%;overflow: auto;}#sk-container-id-27 input.sk-toggleable__control:checked~label.sk-toggleable__label-arrow:before {content: \"▾\";}#sk-container-id-27 div.sk-estimator input.sk-toggleable__control:checked~label.sk-toggleable__label {background-color: #d4ebff;}#sk-container-id-27 div.sk-label input.sk-toggleable__control:checked~label.sk-toggleable__label {background-color: #d4ebff;}#sk-container-id-27 input.sk-hidden--visually {border: 0;clip: rect(1px 1px 1px 1px);clip: rect(1px, 1px, 1px, 1px);height: 1px;margin: -1px;overflow: hidden;padding: 0;position: absolute;width: 1px;}#sk-container-id-27 div.sk-estimator {font-family: monospace;background-color: #f0f8ff;border: 1px dotted black;border-radius: 0.25em;box-sizing: border-box;margin-bottom: 0.5em;}#sk-container-id-27 div.sk-estimator:hover {background-color: #d4ebff;}#sk-container-id-27 div.sk-parallel-item::after {content: \"\";width: 100%;border-bottom: 1px solid gray;flex-grow: 1;}#sk-container-id-27 div.sk-label:hover label.sk-toggleable__label {background-color: #d4ebff;}#sk-container-id-27 div.sk-serial::before {content: \"\";position: absolute;border-left: 1px solid gray;box-sizing: border-box;top: 0;bottom: 0;left: 50%;z-index: 0;}#sk-container-id-27 div.sk-serial {display: flex;flex-direction: column;align-items: center;background-color: white;padding-right: 0.2em;padding-left: 0.2em;position: relative;}#sk-container-id-27 div.sk-item {position: relative;z-index: 1;}#sk-container-id-27 div.sk-parallel {display: flex;align-items: stretch;justify-content: center;background-color: white;position: relative;}#sk-container-id-27 div.sk-item::before, #sk-container-id-27 div.sk-parallel-item::before {content: \"\";position: absolute;border-left: 1px solid gray;box-sizing: border-box;top: 0;bottom: 0;left: 50%;z-index: -1;}#sk-container-id-27 div.sk-parallel-item {display: flex;flex-direction: column;z-index: 1;position: relative;background-color: white;}#sk-container-id-27 div.sk-parallel-item:first-child::after {align-self: flex-end;width: 50%;}#sk-container-id-27 div.sk-parallel-item:last-child::after {align-self: flex-start;width: 50%;}#sk-container-id-27 div.sk-parallel-item:only-child::after {width: 0;}#sk-container-id-27 div.sk-dashed-wrapped {border: 1px dashed gray;margin: 0 0.4em 0.5em 0.4em;box-sizing: border-box;padding-bottom: 0.4em;background-color: white;}#sk-container-id-27 div.sk-label label {font-family: monospace;font-weight: bold;display: inline-block;line-height: 1.2em;}#sk-container-id-27 div.sk-label-container {text-align: center;}#sk-container-id-27 div.sk-container {/* jupyter's `normalize.less` sets `[hidden] { display: none; }` but bootstrap.min.css set `[hidden] { display: none !important; }` so we also need the `!important` here to be able to override the default hidden behavior on the sphinx rendered scikit-learn.org. See: https://github.com/scikit-learn/scikit-learn/issues/21755 */display: inline-block !important;position: relative;}#sk-container-id-27 div.sk-text-repr-fallback {display: none;}</style><div id=\"sk-container-id-27\" class=\"sk-top-container\"><div class=\"sk-text-repr-fallback\"><pre>LinearRegression()</pre><b>In a Jupyter environment, please rerun this cell to show the HTML representation or trust the notebook. <br />On GitHub, the HTML representation is unable to render, please try loading this page with nbviewer.org.</b></div><div class=\"sk-container\" hidden><div class=\"sk-item\"><div class=\"sk-estimator sk-toggleable\"><input class=\"sk-toggleable__control sk-hidden--visually\" id=\"sk-estimator-id-27\" type=\"checkbox\" checked><label for=\"sk-estimator-id-27\" class=\"sk-toggleable__label sk-toggleable__label-arrow\">LinearRegression</label><div class=\"sk-toggleable__content\"><pre>LinearRegression()</pre></div></div></div></div></div>"
      ],
      "text/plain": [
       "LinearRegression()"
      ]
     },
     "execution_count": 609,
     "metadata": {},
     "output_type": "execute_result"
    }
   ],
   "source": [
    "lr = LinearRegression()\n",
    "lr.fit(train_input, train_target)"
   ]
  },
  {
   "cell_type": "code",
   "execution_count": 610,
   "metadata": {},
   "outputs": [
    {
     "name": "stdout",
     "output_type": "stream",
     "text": [
      "[-0.4288744] 0.8047577021168724\n"
     ]
    }
   ],
   "source": [
    "print(lr.coef_, lr.intercept_)"
   ]
  },
  {
   "cell_type": "code",
   "execution_count": 611,
   "metadata": {},
   "outputs": [
    {
     "data": {
      "text/plain": [
       "(0.0, 1.0)"
      ]
     },
     "execution_count": 611,
     "metadata": {},
     "output_type": "execute_result"
    },
    {
     "data": {
      "image/png": "[encoded data removed]",
      "text/plain": [
       "<Figure size 640x480 with 1 Axes>"
      ]
     },
     "metadata": {},
     "output_type": "display_data"
    }
   ],
   "source": [
    "plt.plot([-0.5, 1.5], [(-0.5)*lr.coef_+lr.intercept_, 1.5*lr.coef_+lr.intercept_], c='red')\n",
    "plt.ylim(0, 1)"
   ]
  },
  {
   "cell_type": "code",
   "execution_count": 612,
   "metadata": {},
   "outputs": [
    {
     "data": {
      "text/plain": [
       "(0.0, 1.0)"
      ]
     },
     "execution_count": 612,
     "metadata": {},
     "output_type": "execute_result"
    },
    {
     "data": {
      "image/png": "[encoded data removed]",
      "text/plain": [
       "<Figure size 640x480 with 1 Axes>"
      ]
     },
     "metadata": {},
     "output_type": "display_data"
    }
   ],
   "source": [
    "plt.plot([-0.5e-06, 1.5e-06], [(-0.5e-06)*lr.coef_+lr.intercept_, (1.5e-06)*lr.coef_+lr.intercept_], c='red')\n",
    "plt.ylim(0, 1)"
   ]
  },
  {
   "cell_type": "code",
   "execution_count": 618,
   "metadata": {},
   "outputs": [
    {
     "data": {
      "image/png": "[encoded data removed]",
      "text/plain": [
       "<Figure size 500x500 with 1 Axes>"
      ]
     },
     "metadata": {},
     "output_type": "display_data"
    }
   ],
   "source": [
    "# 구간별 직선을 그리기 위해 15에서 49까지의 정수 배열을 만든다.\n",
    "# point = np.arange(-0.5, 2)\n",
    "\n",
    "# 훈련세트의 산점도\n",
    "plt.figure(figsize=(5,5))\n",
    "plt.scatter(train_input, train_target)\n",
    "plt.scatter(test_input, test_target)\n",
    "\n",
    "# 15에서 50까지 1차 방정식 그래프\n",
    "# plt.plot(point, -4.66*point + 0.80, c='red')\n",
    "plt.plot([-0.5, 1.7], [(-0.5)*lr.coef_+lr.intercept_, (1.5)*lr.coef_+lr.intercept_], c='red')\n",
    "\n",
    "# 50cm 생선\n",
    "# plt.scatter(50, 1241.8, marker='^')\n",
    "\n",
    "plt.show()"
   ]
  },
  {
   "cell_type": "code",
   "execution_count": null,
   "metadata": {},
   "outputs": [
    {
     "name": "stdout",
     "output_type": "stream",
     "text": [
      "[-10.18971682283141, -10.18971682283141, -10.18971682283141, -10.18971682283141, -10.18971682283141, -10.18971682283141, -10.18971682283141, -10.18971682283141, -10.18971682283141, -10.18971682283141]\n",
      "[0.9670897043617348, 0.9670897043617348, 0.9670897043617348, 0.9670897043617348, 0.9670897043617348, 0.9670897043617348, 0.9670897043617348, 0.9670897043617348, 0.9670897043617348, 0.9670897043617348]\n",
      "[0.9743213331691732, 0.9711048380163756, 0.9743093709967534, 0.9721774935177709, 0.9728878051335584, 0.9731111098541023, 0.9738597918578883, 0.9702738910318105, 0.9743213396377136, 0.9720734680088141]\n",
      "[0.9641826151957134, 0.9682622446077392, 0.9670897043617348, 0.9670897043617348, 0.9670897043617348, 0.9670897043617348, 0.9774562238185369, 0.9670897043617348, 0.9670897043617348, 0.9670897043617348]\n",
      "[-1632505324.5909708, -1766200852.5366073, -1911672310.9679635, -1436625234.630837, -915963401.2932148, -956271899.7703909, -1935139506.5408394, -1398879138.5089629, -1564710071.4598832, -1157622461.709076]\n"
     ]
    },
    {
     "data": {
      "text/plain": [
       "[-1632505324.5909708,\n",
       " -1766200852.5366073,\n",
       " -1911672310.9679635,\n",
       " -1436625234.630837,\n",
       " -915963401.2932148,\n",
       " -956271899.7703909,\n",
       " -1935139506.5408394,\n",
       " -1398879138.5089629,\n",
       " -1564710071.4598832,\n",
       " -1157622461.709076]"
      ]
     },
     "execution_count": 533,
     "metadata": {},
     "output_type": "execute_result"
    }
   ],
   "source": [
    "ml_list = [GaussianProcessRegressor(), DecisionTreeRegressor(), RandomForestRegressor(), AdaBoostRegressor(), MLPRegressor()]\n",
    "for ml in ml_list:\n",
    "    ml_cv_scores = cross_validation(ml, train_input, train_target)\n",
    "    print(ml_cv_scores)\n",
    "ml_cv_scores"
   ]
  },
  {
   "attachments": {},
   "cell_type": "markdown",
   "metadata": {},
   "source": [
    "----\n",
    "----\n",
    "----\n",
    "----\n",
    "----\n",
    "----"
   ]
  },
  {
   "cell_type": "markdown",
   "metadata": {},
   "source": [
    "----\n",
    "### Decision Model"
   ]
  },
  {
   "cell_type": "code",
   "execution_count": null,
   "metadata": {},
   "outputs": [
    {
     "ename": "ValueError",
     "evalue": "Unknown label type: 'continuous'",
     "output_type": "error",
     "traceback": [
      "\u001b[0;31m---------------------------------------------------------------------------\u001b[0m",
      "\u001b[0;31mValueError\u001b[0m                                Traceback (most recent call last)",
      "Cell \u001b[0;32mIn[534], line 4\u001b[0m\n\u001b[1;32m      2\u001b[0m \u001b[39mfrom\u001b[39;00m \u001b[39msklearn\u001b[39;00m\u001b[39m.\u001b[39;00m\u001b[39mtree\u001b[39;00m \u001b[39mimport\u001b[39;00m DecisionTreeClassifier\n\u001b[1;32m      3\u001b[0m dt \u001b[39m=\u001b[39m DecisionTreeClassifier()  \u001b[39m# random_state=42\u001b[39;00m\n\u001b[0;32m----> 4\u001b[0m dt\u001b[39m.\u001b[39;49mfit(sub_input, sub_target)\n\u001b[1;32m      6\u001b[0m \u001b[39mprint\u001b[39m(\u001b[39m\"\u001b[39m\u001b[39mTrain score :\u001b[39m\u001b[39m\"\u001b[39m, dt\u001b[39m.\u001b[39mscore(sub_input, sub_target))\n\u001b[1;32m      7\u001b[0m \u001b[39mprint\u001b[39m(\u001b[39m\"\u001b[39m\u001b[39mValid score :\u001b[39m\u001b[39m\"\u001b[39m, dt\u001b[39m.\u001b[39mscore(val_input, val_target))\n",
      "File \u001b[0;32m~/miniforge3/envs/tensorflow/lib/python3.9/site-packages/sklearn/tree/_classes.py:889\u001b[0m, in \u001b[0;36mDecisionTreeClassifier.fit\u001b[0;34m(self, X, y, sample_weight, check_input)\u001b[0m\n\u001b[1;32m    859\u001b[0m \u001b[39mdef\u001b[39;00m \u001b[39mfit\u001b[39m(\u001b[39mself\u001b[39m, X, y, sample_weight\u001b[39m=\u001b[39m\u001b[39mNone\u001b[39;00m, check_input\u001b[39m=\u001b[39m\u001b[39mTrue\u001b[39;00m):\n\u001b[1;32m    860\u001b[0m \u001b[39m    \u001b[39m\u001b[39m\"\"\"Build a decision tree classifier from the training set (X, y).\u001b[39;00m\n\u001b[1;32m    861\u001b[0m \n\u001b[1;32m    862\u001b[0m \u001b[39m    Parameters\u001b[39;00m\n\u001b[0;32m   (...)\u001b[0m\n\u001b[1;32m    886\u001b[0m \u001b[39m        Fitted estimator.\u001b[39;00m\n\u001b[1;32m    887\u001b[0m \u001b[39m    \"\"\"\u001b[39;00m\n\u001b[0;32m--> 889\u001b[0m     \u001b[39msuper\u001b[39;49m()\u001b[39m.\u001b[39;49mfit(\n\u001b[1;32m    890\u001b[0m         X,\n\u001b[1;32m    891\u001b[0m         y,\n\u001b[1;32m    892\u001b[0m         sample_weight\u001b[39m=\u001b[39;49msample_weight,\n\u001b[1;32m    893\u001b[0m         check_input\u001b[39m=\u001b[39;49mcheck_input,\n\u001b[1;32m    894\u001b[0m     )\n\u001b[1;32m    895\u001b[0m     \u001b[39mreturn\u001b[39;00m \u001b[39mself\u001b[39m\n",
      "File \u001b[0;32m~/miniforge3/envs/tensorflow/lib/python3.9/site-packages/sklearn/tree/_classes.py:224\u001b[0m, in \u001b[0;36mBaseDecisionTree.fit\u001b[0;34m(self, X, y, sample_weight, check_input)\u001b[0m\n\u001b[1;32m    221\u001b[0m \u001b[39mself\u001b[39m\u001b[39m.\u001b[39mn_outputs_ \u001b[39m=\u001b[39m y\u001b[39m.\u001b[39mshape[\u001b[39m1\u001b[39m]\n\u001b[1;32m    223\u001b[0m \u001b[39mif\u001b[39;00m is_classification:\n\u001b[0;32m--> 224\u001b[0m     check_classification_targets(y)\n\u001b[1;32m    225\u001b[0m     y \u001b[39m=\u001b[39m np\u001b[39m.\u001b[39mcopy(y)\n\u001b[1;32m    227\u001b[0m     \u001b[39mself\u001b[39m\u001b[39m.\u001b[39mclasses_ \u001b[39m=\u001b[39m []\n",
      "File \u001b[0;32m~/miniforge3/envs/tensorflow/lib/python3.9/site-packages/sklearn/utils/multiclass.py:207\u001b[0m, in \u001b[0;36mcheck_classification_targets\u001b[0;34m(y)\u001b[0m\n\u001b[1;32m    199\u001b[0m y_type \u001b[39m=\u001b[39m type_of_target(y, input_name\u001b[39m=\u001b[39m\u001b[39m\"\u001b[39m\u001b[39my\u001b[39m\u001b[39m\"\u001b[39m)\n\u001b[1;32m    200\u001b[0m \u001b[39mif\u001b[39;00m y_type \u001b[39mnot\u001b[39;00m \u001b[39min\u001b[39;00m [\n\u001b[1;32m    201\u001b[0m     \u001b[39m\"\u001b[39m\u001b[39mbinary\u001b[39m\u001b[39m\"\u001b[39m,\n\u001b[1;32m    202\u001b[0m     \u001b[39m\"\u001b[39m\u001b[39mmulticlass\u001b[39m\u001b[39m\"\u001b[39m,\n\u001b[0;32m   (...)\u001b[0m\n\u001b[1;32m    205\u001b[0m     \u001b[39m\"\u001b[39m\u001b[39mmultilabel-sequences\u001b[39m\u001b[39m\"\u001b[39m,\n\u001b[1;32m    206\u001b[0m ]:\n\u001b[0;32m--> 207\u001b[0m     \u001b[39mraise\u001b[39;00m \u001b[39mValueError\u001b[39;00m(\u001b[39m\"\u001b[39m\u001b[39mUnknown label type: \u001b[39m\u001b[39m%r\u001b[39;00m\u001b[39m\"\u001b[39m \u001b[39m%\u001b[39m y_type)\n",
      "\u001b[0;31mValueError\u001b[0m: Unknown label type: 'continuous'"
     ]
    }
   ],
   "source": [
    "# 모델 tree\n",
    "from sklearn.tree import DecisionTreeClassifier\n",
    "dt = DecisionTreeClassifier()  # random_state=42\n",
    "dt.fit(sub_input, sub_target)\n",
    "\n",
    "print(\"Train score :\", dt.score(sub_input, sub_target))\n",
    "print(\"Valid score :\", dt.score(val_input, val_target))"
   ]
  },
  {
   "cell_type": "code",
   "execution_count": null,
   "metadata": {},
   "outputs": [
    {
     "data": {
      "text/plain": [
       "{'fit_time': array([0.00073981, 0.00046682, 0.00039816, 0.00031996, 0.00032496]),\n",
       " 'score_time': array([0.00040483, 0.0002811 , 0.00019503, 0.00017881, 0.00017095]),\n",
       " 'test_score': array([1., 1., 1., 1., 1.])}"
      ]
     },
     "metadata": {},
     "output_type": "display_data"
    }
   ],
   "source": [
    "# 교차 검증\n",
    "from sklearn.model_selection import cross_validate\n",
    "scores = cross_validate(dt, train_input, train_target)\n",
    "scores"
   ]
  },
  {
   "cell_type": "code",
   "execution_count": null,
   "metadata": {},
   "outputs": [
    {
     "data": {
      "text/plain": [
       "1.0"
      ]
     },
     "metadata": {},
     "output_type": "display_data"
    }
   ],
   "source": [
    "# 교차검증 후의 정확도 판단\n",
    "import numpy as np\n",
    "np.mean(scores['test_score'])"
   ]
  },
  {
   "cell_type": "code",
   "execution_count": null,
   "metadata": {},
   "outputs": [
    {
     "data": {
      "text/plain": [
       "array([0, 1, 1, 1, 3, 3, 3, 1, 2, 1, 1, 1, 1, 3, 1, 1, 1, 1, 1, 1, 1, 1,\n",
       "       1, 1, 3, 1, 0, 1, 1, 2, 3, 3, 3, 3, 3, 1, 3, 1, 3, 3, 3, 3, 1, 3,\n",
       "       0, 2, 1, 1, 1, 3, 1, 1, 3, 1, 1, 1, 1, 1, 1, 1, 1, 1, 3, 3, 0, 1,\n",
       "       3, 1, 2, 1, 1, 0, 1, 1, 1, 2, 1, 3, 3, 1, 3, 3, 1, 3, 1, 1, 1, 1,\n",
       "       3, 3, 1, 1, 1, 1, 1, 1, 3, 1, 3, 3, 3, 1, 3, 1, 1, 0, 1, 2],\n",
       "      dtype=int32)"
      ]
     },
     "metadata": {},
     "output_type": "display_data"
    }
   ],
   "source": [
    "dt.predict(train_input)"
   ]
  },
  {
   "cell_type": "markdown",
   "metadata": {},
   "source": [
    "----\n",
    "### Random Forest"
   ]
  },
  {
   "cell_type": "code",
   "execution_count": null,
   "metadata": {},
   "outputs": [
    {
     "name": "stdout",
     "output_type": "stream",
     "text": [
      "Train score : 1.0\n",
      "Valid score : 1.0\n"
     ]
    }
   ],
   "source": [
    "# RandomForest\n",
    "from sklearn.model_selection import cross_validate\n",
    "from sklearn.ensemble import RandomForestClassifier\n",
    "\n",
    "rf = RandomForestClassifier(n_jobs=-1) # default:100 # random_state=42\n",
    "rf.fit(sub_input, sub_target)\n",
    "\n",
    "print(\"Train score :\", rf.score(sub_input, sub_target))\n",
    "print(\"Valid score :\", rf.score(val_input, val_target))"
   ]
  },
  {
   "cell_type": "code",
   "execution_count": null,
   "metadata": {},
   "outputs": [
    {
     "data": {
      "text/plain": [
       "{'fit_time': array([0.04317784, 0.03798604, 0.03801394, 0.0378592 , 0.04014325]),\n",
       " 'score_time': array([0.00655007, 0.00646925, 0.00697088, 0.00694203, 0.00744295]),\n",
       " 'test_score': array([1., 1., 1., 1., 1.])}"
      ]
     },
     "metadata": {},
     "output_type": "display_data"
    }
   ],
   "source": [
    "# 교차 검증\n",
    "from sklearn.model_selection import cross_validate\n",
    "scores = cross_validate(rf, train_input, train_target)\n",
    "scores"
   ]
  },
  {
   "cell_type": "code",
   "execution_count": null,
   "metadata": {},
   "outputs": [
    {
     "data": {
      "text/plain": [
       "1.0"
      ]
     },
     "metadata": {},
     "output_type": "display_data"
    }
   ],
   "source": [
    "# 교차검증 후의 정확도 판단\n",
    "import numpy as np\n",
    "np.mean(scores['test_score'])"
   ]
  },
  {
   "cell_type": "code",
   "execution_count": null,
   "metadata": {},
   "outputs": [
    {
     "data": {
      "text/plain": [
       "array([1, 1, 2, 1, 1, 1, 3, 1, 1, 1, 3, 3, 3, 0, 1, 1, 0, 1, 3, 1, 1, 1,\n",
       "       1, 2, 3, 1, 3, 3], dtype=int32)"
      ]
     },
     "metadata": {},
     "output_type": "display_data"
    }
   ],
   "source": [
    "rf.predict(test_input)"
   ]
  },
  {
   "cell_type": "markdown",
   "metadata": {},
   "source": [
    "> ## Classfication 정확도가 높으므로 Regression으로 시도해보자"
   ]
  },
  {
   "cell_type": "code",
   "execution_count": null,
   "metadata": {},
   "outputs": [],
   "source": [
    "# # KNN\n",
    "# from sklearn.neighbors import KNeighborsClassifier\n",
    "# clf = KNeighborsClassifier(n_neighbors=3)\n",
    "# clf.fit(train_input, train_target)\n",
    "# clf.score(test_input, test_target)"
   ]
  },
  {
   "cell_type": "markdown",
   "metadata": {},
   "source": [
    "----\n",
    "----\n",
    "# Regression\n",
    "1. cluster_id : [0, 1, 2, 3] -> [0 ~ 1] 변환\n",
    "2. Regression 진행"
   ]
  },
  {
   "cell_type": "markdown",
   "metadata": {},
   "source": [
    "### cluster_id : [0, 1, 2, 3] -> [0 ~ 1] 변환"
   ]
  },
  {
   "cell_type": "code",
   "execution_count": null,
   "metadata": {},
   "outputs": [
    {
     "data": {
      "text/plain": [
       "array([0.  , 0.33, 0.67, 1.  ])"
      ]
     },
     "metadata": {},
     "output_type": "display_data"
    }
   ],
   "source": [
    "df_km['cluster_id'] = df_km['cluster_id'] + 10\n",
    "df_km_temp = df_km.sort_values(by='전출인구', ascending=True)\n",
    "temp_list = df_km_temp['cluster_id'].unique()\n",
    "\n",
    "i = 3\n",
    "for temp in temp_list:\n",
    "    df_km['cluster_id'][df_km['cluster_id'] == temp] = i\n",
    "    i-=1\n",
    "df_km['cluster_id'] = np.round(df_km['cluster_id'] / 3, 2)\n",
    "df_km['cluster_id'].unique()"
   ]
  },
  {
   "cell_type": "code",
   "execution_count": null,
   "metadata": {},
   "outputs": [
    {
     "data": {
      "image/png": "[encoded data removed]",
      "text/plain": [
       "<Figure size 583x500 with 1 Axes>"
      ]
     },
     "metadata": {},
     "output_type": "display_data"
    }
   ],
   "source": [
    "sns.lmplot(x='출생아수', y='전출인구',\n",
    "            data=df_km, fit_reg=False,\n",
    "            scatter_kws={'s':200},\n",
    "            hue=\"cluster_id\"\n",
    ")\n",
    "plt.show()"
   ]
  },
  {
   "cell_type": "code",
   "execution_count": null,
   "metadata": {},
   "outputs": [],
   "source": [
    "# Feature, Target\n",
    "data = df_km[['전출인구', '출생아수', '산부인과의원수', '초등학생인원수', '도매 및 소매업 신생', '예금은행대출금액', '예금액']].to_numpy()\n",
    "target = df_km['cluster_id'].to_numpy()"
   ]
  },
  {
   "cell_type": "markdown",
   "metadata": {},
   "source": [
    "----\n",
    "### 검증 세트 추가\n",
    "- 훈련(60%), 검증(20%), 테스트(20%)"
   ]
  },
  {
   "cell_type": "code",
   "execution_count": null,
   "metadata": {},
   "outputs": [],
   "source": [
    "from sklearn.model_selection import train_test_split\n",
    "train_input, test_input, train_target, test_target = \\\n",
    "    train_test_split(data, target, test_size=0.2) # random_state=42,  stratify=target"
   ]
  },
  {
   "cell_type": "code",
   "execution_count": null,
   "metadata": {},
   "outputs": [],
   "source": [
    "sub_input, val_input, sub_target, val_target = \\\n",
    "    train_test_split(train_input, train_target, test_size=0.2, stratify=train_target) # random_state=42"
   ]
  },
  {
   "cell_type": "code",
   "execution_count": null,
   "metadata": {},
   "outputs": [
    {
     "name": "stdout",
     "output_type": "stream",
     "text": [
      "Train : (86, 7)\n",
      "Valid : (22, 7)\n",
      "Test  : (28, 7)\n"
     ]
    }
   ],
   "source": [
    "# 세트 별 크기\n",
    "print(\"Train :\", sub_input.shape)\n",
    "print(\"Valid :\", val_input.shape)\n",
    "print(\"Test  :\", test_input.shape)"
   ]
  },
  {
   "cell_type": "markdown",
   "metadata": {},
   "source": [
    "----\n",
    "### Decision Model"
   ]
  },
  {
   "cell_type": "code",
   "execution_count": null,
   "metadata": {},
   "outputs": [
    {
     "name": "stdout",
     "output_type": "stream",
     "text": [
      "Train score : 1.0\n",
      "Valid score : 1.0\n"
     ]
    }
   ],
   "source": [
    "# 모델 tree\n",
    "from sklearn.tree import DecisionTreeRegressor\n",
    "dt = DecisionTreeRegressor()  # random_state=42\n",
    "dt.fit(sub_input, sub_target)\n",
    "\n",
    "print(\"Train score :\", dt.score(sub_input, sub_target))\n",
    "print(\"Valid score :\", dt.score(val_input, val_target))"
   ]
  },
  {
   "cell_type": "code",
   "execution_count": null,
   "metadata": {},
   "outputs": [
    {
     "data": {
      "text/plain": [
       "{'fit_time': array([0.00137115, 0.00087714, 0.00036788, 0.00030088, 0.00050712]),\n",
       " 'score_time': array([0.00027394, 0.00030494, 0.00016189, 0.00016284, 0.00018001]),\n",
       " 'test_score': array([0.94774244, 0.95286688, 1.        , 1.        , 1.        ])}"
      ]
     },
     "metadata": {},
     "output_type": "display_data"
    }
   ],
   "source": [
    "# 교차 검증\n",
    "from sklearn.model_selection import cross_validate\n",
    "scores = cross_validate(dt, train_input, train_target)\n",
    "scores"
   ]
  },
  {
   "cell_type": "code",
   "execution_count": null,
   "metadata": {},
   "outputs": [
    {
     "data": {
      "text/plain": [
       "0.9801218646387161"
      ]
     },
     "metadata": {},
     "output_type": "display_data"
    }
   ],
   "source": [
    "# 교차검증 후의 정확도 판단\n",
    "import numpy as np\n",
    "np.mean(scores['test_score'])"
   ]
  },
  {
   "cell_type": "code",
   "execution_count": null,
   "metadata": {},
   "outputs": [
    {
     "data": {
      "text/plain": [
       "array([1.  , 1.  , 1.  , 1.  , 1.  , 0.67, 0.67, 1.  , 0.67, 1.  , 0.67,\n",
       "       1.  , 0.67, 0.67, 1.  , 0.67, 1.  , 0.33, 0.  , 0.  , 1.  , 1.  ,\n",
       "       1.  , 1.  , 0.  , 1.  , 0.67, 1.  , 0.  , 1.  , 1.  , 1.  , 0.33,\n",
       "       1.  , 0.67, 1.  , 1.  , 0.67, 0.67, 1.  , 0.33, 1.  , 1.  , 0.67,\n",
       "       1.  , 1.  , 0.67, 0.67, 0.67, 0.67, 1.  , 0.33, 1.  , 1.  , 0.67,\n",
       "       1.  , 0.33, 0.67, 1.  , 1.  , 0.67, 1.  , 1.  , 1.  , 1.  , 0.67,\n",
       "       1.  , 1.  , 1.  , 0.67, 0.67, 1.  , 1.  , 1.  , 0.67, 0.  , 1.  ,\n",
       "       0.67, 1.  , 1.  , 1.  , 0.67, 1.  , 0.67, 0.67, 0.67, 1.  , 0.67,\n",
       "       1.  , 0.33, 0.67, 1.  , 1.  , 1.  , 0.67, 0.67, 0.67, 1.  , 0.67,\n",
       "       0.67, 1.  , 1.  , 0.67, 1.  , 1.  , 1.  , 0.  , 0.67])"
      ]
     },
     "metadata": {},
     "output_type": "display_data"
    }
   ],
   "source": [
    "dt.predict(train_input)"
   ]
  },
  {
   "cell_type": "markdown",
   "metadata": {},
   "source": [
    "----\n",
    "### Random Forest"
   ]
  },
  {
   "cell_type": "code",
   "execution_count": null,
   "metadata": {},
   "outputs": [
    {
     "name": "stdout",
     "output_type": "stream",
     "text": [
      "Train score : 0.9990279478260747\n",
      "Valid score : 0.9982068083323835\n"
     ]
    }
   ],
   "source": [
    "# RandomForest\n",
    "from sklearn.model_selection import cross_validate\n",
    "from sklearn.ensemble import RandomForestRegressor\n",
    "\n",
    "rf = RandomForestRegressor(n_jobs=-1) # default:100 # random_state=42\n",
    "rf.fit(sub_input, sub_target)\n",
    "\n",
    "print(\"Train score :\", rf.score(sub_input, sub_target))\n",
    "print(\"Valid score :\", rf.score(val_input, val_target))"
   ]
  },
  {
   "cell_type": "code",
   "execution_count": null,
   "metadata": {},
   "outputs": [
    {
     "data": {
      "text/plain": [
       "{'fit_time': array([0.04407716, 0.03859782, 0.03933501, 0.03601933, 0.03644705]),\n",
       " 'score_time': array([0.00625896, 0.00579906, 0.00585699, 0.00518894, 0.00509214]),\n",
       " 'test_score': array([0.99352798, 0.99119082, 0.99060723, 0.99356399, 0.99740895])}"
      ]
     },
     "metadata": {},
     "output_type": "display_data"
    }
   ],
   "source": [
    "# 교차 검증\n",
    "from sklearn.model_selection import cross_validate\n",
    "scores = cross_validate(rf, train_input, train_target)\n",
    "scores"
   ]
  },
  {
   "cell_type": "code",
   "execution_count": null,
   "metadata": {},
   "outputs": [
    {
     "data": {
      "text/plain": [
       "0.9932597929507022"
      ]
     },
     "metadata": {},
     "output_type": "display_data"
    }
   ],
   "source": [
    "# 교차검증 후의 정확도 판단\n",
    "import numpy as np\n",
    "np.mean(scores['test_score'])"
   ]
  },
  {
   "cell_type": "code",
   "execution_count": null,
   "metadata": {},
   "outputs": [
    {
     "data": {
      "text/plain": [
       "array([0.0066, 1.    , 1.    , 1.    , 1.    , 1.    , 1.    , 0.9538,\n",
       "       1.    , 1.    , 0.9934, 1.    , 1.    , 1.    , 0.2871, 0.67  ,\n",
       "       1.    , 0.67  , 1.    , 1.    , 0.9967, 0.9967, 0.3236, 1.    ,\n",
       "       1.    , 0.    , 1.    , 0.67  ])"
      ]
     },
     "metadata": {},
     "output_type": "display_data"
    }
   ],
   "source": [
    "rf.predict(test_input)"
   ]
  },
  {
   "cell_type": "code",
   "execution_count": null,
   "metadata": {},
   "outputs": [
    {
     "data": {
      "text/plain": [
       "array([[1.871621e+06, 8.817500e+04, 2.680000e+02, 7.524990e+05,\n",
       "        4.936400e+04, 3.505536e+05, 2.368040e+04],\n",
       "       [1.522280e+05, 7.539000e+03, 3.300000e+01, 6.851200e+04,\n",
       "        3.486000e+03, 2.849510e+04, 1.664630e+04],\n",
       "       [2.088310e+05, 9.333000e+03, 4.000000e+01, 8.670900e+04,\n",
       "        5.918000e+03, 2.639990e+04, 2.555550e+04],\n",
       "       [9.219300e+04, 5.494000e+03, 2.100000e+01, 3.827200e+04,\n",
       "        2.886000e+03, 1.254820e+04, 5.708100e+03],\n",
       "       [1.510900e+04, 1.111000e+03, 2.000000e+00, 7.090000e+03,\n",
       "        4.260000e+02, 2.429100e+03, 1.441735e+05],\n",
       "       [2.262840e+05, 1.066200e+04, 3.200000e+01, 8.045800e+04,\n",
       "        5.432000e+03, 1.418470e+04, 1.512430e+04],\n",
       "       [2.483970e+05, 1.396200e+04, 5.000000e+01, 9.159900e+04,\n",
       "        7.085000e+03, 2.580470e+04, 2.569250e+04],\n",
       "       [2.769000e+05, 1.423100e+04, 5.400000e+01, 1.018600e+05,\n",
       "        7.545000e+03, 2.462590e+04, 1.730330e+04],\n",
       "       [2.526070e+05, 1.269800e+04, 5.200000e+01, 9.789500e+04,\n",
       "        7.233000e+03, 2.733010e+04, 2.011250e+04],\n",
       "       [9.203000e+04, 4.500000e+03, 2.300000e+01, 4.106800e+04,\n",
       "        2.758000e+03, 1.828110e+04, 1.164680e+04],\n",
       "       [2.322460e+05, 7.318000e+03, 3.600000e+01, 8.641900e+04,\n",
       "        5.810000e+03, 4.216130e+04, 2.857370e+04],\n",
       "       [2.251080e+05, 9.105000e+03, 3.700000e+01, 8.862200e+04,\n",
       "        5.652000e+03, 3.347550e+04, 2.410440e+04],\n",
       "       [2.210740e+05, 1.158000e+04, 3.900000e+01, 8.909500e+04,\n",
       "        6.228000e+03, 3.035420e+04, 2.406740e+04],\n",
       "       [1.471160e+05, 9.381000e+03, 3.200000e+01, 6.601600e+04,\n",
       "        4.001000e+03, 2.694920e+04, 1.589940e+04],\n",
       "       [1.726687e+06, 8.300500e+04, 3.890000e+02, 4.506750e+05,\n",
       "        4.459900e+04, 5.255291e+05, 6.003911e+05],\n",
       "       [3.657390e+05, 1.936100e+04, 8.500000e+01, 1.317650e+05,\n",
       "        1.074400e+04, 5.321400e+04, 4.220320e+04],\n",
       "       [2.292880e+05, 1.272900e+04, 4.500000e+01, 9.605500e+04,\n",
       "        6.342000e+03, 2.308280e+04, 1.804160e+04],\n",
       "       [4.101800e+05, 2.713800e+04, 6.400000e+01, 1.853250e+05,\n",
       "        1.206600e+04, 7.233300e+04, 9.587600e+03],\n",
       "       [2.223520e+05, 1.092900e+04, 3.300000e+01, 7.841400e+04,\n",
       "        5.570000e+03, 1.546490e+04, 1.628540e+04],\n",
       "       [2.131880e+05, 1.356300e+04, 4.700000e+01, 8.529000e+04,\n",
       "        5.944000e+03, 2.104460e+04, 2.246210e+04],\n",
       "       [2.714460e+05, 1.730200e+04, 4.600000e+01, 1.153090e+05,\n",
       "        7.956000e+03, 3.382880e+04, 2.102070e+04],\n",
       "       [2.796800e+05, 1.860400e+04, 4.600000e+01, 1.154840e+05,\n",
       "        7.772000e+03, 3.225500e+04, 2.005520e+04],\n",
       "       [1.642977e+06, 4.744500e+04, 3.850000e+02, 4.095360e+05,\n",
       "        4.958100e+04, 7.261641e+05, 8.983718e+05],\n",
       "       [8.139600e+04, 5.526000e+03, 2.000000e+01, 3.791500e+04,\n",
       "        2.581000e+03, 8.312300e+03, 1.667400e+03],\n",
       "       [3.095000e+04, 2.708000e+03, 4.000000e+00, 1.335300e+04,\n",
       "        7.120000e+02, 5.215000e+03, 1.692154e+05],\n",
       "       [1.834379e+06, 1.121690e+05, 2.770000e+02, 7.323070e+05,\n",
       "        5.166100e+04, 2.684946e+05, 1.480870e+04],\n",
       "       [5.867400e+04, 3.819000e+03, 7.000000e+00, 2.789200e+04,\n",
       "        1.080000e+03, 8.803900e+03, 2.230434e+05],\n",
       "       [5.205910e+05, 2.664500e+04, 7.400000e+01, 1.542830e+05,\n",
       "        1.313300e+04, 9.210950e+04, 7.315640e+04]])"
      ]
     },
     "metadata": {},
     "output_type": "display_data"
    }
   ],
   "source": [
    "test_input"
   ]
  },
  {
   "cell_type": "code",
   "execution_count": null,
   "metadata": {},
   "outputs": [
    {
     "data": {
      "text/plain": [
       "array([0.1563])"
      ]
     },
     "metadata": {},
     "output_type": "display_data"
    }
   ],
   "source": [
    "rf.predict([[3.131880e+05, 6.773700e+04, 2.650000e+02, 7.617310e+05,\n",
    "       6.314500e+04, 4.198318e+05, 2.493950e+04]])"
   ]
  },
  {
   "cell_type": "code",
   "execution_count": null,
   "metadata": {},
   "outputs": [],
   "source": [
    "# # RandomForest\n",
    "# from sklearn.model_selection import cross_validate\n",
    "# from sklearn.ensemble import RandomForestClassifier\n",
    "\n",
    "# rf = RandomForestClassifier(n_jobs=-1, random_state=42) # default:100\n",
    "# scores = cross_validate(rf, train_input, train_target, return_train_score=True, n_jobs=-1) # 크로스밸리데이션 쓰려면 모델부터 만들어놔야한다 # return_train_score=True > 그래야 점수를 알 수 있다.\n",
    "# print(np.mean(scores['train_score']), np.mean(scores['test_score']))"
   ]
  },
  {
   "cell_type": "markdown",
   "metadata": {},
   "source": [
    "----\n",
    "----\n",
    "### KFold를 이용한 방법"
   ]
  },
  {
   "cell_type": "code",
   "execution_count": null,
   "metadata": {},
   "outputs": [],
   "source": [
    "# from sklearn.model_selection import StratifiedKFold\n",
    "# splitter = StratifiedKFold() # default : 5\n",
    "# scores = cross_validate(dt, train_input, train_target, cv=splitter)\n",
    "# scores"
   ]
  },
  {
   "cell_type": "code",
   "execution_count": null,
   "metadata": {},
   "outputs": [],
   "source": [
    "# np.mean(scores['test_score'])"
   ]
  },
  {
   "cell_type": "code",
   "execution_count": null,
   "metadata": {},
   "outputs": [],
   "source": [
    "# # KFold의 Fold 중 10개로 나누어서 교차검증\n",
    "# splitter = StratifiedKFold(n_splits=10, shuffle=True, random_state=42) # default : 5\n",
    "# scores = cross_validate(dt, train_input, train_target, cv=splitter)\n",
    "# scores"
   ]
  },
  {
   "cell_type": "code",
   "execution_count": null,
   "metadata": {},
   "outputs": [],
   "source": [
    "# np.mean(scores['test_score'])"
   ]
  },
  {
   "cell_type": "markdown",
   "metadata": {},
   "source": [
    "> 0.963 (n_splits=10)"
   ]
  },
  {
   "cell_type": "code",
   "execution_count": null,
   "metadata": {},
   "outputs": [],
   "source": []
  }
 ],
 "metadata": {
  "kernelspec": {
   "display_name": "tensorflow",
   "language": "python",
   "name": "python3"
  },
  "language_info": {
   "codemirror_mode": {
    "name": "ipython",
    "version": 3
   },
   "file_extension": ".py",
   "mimetype": "text/x-python",
   "name": "python",
   "nbconvert_exporter": "python",
   "pygments_lexer": "ipython3",
   "version": "3.9.13"
  },
  "orig_nbformat": 4,
  "vscode": {
   "interpreter": {
    "hash": "a2b29f868d451986a4c0647d0e54b13b8f75acf913aadb998b05a67dca428959"
   }
  }
 },
 "nbformat": 4,
 "nbformat_minor": 2
}
