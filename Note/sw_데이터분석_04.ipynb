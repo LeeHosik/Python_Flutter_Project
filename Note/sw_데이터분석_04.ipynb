{
 "cells": [
  {
   "cell_type": "code",
   "execution_count": 155,
   "metadata": {},
   "outputs": [],
   "source": [
    "# import numpy as np\n",
    "# import pandas as pd\n",
    "# from sklearn.model_selection import train_test_split\n",
    "# from sklearn.linear_model import LinearRegression\n",
    "# from sklearn.ensemble import RandomForestRegressor\n",
    "# from sklearn.tree import DecisionTreeRegressor\n",
    "# from sklearn.metrics import mean_squared_error\n",
    "# from sklearn.ensemble import GradientBoostingRegressor\n",
    "# from sklearn.svm import SVR\n",
    "# from sklearn.linear_model import Ridge\n",
    "# from sklearn.neighbors import KNeighborsRegressor\n",
    "# from sklearn.gaussian_process import GaussianProcessRegressor\n",
    "# from sklearn.neural_network import MLPRegressor\n",
    "\n",
    "# def evaluate_regressors(X, y):\n",
    "#     X_train, X_test, y_train, y_test = train_test_split(X, y, test_size=0.2, random_state=42)\n",
    "#     X_train, valid_input, y_train, valid_target = train_test_split(X_train, y_train, test_size=0.2, random_state=42)\n",
    "#     regressors = [LinearRegression(),RandomForestRegressor(),GradientBoostingRegressor(),SVR(),Ridge(),KNeighborsRegressor(),GradientBoostingRegressor(),DecisionTreeRegressor(),MLPRegressor()]\n",
    "#     model_names = ['Linear Regression', 'Random Forest', 'GradientBoostingRegressor', 'SVR', 'Ridge', 'KNeighborsRegressor', 'GradientBoostingRegressor', 'Decision Tree', 'MLPRegressor']\n",
    "#     for i, regressor in enumerate(regressors):\n",
    "#         regressor.fit(X_train, y_train)\n",
    "#         y_pred = regressor.predict(X_test)\n",
    "#         mse = mean_squared_error(y_test, y_pred)\n",
    "#         print(f'{model_names[i]} \\n MSE: {mse}')\n",
    "#         print('score :', regressor.score(X_train, y_train))\n",
    "#         print('test :', regressor.score(X_test, y_test))\n",
    "#         scores = cross_validate(regressor, valid_input, valid_target)\n",
    "#         print('corss_validate :', np.mean(scores['test_score']))\n",
    "#         print('-' * 40)\n",
    "\n",
    "# data = pd.read_csv('../Data/03.통합.csv')\n",
    "# X = data.drop('target', axis=1)\n",
    "# y = data['target']\n",
    "\n",
    "# evaluate_regressors(X, y)"
   ]
  },
  {
   "cell_type": "code",
   "execution_count": 156,
   "metadata": {},
   "outputs": [],
   "source": [
    "import numpy as np\n",
    "import pandas as pd\n",
    "import seaborn as sns\n",
    "import matplotlib.pyplot as plt\n",
    "from sklearn import preprocessing\n",
    "from sklearn.cluster import KMeans"
   ]
  },
  {
   "cell_type": "code",
   "execution_count": 157,
   "metadata": {},
   "outputs": [],
   "source": [
    "# warning 숨기기\n",
    "import warnings\n",
    "warnings.filterwarnings('ignore')\n",
    "\n",
    "# 한글 폰트 문제 해결\n",
    "import platform\n",
    "from matplotlib import font_manager, rc\n",
    "plt.rcParams['axes.unicode_minus'] = False\n",
    "if platform.system() == 'Darwin':\n",
    "    rc('font', family='AppleGothic')\n",
    "elif platform.system() == 'Windows':\n",
    "    path = 'c:/Windows/Fonts/malgun.ttf'\n",
    "    font_name = font_manager.FontProperties(fname=path).get_name()\n",
    "    rc('font', family=font_name)\n",
    "else:\n",
    "    print(\"Unknown System\")"
   ]
  },
  {
   "attachments": {},
   "cell_type": "markdown",
   "metadata": {},
   "source": [
    "----\n",
    "# Data Analysis - 04\n",
    "### - ML 2nd Try"
   ]
  },
  {
   "cell_type": "code",
   "execution_count": 158,
   "metadata": {},
   "outputs": [
    {
     "data": {
      "text/html": [
       "<div>\n",
       "<style scoped>\n",
       "    .dataframe tbody tr th:only-of-type {\n",
       "        vertical-align: middle;\n",
       "    }\n",
       "\n",
       "    .dataframe tbody tr th {\n",
       "        vertical-align: top;\n",
       "    }\n",
       "\n",
       "    .dataframe thead th {\n",
       "        text-align: right;\n",
       "    }\n",
       "</style>\n",
       "<table border=\"1\" class=\"dataframe\">\n",
       "  <thead>\n",
       "    <tr style=\"text-align: right;\">\n",
       "      <th></th>\n",
       "      <th>시도</th>\n",
       "      <th>총인구</th>\n",
       "      <th>전출인구</th>\n",
       "      <th>출생아수</th>\n",
       "      <th>산부인과의원수</th>\n",
       "      <th>초등학생인원수</th>\n",
       "      <th>도매 및 소매업 신생</th>\n",
       "      <th>예금은행대출금액</th>\n",
       "      <th>예금액</th>\n",
       "    </tr>\n",
       "    <tr>\n",
       "      <th>년도</th>\n",
       "      <th></th>\n",
       "      <th></th>\n",
       "      <th></th>\n",
       "      <th></th>\n",
       "      <th></th>\n",
       "      <th></th>\n",
       "      <th></th>\n",
       "      <th></th>\n",
       "      <th></th>\n",
       "    </tr>\n",
       "  </thead>\n",
       "  <tbody>\n",
       "    <tr>\n",
       "      <th>2013</th>\n",
       "      <td>경기도</td>\n",
       "      <td>12234630</td>\n",
       "      <td>1821303</td>\n",
       "      <td>112129</td>\n",
       "      <td>286</td>\n",
       "      <td>739619</td>\n",
       "      <td>49143</td>\n",
       "      <td>248468.3</td>\n",
       "      <td>13718.5</td>\n",
       "    </tr>\n",
       "    <tr>\n",
       "      <th>2013</th>\n",
       "      <td>서울특별시</td>\n",
       "      <td>10143645</td>\n",
       "      <td>1620640</td>\n",
       "      <td>84066</td>\n",
       "      <td>395</td>\n",
       "      <td>469392</td>\n",
       "      <td>48097</td>\n",
       "      <td>462443.1</td>\n",
       "      <td>532689.2</td>\n",
       "    </tr>\n",
       "    <tr>\n",
       "      <th>2013</th>\n",
       "      <td>경상남도</td>\n",
       "      <td>3333820</td>\n",
       "      <td>423864</td>\n",
       "      <td>29504</td>\n",
       "      <td>65</td>\n",
       "      <td>190166</td>\n",
       "      <td>12612</td>\n",
       "      <td>57288.6</td>\n",
       "      <td>6703.3</td>\n",
       "    </tr>\n",
       "    <tr>\n",
       "      <th>2013</th>\n",
       "      <td>부산광역시</td>\n",
       "      <td>3527635</td>\n",
       "      <td>496161</td>\n",
       "      <td>25831</td>\n",
       "      <td>82</td>\n",
       "      <td>160821</td>\n",
       "      <td>13902</td>\n",
       "      <td>77411.6</td>\n",
       "      <td>59554.5</td>\n",
       "    </tr>\n",
       "    <tr>\n",
       "      <th>2013</th>\n",
       "      <td>대구광역시</td>\n",
       "      <td>2501588</td>\n",
       "      <td>363224</td>\n",
       "      <td>19340</td>\n",
       "      <td>86</td>\n",
       "      <td>136309</td>\n",
       "      <td>9981</td>\n",
       "      <td>46578.5</td>\n",
       "      <td>37541.7</td>\n",
       "    </tr>\n",
       "    <tr>\n",
       "      <th>...</th>\n",
       "      <td>...</td>\n",
       "      <td>...</td>\n",
       "      <td>...</td>\n",
       "      <td>...</td>\n",
       "      <td>...</td>\n",
       "      <td>...</td>\n",
       "      <td>...</td>\n",
       "      <td>...</td>\n",
       "      <td>...</td>\n",
       "    </tr>\n",
       "    <tr>\n",
       "      <th>2020</th>\n",
       "      <td>충청북도</td>\n",
       "      <td>1600837</td>\n",
       "      <td>226441</td>\n",
       "      <td>8607</td>\n",
       "      <td>40</td>\n",
       "      <td>85135</td>\n",
       "      <td>6103</td>\n",
       "      <td>28669.1</td>\n",
       "      <td>27669.5</td>\n",
       "    </tr>\n",
       "    <tr>\n",
       "      <th>2020</th>\n",
       "      <td>대전광역시</td>\n",
       "      <td>1463882</td>\n",
       "      <td>243418</td>\n",
       "      <td>7481</td>\n",
       "      <td>44</td>\n",
       "      <td>79807</td>\n",
       "      <td>6405</td>\n",
       "      <td>39341.3</td>\n",
       "      <td>38725.4</td>\n",
       "    </tr>\n",
       "    <tr>\n",
       "      <th>2020</th>\n",
       "      <td>강원도</td>\n",
       "      <td>1542840</td>\n",
       "      <td>217897</td>\n",
       "      <td>7835</td>\n",
       "      <td>32</td>\n",
       "      <td>73478</td>\n",
       "      <td>5554</td>\n",
       "      <td>22831.4</td>\n",
       "      <td>23634.2</td>\n",
       "    </tr>\n",
       "    <tr>\n",
       "      <th>2020</th>\n",
       "      <td>제주특별자치도</td>\n",
       "      <td>674635</td>\n",
       "      <td>94736</td>\n",
       "      <td>3989</td>\n",
       "      <td>23</td>\n",
       "      <td>40575</td>\n",
       "      <td>2856</td>\n",
       "      <td>20182.3</td>\n",
       "      <td>14025.4</td>\n",
       "    </tr>\n",
       "    <tr>\n",
       "      <th>2020</th>\n",
       "      <td>세종특별자치시</td>\n",
       "      <td>355831</td>\n",
       "      <td>65909</td>\n",
       "      <td>3468</td>\n",
       "      <td>7</td>\n",
       "      <td>29487</td>\n",
       "      <td>1361</td>\n",
       "      <td>9864.7</td>\n",
       "      <td>251734.3</td>\n",
       "    </tr>\n",
       "  </tbody>\n",
       "</table>\n",
       "<p>136 rows × 9 columns</p>\n",
       "</div>"
      ],
      "text/plain": [
       "           시도       총인구     전출인구    출생아수  산부인과의원수  초등학생인원수  도매 및 소매업 신생  \\\n",
       "년도                                                                        \n",
       "2013      경기도  12234630  1821303  112129      286   739619        49143   \n",
       "2013    서울특별시  10143645  1620640   84066      395   469392        48097   \n",
       "2013     경상남도   3333820   423864   29504       65   190166        12612   \n",
       "2013    부산광역시   3527635   496161   25831       82   160821        13902   \n",
       "2013    대구광역시   2501588   363224   19340       86   136309         9981   \n",
       "...       ...       ...      ...     ...      ...      ...          ...   \n",
       "2020     충청북도   1600837   226441    8607       40    85135         6103   \n",
       "2020    대전광역시   1463882   243418    7481       44    79807         6405   \n",
       "2020      강원도   1542840   217897    7835       32    73478         5554   \n",
       "2020  제주특별자치도    674635    94736    3989       23    40575         2856   \n",
       "2020  세종특별자치시    355831    65909    3468        7    29487         1361   \n",
       "\n",
       "      예금은행대출금액       예금액  \n",
       "년도                        \n",
       "2013  248468.3   13718.5  \n",
       "2013  462443.1  532689.2  \n",
       "2013   57288.6    6703.3  \n",
       "2013   77411.6   59554.5  \n",
       "2013   46578.5   37541.7  \n",
       "...        ...       ...  \n",
       "2020   28669.1   27669.5  \n",
       "2020   39341.3   38725.4  \n",
       "2020   22831.4   23634.2  \n",
       "2020   20182.3   14025.4  \n",
       "2020    9864.7  251734.3  \n",
       "\n",
       "[136 rows x 9 columns]"
      ]
     },
     "execution_count": 158,
     "metadata": {},
     "output_type": "execute_result"
    }
   ],
   "source": [
    "df = pd.read_csv(\"../Data/03.통합.csv\", index_col='년도')\n",
    "df"
   ]
  },
  {
   "cell_type": "code",
   "execution_count": 159,
   "metadata": {},
   "outputs": [
    {
     "data": {
      "text/html": [
       "<div>\n",
       "<style scoped>\n",
       "    .dataframe tbody tr th:only-of-type {\n",
       "        vertical-align: middle;\n",
       "    }\n",
       "\n",
       "    .dataframe tbody tr th {\n",
       "        vertical-align: top;\n",
       "    }\n",
       "\n",
       "    .dataframe thead th {\n",
       "        text-align: right;\n",
       "    }\n",
       "</style>\n",
       "<table border=\"1\" class=\"dataframe\">\n",
       "  <thead>\n",
       "    <tr style=\"text-align: right;\">\n",
       "      <th></th>\n",
       "      <th>시도</th>\n",
       "      <th>전출인구</th>\n",
       "      <th>출생아수</th>\n",
       "      <th>산부인과의원수</th>\n",
       "      <th>초등학생인원수</th>\n",
       "      <th>도매 및 소매업 신생</th>\n",
       "      <th>예금은행대출금액</th>\n",
       "      <th>예금액</th>\n",
       "    </tr>\n",
       "    <tr>\n",
       "      <th>년도</th>\n",
       "      <th></th>\n",
       "      <th></th>\n",
       "      <th></th>\n",
       "      <th></th>\n",
       "      <th></th>\n",
       "      <th></th>\n",
       "      <th></th>\n",
       "      <th></th>\n",
       "    </tr>\n",
       "  </thead>\n",
       "  <tbody>\n",
       "    <tr>\n",
       "      <th>2013</th>\n",
       "      <td>경기도</td>\n",
       "      <td>1821303</td>\n",
       "      <td>112129</td>\n",
       "      <td>286</td>\n",
       "      <td>739619</td>\n",
       "      <td>49143</td>\n",
       "      <td>248468.3</td>\n",
       "      <td>13718.5</td>\n",
       "    </tr>\n",
       "    <tr>\n",
       "      <th>2013</th>\n",
       "      <td>서울특별시</td>\n",
       "      <td>1620640</td>\n",
       "      <td>84066</td>\n",
       "      <td>395</td>\n",
       "      <td>469392</td>\n",
       "      <td>48097</td>\n",
       "      <td>462443.1</td>\n",
       "      <td>532689.2</td>\n",
       "    </tr>\n",
       "    <tr>\n",
       "      <th>2013</th>\n",
       "      <td>경상남도</td>\n",
       "      <td>423864</td>\n",
       "      <td>29504</td>\n",
       "      <td>65</td>\n",
       "      <td>190166</td>\n",
       "      <td>12612</td>\n",
       "      <td>57288.6</td>\n",
       "      <td>6703.3</td>\n",
       "    </tr>\n",
       "    <tr>\n",
       "      <th>2013</th>\n",
       "      <td>부산광역시</td>\n",
       "      <td>496161</td>\n",
       "      <td>25831</td>\n",
       "      <td>82</td>\n",
       "      <td>160821</td>\n",
       "      <td>13902</td>\n",
       "      <td>77411.6</td>\n",
       "      <td>59554.5</td>\n",
       "    </tr>\n",
       "    <tr>\n",
       "      <th>2013</th>\n",
       "      <td>대구광역시</td>\n",
       "      <td>363224</td>\n",
       "      <td>19340</td>\n",
       "      <td>86</td>\n",
       "      <td>136309</td>\n",
       "      <td>9981</td>\n",
       "      <td>46578.5</td>\n",
       "      <td>37541.7</td>\n",
       "    </tr>\n",
       "  </tbody>\n",
       "</table>\n",
       "</div>"
      ],
      "text/plain": [
       "         시도     전출인구    출생아수  산부인과의원수  초등학생인원수  도매 및 소매업 신생  예금은행대출금액  \\\n",
       "년도                                                                      \n",
       "2013    경기도  1821303  112129      286   739619        49143  248468.3   \n",
       "2013  서울특별시  1620640   84066      395   469392        48097  462443.1   \n",
       "2013   경상남도   423864   29504       65   190166        12612   57288.6   \n",
       "2013  부산광역시   496161   25831       82   160821        13902   77411.6   \n",
       "2013  대구광역시   363224   19340       86   136309         9981   46578.5   \n",
       "\n",
       "           예금액  \n",
       "년도              \n",
       "2013   13718.5  \n",
       "2013  532689.2  \n",
       "2013    6703.3  \n",
       "2013   59554.5  \n",
       "2013   37541.7  "
      ]
     },
     "execution_count": 159,
     "metadata": {},
     "output_type": "execute_result"
    }
   ],
   "source": [
    "# 총인구 컬럼 제거\n",
    "df.drop(columns='총인구', inplace=True)\n",
    "df.head()"
   ]
  },
  {
   "cell_type": "markdown",
   "metadata": {},
   "source": [
    "### k값 찾기"
   ]
  },
  {
   "cell_type": "code",
   "execution_count": 160,
   "metadata": {},
   "outputs": [
    {
     "data": {
      "image/png": "[encoded data removed]",
      "text/plain": [
       "<Figure size 800x500 with 1 Axes>"
      ]
     },
     "metadata": {},
     "output_type": "display_data"
    }
   ],
   "source": [
    "df_temp = df.copy()\n",
    "df_temp.set_index('시도', inplace=True)\n",
    "# df_km = df_temp[df_temp.columns.difference(['총인구'])] # 총인구 컬럼이 존재할 때 사용한 것임\n",
    "df_km = df_temp\n",
    "# k값 찾기 --------------------------------------------\n",
    "scores = []\n",
    "for k in range(2, 10):\n",
    "    km = KMeans(n_clusters=k, random_state=42)\n",
    "    km.fit(df_km)\n",
    "    scores.append(km.inertia_)\n",
    "# 그래프 그리기 ------------------\n",
    "plt.figure(figsize=(8,5))\n",
    "plt.plot(range(2,10), scores)\n",
    "plt.title('전체 년도의 k값 찾기')\n",
    "plt.show()\n",
    "# -----------------------------"
   ]
  },
  {
   "cell_type": "markdown",
   "metadata": {},
   "source": [
    "> #### 후보: 3, 4, 5"
   ]
  },
  {
   "cell_type": "markdown",
   "metadata": {},
   "source": [
    "----\n",
    "### k값 적용(k=4) -> 데이터프레임 컬럼 추가"
   ]
  },
  {
   "cell_type": "code",
   "execution_count": 161,
   "metadata": {},
   "outputs": [
    {
     "name": "stdout",
     "output_type": "stream",
     "text": [
      "[2 1 3 3 3 3 0 3 0 0 0 0 0 0 0 0 0 2 1 3 3 3 3 0 3 0 0 0 0 0 0 0 0 0 2 1 3\n",
      " 3 3 3 0 3 0 0 0 0 0 0 0 0 0 2 1 3 3 3 3 0 3 0 0 0 0 0 0 0 0 0 2 1 3 3 3 3\n",
      " 0 3 0 0 0 0 0 0 0 0 0 2 1 3 3 3 3 0 3 0 0 0 0 0 0 0 0 0 2 1 3 3 3 3 0 3 0\n",
      " 0 0 0 0 0 0 0 0 2 1 3 3 3 3 0 3 0 0 0 0 0 0 0 0 0]\n"
     ]
    },
    {
     "data": {
      "text/plain": [
       "array([[1.95049262e+05, 1.01237875e+04, 3.37125000e+01, 7.75759125e+04,\n",
       "        5.29692500e+03, 2.30497900e+04, 3.85136163e+04],\n",
       "       [1.61312862e+06, 6.88623750e+04, 3.90250000e+02, 4.37333375e+05,\n",
       "        4.58475000e+04, 5.71485213e+05, 6.76193713e+05],\n",
       "       [1.85165600e+06, 9.83292500e+04, 2.71375000e+02, 7.43822500e+05,\n",
       "        5.25488750e+04, 3.22522750e+05, 2.05947125e+04],\n",
       "       [4.03589850e+05, 2.07180750e+04, 6.76250000e+01, 1.51779725e+05,\n",
       "        1.13792750e+04, 7.19181200e+04, 4.38354200e+04]])"
      ]
     },
     "execution_count": 161,
     "metadata": {},
     "output_type": "execute_result"
    }
   ],
   "source": [
    "data_points = df_km.values\n",
    "km = KMeans(n_clusters=4).fit(data_points) # n_clusters 에 값을 정해주기!\n",
    "\n",
    "# labels\n",
    "print(km.labels_)\n",
    "# 각 군집의 중심위치\n",
    "km.cluster_centers_"
   ]
  },
  {
   "cell_type": "code",
   "execution_count": 162,
   "metadata": {},
   "outputs": [
    {
     "data": {
      "text/html": [
       "<div>\n",
       "<style scoped>\n",
       "    .dataframe tbody tr th:only-of-type {\n",
       "        vertical-align: middle;\n",
       "    }\n",
       "\n",
       "    .dataframe tbody tr th {\n",
       "        vertical-align: top;\n",
       "    }\n",
       "\n",
       "    .dataframe thead th {\n",
       "        text-align: right;\n",
       "    }\n",
       "</style>\n",
       "<table border=\"1\" class=\"dataframe\">\n",
       "  <thead>\n",
       "    <tr style=\"text-align: right;\">\n",
       "      <th></th>\n",
       "      <th>전출인구</th>\n",
       "      <th>출생아수</th>\n",
       "      <th>산부인과의원수</th>\n",
       "      <th>초등학생인원수</th>\n",
       "      <th>도매 및 소매업 신생</th>\n",
       "      <th>예금은행대출금액</th>\n",
       "      <th>예금액</th>\n",
       "      <th>cluster_id</th>\n",
       "    </tr>\n",
       "    <tr>\n",
       "      <th>시도</th>\n",
       "      <th></th>\n",
       "      <th></th>\n",
       "      <th></th>\n",
       "      <th></th>\n",
       "      <th></th>\n",
       "      <th></th>\n",
       "      <th></th>\n",
       "      <th></th>\n",
       "    </tr>\n",
       "  </thead>\n",
       "  <tbody>\n",
       "    <tr>\n",
       "      <th>경기도</th>\n",
       "      <td>1821303</td>\n",
       "      <td>112129</td>\n",
       "      <td>286</td>\n",
       "      <td>739619</td>\n",
       "      <td>49143</td>\n",
       "      <td>248468.3</td>\n",
       "      <td>13718.5</td>\n",
       "      <td>2</td>\n",
       "    </tr>\n",
       "    <tr>\n",
       "      <th>서울특별시</th>\n",
       "      <td>1620640</td>\n",
       "      <td>84066</td>\n",
       "      <td>395</td>\n",
       "      <td>469392</td>\n",
       "      <td>48097</td>\n",
       "      <td>462443.1</td>\n",
       "      <td>532689.2</td>\n",
       "      <td>1</td>\n",
       "    </tr>\n",
       "    <tr>\n",
       "      <th>경상남도</th>\n",
       "      <td>423864</td>\n",
       "      <td>29504</td>\n",
       "      <td>65</td>\n",
       "      <td>190166</td>\n",
       "      <td>12612</td>\n",
       "      <td>57288.6</td>\n",
       "      <td>6703.3</td>\n",
       "      <td>3</td>\n",
       "    </tr>\n",
       "    <tr>\n",
       "      <th>부산광역시</th>\n",
       "      <td>496161</td>\n",
       "      <td>25831</td>\n",
       "      <td>82</td>\n",
       "      <td>160821</td>\n",
       "      <td>13902</td>\n",
       "      <td>77411.6</td>\n",
       "      <td>59554.5</td>\n",
       "      <td>3</td>\n",
       "    </tr>\n",
       "    <tr>\n",
       "      <th>대구광역시</th>\n",
       "      <td>363224</td>\n",
       "      <td>19340</td>\n",
       "      <td>86</td>\n",
       "      <td>136309</td>\n",
       "      <td>9981</td>\n",
       "      <td>46578.5</td>\n",
       "      <td>37541.7</td>\n",
       "      <td>3</td>\n",
       "    </tr>\n",
       "    <tr>\n",
       "      <th>...</th>\n",
       "      <td>...</td>\n",
       "      <td>...</td>\n",
       "      <td>...</td>\n",
       "      <td>...</td>\n",
       "      <td>...</td>\n",
       "      <td>...</td>\n",
       "      <td>...</td>\n",
       "      <td>...</td>\n",
       "    </tr>\n",
       "    <tr>\n",
       "      <th>충청북도</th>\n",
       "      <td>226441</td>\n",
       "      <td>8607</td>\n",
       "      <td>40</td>\n",
       "      <td>85135</td>\n",
       "      <td>6103</td>\n",
       "      <td>28669.1</td>\n",
       "      <td>27669.5</td>\n",
       "      <td>0</td>\n",
       "    </tr>\n",
       "    <tr>\n",
       "      <th>대전광역시</th>\n",
       "      <td>243418</td>\n",
       "      <td>7481</td>\n",
       "      <td>44</td>\n",
       "      <td>79807</td>\n",
       "      <td>6405</td>\n",
       "      <td>39341.3</td>\n",
       "      <td>38725.4</td>\n",
       "      <td>0</td>\n",
       "    </tr>\n",
       "    <tr>\n",
       "      <th>강원도</th>\n",
       "      <td>217897</td>\n",
       "      <td>7835</td>\n",
       "      <td>32</td>\n",
       "      <td>73478</td>\n",
       "      <td>5554</td>\n",
       "      <td>22831.4</td>\n",
       "      <td>23634.2</td>\n",
       "      <td>0</td>\n",
       "    </tr>\n",
       "    <tr>\n",
       "      <th>제주특별자치도</th>\n",
       "      <td>94736</td>\n",
       "      <td>3989</td>\n",
       "      <td>23</td>\n",
       "      <td>40575</td>\n",
       "      <td>2856</td>\n",
       "      <td>20182.3</td>\n",
       "      <td>14025.4</td>\n",
       "      <td>0</td>\n",
       "    </tr>\n",
       "    <tr>\n",
       "      <th>세종특별자치시</th>\n",
       "      <td>65909</td>\n",
       "      <td>3468</td>\n",
       "      <td>7</td>\n",
       "      <td>29487</td>\n",
       "      <td>1361</td>\n",
       "      <td>9864.7</td>\n",
       "      <td>251734.3</td>\n",
       "      <td>0</td>\n",
       "    </tr>\n",
       "  </tbody>\n",
       "</table>\n",
       "<p>136 rows × 8 columns</p>\n",
       "</div>"
      ],
      "text/plain": [
       "            전출인구    출생아수  산부인과의원수  초등학생인원수  도매 및 소매업 신생  예금은행대출금액       예금액  \\\n",
       "시도                                                                            \n",
       "경기도      1821303  112129      286   739619        49143  248468.3   13718.5   \n",
       "서울특별시    1620640   84066      395   469392        48097  462443.1  532689.2   \n",
       "경상남도      423864   29504       65   190166        12612   57288.6    6703.3   \n",
       "부산광역시     496161   25831       82   160821        13902   77411.6   59554.5   \n",
       "대구광역시     363224   19340       86   136309         9981   46578.5   37541.7   \n",
       "...          ...     ...      ...      ...          ...       ...       ...   \n",
       "충청북도      226441    8607       40    85135         6103   28669.1   27669.5   \n",
       "대전광역시     243418    7481       44    79807         6405   39341.3   38725.4   \n",
       "강원도       217897    7835       32    73478         5554   22831.4   23634.2   \n",
       "제주특별자치도    94736    3989       23    40575         2856   20182.3   14025.4   \n",
       "세종특별자치시    65909    3468        7    29487         1361    9864.7  251734.3   \n",
       "\n",
       "         cluster_id  \n",
       "시도                   \n",
       "경기도               2  \n",
       "서울특별시             1  \n",
       "경상남도              3  \n",
       "부산광역시             3  \n",
       "대구광역시             3  \n",
       "...             ...  \n",
       "충청북도              0  \n",
       "대전광역시             0  \n",
       "강원도               0  \n",
       "제주특별자치도           0  \n",
       "세종특별자치시           0  \n",
       "\n",
       "[136 rows x 8 columns]"
      ]
     },
     "execution_count": 162,
     "metadata": {},
     "output_type": "execute_result"
    }
   ],
   "source": [
    "# 데이터가 어느 군집에 소속되어 있는지 정하기\n",
    "df_km['cluster_id'] = km.labels_\n",
    "df_km"
   ]
  },
  {
   "cell_type": "code",
   "execution_count": 163,
   "metadata": {},
   "outputs": [
    {
     "data": {
      "image/png": "[encoded data removed]",
      "text/plain": [
       "<Figure size 569.361x500 with 1 Axes>"
      ]
     },
     "metadata": {},
     "output_type": "display_data"
    }
   ],
   "source": [
    "sns.lmplot(x='출생아수', y='전출인구',\n",
    "            data=df_km, fit_reg=False,\n",
    "            scatter_kws={'s':200},\n",
    "            hue=\"cluster_id\"\n",
    ")\n",
    "plt.show()"
   ]
  },
  {
   "cell_type": "markdown",
   "metadata": {},
   "source": [
    "----\n",
    "# Classification"
   ]
  },
  {
   "cell_type": "markdown",
   "metadata": {},
   "source": [
    "### Feature, Target"
   ]
  },
  {
   "cell_type": "code",
   "execution_count": 164,
   "metadata": {},
   "outputs": [],
   "source": [
    "# Feature, Target\n",
    "data = df_km[['전출인구', '출생아수', '산부인과의원수', '초등학생인원수', '도매 및 소매업 신생', '예금은행대출금액', '예금액']].to_numpy()\n",
    "target = df_km['cluster_id'].to_numpy()"
   ]
  },
  {
   "cell_type": "markdown",
   "metadata": {},
   "source": [
    "----\n",
    "### 검증 세트 추가\n",
    "- 훈련(60%), 검증(20%), 테스트(20%)"
   ]
  },
  {
   "cell_type": "code",
   "execution_count": 165,
   "metadata": {},
   "outputs": [],
   "source": [
    "from sklearn.model_selection import train_test_split\n",
    "train_input, test_input, train_target, test_target = \\\n",
    "    train_test_split(data, target, test_size=0.2, stratify=target) # random_state=42"
   ]
  },
  {
   "cell_type": "code",
   "execution_count": 166,
   "metadata": {},
   "outputs": [],
   "source": [
    "sub_input, val_input, sub_target, val_target = \\\n",
    "    train_test_split(train_input, train_target, test_size=0.2, stratify=train_target) # random_state=42"
   ]
  },
  {
   "cell_type": "code",
   "execution_count": 167,
   "metadata": {},
   "outputs": [
    {
     "name": "stdout",
     "output_type": "stream",
     "text": [
      "Train : (86, 7)\n",
      "Valid : (22, 7)\n",
      "Test  : (28, 7)\n"
     ]
    }
   ],
   "source": [
    "# 세트 별 크기\n",
    "print(\"Train :\", sub_input.shape)\n",
    "print(\"Valid :\", val_input.shape)\n",
    "print(\"Test  :\", test_input.shape)"
   ]
  },
  {
   "attachments": {},
   "cell_type": "markdown",
   "metadata": {},
   "source": [
    "----\n",
    "\n",
    "### 각 ML 별 Score 확인"
   ]
  },
  {
   "cell_type": "code",
   "execution_count": 168,
   "metadata": {},
   "outputs": [
    {
     "name": "stdout",
     "output_type": "stream",
     "text": [
      "- ML : KNeighborsClassifier(n_neighbors=3)\n",
      "+ Train score : 1.0\n",
      "+ Valid score : 1.0\n",
      "+ Test score : 1.0\n",
      "------------------------------\n",
      "- ML : SVC()\n",
      "+ Train score : 0.9302325581395349\n",
      "+ Valid score : 0.9090909090909091\n",
      "+ Test score : 0.9536796536796537\n",
      "------------------------------\n",
      "- ML : GaussianProcessClassifier()\n",
      "+ Train score : 1.0\n",
      "+ Valid score : 0.3181818181818182\n",
      "+ Test score : 0.2961038961038961\n",
      "------------------------------\n",
      "- ML : DecisionTreeClassifier()\n",
      "+ Train score : 1.0\n",
      "+ Valid score : 0.9545454545454546\n",
      "+ Test score : 0.9904761904761905\n",
      "------------------------------\n",
      "- ML : RandomForestClassifier()\n",
      "+ Train score : 1.0\n",
      "+ Valid score : 1.0\n",
      "+ Test score : 1.0\n",
      "------------------------------\n",
      "- ML : AdaBoostClassifier()\n",
      "+ Train score : 1.0\n",
      "+ Valid score : 1.0\n",
      "+ Test score : 0.9904761904761905\n",
      "------------------------------\n",
      "- ML : MLPClassifier()\n",
      "+ Train score : 0.36046511627906974\n",
      "+ Valid score : 0.36363636363636365\n",
      "+ Test score : 0.3528138528138528\n",
      "------------------------------\n",
      "- ML : GaussianNB()\n",
      "+ Train score : 1.0\n",
      "+ Valid score : 1.0\n",
      "+ Test score : 1.0\n",
      "------------------------------\n",
      "- ML : QuadraticDiscriminantAnalysis()\n",
      "+ Train score : 0.9883720930232558\n",
      "+ Valid score : 0.8636363636363636\n",
      "+ Test score : 0.8614718614718614\n",
      "------------------------------\n"
     ]
    }
   ],
   "source": [
    "# 각 ML별 import\n",
    "from sklearn.neighbors import KNeighborsClassifier\n",
    "from sklearn.svm import SVC\n",
    "from sklearn.gaussian_process import GaussianProcessClassifier\n",
    "from sklearn.tree import DecisionTreeClassifier\n",
    "from sklearn.ensemble import RandomForestClassifier\n",
    "from sklearn.ensemble import AdaBoostClassifier\n",
    "from sklearn.neural_network import MLPClassifier\n",
    "from sklearn.naive_bayes import GaussianNB\n",
    "from sklearn.discriminant_analysis import QuadraticDiscriminantAnalysis\n",
    "# 교차검증 import\n",
    "from sklearn.model_selection import cross_validate\n",
    "\n",
    "ml_list = [KNeighborsClassifier(n_neighbors=3), SVC(), GaussianProcessClassifier(), DecisionTreeClassifier(), RandomForestClassifier(), AdaBoostClassifier(), MLPClassifier(), GaussianNB(), QuadraticDiscriminantAnalysis()]\n",
    "for ml in ml_list:\n",
    "    print(\"- ML :\", ml)\n",
    "    clf = ml\n",
    "    # 학습\n",
    "    clf.fit(sub_input, sub_target)\n",
    "    # 정확도 판단\n",
    "    print(\"+ Train score :\", clf.score(sub_input, sub_target))\n",
    "    print(\"+ Valid score :\", clf.score(val_input, val_target))\n",
    "    # 교차검증\n",
    "    scores = cross_validate(clf, train_input, train_target)\n",
    "    # 교차검증 후의 정확도 판단\n",
    "    print(\"+ Test score :\", np.mean(scores['test_score']))\n",
    "    print(\"-\"*30)"
   ]
  },
  {
   "attachments": {},
   "cell_type": "markdown",
   "metadata": {},
   "source": [
    "----\n",
    "### 10번의 교차검증 실시"
   ]
  },
  {
   "cell_type": "code",
   "execution_count": 169,
   "metadata": {},
   "outputs": [],
   "source": [
    "# 함수: 10번의 교차 검증 실시 => 정확도를 보기 위해서\n",
    "from sklearn.model_selection import cross_val_score\n",
    "def cross_validation(classifier, features, labels):\n",
    "    cv_scores = []\n",
    "    for i in range(10):\n",
    "        score = cross_val_score(classifier, features, labels, cv=10, scoring='accuracy')\n",
    "        cv_scores.append(score.mean())\n",
    "    return cv_scores"
   ]
  },
  {
   "cell_type": "code",
   "execution_count": 170,
   "metadata": {},
   "outputs": [
    {
     "name": "stdout",
     "output_type": "stream",
     "text": [
      "[1.0, 1.0, 1.0, 1.0, 1.0, 1.0, 1.0, 1.0, 1.0, 1.0]\n",
      "[0.9545454545454547, 0.9545454545454547, 0.9545454545454547, 0.9545454545454547, 0.9545454545454547, 0.9545454545454547, 0.9545454545454547, 0.9545454545454547, 0.9545454545454547, 0.9545454545454547]\n",
      "[0.2963636363636363, 0.2963636363636363, 0.2963636363636363, 0.2963636363636363, 0.2963636363636363, 0.2963636363636363, 0.2963636363636363, 0.2963636363636363, 0.2963636363636363, 0.2963636363636363]\n",
      "[0.990909090909091, 0.990909090909091, 0.99, 1.0, 1.0, 0.99, 0.9809090909090911, 0.99, 0.99, 0.990909090909091]\n",
      "[1.0, 1.0, 1.0, 1.0, 1.0, 1.0, 1.0, 1.0, 1.0, 1.0]\n",
      "[0.99, 0.99, 1.0, 0.99, 1.0, 0.99, 0.99, 1.0, 1.0, 0.99]\n",
      "[0.28545454545454546, 0.2481818181818182, 0.31909090909090904, 0.39090909090909093, 0.3609090909090909, 0.3090909090909091, 0.2654545454545455, 0.40636363636363637, 0.44545454545454544, 0.4172727272727273]\n",
      "[1.0, 1.0, 1.0, 1.0, 1.0, 1.0, 1.0, 1.0, 1.0, 1.0]\n",
      "[0.860909090909091, 0.860909090909091, 0.860909090909091, 0.860909090909091, 0.860909090909091, 0.860909090909091, 0.860909090909091, 0.860909090909091, 0.860909090909091, 0.860909090909091]\n"
     ]
    },
    {
     "data": {
      "text/plain": [
       "[0.860909090909091,\n",
       " 0.860909090909091,\n",
       " 0.860909090909091,\n",
       " 0.860909090909091,\n",
       " 0.860909090909091,\n",
       " 0.860909090909091,\n",
       " 0.860909090909091,\n",
       " 0.860909090909091,\n",
       " 0.860909090909091,\n",
       " 0.860909090909091]"
      ]
     },
     "execution_count": 170,
     "metadata": {},
     "output_type": "execute_result"
    }
   ],
   "source": [
    "# 각 Classifier 별 10번의 정확도 확인\n",
    "ml_list = [KNeighborsClassifier(n_neighbors=3), SVC(), GaussianProcessClassifier(), DecisionTreeClassifier(), RandomForestClassifier(), AdaBoostClassifier(), MLPClassifier(), GaussianNB(), QuadraticDiscriminantAnalysis()]\n",
    "scores_list = []\n",
    "for ml in ml_list:\n",
    "    ml_cv_scores = cross_validation(ml, train_input, train_target)\n",
    "    scores_list.append(ml_cv_scores)\n",
    "    print(ml_cv_scores)\n",
    "ml_cv_scores"
   ]
  },
  {
   "attachments": {},
   "cell_type": "markdown",
   "metadata": {},
   "source": [
    "### 정확도 시각화"
   ]
  },
  {
   "cell_type": "code",
   "execution_count": 171,
   "metadata": {},
   "outputs": [
    {
     "data": {
      "image/png": "[encoded data removed]",
      "text/plain": [
       "<Figure size 640x480 with 1 Axes>"
      ]
     },
     "metadata": {},
     "output_type": "display_data"
    }
   ],
   "source": [
    "# 정확도 시각화\n",
    "cv_list = {}\n",
    "for ml, scores in zip(ml_list, scores_list):\n",
    "    cv_list[ml] = scores\n",
    "cv_list\n",
    "df = pd.DataFrame(cv_list)\n",
    "df.plot()\n",
    "plt.show()"
   ]
  },
  {
   "attachments": {},
   "cell_type": "markdown",
   "metadata": {},
   "source": [
    "> ### Classfication 정확도가 높으므로 Regression으로 시도해보자"
   ]
  },
  {
   "cell_type": "markdown",
   "metadata": {},
   "source": [
    "----\n",
    "----\n",
    "# Regression\n",
    "1. cluster_id : [0, 1, 2, 3] -> [0 ~ 1] 변환\n",
    "2. Regression 진행"
   ]
  },
  {
   "cell_type": "markdown",
   "metadata": {},
   "source": [
    "### cluster_id : [0, 1, 2, 3] -> [0 ~ 1] 변환"
   ]
  },
  {
   "cell_type": "code",
   "execution_count": 172,
   "metadata": {},
   "outputs": [
    {
     "data": {
      "text/plain": [
       "array([0.  , 0.33, 0.67, 1.  ])"
      ]
     },
     "execution_count": 172,
     "metadata": {},
     "output_type": "execute_result"
    }
   ],
   "source": [
    "df_km['cluster_id'] = df_km['cluster_id'] + 10\n",
    "df_km_temp = df_km.sort_values(by='전출인구', ascending=True)\n",
    "temp_list = df_km_temp['cluster_id'].unique()\n",
    "\n",
    "i = 3\n",
    "for temp in temp_list:\n",
    "    df_km['cluster_id'][df_km['cluster_id'] == temp] = i\n",
    "    i-=1\n",
    "df_km['cluster_id'] = np.round(df_km['cluster_id'] / 3, 2)\n",
    "df_km['cluster_id'].unique()"
   ]
  },
  {
   "cell_type": "code",
   "execution_count": 173,
   "metadata": {},
   "outputs": [
    {
     "data": {
      "image/png": "[encoded data removed]",
      "text/plain": [
       "<Figure size 583x500 with 1 Axes>"
      ]
     },
     "metadata": {},
     "output_type": "display_data"
    }
   ],
   "source": [
    "sns.lmplot(x='출생아수', y='전출인구',\n",
    "            data=df_km, fit_reg=False,\n",
    "            scatter_kws={'s':200},\n",
    "            hue=\"cluster_id\"\n",
    ")\n",
    "plt.show()"
   ]
  },
  {
   "cell_type": "code",
   "execution_count": 174,
   "metadata": {},
   "outputs": [
    {
     "data": {
      "text/html": [
       "<div>\n",
       "<style scoped>\n",
       "    .dataframe tbody tr th:only-of-type {\n",
       "        vertical-align: middle;\n",
       "    }\n",
       "\n",
       "    .dataframe tbody tr th {\n",
       "        vertical-align: top;\n",
       "    }\n",
       "\n",
       "    .dataframe thead th {\n",
       "        text-align: right;\n",
       "    }\n",
       "</style>\n",
       "<table border=\"1\" class=\"dataframe\">\n",
       "  <thead>\n",
       "    <tr style=\"text-align: right;\">\n",
       "      <th></th>\n",
       "      <th>전출인구</th>\n",
       "      <th>출생아수</th>\n",
       "      <th>산부인과의원수</th>\n",
       "      <th>초등학생인원수</th>\n",
       "      <th>도매 및 소매업 신생</th>\n",
       "      <th>예금은행대출금액</th>\n",
       "      <th>예금액</th>\n",
       "      <th>cluster_id</th>\n",
       "    </tr>\n",
       "    <tr>\n",
       "      <th>시도</th>\n",
       "      <th></th>\n",
       "      <th></th>\n",
       "      <th></th>\n",
       "      <th></th>\n",
       "      <th></th>\n",
       "      <th></th>\n",
       "      <th></th>\n",
       "      <th></th>\n",
       "    </tr>\n",
       "  </thead>\n",
       "  <tbody>\n",
       "    <tr>\n",
       "      <th>경기도</th>\n",
       "      <td>1821303</td>\n",
       "      <td>112129</td>\n",
       "      <td>286</td>\n",
       "      <td>739619</td>\n",
       "      <td>49143</td>\n",
       "      <td>248468.3</td>\n",
       "      <td>13718.5</td>\n",
       "      <td>0.00</td>\n",
       "    </tr>\n",
       "    <tr>\n",
       "      <th>서울특별시</th>\n",
       "      <td>1620640</td>\n",
       "      <td>84066</td>\n",
       "      <td>395</td>\n",
       "      <td>469392</td>\n",
       "      <td>48097</td>\n",
       "      <td>462443.1</td>\n",
       "      <td>532689.2</td>\n",
       "      <td>0.33</td>\n",
       "    </tr>\n",
       "    <tr>\n",
       "      <th>경상남도</th>\n",
       "      <td>423864</td>\n",
       "      <td>29504</td>\n",
       "      <td>65</td>\n",
       "      <td>190166</td>\n",
       "      <td>12612</td>\n",
       "      <td>57288.6</td>\n",
       "      <td>6703.3</td>\n",
       "      <td>0.67</td>\n",
       "    </tr>\n",
       "    <tr>\n",
       "      <th>부산광역시</th>\n",
       "      <td>496161</td>\n",
       "      <td>25831</td>\n",
       "      <td>82</td>\n",
       "      <td>160821</td>\n",
       "      <td>13902</td>\n",
       "      <td>77411.6</td>\n",
       "      <td>59554.5</td>\n",
       "      <td>0.67</td>\n",
       "    </tr>\n",
       "    <tr>\n",
       "      <th>대구광역시</th>\n",
       "      <td>363224</td>\n",
       "      <td>19340</td>\n",
       "      <td>86</td>\n",
       "      <td>136309</td>\n",
       "      <td>9981</td>\n",
       "      <td>46578.5</td>\n",
       "      <td>37541.7</td>\n",
       "      <td>0.67</td>\n",
       "    </tr>\n",
       "  </tbody>\n",
       "</table>\n",
       "</div>"
      ],
      "text/plain": [
       "          전출인구    출생아수  산부인과의원수  초등학생인원수  도매 및 소매업 신생  예금은행대출금액       예금액  \\\n",
       "시도                                                                          \n",
       "경기도    1821303  112129      286   739619        49143  248468.3   13718.5   \n",
       "서울특별시  1620640   84066      395   469392        48097  462443.1  532689.2   \n",
       "경상남도    423864   29504       65   190166        12612   57288.6    6703.3   \n",
       "부산광역시   496161   25831       82   160821        13902   77411.6   59554.5   \n",
       "대구광역시   363224   19340       86   136309         9981   46578.5   37541.7   \n",
       "\n",
       "       cluster_id  \n",
       "시도                 \n",
       "경기도          0.00  \n",
       "서울특별시        0.33  \n",
       "경상남도         0.67  \n",
       "부산광역시        0.67  \n",
       "대구광역시        0.67  "
      ]
     },
     "execution_count": 174,
     "metadata": {},
     "output_type": "execute_result"
    }
   ],
   "source": [
    "df_km.head()"
   ]
  },
  {
   "cell_type": "code",
   "execution_count": 175,
   "metadata": {},
   "outputs": [],
   "source": [
    "# Feature, Target\n",
    "data = df_km[['전출인구', '출생아수', '산부인과의원수', '초등학생인원수', '도매 및 소매업 신생', '예금은행대출금액', '예금액']].to_numpy()\n",
    "target = df_km['cluster_id'].to_numpy()"
   ]
  },
  {
   "cell_type": "markdown",
   "metadata": {},
   "source": [
    "----\n",
    "### 검증 세트 추가\n",
    "- 훈련(60%), 검증(20%), 테스트(20%)"
   ]
  },
  {
   "cell_type": "code",
   "execution_count": 176,
   "metadata": {},
   "outputs": [],
   "source": [
    "from sklearn.model_selection import train_test_split\n",
    "train_input, test_input, train_target, test_target = \\\n",
    "    train_test_split(data, target, test_size=0.2) # random_state=42,  stratify=target"
   ]
  },
  {
   "cell_type": "code",
   "execution_count": 177,
   "metadata": {},
   "outputs": [],
   "source": [
    "sub_input, val_input, sub_target, val_target = \\\n",
    "    train_test_split(train_input, train_target, test_size=0.2, stratify=train_target) # random_state=42"
   ]
  },
  {
   "cell_type": "code",
   "execution_count": 178,
   "metadata": {},
   "outputs": [
    {
     "name": "stdout",
     "output_type": "stream",
     "text": [
      "Train : (86, 7)\n",
      "Valid : (22, 7)\n",
      "Test  : (28, 7)\n"
     ]
    }
   ],
   "source": [
    "# 세트 별 크기\n",
    "print(\"Train :\", sub_input.shape)\n",
    "print(\"Valid :\", val_input.shape)\n",
    "print(\"Test  :\", test_input.shape)"
   ]
  },
  {
   "cell_type": "markdown",
   "metadata": {},
   "source": [
    "----\n",
    "\n",
    "### 각 ML 별 Score 확인"
   ]
  },
  {
   "cell_type": "code",
   "execution_count": 179,
   "metadata": {},
   "outputs": [
    {
     "name": "stdout",
     "output_type": "stream",
     "text": [
      "- ML Name : LinearRegression()\n",
      "+ Train score : 0.8789847250143812\n",
      "+ Valid score : 0.8541065724777201\n",
      "+ Test score : 0.8138599160481272\n",
      "+ Mean Absolute Error : 0.09569501301011948\n",
      "----------------------------------------\n",
      "- ML Name : DecisionTreeRegressor()\n",
      "+ Train score : 1.0\n",
      "+ Valid score : 1.0\n",
      "+ Test score : 1.0\n",
      "+ Mean Absolute Error : 0.011785714285714285\n",
      "----------------------------------------\n",
      "- ML Name : RandomForestRegressor()\n",
      "+ Train score : 0.9996176616662557\n",
      "+ Valid score : 0.9990750781247627\n",
      "+ Test score : 0.9957750326979269\n",
      "+ Mean Absolute Error : 0.007878571428571934\n",
      "----------------------------------------\n"
     ]
    }
   ],
   "source": [
    "# 각 ML별 import\n",
    "from sklearn.linear_model import LinearRegression\n",
    "from sklearn.neighbors import KNeighborsRegressor\n",
    "from sklearn.svm import SVC\n",
    "from sklearn.gaussian_process import GaussianProcessRegressor\n",
    "from sklearn.tree import DecisionTreeRegressor\n",
    "from sklearn.ensemble import RandomForestRegressor\n",
    "from sklearn.ensemble import AdaBoostRegressor\n",
    "from sklearn.neural_network import MLPRegressor\n",
    "from sklearn.naive_bayes import GaussianNB\n",
    "from sklearn.discriminant_analysis import QuadraticDiscriminantAnalysis\n",
    "# 교차검증 import\n",
    "from sklearn.model_selection import cross_validate\n",
    "# 평균 절대값 오차\n",
    "from sklearn.metrics import mean_absolute_error\n",
    "\n",
    "# ml_list = [KNeighborsRegressor(n_neighbors=3), SVC(), GaussianProcessRegressor(), DecisionTreeRegressor(), RandomForestRegressor(), AdaBoostRegressor(), MLPRegressor(), GaussianNB(), QuadraticDiscriminantAnalysis()]\n",
    "# ml_list = [GaussianProcessRegressor(), LinearRegression(), DecisionTreeRegressor(), RandomForestRegressor(), AdaBoostRegressor(), MLPRegressor()]\n",
    "ml_list = [LinearRegression(), DecisionTreeRegressor(), RandomForestRegressor()]\n",
    "for ml in ml_list:\n",
    "    print(\"- ML Name :\", ml)\n",
    "    reg = ml\n",
    "    # 학습\n",
    "    reg.fit(sub_input, sub_target)\n",
    "    # 정확도 판단\n",
    "    print(\"+ Train score :\", reg.score(sub_input, sub_target))\n",
    "    print(\"+ Valid score :\", reg.score(val_input, val_target))\n",
    "    # 교차검증\n",
    "    scores = cross_validate(reg, train_input, train_target)\n",
    "    # 교차검증 후의 정확도 판단\n",
    "    print(\"+ Test score :\", np.mean(scores['test_score']))\n",
    "    # 평균 절대값 오차\n",
    "    test_prediction = ml.predict(test_input)\n",
    "    mae = mean_absolute_error(test_target, test_prediction)\n",
    "    print(\"+ Mean Absolute Error :\", mae)\n",
    "    print(\"-\"*40)"
   ]
  },
  {
   "attachments": {},
   "cell_type": "markdown",
   "metadata": {},
   "source": [
    "----\n",
    "### 10번의 교차검증 실시"
   ]
  },
  {
   "cell_type": "code",
   "execution_count": 180,
   "metadata": {},
   "outputs": [],
   "source": [
    "# 함수: 10번의 교차 검증 실시 => 정확도를 보기 위해서\n",
    "from sklearn.model_selection import cross_val_score\n",
    "def cross_validation(regressor, features, labels):\n",
    "    cv_scores = []\n",
    "    for i in range(10):\n",
    "        # score = cross_val_score(regressor, features, labels, cv=10, scoring='accuracy')\n",
    "        score = cross_val_score(regressor, features, labels, cv=10)\n",
    "        cv_scores.append(score.mean())\n",
    "    return cv_scores"
   ]
  },
  {
   "cell_type": "markdown",
   "metadata": {},
   "source": [
    "### 정확도 시각화"
   ]
  },
  {
   "cell_type": "code",
   "execution_count": 181,
   "metadata": {},
   "outputs": [
    {
     "name": "stdout",
     "output_type": "stream",
     "text": [
      "- LinearRegression() : [0.7150600265114567, 0.7150600265114567, 0.7150600265114567, 0.7150600265114567, 0.7150600265114567, 0.7150600265114567, 0.7150600265114567, 0.7150600265114567, 0.7150600265114567, 0.7150600265114567]\n",
      "-------------\n",
      "- DecisionTreeRegressor() : [0.9919845029709331, 0.9919845029709331, 0.9919845029709331, 1.0, 0.9907174074762878, 0.9907174074762878, 1.0, 0.9919845029709331, 0.9850305243884208, 1.0]\n",
      "-------------\n",
      "- RandomForestRegressor() : [0.9971275234828987, 0.9964971085266644, 0.9969783993410836, 0.9974172788527065, 0.9971004442040045, 0.9965896782663035, 0.9970440478201799, 0.9962399203377824, 0.9968314492064752, 0.9961639864857037]\n",
      "-------------\n",
      "- AdaBoostRegressor() : [0.970132382458714, 0.9879813384167754, 0.9323016583078786, 0.9633333333333333, 0.9919845029709331, 0.8819845029709331, 0.982701910447221, 0.9759535089127992, 0.9277141482706581, 1.0]\n",
      "-------------\n"
     ]
    }
   ],
   "source": [
    "# 각 Regressor 별 10번의 정확도 확인\n",
    "ml_list = [LinearRegression(), DecisionTreeRegressor(), RandomForestRegressor(), AdaBoostRegressor()]\n",
    "scores_list = []\n",
    "for ml in ml_list:\n",
    "    ml_cv_scores = cross_validation(ml, train_input, train_target)\n",
    "    scores_list.append(ml_cv_scores)\n",
    "    print(\"-\",ml,':', ml_cv_scores)\n",
    "    print(\"-------------\")"
   ]
  },
  {
   "cell_type": "markdown",
   "metadata": {},
   "source": [
    "### 정확도 시각화"
   ]
  },
  {
   "cell_type": "code",
   "execution_count": 182,
   "metadata": {},
   "outputs": [
    {
     "data": {
      "image/png": "[encoded data removed]",
      "text/plain": [
       "<Figure size 640x480 with 1 Axes>"
      ]
     },
     "metadata": {},
     "output_type": "display_data"
    }
   ],
   "source": [
    "# 정확도 시각화\n",
    "cv_list = {}\n",
    "for ml, scores in zip(ml_list, scores_list):\n",
    "    cv_list[ml] = scores\n",
    "cv_list\n",
    "df = pd.DataFrame(cv_list)\n",
    "df.plot()\n",
    "plt.title('정확도 시각화')\n",
    "plt.show()"
   ]
  },
  {
   "attachments": {},
   "cell_type": "markdown",
   "metadata": {},
   "source": [
    "----\n",
    "## 주성분 분석"
   ]
  },
  {
   "cell_type": "code",
   "execution_count": 196,
   "metadata": {},
   "outputs": [
    {
     "data": {
      "text/html": [
       "<div>\n",
       "<style scoped>\n",
       "    .dataframe tbody tr th:only-of-type {\n",
       "        vertical-align: middle;\n",
       "    }\n",
       "\n",
       "    .dataframe tbody tr th {\n",
       "        vertical-align: top;\n",
       "    }\n",
       "\n",
       "    .dataframe thead th {\n",
       "        text-align: right;\n",
       "    }\n",
       "</style>\n",
       "<table border=\"1\" class=\"dataframe\">\n",
       "  <thead>\n",
       "    <tr style=\"text-align: right;\">\n",
       "      <th></th>\n",
       "      <th>전출인구</th>\n",
       "      <th>출생아수</th>\n",
       "      <th>산부인과의원수</th>\n",
       "      <th>초등학생인원수</th>\n",
       "      <th>도매 및 소매업 신생</th>\n",
       "      <th>예금은행대출금액</th>\n",
       "      <th>예금액</th>\n",
       "      <th>cluster_id</th>\n",
       "    </tr>\n",
       "    <tr>\n",
       "      <th>시도</th>\n",
       "      <th></th>\n",
       "      <th></th>\n",
       "      <th></th>\n",
       "      <th></th>\n",
       "      <th></th>\n",
       "      <th></th>\n",
       "      <th></th>\n",
       "      <th></th>\n",
       "    </tr>\n",
       "  </thead>\n",
       "  <tbody>\n",
       "    <tr>\n",
       "      <th>경기도</th>\n",
       "      <td>1821303</td>\n",
       "      <td>112129</td>\n",
       "      <td>286</td>\n",
       "      <td>739619</td>\n",
       "      <td>49143</td>\n",
       "      <td>248468.3</td>\n",
       "      <td>13718.5</td>\n",
       "      <td>0.00</td>\n",
       "    </tr>\n",
       "    <tr>\n",
       "      <th>서울특별시</th>\n",
       "      <td>1620640</td>\n",
       "      <td>84066</td>\n",
       "      <td>395</td>\n",
       "      <td>469392</td>\n",
       "      <td>48097</td>\n",
       "      <td>462443.1</td>\n",
       "      <td>532689.2</td>\n",
       "      <td>0.33</td>\n",
       "    </tr>\n",
       "    <tr>\n",
       "      <th>경상남도</th>\n",
       "      <td>423864</td>\n",
       "      <td>29504</td>\n",
       "      <td>65</td>\n",
       "      <td>190166</td>\n",
       "      <td>12612</td>\n",
       "      <td>57288.6</td>\n",
       "      <td>6703.3</td>\n",
       "      <td>0.67</td>\n",
       "    </tr>\n",
       "    <tr>\n",
       "      <th>부산광역시</th>\n",
       "      <td>496161</td>\n",
       "      <td>25831</td>\n",
       "      <td>82</td>\n",
       "      <td>160821</td>\n",
       "      <td>13902</td>\n",
       "      <td>77411.6</td>\n",
       "      <td>59554.5</td>\n",
       "      <td>0.67</td>\n",
       "    </tr>\n",
       "    <tr>\n",
       "      <th>대구광역시</th>\n",
       "      <td>363224</td>\n",
       "      <td>19340</td>\n",
       "      <td>86</td>\n",
       "      <td>136309</td>\n",
       "      <td>9981</td>\n",
       "      <td>46578.5</td>\n",
       "      <td>37541.7</td>\n",
       "      <td>0.67</td>\n",
       "    </tr>\n",
       "  </tbody>\n",
       "</table>\n",
       "</div>"
      ],
      "text/plain": [
       "          전출인구    출생아수  산부인과의원수  초등학생인원수  도매 및 소매업 신생  예금은행대출금액       예금액  \\\n",
       "시도                                                                          \n",
       "경기도    1821303  112129      286   739619        49143  248468.3   13718.5   \n",
       "서울특별시  1620640   84066      395   469392        48097  462443.1  532689.2   \n",
       "경상남도    423864   29504       65   190166        12612   57288.6    6703.3   \n",
       "부산광역시   496161   25831       82   160821        13902   77411.6   59554.5   \n",
       "대구광역시   363224   19340       86   136309         9981   46578.5   37541.7   \n",
       "\n",
       "       cluster_id  \n",
       "시도                 \n",
       "경기도          0.00  \n",
       "서울특별시        0.33  \n",
       "경상남도         0.67  \n",
       "부산광역시        0.67  \n",
       "대구광역시        0.67  "
      ]
     },
     "execution_count": 196,
     "metadata": {},
     "output_type": "execute_result"
    }
   ],
   "source": [
    "df_km.head()"
   ]
  },
  {
   "cell_type": "code",
   "execution_count": 192,
   "metadata": {},
   "outputs": [
    {
     "data": {
      "text/html": [
       "<div>\n",
       "<style scoped>\n",
       "    .dataframe tbody tr th:only-of-type {\n",
       "        vertical-align: middle;\n",
       "    }\n",
       "\n",
       "    .dataframe tbody tr th {\n",
       "        vertical-align: top;\n",
       "    }\n",
       "\n",
       "    .dataframe thead th {\n",
       "        text-align: right;\n",
       "    }\n",
       "</style>\n",
       "<table border=\"1\" class=\"dataframe\">\n",
       "  <thead>\n",
       "    <tr style=\"text-align: right;\">\n",
       "      <th></th>\n",
       "      <th>전출인구</th>\n",
       "      <th>출생아수</th>\n",
       "      <th>산부인과의원수</th>\n",
       "      <th>초등학생인원수</th>\n",
       "      <th>도매 및 소매업 신생</th>\n",
       "      <th>예금은행대출금액</th>\n",
       "      <th>예금액</th>\n",
       "    </tr>\n",
       "    <tr>\n",
       "      <th>시도</th>\n",
       "      <th></th>\n",
       "      <th></th>\n",
       "      <th></th>\n",
       "      <th></th>\n",
       "      <th></th>\n",
       "      <th></th>\n",
       "      <th></th>\n",
       "    </tr>\n",
       "  </thead>\n",
       "  <tbody>\n",
       "    <tr>\n",
       "      <th>경기도</th>\n",
       "      <td>1821303</td>\n",
       "      <td>112129</td>\n",
       "      <td>286</td>\n",
       "      <td>739619</td>\n",
       "      <td>49143</td>\n",
       "      <td>248468.3</td>\n",
       "      <td>13718.5</td>\n",
       "    </tr>\n",
       "    <tr>\n",
       "      <th>서울특별시</th>\n",
       "      <td>1620640</td>\n",
       "      <td>84066</td>\n",
       "      <td>395</td>\n",
       "      <td>469392</td>\n",
       "      <td>48097</td>\n",
       "      <td>462443.1</td>\n",
       "      <td>532689.2</td>\n",
       "    </tr>\n",
       "    <tr>\n",
       "      <th>경상남도</th>\n",
       "      <td>423864</td>\n",
       "      <td>29504</td>\n",
       "      <td>65</td>\n",
       "      <td>190166</td>\n",
       "      <td>12612</td>\n",
       "      <td>57288.6</td>\n",
       "      <td>6703.3</td>\n",
       "    </tr>\n",
       "    <tr>\n",
       "      <th>부산광역시</th>\n",
       "      <td>496161</td>\n",
       "      <td>25831</td>\n",
       "      <td>82</td>\n",
       "      <td>160821</td>\n",
       "      <td>13902</td>\n",
       "      <td>77411.6</td>\n",
       "      <td>59554.5</td>\n",
       "    </tr>\n",
       "    <tr>\n",
       "      <th>대구광역시</th>\n",
       "      <td>363224</td>\n",
       "      <td>19340</td>\n",
       "      <td>86</td>\n",
       "      <td>136309</td>\n",
       "      <td>9981</td>\n",
       "      <td>46578.5</td>\n",
       "      <td>37541.7</td>\n",
       "    </tr>\n",
       "  </tbody>\n",
       "</table>\n",
       "</div>"
      ],
      "text/plain": [
       "          전출인구    출생아수  산부인과의원수  초등학생인원수  도매 및 소매업 신생  예금은행대출금액       예금액\n",
       "시도                                                                       \n",
       "경기도    1821303  112129      286   739619        49143  248468.3   13718.5\n",
       "서울특별시  1620640   84066      395   469392        48097  462443.1  532689.2\n",
       "경상남도    423864   29504       65   190166        12612   57288.6    6703.3\n",
       "부산광역시   496161   25831       82   160821        13902   77411.6   59554.5\n",
       "대구광역시   363224   19340       86   136309         9981   46578.5   37541.7"
      ]
     },
     "execution_count": 192,
     "metadata": {},
     "output_type": "execute_result"
    }
   ],
   "source": [
    "df_km.iloc[:,:7].head()"
   ]
  },
  {
   "cell_type": "code",
   "execution_count": 201,
   "metadata": {},
   "outputs": [
    {
     "data": {
      "text/html": [
       "<style>#sk-container-id-6 {color: black;background-color: white;}#sk-container-id-6 pre{padding: 0;}#sk-container-id-6 div.sk-toggleable {background-color: white;}#sk-container-id-6 label.sk-toggleable__label {cursor: pointer;display: block;width: 100%;margin-bottom: 0;padding: 0.3em;box-sizing: border-box;text-align: center;}#sk-container-id-6 label.sk-toggleable__label-arrow:before {content: \"▸\";float: left;margin-right: 0.25em;color: #696969;}#sk-container-id-6 label.sk-toggleable__label-arrow:hover:before {color: black;}#sk-container-id-6 div.sk-estimator:hover label.sk-toggleable__label-arrow:before {color: black;}#sk-container-id-6 div.sk-toggleable__content {max-height: 0;max-width: 0;overflow: hidden;text-align: left;background-color: #f0f8ff;}#sk-container-id-6 div.sk-toggleable__content pre {margin: 0.2em;color: black;border-radius: 0.25em;background-color: #f0f8ff;}#sk-container-id-6 input.sk-toggleable__control:checked~div.sk-toggleable__content {max-height: 200px;max-width: 100%;overflow: auto;}#sk-container-id-6 input.sk-toggleable__control:checked~label.sk-toggleable__label-arrow:before {content: \"▾\";}#sk-container-id-6 div.sk-estimator input.sk-toggleable__control:checked~label.sk-toggleable__label {background-color: #d4ebff;}#sk-container-id-6 div.sk-label input.sk-toggleable__control:checked~label.sk-toggleable__label {background-color: #d4ebff;}#sk-container-id-6 input.sk-hidden--visually {border: 0;clip: rect(1px 1px 1px 1px);clip: rect(1px, 1px, 1px, 1px);height: 1px;margin: -1px;overflow: hidden;padding: 0;position: absolute;width: 1px;}#sk-container-id-6 div.sk-estimator {font-family: monospace;background-color: #f0f8ff;border: 1px dotted black;border-radius: 0.25em;box-sizing: border-box;margin-bottom: 0.5em;}#sk-container-id-6 div.sk-estimator:hover {background-color: #d4ebff;}#sk-container-id-6 div.sk-parallel-item::after {content: \"\";width: 100%;border-bottom: 1px solid gray;flex-grow: 1;}#sk-container-id-6 div.sk-label:hover label.sk-toggleable__label {background-color: #d4ebff;}#sk-container-id-6 div.sk-serial::before {content: \"\";position: absolute;border-left: 1px solid gray;box-sizing: border-box;top: 0;bottom: 0;left: 50%;z-index: 0;}#sk-container-id-6 div.sk-serial {display: flex;flex-direction: column;align-items: center;background-color: white;padding-right: 0.2em;padding-left: 0.2em;position: relative;}#sk-container-id-6 div.sk-item {position: relative;z-index: 1;}#sk-container-id-6 div.sk-parallel {display: flex;align-items: stretch;justify-content: center;background-color: white;position: relative;}#sk-container-id-6 div.sk-item::before, #sk-container-id-6 div.sk-parallel-item::before {content: \"\";position: absolute;border-left: 1px solid gray;box-sizing: border-box;top: 0;bottom: 0;left: 50%;z-index: -1;}#sk-container-id-6 div.sk-parallel-item {display: flex;flex-direction: column;z-index: 1;position: relative;background-color: white;}#sk-container-id-6 div.sk-parallel-item:first-child::after {align-self: flex-end;width: 50%;}#sk-container-id-6 div.sk-parallel-item:last-child::after {align-self: flex-start;width: 50%;}#sk-container-id-6 div.sk-parallel-item:only-child::after {width: 0;}#sk-container-id-6 div.sk-dashed-wrapped {border: 1px dashed gray;margin: 0 0.4em 0.5em 0.4em;box-sizing: border-box;padding-bottom: 0.4em;background-color: white;}#sk-container-id-6 div.sk-label label {font-family: monospace;font-weight: bold;display: inline-block;line-height: 1.2em;}#sk-container-id-6 div.sk-label-container {text-align: center;}#sk-container-id-6 div.sk-container {/* jupyter's `normalize.less` sets `[hidden] { display: none; }` but bootstrap.min.css set `[hidden] { display: none !important; }` so we also need the `!important` here to be able to override the default hidden behavior on the sphinx rendered scikit-learn.org. See: https://github.com/scikit-learn/scikit-learn/issues/21755 */display: inline-block !important;position: relative;}#sk-container-id-6 div.sk-text-repr-fallback {display: none;}</style><div id=\"sk-container-id-6\" class=\"sk-top-container\"><div class=\"sk-text-repr-fallback\"><pre>PCA(n_components=1)</pre><b>In a Jupyter environment, please rerun this cell to show the HTML representation or trust the notebook. <br />On GitHub, the HTML representation is unable to render, please try loading this page with nbviewer.org.</b></div><div class=\"sk-container\" hidden><div class=\"sk-item\"><div class=\"sk-estimator sk-toggleable\"><input class=\"sk-toggleable__control sk-hidden--visually\" id=\"sk-estimator-id-6\" type=\"checkbox\" checked><label for=\"sk-estimator-id-6\" class=\"sk-toggleable__label sk-toggleable__label-arrow\">PCA</label><div class=\"sk-toggleable__content\"><pre>PCA(n_components=1)</pre></div></div></div></div></div>"
      ],
      "text/plain": [
       "PCA(n_components=1)"
      ]
     },
     "execution_count": 201,
     "metadata": {},
     "output_type": "execute_result"
    }
   ],
   "source": [
    "from sklearn.decomposition import PCA\n",
    "pca = PCA(n_components=1) # 300개의 데이터중 구별이 확실한 주성분 50개를 선택\n",
    "pca.fit(df_km.iloc[:,:7])"
   ]
  },
  {
   "cell_type": "code",
   "execution_count": 202,
   "metadata": {},
   "outputs": [
    {
     "data": {
      "text/plain": [
       "(1, 7)"
      ]
     },
     "execution_count": 202,
     "metadata": {},
     "output_type": "execute_result"
    }
   ],
   "source": [
    "pca.components_.shape # sample 50개만 들어가있다 # 50개가 뭔지 그래프로 그려보자"
   ]
  },
  {
   "cell_type": "code",
   "execution_count": 219,
   "metadata": {},
   "outputs": [
    {
     "name": "stdout",
     "output_type": "stream",
     "text": [
      "(136, 7)\n",
      "(136, 1)\n"
     ]
    },
    {
     "data": {
      "text/plain": [
       "[[1461496.6053557042],\n",
       " [1335523.3980840684],\n",
       " [-21499.685120253256],\n",
       " [48554.619946023704],\n",
       " [-90677.33277128213],\n",
       " [-11967.951863114808],\n",
       " [-202882.65031570397],\n",
       " [-124853.04597130482],\n",
       " [-233393.72684204645],\n",
       " [-191113.65766252187],\n",
       " [-217334.73036680432],\n",
       " [-308946.21444305725],\n",
       " [-251728.65591529707],\n",
       " [-231812.62989439396],\n",
       " [-253436.99813741478],\n",
       " [-392086.7610225833],\n",
       " [-438709.05112283636],\n",
       " [1476221.8015790004],\n",
       " [1382094.8614631298],\n",
       " [8217.728057277318],\n",
       " [54317.85124157891],\n",
       " [-87369.43942466925],\n",
       " [-8029.971704816876],\n",
       " [-188229.84168157633],\n",
       " [-118440.35398723271],\n",
       " [-218515.82588623735],\n",
       " [-179948.90399312833],\n",
       " [-204975.17174466825],\n",
       " [-294193.96117766015],\n",
       " [-251163.58449222386],\n",
       " [-215456.9328223926],\n",
       " [-243625.48404264916],\n",
       " [-391552.4040528334],\n",
       " [-429318.8357291578],\n",
       " [1538384.9265640292],\n",
       " [1452267.9311732913],\n",
       " [4549.4931579903105],\n",
       " [74524.69530707749],\n",
       " [-86468.60793889222],\n",
       " [11950.383225570666],\n",
       " [-199002.68473462257],\n",
       " [-111079.8953816059],\n",
       " [-228708.67938851495],\n",
       " [-179055.8016983899],\n",
       " [-217773.1046485579],\n",
       " [-295975.84025225154],\n",
       " [-250958.26908760105],\n",
       " [-221587.91195811782],\n",
       " [-247281.4977334815],\n",
       " [-389129.99245197355],\n",
       " [-417535.92886405427],\n",
       " [1476343.4571495487],\n",
       " [1392760.4829096892],\n",
       " [-31314.367544318757],\n",
       " [40036.47572230302],\n",
       " [-110690.62161776208],\n",
       " [-11797.1294717288],\n",
       " [-210346.90288096233],\n",
       " [-134812.5476222495],\n",
       " [-240211.94709421849],\n",
       " [-186060.53716915098],\n",
       " [-225629.81256847785],\n",
       " [-309003.95889584546],\n",
       " [-265124.09973017767],\n",
       " [-232593.00762854176],\n",
       " [-248066.05516471935],\n",
       " [-379967.20800120005],\n",
       " [-409297.0550905831],\n",
       " [1435253.9764228002],\n",
       " [1325836.0499676904],\n",
       " [-31360.102541933633],\n",
       " [30275.160002440727],\n",
       " [-113787.14753889453],\n",
       " [-32041.259761192247],\n",
       " [-222289.2770283652],\n",
       " [-136323.91547811817],\n",
       " [-244716.2336014073],\n",
       " [-186896.01126133758],\n",
       " [-231439.89011219927],\n",
       " [-316454.16121273075],\n",
       " [-267141.46342356806],\n",
       " [-234535.39122463245],\n",
       " [-258774.24920201965],\n",
       " [-379990.4321019439],\n",
       " [-395432.31549749395],\n",
       " [1536417.8868932622],\n",
       " [1324849.8564276372],\n",
       " [-42142.383677295904],\n",
       " [9987.100659027103],\n",
       " [-110851.01462124193],\n",
       " [-9361.346217385315],\n",
       " [-205734.3182060076],\n",
       " [-133593.8904705412],\n",
       " [-236063.8765323342],\n",
       " [-173305.9046821174],\n",
       " [-229038.43586674533],\n",
       " [-321884.63563139545],\n",
       " [-249257.16478566066],\n",
       " [-234260.48737249628],\n",
       " [-248790.34730872329],\n",
       " [-374567.83969954407],\n",
       " [-385188.448069529],\n",
       " [1489090.251545087],\n",
       " [1275927.8706330596],\n",
       " [-31542.847277028683],\n",
       " [6850.364017586997],\n",
       " [-107985.5906478855],\n",
       " [-17089.392174067234],\n",
       " [-219218.62801391172],\n",
       " [-138751.19733273293],\n",
       " [-238670.60779398738],\n",
       " [-191351.89829894158],\n",
       " [-227227.74737474837],\n",
       " [-310663.8719184848],\n",
       " [-252827.33121958133],\n",
       " [-232482.73794144165],\n",
       " [-251798.1604589873],\n",
       " [-376919.8311674066],\n",
       " [-378107.7803418742],\n",
       " [1658008.01658843],\n",
       " [1461375.9646753669],\n",
       " [-18496.66879907962],\n",
       " [75226.134447591],\n",
       " [-80886.49416444318],\n",
       " [19245.192851075964],\n",
       " [-204798.07715313014],\n",
       " [-116520.64558454065],\n",
       " [-227490.06570648705],\n",
       " [-166655.06117045716],\n",
       " [-212965.70330112358],\n",
       " [-312572.32985357376],\n",
       " [-236504.37765464885],\n",
       " [-218367.62633359022],\n",
       " [-249922.1125068181],\n",
       " [-373781.74179586174],\n",
       " [-366030.8001497876]]"
      ]
     },
     "execution_count": 219,
     "metadata": {},
     "output_type": "execute_result"
    }
   ],
   "source": [
    "# 행의 갯수는 원본과 동일하게 하고 Feature의 특성을 50개의 주성분으로 변경하기\n",
    "print(df_km.iloc[:,:7].shape)\n",
    "km_pca = pca.transform(df_km.iloc[:,:7])\n",
    "print(km_pca.shape)\n",
    "km_pca.tolist()"
   ]
  },
  {
   "cell_type": "code",
   "execution_count": 222,
   "metadata": {},
   "outputs": [
    {
     "data": {
      "text/plain": [
       "[[1461496.6053557042],\n",
       " [1335523.3980840684],\n",
       " [-21499.685120253256],\n",
       " [48554.619946023704],\n",
       " [-90677.33277128213],\n",
       " [-11967.951863114808],\n",
       " [-202882.65031570397],\n",
       " [-124853.04597130482],\n",
       " [-233393.72684204645],\n",
       " [-191113.65766252187],\n",
       " [-217334.73036680432],\n",
       " [-308946.21444305725],\n",
       " [-251728.65591529707],\n",
       " [-231812.62989439396],\n",
       " [-253436.99813741478],\n",
       " [-392086.7610225833],\n",
       " [-438709.05112283636],\n",
       " [1476221.8015790004],\n",
       " [1382094.8614631298],\n",
       " [8217.728057277318],\n",
       " [54317.85124157891],\n",
       " [-87369.43942466925],\n",
       " [-8029.971704816876],\n",
       " [-188229.84168157633],\n",
       " [-118440.35398723271],\n",
       " [-218515.82588623735],\n",
       " [-179948.90399312833],\n",
       " [-204975.17174466825],\n",
       " [-294193.96117766015],\n",
       " [-251163.58449222386],\n",
       " [-215456.9328223926],\n",
       " [-243625.48404264916],\n",
       " [-391552.4040528334],\n",
       " [-429318.8357291578],\n",
       " [1538384.9265640292],\n",
       " [1452267.9311732913],\n",
       " [4549.4931579903105],\n",
       " [74524.69530707749],\n",
       " [-86468.60793889222],\n",
       " [11950.383225570666],\n",
       " [-199002.68473462257],\n",
       " [-111079.8953816059],\n",
       " [-228708.67938851495],\n",
       " [-179055.8016983899],\n",
       " [-217773.1046485579],\n",
       " [-295975.84025225154],\n",
       " [-250958.26908760105],\n",
       " [-221587.91195811782],\n",
       " [-247281.4977334815],\n",
       " [-389129.99245197355],\n",
       " [-417535.92886405427],\n",
       " [1476343.4571495487],\n",
       " [1392760.4829096892],\n",
       " [-31314.367544318757],\n",
       " [40036.47572230302],\n",
       " [-110690.62161776208],\n",
       " [-11797.1294717288],\n",
       " [-210346.90288096233],\n",
       " [-134812.5476222495],\n",
       " [-240211.94709421849],\n",
       " [-186060.53716915098],\n",
       " [-225629.81256847785],\n",
       " [-309003.95889584546],\n",
       " [-265124.09973017767],\n",
       " [-232593.00762854176],\n",
       " [-248066.05516471935],\n",
       " [-379967.20800120005],\n",
       " [-409297.0550905831],\n",
       " [1435253.9764228002],\n",
       " [1325836.0499676904],\n",
       " [-31360.102541933633],\n",
       " [30275.160002440727],\n",
       " [-113787.14753889453],\n",
       " [-32041.259761192247],\n",
       " [-222289.2770283652],\n",
       " [-136323.91547811817],\n",
       " [-244716.2336014073],\n",
       " [-186896.01126133758],\n",
       " [-231439.89011219927],\n",
       " [-316454.16121273075],\n",
       " [-267141.46342356806],\n",
       " [-234535.39122463245],\n",
       " [-258774.24920201965],\n",
       " [-379990.4321019439],\n",
       " [-395432.31549749395],\n",
       " [1536417.8868932622],\n",
       " [1324849.8564276372],\n",
       " [-42142.383677295904],\n",
       " [9987.100659027103],\n",
       " [-110851.01462124193],\n",
       " [-9361.346217385315],\n",
       " [-205734.3182060076],\n",
       " [-133593.8904705412],\n",
       " [-236063.8765323342],\n",
       " [-173305.9046821174],\n",
       " [-229038.43586674533],\n",
       " [-321884.63563139545],\n",
       " [-249257.16478566066],\n",
       " [-234260.48737249628],\n",
       " [-248790.34730872329],\n",
       " [-374567.83969954407],\n",
       " [-385188.448069529],\n",
       " [1489090.251545087],\n",
       " [1275927.8706330596],\n",
       " [-31542.847277028683],\n",
       " [6850.364017586997],\n",
       " [-107985.5906478855],\n",
       " [-17089.392174067234],\n",
       " [-219218.62801391172],\n",
       " [-138751.19733273293],\n",
       " [-238670.60779398738],\n",
       " [-191351.89829894158],\n",
       " [-227227.74737474837],\n",
       " [-310663.8719184848],\n",
       " [-252827.33121958133],\n",
       " [-232482.73794144165],\n",
       " [-251798.1604589873],\n",
       " [-376919.8311674066],\n",
       " [-378107.7803418742],\n",
       " [1658008.01658843],\n",
       " [1461375.9646753669],\n",
       " [-18496.66879907962],\n",
       " [75226.134447591],\n",
       " [-80886.49416444318],\n",
       " [19245.192851075964],\n",
       " [-204798.07715313014],\n",
       " [-116520.64558454065],\n",
       " [-227490.06570648705],\n",
       " [-166655.06117045716],\n",
       " [-212965.70330112358],\n",
       " [-312572.32985357376],\n",
       " [-236504.37765464885],\n",
       " [-218367.62633359022],\n",
       " [-249922.1125068181],\n",
       " [-373781.74179586174],\n",
       " [-366030.8001497876]]"
      ]
     },
     "execution_count": 222,
     "metadata": {},
     "output_type": "execute_result"
    }
   ],
   "source": [
    "km_pca.tolist()"
   ]
  },
  {
   "cell_type": "code",
   "execution_count": 206,
   "metadata": {},
   "outputs": [
    {
     "data": {
      "text/html": [
       "<div>\n",
       "<style scoped>\n",
       "    .dataframe tbody tr th:only-of-type {\n",
       "        vertical-align: middle;\n",
       "    }\n",
       "\n",
       "    .dataframe tbody tr th {\n",
       "        vertical-align: top;\n",
       "    }\n",
       "\n",
       "    .dataframe thead th {\n",
       "        text-align: right;\n",
       "    }\n",
       "</style>\n",
       "<table border=\"1\" class=\"dataframe\">\n",
       "  <thead>\n",
       "    <tr style=\"text-align: right;\">\n",
       "      <th></th>\n",
       "      <th>0</th>\n",
       "    </tr>\n",
       "  </thead>\n",
       "  <tbody>\n",
       "    <tr>\n",
       "      <th>0</th>\n",
       "      <td>1.461497e+06</td>\n",
       "    </tr>\n",
       "    <tr>\n",
       "      <th>1</th>\n",
       "      <td>1.335523e+06</td>\n",
       "    </tr>\n",
       "    <tr>\n",
       "      <th>2</th>\n",
       "      <td>-2.149969e+04</td>\n",
       "    </tr>\n",
       "    <tr>\n",
       "      <th>3</th>\n",
       "      <td>4.855462e+04</td>\n",
       "    </tr>\n",
       "    <tr>\n",
       "      <th>4</th>\n",
       "      <td>-9.067733e+04</td>\n",
       "    </tr>\n",
       "    <tr>\n",
       "      <th>...</th>\n",
       "      <td>...</td>\n",
       "    </tr>\n",
       "    <tr>\n",
       "      <th>131</th>\n",
       "      <td>-2.365044e+05</td>\n",
       "    </tr>\n",
       "    <tr>\n",
       "      <th>132</th>\n",
       "      <td>-2.183676e+05</td>\n",
       "    </tr>\n",
       "    <tr>\n",
       "      <th>133</th>\n",
       "      <td>-2.499221e+05</td>\n",
       "    </tr>\n",
       "    <tr>\n",
       "      <th>134</th>\n",
       "      <td>-3.737817e+05</td>\n",
       "    </tr>\n",
       "    <tr>\n",
       "      <th>135</th>\n",
       "      <td>-3.660308e+05</td>\n",
       "    </tr>\n",
       "  </tbody>\n",
       "</table>\n",
       "<p>136 rows × 1 columns</p>\n",
       "</div>"
      ],
      "text/plain": [
       "                0\n",
       "0    1.461497e+06\n",
       "1    1.335523e+06\n",
       "2   -2.149969e+04\n",
       "3    4.855462e+04\n",
       "4   -9.067733e+04\n",
       "..            ...\n",
       "131 -2.365044e+05\n",
       "132 -2.183676e+05\n",
       "133 -2.499221e+05\n",
       "134 -3.737817e+05\n",
       "135 -3.660308e+05\n",
       "\n",
       "[136 rows x 1 columns]"
      ]
     },
     "execution_count": 206,
     "metadata": {},
     "output_type": "execute_result"
    }
   ],
   "source": [
    "df_km_pca = pd.DataFrame(km_pca.tolist())\n",
    "df_km_pca"
   ]
  },
  {
   "cell_type": "code",
   "execution_count": 212,
   "metadata": {},
   "outputs": [
    {
     "data": {
      "text/plain": [
       "시도\n",
       "경기도        0.00\n",
       "서울특별시      0.33\n",
       "경상남도       0.67\n",
       "부산광역시      0.67\n",
       "대구광역시      0.67\n",
       "           ... \n",
       "충청북도       1.00\n",
       "대전광역시      1.00\n",
       "강원도        1.00\n",
       "제주특별자치도    1.00\n",
       "세종특별자치시    1.00\n",
       "Name: cluster_id, Length: 136, dtype: float64"
      ]
     },
     "execution_count": 212,
     "metadata": {},
     "output_type": "execute_result"
    }
   ],
   "source": [
    "df_km_pca = df_km['cluster_id']\n",
    "df_km_pca"
   ]
  },
  {
   "cell_type": "code",
   "execution_count": 220,
   "metadata": {},
   "outputs": [
    {
     "data": {
      "text/plain": [
       "시도\n",
       "경기도                                                            0.0\n",
       "서울특별시                                                         0.33\n",
       "경상남도                                                          0.67\n",
       "부산광역시                                                         0.67\n",
       "대구광역시                                                         0.67\n",
       "                                       ...                        \n",
       "대전광역시                                                          1.0\n",
       "강원도                                                            1.0\n",
       "제주특별자치도                                                        1.0\n",
       "세종특별자치시                                                        1.0\n",
       "principal_col    [[1461496.6053557042], [1335523.3980840684], [...\n",
       "Name: cluster_id, Length: 137, dtype: object"
      ]
     },
     "execution_count": 220,
     "metadata": {},
     "output_type": "execute_result"
    }
   ],
   "source": [
    "df_km_pca['principal_col'] = km_pca.tolist()\n",
    "df_km_pca"
   ]
  },
  {
   "cell_type": "code",
   "execution_count": 185,
   "metadata": {},
   "outputs": [
    {
     "ename": "NameError",
     "evalue": "name 'asdf' is not defined",
     "output_type": "error",
     "traceback": [
      "\u001b[0;31m---------------------------------------------------------------------------\u001b[0m",
      "\u001b[0;31mNameError\u001b[0m                                 Traceback (most recent call last)",
      "Cell \u001b[0;32mIn[185], line 1\u001b[0m\n\u001b[0;32m----> 1\u001b[0m asdf\n",
      "\u001b[0;31mNameError\u001b[0m: name 'asdf' is not defined"
     ]
    }
   ],
   "source": [
    "---------------------------\n",
    "asdf"
   ]
  },
  {
   "cell_type": "code",
   "execution_count": null,
   "metadata": {},
   "outputs": [
    {
     "data": {
      "text/html": [
       "<style>#sk-container-id-1 {color: black;background-color: white;}#sk-container-id-1 pre{padding: 0;}#sk-container-id-1 div.sk-toggleable {background-color: white;}#sk-container-id-1 label.sk-toggleable__label {cursor: pointer;display: block;width: 100%;margin-bottom: 0;padding: 0.3em;box-sizing: border-box;text-align: center;}#sk-container-id-1 label.sk-toggleable__label-arrow:before {content: \"▸\";float: left;margin-right: 0.25em;color: #696969;}#sk-container-id-1 label.sk-toggleable__label-arrow:hover:before {color: black;}#sk-container-id-1 div.sk-estimator:hover label.sk-toggleable__label-arrow:before {color: black;}#sk-container-id-1 div.sk-toggleable__content {max-height: 0;max-width: 0;overflow: hidden;text-align: left;background-color: #f0f8ff;}#sk-container-id-1 div.sk-toggleable__content pre {margin: 0.2em;color: black;border-radius: 0.25em;background-color: #f0f8ff;}#sk-container-id-1 input.sk-toggleable__control:checked~div.sk-toggleable__content {max-height: 200px;max-width: 100%;overflow: auto;}#sk-container-id-1 input.sk-toggleable__control:checked~label.sk-toggleable__label-arrow:before {content: \"▾\";}#sk-container-id-1 div.sk-estimator input.sk-toggleable__control:checked~label.sk-toggleable__label {background-color: #d4ebff;}#sk-container-id-1 div.sk-label input.sk-toggleable__control:checked~label.sk-toggleable__label {background-color: #d4ebff;}#sk-container-id-1 input.sk-hidden--visually {border: 0;clip: rect(1px 1px 1px 1px);clip: rect(1px, 1px, 1px, 1px);height: 1px;margin: -1px;overflow: hidden;padding: 0;position: absolute;width: 1px;}#sk-container-id-1 div.sk-estimator {font-family: monospace;background-color: #f0f8ff;border: 1px dotted black;border-radius: 0.25em;box-sizing: border-box;margin-bottom: 0.5em;}#sk-container-id-1 div.sk-estimator:hover {background-color: #d4ebff;}#sk-container-id-1 div.sk-parallel-item::after {content: \"\";width: 100%;border-bottom: 1px solid gray;flex-grow: 1;}#sk-container-id-1 div.sk-label:hover label.sk-toggleable__label {background-color: #d4ebff;}#sk-container-id-1 div.sk-serial::before {content: \"\";position: absolute;border-left: 1px solid gray;box-sizing: border-box;top: 0;bottom: 0;left: 50%;z-index: 0;}#sk-container-id-1 div.sk-serial {display: flex;flex-direction: column;align-items: center;background-color: white;padding-right: 0.2em;padding-left: 0.2em;position: relative;}#sk-container-id-1 div.sk-item {position: relative;z-index: 1;}#sk-container-id-1 div.sk-parallel {display: flex;align-items: stretch;justify-content: center;background-color: white;position: relative;}#sk-container-id-1 div.sk-item::before, #sk-container-id-1 div.sk-parallel-item::before {content: \"\";position: absolute;border-left: 1px solid gray;box-sizing: border-box;top: 0;bottom: 0;left: 50%;z-index: -1;}#sk-container-id-1 div.sk-parallel-item {display: flex;flex-direction: column;z-index: 1;position: relative;background-color: white;}#sk-container-id-1 div.sk-parallel-item:first-child::after {align-self: flex-end;width: 50%;}#sk-container-id-1 div.sk-parallel-item:last-child::after {align-self: flex-start;width: 50%;}#sk-container-id-1 div.sk-parallel-item:only-child::after {width: 0;}#sk-container-id-1 div.sk-dashed-wrapped {border: 1px dashed gray;margin: 0 0.4em 0.5em 0.4em;box-sizing: border-box;padding-bottom: 0.4em;background-color: white;}#sk-container-id-1 div.sk-label label {font-family: monospace;font-weight: bold;display: inline-block;line-height: 1.2em;}#sk-container-id-1 div.sk-label-container {text-align: center;}#sk-container-id-1 div.sk-container {/* jupyter's `normalize.less` sets `[hidden] { display: none; }` but bootstrap.min.css set `[hidden] { display: none !important; }` so we also need the `!important` here to be able to override the default hidden behavior on the sphinx rendered scikit-learn.org. See: https://github.com/scikit-learn/scikit-learn/issues/21755 */display: inline-block !important;position: relative;}#sk-container-id-1 div.sk-text-repr-fallback {display: none;}</style><div id=\"sk-container-id-1\" class=\"sk-top-container\"><div class=\"sk-text-repr-fallback\"><pre>LinearRegression()</pre><b>In a Jupyter environment, please rerun this cell to show the HTML representation or trust the notebook. <br />On GitHub, the HTML representation is unable to render, please try loading this page with nbviewer.org.</b></div><div class=\"sk-container\" hidden><div class=\"sk-item\"><div class=\"sk-estimator sk-toggleable\"><input class=\"sk-toggleable__control sk-hidden--visually\" id=\"sk-estimator-id-1\" type=\"checkbox\" checked><label for=\"sk-estimator-id-1\" class=\"sk-toggleable__label sk-toggleable__label-arrow\">LinearRegression</label><div class=\"sk-toggleable__content\"><pre>LinearRegression()</pre></div></div></div></div></div>"
      ],
      "text/plain": [
       "LinearRegression()"
      ]
     },
     "execution_count": 138,
     "metadata": {},
     "output_type": "execute_result"
    }
   ],
   "source": [
    "lr = LinearRegression()\n",
    "lr.fit(train_input, train_target)"
   ]
  },
  {
   "attachments": {},
   "cell_type": "markdown",
   "metadata": {},
   "source": [
    "### 산점도 그려보기"
   ]
  },
  {
   "cell_type": "code",
   "execution_count": null,
   "metadata": {},
   "outputs": [
    {
     "ename": "ValueError",
     "evalue": "x and y must be the same size",
     "output_type": "error",
     "traceback": [
      "\u001b[0;31m---------------------------------------------------------------------------\u001b[0m",
      "\u001b[0;31mValueError\u001b[0m                                Traceback (most recent call last)",
      "Cell \u001b[0;32mIn[139], line 3\u001b[0m\n\u001b[1;32m      1\u001b[0m \u001b[39m# 훈련세트의 산점도\u001b[39;00m\n\u001b[1;32m      2\u001b[0m plt\u001b[39m.\u001b[39mfigure(figsize\u001b[39m=\u001b[39m(\u001b[39m10\u001b[39m,\u001b[39m5\u001b[39m))\n\u001b[0;32m----> 3\u001b[0m plt\u001b[39m.\u001b[39;49mscatter(train_input, train_target)\n\u001b[1;32m      4\u001b[0m plt\u001b[39m.\u001b[39mscatter(test_input, test_target)\n\u001b[1;32m      6\u001b[0m \u001b[39m# 15에서 50까지 1차 방정식 그래프\u001b[39;00m\n",
      "File \u001b[0;32m~/miniforge3/envs/tensorflow/lib/python3.9/site-packages/matplotlib/pyplot.py:2798\u001b[0m, in \u001b[0;36mscatter\u001b[0;34m(x, y, s, c, marker, cmap, norm, vmin, vmax, alpha, linewidths, edgecolors, plotnonfinite, data, **kwargs)\u001b[0m\n\u001b[1;32m   2793\u001b[0m \u001b[39m@_copy_docstring_and_deprecators\u001b[39m(Axes\u001b[39m.\u001b[39mscatter)\n\u001b[1;32m   2794\u001b[0m \u001b[39mdef\u001b[39;00m \u001b[39mscatter\u001b[39m(\n\u001b[1;32m   2795\u001b[0m         x, y, s\u001b[39m=\u001b[39m\u001b[39mNone\u001b[39;00m, c\u001b[39m=\u001b[39m\u001b[39mNone\u001b[39;00m, marker\u001b[39m=\u001b[39m\u001b[39mNone\u001b[39;00m, cmap\u001b[39m=\u001b[39m\u001b[39mNone\u001b[39;00m, norm\u001b[39m=\u001b[39m\u001b[39mNone\u001b[39;00m,\n\u001b[1;32m   2796\u001b[0m         vmin\u001b[39m=\u001b[39m\u001b[39mNone\u001b[39;00m, vmax\u001b[39m=\u001b[39m\u001b[39mNone\u001b[39;00m, alpha\u001b[39m=\u001b[39m\u001b[39mNone\u001b[39;00m, linewidths\u001b[39m=\u001b[39m\u001b[39mNone\u001b[39;00m, \u001b[39m*\u001b[39m,\n\u001b[1;32m   2797\u001b[0m         edgecolors\u001b[39m=\u001b[39m\u001b[39mNone\u001b[39;00m, plotnonfinite\u001b[39m=\u001b[39m\u001b[39mFalse\u001b[39;00m, data\u001b[39m=\u001b[39m\u001b[39mNone\u001b[39;00m, \u001b[39m*\u001b[39m\u001b[39m*\u001b[39mkwargs):\n\u001b[0;32m-> 2798\u001b[0m     __ret \u001b[39m=\u001b[39m gca()\u001b[39m.\u001b[39;49mscatter(\n\u001b[1;32m   2799\u001b[0m         x, y, s\u001b[39m=\u001b[39;49ms, c\u001b[39m=\u001b[39;49mc, marker\u001b[39m=\u001b[39;49mmarker, cmap\u001b[39m=\u001b[39;49mcmap, norm\u001b[39m=\u001b[39;49mnorm,\n\u001b[1;32m   2800\u001b[0m         vmin\u001b[39m=\u001b[39;49mvmin, vmax\u001b[39m=\u001b[39;49mvmax, alpha\u001b[39m=\u001b[39;49malpha, linewidths\u001b[39m=\u001b[39;49mlinewidths,\n\u001b[1;32m   2801\u001b[0m         edgecolors\u001b[39m=\u001b[39;49medgecolors, plotnonfinite\u001b[39m=\u001b[39;49mplotnonfinite,\n\u001b[1;32m   2802\u001b[0m         \u001b[39m*\u001b[39;49m\u001b[39m*\u001b[39;49m({\u001b[39m\"\u001b[39;49m\u001b[39mdata\u001b[39;49m\u001b[39m\"\u001b[39;49m: data} \u001b[39mif\u001b[39;49;00m data \u001b[39mis\u001b[39;49;00m \u001b[39mnot\u001b[39;49;00m \u001b[39mNone\u001b[39;49;00m \u001b[39melse\u001b[39;49;00m {}), \u001b[39m*\u001b[39;49m\u001b[39m*\u001b[39;49mkwargs)\n\u001b[1;32m   2803\u001b[0m     sci(__ret)\n\u001b[1;32m   2804\u001b[0m     \u001b[39mreturn\u001b[39;00m __ret\n",
      "File \u001b[0;32m~/miniforge3/envs/tensorflow/lib/python3.9/site-packages/matplotlib/__init__.py:1433\u001b[0m, in \u001b[0;36m_preprocess_data.<locals>.inner\u001b[0;34m(ax, data, *args, **kwargs)\u001b[0m\n\u001b[1;32m   1430\u001b[0m \u001b[39m@functools\u001b[39m\u001b[39m.\u001b[39mwraps(func)\n\u001b[1;32m   1431\u001b[0m \u001b[39mdef\u001b[39;00m \u001b[39minner\u001b[39m(ax, \u001b[39m*\u001b[39margs, data\u001b[39m=\u001b[39m\u001b[39mNone\u001b[39;00m, \u001b[39m*\u001b[39m\u001b[39m*\u001b[39mkwargs):\n\u001b[1;32m   1432\u001b[0m     \u001b[39mif\u001b[39;00m data \u001b[39mis\u001b[39;00m \u001b[39mNone\u001b[39;00m:\n\u001b[0;32m-> 1433\u001b[0m         \u001b[39mreturn\u001b[39;00m func(ax, \u001b[39m*\u001b[39;49m\u001b[39mmap\u001b[39;49m(sanitize_sequence, args), \u001b[39m*\u001b[39;49m\u001b[39m*\u001b[39;49mkwargs)\n\u001b[1;32m   1435\u001b[0m     bound \u001b[39m=\u001b[39m new_sig\u001b[39m.\u001b[39mbind(ax, \u001b[39m*\u001b[39margs, \u001b[39m*\u001b[39m\u001b[39m*\u001b[39mkwargs)\n\u001b[1;32m   1436\u001b[0m     auto_label \u001b[39m=\u001b[39m (bound\u001b[39m.\u001b[39marguments\u001b[39m.\u001b[39mget(label_namer)\n\u001b[1;32m   1437\u001b[0m                   \u001b[39mor\u001b[39;00m bound\u001b[39m.\u001b[39mkwargs\u001b[39m.\u001b[39mget(label_namer))\n",
      "File \u001b[0;32m~/miniforge3/envs/tensorflow/lib/python3.9/site-packages/matplotlib/axes/_axes.py:4526\u001b[0m, in \u001b[0;36mAxes.scatter\u001b[0;34m(self, x, y, s, c, marker, cmap, norm, vmin, vmax, alpha, linewidths, edgecolors, plotnonfinite, **kwargs)\u001b[0m\n\u001b[1;32m   4524\u001b[0m y \u001b[39m=\u001b[39m np\u001b[39m.\u001b[39mma\u001b[39m.\u001b[39mravel(y)\n\u001b[1;32m   4525\u001b[0m \u001b[39mif\u001b[39;00m x\u001b[39m.\u001b[39msize \u001b[39m!=\u001b[39m y\u001b[39m.\u001b[39msize:\n\u001b[0;32m-> 4526\u001b[0m     \u001b[39mraise\u001b[39;00m \u001b[39mValueError\u001b[39;00m(\u001b[39m\"\u001b[39m\u001b[39mx and y must be the same size\u001b[39m\u001b[39m\"\u001b[39m)\n\u001b[1;32m   4528\u001b[0m \u001b[39mif\u001b[39;00m s \u001b[39mis\u001b[39;00m \u001b[39mNone\u001b[39;00m:\n\u001b[1;32m   4529\u001b[0m     s \u001b[39m=\u001b[39m (\u001b[39m20\u001b[39m \u001b[39mif\u001b[39;00m mpl\u001b[39m.\u001b[39mrcParams[\u001b[39m'\u001b[39m\u001b[39m_internal.classic_mode\u001b[39m\u001b[39m'\u001b[39m] \u001b[39melse\u001b[39;00m\n\u001b[1;32m   4530\u001b[0m          mpl\u001b[39m.\u001b[39mrcParams[\u001b[39m'\u001b[39m\u001b[39mlines.markersize\u001b[39m\u001b[39m'\u001b[39m] \u001b[39m*\u001b[39m\u001b[39m*\u001b[39m \u001b[39m2.0\u001b[39m)\n",
      "\u001b[0;31mValueError\u001b[0m: x and y must be the same size"
     ]
    },
    {
     "data": {
      "image/png": "[encoded data removed]",
      "text/plain": [
       "<Figure size 1000x500 with 1 Axes>"
      ]
     },
     "metadata": {},
     "output_type": "display_data"
    }
   ],
   "source": [
    "# 훈련세트의 산점도\n",
    "plt.figure(figsize=(10,5))\n",
    "plt.scatter(train_input, train_target)\n",
    "plt.scatter(test_input, test_target)\n",
    "\n",
    "# 15에서 50까지 1차 방정식 그래프\n",
    "plt.plot([15, 50], [15*lr.coef_+lr.intercept_, 50*lr.coef_+lr.intercept_], c='red')\n",
    "\n",
    "# 50cm 생선\n",
    "plt.scatter(50, 1241.8, marker='^')\n",
    "\n",
    "plt.show()"
   ]
  },
  {
   "cell_type": "code",
   "execution_count": null,
   "metadata": {},
   "outputs": [
    {
     "name": "stdout",
     "output_type": "stream",
     "text": [
      "[nan, nan, nan, nan, nan, nan, nan, nan, nan, nan]\n",
      "[nan, nan, nan, nan, nan, nan, nan, nan, nan, nan]\n",
      "[nan, nan, nan, nan, nan, nan, nan, nan, nan, nan]\n",
      "[nan, nan, nan, nan, nan, nan, nan, nan, nan, nan]\n",
      "[nan, nan, nan, nan, nan, nan, nan, nan, nan, nan]\n"
     ]
    },
    {
     "data": {
      "text/plain": [
       "[nan, nan, nan, nan, nan, nan, nan, nan, nan, nan]"
      ]
     },
     "execution_count": 117,
     "metadata": {},
     "output_type": "execute_result"
    }
   ],
   "source": [
    "ml_list = [GaussianProcessRegressor(), DecisionTreeRegressor(), RandomForestRegressor(), AdaBoostRegressor(), MLPRegressor()]\n",
    "for ml in ml_list:\n",
    "    ml_cv_scores = cross_validation(ml, train_input, train_target)\n",
    "    print(ml_cv_scores)\n",
    "ml_cv_scores"
   ]
  },
  {
   "attachments": {},
   "cell_type": "markdown",
   "metadata": {},
   "source": [
    "----\n",
    "----\n",
    "----\n",
    "----\n",
    "----\n",
    "----"
   ]
  },
  {
   "cell_type": "markdown",
   "metadata": {},
   "source": [
    "----\n",
    "### Decision Model"
   ]
  },
  {
   "cell_type": "code",
   "execution_count": null,
   "metadata": {},
   "outputs": [
    {
     "name": "stdout",
     "output_type": "stream",
     "text": [
      "Train score : 1.0\n",
      "Valid score : 0.9545454545454546\n"
     ]
    }
   ],
   "source": [
    "# 모델 tree\n",
    "from sklearn.tree import DecisionTreeClassifier\n",
    "dt = DecisionTreeClassifier()  # random_state=42\n",
    "dt.fit(sub_input, sub_target)\n",
    "\n",
    "print(\"Train score :\", dt.score(sub_input, sub_target))\n",
    "print(\"Valid score :\", dt.score(val_input, val_target))"
   ]
  },
  {
   "cell_type": "code",
   "execution_count": null,
   "metadata": {},
   "outputs": [
    {
     "data": {
      "text/plain": [
       "{'fit_time': array([0.00073981, 0.00046682, 0.00039816, 0.00031996, 0.00032496]),\n",
       " 'score_time': array([0.00040483, 0.0002811 , 0.00019503, 0.00017881, 0.00017095]),\n",
       " 'test_score': array([1., 1., 1., 1., 1.])}"
      ]
     },
     "metadata": {},
     "output_type": "display_data"
    }
   ],
   "source": [
    "# 교차 검증\n",
    "from sklearn.model_selection import cross_validate\n",
    "scores = cross_validate(dt, train_input, train_target)\n",
    "scores"
   ]
  },
  {
   "cell_type": "code",
   "execution_count": null,
   "metadata": {},
   "outputs": [
    {
     "data": {
      "text/plain": [
       "1.0"
      ]
     },
     "metadata": {},
     "output_type": "display_data"
    }
   ],
   "source": [
    "# 교차검증 후의 정확도 판단\n",
    "import numpy as np\n",
    "np.mean(scores['test_score'])"
   ]
  },
  {
   "cell_type": "code",
   "execution_count": null,
   "metadata": {},
   "outputs": [
    {
     "data": {
      "text/plain": [
       "array([0, 1, 1, 1, 3, 3, 3, 1, 2, 1, 1, 1, 1, 3, 1, 1, 1, 1, 1, 1, 1, 1,\n",
       "       1, 1, 3, 1, 0, 1, 1, 2, 3, 3, 3, 3, 3, 1, 3, 1, 3, 3, 3, 3, 1, 3,\n",
       "       0, 2, 1, 1, 1, 3, 1, 1, 3, 1, 1, 1, 1, 1, 1, 1, 1, 1, 3, 3, 0, 1,\n",
       "       3, 1, 2, 1, 1, 0, 1, 1, 1, 2, 1, 3, 3, 1, 3, 3, 1, 3, 1, 1, 1, 1,\n",
       "       3, 3, 1, 1, 1, 1, 1, 1, 3, 1, 3, 3, 3, 1, 3, 1, 1, 0, 1, 2],\n",
       "      dtype=int32)"
      ]
     },
     "metadata": {},
     "output_type": "display_data"
    }
   ],
   "source": [
    "dt.predict(train_input)"
   ]
  },
  {
   "cell_type": "markdown",
   "metadata": {},
   "source": [
    "----\n",
    "### Random Forest"
   ]
  },
  {
   "cell_type": "code",
   "execution_count": null,
   "metadata": {},
   "outputs": [
    {
     "name": "stdout",
     "output_type": "stream",
     "text": [
      "Train score : 1.0\n",
      "Valid score : 1.0\n"
     ]
    }
   ],
   "source": [
    "# RandomForest\n",
    "from sklearn.model_selection import cross_validate\n",
    "from sklearn.ensemble import RandomForestClassifier\n",
    "\n",
    "rf = RandomForestClassifier(n_jobs=-1) # default:100 # random_state=42\n",
    "rf.fit(sub_input, sub_target)\n",
    "\n",
    "print(\"Train score :\", rf.score(sub_input, sub_target))\n",
    "print(\"Valid score :\", rf.score(val_input, val_target))"
   ]
  },
  {
   "cell_type": "code",
   "execution_count": null,
   "metadata": {},
   "outputs": [
    {
     "data": {
      "text/plain": [
       "{'fit_time': array([0.04317784, 0.03798604, 0.03801394, 0.0378592 , 0.04014325]),\n",
       " 'score_time': array([0.00655007, 0.00646925, 0.00697088, 0.00694203, 0.00744295]),\n",
       " 'test_score': array([1., 1., 1., 1., 1.])}"
      ]
     },
     "metadata": {},
     "output_type": "display_data"
    }
   ],
   "source": [
    "# 교차 검증\n",
    "from sklearn.model_selection import cross_validate\n",
    "scores = cross_validate(rf, train_input, train_target)\n",
    "scores"
   ]
  },
  {
   "cell_type": "code",
   "execution_count": null,
   "metadata": {},
   "outputs": [
    {
     "data": {
      "text/plain": [
       "1.0"
      ]
     },
     "metadata": {},
     "output_type": "display_data"
    }
   ],
   "source": [
    "# 교차검증 후의 정확도 판단\n",
    "import numpy as np\n",
    "np.mean(scores['test_score'])"
   ]
  },
  {
   "cell_type": "code",
   "execution_count": null,
   "metadata": {},
   "outputs": [
    {
     "data": {
      "text/plain": [
       "array([1, 1, 2, 1, 1, 1, 3, 1, 1, 1, 3, 3, 3, 0, 1, 1, 0, 1, 3, 1, 1, 1,\n",
       "       1, 2, 3, 1, 3, 3], dtype=int32)"
      ]
     },
     "metadata": {},
     "output_type": "display_data"
    }
   ],
   "source": [
    "rf.predict(test_input)"
   ]
  },
  {
   "cell_type": "markdown",
   "metadata": {},
   "source": [
    "> ## Classfication 정확도가 높으므로 Regression으로 시도해보자"
   ]
  },
  {
   "cell_type": "code",
   "execution_count": null,
   "metadata": {},
   "outputs": [],
   "source": [
    "# # KNN\n",
    "# from sklearn.neighbors import KNeighborsClassifier\n",
    "# clf = KNeighborsClassifier(n_neighbors=3)\n",
    "# clf.fit(train_input, train_target)\n",
    "# clf.score(test_input, test_target)"
   ]
  },
  {
   "cell_type": "markdown",
   "metadata": {},
   "source": [
    "----\n",
    "----\n",
    "# Regression\n",
    "1. cluster_id : [0, 1, 2, 3] -> [0 ~ 1] 변환\n",
    "2. Regression 진행"
   ]
  },
  {
   "cell_type": "markdown",
   "metadata": {},
   "source": [
    "### cluster_id : [0, 1, 2, 3] -> [0 ~ 1] 변환"
   ]
  },
  {
   "cell_type": "code",
   "execution_count": null,
   "metadata": {},
   "outputs": [
    {
     "data": {
      "text/plain": [
       "array([0.  , 0.33, 0.67, 1.  ])"
      ]
     },
     "metadata": {},
     "output_type": "display_data"
    }
   ],
   "source": [
    "df_km['cluster_id'] = df_km['cluster_id'] + 10\n",
    "df_km_temp = df_km.sort_values(by='전출인구', ascending=True)\n",
    "temp_list = df_km_temp['cluster_id'].unique()\n",
    "\n",
    "i = 3\n",
    "for temp in temp_list:\n",
    "    df_km['cluster_id'][df_km['cluster_id'] == temp] = i\n",
    "    i-=1\n",
    "df_km['cluster_id'] = np.round(df_km['cluster_id'] / 3, 2)\n",
    "df_km['cluster_id'].unique()"
   ]
  },
  {
   "cell_type": "code",
   "execution_count": null,
   "metadata": {},
   "outputs": [
    {
     "data": {
      "image/png": "[encoded data removed]",
      "text/plain": [
       "<Figure size 583x500 with 1 Axes>"
      ]
     },
     "metadata": {},
     "output_type": "display_data"
    }
   ],
   "source": [
    "sns.lmplot(x='출생아수', y='전출인구',\n",
    "            data=df_km, fit_reg=False,\n",
    "            scatter_kws={'s':200},\n",
    "            hue=\"cluster_id\"\n",
    ")\n",
    "plt.show()"
   ]
  },
  {
   "cell_type": "code",
   "execution_count": null,
   "metadata": {},
   "outputs": [],
   "source": [
    "# Feature, Target\n",
    "data = df_km[['전출인구', '출생아수', '산부인과의원수', '초등학생인원수', '도매 및 소매업 신생', '예금은행대출금액', '예금액']].to_numpy()\n",
    "target = df_km['cluster_id'].to_numpy()"
   ]
  },
  {
   "cell_type": "markdown",
   "metadata": {},
   "source": [
    "----\n",
    "### 검증 세트 추가\n",
    "- 훈련(60%), 검증(20%), 테스트(20%)"
   ]
  },
  {
   "cell_type": "code",
   "execution_count": null,
   "metadata": {},
   "outputs": [],
   "source": [
    "from sklearn.model_selection import train_test_split\n",
    "train_input, test_input, train_target, test_target = \\\n",
    "    train_test_split(data, target, test_size=0.2) # random_state=42,  stratify=target"
   ]
  },
  {
   "cell_type": "code",
   "execution_count": null,
   "metadata": {},
   "outputs": [],
   "source": [
    "sub_input, val_input, sub_target, val_target = \\\n",
    "    train_test_split(train_input, train_target, test_size=0.2, stratify=train_target) # random_state=42"
   ]
  },
  {
   "cell_type": "code",
   "execution_count": null,
   "metadata": {},
   "outputs": [
    {
     "name": "stdout",
     "output_type": "stream",
     "text": [
      "Train : (86, 7)\n",
      "Valid : (22, 7)\n",
      "Test  : (28, 7)\n"
     ]
    }
   ],
   "source": [
    "# 세트 별 크기\n",
    "print(\"Train :\", sub_input.shape)\n",
    "print(\"Valid :\", val_input.shape)\n",
    "print(\"Test  :\", test_input.shape)"
   ]
  },
  {
   "cell_type": "markdown",
   "metadata": {},
   "source": [
    "----\n",
    "### Decision Model"
   ]
  },
  {
   "cell_type": "code",
   "execution_count": null,
   "metadata": {},
   "outputs": [
    {
     "name": "stdout",
     "output_type": "stream",
     "text": [
      "Train score : 1.0\n",
      "Valid score : 1.0\n"
     ]
    }
   ],
   "source": [
    "# 모델 tree\n",
    "from sklearn.tree import DecisionTreeRegressor\n",
    "dt = DecisionTreeRegressor()  # random_state=42\n",
    "dt.fit(sub_input, sub_target)\n",
    "\n",
    "print(\"Train score :\", dt.score(sub_input, sub_target))\n",
    "print(\"Valid score :\", dt.score(val_input, val_target))"
   ]
  },
  {
   "cell_type": "code",
   "execution_count": null,
   "metadata": {},
   "outputs": [
    {
     "data": {
      "text/plain": [
       "{'fit_time': array([0.00137115, 0.00087714, 0.00036788, 0.00030088, 0.00050712]),\n",
       " 'score_time': array([0.00027394, 0.00030494, 0.00016189, 0.00016284, 0.00018001]),\n",
       " 'test_score': array([0.94774244, 0.95286688, 1.        , 1.        , 1.        ])}"
      ]
     },
     "metadata": {},
     "output_type": "display_data"
    }
   ],
   "source": [
    "# 교차 검증\n",
    "from sklearn.model_selection import cross_validate\n",
    "scores = cross_validate(dt, train_input, train_target)\n",
    "scores"
   ]
  },
  {
   "cell_type": "code",
   "execution_count": null,
   "metadata": {},
   "outputs": [
    {
     "data": {
      "text/plain": [
       "0.9801218646387161"
      ]
     },
     "metadata": {},
     "output_type": "display_data"
    }
   ],
   "source": [
    "# 교차검증 후의 정확도 판단\n",
    "import numpy as np\n",
    "np.mean(scores['test_score'])"
   ]
  },
  {
   "cell_type": "code",
   "execution_count": null,
   "metadata": {},
   "outputs": [
    {
     "data": {
      "text/plain": [
       "array([1.  , 1.  , 1.  , 1.  , 1.  , 0.67, 0.67, 1.  , 0.67, 1.  , 0.67,\n",
       "       1.  , 0.67, 0.67, 1.  , 0.67, 1.  , 0.33, 0.  , 0.  , 1.  , 1.  ,\n",
       "       1.  , 1.  , 0.  , 1.  , 0.67, 1.  , 0.  , 1.  , 1.  , 1.  , 0.33,\n",
       "       1.  , 0.67, 1.  , 1.  , 0.67, 0.67, 1.  , 0.33, 1.  , 1.  , 0.67,\n",
       "       1.  , 1.  , 0.67, 0.67, 0.67, 0.67, 1.  , 0.33, 1.  , 1.  , 0.67,\n",
       "       1.  , 0.33, 0.67, 1.  , 1.  , 0.67, 1.  , 1.  , 1.  , 1.  , 0.67,\n",
       "       1.  , 1.  , 1.  , 0.67, 0.67, 1.  , 1.  , 1.  , 0.67, 0.  , 1.  ,\n",
       "       0.67, 1.  , 1.  , 1.  , 0.67, 1.  , 0.67, 0.67, 0.67, 1.  , 0.67,\n",
       "       1.  , 0.33, 0.67, 1.  , 1.  , 1.  , 0.67, 0.67, 0.67, 1.  , 0.67,\n",
       "       0.67, 1.  , 1.  , 0.67, 1.  , 1.  , 1.  , 0.  , 0.67])"
      ]
     },
     "metadata": {},
     "output_type": "display_data"
    }
   ],
   "source": [
    "dt.predict(train_input)"
   ]
  },
  {
   "cell_type": "markdown",
   "metadata": {},
   "source": [
    "----\n",
    "### Random Forest"
   ]
  },
  {
   "cell_type": "code",
   "execution_count": null,
   "metadata": {},
   "outputs": [
    {
     "name": "stdout",
     "output_type": "stream",
     "text": [
      "Train score : 0.9990279478260747\n",
      "Valid score : 0.9982068083323835\n"
     ]
    }
   ],
   "source": [
    "# RandomForest\n",
    "from sklearn.model_selection import cross_validate\n",
    "from sklearn.ensemble import RandomForestRegressor\n",
    "\n",
    "rf = RandomForestRegressor(n_jobs=-1) # default:100 # random_state=42\n",
    "rf.fit(sub_input, sub_target)\n",
    "\n",
    "print(\"Train score :\", rf.score(sub_input, sub_target))\n",
    "print(\"Valid score :\", rf.score(val_input, val_target))"
   ]
  },
  {
   "cell_type": "code",
   "execution_count": null,
   "metadata": {},
   "outputs": [
    {
     "data": {
      "text/plain": [
       "{'fit_time': array([0.04407716, 0.03859782, 0.03933501, 0.03601933, 0.03644705]),\n",
       " 'score_time': array([0.00625896, 0.00579906, 0.00585699, 0.00518894, 0.00509214]),\n",
       " 'test_score': array([0.99352798, 0.99119082, 0.99060723, 0.99356399, 0.99740895])}"
      ]
     },
     "metadata": {},
     "output_type": "display_data"
    }
   ],
   "source": [
    "# 교차 검증\n",
    "from sklearn.model_selection import cross_validate\n",
    "scores = cross_validate(rf, train_input, train_target)\n",
    "scores"
   ]
  },
  {
   "cell_type": "code",
   "execution_count": null,
   "metadata": {},
   "outputs": [
    {
     "data": {
      "text/plain": [
       "0.9932597929507022"
      ]
     },
     "metadata": {},
     "output_type": "display_data"
    }
   ],
   "source": [
    "# 교차검증 후의 정확도 판단\n",
    "import numpy as np\n",
    "np.mean(scores['test_score'])"
   ]
  },
  {
   "cell_type": "code",
   "execution_count": null,
   "metadata": {},
   "outputs": [
    {
     "data": {
      "text/plain": [
       "array([0.0066, 1.    , 1.    , 1.    , 1.    , 1.    , 1.    , 0.9538,\n",
       "       1.    , 1.    , 0.9934, 1.    , 1.    , 1.    , 0.2871, 0.67  ,\n",
       "       1.    , 0.67  , 1.    , 1.    , 0.9967, 0.9967, 0.3236, 1.    ,\n",
       "       1.    , 0.    , 1.    , 0.67  ])"
      ]
     },
     "metadata": {},
     "output_type": "display_data"
    }
   ],
   "source": [
    "rf.predict(test_input)"
   ]
  },
  {
   "cell_type": "code",
   "execution_count": null,
   "metadata": {},
   "outputs": [
    {
     "data": {
      "text/plain": [
       "array([[1.871621e+06, 8.817500e+04, 2.680000e+02, 7.524990e+05,\n",
       "        4.936400e+04, 3.505536e+05, 2.368040e+04],\n",
       "       [1.522280e+05, 7.539000e+03, 3.300000e+01, 6.851200e+04,\n",
       "        3.486000e+03, 2.849510e+04, 1.664630e+04],\n",
       "       [2.088310e+05, 9.333000e+03, 4.000000e+01, 8.670900e+04,\n",
       "        5.918000e+03, 2.639990e+04, 2.555550e+04],\n",
       "       [9.219300e+04, 5.494000e+03, 2.100000e+01, 3.827200e+04,\n",
       "        2.886000e+03, 1.254820e+04, 5.708100e+03],\n",
       "       [1.510900e+04, 1.111000e+03, 2.000000e+00, 7.090000e+03,\n",
       "        4.260000e+02, 2.429100e+03, 1.441735e+05],\n",
       "       [2.262840e+05, 1.066200e+04, 3.200000e+01, 8.045800e+04,\n",
       "        5.432000e+03, 1.418470e+04, 1.512430e+04],\n",
       "       [2.483970e+05, 1.396200e+04, 5.000000e+01, 9.159900e+04,\n",
       "        7.085000e+03, 2.580470e+04, 2.569250e+04],\n",
       "       [2.769000e+05, 1.423100e+04, 5.400000e+01, 1.018600e+05,\n",
       "        7.545000e+03, 2.462590e+04, 1.730330e+04],\n",
       "       [2.526070e+05, 1.269800e+04, 5.200000e+01, 9.789500e+04,\n",
       "        7.233000e+03, 2.733010e+04, 2.011250e+04],\n",
       "       [9.203000e+04, 4.500000e+03, 2.300000e+01, 4.106800e+04,\n",
       "        2.758000e+03, 1.828110e+04, 1.164680e+04],\n",
       "       [2.322460e+05, 7.318000e+03, 3.600000e+01, 8.641900e+04,\n",
       "        5.810000e+03, 4.216130e+04, 2.857370e+04],\n",
       "       [2.251080e+05, 9.105000e+03, 3.700000e+01, 8.862200e+04,\n",
       "        5.652000e+03, 3.347550e+04, 2.410440e+04],\n",
       "       [2.210740e+05, 1.158000e+04, 3.900000e+01, 8.909500e+04,\n",
       "        6.228000e+03, 3.035420e+04, 2.406740e+04],\n",
       "       [1.471160e+05, 9.381000e+03, 3.200000e+01, 6.601600e+04,\n",
       "        4.001000e+03, 2.694920e+04, 1.589940e+04],\n",
       "       [1.726687e+06, 8.300500e+04, 3.890000e+02, 4.506750e+05,\n",
       "        4.459900e+04, 5.255291e+05, 6.003911e+05],\n",
       "       [3.657390e+05, 1.936100e+04, 8.500000e+01, 1.317650e+05,\n",
       "        1.074400e+04, 5.321400e+04, 4.220320e+04],\n",
       "       [2.292880e+05, 1.272900e+04, 4.500000e+01, 9.605500e+04,\n",
       "        6.342000e+03, 2.308280e+04, 1.804160e+04],\n",
       "       [4.101800e+05, 2.713800e+04, 6.400000e+01, 1.853250e+05,\n",
       "        1.206600e+04, 7.233300e+04, 9.587600e+03],\n",
       "       [2.223520e+05, 1.092900e+04, 3.300000e+01, 7.841400e+04,\n",
       "        5.570000e+03, 1.546490e+04, 1.628540e+04],\n",
       "       [2.131880e+05, 1.356300e+04, 4.700000e+01, 8.529000e+04,\n",
       "        5.944000e+03, 2.104460e+04, 2.246210e+04],\n",
       "       [2.714460e+05, 1.730200e+04, 4.600000e+01, 1.153090e+05,\n",
       "        7.956000e+03, 3.382880e+04, 2.102070e+04],\n",
       "       [2.796800e+05, 1.860400e+04, 4.600000e+01, 1.154840e+05,\n",
       "        7.772000e+03, 3.225500e+04, 2.005520e+04],\n",
       "       [1.642977e+06, 4.744500e+04, 3.850000e+02, 4.095360e+05,\n",
       "        4.958100e+04, 7.261641e+05, 8.983718e+05],\n",
       "       [8.139600e+04, 5.526000e+03, 2.000000e+01, 3.791500e+04,\n",
       "        2.581000e+03, 8.312300e+03, 1.667400e+03],\n",
       "       [3.095000e+04, 2.708000e+03, 4.000000e+00, 1.335300e+04,\n",
       "        7.120000e+02, 5.215000e+03, 1.692154e+05],\n",
       "       [1.834379e+06, 1.121690e+05, 2.770000e+02, 7.323070e+05,\n",
       "        5.166100e+04, 2.684946e+05, 1.480870e+04],\n",
       "       [5.867400e+04, 3.819000e+03, 7.000000e+00, 2.789200e+04,\n",
       "        1.080000e+03, 8.803900e+03, 2.230434e+05],\n",
       "       [5.205910e+05, 2.664500e+04, 7.400000e+01, 1.542830e+05,\n",
       "        1.313300e+04, 9.210950e+04, 7.315640e+04]])"
      ]
     },
     "metadata": {},
     "output_type": "display_data"
    }
   ],
   "source": [
    "test_input"
   ]
  },
  {
   "cell_type": "code",
   "execution_count": null,
   "metadata": {},
   "outputs": [
    {
     "data": {
      "text/plain": [
       "array([0.1563])"
      ]
     },
     "metadata": {},
     "output_type": "display_data"
    }
   ],
   "source": [
    "rf.predict([[3.131880e+05, 6.773700e+04, 2.650000e+02, 7.617310e+05,\n",
    "       6.314500e+04, 4.198318e+05, 2.493950e+04]])"
   ]
  },
  {
   "cell_type": "code",
   "execution_count": null,
   "metadata": {},
   "outputs": [],
   "source": [
    "# # RandomForest\n",
    "# from sklearn.model_selection import cross_validate\n",
    "# from sklearn.ensemble import RandomForestClassifier\n",
    "\n",
    "# rf = RandomForestClassifier(n_jobs=-1, random_state=42) # default:100\n",
    "# scores = cross_validate(rf, train_input, train_target, return_train_score=True, n_jobs=-1) # 크로스밸리데이션 쓰려면 모델부터 만들어놔야한다 # return_train_score=True > 그래야 점수를 알 수 있다.\n",
    "# print(np.mean(scores['train_score']), np.mean(scores['test_score']))"
   ]
  },
  {
   "cell_type": "markdown",
   "metadata": {},
   "source": [
    "----\n",
    "----\n",
    "### KFold를 이용한 방법"
   ]
  },
  {
   "cell_type": "code",
   "execution_count": null,
   "metadata": {},
   "outputs": [],
   "source": [
    "# from sklearn.model_selection import StratifiedKFold\n",
    "# splitter = StratifiedKFold() # default : 5\n",
    "# scores = cross_validate(dt, train_input, train_target, cv=splitter)\n",
    "# scores"
   ]
  },
  {
   "cell_type": "code",
   "execution_count": null,
   "metadata": {},
   "outputs": [],
   "source": [
    "# np.mean(scores['test_score'])"
   ]
  },
  {
   "cell_type": "code",
   "execution_count": null,
   "metadata": {},
   "outputs": [],
   "source": [
    "# # KFold의 Fold 중 10개로 나누어서 교차검증\n",
    "# splitter = StratifiedKFold(n_splits=10, shuffle=True, random_state=42) # default : 5\n",
    "# scores = cross_validate(dt, train_input, train_target, cv=splitter)\n",
    "# scores"
   ]
  },
  {
   "cell_type": "code",
   "execution_count": null,
   "metadata": {},
   "outputs": [],
   "source": [
    "# np.mean(scores['test_score'])"
   ]
  },
  {
   "cell_type": "markdown",
   "metadata": {},
   "source": [
    "> 0.963 (n_splits=10)"
   ]
  },
  {
   "cell_type": "code",
   "execution_count": null,
   "metadata": {},
   "outputs": [],
   "source": []
  }
 ],
 "metadata": {
  "kernelspec": {
   "display_name": "tensorflow",
   "language": "python",
   "name": "python3"
  },
  "language_info": {
   "codemirror_mode": {
    "name": "ipython",
    "version": 3
   },
   "file_extension": ".py",
   "mimetype": "text/x-python",
   "name": "python",
   "nbconvert_exporter": "python",
   "pygments_lexer": "ipython3",
   "version": "3.9.13"
  },
  "orig_nbformat": 4,
  "vscode": {
   "interpreter": {
    "hash": "a2b29f868d451986a4c0647d0e54b13b8f75acf913aadb998b05a67dca428959"
   }
  }
 },
 "nbformat": 4,
 "nbformat_minor": 2
}
