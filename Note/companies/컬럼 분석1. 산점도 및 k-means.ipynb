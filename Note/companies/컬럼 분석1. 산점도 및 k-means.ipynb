{
 "cells": [
  {
   "cell_type": "code",
   "execution_count": 10,
   "metadata": {},
   "outputs": [],
   "source": [
    "import pandas as pd\n",
    "import seaborn as sns\n",
    "import numpy as np\n",
    "import matplotlib.pyplot as plt\n",
    "import warnings\n",
    "warnings.filterwarnings(\"ignore\")\n",
    "# 한글 폰트 문제 해결 \n",
    "# matplotlib은 한글 폰트를 지원하지 않음\n",
    "# os정보\n",
    "import platform\n",
    "\n",
    "# font_manager : 폰트 관리 모듈\n",
    "# rc : 폰트 변경 모듈\n",
    "from matplotlib import font_manager, rc\n",
    "# unicode 설정\n",
    "plt.rcParams['axes.unicode_minus'] = False\n",
    "\n",
    "if platform.system() == 'Darwin':\n",
    "    rc('font', family='AppleGothic') # os가 macos\n",
    "elif platform.system() == 'Windows':\n",
    "    path = 'c:/Windows/Fonts/malgun.ttf' # os가 windows\n",
    "    font_name = font_manager.FontProperties(fname=path).get_name()\n",
    "    rc('font', family=font_name)\n",
    "else:\n",
    "    print(\"Unknown System\")"
   ]
  },
  {
   "cell_type": "code",
   "execution_count": 3,
   "metadata": {},
   "outputs": [
    {
     "data": {
      "text/plain": [
       "Index(['년도', '시도', '사설학원수', '대학교_숫자', '중학생인원수변화', '초등학생인원수변화', '고등학생인원수변화',\n",
       "       '유치원원아수변화', '대학생숫자', '의원', '병원', '종합병원', '상급종합병원', '의사', '치과의사', '한의사',\n",
       "       '약사', '간호사', '기타보건의료인', '주택수', '빈집수', '자동차등록대수', '전입인구', '전출인구', '활동',\n",
       "       '신생', '소멸', '상용_월평균_임금', '임금상승률', '협회 및 단체, 수리 및 기타 개인서비스업_활동',\n",
       "       '협회 및 단체, 수리 및 기타 개인서비스업_신생', '협회 및 단체, 수리 및 기타 개인서비스업_소멸',\n",
       "       '예술, 스포츠 및 여가관련 서비스업_활동', '예술, 스포츠 및 여가관련 서비스업_신생',\n",
       "       '예술, 스포츠 및 여가관련 서비스업_소멸', '보건업 및 사회복지 서비스업_활동', '보건업 및 사회복지 서비스업_신생',\n",
       "       '보건업 및 사회복지 서비스업_소멸', '교육서비스업_활동', '교육서비스업_신생', '교육서비스업_소멸',\n",
       "       '사업 시설관리, 사업지원 및 임대 서비스업_활동', '사업 시설관리, 사업지원 및 임대 서비스업_신생',\n",
       "       '사업 시설관리, 사업지원 및 임대 서비스업_소멸', '전문, 과학 및 기술서비스업_활동',\n",
       "       '전문, 과학 및 기술서비스업_신생', '전문, 과학 및 기술서비스업_소멸', '부동산업_활동', '부동산업_신생',\n",
       "       '부동산업_소멸', '금융 및 보험업_활동', '금융 및 보험업_신생', '금융 및 보험업_소멸', '정보통신업_활동',\n",
       "       '정보통신업_신생', '정보통신업_소멸', '숙박 및 음식점업_활동', '숙박 및 음식점업_신생', '숙박 및 음식점업_소멸',\n",
       "       '운수 및 창고업_활동', '운수 및 창고업_신생', '운수 및 창고업_소멸', '도매 및 소매업_활동',\n",
       "       '도매 및 소매업_신생', '도매 및 소매업_소멸', '건설업_활동', '건설업_신생', '건설업_소멸',\n",
       "       '수도, 하수 및 폐기물처리, 원료재생업_활동', '수도, 하수 및 폐기물처리, 원료재생업_신생',\n",
       "       '수도, 하수 및 폐기물처리, 원료재생업_소멸', '전기, 가스, 증기 및 공기조절 공급업_활동',\n",
       "       '전기, 가스, 증기 및 공기조절 공급업_신생', '전기, 가스, 증기 및 공기조절 공급업_소멸', '제조업_활동',\n",
       "       '제조업_신생', '제조업_소멸', '광업_활동', '광업_신생', '광업_소멸', '총_인구', '남성_인구', '여성_인구',\n",
       "       '부채', '자산(만원)', '농가수', '어가수', '백화점판매액', '대형소매점', '예금은행대출금액', '예금액',\n",
       "       '지방세'],\n",
       "      dtype='object')"
      ]
     },
     "execution_count": 3,
     "metadata": {},
     "output_type": "execute_result"
    }
   ],
   "source": [
    "df = pd.read_csv(\"../../Data/00.통합.csv\")\n",
    "df.columns"
   ]
  },
  {
   "cell_type": "code",
   "execution_count": 4,
   "metadata": {},
   "outputs": [
    {
     "data": {
      "text/plain": [
       "92"
      ]
     },
     "execution_count": 4,
     "metadata": {},
     "output_type": "execute_result"
    }
   ],
   "source": [
    "len(df.columns)"
   ]
  },
  {
   "cell_type": "code",
   "execution_count": 80,
   "metadata": {},
   "outputs": [
    {
     "data": {
      "text/plain": [
       "0      2735767.0\n",
       "1      3168798.0\n",
       "2      2612430.0\n",
       "3      2520222.0\n",
       "4      2315945.0\n",
       "         ...    \n",
       "131    3203545.0\n",
       "132    3301865.0\n",
       "133    3053154.0\n",
       "134    2726806.0\n",
       "135    3423078.0\n",
       "Name: 상용_월평균_임금, Length: 136, dtype: float64"
      ]
     },
     "execution_count": 80,
     "metadata": {},
     "output_type": "execute_result"
    }
   ],
   "source": [
    "df.iloc[:,29]\n",
    "# df.iloc[:,27]"
   ]
  },
  {
   "cell_type": "code",
   "execution_count": 81,
   "metadata": {},
   "outputs": [
    {
     "data": {
      "text/html": [
       "<div>\n",
       "<style scoped>\n",
       "    .dataframe tbody tr th:only-of-type {\n",
       "        vertical-align: middle;\n",
       "    }\n",
       "\n",
       "    .dataframe tbody tr th {\n",
       "        vertical-align: top;\n",
       "    }\n",
       "\n",
       "    .dataframe thead th {\n",
       "        text-align: right;\n",
       "    }\n",
       "</style>\n",
       "<table border=\"1\" class=\"dataframe\">\n",
       "  <thead>\n",
       "    <tr style=\"text-align: right;\">\n",
       "      <th></th>\n",
       "      <th>협회 및 단체, 수리 및 기타 개인서비스업_활동</th>\n",
       "      <th>상용_월평균_임금</th>\n",
       "    </tr>\n",
       "  </thead>\n",
       "  <tbody>\n",
       "    <tr>\n",
       "      <th>0</th>\n",
       "      <td>53177</td>\n",
       "      <td>2735767.0</td>\n",
       "    </tr>\n",
       "    <tr>\n",
       "      <th>1</th>\n",
       "      <td>47929</td>\n",
       "      <td>3168798.0</td>\n",
       "    </tr>\n",
       "    <tr>\n",
       "      <th>2</th>\n",
       "      <td>15770</td>\n",
       "      <td>2612430.0</td>\n",
       "    </tr>\n",
       "    <tr>\n",
       "      <th>3</th>\n",
       "      <td>17554</td>\n",
       "      <td>2520222.0</td>\n",
       "    </tr>\n",
       "    <tr>\n",
       "      <th>4</th>\n",
       "      <td>11126</td>\n",
       "      <td>2315945.0</td>\n",
       "    </tr>\n",
       "  </tbody>\n",
       "</table>\n",
       "</div>"
      ],
      "text/plain": [
       "   협회 및 단체, 수리 및 기타 개인서비스업_활동  상용_월평균_임금\n",
       "0                       53177  2735767.0\n",
       "1                       47929  3168798.0\n",
       "2                       15770  2612430.0\n",
       "3                       17554  2520222.0\n",
       "4                       11126  2315945.0"
      ]
     },
     "execution_count": 81,
     "metadata": {},
     "output_type": "execute_result"
    }
   ],
   "source": [
    "companies = pd.concat([df.iloc[:,29], df.iloc[:,27]], axis=1)\n",
    "edu = pd.concat([df.iloc[:,2:3], df.iloc[:,7]], axis=1)\n",
    "companies.head()"
   ]
  },
  {
   "cell_type": "code",
   "execution_count": 82,
   "metadata": {},
   "outputs": [
    {
     "data": {
      "text/plain": [
       "Index(['사설학원수', '유치원원아수변화'], dtype='object')"
      ]
     },
     "execution_count": 82,
     "metadata": {},
     "output_type": "execute_result"
    }
   ],
   "source": [
    "edu.columns"
   ]
  },
  {
   "attachments": {},
   "cell_type": "markdown",
   "metadata": {},
   "source": [
    "## k-means"
   ]
  },
  {
   "cell_type": "code",
   "execution_count": 83,
   "metadata": {},
   "outputs": [
    {
     "data": {
      "image/png": "[encoded data removed]",
      "text/plain": [
       "<Figure size 640x480 with 1 Axes>"
      ]
     },
     "metadata": {},
     "output_type": "display_data"
    }
   ],
   "source": [
    "scores = []\n",
    "for k in range(2, 10):\n",
    "    km = KMeans(n_clusters=k)\n",
    "    km.fit(edu)\n",
    "    scores.append(km.inertia_)\n",
    "    \n",
    "plt.plot(range(2, 10), scores)\n",
    "plt.show()"
   ]
  },
  {
   "cell_type": "code",
   "execution_count": 84,
   "metadata": {},
   "outputs": [
    {
     "data": {
      "image/png": "[encoded data removed]",
      "text/plain": [
       "<Figure size 640x480 with 1 Axes>"
      ]
     },
     "metadata": {},
     "output_type": "display_data"
    }
   ],
   "source": [
    "scores = []\n",
    "for k in range(2, 10):\n",
    "    km = KMeans(n_clusters=k)\n",
    "    km.fit(companies)\n",
    "    scores.append(km.inertia_)\n",
    "    \n",
    "plt.plot(range(2, 10), scores)\n",
    "plt.show()"
   ]
  },
  {
   "cell_type": "code",
   "execution_count": 85,
   "metadata": {},
   "outputs": [
    {
     "data": {
      "text/html": [
       "<div>\n",
       "<style scoped>\n",
       "    .dataframe tbody tr th:only-of-type {\n",
       "        vertical-align: middle;\n",
       "    }\n",
       "\n",
       "    .dataframe tbody tr th {\n",
       "        vertical-align: top;\n",
       "    }\n",
       "\n",
       "    .dataframe thead th {\n",
       "        text-align: right;\n",
       "    }\n",
       "</style>\n",
       "<table border=\"1\" class=\"dataframe\">\n",
       "  <thead>\n",
       "    <tr style=\"text-align: right;\">\n",
       "      <th></th>\n",
       "      <th>사설학원수</th>\n",
       "      <th>유치원원아수변화</th>\n",
       "      <th>cluster_id</th>\n",
       "    </tr>\n",
       "  </thead>\n",
       "  <tbody>\n",
       "    <tr>\n",
       "      <th>0</th>\n",
       "      <td>18134</td>\n",
       "      <td>182231</td>\n",
       "      <td>1</td>\n",
       "    </tr>\n",
       "    <tr>\n",
       "      <th>1</th>\n",
       "      <td>13405</td>\n",
       "      <td>92400</td>\n",
       "      <td>4</td>\n",
       "    </tr>\n",
       "    <tr>\n",
       "      <th>2</th>\n",
       "      <td>5662</td>\n",
       "      <td>50370</td>\n",
       "      <td>0</td>\n",
       "    </tr>\n",
       "    <tr>\n",
       "      <th>3</th>\n",
       "      <td>4638</td>\n",
       "      <td>44217</td>\n",
       "      <td>0</td>\n",
       "    </tr>\n",
       "    <tr>\n",
       "      <th>4</th>\n",
       "      <td>3639</td>\n",
       "      <td>34550</td>\n",
       "      <td>0</td>\n",
       "    </tr>\n",
       "  </tbody>\n",
       "</table>\n",
       "</div>"
      ],
      "text/plain": [
       "   사설학원수  유치원원아수변화  cluster_id\n",
       "0  18134    182231           1\n",
       "1  13405     92400           4\n",
       "2   5662     50370           0\n",
       "3   4638     44217           0\n",
       "4   3639     34550           0"
      ]
     },
     "execution_count": 85,
     "metadata": {},
     "output_type": "execute_result"
    }
   ],
   "source": [
    "from sklearn.cluster import KMeans\n",
    "# companies\n",
    "data_points = companies.values\n",
    "kmeans = KMeans(n_clusters=5).fit(data_points) #n_clusters: 5분류\n",
    "companies['cluster_id'] = kmeans.labels_\n",
    "\n",
    "# edu\n",
    "data_points = edu.values\n",
    "kmeans = KMeans(n_clusters=5).fit(data_points) #n_clusters: 5분류\n",
    "edu['cluster_id'] = kmeans.labels_\n",
    "\n",
    "edu.head()"
   ]
  },
  {
   "cell_type": "code",
   "execution_count": 86,
   "metadata": {},
   "outputs": [
    {
     "data": {
      "text/plain": [
       "cluster_id\n",
       "False         103\n",
       "True           33\n",
       "dtype: int64"
      ]
     },
     "execution_count": 86,
     "metadata": {},
     "output_type": "execute_result"
    }
   ],
   "source": [
    "result = pd.DataFrame(companies.cluster_id == edu.cluster_id)\n",
    "result.value_counts()"
   ]
  },
  {
   "cell_type": "code",
   "execution_count": 87,
   "metadata": {},
   "outputs": [
    {
     "data": {
      "image/png": "[encoded data removed]",
      "text/plain": [
       "<Figure size 1000x500 with 1 Axes>"
      ]
     },
     "metadata": {},
     "output_type": "display_data"
    }
   ],
   "source": [
    "pd.DataFrame(companies.iloc[:,1]).plot(\n",
    "    kind='scatter',\n",
    "    x = 0,\n",
    "    y = 0,\n",
    "    c='coral',\n",
    "    s=20, #점의 크기\n",
    "    figsize=(10,5)\n",
    ")\n",
    "\n",
    "plt.show()"
   ]
  },
  {
   "cell_type": "code",
   "execution_count": null,
   "metadata": {},
   "outputs": [],
   "source": []
  }
 ],
 "metadata": {
  "kernelspec": {
   "display_name": "tensorflow",
   "language": "python",
   "name": "python3"
  },
  "language_info": {
   "codemirror_mode": {
    "name": "ipython",
    "version": 3
   },
   "file_extension": ".py",
   "mimetype": "text/x-python",
   "name": "python",
   "nbconvert_exporter": "python",
   "pygments_lexer": "ipython3",
   "version": "3.9.13"
  },
  "orig_nbformat": 4,
  "vscode": {
   "interpreter": {
    "hash": "d5a7c1c598bcb4d7f5ba8f47a448935a10229aeac84c783bf7ec06f167058a26"
   }
  }
 },
 "nbformat": 4,
 "nbformat_minor": 2
}
