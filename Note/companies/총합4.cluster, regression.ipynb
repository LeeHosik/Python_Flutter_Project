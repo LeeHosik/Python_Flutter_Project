{
 "cells": [
  {
   "cell_type": "code",
   "execution_count": 61,
   "metadata": {},
   "outputs": [],
   "source": [
    "import numpy as np\n",
    "import pandas as pd\n",
    "import seaborn as sns\n",
    "import matplotlib.pyplot as plt\n",
    "from sklearn import preprocessing\n",
    "from sklearn.cluster import KMeans"
   ]
  },
  {
   "cell_type": "code",
   "execution_count": 62,
   "metadata": {},
   "outputs": [],
   "source": [
    "# warning 숨기기\n",
    "import warnings\n",
    "warnings.filterwarnings('ignore')\n",
    "\n",
    "# 한글 폰트 문제 해결\n",
    "import platform\n",
    "from matplotlib import font_manager, rc\n",
    "plt.rcParams['axes.unicode_minus'] = False\n",
    "if platform.system() == 'Darwin':\n",
    "    rc('font', family='AppleGothic')\n",
    "elif platform.system() == 'Windows':\n",
    "    path = 'c:/Windows/Fonts/malgun.ttf'\n",
    "    font_name = font_manager.FontProperties(fname=path).get_name()\n",
    "    rc('font', family=font_name)\n",
    "else:\n",
    "    print(\"Unknown System\")"
   ]
  },
  {
   "attachments": {},
   "cell_type": "markdown",
   "metadata": {},
   "source": [
    "----\n",
    "# Data Analysis - 03\n",
    "### ML 1st Try"
   ]
  },
  {
   "cell_type": "code",
   "execution_count": 63,
   "metadata": {},
   "outputs": [
    {
     "data": {
      "text/html": [
       "<div>\n",
       "<style scoped>\n",
       "    .dataframe tbody tr th:only-of-type {\n",
       "        vertical-align: middle;\n",
       "    }\n",
       "\n",
       "    .dataframe tbody tr th {\n",
       "        vertical-align: top;\n",
       "    }\n",
       "\n",
       "    .dataframe thead th {\n",
       "        text-align: right;\n",
       "    }\n",
       "</style>\n",
       "<table border=\"1\" class=\"dataframe\">\n",
       "  <thead>\n",
       "    <tr style=\"text-align: right;\">\n",
       "      <th></th>\n",
       "      <th>시도</th>\n",
       "      <th>총인구</th>\n",
       "      <th>전출인구</th>\n",
       "      <th>출생아수</th>\n",
       "      <th>산부인과의원수</th>\n",
       "      <th>초등학생인원수</th>\n",
       "      <th>도매 및 소매업 신생</th>\n",
       "      <th>예금은행대출금액</th>\n",
       "      <th>예금액</th>\n",
       "    </tr>\n",
       "    <tr>\n",
       "      <th>년도</th>\n",
       "      <th></th>\n",
       "      <th></th>\n",
       "      <th></th>\n",
       "      <th></th>\n",
       "      <th></th>\n",
       "      <th></th>\n",
       "      <th></th>\n",
       "      <th></th>\n",
       "      <th></th>\n",
       "    </tr>\n",
       "  </thead>\n",
       "  <tbody>\n",
       "    <tr>\n",
       "      <th>2013</th>\n",
       "      <td>경기도</td>\n",
       "      <td>12234630</td>\n",
       "      <td>1821303</td>\n",
       "      <td>112129</td>\n",
       "      <td>286</td>\n",
       "      <td>739619</td>\n",
       "      <td>49143</td>\n",
       "      <td>248468.3</td>\n",
       "      <td>13718.5</td>\n",
       "    </tr>\n",
       "    <tr>\n",
       "      <th>2013</th>\n",
       "      <td>서울특별시</td>\n",
       "      <td>10143645</td>\n",
       "      <td>1620640</td>\n",
       "      <td>84066</td>\n",
       "      <td>395</td>\n",
       "      <td>469392</td>\n",
       "      <td>48097</td>\n",
       "      <td>462443.1</td>\n",
       "      <td>532689.2</td>\n",
       "    </tr>\n",
       "    <tr>\n",
       "      <th>2013</th>\n",
       "      <td>경상남도</td>\n",
       "      <td>3333820</td>\n",
       "      <td>423864</td>\n",
       "      <td>29504</td>\n",
       "      <td>65</td>\n",
       "      <td>190166</td>\n",
       "      <td>12612</td>\n",
       "      <td>57288.6</td>\n",
       "      <td>6703.3</td>\n",
       "    </tr>\n",
       "    <tr>\n",
       "      <th>2013</th>\n",
       "      <td>부산광역시</td>\n",
       "      <td>3527635</td>\n",
       "      <td>496161</td>\n",
       "      <td>25831</td>\n",
       "      <td>82</td>\n",
       "      <td>160821</td>\n",
       "      <td>13902</td>\n",
       "      <td>77411.6</td>\n",
       "      <td>59554.5</td>\n",
       "    </tr>\n",
       "    <tr>\n",
       "      <th>2013</th>\n",
       "      <td>대구광역시</td>\n",
       "      <td>2501588</td>\n",
       "      <td>363224</td>\n",
       "      <td>19340</td>\n",
       "      <td>86</td>\n",
       "      <td>136309</td>\n",
       "      <td>9981</td>\n",
       "      <td>46578.5</td>\n",
       "      <td>37541.7</td>\n",
       "    </tr>\n",
       "    <tr>\n",
       "      <th>...</th>\n",
       "      <td>...</td>\n",
       "      <td>...</td>\n",
       "      <td>...</td>\n",
       "      <td>...</td>\n",
       "      <td>...</td>\n",
       "      <td>...</td>\n",
       "      <td>...</td>\n",
       "      <td>...</td>\n",
       "      <td>...</td>\n",
       "    </tr>\n",
       "    <tr>\n",
       "      <th>2020</th>\n",
       "      <td>충청북도</td>\n",
       "      <td>1600837</td>\n",
       "      <td>226441</td>\n",
       "      <td>8607</td>\n",
       "      <td>40</td>\n",
       "      <td>85135</td>\n",
       "      <td>6103</td>\n",
       "      <td>28669.1</td>\n",
       "      <td>27669.5</td>\n",
       "    </tr>\n",
       "    <tr>\n",
       "      <th>2020</th>\n",
       "      <td>대전광역시</td>\n",
       "      <td>1463882</td>\n",
       "      <td>243418</td>\n",
       "      <td>7481</td>\n",
       "      <td>44</td>\n",
       "      <td>79807</td>\n",
       "      <td>6405</td>\n",
       "      <td>39341.3</td>\n",
       "      <td>38725.4</td>\n",
       "    </tr>\n",
       "    <tr>\n",
       "      <th>2020</th>\n",
       "      <td>강원도</td>\n",
       "      <td>1542840</td>\n",
       "      <td>217897</td>\n",
       "      <td>7835</td>\n",
       "      <td>32</td>\n",
       "      <td>73478</td>\n",
       "      <td>5554</td>\n",
       "      <td>22831.4</td>\n",
       "      <td>23634.2</td>\n",
       "    </tr>\n",
       "    <tr>\n",
       "      <th>2020</th>\n",
       "      <td>제주특별자치도</td>\n",
       "      <td>674635</td>\n",
       "      <td>94736</td>\n",
       "      <td>3989</td>\n",
       "      <td>23</td>\n",
       "      <td>40575</td>\n",
       "      <td>2856</td>\n",
       "      <td>20182.3</td>\n",
       "      <td>14025.4</td>\n",
       "    </tr>\n",
       "    <tr>\n",
       "      <th>2020</th>\n",
       "      <td>세종특별자치시</td>\n",
       "      <td>355831</td>\n",
       "      <td>65909</td>\n",
       "      <td>3468</td>\n",
       "      <td>7</td>\n",
       "      <td>29487</td>\n",
       "      <td>1361</td>\n",
       "      <td>9864.7</td>\n",
       "      <td>251734.3</td>\n",
       "    </tr>\n",
       "  </tbody>\n",
       "</table>\n",
       "<p>136 rows × 9 columns</p>\n",
       "</div>"
      ],
      "text/plain": [
       "           시도       총인구     전출인구    출생아수  산부인과의원수  초등학생인원수  도매 및 소매업 신생  \\\n",
       "년도                                                                        \n",
       "2013      경기도  12234630  1821303  112129      286   739619        49143   \n",
       "2013    서울특별시  10143645  1620640   84066      395   469392        48097   \n",
       "2013     경상남도   3333820   423864   29504       65   190166        12612   \n",
       "2013    부산광역시   3527635   496161   25831       82   160821        13902   \n",
       "2013    대구광역시   2501588   363224   19340       86   136309         9981   \n",
       "...       ...       ...      ...     ...      ...      ...          ...   \n",
       "2020     충청북도   1600837   226441    8607       40    85135         6103   \n",
       "2020    대전광역시   1463882   243418    7481       44    79807         6405   \n",
       "2020      강원도   1542840   217897    7835       32    73478         5554   \n",
       "2020  제주특별자치도    674635    94736    3989       23    40575         2856   \n",
       "2020  세종특별자치시    355831    65909    3468        7    29487         1361   \n",
       "\n",
       "      예금은행대출금액       예금액  \n",
       "년도                        \n",
       "2013  248468.3   13718.5  \n",
       "2013  462443.1  532689.2  \n",
       "2013   57288.6    6703.3  \n",
       "2013   77411.6   59554.5  \n",
       "2013   46578.5   37541.7  \n",
       "...        ...       ...  \n",
       "2020   28669.1   27669.5  \n",
       "2020   39341.3   38725.4  \n",
       "2020   22831.4   23634.2  \n",
       "2020   20182.3   14025.4  \n",
       "2020    9864.7  251734.3  \n",
       "\n",
       "[136 rows x 9 columns]"
      ]
     },
     "execution_count": 63,
     "metadata": {},
     "output_type": "execute_result"
    }
   ],
   "source": [
    "df = pd.read_csv(\"../../Data/03.통합.csv\", index_col='년도')\n",
    "df"
   ]
  },
  {
   "cell_type": "code",
   "execution_count": 64,
   "metadata": {},
   "outputs": [
    {
     "data": {
      "text/html": [
       "<div>\n",
       "<style scoped>\n",
       "    .dataframe tbody tr th:only-of-type {\n",
       "        vertical-align: middle;\n",
       "    }\n",
       "\n",
       "    .dataframe tbody tr th {\n",
       "        vertical-align: top;\n",
       "    }\n",
       "\n",
       "    .dataframe thead th {\n",
       "        text-align: right;\n",
       "    }\n",
       "</style>\n",
       "<table border=\"1\" class=\"dataframe\">\n",
       "  <thead>\n",
       "    <tr style=\"text-align: right;\">\n",
       "      <th></th>\n",
       "      <th>시도</th>\n",
       "      <th>전출인구</th>\n",
       "      <th>출생아수</th>\n",
       "      <th>산부인과의원수</th>\n",
       "      <th>초등학생인원수</th>\n",
       "      <th>도매 및 소매업 신생</th>\n",
       "      <th>예금은행대출금액</th>\n",
       "      <th>예금액</th>\n",
       "    </tr>\n",
       "    <tr>\n",
       "      <th>년도</th>\n",
       "      <th></th>\n",
       "      <th></th>\n",
       "      <th></th>\n",
       "      <th></th>\n",
       "      <th></th>\n",
       "      <th></th>\n",
       "      <th></th>\n",
       "      <th></th>\n",
       "    </tr>\n",
       "  </thead>\n",
       "  <tbody>\n",
       "    <tr>\n",
       "      <th>2013</th>\n",
       "      <td>경기도</td>\n",
       "      <td>1821303</td>\n",
       "      <td>112129</td>\n",
       "      <td>286</td>\n",
       "      <td>739619</td>\n",
       "      <td>49143</td>\n",
       "      <td>248468.3</td>\n",
       "      <td>13718.5</td>\n",
       "    </tr>\n",
       "    <tr>\n",
       "      <th>2013</th>\n",
       "      <td>서울특별시</td>\n",
       "      <td>1620640</td>\n",
       "      <td>84066</td>\n",
       "      <td>395</td>\n",
       "      <td>469392</td>\n",
       "      <td>48097</td>\n",
       "      <td>462443.1</td>\n",
       "      <td>532689.2</td>\n",
       "    </tr>\n",
       "    <tr>\n",
       "      <th>2013</th>\n",
       "      <td>경상남도</td>\n",
       "      <td>423864</td>\n",
       "      <td>29504</td>\n",
       "      <td>65</td>\n",
       "      <td>190166</td>\n",
       "      <td>12612</td>\n",
       "      <td>57288.6</td>\n",
       "      <td>6703.3</td>\n",
       "    </tr>\n",
       "    <tr>\n",
       "      <th>2013</th>\n",
       "      <td>부산광역시</td>\n",
       "      <td>496161</td>\n",
       "      <td>25831</td>\n",
       "      <td>82</td>\n",
       "      <td>160821</td>\n",
       "      <td>13902</td>\n",
       "      <td>77411.6</td>\n",
       "      <td>59554.5</td>\n",
       "    </tr>\n",
       "    <tr>\n",
       "      <th>2013</th>\n",
       "      <td>대구광역시</td>\n",
       "      <td>363224</td>\n",
       "      <td>19340</td>\n",
       "      <td>86</td>\n",
       "      <td>136309</td>\n",
       "      <td>9981</td>\n",
       "      <td>46578.5</td>\n",
       "      <td>37541.7</td>\n",
       "    </tr>\n",
       "  </tbody>\n",
       "</table>\n",
       "</div>"
      ],
      "text/plain": [
       "         시도     전출인구    출생아수  산부인과의원수  초등학생인원수  도매 및 소매업 신생  예금은행대출금액  \\\n",
       "년도                                                                      \n",
       "2013    경기도  1821303  112129      286   739619        49143  248468.3   \n",
       "2013  서울특별시  1620640   84066      395   469392        48097  462443.1   \n",
       "2013   경상남도   423864   29504       65   190166        12612   57288.6   \n",
       "2013  부산광역시   496161   25831       82   160821        13902   77411.6   \n",
       "2013  대구광역시   363224   19340       86   136309         9981   46578.5   \n",
       "\n",
       "           예금액  \n",
       "년도              \n",
       "2013   13718.5  \n",
       "2013  532689.2  \n",
       "2013    6703.3  \n",
       "2013   59554.5  \n",
       "2013   37541.7  "
      ]
     },
     "execution_count": 64,
     "metadata": {},
     "output_type": "execute_result"
    }
   ],
   "source": [
    "# 총인구 컬럼 제거\n",
    "df.drop(columns='총인구', inplace=True)\n",
    "df.head()"
   ]
  },
  {
   "cell_type": "code",
   "execution_count": 65,
   "metadata": {},
   "outputs": [],
   "source": [
    "# 충북 ()이다 -> 몇년이나 걸릴까? 예측값을 가공해서 년도를 보여주자\n",
    "# 지금이 0.3 이다 ---> 0.8로가는 기간은?\n",
    "# 지금 추세로는 30년이 기간이다"
   ]
  },
  {
   "attachments": {},
   "cell_type": "markdown",
   "metadata": {},
   "source": [
    "### k값 찾기"
   ]
  },
  {
   "cell_type": "code",
   "execution_count": 66,
   "metadata": {},
   "outputs": [
    {
     "data": {
      "image/png": "[encoded data removed]",
      "text/plain": [
       "<Figure size 800x500 with 1 Axes>"
      ]
     },
     "metadata": {},
     "output_type": "display_data"
    }
   ],
   "source": [
    "df_temp = df.copy()\n",
    "df_temp.set_index('시도', inplace=True)\n",
    "# df_km = df_temp[df_temp.columns.difference(['총인구'])] # 총인구 컬럼이 존재할 때 사용한 것임\n",
    "df_km = df_temp\n",
    "# k값 찾기 --------------------------------------------\n",
    "scores = []\n",
    "for k in range(2, 10):\n",
    "    km = KMeans(n_clusters=k, random_state=42)\n",
    "    km.fit(df_km)\n",
    "    scores.append(km.inertia_)\n",
    "# 그래프 그리기 ------------------\n",
    "plt.figure(figsize=(8,5))\n",
    "plt.plot(range(2,10), scores)\n",
    "plt.title('전체 년도의 k값 찾기')\n",
    "plt.show()\n",
    "# -----------------------------"
   ]
  },
  {
   "attachments": {},
   "cell_type": "markdown",
   "metadata": {},
   "source": [
    "----\n",
    "### k값 적용(k=4) -> 데이터프레임 컬럼 추가"
   ]
  },
  {
   "cell_type": "code",
   "execution_count": 67,
   "metadata": {},
   "outputs": [
    {
     "name": "stdout",
     "output_type": "stream",
     "text": [
      "[2 1 3 3 3 3 0 3 0 0 0 0 0 0 0 0 0 2 1 3 3 3 3 0 3 0 0 0 0 0 0 0 0 0 2 1 3\n",
      " 3 3 3 0 3 0 0 0 0 0 0 0 0 0 2 1 3 3 3 3 0 3 0 0 0 0 0 0 0 0 0 2 1 3 3 3 3\n",
      " 0 3 0 0 0 0 0 0 0 0 0 2 1 3 3 3 3 0 3 0 0 0 0 0 0 0 0 0 2 1 3 3 3 3 0 3 0\n",
      " 0 0 0 0 0 0 0 0 2 1 3 3 3 3 0 3 0 0 0 0 0 0 0 0 0]\n"
     ]
    },
    {
     "data": {
      "text/plain": [
       "array([[1.95049262e+05, 1.01237875e+04, 3.37125000e+01, 7.75759125e+04,\n",
       "        5.29692500e+03, 2.30497900e+04, 3.85136163e+04],\n",
       "       [1.61312862e+06, 6.88623750e+04, 3.90250000e+02, 4.37333375e+05,\n",
       "        4.58475000e+04, 5.71485213e+05, 6.76193713e+05],\n",
       "       [1.85165600e+06, 9.83292500e+04, 2.71375000e+02, 7.43822500e+05,\n",
       "        5.25488750e+04, 3.22522750e+05, 2.05947125e+04],\n",
       "       [4.03589850e+05, 2.07180750e+04, 6.76250000e+01, 1.51779725e+05,\n",
       "        1.13792750e+04, 7.19181200e+04, 4.38354200e+04]])"
      ]
     },
     "execution_count": 67,
     "metadata": {},
     "output_type": "execute_result"
    }
   ],
   "source": [
    "data_points = df_km.values\n",
    "km = KMeans(n_clusters=4).fit(data_points) # n_clusters 에 값을 정해주기!\n",
    "\n",
    "print(km.labels_)\n",
    "# 각 군집의 중심위치\n",
    "km.cluster_centers_"
   ]
  },
  {
   "cell_type": "code",
   "execution_count": 68,
   "metadata": {},
   "outputs": [
    {
     "data": {
      "text/html": [
       "<div>\n",
       "<style scoped>\n",
       "    .dataframe tbody tr th:only-of-type {\n",
       "        vertical-align: middle;\n",
       "    }\n",
       "\n",
       "    .dataframe tbody tr th {\n",
       "        vertical-align: top;\n",
       "    }\n",
       "\n",
       "    .dataframe thead th {\n",
       "        text-align: right;\n",
       "    }\n",
       "</style>\n",
       "<table border=\"1\" class=\"dataframe\">\n",
       "  <thead>\n",
       "    <tr style=\"text-align: right;\">\n",
       "      <th></th>\n",
       "      <th>전출인구</th>\n",
       "      <th>출생아수</th>\n",
       "      <th>산부인과의원수</th>\n",
       "      <th>초등학생인원수</th>\n",
       "      <th>도매 및 소매업 신생</th>\n",
       "      <th>예금은행대출금액</th>\n",
       "      <th>예금액</th>\n",
       "      <th>cluster_id</th>\n",
       "    </tr>\n",
       "    <tr>\n",
       "      <th>시도</th>\n",
       "      <th></th>\n",
       "      <th></th>\n",
       "      <th></th>\n",
       "      <th></th>\n",
       "      <th></th>\n",
       "      <th></th>\n",
       "      <th></th>\n",
       "      <th></th>\n",
       "    </tr>\n",
       "  </thead>\n",
       "  <tbody>\n",
       "    <tr>\n",
       "      <th>경기도</th>\n",
       "      <td>1821303</td>\n",
       "      <td>112129</td>\n",
       "      <td>286</td>\n",
       "      <td>739619</td>\n",
       "      <td>49143</td>\n",
       "      <td>248468.3</td>\n",
       "      <td>13718.5</td>\n",
       "      <td>2</td>\n",
       "    </tr>\n",
       "    <tr>\n",
       "      <th>서울특별시</th>\n",
       "      <td>1620640</td>\n",
       "      <td>84066</td>\n",
       "      <td>395</td>\n",
       "      <td>469392</td>\n",
       "      <td>48097</td>\n",
       "      <td>462443.1</td>\n",
       "      <td>532689.2</td>\n",
       "      <td>1</td>\n",
       "    </tr>\n",
       "    <tr>\n",
       "      <th>경상남도</th>\n",
       "      <td>423864</td>\n",
       "      <td>29504</td>\n",
       "      <td>65</td>\n",
       "      <td>190166</td>\n",
       "      <td>12612</td>\n",
       "      <td>57288.6</td>\n",
       "      <td>6703.3</td>\n",
       "      <td>3</td>\n",
       "    </tr>\n",
       "    <tr>\n",
       "      <th>부산광역시</th>\n",
       "      <td>496161</td>\n",
       "      <td>25831</td>\n",
       "      <td>82</td>\n",
       "      <td>160821</td>\n",
       "      <td>13902</td>\n",
       "      <td>77411.6</td>\n",
       "      <td>59554.5</td>\n",
       "      <td>3</td>\n",
       "    </tr>\n",
       "    <tr>\n",
       "      <th>대구광역시</th>\n",
       "      <td>363224</td>\n",
       "      <td>19340</td>\n",
       "      <td>86</td>\n",
       "      <td>136309</td>\n",
       "      <td>9981</td>\n",
       "      <td>46578.5</td>\n",
       "      <td>37541.7</td>\n",
       "      <td>3</td>\n",
       "    </tr>\n",
       "    <tr>\n",
       "      <th>...</th>\n",
       "      <td>...</td>\n",
       "      <td>...</td>\n",
       "      <td>...</td>\n",
       "      <td>...</td>\n",
       "      <td>...</td>\n",
       "      <td>...</td>\n",
       "      <td>...</td>\n",
       "      <td>...</td>\n",
       "    </tr>\n",
       "    <tr>\n",
       "      <th>충청북도</th>\n",
       "      <td>226441</td>\n",
       "      <td>8607</td>\n",
       "      <td>40</td>\n",
       "      <td>85135</td>\n",
       "      <td>6103</td>\n",
       "      <td>28669.1</td>\n",
       "      <td>27669.5</td>\n",
       "      <td>0</td>\n",
       "    </tr>\n",
       "    <tr>\n",
       "      <th>대전광역시</th>\n",
       "      <td>243418</td>\n",
       "      <td>7481</td>\n",
       "      <td>44</td>\n",
       "      <td>79807</td>\n",
       "      <td>6405</td>\n",
       "      <td>39341.3</td>\n",
       "      <td>38725.4</td>\n",
       "      <td>0</td>\n",
       "    </tr>\n",
       "    <tr>\n",
       "      <th>강원도</th>\n",
       "      <td>217897</td>\n",
       "      <td>7835</td>\n",
       "      <td>32</td>\n",
       "      <td>73478</td>\n",
       "      <td>5554</td>\n",
       "      <td>22831.4</td>\n",
       "      <td>23634.2</td>\n",
       "      <td>0</td>\n",
       "    </tr>\n",
       "    <tr>\n",
       "      <th>제주특별자치도</th>\n",
       "      <td>94736</td>\n",
       "      <td>3989</td>\n",
       "      <td>23</td>\n",
       "      <td>40575</td>\n",
       "      <td>2856</td>\n",
       "      <td>20182.3</td>\n",
       "      <td>14025.4</td>\n",
       "      <td>0</td>\n",
       "    </tr>\n",
       "    <tr>\n",
       "      <th>세종특별자치시</th>\n",
       "      <td>65909</td>\n",
       "      <td>3468</td>\n",
       "      <td>7</td>\n",
       "      <td>29487</td>\n",
       "      <td>1361</td>\n",
       "      <td>9864.7</td>\n",
       "      <td>251734.3</td>\n",
       "      <td>0</td>\n",
       "    </tr>\n",
       "  </tbody>\n",
       "</table>\n",
       "<p>136 rows × 8 columns</p>\n",
       "</div>"
      ],
      "text/plain": [
       "            전출인구    출생아수  산부인과의원수  초등학생인원수  도매 및 소매업 신생  예금은행대출금액       예금액  \\\n",
       "시도                                                                            \n",
       "경기도      1821303  112129      286   739619        49143  248468.3   13718.5   \n",
       "서울특별시    1620640   84066      395   469392        48097  462443.1  532689.2   \n",
       "경상남도      423864   29504       65   190166        12612   57288.6    6703.3   \n",
       "부산광역시     496161   25831       82   160821        13902   77411.6   59554.5   \n",
       "대구광역시     363224   19340       86   136309         9981   46578.5   37541.7   \n",
       "...          ...     ...      ...      ...          ...       ...       ...   \n",
       "충청북도      226441    8607       40    85135         6103   28669.1   27669.5   \n",
       "대전광역시     243418    7481       44    79807         6405   39341.3   38725.4   \n",
       "강원도       217897    7835       32    73478         5554   22831.4   23634.2   \n",
       "제주특별자치도    94736    3989       23    40575         2856   20182.3   14025.4   \n",
       "세종특별자치시    65909    3468        7    29487         1361    9864.7  251734.3   \n",
       "\n",
       "         cluster_id  \n",
       "시도                   \n",
       "경기도               2  \n",
       "서울특별시             1  \n",
       "경상남도              3  \n",
       "부산광역시             3  \n",
       "대구광역시             3  \n",
       "...             ...  \n",
       "충청북도              0  \n",
       "대전광역시             0  \n",
       "강원도               0  \n",
       "제주특별자치도           0  \n",
       "세종특별자치시           0  \n",
       "\n",
       "[136 rows x 8 columns]"
      ]
     },
     "execution_count": 68,
     "metadata": {},
     "output_type": "execute_result"
    }
   ],
   "source": [
    "# 데이터가 어느 군집에 소속되어 있는지 정하기\n",
    "df_km['cluster_id'] = km.labels_\n",
    "df_km"
   ]
  },
  {
   "cell_type": "code",
   "execution_count": 69,
   "metadata": {},
   "outputs": [
    {
     "data": {
      "image/png": "[encoded data removed]",
      "text/plain": [
       "<Figure size 569.361x500 with 1 Axes>"
      ]
     },
     "metadata": {},
     "output_type": "display_data"
    }
   ],
   "source": [
    "sns.lmplot(x='출생아수', y='전출인구',\n",
    "            data=df_km, fit_reg=False,\n",
    "            scatter_kws={'s':200},\n",
    "            hue=\"cluster_id\"\n",
    ")\n",
    "plt.show()"
   ]
  },
  {
   "attachments": {},
   "cell_type": "markdown",
   "metadata": {},
   "source": [
    "----\n",
    "# Classification"
   ]
  },
  {
   "attachments": {},
   "cell_type": "markdown",
   "metadata": {},
   "source": [
    "### Feature, Target"
   ]
  },
  {
   "cell_type": "code",
   "execution_count": 70,
   "metadata": {},
   "outputs": [],
   "source": [
    "# Feature, Target\n",
    "data = df_km[['전출인구', '출생아수', '산부인과의원수', '초등학생인원수', '도매 및 소매업 신생', '예금은행대출금액', '예금액']].to_numpy()\n",
    "target = df_km['cluster_id'].to_numpy()"
   ]
  },
  {
   "attachments": {},
   "cell_type": "markdown",
   "metadata": {},
   "source": [
    "----\n",
    "### 검증 세트 추가\n",
    "- 훈련(60%), 검증(20%), 테스트(20%)"
   ]
  },
  {
   "cell_type": "code",
   "execution_count": 71,
   "metadata": {},
   "outputs": [],
   "source": [
    "from sklearn.model_selection import train_test_split\n",
    "train_input, test_input, train_target, test_target = \\\n",
    "    train_test_split(data, target, test_size=0.2, stratify=target) # random_state=42"
   ]
  },
  {
   "cell_type": "code",
   "execution_count": 72,
   "metadata": {},
   "outputs": [],
   "source": [
    "sub_input, val_input, sub_target, val_target = \\\n",
    "    train_test_split(train_input, train_target, test_size=0.2, stratify=train_target) # random_state=42"
   ]
  },
  {
   "cell_type": "code",
   "execution_count": 73,
   "metadata": {},
   "outputs": [
    {
     "name": "stdout",
     "output_type": "stream",
     "text": [
      "Train : (86, 7)\n",
      "Valid : (22, 7)\n",
      "Test  : (28, 7)\n"
     ]
    }
   ],
   "source": [
    "# 세트 별 크기\n",
    "print(\"Train :\", sub_input.shape)\n",
    "print(\"Valid :\", val_input.shape)\n",
    "print(\"Test  :\", test_input.shape)"
   ]
  },
  {
   "attachments": {},
   "cell_type": "markdown",
   "metadata": {},
   "source": [
    "----\n",
    "### Decision Model"
   ]
  },
  {
   "cell_type": "code",
   "execution_count": 74,
   "metadata": {},
   "outputs": [
    {
     "name": "stdout",
     "output_type": "stream",
     "text": [
      "Train score : 1.0\n",
      "Valid score : 1.0\n"
     ]
    }
   ],
   "source": [
    "# 모델 tree\n",
    "from sklearn.tree import DecisionTreeClassifier\n",
    "dt = DecisionTreeClassifier()  # random_state=42\n",
    "dt.fit(sub_input, sub_target)\n",
    "\n",
    "print(\"Train score :\", dt.score(sub_input, sub_target))\n",
    "print(\"Valid score :\", dt.score(val_input, val_target))"
   ]
  },
  {
   "cell_type": "code",
   "execution_count": 75,
   "metadata": {},
   "outputs": [
    {
     "data": {
      "text/plain": [
       "{'fit_time': array([0.00131774, 0.00061011, 0.00046587, 0.00040817, 0.000386  ]),\n",
       " 'score_time': array([0.00050402, 0.00032187, 0.00023794, 0.00022078, 0.00021696]),\n",
       " 'test_score': array([0.95454545, 1.        , 1.        , 0.95238095, 1.        ])}"
      ]
     },
     "execution_count": 75,
     "metadata": {},
     "output_type": "execute_result"
    }
   ],
   "source": [
    "# 교차 검증\n",
    "from sklearn.model_selection import cross_validate\n",
    "scores = cross_validate(dt, train_input, train_target)\n",
    "scores"
   ]
  },
  {
   "cell_type": "code",
   "execution_count": 76,
   "metadata": {},
   "outputs": [
    {
     "data": {
      "text/plain": [
       "0.9813852813852814"
      ]
     },
     "execution_count": 76,
     "metadata": {},
     "output_type": "execute_result"
    }
   ],
   "source": [
    "# 교차검증 후의 정확도 판단\n",
    "import numpy as np\n",
    "np.mean(scores['test_score'])"
   ]
  },
  {
   "cell_type": "code",
   "execution_count": 77,
   "metadata": {},
   "outputs": [
    {
     "data": {
      "text/plain": [
       "array([3, 0, 0, 0, 3, 2, 0, 3, 2, 0, 0, 3, 0, 0, 0, 0, 0, 0, 0, 3, 0, 0,\n",
       "       0, 0, 0, 1, 3, 1, 3, 0, 0, 3, 0, 1, 3, 3, 0, 3, 0, 0, 0, 0, 0, 3,\n",
       "       3, 2, 0, 0, 0, 0, 0, 3, 0, 0, 0, 0, 2, 3, 1, 0, 0, 0, 0, 0, 0, 3,\n",
       "       0, 0, 3, 3, 3, 0, 0, 2, 3, 1, 0, 0, 0, 3, 0, 0, 1, 0, 3, 3, 0, 0,\n",
       "       3, 0, 0, 0, 3, 3, 3, 2, 0, 3, 0, 0, 3, 0, 3, 3, 3, 0, 0, 0],\n",
       "      dtype=int32)"
      ]
     },
     "execution_count": 77,
     "metadata": {},
     "output_type": "execute_result"
    }
   ],
   "source": [
    "dt.predict(train_input)"
   ]
  },
  {
   "attachments": {},
   "cell_type": "markdown",
   "metadata": {},
   "source": [
    "----\n",
    "### Random Forest"
   ]
  },
  {
   "cell_type": "code",
   "execution_count": 78,
   "metadata": {},
   "outputs": [
    {
     "name": "stdout",
     "output_type": "stream",
     "text": [
      "Train score : 1.0\n",
      "Valid score : 1.0\n"
     ]
    }
   ],
   "source": [
    "# RandomForest\n",
    "from sklearn.model_selection import cross_validate\n",
    "from sklearn.ensemble import RandomForestClassifier\n",
    "\n",
    "rf = RandomForestClassifier(n_jobs=-1) # default:100 # random_state=42\n",
    "rf.fit(sub_input, sub_target)\n",
    "\n",
    "print(\"Train score :\", rf.score(sub_input, sub_target))\n",
    "print(\"Valid score :\", rf.score(val_input, val_target))"
   ]
  },
  {
   "cell_type": "code",
   "execution_count": 79,
   "metadata": {},
   "outputs": [
    {
     "data": {
      "text/plain": [
       "{'fit_time': array([2.06898618, 0.0711422 , 0.06316614, 0.05644703, 0.05414581]),\n",
       " 'score_time': array([0.01615191, 0.0099957 , 0.00809979, 0.00840187, 0.00797534]),\n",
       " 'test_score': array([1., 1., 1., 1., 1.])}"
      ]
     },
     "execution_count": 79,
     "metadata": {},
     "output_type": "execute_result"
    }
   ],
   "source": [
    "# 교차 검증\n",
    "from sklearn.model_selection import cross_validate\n",
    "scores = cross_validate(rf, train_input, train_target)\n",
    "scores"
   ]
  },
  {
   "cell_type": "code",
   "execution_count": 80,
   "metadata": {},
   "outputs": [
    {
     "data": {
      "text/plain": [
       "1.0"
      ]
     },
     "execution_count": 80,
     "metadata": {},
     "output_type": "execute_result"
    }
   ],
   "source": [
    "# 교차검증 후의 정확도 판단\n",
    "import numpy as np\n",
    "np.mean(scores['test_score'])"
   ]
  },
  {
   "cell_type": "code",
   "execution_count": 81,
   "metadata": {},
   "outputs": [
    {
     "data": {
      "text/plain": [
       "array([0, 0, 0, 0, 0, 3, 0, 0, 0, 0, 0, 0, 1, 2, 3, 1, 0, 0, 3, 0, 3, 2,\n",
       "       3, 0, 0, 3, 3, 3], dtype=int32)"
      ]
     },
     "execution_count": 81,
     "metadata": {},
     "output_type": "execute_result"
    }
   ],
   "source": [
    "rf.predict(test_input)"
   ]
  },
  {
   "attachments": {},
   "cell_type": "markdown",
   "metadata": {},
   "source": [
    "> ## Classfication 정확도가 높으므로 Regression으로 시도해보자"
   ]
  },
  {
   "cell_type": "code",
   "execution_count": 84,
   "metadata": {},
   "outputs": [],
   "source": [
    "df_km.to_csv(\"../../Data/companies/통합_k.csv\", index=False)"
   ]
  },
  {
   "cell_type": "code",
   "execution_count": 83,
   "metadata": {},
   "outputs": [
    {
     "data": {
      "text/html": [
       "<div>\n",
       "<style scoped>\n",
       "    .dataframe tbody tr th:only-of-type {\n",
       "        vertical-align: middle;\n",
       "    }\n",
       "\n",
       "    .dataframe tbody tr th {\n",
       "        vertical-align: top;\n",
       "    }\n",
       "\n",
       "    .dataframe thead th {\n",
       "        text-align: right;\n",
       "    }\n",
       "</style>\n",
       "<table border=\"1\" class=\"dataframe\">\n",
       "  <thead>\n",
       "    <tr style=\"text-align: right;\">\n",
       "      <th></th>\n",
       "      <th>전출인구</th>\n",
       "      <th>출생아수</th>\n",
       "      <th>산부인과의원수</th>\n",
       "      <th>초등학생인원수</th>\n",
       "      <th>도매 및 소매업 신생</th>\n",
       "      <th>예금은행대출금액</th>\n",
       "      <th>예금액</th>\n",
       "      <th>cluster_id</th>\n",
       "    </tr>\n",
       "    <tr>\n",
       "      <th>시도</th>\n",
       "      <th></th>\n",
       "      <th></th>\n",
       "      <th></th>\n",
       "      <th></th>\n",
       "      <th></th>\n",
       "      <th></th>\n",
       "      <th></th>\n",
       "      <th></th>\n",
       "    </tr>\n",
       "  </thead>\n",
       "  <tbody>\n",
       "    <tr>\n",
       "      <th>경기도</th>\n",
       "      <td>1821303</td>\n",
       "      <td>112129</td>\n",
       "      <td>286</td>\n",
       "      <td>739619</td>\n",
       "      <td>49143</td>\n",
       "      <td>248468.3</td>\n",
       "      <td>13718.5</td>\n",
       "      <td>2</td>\n",
       "    </tr>\n",
       "    <tr>\n",
       "      <th>서울특별시</th>\n",
       "      <td>1620640</td>\n",
       "      <td>84066</td>\n",
       "      <td>395</td>\n",
       "      <td>469392</td>\n",
       "      <td>48097</td>\n",
       "      <td>462443.1</td>\n",
       "      <td>532689.2</td>\n",
       "      <td>1</td>\n",
       "    </tr>\n",
       "    <tr>\n",
       "      <th>경상남도</th>\n",
       "      <td>423864</td>\n",
       "      <td>29504</td>\n",
       "      <td>65</td>\n",
       "      <td>190166</td>\n",
       "      <td>12612</td>\n",
       "      <td>57288.6</td>\n",
       "      <td>6703.3</td>\n",
       "      <td>3</td>\n",
       "    </tr>\n",
       "    <tr>\n",
       "      <th>부산광역시</th>\n",
       "      <td>496161</td>\n",
       "      <td>25831</td>\n",
       "      <td>82</td>\n",
       "      <td>160821</td>\n",
       "      <td>13902</td>\n",
       "      <td>77411.6</td>\n",
       "      <td>59554.5</td>\n",
       "      <td>3</td>\n",
       "    </tr>\n",
       "    <tr>\n",
       "      <th>대구광역시</th>\n",
       "      <td>363224</td>\n",
       "      <td>19340</td>\n",
       "      <td>86</td>\n",
       "      <td>136309</td>\n",
       "      <td>9981</td>\n",
       "      <td>46578.5</td>\n",
       "      <td>37541.7</td>\n",
       "      <td>3</td>\n",
       "    </tr>\n",
       "    <tr>\n",
       "      <th>...</th>\n",
       "      <td>...</td>\n",
       "      <td>...</td>\n",
       "      <td>...</td>\n",
       "      <td>...</td>\n",
       "      <td>...</td>\n",
       "      <td>...</td>\n",
       "      <td>...</td>\n",
       "      <td>...</td>\n",
       "    </tr>\n",
       "    <tr>\n",
       "      <th>충청북도</th>\n",
       "      <td>226441</td>\n",
       "      <td>8607</td>\n",
       "      <td>40</td>\n",
       "      <td>85135</td>\n",
       "      <td>6103</td>\n",
       "      <td>28669.1</td>\n",
       "      <td>27669.5</td>\n",
       "      <td>0</td>\n",
       "    </tr>\n",
       "    <tr>\n",
       "      <th>대전광역시</th>\n",
       "      <td>243418</td>\n",
       "      <td>7481</td>\n",
       "      <td>44</td>\n",
       "      <td>79807</td>\n",
       "      <td>6405</td>\n",
       "      <td>39341.3</td>\n",
       "      <td>38725.4</td>\n",
       "      <td>0</td>\n",
       "    </tr>\n",
       "    <tr>\n",
       "      <th>강원도</th>\n",
       "      <td>217897</td>\n",
       "      <td>7835</td>\n",
       "      <td>32</td>\n",
       "      <td>73478</td>\n",
       "      <td>5554</td>\n",
       "      <td>22831.4</td>\n",
       "      <td>23634.2</td>\n",
       "      <td>0</td>\n",
       "    </tr>\n",
       "    <tr>\n",
       "      <th>제주특별자치도</th>\n",
       "      <td>94736</td>\n",
       "      <td>3989</td>\n",
       "      <td>23</td>\n",
       "      <td>40575</td>\n",
       "      <td>2856</td>\n",
       "      <td>20182.3</td>\n",
       "      <td>14025.4</td>\n",
       "      <td>0</td>\n",
       "    </tr>\n",
       "    <tr>\n",
       "      <th>세종특별자치시</th>\n",
       "      <td>65909</td>\n",
       "      <td>3468</td>\n",
       "      <td>7</td>\n",
       "      <td>29487</td>\n",
       "      <td>1361</td>\n",
       "      <td>9864.7</td>\n",
       "      <td>251734.3</td>\n",
       "      <td>0</td>\n",
       "    </tr>\n",
       "  </tbody>\n",
       "</table>\n",
       "<p>136 rows × 8 columns</p>\n",
       "</div>"
      ],
      "text/plain": [
       "            전출인구    출생아수  산부인과의원수  초등학생인원수  도매 및 소매업 신생  예금은행대출금액       예금액  \\\n",
       "시도                                                                            \n",
       "경기도      1821303  112129      286   739619        49143  248468.3   13718.5   \n",
       "서울특별시    1620640   84066      395   469392        48097  462443.1  532689.2   \n",
       "경상남도      423864   29504       65   190166        12612   57288.6    6703.3   \n",
       "부산광역시     496161   25831       82   160821        13902   77411.6   59554.5   \n",
       "대구광역시     363224   19340       86   136309         9981   46578.5   37541.7   \n",
       "...          ...     ...      ...      ...          ...       ...       ...   \n",
       "충청북도      226441    8607       40    85135         6103   28669.1   27669.5   \n",
       "대전광역시     243418    7481       44    79807         6405   39341.3   38725.4   \n",
       "강원도       217897    7835       32    73478         5554   22831.4   23634.2   \n",
       "제주특별자치도    94736    3989       23    40575         2856   20182.3   14025.4   \n",
       "세종특별자치시    65909    3468        7    29487         1361    9864.7  251734.3   \n",
       "\n",
       "         cluster_id  \n",
       "시도                   \n",
       "경기도               2  \n",
       "서울특별시             1  \n",
       "경상남도              3  \n",
       "부산광역시             3  \n",
       "대구광역시             3  \n",
       "...             ...  \n",
       "충청북도              0  \n",
       "대전광역시             0  \n",
       "강원도               0  \n",
       "제주특별자치도           0  \n",
       "세종특별자치시           0  \n",
       "\n",
       "[136 rows x 8 columns]"
      ]
     },
     "execution_count": 83,
     "metadata": {},
     "output_type": "execute_result"
    }
   ],
   "source": [
    "df_km"
   ]
  },
  {
   "attachments": {},
   "cell_type": "markdown",
   "metadata": {},
   "source": [
    "----\n",
    "----\n",
    "# Regression\n",
    "1. cluster_id : [0, 1, 2, 3] -> [0 ~ 1] 변환\n",
    "2. Regression 진행"
   ]
  },
  {
   "attachments": {},
   "cell_type": "markdown",
   "metadata": {},
   "source": [
    "### cluster_id : [0, 1, 2, 3] -> [0 ~ 1] 변환"
   ]
  },
  {
   "cell_type": "code",
   "execution_count": 37,
   "metadata": {},
   "outputs": [
    {
     "data": {
      "text/plain": [
       "array([0.  , 0.33, 0.67, 1.  ])"
      ]
     },
     "execution_count": 37,
     "metadata": {},
     "output_type": "execute_result"
    }
   ],
   "source": [
    "df_km['cluster_id'] = df_km['cluster_id'] + 10\n",
    "df_km_temp = df_km.sort_values(by='전출인구', ascending=True)\n",
    "temp_list = df_km_temp['cluster_id'].unique()\n",
    "\n",
    "i = 3\n",
    "for temp in temp_list:\n",
    "    df_km['cluster_id'][df_km['cluster_id'] == temp] = i\n",
    "    i-=1\n",
    "df_km['cluster_id'] = np.round(df_km['cluster_id'] / 3, 2)\n",
    "df_km['cluster_id'].unique()"
   ]
  },
  {
   "cell_type": "code",
   "execution_count": 59,
   "metadata": {},
   "outputs": [],
   "source": [
    "# df_km.to_csv(\"../../Data/companies/통합_k.csv\", index=False)"
   ]
  },
  {
   "cell_type": "code",
   "execution_count": 38,
   "metadata": {},
   "outputs": [
    {
     "data": {
      "image/png": "[encoded data removed]",
      "text/plain": [
       "<Figure size 583x500 with 1 Axes>"
      ]
     },
     "metadata": {},
     "output_type": "display_data"
    }
   ],
   "source": [
    "sns.lmplot(x='출생아수', y='전출인구',\n",
    "            data=df_km, fit_reg=False,\n",
    "            scatter_kws={'s':200},\n",
    "            hue=\"cluster_id\"\n",
    ")\n",
    "plt.show()"
   ]
  },
  {
   "cell_type": "code",
   "execution_count": 39,
   "metadata": {},
   "outputs": [],
   "source": [
    "# Feature, Target\n",
    "data = df_km[['전출인구', '출생아수', '산부인과의원수', '초등학생인원수', '도매 및 소매업 신생', '예금은행대출금액', '예금액']].to_numpy()\n",
    "target = df_km['cluster_id'].to_numpy()"
   ]
  },
  {
   "attachments": {},
   "cell_type": "markdown",
   "metadata": {},
   "source": [
    "----\n",
    "### 검증 세트 추가\n",
    "- 훈련(60%), 검증(20%), 테스트(20%)"
   ]
  },
  {
   "cell_type": "code",
   "execution_count": 40,
   "metadata": {},
   "outputs": [],
   "source": [
    "from sklearn.model_selection import train_test_split\n",
    "train_input, test_input, train_target, test_target = \\\n",
    "    train_test_split(data, target, test_size=0.2) # random_state=42,  stratify=target"
   ]
  },
  {
   "cell_type": "code",
   "execution_count": 41,
   "metadata": {},
   "outputs": [],
   "source": [
    "sub_input, val_input, sub_target, val_target = \\\n",
    "    train_test_split(train_input, train_target, test_size=0.2, stratify=train_target) # random_state=42"
   ]
  },
  {
   "cell_type": "code",
   "execution_count": 42,
   "metadata": {},
   "outputs": [
    {
     "name": "stdout",
     "output_type": "stream",
     "text": [
      "Train : (86, 7)\n",
      "Valid : (22, 7)\n",
      "Test  : (28, 7)\n"
     ]
    }
   ],
   "source": [
    "# 세트 별 크기\n",
    "print(\"Train :\", sub_input.shape)\n",
    "print(\"Valid :\", val_input.shape)\n",
    "print(\"Test  :\", test_input.shape)"
   ]
  },
  {
   "attachments": {},
   "cell_type": "markdown",
   "metadata": {},
   "source": [
    "----\n",
    "### Decision Model"
   ]
  },
  {
   "cell_type": "code",
   "execution_count": 43,
   "metadata": {},
   "outputs": [
    {
     "name": "stdout",
     "output_type": "stream",
     "text": [
      "Train score : 1.0\n",
      "Valid score : 1.0\n"
     ]
    }
   ],
   "source": [
    "# 모델 tree\n",
    "from sklearn.tree import DecisionTreeRegressor\n",
    "dt = DecisionTreeRegressor()  # random_state=42\n",
    "dt.fit(sub_input, sub_target)\n",
    "\n",
    "print(\"Train score :\", dt.score(sub_input, sub_target))\n",
    "print(\"Valid score :\", dt.score(val_input, val_target))"
   ]
  },
  {
   "cell_type": "code",
   "execution_count": 44,
   "metadata": {},
   "outputs": [
    {
     "data": {
      "text/plain": [
       "{'fit_time': array([0.00135803, 0.00079226, 0.00048113, 0.00041103, 0.00039029]),\n",
       " 'score_time': array([0.00063109, 0.00028801, 0.0002408 , 0.000211  , 0.00020385]),\n",
       " 'test_score': array([0.85241221, 1.        , 0.83073217, 0.90765671, 1.        ])}"
      ]
     },
     "execution_count": 44,
     "metadata": {},
     "output_type": "execute_result"
    }
   ],
   "source": [
    "# 교차 검증\n",
    "from sklearn.model_selection import cross_validate\n",
    "scores = cross_validate(dt, train_input, train_target)\n",
    "scores"
   ]
  },
  {
   "cell_type": "code",
   "execution_count": 45,
   "metadata": {},
   "outputs": [
    {
     "data": {
      "text/plain": [
       "0.9181602171914125"
      ]
     },
     "execution_count": 45,
     "metadata": {},
     "output_type": "execute_result"
    }
   ],
   "source": [
    "# 교차검증 후의 정확도 판단\n",
    "import numpy as np\n",
    "np.mean(scores['test_score'])"
   ]
  },
  {
   "cell_type": "code",
   "execution_count": 46,
   "metadata": {},
   "outputs": [
    {
     "data": {
      "text/plain": [
       "array([1.  , 1.  , 0.67, 0.67, 1.  , 1.  , 1.  , 1.  , 0.67, 1.  , 0.67,\n",
       "       0.67, 0.67, 0.  , 1.  , 0.33, 1.  , 1.  , 1.  , 0.67, 0.67, 1.  ,\n",
       "       0.  , 0.67, 1.  , 0.33, 1.  , 0.67, 0.33, 0.  , 1.  , 0.67, 0.67,\n",
       "       0.  , 1.  , 1.  , 0.67, 1.  , 1.  , 0.67, 0.67, 0.33, 1.  , 1.  ,\n",
       "       1.  , 1.  , 1.  , 1.  , 1.  , 0.67, 1.  , 0.67, 1.  , 1.  , 1.  ,\n",
       "       0.33, 1.  , 0.67, 0.67, 0.33, 1.  , 0.33, 1.  , 1.  , 1.  , 0.  ,\n",
       "       1.  , 1.  , 1.  , 1.  , 1.  , 1.  , 0.67, 1.  , 0.  , 0.67, 1.  ,\n",
       "       1.  , 1.  , 1.  , 1.  , 0.67, 1.  , 1.  , 1.  , 0.67, 1.  , 0.67,\n",
       "       0.67, 1.  , 0.67, 1.  , 0.67, 1.  , 1.  , 0.67, 1.  , 1.  , 0.67,\n",
       "       1.  , 1.  , 0.  , 1.  , 1.  , 1.  , 1.  , 1.  , 1.  ])"
      ]
     },
     "execution_count": 46,
     "metadata": {},
     "output_type": "execute_result"
    }
   ],
   "source": [
    "dt.predict(train_input)"
   ]
  },
  {
   "cell_type": "markdown",
   "metadata": {},
   "source": [
    "----\n",
    "### Random Forest"
   ]
  },
  {
   "cell_type": "code",
   "execution_count": 47,
   "metadata": {},
   "outputs": [
    {
     "name": "stdout",
     "output_type": "stream",
     "text": [
      "Train score : 0.9988430395207536\n",
      "Valid score : 0.9995587491992313\n"
     ]
    }
   ],
   "source": [
    "# RandomForest\n",
    "from sklearn.model_selection import cross_validate\n",
    "from sklearn.ensemble import RandomForestRegressor\n",
    "\n",
    "rf = RandomForestRegressor(n_jobs=-1) # default:100 # random_state=42\n",
    "rf.fit(sub_input, sub_target)\n",
    "\n",
    "print(\"Train score :\", rf.score(sub_input, sub_target))\n",
    "print(\"Valid score :\", rf.score(val_input, val_target))"
   ]
  },
  {
   "cell_type": "code",
   "execution_count": 48,
   "metadata": {},
   "outputs": [
    {
     "data": {
      "text/plain": [
       "{'fit_time': array([0.10172582, 0.09222507, 0.08560991, 0.08381534, 0.0754509 ]),\n",
       " 'score_time': array([0.01402307, 0.01058578, 0.01118684, 0.01218677, 0.01102901]),\n",
       " 'test_score': array([0.99314074, 0.99632986, 0.98071474, 0.98363677, 0.99943361])}"
      ]
     },
     "execution_count": 48,
     "metadata": {},
     "output_type": "execute_result"
    }
   ],
   "source": [
    "# 교차 검증\n",
    "from sklearn.model_selection import cross_validate\n",
    "scores = cross_validate(rf, train_input, train_target)\n",
    "scores"
   ]
  },
  {
   "cell_type": "code",
   "execution_count": 49,
   "metadata": {},
   "outputs": [
    {
     "data": {
      "text/plain": [
       "0.990651142930294"
      ]
     },
     "execution_count": 49,
     "metadata": {},
     "output_type": "execute_result"
    }
   ],
   "source": [
    "# 교차검증 후의 정확도 판단\n",
    "import numpy as np\n",
    "np.mean(scores['test_score'])"
   ]
  },
  {
   "cell_type": "code",
   "execution_count": 50,
   "metadata": {},
   "outputs": [
    {
     "data": {
      "text/plain": [
       "array([0.6799, 1.    , 0.67  , 0.67  , 0.6832, 0.67  , 1.    , 1.    ,\n",
       "       0.67  , 0.67  , 0.    , 1.    , 1.    , 1.    , 0.67  , 0.2607,\n",
       "       0.6832, 0.9769, 1.    , 1.    , 1.    , 0.67  , 1.    , 1.    ,\n",
       "       0.6832, 1.    , 1.    , 1.    ])"
      ]
     },
     "execution_count": 50,
     "metadata": {},
     "output_type": "execute_result"
    }
   ],
   "source": [
    "rf.predict(test_input)"
   ]
  },
  {
   "cell_type": "code",
   "execution_count": 51,
   "metadata": {},
   "outputs": [
    {
     "data": {
      "text/plain": [
       "array([[3.188030e+05, 2.061600e+04, 5.600000e+01, 1.278250e+05,\n",
       "        9.740000e+03, 3.730000e+04, 4.245480e+04],\n",
       "       [2.324140e+05, 1.123800e+04, 1.900000e+01, 9.413400e+04,\n",
       "        6.157000e+03, 2.222880e+04, 3.233420e+04],\n",
       "       [4.603040e+05, 1.604000e+04, 6.000000e+01, 1.569280e+05,\n",
       "        1.321400e+04, 1.020785e+05, 5.194880e+04],\n",
       "       [3.331180e+05, 1.594600e+04, 8.600000e+01, 1.247080e+05,\n",
       "        1.022600e+04, 7.109580e+04, 4.835640e+04],\n",
       "       [3.166420e+05, 1.795700e+04, 5.500000e+01, 1.276420e+05,\n",
       "        9.951000e+03, 3.922560e+04, 4.328380e+04],\n",
       "       [4.055610e+05, 1.925000e+04, 5.800000e+01, 1.946060e+05,\n",
       "        1.140600e+04, 7.823530e+04, 9.847400e+03],\n",
       "       [1.976680e+05, 1.274200e+04, 4.700000e+01, 8.405200e+04,\n",
       "        6.105000e+03, 2.207000e+04, 2.261160e+04],\n",
       "       [1.571850e+05, 1.133000e+04, 3.100000e+01, 6.715600e+04,\n",
       "        3.700000e+03, 1.956010e+04, 1.458800e+04],\n",
       "       [3.643640e+05, 1.943800e+04, 8.500000e+01, 1.295830e+05,\n",
       "        9.664000e+03, 6.164280e+04, 4.686160e+04],\n",
       "       [4.223510e+05, 1.852200e+04, 5.900000e+01, 1.608530e+05,\n",
       "        1.182600e+04, 9.215790e+04, 4.675730e+04],\n",
       "       [1.834379e+06, 1.121690e+05, 2.770000e+02, 7.323070e+05,\n",
       "        5.166100e+04, 2.684946e+05, 1.480870e+04],\n",
       "       [2.131880e+05, 1.356300e+04, 4.700000e+01, 8.529000e+04,\n",
       "        5.944000e+03, 2.104460e+04, 2.246210e+04],\n",
       "       [2.202520e+05, 8.351000e+03, 3.100000e+01, 7.541200e+04,\n",
       "        4.866000e+03, 1.920050e+04, 1.941290e+04],\n",
       "       [2.210050e+05, 8.364000e+03, 3.500000e+01, 8.899000e+04,\n",
       "        5.575000e+03, 3.688860e+04, 2.526150e+04],\n",
       "       [4.358690e+05, 2.360900e+04, 6.500000e+01, 1.555900e+05,\n",
       "        1.210700e+04, 7.380480e+04, 4.027460e+04],\n",
       "       [1.726687e+06, 8.300500e+04, 3.890000e+02, 4.506750e+05,\n",
       "        4.459900e+04, 5.255291e+05, 6.003911e+05],\n",
       "       [3.380290e+05, 2.206200e+04, 5.500000e+01, 1.313070e+05,\n",
       "        9.728000e+03, 3.164270e+04, 3.794220e+04],\n",
       "       [2.646620e+05, 1.408700e+04, 5.300000e+01, 1.002600e+05,\n",
       "        7.183000e+03, 2.624240e+04, 1.970010e+04],\n",
       "       [2.292880e+05, 1.272900e+04, 4.500000e+01, 9.605500e+04,\n",
       "        6.342000e+03, 2.308280e+04, 1.804160e+04],\n",
       "       [2.262840e+05, 1.066200e+04, 3.200000e+01, 8.045800e+04,\n",
       "        5.432000e+03, 1.418470e+04, 1.512430e+04],\n",
       "       [2.223520e+05, 1.092900e+04, 3.300000e+01, 7.841400e+04,\n",
       "        5.570000e+03, 1.546490e+04, 1.628540e+04],\n",
       "       [4.199970e+05, 1.682300e+04, 5.900000e+01, 1.908490e+05,\n",
       "        1.216000e+04, 8.293760e+04, 1.030890e+04],\n",
       "       [1.704730e+05, 1.173200e+04, 3.200000e+01, 6.613400e+04,\n",
       "        3.714000e+03, 2.405790e+04, 1.550560e+04],\n",
       "       [2.798170e+05, 1.820000e+04, 4.600000e+01, 1.150560e+05,\n",
       "        8.001000e+03, 2.945110e+04, 1.890710e+04],\n",
       "       [3.453070e+05, 2.231000e+04, 5.500000e+01, 1.297430e+05,\n",
       "        9.675000e+03, 3.558220e+04, 3.965740e+04],\n",
       "       [2.415230e+05, 8.971000e+03, 5.000000e+01, 9.773100e+04,\n",
       "        6.946000e+03, 3.048830e+04, 2.369380e+04],\n",
       "       [2.338750e+05, 1.244100e+04, 4.100000e+01, 9.186200e+04,\n",
       "        6.342000e+03, 2.825960e+04, 2.141990e+04],\n",
       "       [9.534900e+04, 4.781000e+03, 2.200000e+01, 4.009600e+04,\n",
       "        2.744000e+03, 1.663380e+04, 1.186470e+04]])"
      ]
     },
     "execution_count": 51,
     "metadata": {},
     "output_type": "execute_result"
    }
   ],
   "source": [
    "test_input"
   ]
  },
  {
   "cell_type": "code",
   "execution_count": 52,
   "metadata": {},
   "outputs": [
    {
     "data": {
      "text/plain": [
       "array([0.1793])"
      ]
     },
     "execution_count": 52,
     "metadata": {},
     "output_type": "execute_result"
    }
   ],
   "source": [
    "rf.predict([[3.131880e+05, 6.773700e+04, 2.650000e+02, 7.617310e+05,\n",
    "       6.314500e+04, 4.198318e+05, 2.493950e+04]])"
   ]
  },
  {
   "cell_type": "code",
   "execution_count": 53,
   "metadata": {},
   "outputs": [],
   "source": [
    "# # RandomForest\n",
    "# from sklearn.model_selection import cross_validate\n",
    "# from sklearn.ensemble import RandomForestClassifier\n",
    "\n",
    "# rf = RandomForestClassifier(n_jobs=-1, random_state=42) # default:100\n",
    "# scores = cross_validate(rf, train_input, train_target, return_train_score=True, n_jobs=-1) # 크로스밸리데이션 쓰려면 모델부터 만들어놔야한다 # return_train_score=True > 그래야 점수를 알 수 있다.\n",
    "# print(np.mean(scores['train_score']), np.mean(scores['test_score']))"
   ]
  },
  {
   "attachments": {},
   "cell_type": "markdown",
   "metadata": {},
   "source": [
    "----\n",
    "----\n",
    "### KFold를 이용한 방법"
   ]
  },
  {
   "cell_type": "code",
   "execution_count": 54,
   "metadata": {},
   "outputs": [],
   "source": [
    "# from sklearn.model_selection import StratifiedKFold\n",
    "# splitter = StratifiedKFold() # default : 5\n",
    "# scores = cross_validate(dt, train_input, train_target, cv=splitter)\n",
    "# scores"
   ]
  },
  {
   "cell_type": "code",
   "execution_count": 55,
   "metadata": {},
   "outputs": [],
   "source": [
    "# np.mean(scores['test_score'])"
   ]
  },
  {
   "cell_type": "code",
   "execution_count": 56,
   "metadata": {},
   "outputs": [],
   "source": [
    "# # KFold의 Fold 중 10개로 나누어서 교차검증\n",
    "# splitter = StratifiedKFold(n_splits=10, shuffle=True, random_state=42) # default : 5\n",
    "# scores = cross_validate(dt, train_input, train_target, cv=splitter)\n",
    "# scores"
   ]
  },
  {
   "cell_type": "code",
   "execution_count": 57,
   "metadata": {},
   "outputs": [],
   "source": [
    "# np.mean(scores['test_score'])"
   ]
  },
  {
   "attachments": {},
   "cell_type": "markdown",
   "metadata": {},
   "source": [
    "> 0.963 (n_splits=10)"
   ]
  },
  {
   "cell_type": "code",
   "execution_count": null,
   "metadata": {},
   "outputs": [],
   "source": []
  }
 ],
 "metadata": {
  "kernelspec": {
   "display_name": "tensorflow",
   "language": "python",
   "name": "python3"
  },
  "language_info": {
   "codemirror_mode": {
    "name": "ipython",
    "version": 3
   },
   "file_extension": ".py",
   "mimetype": "text/x-python",
   "name": "python",
   "nbconvert_exporter": "python",
   "pygments_lexer": "ipython3",
   "version": "3.9.13"
  },
  "orig_nbformat": 4,
  "vscode": {
   "interpreter": {
    "hash": "d5a7c1c598bcb4d7f5ba8f47a448935a10229aeac84c783bf7ec06f167058a26"
   }
  }
 },
 "nbformat": 4,
 "nbformat_minor": 2
}
