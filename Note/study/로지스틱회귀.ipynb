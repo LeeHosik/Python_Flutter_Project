{
 "cells": [
  {
   "cell_type": "code",
   "execution_count": 15,
   "metadata": {},
   "outputs": [],
   "source": [
    "import pandas as pd\n",
    "import numpy as np\n",
    "import seaborn as sns\n",
    "import matplotlib.pyplot as plt\n",
    "import warnings \n",
    "warnings.filterwarnings(\"ignore\")"
   ]
  },
  {
   "cell_type": "code",
   "execution_count": null,
   "metadata": {},
   "outputs": [
    {
     "data": {
      "text/html": [
       "<div>\n",
       "<style scoped>\n",
       "    .dataframe tbody tr th:only-of-type {\n",
       "        vertical-align: middle;\n",
       "    }\n",
       "\n",
       "    .dataframe tbody tr th {\n",
       "        vertical-align: top;\n",
       "    }\n",
       "\n",
       "    .dataframe thead th {\n",
       "        text-align: right;\n",
       "    }\n",
       "</style>\n",
       "<table border=\"1\" class=\"dataframe\">\n",
       "  <thead>\n",
       "    <tr style=\"text-align: right;\">\n",
       "      <th></th>\n",
       "      <th>시점</th>\n",
       "      <th>시도</th>\n",
       "      <th>총인구</th>\n",
       "      <th>전출인구</th>\n",
       "      <th>출생아수</th>\n",
       "      <th>산부인과의원수</th>\n",
       "      <th>초등학생인원수</th>\n",
       "      <th>도매 및 소매업 신생</th>\n",
       "      <th>예금은행대출금액</th>\n",
       "      <th>예금액</th>\n",
       "      <th>cluster</th>\n",
       "    </tr>\n",
       "  </thead>\n",
       "  <tbody>\n",
       "    <tr>\n",
       "      <th>119</th>\n",
       "      <td>2013</td>\n",
       "      <td>경기도</td>\n",
       "      <td>0.910380</td>\n",
       "      <td>0.917273</td>\n",
       "      <td>0.987845</td>\n",
       "      <td>0.722646</td>\n",
       "      <td>0.960500</td>\n",
       "      <td>0.776750</td>\n",
       "      <td>0.339958</td>\n",
       "      <td>0.013776</td>\n",
       "      <td>0.25</td>\n",
       "    </tr>\n",
       "    <tr>\n",
       "      <th>120</th>\n",
       "      <td>2013</td>\n",
       "      <td>서울특별시</td>\n",
       "      <td>0.753220</td>\n",
       "      <td>0.815367</td>\n",
       "      <td>0.738139</td>\n",
       "      <td>1.000000</td>\n",
       "      <td>0.606175</td>\n",
       "      <td>0.760073</td>\n",
       "      <td>0.635611</td>\n",
       "      <td>0.592332</td>\n",
       "      <td>0.50</td>\n",
       "    </tr>\n",
       "    <tr>\n",
       "      <th>121</th>\n",
       "      <td>2013</td>\n",
       "      <td>부산광역시</td>\n",
       "      <td>0.255958</td>\n",
       "      <td>0.244302</td>\n",
       "      <td>0.219960</td>\n",
       "      <td>0.203562</td>\n",
       "      <td>0.201574</td>\n",
       "      <td>0.214863</td>\n",
       "      <td>0.103605</td>\n",
       "      <td>0.064875</td>\n",
       "      <td>0.75</td>\n",
       "    </tr>\n",
       "    <tr>\n",
       "      <th>122</th>\n",
       "      <td>2013</td>\n",
       "      <td>경상남도</td>\n",
       "      <td>0.241390</td>\n",
       "      <td>0.207586</td>\n",
       "      <td>0.252643</td>\n",
       "      <td>0.160305</td>\n",
       "      <td>0.240051</td>\n",
       "      <td>0.194295</td>\n",
       "      <td>0.075801</td>\n",
       "      <td>0.005956</td>\n",
       "      <td>0.75</td>\n",
       "    </tr>\n",
       "    <tr>\n",
       "      <th>123</th>\n",
       "      <td>2013</td>\n",
       "      <td>인천광역시</td>\n",
       "      <td>0.207265</td>\n",
       "      <td>0.215566</td>\n",
       "      <td>0.217549</td>\n",
       "      <td>0.170483</td>\n",
       "      <td>0.197767</td>\n",
       "      <td>0.176916</td>\n",
       "      <td>0.082833</td>\n",
       "      <td>0.033262</td>\n",
       "      <td>0.75</td>\n",
       "    </tr>\n",
       "    <tr>\n",
       "      <th>124</th>\n",
       "      <td>2013</td>\n",
       "      <td>경상북도</td>\n",
       "      <td>0.193710</td>\n",
       "      <td>0.160416</td>\n",
       "      <td>0.187705</td>\n",
       "      <td>0.139949</td>\n",
       "      <td>0.168028</td>\n",
       "      <td>0.138730</td>\n",
       "      <td>0.035957</td>\n",
       "      <td>0.037772</td>\n",
       "      <td>0.75</td>\n",
       "    </tr>\n",
       "    <tr>\n",
       "      <th>125</th>\n",
       "      <td>2013</td>\n",
       "      <td>대구광역시</td>\n",
       "      <td>0.178840</td>\n",
       "      <td>0.176790</td>\n",
       "      <td>0.162203</td>\n",
       "      <td>0.213740</td>\n",
       "      <td>0.169433</td>\n",
       "      <td>0.152346</td>\n",
       "      <td>0.061002</td>\n",
       "      <td>0.040335</td>\n",
       "      <td>0.75</td>\n",
       "    </tr>\n",
       "    <tr>\n",
       "      <th>126</th>\n",
       "      <td>2013</td>\n",
       "      <td>충청남도</td>\n",
       "      <td>0.144720</td>\n",
       "      <td>0.128457</td>\n",
       "      <td>0.155867</td>\n",
       "      <td>0.114504</td>\n",
       "      <td>0.143087</td>\n",
       "      <td>0.115372</td>\n",
       "      <td>0.033184</td>\n",
       "      <td>0.018502</td>\n",
       "      <td>0.00</td>\n",
       "    </tr>\n",
       "    <tr>\n",
       "      <th>127</th>\n",
       "      <td>2013</td>\n",
       "      <td>전라남도</td>\n",
       "      <td>0.134163</td>\n",
       "      <td>0.117580</td>\n",
       "      <td>0.127153</td>\n",
       "      <td>0.055980</td>\n",
       "      <td>0.120783</td>\n",
       "      <td>0.094549</td>\n",
       "      <td>0.018707</td>\n",
       "      <td>0.025479</td>\n",
       "      <td>0.00</td>\n",
       "    </tr>\n",
       "    <tr>\n",
       "      <th>128</th>\n",
       "      <td>2013</td>\n",
       "      <td>전라북도</td>\n",
       "      <td>0.131592</td>\n",
       "      <td>0.124568</td>\n",
       "      <td>0.119626</td>\n",
       "      <td>0.127226</td>\n",
       "      <td>0.128558</td>\n",
       "      <td>0.103780</td>\n",
       "      <td>0.027867</td>\n",
       "      <td>0.016236</td>\n",
       "      <td>0.00</td>\n",
       "    </tr>\n",
       "    <tr>\n",
       "      <th>129</th>\n",
       "      <td>2013</td>\n",
       "      <td>충청북도</td>\n",
       "      <td>0.109026</td>\n",
       "      <td>0.100428</td>\n",
       "      <td>0.111644</td>\n",
       "      <td>0.119593</td>\n",
       "      <td>0.107218</td>\n",
       "      <td>0.091822</td>\n",
       "      <td>0.020425</td>\n",
       "      <td>0.019279</td>\n",
       "      <td>0.00</td>\n",
       "    </tr>\n",
       "    <tr>\n",
       "      <th>130</th>\n",
       "      <td>2013</td>\n",
       "      <td>강원도</td>\n",
       "      <td>0.106736</td>\n",
       "      <td>0.101479</td>\n",
       "      <td>0.087815</td>\n",
       "      <td>0.081425</td>\n",
       "      <td>0.099779</td>\n",
       "      <td>0.078589</td>\n",
       "      <td>0.014965</td>\n",
       "      <td>0.014253</td>\n",
       "      <td>0.00</td>\n",
       "    </tr>\n",
       "    <tr>\n",
       "      <th>131</th>\n",
       "      <td>2013</td>\n",
       "      <td>대전광역시</td>\n",
       "      <td>0.106026</td>\n",
       "      <td>0.109410</td>\n",
       "      <td>0.115568</td>\n",
       "      <td>0.127226</td>\n",
       "      <td>0.113168</td>\n",
       "      <td>0.100671</td>\n",
       "      <td>0.029611</td>\n",
       "      <td>0.025211</td>\n",
       "      <td>0.00</td>\n",
       "    </tr>\n",
       "    <tr>\n",
       "      <th>132</th>\n",
       "      <td>2013</td>\n",
       "      <td>광주광역시</td>\n",
       "      <td>0.101524</td>\n",
       "      <td>0.108771</td>\n",
       "      <td>0.103378</td>\n",
       "      <td>0.109415</td>\n",
       "      <td>0.116652</td>\n",
       "      <td>0.094325</td>\n",
       "      <td>0.028538</td>\n",
       "      <td>0.018596</td>\n",
       "      <td>0.00</td>\n",
       "    </tr>\n",
       "    <tr>\n",
       "      <th>133</th>\n",
       "      <td>2013</td>\n",
       "      <td>울산광역시</td>\n",
       "      <td>0.077741</td>\n",
       "      <td>0.072153</td>\n",
       "      <td>0.090929</td>\n",
       "      <td>0.073791</td>\n",
       "      <td>0.078759</td>\n",
       "      <td>0.052201</td>\n",
       "      <td>0.023670</td>\n",
       "      <td>0.014746</td>\n",
       "      <td>0.00</td>\n",
       "    </tr>\n",
       "    <tr>\n",
       "      <th>134</th>\n",
       "      <td>2013</td>\n",
       "      <td>제주특별자치도</td>\n",
       "      <td>0.035450</td>\n",
       "      <td>0.033477</td>\n",
       "      <td>0.037523</td>\n",
       "      <td>0.048346</td>\n",
       "      <td>0.040838</td>\n",
       "      <td>0.035189</td>\n",
       "      <td>0.006765</td>\n",
       "      <td>0.000000</td>\n",
       "      <td>0.00</td>\n",
       "    </tr>\n",
       "    <tr>\n",
       "      <th>135</th>\n",
       "      <td>2013</td>\n",
       "      <td>세종특별자치시</td>\n",
       "      <td>0.000000</td>\n",
       "      <td>0.000000</td>\n",
       "      <td>0.000000</td>\n",
       "      <td>0.000000</td>\n",
       "      <td>0.000000</td>\n",
       "      <td>0.000000</td>\n",
       "      <td>0.000000</td>\n",
       "      <td>0.159209</td>\n",
       "      <td>1.00</td>\n",
       "    </tr>\n",
       "  </tbody>\n",
       "</table>\n",
       "</div>"
      ],
      "text/plain": [
       "       시점       시도       총인구      전출인구      출생아수   산부인과의원수   초등학생인원수  \\\n",
       "119  2013      경기도  0.910380  0.917273  0.987845  0.722646  0.960500   \n",
       "120  2013    서울특별시  0.753220  0.815367  0.738139  1.000000  0.606175   \n",
       "121  2013    부산광역시  0.255958  0.244302  0.219960  0.203562  0.201574   \n",
       "122  2013     경상남도  0.241390  0.207586  0.252643  0.160305  0.240051   \n",
       "123  2013    인천광역시  0.207265  0.215566  0.217549  0.170483  0.197767   \n",
       "124  2013     경상북도  0.193710  0.160416  0.187705  0.139949  0.168028   \n",
       "125  2013    대구광역시  0.178840  0.176790  0.162203  0.213740  0.169433   \n",
       "126  2013     충청남도  0.144720  0.128457  0.155867  0.114504  0.143087   \n",
       "127  2013     전라남도  0.134163  0.117580  0.127153  0.055980  0.120783   \n",
       "128  2013     전라북도  0.131592  0.124568  0.119626  0.127226  0.128558   \n",
       "129  2013     충청북도  0.109026  0.100428  0.111644  0.119593  0.107218   \n",
       "130  2013      강원도  0.106736  0.101479  0.087815  0.081425  0.099779   \n",
       "131  2013    대전광역시  0.106026  0.109410  0.115568  0.127226  0.113168   \n",
       "132  2013    광주광역시  0.101524  0.108771  0.103378  0.109415  0.116652   \n",
       "133  2013    울산광역시  0.077741  0.072153  0.090929  0.073791  0.078759   \n",
       "134  2013  제주특별자치도  0.035450  0.033477  0.037523  0.048346  0.040838   \n",
       "135  2013  세종특별자치시  0.000000  0.000000  0.000000  0.000000  0.000000   \n",
       "\n",
       "     도매 및 소매업 신생  예금은행대출금액       예금액  cluster  \n",
       "119     0.776750  0.339958  0.013776     0.25  \n",
       "120     0.760073  0.635611  0.592332     0.50  \n",
       "121     0.214863  0.103605  0.064875     0.75  \n",
       "122     0.194295  0.075801  0.005956     0.75  \n",
       "123     0.176916  0.082833  0.033262     0.75  \n",
       "124     0.138730  0.035957  0.037772     0.75  \n",
       "125     0.152346  0.061002  0.040335     0.75  \n",
       "126     0.115372  0.033184  0.018502     0.00  \n",
       "127     0.094549  0.018707  0.025479     0.00  \n",
       "128     0.103780  0.027867  0.016236     0.00  \n",
       "129     0.091822  0.020425  0.019279     0.00  \n",
       "130     0.078589  0.014965  0.014253     0.00  \n",
       "131     0.100671  0.029611  0.025211     0.00  \n",
       "132     0.094325  0.028538  0.018596     0.00  \n",
       "133     0.052201  0.023670  0.014746     0.00  \n",
       "134     0.035189  0.006765  0.000000     0.00  \n",
       "135     0.000000  0.000000  0.159209     1.00  "
      ]
     },
     "metadata": {},
     "output_type": "display_data"
    }
   ],
   "source": [
    "Integration = pd.read_csv('../../Data/study/03.통합_정규화.csv')\n",
    "Integration.tail(17)\n",
    "# 0.25가 젤 높은 군집이고 0.50이 두번째로 높은 군집 얘네는 별로 위험이 아님.\n",
    "# 0.75가 세번째로 낮은 애들인데 뭐 거의 차이가 없다고 본다.\n",
    "# 0.0 나오는 애들이 두번째로 낮은 애들인데 별 차이없음.\n",
    "# 1 나오는 애들이 제일 낮은 지역임.\n",
    "# 구분을 해보자. 0.25 = \"위험없음\", 0.50 = \"양호\", 0.75 = \"소멸경고\", 0.0 = \"소멸위기\", 1 = 소멸진행(근데 세종만 1임)\n"
   ]
  },
  {
   "cell_type": "code",
   "execution_count": 33,
   "metadata": {},
   "outputs": [],
   "source": [
    "Integration.loc[Integration['cluster'] == 0.25,\"위험지수\"] = '위험없음'\n",
    "Integration.loc[Integration['cluster'] == 0.50,\"위험지수\"] = '양호'\n",
    "Integration.loc[Integration['cluster'] == 0.75,\"위험지수\"] = '소멸경고'\n",
    "Integration.loc[Integration['cluster'] == 0.00,\"위험지수\"] = '소멸위기'\n",
    "Integration.loc[Integration['cluster'] == 1.00,\"위험지수\"] = '소멸진행'"
   ]
  },
  {
   "cell_type": "code",
   "execution_count": 34,
   "metadata": {},
   "outputs": [
    {
     "data": {
      "text/html": [
       "<div>\n",
       "<style scoped>\n",
       "    .dataframe tbody tr th:only-of-type {\n",
       "        vertical-align: middle;\n",
       "    }\n",
       "\n",
       "    .dataframe tbody tr th {\n",
       "        vertical-align: top;\n",
       "    }\n",
       "\n",
       "    .dataframe thead th {\n",
       "        text-align: right;\n",
       "    }\n",
       "</style>\n",
       "<table border=\"1\" class=\"dataframe\">\n",
       "  <thead>\n",
       "    <tr style=\"text-align: right;\">\n",
       "      <th></th>\n",
       "      <th>시점</th>\n",
       "      <th>시도</th>\n",
       "      <th>총인구</th>\n",
       "      <th>전출인구</th>\n",
       "      <th>출생아수</th>\n",
       "      <th>산부인과의원수</th>\n",
       "      <th>초등학생인원수</th>\n",
       "      <th>도매 및 소매업 신생</th>\n",
       "      <th>예금은행대출금액</th>\n",
       "      <th>예금액</th>\n",
       "      <th>cluster</th>\n",
       "      <th>위험지수</th>\n",
       "    </tr>\n",
       "  </thead>\n",
       "  <tbody>\n",
       "    <tr>\n",
       "      <th>0</th>\n",
       "      <td>2020</td>\n",
       "      <td>경기도</td>\n",
       "      <td>1.000000</td>\n",
       "      <td>1.000000</td>\n",
       "      <td>0.681823</td>\n",
       "      <td>0.669211</td>\n",
       "      <td>0.989493</td>\n",
       "      <td>1.000000</td>\n",
       "      <td>0.576734</td>\n",
       "      <td>0.026286</td>\n",
       "      <td>0.25</td>\n",
       "      <td>위험없음</td>\n",
       "    </tr>\n",
       "    <tr>\n",
       "      <th>1</th>\n",
       "      <td>2020</td>\n",
       "      <td>서울특별시</td>\n",
       "      <td>0.717506</td>\n",
       "      <td>0.826711</td>\n",
       "      <td>0.412283</td>\n",
       "      <td>0.974555</td>\n",
       "      <td>0.527691</td>\n",
       "      <td>0.783734</td>\n",
       "      <td>1.000000</td>\n",
       "      <td>1.000000</td>\n",
       "      <td>0.50</td>\n",
       "      <td>양호</td>\n",
       "    </tr>\n",
       "    <tr>\n",
       "      <th>2</th>\n",
       "      <td>2020</td>\n",
       "      <td>부산광역시</td>\n",
       "      <td>0.245759</td>\n",
       "      <td>0.249388</td>\n",
       "      <td>0.124101</td>\n",
       "      <td>0.165394</td>\n",
       "      <td>0.192010</td>\n",
       "      <td>0.223664</td>\n",
       "      <td>0.179294</td>\n",
       "      <td>0.111145</td>\n",
       "      <td>0.75</td>\n",
       "      <td>소멸경고</td>\n",
       "    </tr>\n",
       "    <tr>\n",
       "      <th>3</th>\n",
       "      <td>2020</td>\n",
       "      <td>경상남도</td>\n",
       "      <td>0.241871</td>\n",
       "      <td>0.205622</td>\n",
       "      <td>0.139806</td>\n",
       "      <td>0.145038</td>\n",
       "      <td>0.240947</td>\n",
       "      <td>0.187088</td>\n",
       "      <td>0.111240</td>\n",
       "      <td>0.009975</td>\n",
       "      <td>0.75</td>\n",
       "      <td>소멸경고</td>\n",
       "    </tr>\n",
       "    <tr>\n",
       "      <th>4</th>\n",
       "      <td>2020</td>\n",
       "      <td>인천광역시</td>\n",
       "      <td>0.212003</td>\n",
       "      <td>0.226092</td>\n",
       "      <td>0.132839</td>\n",
       "      <td>0.147583</td>\n",
       "      <td>0.196469</td>\n",
       "      <td>0.203894</td>\n",
       "      <td>0.137688</td>\n",
       "      <td>0.056396</td>\n",
       "      <td>0.75</td>\n",
       "      <td>소멸경고</td>\n",
       "    </tr>\n",
       "    <tr>\n",
       "      <th>...</th>\n",
       "      <td>...</td>\n",
       "      <td>...</td>\n",
       "      <td>...</td>\n",
       "      <td>...</td>\n",
       "      <td>...</td>\n",
       "      <td>...</td>\n",
       "      <td>...</td>\n",
       "      <td>...</td>\n",
       "      <td>...</td>\n",
       "      <td>...</td>\n",
       "      <td>...</td>\n",
       "      <td>...</td>\n",
       "    </tr>\n",
       "    <tr>\n",
       "      <th>131</th>\n",
       "      <td>2013</td>\n",
       "      <td>대전광역시</td>\n",
       "      <td>0.106026</td>\n",
       "      <td>0.109410</td>\n",
       "      <td>0.115568</td>\n",
       "      <td>0.127226</td>\n",
       "      <td>0.113168</td>\n",
       "      <td>0.100671</td>\n",
       "      <td>0.029611</td>\n",
       "      <td>0.025211</td>\n",
       "      <td>0.00</td>\n",
       "      <td>소멸위기</td>\n",
       "    </tr>\n",
       "    <tr>\n",
       "      <th>132</th>\n",
       "      <td>2013</td>\n",
       "      <td>광주광역시</td>\n",
       "      <td>0.101524</td>\n",
       "      <td>0.108771</td>\n",
       "      <td>0.103378</td>\n",
       "      <td>0.109415</td>\n",
       "      <td>0.116652</td>\n",
       "      <td>0.094325</td>\n",
       "      <td>0.028538</td>\n",
       "      <td>0.018596</td>\n",
       "      <td>0.00</td>\n",
       "      <td>소멸위기</td>\n",
       "    </tr>\n",
       "    <tr>\n",
       "      <th>133</th>\n",
       "      <td>2013</td>\n",
       "      <td>울산광역시</td>\n",
       "      <td>0.077741</td>\n",
       "      <td>0.072153</td>\n",
       "      <td>0.090929</td>\n",
       "      <td>0.073791</td>\n",
       "      <td>0.078759</td>\n",
       "      <td>0.052201</td>\n",
       "      <td>0.023670</td>\n",
       "      <td>0.014746</td>\n",
       "      <td>0.00</td>\n",
       "      <td>소멸위기</td>\n",
       "    </tr>\n",
       "    <tr>\n",
       "      <th>134</th>\n",
       "      <td>2013</td>\n",
       "      <td>제주특별자치도</td>\n",
       "      <td>0.035450</td>\n",
       "      <td>0.033477</td>\n",
       "      <td>0.037523</td>\n",
       "      <td>0.048346</td>\n",
       "      <td>0.040838</td>\n",
       "      <td>0.035189</td>\n",
       "      <td>0.006765</td>\n",
       "      <td>0.000000</td>\n",
       "      <td>0.00</td>\n",
       "      <td>소멸위기</td>\n",
       "    </tr>\n",
       "    <tr>\n",
       "      <th>135</th>\n",
       "      <td>2013</td>\n",
       "      <td>세종특별자치시</td>\n",
       "      <td>0.000000</td>\n",
       "      <td>0.000000</td>\n",
       "      <td>0.000000</td>\n",
       "      <td>0.000000</td>\n",
       "      <td>0.000000</td>\n",
       "      <td>0.000000</td>\n",
       "      <td>0.000000</td>\n",
       "      <td>0.159209</td>\n",
       "      <td>1.00</td>\n",
       "      <td>소멸진행</td>\n",
       "    </tr>\n",
       "  </tbody>\n",
       "</table>\n",
       "<p>136 rows × 12 columns</p>\n",
       "</div>"
      ],
      "text/plain": [
       "       시점       시도       총인구      전출인구      출생아수   산부인과의원수   초등학생인원수  \\\n",
       "0    2020      경기도  1.000000  1.000000  0.681823  0.669211  0.989493   \n",
       "1    2020    서울특별시  0.717506  0.826711  0.412283  0.974555  0.527691   \n",
       "2    2020    부산광역시  0.245759  0.249388  0.124101  0.165394  0.192010   \n",
       "3    2020     경상남도  0.241871  0.205622  0.139806  0.145038  0.240947   \n",
       "4    2020    인천광역시  0.212003  0.226092  0.132839  0.147583  0.196469   \n",
       "..    ...      ...       ...       ...       ...       ...       ...   \n",
       "131  2013    대전광역시  0.106026  0.109410  0.115568  0.127226  0.113168   \n",
       "132  2013    광주광역시  0.101524  0.108771  0.103378  0.109415  0.116652   \n",
       "133  2013    울산광역시  0.077741  0.072153  0.090929  0.073791  0.078759   \n",
       "134  2013  제주특별자치도  0.035450  0.033477  0.037523  0.048346  0.040838   \n",
       "135  2013  세종특별자치시  0.000000  0.000000  0.000000  0.000000  0.000000   \n",
       "\n",
       "     도매 및 소매업 신생  예금은행대출금액       예금액  cluster  위험지수  \n",
       "0       1.000000  0.576734  0.026286     0.25  위험없음  \n",
       "1       0.783734  1.000000  1.000000     0.50    양호  \n",
       "2       0.223664  0.179294  0.111145     0.75  소멸경고  \n",
       "3       0.187088  0.111240  0.009975     0.75  소멸경고  \n",
       "4       0.203894  0.137688  0.056396     0.75  소멸경고  \n",
       "..           ...       ...       ...      ...   ...  \n",
       "131     0.100671  0.029611  0.025211     0.00  소멸위기  \n",
       "132     0.094325  0.028538  0.018596     0.00  소멸위기  \n",
       "133     0.052201  0.023670  0.014746     0.00  소멸위기  \n",
       "134     0.035189  0.006765  0.000000     0.00  소멸위기  \n",
       "135     0.000000  0.000000  0.159209     1.00  소멸진행  \n",
       "\n",
       "[136 rows x 12 columns]"
      ]
     },
     "execution_count": 34,
     "metadata": {},
     "output_type": "execute_result"
    }
   ],
   "source": [
    "Integration"
   ]
  },
  {
   "cell_type": "code",
   "execution_count": 35,
   "metadata": {},
   "outputs": [
    {
     "data": {
      "text/plain": [
       "Index(['시점', '시도', '총인구', '전출인구', '출생아수', '산부인과의원수', '초등학생인원수', '도매 및 소매업 신생',\n",
       "       '예금은행대출금액', '예금액', 'cluster', '위험지수'],\n",
       "      dtype='object')"
      ]
     },
     "execution_count": 35,
     "metadata": {},
     "output_type": "execute_result"
    }
   ],
   "source": [
    "Integration.columns"
   ]
  },
  {
   "cell_type": "code",
   "execution_count": 12,
   "metadata": {},
   "outputs": [
    {
     "data": {
      "text/plain": [
       "array([0.25, 0.5 , 0.75, 0.  , 1.  ])"
      ]
     },
     "execution_count": 12,
     "metadata": {},
     "output_type": "execute_result"
    }
   ],
   "source": [
    "Integration.cluster.unique()\n",
    "# 1 소멸진행, 0.75 소멸위기, 0.5 소멸위기 0.25 소멸양호 0 소멸무관"
   ]
  },
  {
   "cell_type": "code",
   "execution_count": 4,
   "metadata": {},
   "outputs": [
    {
     "data": {
      "text/plain": [
       "array([[1.        , 1.        , 0.68182304, 0.6692112 , 0.98949327,\n",
       "        1.        , 0.57673416, 0.02628575],\n",
       "       [0.71750558, 0.82671082, 0.41228289, 0.97455471, 0.52769146,\n",
       "        0.7837338 , 1.        , 1.        ],\n",
       "       [0.24575928, 0.24938779, 0.1241013 , 0.1653944 , 0.19200974,\n",
       "        0.22366428, 0.17929408, 0.11114458],\n",
       "       [0.24187122, 0.20562189, 0.13980638, 0.14503817, 0.24094675,\n",
       "        0.18708844, 0.1112403 , 0.00997535],\n",
       "       [0.21200334, 0.22609175, 0.13283919, 0.1475827 , 0.19646917,\n",
       "        0.20389356, 0.13768769, 0.05639608]])"
      ]
     },
     "execution_count": 4,
     "metadata": {},
     "output_type": "execute_result"
    }
   ],
   "source": [
    "# Feature\n",
    "fish_input = Integration[['총인구', '전출인구', '출생아수', '산부인과의원수', '초등학생인원수', '도매 및 소매업 신생',\n",
    "       '예금은행대출금액', '예금액']].to_numpy()\n",
    "fish_input[:5]"
   ]
  },
  {
   "cell_type": "code",
   "execution_count": 36,
   "metadata": {},
   "outputs": [
    {
     "data": {
      "text/plain": [
       "array(['위험없음', '양호', '소멸경고', '소멸경고', '소멸경고', '소멸경고', '소멸경고', '소멸위기',\n",
       "       '소멸위기', '소멸위기', '소멸위기', '소멸위기', '소멸위기', '소멸위기', '소멸위기', '소멸위기',\n",
       "       '소멸진행', '위험없음', '양호', '소멸경고', '소멸경고', '소멸경고', '소멸경고', '소멸경고',\n",
       "       '소멸위기', '소멸위기', '소멸위기', '소멸위기', '소멸위기', '소멸위기', '소멸위기', '소멸위기',\n",
       "       '소멸위기', '소멸진행', '위험없음', '양호', '소멸경고', '소멸경고', '소멸경고', '소멸경고',\n",
       "       '소멸경고', '소멸위기', '소멸위기', '소멸위기', '소멸위기', '소멸위기', '소멸위기', '소멸위기',\n",
       "       '소멸위기', '소멸위기', '소멸진행', '위험없음', '양호', '소멸경고', '소멸경고', '소멸경고',\n",
       "       '소멸경고', '소멸경고', '소멸위기', '소멸위기', '소멸위기', '소멸위기', '소멸위기', '소멸위기',\n",
       "       '소멸위기', '소멸위기', '소멸위기', '소멸진행', '위험없음', '양호', '소멸경고', '소멸경고',\n",
       "       '소멸경고', '소멸경고', '소멸경고', '소멸위기', '소멸위기', '소멸위기', '소멸위기', '소멸위기',\n",
       "       '소멸위기', '소멸위기', '소멸위기', '소멸위기', '소멸진행', '위험없음', '양호', '소멸경고',\n",
       "       '소멸경고', '소멸경고', '소멸경고', '소멸경고', '소멸위기', '소멸위기', '소멸위기', '소멸위기',\n",
       "       '소멸위기', '소멸위기', '소멸위기', '소멸위기', '소멸위기', '소멸진행', '위험없음', '양호',\n",
       "       '소멸경고', '소멸경고', '소멸경고', '소멸경고', '소멸경고', '소멸위기', '소멸위기', '소멸위기',\n",
       "       '소멸위기', '소멸위기', '소멸위기', '소멸위기', '소멸위기', '소멸위기', '소멸진행', '위험없음',\n",
       "       '양호', '소멸경고', '소멸경고', '소멸경고', '소멸경고', '소멸경고', '소멸위기', '소멸위기',\n",
       "       '소멸위기', '소멸위기', '소멸위기', '소멸위기', '소멸위기', '소멸위기', '소멸위기', '소멸진행'],\n",
       "      dtype=object)"
      ]
     },
     "execution_count": 36,
     "metadata": {},
     "output_type": "execute_result"
    }
   ],
   "source": [
    "# Target\n",
    "fish_target = Integration['위험지수'].to_numpy()\n",
    "fish_target"
   ]
  },
  {
   "cell_type": "markdown",
   "metadata": {},
   "source": [
    "> test train 분리"
   ]
  },
  {
   "cell_type": "code",
   "execution_count": 37,
   "metadata": {},
   "outputs": [],
   "source": [
    "from sklearn.model_selection import train_test_split\n",
    "train_input, test_input, train_target, test_target =\\\n",
    "    train_test_split(fish_input,fish_target,random_state=42)"
   ]
  },
  {
   "cell_type": "markdown",
   "metadata": {},
   "source": [
    "> 표준화"
   ]
  },
  {
   "cell_type": "code",
   "execution_count": 38,
   "metadata": {},
   "outputs": [],
   "source": [
    "from sklearn.preprocessing import StandardScaler\n",
    "ss = StandardScaler()\n",
    "ss.fit(train_input)\n",
    "train_scaled = ss.transform(train_input)\n",
    "test_scaled = ss.transform(test_input)"
   ]
  },
  {
   "cell_type": "markdown",
   "metadata": {},
   "source": [
    "---\n",
    "### 로지스틱 회귀로 다중 분류 수행하기"
   ]
  },
  {
   "cell_type": "code",
   "execution_count": 39,
   "metadata": {},
   "outputs": [
    {
     "name": "stdout",
     "output_type": "stream",
     "text": [
      "Train : 1.0\n",
      "Test : 1.0\n"
     ]
    }
   ],
   "source": [
    "# 로지스틱 회귀 실행하기\n",
    "from sklearn.linear_model import LogisticRegression\n",
    "\n",
    "lr=LogisticRegression()\n",
    "\n",
    "lr = LogisticRegression(C=20, max_iter=1000)\n",
    "lr.fit(train_scaled,train_target)\n",
    "print(\"Train :\", lr.score(train_scaled,train_target))\n",
    "print(\"Test :\", lr.score(test_scaled,test_target))"
   ]
  },
  {
   "cell_type": "code",
   "execution_count": 40,
   "metadata": {},
   "outputs": [
    {
     "data": {
      "text/plain": [
       "array(['소멸경고', '소멸위기', '소멸위기', '소멸위기', '소멸위기'], dtype=object)"
      ]
     },
     "execution_count": 40,
     "metadata": {},
     "output_type": "execute_result"
    }
   ],
   "source": [
    "# test data로 예측\n",
    "lr.predict(test_scaled[:5])"
   ]
  },
  {
   "cell_type": "code",
   "execution_count": 41,
   "metadata": {},
   "outputs": [
    {
     "data": {
      "text/plain": [
       "array([[0.891, 0.106, 0.002, 0.   , 0.   ],\n",
       "       [0.002, 0.996, 0.003, 0.   , 0.   ],\n",
       "       [0.029, 0.968, 0.004, 0.   , 0.   ],\n",
       "       [0.008, 0.986, 0.006, 0.   , 0.   ],\n",
       "       [0.04 , 0.958, 0.002, 0.   , 0.   ]])"
      ]
     },
     "execution_count": 41,
     "metadata": {},
     "output_type": "execute_result"
    }
   ],
   "source": [
    "# test data로 확률\n",
    "proba = lr.predict_proba(test_scaled[:5])\n",
    "np.round(proba, decimals=3)"
   ]
  },
  {
   "cell_type": "code",
   "execution_count": 42,
   "metadata": {},
   "outputs": [
    {
     "data": {
      "text/plain": [
       "array(['소멸경고', '소멸위기', '소멸진행', '양호', '위험없음'], dtype=object)"
      ]
     },
     "execution_count": 42,
     "metadata": {},
     "output_type": "execute_result"
    }
   ],
   "source": [
    "lr.classes_"
   ]
  },
  {
   "cell_type": "code",
   "execution_count": 43,
   "metadata": {},
   "outputs": [
    {
     "name": "stdout",
     "output_type": "stream",
     "text": [
      "[[ 2.97977446  0.87110328  0.65271374  1.64312495  0.65833326  0.90367854\n",
      "  -0.12220532  0.98189876]\n",
      " [-3.70572964 -1.94483607 -1.80063909 -2.89258705 -1.39835992 -1.99445755\n",
      "  -1.74252606 -6.39249425]\n",
      " [-2.34888953 -2.08614815 -2.00956359 -1.91117829 -2.3132508  -2.03361426\n",
      "  -0.92700066  3.63269787]\n",
      " [ 1.17372345  1.37133962  1.30173736  1.93485125  0.8860586   1.38368025\n",
      "   1.78763189  2.11240629]\n",
      " [ 1.90112126  1.78854133  1.85575157  1.22578915  2.16721885  1.74071302\n",
      "   1.00410016 -0.33450868]] [ 6.02891746 -1.27705913 -2.89092024 -0.69373879 -1.1671993 ]\n"
     ]
    }
   ],
   "source": [
    "# 사용된 다중 공식 확인\n",
    "print(lr.coef_, lr.intercept_)"
   ]
  },
  {
   "cell_type": "markdown",
   "metadata": {},
   "source": [
    "---\n",
    "### 확률 분포 검증"
   ]
  },
  {
   "cell_type": "code",
   "execution_count": 44,
   "metadata": {},
   "outputs": [
    {
     "data": {
      "text/plain": [
       "array([[ 4.75,  2.62, -1.29, -3.  , -3.08],\n",
       "       [ 2.01,  8.49,  2.59, -6.26, -6.82],\n",
       "       [ 3.  ,  6.52,  0.95, -5.04, -5.44],\n",
       "       [ 2.46,  7.26,  2.13, -5.74, -6.11],\n",
       "       [ 3.17,  6.35,  0.37, -4.87, -5.02]])"
      ]
     },
     "execution_count": 44,
     "metadata": {},
     "output_type": "execute_result"
    }
   ],
   "source": [
    "decisions = lr.decision_function(test_scaled[:5])\n",
    "np.round(decisions, decimals=2)"
   ]
  },
  {
   "cell_type": "code",
   "execution_count": 45,
   "metadata": {},
   "outputs": [
    {
     "data": {
      "text/plain": [
       "array([[0.891, 0.106, 0.002, 0.   , 0.   ],\n",
       "       [0.002, 0.996, 0.003, 0.   , 0.   ],\n",
       "       [0.029, 0.968, 0.004, 0.   , 0.   ],\n",
       "       [0.008, 0.986, 0.006, 0.   , 0.   ],\n",
       "       [0.04 , 0.958, 0.002, 0.   , 0.   ]])"
      ]
     },
     "execution_count": 45,
     "metadata": {},
     "output_type": "execute_result"
    }
   ],
   "source": [
    "from scipy.special import softmax\n",
    "proba = softmax(decisions, axis=1)\n",
    "np.round(proba, decimals=3)"
   ]
  },
  {
   "cell_type": "code",
   "execution_count": 46,
   "metadata": {},
   "outputs": [
    {
     "data": {
      "text/plain": [
       "array(['소멸경고', '소멸위기', '소멸진행', '양호', '위험없음'], dtype=object)"
      ]
     },
     "execution_count": 46,
     "metadata": {},
     "output_type": "execute_result"
    }
   ],
   "source": [
    "lr.classes_"
   ]
  }
 ],
 "metadata": {
  "kernelspec": {
   "display_name": "base",
   "language": "python",
   "name": "python3"
  },
  "language_info": {
   "codemirror_mode": {
    "name": "ipython",
    "version": 3
   },
   "file_extension": ".py",
   "mimetype": "text/x-python",
   "name": "python",
   "nbconvert_exporter": "python",
   "pygments_lexer": "ipython3",
   "version": "3.9.13"
  },
  "orig_nbformat": 4,
  "vscode": {
   "interpreter": {
    "hash": "01c2e2d01246ea3517e233fec8a7192217ea27d087a880db69e45b95a8a64784"
   }
  }
 },
 "nbformat": 4,
 "nbformat_minor": 2
}
