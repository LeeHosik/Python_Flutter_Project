{
 "cells": [
  {
   "cell_type": "code",
   "execution_count": 1,
   "metadata": {},
   "outputs": [],
   "source": [
    "import pandas as pd\n",
    "import numpy as np"
   ]
  },
  {
   "cell_type": "code",
   "execution_count": 2,
   "metadata": {},
   "outputs": [
    {
     "data": {
      "text/html": [
       "<div>\n",
       "<style scoped>\n",
       "    .dataframe tbody tr th:only-of-type {\n",
       "        vertical-align: middle;\n",
       "    }\n",
       "\n",
       "    .dataframe tbody tr th {\n",
       "        vertical-align: top;\n",
       "    }\n",
       "\n",
       "    .dataframe thead th {\n",
       "        text-align: right;\n",
       "    }\n",
       "</style>\n",
       "<table border=\"1\" class=\"dataframe\">\n",
       "  <thead>\n",
       "    <tr style=\"text-align: right;\">\n",
       "      <th></th>\n",
       "      <th>지역</th>\n",
       "      <th>2011</th>\n",
       "      <th>2012</th>\n",
       "      <th>2013</th>\n",
       "      <th>2014</th>\n",
       "      <th>2015</th>\n",
       "      <th>2016</th>\n",
       "      <th>2017</th>\n",
       "      <th>2018</th>\n",
       "      <th>2019</th>\n",
       "      <th>2020</th>\n",
       "    </tr>\n",
       "  </thead>\n",
       "  <tbody>\n",
       "    <tr>\n",
       "      <th>0</th>\n",
       "      <td>지역</td>\n",
       "      <td>도서관 수(관)</td>\n",
       "      <td>도서관 수(관)</td>\n",
       "      <td>도서관 수(관)</td>\n",
       "      <td>도서관 수(관)</td>\n",
       "      <td>도서관 수(관)</td>\n",
       "      <td>도서관 수(관)</td>\n",
       "      <td>도서관 수(관)</td>\n",
       "      <td>도서관 수(관)</td>\n",
       "      <td>도서관 수(관)</td>\n",
       "      <td>도서관 수(관)</td>\n",
       "    </tr>\n",
       "    <tr>\n",
       "      <th>1</th>\n",
       "      <td>전국</td>\n",
       "      <td>786</td>\n",
       "      <td>828</td>\n",
       "      <td>865</td>\n",
       "      <td>930</td>\n",
       "      <td>978</td>\n",
       "      <td>1010</td>\n",
       "      <td>1042</td>\n",
       "      <td>1096</td>\n",
       "      <td>1134</td>\n",
       "      <td>1172</td>\n",
       "    </tr>\n",
       "    <tr>\n",
       "      <th>2</th>\n",
       "      <td>서울</td>\n",
       "      <td>109</td>\n",
       "      <td>116</td>\n",
       "      <td>123</td>\n",
       "      <td>132</td>\n",
       "      <td>146</td>\n",
       "      <td>147</td>\n",
       "      <td>160</td>\n",
       "      <td>173</td>\n",
       "      <td>180</td>\n",
       "      <td>188</td>\n",
       "    </tr>\n",
       "    <tr>\n",
       "      <th>3</th>\n",
       "      <td>부산</td>\n",
       "      <td>31</td>\n",
       "      <td>31</td>\n",
       "      <td>31</td>\n",
       "      <td>32</td>\n",
       "      <td>36</td>\n",
       "      <td>40</td>\n",
       "      <td>40</td>\n",
       "      <td>43</td>\n",
       "      <td>44</td>\n",
       "      <td>47</td>\n",
       "    </tr>\n",
       "    <tr>\n",
       "      <th>4</th>\n",
       "      <td>대구</td>\n",
       "      <td>27</td>\n",
       "      <td>27</td>\n",
       "      <td>28</td>\n",
       "      <td>30</td>\n",
       "      <td>33</td>\n",
       "      <td>35</td>\n",
       "      <td>36</td>\n",
       "      <td>41</td>\n",
       "      <td>43</td>\n",
       "      <td>44</td>\n",
       "    </tr>\n",
       "  </tbody>\n",
       "</table>\n",
       "</div>"
      ],
      "text/plain": [
       "   지역      2011      2012      2013      2014      2015      2016      2017  \\\n",
       "0  지역  도서관 수(관)  도서관 수(관)  도서관 수(관)  도서관 수(관)  도서관 수(관)  도서관 수(관)  도서관 수(관)   \n",
       "1  전국       786       828       865       930       978      1010      1042   \n",
       "2  서울       109       116       123       132       146       147       160   \n",
       "3  부산        31        31        31        32        36        40        40   \n",
       "4  대구        27        27        28        30        33        35        36   \n",
       "\n",
       "       2018      2019      2020  \n",
       "0  도서관 수(관)  도서관 수(관)  도서관 수(관)  \n",
       "1      1096      1134      1172  \n",
       "2       173       180       188  \n",
       "3        43        44        47  \n",
       "4        41        43        44  "
      ]
     },
     "execution_count": 2,
     "metadata": {},
     "output_type": "execute_result"
    }
   ],
   "source": [
    "df = pd.read_csv(\"../../Data/sangwonKim/도서관_현황_시도__20230207.csv\", encoding='euc-kr')\n",
    "df.head()"
   ]
  },
  {
   "cell_type": "code",
   "execution_count": null,
   "metadata": {},
   "outputs": [],
   "source": []
  }
 ],
 "metadata": {
  "kernelspec": {
   "display_name": "tensorflow",
   "language": "python",
   "name": "python3"
  },
  "language_info": {
   "codemirror_mode": {
    "name": "ipython",
    "version": 3
   },
   "file_extension": ".py",
   "mimetype": "text/x-python",
   "name": "python",
   "nbconvert_exporter": "python",
   "pygments_lexer": "ipython3",
   "version": "3.9.13"
  },
  "orig_nbformat": 4,
  "vscode": {
   "interpreter": {
    "hash": "a2b29f868d451986a4c0647d0e54b13b8f75acf913aadb998b05a67dca428959"
   }
  }
 },
 "nbformat": 4,
 "nbformat_minor": 2
}
